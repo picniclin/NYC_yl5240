{
 "cells": [
  {
   "cell_type": "code",
   "execution_count": 1,
   "metadata": {
    "collapsed": true
   },
   "outputs": [],
   "source": [
    "import pandas as pd\n",
    "import numpy as np\n",
    "import matplotlib.pylab as plt\n",
    "%matplotlib inline\n",
    "import statsmodels.formula.api as smf\n",
    "from sklearn import linear_model"
   ]
  },
  {
   "cell_type": "markdown",
   "metadata": {},
   "source": [
    "### Use the clean dataset civic_census.csv, uploaded on  https://github.com/picniclin/NYC_yl5240/blob/master/data/civic_census.csv\n",
    "\n",
    "#### Data source is from Geolytics: Neighborhood Change Database ([NACD](http://demographics.geolytics.com/ncdb2010/default.aspx))\n",
    "the dataset geolytics_nyc_census_1990_2010.csv has been uploaded on:\n",
    "https://github.com/picniclin/NYC_yl5240/blob/master/data/geolytics_nyc_census_1990_2010.csv\n",
    "\n",
    "#### Two dataset output of this notebook:\n",
    "- normized dataset: civic_census_normed.csv, 2077 rows, having dropped rows with 0 values in the 2168 tracts\n",
    "- normized and no-outliers dataset: civic_census_normed_dropoutliers.csv, 1770rows"
   ]
  },
  {
   "cell_type": "code",
   "execution_count": null,
   "metadata": {
    "collapsed": true
   },
   "outputs": [],
   "source": []
  },
  {
   "cell_type": "code",
   "execution_count": 2,
   "metadata": {
    "collapsed": true
   },
   "outputs": [],
   "source": [
    "df_census = pd.read_csv('civic_census.csv')"
   ]
  },
  {
   "cell_type": "code",
   "execution_count": 3,
   "metadata": {
    "collapsed": false
   },
   "outputs": [],
   "source": [
    "df_census.drop(['Unnamed: 0'], axis = 1, inplace = True)"
   ]
  },
  {
   "cell_type": "code",
   "execution_count": 4,
   "metadata": {
    "collapsed": false
   },
   "outputs": [
    {
     "data": {
      "text/html": [
       "<div>\n",
       "<table border=\"1\" class=\"dataframe\">\n",
       "  <thead>\n",
       "    <tr style=\"text-align: right;\">\n",
       "      <th></th>\n",
       "      <th>tract</th>\n",
       "      <th>entropy_index_9</th>\n",
       "      <th>entropy_index_0</th>\n",
       "      <th>entropy_index_1</th>\n",
       "      <th>inc_9</th>\n",
       "      <th>rent_9</th>\n",
       "      <th>inc_0</th>\n",
       "      <th>rent_0</th>\n",
       "      <th>inc_1</th>\n",
       "      <th>rent_1</th>\n",
       "      <th>r_units_9</th>\n",
       "      <th>r_units_0</th>\n",
       "      <th>r_units_1</th>\n",
       "      <th>ratio_rent_inc_9</th>\n",
       "      <th>ratio_rent_inc_0</th>\n",
       "      <th>ratio_rent_inc_1</th>\n",
       "    </tr>\n",
       "  </thead>\n",
       "  <tbody>\n",
       "    <tr>\n",
       "      <th>0</th>\n",
       "      <td>36005000200</td>\n",
       "      <td>0.867149</td>\n",
       "      <td>0.857971</td>\n",
       "      <td>0.921479</td>\n",
       "      <td>38711</td>\n",
       "      <td>742</td>\n",
       "      <td>50817</td>\n",
       "      <td>730</td>\n",
       "      <td>58368</td>\n",
       "      <td>1273</td>\n",
       "      <td>384</td>\n",
       "      <td>421</td>\n",
       "      <td>635</td>\n",
       "      <td>0.230012</td>\n",
       "      <td>0.172383</td>\n",
       "      <td>0.261719</td>\n",
       "    </tr>\n",
       "    <tr>\n",
       "      <th>1</th>\n",
       "      <td>36005000400</td>\n",
       "      <td>0.919819</td>\n",
       "      <td>0.923299</td>\n",
       "      <td>0.943208</td>\n",
       "      <td>40484</td>\n",
       "      <td>535</td>\n",
       "      <td>41019</td>\n",
       "      <td>643</td>\n",
       "      <td>73148</td>\n",
       "      <td>1330</td>\n",
       "      <td>214</td>\n",
       "      <td>486</td>\n",
       "      <td>615</td>\n",
       "      <td>0.158581</td>\n",
       "      <td>0.188108</td>\n",
       "      <td>0.218188</td>\n",
       "    </tr>\n",
       "    <tr>\n",
       "      <th>2</th>\n",
       "      <td>36005001600</td>\n",
       "      <td>0.908063</td>\n",
       "      <td>0.925875</td>\n",
       "      <td>0.862742</td>\n",
       "      <td>24732</td>\n",
       "      <td>466</td>\n",
       "      <td>30104</td>\n",
       "      <td>558</td>\n",
       "      <td>33555</td>\n",
       "      <td>823</td>\n",
       "      <td>1462</td>\n",
       "      <td>1517</td>\n",
       "      <td>1617</td>\n",
       "      <td>0.226104</td>\n",
       "      <td>0.222429</td>\n",
       "      <td>0.294323</td>\n",
       "    </tr>\n",
       "    <tr>\n",
       "      <th>3</th>\n",
       "      <td>36005001900</td>\n",
       "      <td>0.652853</td>\n",
       "      <td>0.830158</td>\n",
       "      <td>0.672415</td>\n",
       "      <td>24823</td>\n",
       "      <td>422</td>\n",
       "      <td>23671</td>\n",
       "      <td>461</td>\n",
       "      <td>25489</td>\n",
       "      <td>870</td>\n",
       "      <td>357</td>\n",
       "      <td>336</td>\n",
       "      <td>505</td>\n",
       "      <td>0.204004</td>\n",
       "      <td>0.233704</td>\n",
       "      <td>0.409588</td>\n",
       "    </tr>\n",
       "    <tr>\n",
       "      <th>4</th>\n",
       "      <td>36005002000</td>\n",
       "      <td>0.814774</td>\n",
       "      <td>0.779722</td>\n",
       "      <td>0.804094</td>\n",
       "      <td>18762</td>\n",
       "      <td>298</td>\n",
       "      <td>19694</td>\n",
       "      <td>266</td>\n",
       "      <td>30817</td>\n",
       "      <td>455</td>\n",
       "      <td>2570</td>\n",
       "      <td>2601</td>\n",
       "      <td>2618</td>\n",
       "      <td>0.190598</td>\n",
       "      <td>0.162080</td>\n",
       "      <td>0.177175</td>\n",
       "    </tr>\n",
       "  </tbody>\n",
       "</table>\n",
       "</div>"
      ],
      "text/plain": [
       "         tract  entropy_index_9  entropy_index_0  entropy_index_1  inc_9  \\\n",
       "0  36005000200         0.867149         0.857971         0.921479  38711   \n",
       "1  36005000400         0.919819         0.923299         0.943208  40484   \n",
       "2  36005001600         0.908063         0.925875         0.862742  24732   \n",
       "3  36005001900         0.652853         0.830158         0.672415  24823   \n",
       "4  36005002000         0.814774         0.779722         0.804094  18762   \n",
       "\n",
       "   rent_9  inc_0  rent_0  inc_1  rent_1  r_units_9  r_units_0  r_units_1  \\\n",
       "0     742  50817     730  58368    1273        384        421        635   \n",
       "1     535  41019     643  73148    1330        214        486        615   \n",
       "2     466  30104     558  33555     823       1462       1517       1617   \n",
       "3     422  23671     461  25489     870        357        336        505   \n",
       "4     298  19694     266  30817     455       2570       2601       2618   \n",
       "\n",
       "   ratio_rent_inc_9  ratio_rent_inc_0  ratio_rent_inc_1  \n",
       "0          0.230012          0.172383          0.261719  \n",
       "1          0.158581          0.188108          0.218188  \n",
       "2          0.226104          0.222429          0.294323  \n",
       "3          0.204004          0.233704          0.409588  \n",
       "4          0.190598          0.162080          0.177175  "
      ]
     },
     "execution_count": 4,
     "metadata": {},
     "output_type": "execute_result"
    }
   ],
   "source": [
    "df_census.head()"
   ]
  },
  {
   "cell_type": "code",
   "execution_count": 5,
   "metadata": {
    "collapsed": false
   },
   "outputs": [
    {
     "data": {
      "text/plain": [
       "(2077, 16)"
      ]
     },
     "execution_count": 5,
     "metadata": {},
     "output_type": "execute_result"
    }
   ],
   "source": [
    "df_census.shape"
   ]
  },
  {
   "cell_type": "code",
   "execution_count": 6,
   "metadata": {
    "collapsed": false,
    "scrolled": true
   },
   "outputs": [
    {
     "data": {
      "text/html": [
       "<div>\n",
       "<table border=\"1\" class=\"dataframe\">\n",
       "  <thead>\n",
       "    <tr style=\"text-align: right;\">\n",
       "      <th></th>\n",
       "      <th>tract</th>\n",
       "      <th>entropy_index_9</th>\n",
       "      <th>entropy_index_0</th>\n",
       "      <th>entropy_index_1</th>\n",
       "      <th>inc_9</th>\n",
       "      <th>rent_9</th>\n",
       "      <th>inc_0</th>\n",
       "      <th>rent_0</th>\n",
       "      <th>inc_1</th>\n",
       "      <th>rent_1</th>\n",
       "      <th>r_units_9</th>\n",
       "      <th>r_units_0</th>\n",
       "      <th>r_units_1</th>\n",
       "      <th>ratio_rent_inc_9</th>\n",
       "      <th>ratio_rent_inc_0</th>\n",
       "      <th>ratio_rent_inc_1</th>\n",
       "    </tr>\n",
       "  </thead>\n",
       "  <tbody>\n",
       "    <tr>\n",
       "      <th>count</th>\n",
       "      <td>2.077000e+03</td>\n",
       "      <td>2077.000000</td>\n",
       "      <td>2077.000000</td>\n",
       "      <td>2077.000000</td>\n",
       "      <td>2077.000000</td>\n",
       "      <td>2077.000000</td>\n",
       "      <td>2077.000000</td>\n",
       "      <td>2077.000000</td>\n",
       "      <td>2077.000000</td>\n",
       "      <td>2077.000000</td>\n",
       "      <td>2077.000000</td>\n",
       "      <td>2077.000000</td>\n",
       "      <td>2077.000000</td>\n",
       "      <td>2077.000000</td>\n",
       "      <td>2077.000000</td>\n",
       "      <td>2077.000000</td>\n",
       "    </tr>\n",
       "    <tr>\n",
       "      <th>mean</th>\n",
       "      <td>3.605455e+10</td>\n",
       "      <td>0.813956</td>\n",
       "      <td>0.807262</td>\n",
       "      <td>0.838069</td>\n",
       "      <td>37733.340876</td>\n",
       "      <td>543.203659</td>\n",
       "      <td>48685.029851</td>\n",
       "      <td>751.435243</td>\n",
       "      <td>65962.064516</td>\n",
       "      <td>1148.824747</td>\n",
       "      <td>962.096774</td>\n",
       "      <td>1008.557535</td>\n",
       "      <td>1028.034184</td>\n",
       "      <td>0.198790</td>\n",
       "      <td>0.214137</td>\n",
       "      <td>0.249021</td>\n",
       "    </tr>\n",
       "    <tr>\n",
       "      <th>std</th>\n",
       "      <td>2.595959e+07</td>\n",
       "      <td>0.123108</td>\n",
       "      <td>0.131038</td>\n",
       "      <td>0.136805</td>\n",
       "      <td>18724.271851</td>\n",
       "      <td>148.592375</td>\n",
       "      <td>28336.768464</td>\n",
       "      <td>226.933084</td>\n",
       "      <td>39445.601512</td>\n",
       "      <td>327.845257</td>\n",
       "      <td>899.818493</td>\n",
       "      <td>870.506315</td>\n",
       "      <td>840.615093</td>\n",
       "      <td>0.075942</td>\n",
       "      <td>0.071700</td>\n",
       "      <td>0.100420</td>\n",
       "    </tr>\n",
       "    <tr>\n",
       "      <th>min</th>\n",
       "      <td>3.600500e+10</td>\n",
       "      <td>0.194083</td>\n",
       "      <td>0.183020</td>\n",
       "      <td>0.173982</td>\n",
       "      <td>4999.000000</td>\n",
       "      <td>171.000000</td>\n",
       "      <td>9893.000000</td>\n",
       "      <td>195.000000</td>\n",
       "      <td>8542.000000</td>\n",
       "      <td>231.000000</td>\n",
       "      <td>4.000000</td>\n",
       "      <td>9.000000</td>\n",
       "      <td>32.000000</td>\n",
       "      <td>0.067760</td>\n",
       "      <td>0.047473</td>\n",
       "      <td>0.042308</td>\n",
       "    </tr>\n",
       "    <tr>\n",
       "      <th>25%</th>\n",
       "      <td>3.604702e+10</td>\n",
       "      <td>0.755000</td>\n",
       "      <td>0.756307</td>\n",
       "      <td>0.786185</td>\n",
       "      <td>25089.000000</td>\n",
       "      <td>453.000000</td>\n",
       "      <td>30720.000000</td>\n",
       "      <td>644.000000</td>\n",
       "      <td>40031.000000</td>\n",
       "      <td>964.000000</td>\n",
       "      <td>357.000000</td>\n",
       "      <td>412.000000</td>\n",
       "      <td>431.000000</td>\n",
       "      <td>0.150818</td>\n",
       "      <td>0.164954</td>\n",
       "      <td>0.181927</td>\n",
       "    </tr>\n",
       "    <tr>\n",
       "      <th>50%</th>\n",
       "      <td>3.604712e+10</td>\n",
       "      <td>0.848471</td>\n",
       "      <td>0.846033</td>\n",
       "      <td>0.879284</td>\n",
       "      <td>36221.000000</td>\n",
       "      <td>531.000000</td>\n",
       "      <td>42483.000000</td>\n",
       "      <td>740.000000</td>\n",
       "      <td>56667.000000</td>\n",
       "      <td>1120.000000</td>\n",
       "      <td>718.000000</td>\n",
       "      <td>788.000000</td>\n",
       "      <td>822.000000</td>\n",
       "      <td>0.183669</td>\n",
       "      <td>0.204236</td>\n",
       "      <td>0.235487</td>\n",
       "    </tr>\n",
       "    <tr>\n",
       "      <th>75%</th>\n",
       "      <td>3.608103e+10</td>\n",
       "      <td>0.904543</td>\n",
       "      <td>0.896749</td>\n",
       "      <td>0.935426</td>\n",
       "      <td>46843.000000</td>\n",
       "      <td>628.000000</td>\n",
       "      <td>58833.000000</td>\n",
       "      <td>833.000000</td>\n",
       "      <td>80016.000000</td>\n",
       "      <td>1305.000000</td>\n",
       "      <td>1269.000000</td>\n",
       "      <td>1321.000000</td>\n",
       "      <td>1350.000000</td>\n",
       "      <td>0.226971</td>\n",
       "      <td>0.253867</td>\n",
       "      <td>0.300615</td>\n",
       "    </tr>\n",
       "    <tr>\n",
       "      <th>max</th>\n",
       "      <td>3.608503e+10</td>\n",
       "      <td>0.982500</td>\n",
       "      <td>0.980721</td>\n",
       "      <td>0.998777</td>\n",
       "      <td>150001.000000</td>\n",
       "      <td>1001.000000</td>\n",
       "      <td>200001.000000</td>\n",
       "      <td>2001.000000</td>\n",
       "      <td>250001.000000</td>\n",
       "      <td>2001.000000</td>\n",
       "      <td>8997.000000</td>\n",
       "      <td>8900.000000</td>\n",
       "      <td>8281.000000</td>\n",
       "      <td>0.885777</td>\n",
       "      <td>0.583245</td>\n",
       "      <td>1.298057</td>\n",
       "    </tr>\n",
       "  </tbody>\n",
       "</table>\n",
       "</div>"
      ],
      "text/plain": [
       "              tract  entropy_index_9  entropy_index_0  entropy_index_1  \\\n",
       "count  2.077000e+03      2077.000000      2077.000000      2077.000000   \n",
       "mean   3.605455e+10         0.813956         0.807262         0.838069   \n",
       "std    2.595959e+07         0.123108         0.131038         0.136805   \n",
       "min    3.600500e+10         0.194083         0.183020         0.173982   \n",
       "25%    3.604702e+10         0.755000         0.756307         0.786185   \n",
       "50%    3.604712e+10         0.848471         0.846033         0.879284   \n",
       "75%    3.608103e+10         0.904543         0.896749         0.935426   \n",
       "max    3.608503e+10         0.982500         0.980721         0.998777   \n",
       "\n",
       "               inc_9       rent_9          inc_0       rent_0          inc_1  \\\n",
       "count    2077.000000  2077.000000    2077.000000  2077.000000    2077.000000   \n",
       "mean    37733.340876   543.203659   48685.029851   751.435243   65962.064516   \n",
       "std     18724.271851   148.592375   28336.768464   226.933084   39445.601512   \n",
       "min      4999.000000   171.000000    9893.000000   195.000000    8542.000000   \n",
       "25%     25089.000000   453.000000   30720.000000   644.000000   40031.000000   \n",
       "50%     36221.000000   531.000000   42483.000000   740.000000   56667.000000   \n",
       "75%     46843.000000   628.000000   58833.000000   833.000000   80016.000000   \n",
       "max    150001.000000  1001.000000  200001.000000  2001.000000  250001.000000   \n",
       "\n",
       "            rent_1    r_units_9    r_units_0    r_units_1  ratio_rent_inc_9  \\\n",
       "count  2077.000000  2077.000000  2077.000000  2077.000000       2077.000000   \n",
       "mean   1148.824747   962.096774  1008.557535  1028.034184          0.198790   \n",
       "std     327.845257   899.818493   870.506315   840.615093          0.075942   \n",
       "min     231.000000     4.000000     9.000000    32.000000          0.067760   \n",
       "25%     964.000000   357.000000   412.000000   431.000000          0.150818   \n",
       "50%    1120.000000   718.000000   788.000000   822.000000          0.183669   \n",
       "75%    1305.000000  1269.000000  1321.000000  1350.000000          0.226971   \n",
       "max    2001.000000  8997.000000  8900.000000  8281.000000          0.885777   \n",
       "\n",
       "       ratio_rent_inc_0  ratio_rent_inc_1  \n",
       "count       2077.000000       2077.000000  \n",
       "mean           0.214137          0.249021  \n",
       "std            0.071700          0.100420  \n",
       "min            0.047473          0.042308  \n",
       "25%            0.164954          0.181927  \n",
       "50%            0.204236          0.235487  \n",
       "75%            0.253867          0.300615  \n",
       "max            0.583245          1.298057  "
      ]
     },
     "execution_count": 6,
     "metadata": {},
     "output_type": "execute_result"
    }
   ],
   "source": [
    "df_census.describe()"
   ]
  },
  {
   "cell_type": "code",
   "execution_count": null,
   "metadata": {
    "collapsed": true
   },
   "outputs": [],
   "source": []
  },
  {
   "cell_type": "markdown",
   "metadata": {},
   "source": [
    "# 2. Descriptive of change in 20 years"
   ]
  },
  {
   "cell_type": "code",
   "execution_count": 7,
   "metadata": {
    "collapsed": true
   },
   "outputs": [],
   "source": [
    "df_change = pd.DataFrame()"
   ]
  },
  {
   "cell_type": "code",
   "execution_count": 8,
   "metadata": {
    "collapsed": false
   },
   "outputs": [],
   "source": [
    "df_change['entropy_9_1'] = df_census.entropy_index_1 / df_census.entropy_index_9 -1\n",
    "df_change['rent_9_1'] = df_census.rent_1 / df_census.rent_9 -1\n",
    "df_change['inc_9_1'] = df_census.inc_1 / df_census.inc_9 -1\n",
    "df_change['rent_units_9_1'] = df_census.r_units_1 / df_census.r_units_9 -1\n",
    "df_change['rent_burden_9_1'] = df_census.ratio_rent_inc_1 / df_census.ratio_rent_inc_9 -1"
   ]
  },
  {
   "cell_type": "code",
   "execution_count": 9,
   "metadata": {
    "collapsed": false
   },
   "outputs": [
    {
     "data": {
      "text/plain": [
       "entropy_9_1        0.036438\n",
       "rent_9_1           1.100318\n",
       "inc_9_1            0.665949\n",
       "rent_units_9_1     0.104418\n",
       "rent_burden_9_1    0.245663\n",
       "dtype: float64"
      ]
     },
     "execution_count": 9,
     "metadata": {},
     "output_type": "execute_result"
    }
   ],
   "source": [
    "df_change.median()"
   ]
  },
  {
   "cell_type": "code",
   "execution_count": 10,
   "metadata": {
    "collapsed": false
   },
   "outputs": [
    {
     "data": {
      "image/png": "[encoded data removed]",
      "text/plain": [
       "<matplotlib.figure.Figure at 0x116ede668>"
      ]
     },
     "metadata": {},
     "output_type": "display_data"
    }
   ],
   "source": [
    "num = range(df_change.shape[1])\n",
    "\n",
    "plt.figure(figsize = (12, 6))\n",
    "plt.boxplot([df_change.iloc[:,i] for i in num])\n",
    "plt.ylim(-1,5)\n",
    "plt.xticks([i+1 for i in num], \n",
    "           ('Income integration', 'Rent', 'Income', 'Rent units', 'Rent burden'),\n",
    "          fontsize = 12)\n",
    "plt.title('Change between 1990 to 2010', fontsize = 20)\n",
    "plt.yticks((-0.5,-0.1,0.1,0.5,1,2,4), ('-50%', '-10%', '10%', '50%', '100%', '200%', '400%'))\n",
    "plt.grid()\n",
    "plt.show()"
   ]
  },
  {
   "cell_type": "code",
   "execution_count": 11,
   "metadata": {
    "collapsed": true
   },
   "outputs": [],
   "source": [
    "df_change1 = pd.DataFrame()\n",
    "df_change1['entropy_9_0'] = df_census.entropy_index_0 / df_census.entropy_index_9 -1\n",
    "df_change1['rent_9_0'] = df_census.rent_0 / df_census.rent_9 -1\n",
    "df_change1['inc_9_0'] = df_census.inc_0 / df_census.inc_9 -1\n",
    "df_change1['rent_units_9_0'] = df_census.r_units_0 / df_census.r_units_9 -1\n",
    "df_change1['rent_burden_9_0'] = df_census.ratio_rent_inc_0 / df_census.ratio_rent_inc_9 -1"
   ]
  },
  {
   "cell_type": "code",
   "execution_count": 12,
   "metadata": {
    "collapsed": true
   },
   "outputs": [],
   "source": [
    "df_change2 = pd.DataFrame()\n",
    "df_change2['entropy_0_1'] = df_census.entropy_index_1 / df_census.entropy_index_0 -1\n",
    "df_change2['rent_0_1'] = df_census.rent_1 / df_census.rent_0 -1\n",
    "df_change2['inc_0_1'] = df_census.inc_1 / df_census.inc_0 -1\n",
    "df_change2['rent_units_0_1'] = df_census.r_units_1 / df_census.r_units_0 -1\n",
    "df_change2['rent_burden_0_1'] = df_census.ratio_rent_inc_1 / df_census.ratio_rent_inc_0 -1"
   ]
  },
  {
   "cell_type": "code",
   "execution_count": 13,
   "metadata": {
    "collapsed": false
   },
   "outputs": [
    {
     "data": {
      "image/png": "[encoded data removed]",
      "text/plain": [
       "<matplotlib.figure.Figure at 0x11aa68dd8>"
      ]
     },
     "metadata": {},
     "output_type": "display_data"
    }
   ],
   "source": [
    "plt.figure(figsize = (12, 6))\n",
    "plt.bar([i-0.15 for i in num], [df_change1.iloc[:,i].median() for i in num], \n",
    "        width = 0.3, label = '1990-2000')\n",
    "plt.bar([i+0.15 for i in num], [df_change2.iloc[:,i].median() for i in num], \n",
    "        width = 0.3, label = '2000-2010')\n",
    "plt.xticks([i for i in num], \n",
    "           ('Income integration', 'Rent', 'Income', 'Rent units', 'Rent burden'),\n",
    "          fontsize = 12)\n",
    "plt.yticks((-0.05,0, 0.1,0.2,0.3, 0.4,0.5), ('-5%', '0', '10%', '20%', '30%','40%','50%'))\n",
    "plt.title('Change between 1990 to 2010', fontsize = 20)\n",
    "plt.legend()\n",
    "plt.show()"
   ]
  },
  {
   "cell_type": "code",
   "execution_count": null,
   "metadata": {
    "collapsed": true
   },
   "outputs": [],
   "source": []
  },
  {
   "cell_type": "markdown",
   "metadata": {},
   "source": [
    "# 3. Combine and normalized the data"
   ]
  },
  {
   "cell_type": "code",
   "execution_count": 14,
   "metadata": {
    "collapsed": false
   },
   "outputs": [
    {
     "data": {
      "text/html": [
       "<div>\n",
       "<table border=\"1\" class=\"dataframe\">\n",
       "  <thead>\n",
       "    <tr style=\"text-align: right;\">\n",
       "      <th></th>\n",
       "      <th>tract</th>\n",
       "      <th>entropy_index_9</th>\n",
       "      <th>entropy_index_0</th>\n",
       "      <th>entropy_index_1</th>\n",
       "      <th>inc_9</th>\n",
       "      <th>rent_9</th>\n",
       "      <th>inc_0</th>\n",
       "      <th>rent_0</th>\n",
       "      <th>inc_1</th>\n",
       "      <th>rent_1</th>\n",
       "      <th>...</th>\n",
       "      <th>entropy_9_0</th>\n",
       "      <th>rent_9_0</th>\n",
       "      <th>inc_9_0</th>\n",
       "      <th>rent_units_9_0</th>\n",
       "      <th>rent_burden_9_0</th>\n",
       "      <th>entropy_0_1</th>\n",
       "      <th>rent_0_1</th>\n",
       "      <th>inc_0_1</th>\n",
       "      <th>rent_units_0_1</th>\n",
       "      <th>rent_burden_0_1</th>\n",
       "    </tr>\n",
       "  </thead>\n",
       "  <tbody>\n",
       "    <tr>\n",
       "      <th>0</th>\n",
       "      <td>36005000200</td>\n",
       "      <td>0.867149</td>\n",
       "      <td>0.857971</td>\n",
       "      <td>0.921479</td>\n",
       "      <td>38711</td>\n",
       "      <td>742</td>\n",
       "      <td>50817</td>\n",
       "      <td>730</td>\n",
       "      <td>58368</td>\n",
       "      <td>1273</td>\n",
       "      <td>...</td>\n",
       "      <td>-0.010583</td>\n",
       "      <td>-0.016173</td>\n",
       "      <td>0.312728</td>\n",
       "      <td>0.096354</td>\n",
       "      <td>-0.250547</td>\n",
       "      <td>0.074021</td>\n",
       "      <td>0.743836</td>\n",
       "      <td>0.148592</td>\n",
       "      <td>0.508314</td>\n",
       "      <td>0.518238</td>\n",
       "    </tr>\n",
       "    <tr>\n",
       "      <th>1</th>\n",
       "      <td>36005000400</td>\n",
       "      <td>0.919819</td>\n",
       "      <td>0.923299</td>\n",
       "      <td>0.943208</td>\n",
       "      <td>40484</td>\n",
       "      <td>535</td>\n",
       "      <td>41019</td>\n",
       "      <td>643</td>\n",
       "      <td>73148</td>\n",
       "      <td>1330</td>\n",
       "      <td>...</td>\n",
       "      <td>0.003783</td>\n",
       "      <td>0.201869</td>\n",
       "      <td>0.013215</td>\n",
       "      <td>1.271028</td>\n",
       "      <td>0.186193</td>\n",
       "      <td>0.021563</td>\n",
       "      <td>1.068429</td>\n",
       "      <td>0.783271</td>\n",
       "      <td>0.265432</td>\n",
       "      <td>0.159907</td>\n",
       "    </tr>\n",
       "    <tr>\n",
       "      <th>2</th>\n",
       "      <td>36005001600</td>\n",
       "      <td>0.908063</td>\n",
       "      <td>0.925875</td>\n",
       "      <td>0.862742</td>\n",
       "      <td>24732</td>\n",
       "      <td>466</td>\n",
       "      <td>30104</td>\n",
       "      <td>558</td>\n",
       "      <td>33555</td>\n",
       "      <td>823</td>\n",
       "      <td>...</td>\n",
       "      <td>0.019616</td>\n",
       "      <td>0.197425</td>\n",
       "      <td>0.217208</td>\n",
       "      <td>0.037620</td>\n",
       "      <td>-0.016253</td>\n",
       "      <td>-0.068188</td>\n",
       "      <td>0.474910</td>\n",
       "      <td>0.114636</td>\n",
       "      <td>0.065920</td>\n",
       "      <td>0.323222</td>\n",
       "    </tr>\n",
       "    <tr>\n",
       "      <th>3</th>\n",
       "      <td>36005001900</td>\n",
       "      <td>0.652853</td>\n",
       "      <td>0.830158</td>\n",
       "      <td>0.672415</td>\n",
       "      <td>24823</td>\n",
       "      <td>422</td>\n",
       "      <td>23671</td>\n",
       "      <td>461</td>\n",
       "      <td>25489</td>\n",
       "      <td>870</td>\n",
       "      <td>...</td>\n",
       "      <td>0.271585</td>\n",
       "      <td>0.092417</td>\n",
       "      <td>-0.046409</td>\n",
       "      <td>-0.058824</td>\n",
       "      <td>0.145582</td>\n",
       "      <td>-0.190016</td>\n",
       "      <td>0.887202</td>\n",
       "      <td>0.076803</td>\n",
       "      <td>0.502976</td>\n",
       "      <td>0.752597</td>\n",
       "    </tr>\n",
       "    <tr>\n",
       "      <th>4</th>\n",
       "      <td>36005002000</td>\n",
       "      <td>0.814774</td>\n",
       "      <td>0.779722</td>\n",
       "      <td>0.804094</td>\n",
       "      <td>18762</td>\n",
       "      <td>298</td>\n",
       "      <td>19694</td>\n",
       "      <td>266</td>\n",
       "      <td>30817</td>\n",
       "      <td>455</td>\n",
       "      <td>...</td>\n",
       "      <td>-0.043021</td>\n",
       "      <td>-0.107383</td>\n",
       "      <td>0.049675</td>\n",
       "      <td>0.012062</td>\n",
       "      <td>-0.149625</td>\n",
       "      <td>0.031258</td>\n",
       "      <td>0.710526</td>\n",
       "      <td>0.564791</td>\n",
       "      <td>0.006536</td>\n",
       "      <td>0.093134</td>\n",
       "    </tr>\n",
       "  </tbody>\n",
       "</table>\n",
       "<p>5 rows × 26 columns</p>\n",
       "</div>"
      ],
      "text/plain": [
       "         tract  entropy_index_9  entropy_index_0  entropy_index_1  inc_9  \\\n",
       "0  36005000200         0.867149         0.857971         0.921479  38711   \n",
       "1  36005000400         0.919819         0.923299         0.943208  40484   \n",
       "2  36005001600         0.908063         0.925875         0.862742  24732   \n",
       "3  36005001900         0.652853         0.830158         0.672415  24823   \n",
       "4  36005002000         0.814774         0.779722         0.804094  18762   \n",
       "\n",
       "   rent_9  inc_0  rent_0  inc_1  rent_1       ...         entropy_9_0  \\\n",
       "0     742  50817     730  58368    1273       ...           -0.010583   \n",
       "1     535  41019     643  73148    1330       ...            0.003783   \n",
       "2     466  30104     558  33555     823       ...            0.019616   \n",
       "3     422  23671     461  25489     870       ...            0.271585   \n",
       "4     298  19694     266  30817     455       ...           -0.043021   \n",
       "\n",
       "   rent_9_0   inc_9_0  rent_units_9_0  rent_burden_9_0  entropy_0_1  rent_0_1  \\\n",
       "0 -0.016173  0.312728        0.096354        -0.250547     0.074021  0.743836   \n",
       "1  0.201869  0.013215        1.271028         0.186193     0.021563  1.068429   \n",
       "2  0.197425  0.217208        0.037620        -0.016253    -0.068188  0.474910   \n",
       "3  0.092417 -0.046409       -0.058824         0.145582    -0.190016  0.887202   \n",
       "4 -0.107383  0.049675        0.012062        -0.149625     0.031258  0.710526   \n",
       "\n",
       "    inc_0_1  rent_units_0_1  rent_burden_0_1  \n",
       "0  0.148592        0.508314         0.518238  \n",
       "1  0.783271        0.265432         0.159907  \n",
       "2  0.114636        0.065920         0.323222  \n",
       "3  0.076803        0.502976         0.752597  \n",
       "4  0.564791        0.006536         0.093134  \n",
       "\n",
       "[5 rows x 26 columns]"
      ]
     },
     "execution_count": 14,
     "metadata": {},
     "output_type": "execute_result"
    }
   ],
   "source": [
    "df1 = pd.concat([df_census, df_change1, df_change2], axis = 1)\n",
    "df1.head()"
   ]
  },
  {
   "cell_type": "code",
   "execution_count": 15,
   "metadata": {
    "collapsed": false
   },
   "outputs": [
    {
     "data": {
      "text/plain": [
       "(2077, 26)"
      ]
     },
     "execution_count": 15,
     "metadata": {},
     "output_type": "execute_result"
    }
   ],
   "source": [
    "df1.shape"
   ]
  },
  {
   "cell_type": "markdown",
   "metadata": {},
   "source": [
    "## Normalized"
   ]
  },
  {
   "cell_type": "code",
   "execution_count": 16,
   "metadata": {
    "collapsed": true
   },
   "outputs": [],
   "source": [
    "def normalize(x):\n",
    "    norm = (x - x.min())/(x.max() - x.min())\n",
    "    return norm"
   ]
  },
  {
   "cell_type": "code",
   "execution_count": 17,
   "metadata": {
    "collapsed": false
   },
   "outputs": [
    {
     "data": {
      "text/html": [
       "<div>\n",
       "<table border=\"1\" class=\"dataframe\">\n",
       "  <thead>\n",
       "    <tr style=\"text-align: right;\">\n",
       "      <th></th>\n",
       "      <th>tract</th>\n",
       "      <th>entropy_index_9</th>\n",
       "      <th>entropy_index_0</th>\n",
       "      <th>entropy_index_1</th>\n",
       "      <th>inc_9</th>\n",
       "      <th>rent_9</th>\n",
       "      <th>inc_0</th>\n",
       "      <th>rent_0</th>\n",
       "      <th>inc_1</th>\n",
       "      <th>rent_1</th>\n",
       "      <th>...</th>\n",
       "      <th>entropy_9_0</th>\n",
       "      <th>rent_9_0</th>\n",
       "      <th>inc_9_0</th>\n",
       "      <th>rent_units_9_0</th>\n",
       "      <th>rent_burden_9_0</th>\n",
       "      <th>entropy_0_1</th>\n",
       "      <th>rent_0_1</th>\n",
       "      <th>inc_0_1</th>\n",
       "      <th>rent_units_0_1</th>\n",
       "      <th>rent_burden_0_1</th>\n",
       "    </tr>\n",
       "  </thead>\n",
       "  <tbody>\n",
       "    <tr>\n",
       "      <th>0</th>\n",
       "      <td>36005000200</td>\n",
       "      <td>0.853692</td>\n",
       "      <td>0.846120</td>\n",
       "      <td>0.906283</td>\n",
       "      <td>0.232493</td>\n",
       "      <td>0.687952</td>\n",
       "      <td>0.215267</td>\n",
       "      <td>0.296235</td>\n",
       "      <td>0.206354</td>\n",
       "      <td>0.588701</td>\n",
       "      <td>...</td>\n",
       "      <td>0.210271</td>\n",
       "      <td>0.091639</td>\n",
       "      <td>0.078659</td>\n",
       "      <td>0.091080</td>\n",
       "      <td>0.265741</td>\n",
       "      <td>0.364669</td>\n",
       "      <td>0.331641</td>\n",
       "      <td>0.233916</td>\n",
       "      <td>0.013994</td>\n",
       "      <td>0.321608</td>\n",
       "    </tr>\n",
       "    <tr>\n",
       "      <th>1</th>\n",
       "      <td>36005000400</td>\n",
       "      <td>0.920498</td>\n",
       "      <td>0.928015</td>\n",
       "      <td>0.932628</td>\n",
       "      <td>0.244721</td>\n",
       "      <td>0.438554</td>\n",
       "      <td>0.163728</td>\n",
       "      <td>0.248062</td>\n",
       "      <td>0.267565</td>\n",
       "      <td>0.620904</td>\n",
       "      <td>...</td>\n",
       "      <td>0.215151</td>\n",
       "      <td>0.147213</td>\n",
       "      <td>0.042691</td>\n",
       "      <td>0.225133</td>\n",
       "      <td>0.484406</td>\n",
       "      <td>0.340919</td>\n",
       "      <td>0.407598</td>\n",
       "      <td>0.392235</td>\n",
       "      <td>0.011502</td>\n",
       "      <td>0.229470</td>\n",
       "    </tr>\n",
       "    <tr>\n",
       "      <th>2</th>\n",
       "      <td>36005001600</td>\n",
       "      <td>0.905587</td>\n",
       "      <td>0.931245</td>\n",
       "      <td>0.835068</td>\n",
       "      <td>0.136088</td>\n",
       "      <td>0.355422</td>\n",
       "      <td>0.106313</td>\n",
       "      <td>0.200997</td>\n",
       "      <td>0.103591</td>\n",
       "      <td>0.334463</td>\n",
       "      <td>...</td>\n",
       "      <td>0.220528</td>\n",
       "      <td>0.146081</td>\n",
       "      <td>0.067188</td>\n",
       "      <td>0.084377</td>\n",
       "      <td>0.383046</td>\n",
       "      <td>0.300285</td>\n",
       "      <td>0.268711</td>\n",
       "      <td>0.225446</td>\n",
       "      <td>0.009456</td>\n",
       "      <td>0.271464</td>\n",
       "    </tr>\n",
       "    <tr>\n",
       "      <th>3</th>\n",
       "      <td>36005001900</td>\n",
       "      <td>0.581888</td>\n",
       "      <td>0.811254</td>\n",
       "      <td>0.604311</td>\n",
       "      <td>0.136715</td>\n",
       "      <td>0.302410</td>\n",
       "      <td>0.072475</td>\n",
       "      <td>0.147287</td>\n",
       "      <td>0.070186</td>\n",
       "      <td>0.361017</td>\n",
       "      <td>...</td>\n",
       "      <td>0.306101</td>\n",
       "      <td>0.119317</td>\n",
       "      <td>0.035530</td>\n",
       "      <td>0.073371</td>\n",
       "      <td>0.464073</td>\n",
       "      <td>0.245128</td>\n",
       "      <td>0.365190</td>\n",
       "      <td>0.216009</td>\n",
       "      <td>0.013939</td>\n",
       "      <td>0.381870</td>\n",
       "    </tr>\n",
       "    <tr>\n",
       "      <th>4</th>\n",
       "      <td>36005002000</td>\n",
       "      <td>0.787263</td>\n",
       "      <td>0.748026</td>\n",
       "      <td>0.763963</td>\n",
       "      <td>0.094916</td>\n",
       "      <td>0.153012</td>\n",
       "      <td>0.051555</td>\n",
       "      <td>0.039313</td>\n",
       "      <td>0.092252</td>\n",
       "      <td>0.126554</td>\n",
       "      <td>...</td>\n",
       "      <td>0.199255</td>\n",
       "      <td>0.068392</td>\n",
       "      <td>0.047069</td>\n",
       "      <td>0.081461</td>\n",
       "      <td>0.316270</td>\n",
       "      <td>0.345308</td>\n",
       "      <td>0.323847</td>\n",
       "      <td>0.337736</td>\n",
       "      <td>0.008846</td>\n",
       "      <td>0.212301</td>\n",
       "    </tr>\n",
       "  </tbody>\n",
       "</table>\n",
       "<p>5 rows × 26 columns</p>\n",
       "</div>"
      ],
      "text/plain": [
       "         tract  entropy_index_9  entropy_index_0  entropy_index_1     inc_9  \\\n",
       "0  36005000200         0.853692         0.846120         0.906283  0.232493   \n",
       "1  36005000400         0.920498         0.928015         0.932628  0.244721   \n",
       "2  36005001600         0.905587         0.931245         0.835068  0.136088   \n",
       "3  36005001900         0.581888         0.811254         0.604311  0.136715   \n",
       "4  36005002000         0.787263         0.748026         0.763963  0.094916   \n",
       "\n",
       "     rent_9     inc_0    rent_0     inc_1    rent_1       ...         \\\n",
       "0  0.687952  0.215267  0.296235  0.206354  0.588701       ...          \n",
       "1  0.438554  0.163728  0.248062  0.267565  0.620904       ...          \n",
       "2  0.355422  0.106313  0.200997  0.103591  0.334463       ...          \n",
       "3  0.302410  0.072475  0.147287  0.070186  0.361017       ...          \n",
       "4  0.153012  0.051555  0.039313  0.092252  0.126554       ...          \n",
       "\n",
       "   entropy_9_0  rent_9_0   inc_9_0  rent_units_9_0  rent_burden_9_0  \\\n",
       "0     0.210271  0.091639  0.078659        0.091080         0.265741   \n",
       "1     0.215151  0.147213  0.042691        0.225133         0.484406   \n",
       "2     0.220528  0.146081  0.067188        0.084377         0.383046   \n",
       "3     0.306101  0.119317  0.035530        0.073371         0.464073   \n",
       "4     0.199255  0.068392  0.047069        0.081461         0.316270   \n",
       "\n",
       "   entropy_0_1  rent_0_1   inc_0_1  rent_units_0_1  rent_burden_0_1  \n",
       "0     0.364669  0.331641  0.233916        0.013994         0.321608  \n",
       "1     0.340919  0.407598  0.392235        0.011502         0.229470  \n",
       "2     0.300285  0.268711  0.225446        0.009456         0.271464  \n",
       "3     0.245128  0.365190  0.216009        0.013939         0.381870  \n",
       "4     0.345308  0.323847  0.337736        0.008846         0.212301  \n",
       "\n",
       "[5 rows x 26 columns]"
      ]
     },
     "execution_count": 17,
     "metadata": {},
     "output_type": "execute_result"
    }
   ],
   "source": [
    "df_normed0 = pd.DataFrame()\n",
    "df_normed0['tract'] = df1['tract']\n",
    "\n",
    "for i in range(1, df1.shape[1]):\n",
    "    df_normed0[df1.columns[i]] = normalize(df1.iloc[:,i])\n",
    "\n",
    "\n",
    "df_normed0.head()"
   ]
  },
  {
   "cell_type": "code",
   "execution_count": 18,
   "metadata": {
    "collapsed": false
   },
   "outputs": [
    {
     "data": {
      "text/plain": [
       "(2077, 26)"
      ]
     },
     "execution_count": 18,
     "metadata": {},
     "output_type": "execute_result"
    }
   ],
   "source": [
    "df_normed0.shape"
   ]
  },
  {
   "cell_type": "code",
   "execution_count": 19,
   "metadata": {
    "collapsed": true
   },
   "outputs": [],
   "source": [
    "df_normed0.to_csv('civic_census_normed.csv')"
   ]
  },
  {
   "cell_type": "code",
   "execution_count": null,
   "metadata": {
    "collapsed": true
   },
   "outputs": [],
   "source": []
  },
  {
   "cell_type": "markdown",
   "metadata": {},
   "source": [
    "# Drop outliers and Normalized"
   ]
  },
  {
   "cell_type": "code",
   "execution_count": 20,
   "metadata": {
    "collapsed": true
   },
   "outputs": [],
   "source": [
    "def outlier(x):\n",
    "    outlier = np.mean(x) + 3 * np.std(x)\n",
    "    return outlier"
   ]
  },
  {
   "cell_type": "code",
   "execution_count": 21,
   "metadata": {
    "collapsed": false
   },
   "outputs": [
    {
     "data": {
      "text/plain": [
       "(1770, 26)"
      ]
     },
     "execution_count": 21,
     "metadata": {},
     "output_type": "execute_result"
    }
   ],
   "source": [
    "a = np.ones(df1.shape[0])\n",
    "for i in range(df1.shape[1]):\n",
    "    a0 = df1.iloc[:,i] < outlier(df1.iloc[:,i])\n",
    "    a = a0 * a\n",
    "        \n",
    "df2 = df1[[bool(i) for i in a]]\n",
    "df2.shape"
   ]
  },
  {
   "cell_type": "code",
   "execution_count": 22,
   "metadata": {
    "collapsed": false
   },
   "outputs": [
    {
     "data": {
      "text/html": [
       "<div>\n",
       "<table border=\"1\" class=\"dataframe\">\n",
       "  <thead>\n",
       "    <tr style=\"text-align: right;\">\n",
       "      <th></th>\n",
       "      <th>tract</th>\n",
       "      <th>entropy_index_9</th>\n",
       "      <th>entropy_index_0</th>\n",
       "      <th>entropy_index_1</th>\n",
       "      <th>inc_9</th>\n",
       "      <th>rent_9</th>\n",
       "      <th>inc_0</th>\n",
       "      <th>rent_0</th>\n",
       "      <th>inc_1</th>\n",
       "      <th>rent_1</th>\n",
       "      <th>...</th>\n",
       "      <th>entropy_9_0</th>\n",
       "      <th>rent_9_0</th>\n",
       "      <th>inc_9_0</th>\n",
       "      <th>rent_units_9_0</th>\n",
       "      <th>rent_burden_9_0</th>\n",
       "      <th>entropy_0_1</th>\n",
       "      <th>rent_0_1</th>\n",
       "      <th>inc_0_1</th>\n",
       "      <th>rent_units_0_1</th>\n",
       "      <th>rent_burden_0_1</th>\n",
       "    </tr>\n",
       "  </thead>\n",
       "  <tbody>\n",
       "    <tr>\n",
       "      <th>0</th>\n",
       "      <td>36005000200</td>\n",
       "      <td>0.793073</td>\n",
       "      <td>0.781640</td>\n",
       "      <td>0.905241</td>\n",
       "      <td>0.377683</td>\n",
       "      <td>0.711970</td>\n",
       "      <td>0.324224</td>\n",
       "      <td>0.437449</td>\n",
       "      <td>0.277105</td>\n",
       "      <td>0.572770</td>\n",
       "      <td>...</td>\n",
       "      <td>0.464519</td>\n",
       "      <td>0.226547</td>\n",
       "      <td>0.388886</td>\n",
       "      <td>0.384006</td>\n",
       "      <td>0.170053</td>\n",
       "      <td>0.633739</td>\n",
       "      <td>0.710826</td>\n",
       "      <td>0.326530</td>\n",
       "      <td>0.192816</td>\n",
       "      <td>0.649818</td>\n",
       "    </tr>\n",
       "    <tr>\n",
       "      <th>1</th>\n",
       "      <td>36005000400</td>\n",
       "      <td>0.887558</td>\n",
       "      <td>0.897852</td>\n",
       "      <td>0.931879</td>\n",
       "      <td>0.399758</td>\n",
       "      <td>0.453865</td>\n",
       "      <td>0.243885</td>\n",
       "      <td>0.366312</td>\n",
       "      <td>0.362769</td>\n",
       "      <td>0.606221</td>\n",
       "      <td>...</td>\n",
       "      <td>0.482413</td>\n",
       "      <td>0.383516</td>\n",
       "      <td>0.211059</td>\n",
       "      <td>0.949193</td>\n",
       "      <td>0.489531</td>\n",
       "      <td>0.588810</td>\n",
       "      <td>0.873628</td>\n",
       "      <td>0.656091</td>\n",
       "      <td>0.158484</td>\n",
       "      <td>0.463651</td>\n",
       "    </tr>\n",
       "    <tr>\n",
       "      <th>2</th>\n",
       "      <td>36005001600</td>\n",
       "      <td>0.866469</td>\n",
       "      <td>0.902434</td>\n",
       "      <td>0.833235</td>\n",
       "      <td>0.203633</td>\n",
       "      <td>0.367830</td>\n",
       "      <td>0.154388</td>\n",
       "      <td>0.296811</td>\n",
       "      <td>0.133290</td>\n",
       "      <td>0.308685</td>\n",
       "      <td>...</td>\n",
       "      <td>0.502133</td>\n",
       "      <td>0.380317</td>\n",
       "      <td>0.332174</td>\n",
       "      <td>0.355746</td>\n",
       "      <td>0.341440</td>\n",
       "      <td>0.511940</td>\n",
       "      <td>0.575944</td>\n",
       "      <td>0.308898</td>\n",
       "      <td>0.130283</td>\n",
       "      <td>0.548499</td>\n",
       "    </tr>\n",
       "    <tr>\n",
       "      <th>3</th>\n",
       "      <td>36005001900</td>\n",
       "      <td>0.408653</td>\n",
       "      <td>0.732163</td>\n",
       "      <td>0.599914</td>\n",
       "      <td>0.204766</td>\n",
       "      <td>0.312968</td>\n",
       "      <td>0.101641</td>\n",
       "      <td>0.217498</td>\n",
       "      <td>0.086539</td>\n",
       "      <td>0.336268</td>\n",
       "      <td>...</td>\n",
       "      <td>0.815966</td>\n",
       "      <td>0.304721</td>\n",
       "      <td>0.175660</td>\n",
       "      <td>0.309343</td>\n",
       "      <td>0.459824</td>\n",
       "      <td>0.407595</td>\n",
       "      <td>0.782732</td>\n",
       "      <td>0.289253</td>\n",
       "      <td>0.192062</td>\n",
       "      <td>0.771578</td>\n",
       "    </tr>\n",
       "    <tr>\n",
       "      <th>4</th>\n",
       "      <td>36005002000</td>\n",
       "      <td>0.699120</td>\n",
       "      <td>0.642441</td>\n",
       "      <td>0.761340</td>\n",
       "      <td>0.129302</td>\n",
       "      <td>0.158354</td>\n",
       "      <td>0.069031</td>\n",
       "      <td>0.058054</td>\n",
       "      <td>0.117420</td>\n",
       "      <td>0.092723</td>\n",
       "      <td>...</td>\n",
       "      <td>0.424117</td>\n",
       "      <td>0.160885</td>\n",
       "      <td>0.232706</td>\n",
       "      <td>0.343449</td>\n",
       "      <td>0.243878</td>\n",
       "      <td>0.597114</td>\n",
       "      <td>0.694119</td>\n",
       "      <td>0.542644</td>\n",
       "      <td>0.121889</td>\n",
       "      <td>0.428959</td>\n",
       "    </tr>\n",
       "  </tbody>\n",
       "</table>\n",
       "<p>5 rows × 26 columns</p>\n",
       "</div>"
      ],
      "text/plain": [
       "         tract  entropy_index_9  entropy_index_0  entropy_index_1     inc_9  \\\n",
       "0  36005000200         0.793073         0.781640         0.905241  0.377683   \n",
       "1  36005000400         0.887558         0.897852         0.931879  0.399758   \n",
       "2  36005001600         0.866469         0.902434         0.833235  0.203633   \n",
       "3  36005001900         0.408653         0.732163         0.599914  0.204766   \n",
       "4  36005002000         0.699120         0.642441         0.761340  0.129302   \n",
       "\n",
       "     rent_9     inc_0    rent_0     inc_1    rent_1       ...         \\\n",
       "0  0.711970  0.324224  0.437449  0.277105  0.572770       ...          \n",
       "1  0.453865  0.243885  0.366312  0.362769  0.606221       ...          \n",
       "2  0.367830  0.154388  0.296811  0.133290  0.308685       ...          \n",
       "3  0.312968  0.101641  0.217498  0.086539  0.336268       ...          \n",
       "4  0.158354  0.069031  0.058054  0.117420  0.092723       ...          \n",
       "\n",
       "   entropy_9_0  rent_9_0   inc_9_0  rent_units_9_0  rent_burden_9_0  \\\n",
       "0     0.464519  0.226547  0.388886        0.384006         0.170053   \n",
       "1     0.482413  0.383516  0.211059        0.949193         0.489531   \n",
       "2     0.502133  0.380317  0.332174        0.355746         0.341440   \n",
       "3     0.815966  0.304721  0.175660        0.309343         0.459824   \n",
       "4     0.424117  0.160885  0.232706        0.343449         0.243878   \n",
       "\n",
       "   entropy_0_1  rent_0_1   inc_0_1  rent_units_0_1  rent_burden_0_1  \n",
       "0     0.633739  0.710826  0.326530        0.192816         0.649818  \n",
       "1     0.588810  0.873628  0.656091        0.158484         0.463651  \n",
       "2     0.511940  0.575944  0.308898        0.130283         0.548499  \n",
       "3     0.407595  0.782732  0.289253        0.192062         0.771578  \n",
       "4     0.597114  0.694119  0.542644        0.121889         0.428959  \n",
       "\n",
       "[5 rows x 26 columns]"
      ]
     },
     "execution_count": 22,
     "metadata": {},
     "output_type": "execute_result"
    }
   ],
   "source": [
    "df_normed = pd.DataFrame()\n",
    "df_normed['tract'] = df2['tract']\n",
    "\n",
    "for i in range(1, df2.shape[1]):\n",
    "    df_normed[df2.columns[i]] = normalize(df2.iloc[:,i])\n",
    "\n",
    "\n",
    "df_normed.head()"
   ]
  },
  {
   "cell_type": "code",
   "execution_count": 23,
   "metadata": {
    "collapsed": true
   },
   "outputs": [],
   "source": [
    "df_normed.to_csv('civic_census_normed_dropoutliers.csv')"
   ]
  },
  {
   "cell_type": "markdown",
   "metadata": {},
   "source": [
    "# 4. Analysis for rent growth"
   ]
  },
  {
   "cell_type": "markdown",
   "metadata": {},
   "source": [
    "## Use the data of 1990 and change data of 1990-2000 to be train set\n",
    "## Use the data of 2000 and change data of 2000-2010 to be test set"
   ]
  },
  {
   "cell_type": "code",
   "execution_count": 24,
   "metadata": {
    "collapsed": true
   },
   "outputs": [],
   "source": [
    "columns = ['inc', 'rent', 'entropy', 'units', \n",
    "           'inc_change', 'entropy_change','units_change', 'rent_change']"
   ]
  },
  {
   "cell_type": "code",
   "execution_count": 25,
   "metadata": {
    "collapsed": false
   },
   "outputs": [],
   "source": [
    "train = pd.concat([df_normed.inc_9, df_normed.rent_9, df_normed.entropy_index_9, \n",
    "                   df_normed.r_units_9,\n",
    "                  df_normed.inc_9_0, df_normed.entropy_9_0, df_normed.rent_units_9_0,\n",
    "                  df_normed.rent_9_0], axis = 1)\n",
    "train.columns = columns"
   ]
  },
  {
   "cell_type": "code",
   "execution_count": 26,
   "metadata": {
    "collapsed": true
   },
   "outputs": [],
   "source": [
    "test = pd.concat([df_normed.inc_0, df_normed.rent_0, df_normed.entropy_index_0, \n",
    "                   df_normed.r_units_0,\n",
    "                  df_normed.inc_0_1, df_normed.entropy_0_1, df_normed.rent_units_0_1,\n",
    "                  df_normed.rent_0_1], axis = 1)\n",
    "test.columns = columns"
   ]
  },
  {
   "cell_type": "code",
   "execution_count": 27,
   "metadata": {
    "collapsed": false
   },
   "outputs": [
    {
     "data": {
      "text/plain": [
       "((1770, 8), (1770, 8))"
      ]
     },
     "execution_count": 27,
     "metadata": {},
     "output_type": "execute_result"
    }
   ],
   "source": [
    "train.shape, test.shape"
   ]
  },
  {
   "cell_type": "code",
   "execution_count": 28,
   "metadata": {
    "collapsed": false
   },
   "outputs": [
    {
     "data": {
      "text/html": [
       "<div>\n",
       "<table border=\"1\" class=\"dataframe\">\n",
       "  <thead>\n",
       "    <tr style=\"text-align: right;\">\n",
       "      <th></th>\n",
       "      <th>inc</th>\n",
       "      <th>rent</th>\n",
       "      <th>entropy</th>\n",
       "      <th>units</th>\n",
       "      <th>inc_change</th>\n",
       "      <th>entropy_change</th>\n",
       "      <th>units_change</th>\n",
       "      <th>rent_change</th>\n",
       "    </tr>\n",
       "  </thead>\n",
       "  <tbody>\n",
       "    <tr>\n",
       "      <th>count</th>\n",
       "      <td>1770.000000</td>\n",
       "      <td>1770.000000</td>\n",
       "      <td>1770.000000</td>\n",
       "      <td>1770.000000</td>\n",
       "      <td>1770.000000</td>\n",
       "      <td>1770.000000</td>\n",
       "      <td>1770.000000</td>\n",
       "      <td>1770.000000</td>\n",
       "    </tr>\n",
       "    <tr>\n",
       "      <th>mean</th>\n",
       "      <td>0.345435</td>\n",
       "      <td>0.456501</td>\n",
       "      <td>0.744915</td>\n",
       "      <td>0.244249</td>\n",
       "      <td>0.354768</td>\n",
       "      <td>0.471086</td>\n",
       "      <td>0.395493</td>\n",
       "      <td>0.501524</td>\n",
       "    </tr>\n",
       "    <tr>\n",
       "      <th>std</th>\n",
       "      <td>0.167771</td>\n",
       "      <td>0.164215</td>\n",
       "      <td>0.165320</td>\n",
       "      <td>0.188100</td>\n",
       "      <td>0.143212</td>\n",
       "      <td>0.120521</td>\n",
       "      <td>0.109776</td>\n",
       "      <td>0.125795</td>\n",
       "    </tr>\n",
       "    <tr>\n",
       "      <th>min</th>\n",
       "      <td>0.000000</td>\n",
       "      <td>0.000000</td>\n",
       "      <td>0.000000</td>\n",
       "      <td>0.000000</td>\n",
       "      <td>0.000000</td>\n",
       "      <td>0.000000</td>\n",
       "      <td>0.000000</td>\n",
       "      <td>0.000000</td>\n",
       "    </tr>\n",
       "    <tr>\n",
       "      <th>25%</th>\n",
       "      <td>0.221478</td>\n",
       "      <td>0.362843</td>\n",
       "      <td>0.645104</td>\n",
       "      <td>0.098950</td>\n",
       "      <td>0.257861</td>\n",
       "      <td>0.406323</td>\n",
       "      <td>0.334385</td>\n",
       "      <td>0.429386</td>\n",
       "    </tr>\n",
       "    <tr>\n",
       "      <th>50%</th>\n",
       "      <td>0.344209</td>\n",
       "      <td>0.448878</td>\n",
       "      <td>0.789866</td>\n",
       "      <td>0.196932</td>\n",
       "      <td>0.337636</td>\n",
       "      <td>0.466949</td>\n",
       "      <td>0.372814</td>\n",
       "      <td>0.501468</td>\n",
       "    </tr>\n",
       "    <tr>\n",
       "      <th>75%</th>\n",
       "      <td>0.461013</td>\n",
       "      <td>0.559850</td>\n",
       "      <td>0.869258</td>\n",
       "      <td>0.336926</td>\n",
       "      <td>0.430760</td>\n",
       "      <td>0.532481</td>\n",
       "      <td>0.432716</td>\n",
       "      <td>0.570857</td>\n",
       "    </tr>\n",
       "    <tr>\n",
       "      <th>max</th>\n",
       "      <td>1.000000</td>\n",
       "      <td>1.000000</td>\n",
       "      <td>1.000000</td>\n",
       "      <td>1.000000</td>\n",
       "      <td>1.000000</td>\n",
       "      <td>1.000000</td>\n",
       "      <td>1.000000</td>\n",
       "      <td>1.000000</td>\n",
       "    </tr>\n",
       "  </tbody>\n",
       "</table>\n",
       "</div>"
      ],
      "text/plain": [
       "               inc         rent      entropy        units   inc_change  \\\n",
       "count  1770.000000  1770.000000  1770.000000  1770.000000  1770.000000   \n",
       "mean      0.345435     0.456501     0.744915     0.244249     0.354768   \n",
       "std       0.167771     0.164215     0.165320     0.188100     0.143212   \n",
       "min       0.000000     0.000000     0.000000     0.000000     0.000000   \n",
       "25%       0.221478     0.362843     0.645104     0.098950     0.257861   \n",
       "50%       0.344209     0.448878     0.789866     0.196932     0.337636   \n",
       "75%       0.461013     0.559850     0.869258     0.336926     0.430760   \n",
       "max       1.000000     1.000000     1.000000     1.000000     1.000000   \n",
       "\n",
       "       entropy_change  units_change  rent_change  \n",
       "count     1770.000000   1770.000000  1770.000000  \n",
       "mean         0.471086      0.395493     0.501524  \n",
       "std          0.120521      0.109776     0.125795  \n",
       "min          0.000000      0.000000     0.000000  \n",
       "25%          0.406323      0.334385     0.429386  \n",
       "50%          0.466949      0.372814     0.501468  \n",
       "75%          0.532481      0.432716     0.570857  \n",
       "max          1.000000      1.000000     1.000000  "
      ]
     },
     "execution_count": 28,
     "metadata": {},
     "output_type": "execute_result"
    }
   ],
   "source": [
    "train.describe()"
   ]
  },
  {
   "cell_type": "code",
   "execution_count": 29,
   "metadata": {
    "collapsed": false
   },
   "outputs": [
    {
     "data": {
      "text/html": [
       "<div>\n",
       "<table border=\"1\" class=\"dataframe\">\n",
       "  <thead>\n",
       "    <tr style=\"text-align: right;\">\n",
       "      <th></th>\n",
       "      <th>inc</th>\n",
       "      <th>rent</th>\n",
       "      <th>entropy</th>\n",
       "      <th>units</th>\n",
       "      <th>inc_change</th>\n",
       "      <th>entropy_change</th>\n",
       "      <th>units_change</th>\n",
       "      <th>rent_change</th>\n",
       "    </tr>\n",
       "  </thead>\n",
       "  <tbody>\n",
       "    <tr>\n",
       "      <th>count</th>\n",
       "      <td>1770.000000</td>\n",
       "      <td>1770.000000</td>\n",
       "      <td>1770.000000</td>\n",
       "      <td>1770.000000</td>\n",
       "      <td>1770.000000</td>\n",
       "      <td>1770.000000</td>\n",
       "      <td>1770.000000</td>\n",
       "      <td>1770.000000</td>\n",
       "    </tr>\n",
       "    <tr>\n",
       "      <th>mean</th>\n",
       "      <td>0.275526</td>\n",
       "      <td>0.434808</td>\n",
       "      <td>0.736447</td>\n",
       "      <td>0.259952</td>\n",
       "      <td>0.438129</td>\n",
       "      <td>0.607738</td>\n",
       "      <td>0.129586</td>\n",
       "      <td>0.608756</td>\n",
       "    </tr>\n",
       "    <tr>\n",
       "      <th>std</th>\n",
       "      <td>0.151900</td>\n",
       "      <td>0.137582</td>\n",
       "      <td>0.169541</td>\n",
       "      <td>0.188245</td>\n",
       "      <td>0.153185</td>\n",
       "      <td>0.098964</td>\n",
       "      <td>0.046213</td>\n",
       "      <td>0.107977</td>\n",
       "    </tr>\n",
       "    <tr>\n",
       "      <th>min</th>\n",
       "      <td>0.000000</td>\n",
       "      <td>0.000000</td>\n",
       "      <td>0.000000</td>\n",
       "      <td>0.000000</td>\n",
       "      <td>0.000000</td>\n",
       "      <td>0.000000</td>\n",
       "      <td>0.000000</td>\n",
       "      <td>0.000000</td>\n",
       "    </tr>\n",
       "    <tr>\n",
       "      <th>25%</th>\n",
       "      <td>0.164697</td>\n",
       "      <td>0.375307</td>\n",
       "      <td>0.650487</td>\n",
       "      <td>0.114268</td>\n",
       "      <td>0.331548</td>\n",
       "      <td>0.553448</td>\n",
       "      <td>0.112340</td>\n",
       "      <td>0.546473</td>\n",
       "    </tr>\n",
       "    <tr>\n",
       "      <th>50%</th>\n",
       "      <td>0.252663</td>\n",
       "      <td>0.443990</td>\n",
       "      <td>0.781141</td>\n",
       "      <td>0.215488</td>\n",
       "      <td>0.422468</td>\n",
       "      <td>0.604000</td>\n",
       "      <td>0.122917</td>\n",
       "      <td>0.600609</td>\n",
       "    </tr>\n",
       "    <tr>\n",
       "      <th>75%</th>\n",
       "      <td>0.366722</td>\n",
       "      <td>0.507768</td>\n",
       "      <td>0.861088</td>\n",
       "      <td>0.355920</td>\n",
       "      <td>0.520698</td>\n",
       "      <td>0.657985</td>\n",
       "      <td>0.137560</td>\n",
       "      <td>0.661503</td>\n",
       "    </tr>\n",
       "    <tr>\n",
       "      <th>max</th>\n",
       "      <td>1.000000</td>\n",
       "      <td>1.000000</td>\n",
       "      <td>1.000000</td>\n",
       "      <td>1.000000</td>\n",
       "      <td>1.000000</td>\n",
       "      <td>1.000000</td>\n",
       "      <td>1.000000</td>\n",
       "      <td>1.000000</td>\n",
       "    </tr>\n",
       "  </tbody>\n",
       "</table>\n",
       "</div>"
      ],
      "text/plain": [
       "               inc         rent      entropy        units   inc_change  \\\n",
       "count  1770.000000  1770.000000  1770.000000  1770.000000  1770.000000   \n",
       "mean      0.275526     0.434808     0.736447     0.259952     0.438129   \n",
       "std       0.151900     0.137582     0.169541     0.188245     0.153185   \n",
       "min       0.000000     0.000000     0.000000     0.000000     0.000000   \n",
       "25%       0.164697     0.375307     0.650487     0.114268     0.331548   \n",
       "50%       0.252663     0.443990     0.781141     0.215488     0.422468   \n",
       "75%       0.366722     0.507768     0.861088     0.355920     0.520698   \n",
       "max       1.000000     1.000000     1.000000     1.000000     1.000000   \n",
       "\n",
       "       entropy_change  units_change  rent_change  \n",
       "count     1770.000000   1770.000000  1770.000000  \n",
       "mean         0.607738      0.129586     0.608756  \n",
       "std          0.098964      0.046213     0.107977  \n",
       "min          0.000000      0.000000     0.000000  \n",
       "25%          0.553448      0.112340     0.546473  \n",
       "50%          0.604000      0.122917     0.600609  \n",
       "75%          0.657985      0.137560     0.661503  \n",
       "max          1.000000      1.000000     1.000000  "
      ]
     },
     "execution_count": 29,
     "metadata": {},
     "output_type": "execute_result"
    }
   ],
   "source": [
    "test.describe()"
   ]
  },
  {
   "cell_type": "code",
   "execution_count": 30,
   "metadata": {
    "collapsed": false
   },
   "outputs": [],
   "source": [
    "model = smf.ols('rent_change ~ '+ '+'.join(train.columns[:-1]) ,train).fit()\n",
    "model_1 = smf.ols('rent_change ~ '+ '+'.join(test.columns[:-1]) ,test).fit()"
   ]
  },
  {
   "cell_type": "code",
   "execution_count": 31,
   "metadata": {
    "collapsed": false
   },
   "outputs": [
    {
     "data": {
      "text/plain": [
       "(3540, 8)"
      ]
     },
     "execution_count": 31,
     "metadata": {},
     "output_type": "execute_result"
    }
   ],
   "source": [
    "total = pd.concat([train,test], axis = 0)\n",
    "total.shape"
   ]
  },
  {
   "cell_type": "code",
   "execution_count": 32,
   "metadata": {
    "collapsed": false
   },
   "outputs": [],
   "source": [
    "model_2 = smf.ols('rent_change ~ '+ '+'.join(total.columns[:-1]) ,total).fit()"
   ]
  },
  {
   "cell_type": "markdown",
   "metadata": {},
   "source": [
    "# Multi-regression RESULT\n",
    "## Do regression during every 10 years"
   ]
  },
  {
   "cell_type": "markdown",
   "metadata": {},
   "source": [
    "## 1990-2000 regression result"
   ]
  },
  {
   "cell_type": "code",
   "execution_count": 33,
   "metadata": {
    "collapsed": false
   },
   "outputs": [
    {
     "data": {
      "text/html": [
       "<table class=\"simpletable\">\n",
       "<caption>OLS Regression Results</caption>\n",
       "<tr>\n",
       "  <th>Dep. Variable:</th>       <td>rent_change</td>   <th>  R-squared:         </th> <td>   0.291</td> \n",
       "</tr>\n",
       "<tr>\n",
       "  <th>Model:</th>                   <td>OLS</td>       <th>  Adj. R-squared:    </th> <td>   0.288</td> \n",
       "</tr>\n",
       "<tr>\n",
       "  <th>Method:</th>             <td>Least Squares</td>  <th>  F-statistic:       </th> <td>   103.4</td> \n",
       "</tr>\n",
       "<tr>\n",
       "  <th>Date:</th>             <td>Wed, 29 Nov 2017</td> <th>  Prob (F-statistic):</th> <td>7.47e-127</td>\n",
       "</tr>\n",
       "<tr>\n",
       "  <th>Time:</th>                 <td>19:29:42</td>     <th>  Log-Likelihood:    </th> <td>  1462.8</td> \n",
       "</tr>\n",
       "<tr>\n",
       "  <th>No. Observations:</th>      <td>  1770</td>      <th>  AIC:               </th> <td>  -2910.</td> \n",
       "</tr>\n",
       "<tr>\n",
       "  <th>Df Residuals:</th>          <td>  1762</td>      <th>  BIC:               </th> <td>  -2866.</td> \n",
       "</tr>\n",
       "<tr>\n",
       "  <th>Df Model:</th>              <td>     7</td>      <th>                     </th>     <td> </td>    \n",
       "</tr>\n",
       "<tr>\n",
       "  <th>Covariance Type:</th>      <td>nonrobust</td>    <th>                     </th>     <td> </td>    \n",
       "</tr>\n",
       "</table>\n",
       "<table class=\"simpletable\">\n",
       "<tr>\n",
       "         <td></td>           <th>coef</th>     <th>std err</th>      <th>t</th>      <th>P>|t|</th> <th>[95.0% Conf. Int.]</th> \n",
       "</tr>\n",
       "<tr>\n",
       "  <th>Intercept</th>      <td>    0.2291</td> <td>    0.031</td> <td>    7.401</td> <td> 0.000</td> <td>    0.168     0.290</td>\n",
       "</tr>\n",
       "<tr>\n",
       "  <th>inc</th>            <td>    0.4527</td> <td>    0.024</td> <td>   18.512</td> <td> 0.000</td> <td>    0.405     0.501</td>\n",
       "</tr>\n",
       "<tr>\n",
       "  <th>rent</th>           <td>   -0.4755</td> <td>    0.024</td> <td>  -19.669</td> <td> 0.000</td> <td>   -0.523    -0.428</td>\n",
       "</tr>\n",
       "<tr>\n",
       "  <th>entropy</th>        <td>    0.2097</td> <td>    0.019</td> <td>   11.156</td> <td> 0.000</td> <td>    0.173     0.247</td>\n",
       "</tr>\n",
       "<tr>\n",
       "  <th>units</th>          <td>    0.1170</td> <td>    0.016</td> <td>    7.270</td> <td> 0.000</td> <td>    0.085     0.149</td>\n",
       "</tr>\n",
       "<tr>\n",
       "  <th>inc_change</th>     <td>    0.2817</td> <td>    0.019</td> <td>   14.678</td> <td> 0.000</td> <td>    0.244     0.319</td>\n",
       "</tr>\n",
       "<tr>\n",
       "  <th>entropy_change</th> <td>    0.1095</td> <td>    0.025</td> <td>    4.402</td> <td> 0.000</td> <td>    0.061     0.158</td>\n",
       "</tr>\n",
       "<tr>\n",
       "  <th>units_change</th>   <td>   -0.0080</td> <td>    0.025</td> <td>   -0.313</td> <td> 0.754</td> <td>   -0.058     0.042</td>\n",
       "</tr>\n",
       "</table>\n",
       "<table class=\"simpletable\">\n",
       "<tr>\n",
       "  <th>Omnibus:</th>       <td>84.883</td> <th>  Durbin-Watson:     </th> <td>   1.713</td>\n",
       "</tr>\n",
       "<tr>\n",
       "  <th>Prob(Omnibus):</th> <td> 0.000</td> <th>  Jarque-Bera (JB):  </th> <td> 288.312</td>\n",
       "</tr>\n",
       "<tr>\n",
       "  <th>Skew:</th>          <td> 0.052</td> <th>  Prob(JB):          </th> <td>2.48e-63</td>\n",
       "</tr>\n",
       "<tr>\n",
       "  <th>Kurtosis:</th>      <td> 4.974</td> <th>  Cond. No.          </th> <td>    27.4</td>\n",
       "</tr>\n",
       "</table>"
      ],
      "text/plain": [
       "<class 'statsmodels.iolib.summary.Summary'>\n",
       "\"\"\"\n",
       "                            OLS Regression Results                            \n",
       "==============================================================================\n",
       "Dep. Variable:            rent_change   R-squared:                       0.291\n",
       "Model:                            OLS   Adj. R-squared:                  0.288\n",
       "Method:                 Least Squares   F-statistic:                     103.4\n",
       "Date:                Wed, 29 Nov 2017   Prob (F-statistic):          7.47e-127\n",
       "Time:                        19:29:42   Log-Likelihood:                 1462.8\n",
       "No. Observations:                1770   AIC:                            -2910.\n",
       "Df Residuals:                    1762   BIC:                            -2866.\n",
       "Df Model:                           7                                         \n",
       "Covariance Type:            nonrobust                                         \n",
       "==================================================================================\n",
       "                     coef    std err          t      P>|t|      [95.0% Conf. Int.]\n",
       "----------------------------------------------------------------------------------\n",
       "Intercept          0.2291      0.031      7.401      0.000         0.168     0.290\n",
       "inc                0.4527      0.024     18.512      0.000         0.405     0.501\n",
       "rent              -0.4755      0.024    -19.669      0.000        -0.523    -0.428\n",
       "entropy            0.2097      0.019     11.156      0.000         0.173     0.247\n",
       "units              0.1170      0.016      7.270      0.000         0.085     0.149\n",
       "inc_change         0.2817      0.019     14.678      0.000         0.244     0.319\n",
       "entropy_change     0.1095      0.025      4.402      0.000         0.061     0.158\n",
       "units_change      -0.0080      0.025     -0.313      0.754        -0.058     0.042\n",
       "==============================================================================\n",
       "Omnibus:                       84.883   Durbin-Watson:                   1.713\n",
       "Prob(Omnibus):                  0.000   Jarque-Bera (JB):              288.312\n",
       "Skew:                           0.052   Prob(JB):                     2.48e-63\n",
       "Kurtosis:                       4.974   Cond. No.                         27.4\n",
       "==============================================================================\n",
       "\n",
       "Warnings:\n",
       "[1] Standard Errors assume that the covariance matrix of the errors is correctly specified.\n",
       "\"\"\""
      ]
     },
     "execution_count": 33,
     "metadata": {},
     "output_type": "execute_result"
    }
   ],
   "source": [
    "model.summary()"
   ]
  },
  {
   "cell_type": "markdown",
   "metadata": {},
   "source": [
    "## 2000-2010 regression result"
   ]
  },
  {
   "cell_type": "code",
   "execution_count": 34,
   "metadata": {
    "collapsed": false
   },
   "outputs": [
    {
     "data": {
      "text/html": [
       "<table class=\"simpletable\">\n",
       "<caption>OLS Regression Results</caption>\n",
       "<tr>\n",
       "  <th>Dep. Variable:</th>       <td>rent_change</td>   <th>  R-squared:         </th> <td>   0.061</td>\n",
       "</tr>\n",
       "<tr>\n",
       "  <th>Model:</th>                   <td>OLS</td>       <th>  Adj. R-squared:    </th> <td>   0.057</td>\n",
       "</tr>\n",
       "<tr>\n",
       "  <th>Method:</th>             <td>Least Squares</td>  <th>  F-statistic:       </th> <td>   16.28</td>\n",
       "</tr>\n",
       "<tr>\n",
       "  <th>Date:</th>             <td>Wed, 29 Nov 2017</td> <th>  Prob (F-statistic):</th> <td>6.92e-21</td>\n",
       "</tr>\n",
       "<tr>\n",
       "  <th>Time:</th>                 <td>19:29:42</td>     <th>  Log-Likelihood:    </th> <td>  1484.2</td>\n",
       "</tr>\n",
       "<tr>\n",
       "  <th>No. Observations:</th>      <td>  1770</td>      <th>  AIC:               </th> <td>  -2952.</td>\n",
       "</tr>\n",
       "<tr>\n",
       "  <th>Df Residuals:</th>          <td>  1762</td>      <th>  BIC:               </th> <td>  -2909.</td>\n",
       "</tr>\n",
       "<tr>\n",
       "  <th>Df Model:</th>              <td>     7</td>      <th>                     </th>     <td> </td>   \n",
       "</tr>\n",
       "<tr>\n",
       "  <th>Covariance Type:</th>      <td>nonrobust</td>    <th>                     </th>     <td> </td>   \n",
       "</tr>\n",
       "</table>\n",
       "<table class=\"simpletable\">\n",
       "<tr>\n",
       "         <td></td>           <th>coef</th>     <th>std err</th>      <th>t</th>      <th>P>|t|</th> <th>[95.0% Conf. Int.]</th> \n",
       "</tr>\n",
       "<tr>\n",
       "  <th>Intercept</th>      <td>    0.5718</td> <td>    0.030</td> <td>   19.242</td> <td> 0.000</td> <td>    0.514     0.630</td>\n",
       "</tr>\n",
       "<tr>\n",
       "  <th>inc</th>            <td>    0.0826</td> <td>    0.032</td> <td>    2.618</td> <td> 0.009</td> <td>    0.021     0.144</td>\n",
       "</tr>\n",
       "<tr>\n",
       "  <th>rent</th>           <td>   -0.1784</td> <td>    0.029</td> <td>   -6.226</td> <td> 0.000</td> <td>   -0.235    -0.122</td>\n",
       "</tr>\n",
       "<tr>\n",
       "  <th>entropy</th>        <td>    0.0215</td> <td>    0.019</td> <td>    1.125</td> <td> 0.261</td> <td>   -0.016     0.059</td>\n",
       "</tr>\n",
       "<tr>\n",
       "  <th>units</th>          <td>   -0.0046</td> <td>    0.015</td> <td>   -0.309</td> <td> 0.757</td> <td>   -0.034     0.024</td>\n",
       "</tr>\n",
       "<tr>\n",
       "  <th>inc_change</th>     <td>    0.1259</td> <td>    0.017</td> <td>    7.519</td> <td> 0.000</td> <td>    0.093     0.159</td>\n",
       "</tr>\n",
       "<tr>\n",
       "  <th>entropy_change</th> <td>    0.0017</td> <td>    0.030</td> <td>    0.056</td> <td> 0.955</td> <td>   -0.057     0.061</td>\n",
       "</tr>\n",
       "<tr>\n",
       "  <th>units_change</th>   <td>    0.1612</td> <td>    0.055</td> <td>    2.912</td> <td> 0.004</td> <td>    0.053     0.270</td>\n",
       "</tr>\n",
       "</table>\n",
       "<table class=\"simpletable\">\n",
       "<tr>\n",
       "  <th>Omnibus:</th>       <td>80.193</td> <th>  Durbin-Watson:     </th> <td>   1.890</td>\n",
       "</tr>\n",
       "<tr>\n",
       "  <th>Prob(Omnibus):</th> <td> 0.000</td> <th>  Jarque-Bera (JB):  </th> <td> 261.660</td>\n",
       "</tr>\n",
       "<tr>\n",
       "  <th>Skew:</th>          <td> 0.044</td> <th>  Prob(JB):          </th> <td>1.52e-57</td>\n",
       "</tr>\n",
       "<tr>\n",
       "  <th>Kurtosis:</th>      <td> 4.882</td> <th>  Cond. No.          </th> <td>    35.8</td>\n",
       "</tr>\n",
       "</table>"
      ],
      "text/plain": [
       "<class 'statsmodels.iolib.summary.Summary'>\n",
       "\"\"\"\n",
       "                            OLS Regression Results                            \n",
       "==============================================================================\n",
       "Dep. Variable:            rent_change   R-squared:                       0.061\n",
       "Model:                            OLS   Adj. R-squared:                  0.057\n",
       "Method:                 Least Squares   F-statistic:                     16.28\n",
       "Date:                Wed, 29 Nov 2017   Prob (F-statistic):           6.92e-21\n",
       "Time:                        19:29:42   Log-Likelihood:                 1484.2\n",
       "No. Observations:                1770   AIC:                            -2952.\n",
       "Df Residuals:                    1762   BIC:                            -2909.\n",
       "Df Model:                           7                                         \n",
       "Covariance Type:            nonrobust                                         \n",
       "==================================================================================\n",
       "                     coef    std err          t      P>|t|      [95.0% Conf. Int.]\n",
       "----------------------------------------------------------------------------------\n",
       "Intercept          0.5718      0.030     19.242      0.000         0.514     0.630\n",
       "inc                0.0826      0.032      2.618      0.009         0.021     0.144\n",
       "rent              -0.1784      0.029     -6.226      0.000        -0.235    -0.122\n",
       "entropy            0.0215      0.019      1.125      0.261        -0.016     0.059\n",
       "units             -0.0046      0.015     -0.309      0.757        -0.034     0.024\n",
       "inc_change         0.1259      0.017      7.519      0.000         0.093     0.159\n",
       "entropy_change     0.0017      0.030      0.056      0.955        -0.057     0.061\n",
       "units_change       0.1612      0.055      2.912      0.004         0.053     0.270\n",
       "==============================================================================\n",
       "Omnibus:                       80.193   Durbin-Watson:                   1.890\n",
       "Prob(Omnibus):                  0.000   Jarque-Bera (JB):              261.660\n",
       "Skew:                           0.044   Prob(JB):                     1.52e-57\n",
       "Kurtosis:                       4.882   Cond. No.                         35.8\n",
       "==============================================================================\n",
       "\n",
       "Warnings:\n",
       "[1] Standard Errors assume that the covariance matrix of the errors is correctly specified.\n",
       "\"\"\""
      ]
     },
     "execution_count": 34,
     "metadata": {},
     "output_type": "execute_result"
    }
   ],
   "source": [
    "model_1.summary()"
   ]
  },
  {
   "cell_type": "markdown",
   "metadata": {},
   "source": [
    "## 1990-2000 + 2000-2010  regression result"
   ]
  },
  {
   "cell_type": "code",
   "execution_count": 35,
   "metadata": {
    "collapsed": false
   },
   "outputs": [
    {
     "data": {
      "text/html": [
       "<table class=\"simpletable\">\n",
       "<caption>OLS Regression Results</caption>\n",
       "<tr>\n",
       "  <th>Dep. Variable:</th>       <td>rent_change</td>   <th>  R-squared:         </th> <td>   0.273</td> \n",
       "</tr>\n",
       "<tr>\n",
       "  <th>Model:</th>                   <td>OLS</td>       <th>  Adj. R-squared:    </th> <td>   0.272</td> \n",
       "</tr>\n",
       "<tr>\n",
       "  <th>Method:</th>             <td>Least Squares</td>  <th>  F-statistic:       </th> <td>   189.8</td> \n",
       "</tr>\n",
       "<tr>\n",
       "  <th>Date:</th>             <td>Wed, 29 Nov 2017</td> <th>  Prob (F-statistic):</th> <td>1.89e-239</td>\n",
       "</tr>\n",
       "<tr>\n",
       "  <th>Time:</th>                 <td>19:29:42</td>     <th>  Log-Likelihood:    </th> <td>  2795.3</td> \n",
       "</tr>\n",
       "<tr>\n",
       "  <th>No. Observations:</th>      <td>  3540</td>      <th>  AIC:               </th> <td>  -5575.</td> \n",
       "</tr>\n",
       "<tr>\n",
       "  <th>Df Residuals:</th>          <td>  3532</td>      <th>  BIC:               </th> <td>  -5525.</td> \n",
       "</tr>\n",
       "<tr>\n",
       "  <th>Df Model:</th>              <td>     7</td>      <th>                     </th>     <td> </td>    \n",
       "</tr>\n",
       "<tr>\n",
       "  <th>Covariance Type:</th>      <td>nonrobust</td>    <th>                     </th>     <td> </td>    \n",
       "</tr>\n",
       "</table>\n",
       "<table class=\"simpletable\">\n",
       "<tr>\n",
       "         <td></td>           <th>coef</th>     <th>std err</th>      <th>t</th>      <th>P>|t|</th> <th>[95.0% Conf. Int.]</th> \n",
       "</tr>\n",
       "<tr>\n",
       "  <th>Intercept</th>      <td>    0.4415</td> <td>    0.022</td> <td>   20.097</td> <td> 0.000</td> <td>    0.398     0.485</td>\n",
       "</tr>\n",
       "<tr>\n",
       "  <th>inc</th>            <td>    0.2669</td> <td>    0.019</td> <td>   14.094</td> <td> 0.000</td> <td>    0.230     0.304</td>\n",
       "</tr>\n",
       "<tr>\n",
       "  <th>rent</th>           <td>   -0.3365</td> <td>    0.019</td> <td>  -17.941</td> <td> 0.000</td> <td>   -0.373    -0.300</td>\n",
       "</tr>\n",
       "<tr>\n",
       "  <th>entropy</th>        <td>    0.1284</td> <td>    0.014</td> <td>    9.400</td> <td> 0.000</td> <td>    0.102     0.155</td>\n",
       "</tr>\n",
       "<tr>\n",
       "  <th>units</th>          <td>    0.0316</td> <td>    0.011</td> <td>    2.846</td> <td> 0.004</td> <td>    0.010     0.053</td>\n",
       "</tr>\n",
       "<tr>\n",
       "  <th>inc_change</th>     <td>    0.2108</td> <td>    0.013</td> <td>   16.189</td> <td> 0.000</td> <td>    0.185     0.236</td>\n",
       "</tr>\n",
       "<tr>\n",
       "  <th>entropy_change</th> <td>    0.1094</td> <td>    0.017</td> <td>    6.254</td> <td> 0.000</td> <td>    0.075     0.144</td>\n",
       "</tr>\n",
       "<tr>\n",
       "  <th>units_change</th>   <td>   -0.2469</td> <td>    0.014</td> <td>  -17.664</td> <td> 0.000</td> <td>   -0.274    -0.219</td>\n",
       "</tr>\n",
       "</table>\n",
       "<table class=\"simpletable\">\n",
       "<tr>\n",
       "  <th>Omnibus:</th>       <td>150.022</td> <th>  Durbin-Watson:     </th> <td>   1.769</td> \n",
       "</tr>\n",
       "<tr>\n",
       "  <th>Prob(Omnibus):</th> <td> 0.000</td>  <th>  Jarque-Bera (JB):  </th> <td> 472.255</td> \n",
       "</tr>\n",
       "<tr>\n",
       "  <th>Skew:</th>          <td> 0.077</td>  <th>  Prob(JB):          </th> <td>2.83e-103</td>\n",
       "</tr>\n",
       "<tr>\n",
       "  <th>Kurtosis:</th>      <td> 4.783</td>  <th>  Cond. No.          </th> <td>    26.7</td> \n",
       "</tr>\n",
       "</table>"
      ],
      "text/plain": [
       "<class 'statsmodels.iolib.summary.Summary'>\n",
       "\"\"\"\n",
       "                            OLS Regression Results                            \n",
       "==============================================================================\n",
       "Dep. Variable:            rent_change   R-squared:                       0.273\n",
       "Model:                            OLS   Adj. R-squared:                  0.272\n",
       "Method:                 Least Squares   F-statistic:                     189.8\n",
       "Date:                Wed, 29 Nov 2017   Prob (F-statistic):          1.89e-239\n",
       "Time:                        19:29:42   Log-Likelihood:                 2795.3\n",
       "No. Observations:                3540   AIC:                            -5575.\n",
       "Df Residuals:                    3532   BIC:                            -5525.\n",
       "Df Model:                           7                                         \n",
       "Covariance Type:            nonrobust                                         \n",
       "==================================================================================\n",
       "                     coef    std err          t      P>|t|      [95.0% Conf. Int.]\n",
       "----------------------------------------------------------------------------------\n",
       "Intercept          0.4415      0.022     20.097      0.000         0.398     0.485\n",
       "inc                0.2669      0.019     14.094      0.000         0.230     0.304\n",
       "rent              -0.3365      0.019    -17.941      0.000        -0.373    -0.300\n",
       "entropy            0.1284      0.014      9.400      0.000         0.102     0.155\n",
       "units              0.0316      0.011      2.846      0.004         0.010     0.053\n",
       "inc_change         0.2108      0.013     16.189      0.000         0.185     0.236\n",
       "entropy_change     0.1094      0.017      6.254      0.000         0.075     0.144\n",
       "units_change      -0.2469      0.014    -17.664      0.000        -0.274    -0.219\n",
       "==============================================================================\n",
       "Omnibus:                      150.022   Durbin-Watson:                   1.769\n",
       "Prob(Omnibus):                  0.000   Jarque-Bera (JB):              472.255\n",
       "Skew:                           0.077   Prob(JB):                    2.83e-103\n",
       "Kurtosis:                       4.783   Cond. No.                         26.7\n",
       "==============================================================================\n",
       "\n",
       "Warnings:\n",
       "[1] Standard Errors assume that the covariance matrix of the errors is correctly specified.\n",
       "\"\"\""
      ]
     },
     "execution_count": 35,
     "metadata": {},
     "output_type": "execute_result"
    }
   ],
   "source": [
    "model_2.summary()"
   ]
  },
  {
   "cell_type": "markdown",
   "metadata": {},
   "source": []
  },
  {
   "cell_type": "markdown",
   "metadata": {},
   "source": [
    "## use the first 10 years to test latter 10 years"
   ]
  },
  {
   "cell_type": "code",
   "execution_count": 36,
   "metadata": {
    "collapsed": false
   },
   "outputs": [
    {
     "data": {
      "text/html": [
       "<div>\n",
       "<table border=\"1\" class=\"dataframe\">\n",
       "  <thead>\n",
       "    <tr style=\"text-align: right;\">\n",
       "      <th></th>\n",
       "      <th>inc</th>\n",
       "      <th>rent</th>\n",
       "      <th>entropy</th>\n",
       "      <th>units</th>\n",
       "      <th>inc_change</th>\n",
       "      <th>entropy_change</th>\n",
       "      <th>units_change</th>\n",
       "      <th>rent_change</th>\n",
       "    </tr>\n",
       "  </thead>\n",
       "  <tbody>\n",
       "    <tr>\n",
       "      <th>0</th>\n",
       "      <td>0.377683</td>\n",
       "      <td>0.711970</td>\n",
       "      <td>0.793073</td>\n",
       "      <td>0.105030</td>\n",
       "      <td>0.388886</td>\n",
       "      <td>0.464519</td>\n",
       "      <td>0.384006</td>\n",
       "      <td>0.226547</td>\n",
       "    </tr>\n",
       "    <tr>\n",
       "      <th>1</th>\n",
       "      <td>0.399758</td>\n",
       "      <td>0.453865</td>\n",
       "      <td>0.887558</td>\n",
       "      <td>0.058043</td>\n",
       "      <td>0.211059</td>\n",
       "      <td>0.482413</td>\n",
       "      <td>0.949193</td>\n",
       "      <td>0.383516</td>\n",
       "    </tr>\n",
       "  </tbody>\n",
       "</table>\n",
       "</div>"
      ],
      "text/plain": [
       "        inc      rent   entropy     units  inc_change  entropy_change  \\\n",
       "0  0.377683  0.711970  0.793073  0.105030    0.388886        0.464519   \n",
       "1  0.399758  0.453865  0.887558  0.058043    0.211059        0.482413   \n",
       "\n",
       "   units_change  rent_change  \n",
       "0      0.384006     0.226547  \n",
       "1      0.949193     0.383516  "
      ]
     },
     "execution_count": 36,
     "metadata": {},
     "output_type": "execute_result"
    }
   ],
   "source": [
    "train.head(2)"
   ]
  },
  {
   "cell_type": "code",
   "execution_count": 37,
   "metadata": {
    "collapsed": false
   },
   "outputs": [
    {
     "data": {
      "text/html": [
       "<div>\n",
       "<table border=\"1\" class=\"dataframe\">\n",
       "  <thead>\n",
       "    <tr style=\"text-align: right;\">\n",
       "      <th></th>\n",
       "      <th>inc</th>\n",
       "      <th>rent</th>\n",
       "      <th>entropy</th>\n",
       "      <th>units</th>\n",
       "      <th>inc_change</th>\n",
       "      <th>entropy_change</th>\n",
       "      <th>units_change</th>\n",
       "      <th>rent_change</th>\n",
       "    </tr>\n",
       "  </thead>\n",
       "  <tbody>\n",
       "    <tr>\n",
       "      <th>0</th>\n",
       "      <td>0.324224</td>\n",
       "      <td>0.437449</td>\n",
       "      <td>0.781640</td>\n",
       "      <td>0.115600</td>\n",
       "      <td>0.326530</td>\n",
       "      <td>0.633739</td>\n",
       "      <td>0.192816</td>\n",
       "      <td>0.710826</td>\n",
       "    </tr>\n",
       "    <tr>\n",
       "      <th>1</th>\n",
       "      <td>0.243885</td>\n",
       "      <td>0.366312</td>\n",
       "      <td>0.897852</td>\n",
       "      <td>0.133838</td>\n",
       "      <td>0.656091</td>\n",
       "      <td>0.588810</td>\n",
       "      <td>0.158484</td>\n",
       "      <td>0.873628</td>\n",
       "    </tr>\n",
       "  </tbody>\n",
       "</table>\n",
       "</div>"
      ],
      "text/plain": [
       "        inc      rent   entropy     units  inc_change  entropy_change  \\\n",
       "0  0.324224  0.437449  0.781640  0.115600    0.326530        0.633739   \n",
       "1  0.243885  0.366312  0.897852  0.133838    0.656091        0.588810   \n",
       "\n",
       "   units_change  rent_change  \n",
       "0      0.192816     0.710826  \n",
       "1      0.158484     0.873628  "
      ]
     },
     "execution_count": 37,
     "metadata": {},
     "output_type": "execute_result"
    }
   ],
   "source": [
    "test.head(2)"
   ]
  },
  {
   "cell_type": "code",
   "execution_count": 38,
   "metadata": {
    "collapsed": true
   },
   "outputs": [],
   "source": [
    "X_train = train.iloc[:,:-1]\n",
    "y_train = train.iloc[:,-1]\n",
    "X_test = test.iloc[:,:-1]\n",
    "y_test = test.iloc[:,-1]"
   ]
  },
  {
   "cell_type": "code",
   "execution_count": 39,
   "metadata": {
    "collapsed": true
   },
   "outputs": [],
   "source": [
    "def modelEval(lm, test = test, key = 'Y'):\n",
    "    lmy = lm.predict(test)\n",
    "    y_err = lmy - test[key]\n",
    "    y_norm = test[key]-np.mean(test[key])\n",
    "    return 1-y_err.dot(y_err)/y_norm.dot(y_norm)\n"
   ]
  },
  {
   "cell_type": "code",
   "execution_count": 40,
   "metadata": {
    "collapsed": false
   },
   "outputs": [
    {
     "data": {
      "text/plain": [
       "(0.29109681422116174, -0.75516345107303806)"
      ]
     },
     "execution_count": 40,
     "metadata": {},
     "output_type": "execute_result"
    }
   ],
   "source": [
    "R_2_IS_OLS = model.rsquared\n",
    "R_2_OS_OLS = modelEval(model, key = 'rent_change')\n",
    "OLS_coef = model.params\n",
    "\n",
    "R_2_IS_OLS, R_2_OS_OLS"
   ]
  },
  {
   "cell_type": "markdown",
   "metadata": {},
   "source": [
    "### out-of-sample R2 is less than 0. this model sucks."
   ]
  },
  {
   "cell_type": "markdown",
   "metadata": {},
   "source": [
    "### Try Ridge "
   ]
  },
  {
   "cell_type": "code",
   "execution_count": 41,
   "metadata": {
    "collapsed": true
   },
   "outputs": [],
   "source": [
    "def modelEval2(lm, X_test = X_test, y_test = y_test):\n",
    "    y_err = lm.predict(X_test) - y_test\n",
    "    y_norm = y_test - np.mean(y_test)\n",
    "    Rsquared = 1- y_err.dot(y_err)/y_norm.dot(y_norm)\n",
    "    return Rsquared"
   ]
  },
  {
   "cell_type": "code",
   "execution_count": 42,
   "metadata": {
    "collapsed": true
   },
   "outputs": [],
   "source": [
    "#Find the Alpha and report best test performance for Ridge/Lasso.\n",
    "def Regularization_fit_lambda(model,X_train,y_train,lambdas):\n",
    "    R_2_OS=[]\n",
    "    if model==1:\n",
    "        RM = lambda a: linear_model.Ridge(fit_intercept=True, alpha=a)\n",
    "        model_label='Ridge'\n",
    "    else:\n",
    "        RM = lambda a: linear_model.Lasso(fit_intercept=True, alpha=a)\n",
    "        model_label='Lasso'\n",
    "    \n",
    "    best_R2 = -1\n",
    "    best_lambda = lambdas[0]\n",
    "    \n",
    "    for i in lambdas:\n",
    "        lm = RM(i)\n",
    "        lm.fit(X_train,y_train)  \n",
    "        R_2_OS_ = modelEval2(lm, X_test, y_test)\n",
    "        R_2_OS.append(R_2_OS_)\n",
    "        \n",
    "        if R_2_OS_ > best_R2:\n",
    "            best_R2 = R_2_OS_\n",
    "            best_lambda = i\n",
    "    \n",
    "    return best_lambda"
   ]
  },
  {
   "cell_type": "code",
   "execution_count": 43,
   "metadata": {
    "collapsed": false
   },
   "outputs": [
    {
     "name": "stdout",
     "output_type": "stream",
     "text": [
      "Optimal lambda for Ridge=10.880091739883493\n"
     ]
    }
   ],
   "source": [
    "#select best lambda for Ridge\n",
    "lambdas = np.exp(np.linspace(-5,10,200))\n",
    "lambda_r_optimal=Regularization_fit_lambda(1,X_train,y_train,lambdas)\n",
    "print('Optimal lambda for Ridge={0}'.format(lambda_r_optimal))"
   ]
  },
  {
   "cell_type": "code",
   "execution_count": 44,
   "metadata": {
    "collapsed": false
   },
   "outputs": [
    {
     "name": "stdout",
     "output_type": "stream",
     "text": [
      "The R-squared we found for IS Ridge is: 0.2375039057238466\n",
      "The R-squared we found for OS Ridge is: -0.6459548019596497\n"
     ]
    }
   ],
   "source": [
    "Ridge = linear_model.Ridge(fit_intercept=True,alpha=lambda_r_optimal)\n",
    "\n",
    "Ridge.fit(X_train,y_train)\n",
    "\n",
    "Ridge_coef=Ridge.coef_\n",
    "R_2_IS_Ridge = modelEval2(Ridge, X_train, y_train)\n",
    "R_2_OS_Ridge = modelEval2(Ridge, X_test, y_test)\n",
    "\n",
    "print(\"The R-squared we found for IS Ridge is: {0}\".format(R_2_IS_Ridge))\n",
    "print(\"The R-squared we found for OS Ridge is: {0}\".format(R_2_OS_Ridge))"
   ]
  },
  {
   "cell_type": "code",
   "execution_count": 45,
   "metadata": {
    "collapsed": false
   },
   "outputs": [
    {
     "data": {
      "text/html": [
       "<div>\n",
       "<table border=\"1\" class=\"dataframe\">\n",
       "  <thead>\n",
       "    <tr style=\"text-align: right;\">\n",
       "      <th></th>\n",
       "      <th>OLS</th>\n",
       "      <th>Ridge</th>\n",
       "    </tr>\n",
       "    <tr>\n",
       "      <th></th>\n",
       "      <th></th>\n",
       "      <th></th>\n",
       "    </tr>\n",
       "  </thead>\n",
       "  <tbody>\n",
       "    <tr>\n",
       "      <th>inc</th>\n",
       "      <td>0.452736</td>\n",
       "      <td>0.199635</td>\n",
       "    </tr>\n",
       "    <tr>\n",
       "      <th>rent</th>\n",
       "      <td>-0.475543</td>\n",
       "      <td>-0.24822</td>\n",
       "    </tr>\n",
       "    <tr>\n",
       "      <th>entropy</th>\n",
       "      <td>0.209668</td>\n",
       "      <td>0.0885395</td>\n",
       "    </tr>\n",
       "    <tr>\n",
       "      <th>units</th>\n",
       "      <td>0.117003</td>\n",
       "      <td>0.102729</td>\n",
       "    </tr>\n",
       "    <tr>\n",
       "      <th>inc_change</th>\n",
       "      <td>0.281725</td>\n",
       "      <td>0.164327</td>\n",
       "    </tr>\n",
       "    <tr>\n",
       "      <th>entropy_change</th>\n",
       "      <td>0.109479</td>\n",
       "      <td>0.0122442</td>\n",
       "    </tr>\n",
       "    <tr>\n",
       "      <th>units_change</th>\n",
       "      <td>-0.00797249</td>\n",
       "      <td>-0.0458599</td>\n",
       "    </tr>\n",
       "    <tr>\n",
       "      <th>R2_train</th>\n",
       "      <td>0.291097</td>\n",
       "      <td>0.237504</td>\n",
       "    </tr>\n",
       "    <tr>\n",
       "      <th>R2_test</th>\n",
       "      <td>-0.755163</td>\n",
       "      <td>-0.645955</td>\n",
       "    </tr>\n",
       "  </tbody>\n",
       "</table>\n",
       "</div>"
      ],
      "text/plain": [
       "                       OLS      Ridge\n",
       "                                     \n",
       "inc               0.452736   0.199635\n",
       "rent             -0.475543   -0.24822\n",
       "entropy           0.209668  0.0885395\n",
       "units             0.117003   0.102729\n",
       "inc_change        0.281725   0.164327\n",
       "entropy_change    0.109479  0.0122442\n",
       "units_change   -0.00797249 -0.0458599\n",
       "R2_train          0.291097   0.237504\n",
       "R2_test          -0.755163  -0.645955"
      ]
     },
     "execution_count": 45,
     "metadata": {},
     "output_type": "execute_result"
    }
   ],
   "source": [
    "#let's look at the final coefficients\n",
    "name=list(OLS_coef.index)[1:]\n",
    "\n",
    "result=[name, np.ndarray.tolist(np.asarray(OLS_coef[1:])),\n",
    "        np.ndarray.tolist(Ridge_coef)] \n",
    "\n",
    "temp=pd.DataFrame(result).T\n",
    "\n",
    "R2_IS=pd.DataFrame(['R2_train',R_2_IS_OLS, R_2_IS_Ridge]).T \n",
    "R2_OS=pd.DataFrame(['R2_test',R_2_OS_OLS, R_2_OS_Ridge]).T \n",
    "\n",
    "\n",
    "temp=temp.append([R2_IS, R2_OS])\n",
    "result=temp\n",
    "\n",
    "result.columns=['','OLS','Ridge'] \n",
    "result.set_index('')"
   ]
  },
  {
   "cell_type": "markdown",
   "metadata": {},
   "source": [
    "## Ridge regression does not get a better result than OLS"
   ]
  },
  {
   "cell_type": "code",
   "execution_count": null,
   "metadata": {
    "collapsed": true
   },
   "outputs": [],
   "source": []
  },
  {
   "cell_type": "markdown",
   "metadata": {
    "collapsed": true
   },
   "source": [
    "# Use 20 years data together to do train and test"
   ]
  },
  {
   "cell_type": "code",
   "execution_count": 46,
   "metadata": {
    "collapsed": false
   },
   "outputs": [
    {
     "data": {
      "text/plain": [
       "((2478, 7), (2478,), (1062, 7), (1062,))"
      ]
     },
     "execution_count": 46,
     "metadata": {},
     "output_type": "execute_result"
    }
   ],
   "source": [
    "from sklearn.model_selection import train_test_split\n",
    "train2, test2  = train_test_split(total, test_size = 0.3)\n",
    "\n",
    "X_train2 = train2.iloc[:,:-1]\n",
    "y_train2 = train2.iloc[:,-1]\n",
    "X_test2 = test2.iloc[:,:-1]\n",
    "y_test2 = test2.iloc[:,-1]\n",
    "X_train2.shape, y_train2.shape, X_test2.shape, y_test2.shape"
   ]
  },
  {
   "cell_type": "code",
   "execution_count": 47,
   "metadata": {
    "collapsed": false
   },
   "outputs": [
    {
     "data": {
      "text/html": [
       "<table class=\"simpletable\">\n",
       "<caption>OLS Regression Results</caption>\n",
       "<tr>\n",
       "  <th>Dep. Variable:</th>       <td>rent_change</td>   <th>  R-squared:         </th> <td>   0.271</td> \n",
       "</tr>\n",
       "<tr>\n",
       "  <th>Model:</th>                   <td>OLS</td>       <th>  Adj. R-squared:    </th> <td>   0.269</td> \n",
       "</tr>\n",
       "<tr>\n",
       "  <th>Method:</th>             <td>Least Squares</td>  <th>  F-statistic:       </th> <td>   130.9</td> \n",
       "</tr>\n",
       "<tr>\n",
       "  <th>Date:</th>             <td>Wed, 29 Nov 2017</td> <th>  Prob (F-statistic):</th> <td>3.68e-164</td>\n",
       "</tr>\n",
       "<tr>\n",
       "  <th>Time:</th>                 <td>19:29:43</td>     <th>  Log-Likelihood:    </th> <td>  1964.4</td> \n",
       "</tr>\n",
       "<tr>\n",
       "  <th>No. Observations:</th>      <td>  2478</td>      <th>  AIC:               </th> <td>  -3913.</td> \n",
       "</tr>\n",
       "<tr>\n",
       "  <th>Df Residuals:</th>          <td>  2470</td>      <th>  BIC:               </th> <td>  -3866.</td> \n",
       "</tr>\n",
       "<tr>\n",
       "  <th>Df Model:</th>              <td>     7</td>      <th>                     </th>     <td> </td>    \n",
       "</tr>\n",
       "<tr>\n",
       "  <th>Covariance Type:</th>      <td>nonrobust</td>    <th>                     </th>     <td> </td>    \n",
       "</tr>\n",
       "</table>\n",
       "<table class=\"simpletable\">\n",
       "<tr>\n",
       "         <td></td>           <th>coef</th>     <th>std err</th>      <th>t</th>      <th>P>|t|</th> <th>[95.0% Conf. Int.]</th> \n",
       "</tr>\n",
       "<tr>\n",
       "  <th>Intercept</th>      <td>    0.4226</td> <td>    0.026</td> <td>   16.098</td> <td> 0.000</td> <td>    0.371     0.474</td>\n",
       "</tr>\n",
       "<tr>\n",
       "  <th>inc</th>            <td>    0.2642</td> <td>    0.023</td> <td>   11.404</td> <td> 0.000</td> <td>    0.219     0.310</td>\n",
       "</tr>\n",
       "<tr>\n",
       "  <th>rent</th>           <td>   -0.3313</td> <td>    0.023</td> <td>  -14.483</td> <td> 0.000</td> <td>   -0.376    -0.286</td>\n",
       "</tr>\n",
       "<tr>\n",
       "  <th>entropy</th>        <td>    0.1358</td> <td>    0.017</td> <td>    8.213</td> <td> 0.000</td> <td>    0.103     0.168</td>\n",
       "</tr>\n",
       "<tr>\n",
       "  <th>units</th>          <td>    0.0427</td> <td>    0.013</td> <td>    3.190</td> <td> 0.001</td> <td>    0.016     0.069</td>\n",
       "</tr>\n",
       "<tr>\n",
       "  <th>inc_change</th>     <td>    0.2150</td> <td>    0.016</td> <td>   13.865</td> <td> 0.000</td> <td>    0.185     0.245</td>\n",
       "</tr>\n",
       "<tr>\n",
       "  <th>entropy_change</th> <td>    0.1190</td> <td>    0.021</td> <td>    5.700</td> <td> 0.000</td> <td>    0.078     0.160</td>\n",
       "</tr>\n",
       "<tr>\n",
       "  <th>units_change</th>   <td>   -0.2434</td> <td>    0.017</td> <td>  -14.336</td> <td> 0.000</td> <td>   -0.277    -0.210</td>\n",
       "</tr>\n",
       "</table>\n",
       "<table class=\"simpletable\">\n",
       "<tr>\n",
       "  <th>Omnibus:</th>       <td>107.997</td> <th>  Durbin-Watson:     </th> <td>   2.011</td>\n",
       "</tr>\n",
       "<tr>\n",
       "  <th>Prob(Omnibus):</th> <td> 0.000</td>  <th>  Jarque-Bera (JB):  </th> <td> 353.139</td>\n",
       "</tr>\n",
       "<tr>\n",
       "  <th>Skew:</th>          <td> 0.005</td>  <th>  Prob(JB):          </th> <td>2.07e-77</td>\n",
       "</tr>\n",
       "<tr>\n",
       "  <th>Kurtosis:</th>      <td> 4.849</td>  <th>  Cond. No.          </th> <td>    26.9</td>\n",
       "</tr>\n",
       "</table>"
      ],
      "text/plain": [
       "<class 'statsmodels.iolib.summary.Summary'>\n",
       "\"\"\"\n",
       "                            OLS Regression Results                            \n",
       "==============================================================================\n",
       "Dep. Variable:            rent_change   R-squared:                       0.271\n",
       "Model:                            OLS   Adj. R-squared:                  0.269\n",
       "Method:                 Least Squares   F-statistic:                     130.9\n",
       "Date:                Wed, 29 Nov 2017   Prob (F-statistic):          3.68e-164\n",
       "Time:                        19:29:43   Log-Likelihood:                 1964.4\n",
       "No. Observations:                2478   AIC:                            -3913.\n",
       "Df Residuals:                    2470   BIC:                            -3866.\n",
       "Df Model:                           7                                         \n",
       "Covariance Type:            nonrobust                                         \n",
       "==================================================================================\n",
       "                     coef    std err          t      P>|t|      [95.0% Conf. Int.]\n",
       "----------------------------------------------------------------------------------\n",
       "Intercept          0.4226      0.026     16.098      0.000         0.371     0.474\n",
       "inc                0.2642      0.023     11.404      0.000         0.219     0.310\n",
       "rent              -0.3313      0.023    -14.483      0.000        -0.376    -0.286\n",
       "entropy            0.1358      0.017      8.213      0.000         0.103     0.168\n",
       "units              0.0427      0.013      3.190      0.001         0.016     0.069\n",
       "inc_change         0.2150      0.016     13.865      0.000         0.185     0.245\n",
       "entropy_change     0.1190      0.021      5.700      0.000         0.078     0.160\n",
       "units_change      -0.2434      0.017    -14.336      0.000        -0.277    -0.210\n",
       "==============================================================================\n",
       "Omnibus:                      107.997   Durbin-Watson:                   2.011\n",
       "Prob(Omnibus):                  0.000   Jarque-Bera (JB):              353.139\n",
       "Skew:                           0.005   Prob(JB):                     2.07e-77\n",
       "Kurtosis:                       4.849   Cond. No.                         26.9\n",
       "==============================================================================\n",
       "\n",
       "Warnings:\n",
       "[1] Standard Errors assume that the covariance matrix of the errors is correctly specified.\n",
       "\"\"\""
      ]
     },
     "execution_count": 47,
     "metadata": {},
     "output_type": "execute_result"
    }
   ],
   "source": [
    "model2 = smf.ols('rent_change ~ '+ '+'.join(X_train2.columns) ,train2).fit()\n",
    "model2.summary()"
   ]
  },
  {
   "cell_type": "code",
   "execution_count": 48,
   "metadata": {
    "collapsed": false
   },
   "outputs": [
    {
     "data": {
      "text/plain": [
       "(0.27058458927185713, 0.27785710930634711)"
      ]
     },
     "execution_count": 48,
     "metadata": {},
     "output_type": "execute_result"
    }
   ],
   "source": [
    "OLS_coef2 = model2.params\n",
    "R_2_IS_OLS2 = model2.rsquared\n",
    "R_2_OS_OLS2 = modelEval(model2, test = test2, key = 'rent_change')\n",
    "R_2_IS_OLS2, R_2_OS_OLS2"
   ]
  },
  {
   "cell_type": "code",
   "execution_count": 49,
   "metadata": {
    "collapsed": false
   },
   "outputs": [
    {
     "name": "stdout",
     "output_type": "stream",
     "text": [
      "Optimal lambda for Ridge=10.880091739883493\n"
     ]
    }
   ],
   "source": [
    "lambdas = np.exp(np.linspace(-5,10,200))\n",
    "lambda_r_optimal2 = Regularization_fit_lambda(1,X_train2,y_train2,lambdas)\n",
    "print('Optimal lambda for Ridge={0}'.format(lambda_r_optimal2))\n"
   ]
  },
  {
   "cell_type": "code",
   "execution_count": 50,
   "metadata": {
    "collapsed": false
   },
   "outputs": [
    {
     "name": "stdout",
     "output_type": "stream",
     "text": [
      "The R-squared we found for IS Ridge is: 0.252825243595188\n",
      "The R-squared we found for OS Ridge is: 0.25774102031446056\n"
     ]
    }
   ],
   "source": [
    "Ridge2 = linear_model.Ridge(fit_intercept=True,alpha=lambda_r_optimal2)\n",
    "\n",
    "Ridge2.fit(X_train2,y_train2)\n",
    "\n",
    "Ridge_coef2 = Ridge2.coef_\n",
    "R_2_IS_Ridge2 = modelEval2(Ridge2, X_train2, y_train2)\n",
    "R_2_OS_Ridge2 = modelEval2(Ridge2, X_test2, y_test2)\n",
    "\n",
    "print(\"The R-squared we found for IS Ridge is: {0}\".format(R_2_IS_Ridge2))\n",
    "print(\"The R-squared we found for OS Ridge is: {0}\".format(R_2_OS_Ridge2))"
   ]
  },
  {
   "cell_type": "code",
   "execution_count": 52,
   "metadata": {
    "collapsed": false
   },
   "outputs": [
    {
     "data": {
      "text/html": [
       "<div>\n",
       "<table border=\"1\" class=\"dataframe\">\n",
       "  <thead>\n",
       "    <tr style=\"text-align: right;\">\n",
       "      <th></th>\n",
       "      <th>OLS2</th>\n",
       "      <th>Ridge2</th>\n",
       "    </tr>\n",
       "    <tr>\n",
       "      <th></th>\n",
       "      <th></th>\n",
       "      <th></th>\n",
       "    </tr>\n",
       "  </thead>\n",
       "  <tbody>\n",
       "    <tr>\n",
       "      <th>inc</th>\n",
       "      <td>0.264224</td>\n",
       "      <td>0.110507</td>\n",
       "    </tr>\n",
       "    <tr>\n",
       "      <th>rent</th>\n",
       "      <td>-0.331259</td>\n",
       "      <td>-0.187654</td>\n",
       "    </tr>\n",
       "    <tr>\n",
       "      <th>entropy</th>\n",
       "      <td>0.135835</td>\n",
       "      <td>0.0662357</td>\n",
       "    </tr>\n",
       "    <tr>\n",
       "      <th>units</th>\n",
       "      <td>0.0426687</td>\n",
       "      <td>0.0404472</td>\n",
       "    </tr>\n",
       "    <tr>\n",
       "      <th>inc_change</th>\n",
       "      <td>0.214983</td>\n",
       "      <td>0.162225</td>\n",
       "    </tr>\n",
       "    <tr>\n",
       "      <th>entropy_change</th>\n",
       "      <td>0.119038</td>\n",
       "      <td>0.0821527</td>\n",
       "    </tr>\n",
       "    <tr>\n",
       "      <th>units_change</th>\n",
       "      <td>-0.243373</td>\n",
       "      <td>-0.213986</td>\n",
       "    </tr>\n",
       "    <tr>\n",
       "      <th>R2_train</th>\n",
       "      <td>0.270585</td>\n",
       "      <td>0.252825</td>\n",
       "    </tr>\n",
       "    <tr>\n",
       "      <th>R2_test</th>\n",
       "      <td>0.277857</td>\n",
       "      <td>0.257741</td>\n",
       "    </tr>\n",
       "  </tbody>\n",
       "</table>\n",
       "</div>"
      ],
      "text/plain": [
       "                     OLS2     Ridge2\n",
       "                                    \n",
       "inc              0.264224   0.110507\n",
       "rent            -0.331259  -0.187654\n",
       "entropy          0.135835  0.0662357\n",
       "units           0.0426687  0.0404472\n",
       "inc_change       0.214983   0.162225\n",
       "entropy_change   0.119038  0.0821527\n",
       "units_change    -0.243373  -0.213986\n",
       "R2_train         0.270585   0.252825\n",
       "R2_test          0.277857   0.257741"
      ]
     },
     "execution_count": 52,
     "metadata": {},
     "output_type": "execute_result"
    }
   ],
   "source": [
    "name=list(OLS_coef2.index)[1:] \n",
    "\n",
    "result = [name, np.ndarray.tolist(np.asarray(OLS_coef2[1:])),\n",
    "        np.ndarray.tolist(Ridge_coef2)]\n",
    "temp = pd.DataFrame(result).T\n",
    "R2_IS2 = pd.DataFrame(['R2_train', R_2_IS_OLS2, R_2_IS_Ridge2]).T \n",
    "R2_OS2 = pd.DataFrame(['R2_test', R_2_OS_OLS2, R_2_OS_Ridge2]).T \n",
    "\n",
    "temp = temp.append([R2_IS2, R2_OS2])\n",
    "result = temp\n",
    "result.columns=['','OLS2','Ridge2']\n",
    "result.set_index('')"
   ]
  },
  {
   "cell_type": "code",
   "execution_count": null,
   "metadata": {
    "collapsed": true
   },
   "outputs": [],
   "source": []
  },
  {
   "cell_type": "markdown",
   "metadata": {},
   "source": [
    "# Multi-linear regression analysis conclusion\n",
    "\n",
    "### Fomular: Rent change ~ Rent + Income + Income change + entropy index + entropy index change + rent units + rent units change\n",
    "\n",
    "#### Data prepared: normalized \n",
    "\n",
    "### Regression results explanation:\n",
    "- Rsquared of 1990-2000, and 1990-2000 + 2000-2010 total , is between **0.27-0.3**. However, 2000-2010's Rsquared is pretty low, roughly 0.06. It means that the rent growth are less related to the income, entropy index and number of renter units than before. (**Is that because the rent market has faced more governmental interference recently, like rent control,  rent stabilization, inclusionary zoning programs, public housing, etc.? **)\n",
    "\n",
    "\n",
    "\n",
    "- **Income, rent, and income change are always the primary factors** influencing the rent growth.\n",
    "\n",
    "\n",
    "- Rent has the main negative effect on rent growth. Higher rent, slower rent growth, which is obvious.\n",
    "\n",
    "\n",
    "- The number change of rent units also has negative influence on rent growth between 1990-2000, but not statistically significant(p>0.7).\n",
    "\n",
    "- Entropy index, entropy index change, as well as the number of rent units are not statistically significant in 2000-2010(p>0.2, 0.9, 0.7).\n",
    "\n",
    "- Generally, **it's hard to find relationship between rent growth with either entropy index, or entropy index change(the coef efficiencies are small)**. They have weak positive corelation with rent growth between 1990-2000, but nearly no corelation relationship between 2000-2010.\n",
    "\n",
    "### Train-test results:\n",
    "- The result is awful if use 1990-2000 model to predict 2000-2010 rent growth. Test Rsquared is negative.\n",
    "\n",
    "- For the dataset of 1990-2000 + 2000-2010 total, if splited into train-test set, the Rsquared for train and test are both about 0.27. \n",
    "\n"
   ]
  },
  {
   "cell_type": "code",
   "execution_count": null,
   "metadata": {
    "collapsed": true
   },
   "outputs": [],
   "source": []
  }
 ],
 "metadata": {
  "kernelspec": {
   "display_name": "Python 3",
   "language": "python",
   "name": "python3"
  },
  "language_info": {
   "codemirror_mode": {
    "name": "ipython",
    "version": 3
   },
   "file_extension": ".py",
   "mimetype": "text/x-python",
   "name": "python",
   "nbconvert_exporter": "python",
   "pygments_lexer": "ipython3",
   "version": "3.6.0"
  }
 },
 "nbformat": 4,
 "nbformat_minor": 2
}
