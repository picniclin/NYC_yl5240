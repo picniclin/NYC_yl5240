{
 "cells": [
  {
   "cell_type": "code",
   "execution_count": 1,
   "metadata": {
    "collapsed": true
   },
   "outputs": [],
   "source": [
    "import pandas as pd\n",
    "import numpy as np\n",
    "import matplotlib.pylab as plt\n",
    "%matplotlib inline\n",
    "import statsmodels.formula.api as smf"
   ]
  },
  {
   "cell_type": "markdown",
   "metadata": {},
   "source": [
    "# Target: measure the relationship between the change of housing rent price and entropy index of income_level groups"
   ]
  },
  {
   "cell_type": "markdown",
   "metadata": {
    "collapsed": true
   },
   "source": [
    "the dataframes:\n",
    "- df_PUMA: the PUMA list, incuding the code, community districts and the neighborhoods' names\n",
    "\n",
    "- df: cleaned dataset\n",
    "- df_all: all origin variables, combining dataset and PUMA information\n",
    "\n",
    "\n",
    "- df_census_entropy: entropy index for 2089 census tracts\n",
    "- df_puma_entropy: entropy index for 55 PUMAs\n",
    "\n",
    "\n",
    "\n",
    "all useful variables except entropy index, including rent, income, rent growth, income growth, rent-income-ratio:\n",
    "- df2: , at census tract level\n",
    "- df_puma_median, at puma level, the median value of the census tracts in each PUMA\n",
    "\n",
    "\n",
    "**all useful variables for analysis**, above + entropy index + entropy index change:\n",
    "- **df_census_analysis** \n",
    "- **df_puma_analysis**\n",
    "\n",
    "\n",
    "entropy and rent, **for regression**:\n",
    "- **df_census_entropy_rent**\n",
    "- **df_puma_entropy_rent**\n",
    "\n",
    "\n",
    "\n",
    "\n",
    "\n",
    "\n"
   ]
  },
  {
   "cell_type": "markdown",
   "metadata": {},
   "source": [
    "# 1.Data cleaning"
   ]
  },
  {
   "cell_type": "markdown",
   "metadata": {},
   "source": [
    "# 1.1 clean dataset\n",
    "This dataset is exported from Geolytics: Neighborhood Change Database (NACD)\n",
    "(http://demographics.geolytics.com/ncdb2010/default.aspx)\n",
    "\n",
    "\n",
    "### the dataset has been uploaded on:\n",
    " https://github.com/picniclin/NYC_yl5240/blob/master/geolytics_NYC_census_1990-2010.csv\n",
    " \n",
    "or\n",
    "https://drive.google.com/a/nyu.edu/file/d/0B2HY61hRpF-jV21KSTVsbi1wS3M/view?usp=sharing"
   ]
  },
  {
   "cell_type": "code",
   "execution_count": 2,
   "metadata": {
    "collapsed": false
   },
   "outputs": [],
   "source": [
    "df = pd.read_csv('/Users/apple/Desktop/NYC_yl5240/geolytics_NYC_census_1990-2010.csv')"
   ]
  },
  {
   "cell_type": "code",
   "execution_count": 3,
   "metadata": {
    "collapsed": false
   },
   "outputs": [
    {
     "data": {
      "text/plain": [
       "(2168, 146)"
      ]
     },
     "execution_count": 3,
     "metadata": {},
     "output_type": "execute_result"
    }
   ],
   "source": [
    "df.shape"
   ]
  },
  {
   "cell_type": "code",
   "execution_count": 4,
   "metadata": {
    "collapsed": false,
    "scrolled": true
   },
   "outputs": [
    {
     "data": {
      "text/html": [
       "<div>\n",
       "<table border=\"1\" class=\"dataframe\">\n",
       "  <thead>\n",
       "    <tr style=\"text-align: right;\">\n",
       "      <th></th>\n",
       "      <th>AREAKEY</th>\n",
       "      <th>STATE</th>\n",
       "      <th>STUSAB</th>\n",
       "      <th>INTPTLAT</th>\n",
       "      <th>INTPTLON</th>\n",
       "      <th>TCH_90_10</th>\n",
       "      <th>TCH_00_10</th>\n",
       "      <th>ZCTA5</th>\n",
       "      <th>TRCTPOP9</th>\n",
       "      <th>POVRAT9N</th>\n",
       "      <th>...</th>\n",
       "      <th>THY01001A</th>\n",
       "      <th>THY01251A</th>\n",
       "      <th>THY01501A</th>\n",
       "      <th>THY02001A</th>\n",
       "      <th>THY0M201A</th>\n",
       "      <th>MDHHY1A</th>\n",
       "      <th>MDVALHS1A</th>\n",
       "      <th>MCSMORT1A</th>\n",
       "      <th>MCSNMOR1A</th>\n",
       "      <th>MDGRENT1A</th>\n",
       "    </tr>\n",
       "  </thead>\n",
       "  <tbody>\n",
       "    <tr>\n",
       "      <th>0</th>\n",
       "      <td>36005000100</td>\n",
       "      <td>36</td>\n",
       "      <td>NY</td>\n",
       "      <td>40.793492</td>\n",
       "      <td>-73.883532</td>\n",
       "      <td>0</td>\n",
       "      <td>0</td>\n",
       "      <td>11370.0</td>\n",
       "      <td>14303</td>\n",
       "      <td>0</td>\n",
       "      <td>...</td>\n",
       "      <td>0</td>\n",
       "      <td>0</td>\n",
       "      <td>0</td>\n",
       "      <td>0</td>\n",
       "      <td>0</td>\n",
       "      <td>0</td>\n",
       "      <td>0</td>\n",
       "      <td>0</td>\n",
       "      <td>0</td>\n",
       "      <td>0</td>\n",
       "    </tr>\n",
       "    <tr>\n",
       "      <th>1</th>\n",
       "      <td>36005000200</td>\n",
       "      <td>36</td>\n",
       "      <td>NY</td>\n",
       "      <td>40.804573</td>\n",
       "      <td>-73.856859</td>\n",
       "      <td>3</td>\n",
       "      <td>3</td>\n",
       "      <td>10473.0</td>\n",
       "      <td>2907</td>\n",
       "      <td>411</td>\n",
       "      <td>...</td>\n",
       "      <td>152</td>\n",
       "      <td>203</td>\n",
       "      <td>48</td>\n",
       "      <td>68</td>\n",
       "      <td>11</td>\n",
       "      <td>59826</td>\n",
       "      <td>392500</td>\n",
       "      <td>2661</td>\n",
       "      <td>650</td>\n",
       "      <td>1273</td>\n",
       "    </tr>\n",
       "    <tr>\n",
       "      <th>2</th>\n",
       "      <td>36005000400</td>\n",
       "      <td>36</td>\n",
       "      <td>NY</td>\n",
       "      <td>40.808915</td>\n",
       "      <td>-73.850488</td>\n",
       "      <td>4</td>\n",
       "      <td>4</td>\n",
       "      <td>10473.0</td>\n",
       "      <td>2260</td>\n",
       "      <td>225</td>\n",
       "      <td>...</td>\n",
       "      <td>255</td>\n",
       "      <td>97</td>\n",
       "      <td>161</td>\n",
       "      <td>96</td>\n",
       "      <td>73</td>\n",
       "      <td>71968</td>\n",
       "      <td>393700</td>\n",
       "      <td>2206</td>\n",
       "      <td>679</td>\n",
       "      <td>1330</td>\n",
       "    </tr>\n",
       "    <tr>\n",
       "      <th>3</th>\n",
       "      <td>36005001600</td>\n",
       "      <td>36</td>\n",
       "      <td>NY</td>\n",
       "      <td>40.818848</td>\n",
       "      <td>-73.858076</td>\n",
       "      <td>0</td>\n",
       "      <td>0</td>\n",
       "      <td>10473.0</td>\n",
       "      <td>5254</td>\n",
       "      <td>893</td>\n",
       "      <td>...</td>\n",
       "      <td>171</td>\n",
       "      <td>20</td>\n",
       "      <td>38</td>\n",
       "      <td>20</td>\n",
       "      <td>0</td>\n",
       "      <td>30355</td>\n",
       "      <td>378100</td>\n",
       "      <td>2500</td>\n",
       "      <td>649</td>\n",
       "      <td>823</td>\n",
       "    </tr>\n",
       "    <tr>\n",
       "      <th>4</th>\n",
       "      <td>36005001900</td>\n",
       "      <td>36</td>\n",
       "      <td>NY</td>\n",
       "      <td>40.800999</td>\n",
       "      <td>-73.909373</td>\n",
       "      <td>4</td>\n",
       "      <td>4</td>\n",
       "      <td>10454.0</td>\n",
       "      <td>1575</td>\n",
       "      <td>797</td>\n",
       "      <td>...</td>\n",
       "      <td>14</td>\n",
       "      <td>19</td>\n",
       "      <td>21</td>\n",
       "      <td>0</td>\n",
       "      <td>0</td>\n",
       "      <td>25093</td>\n",
       "      <td>0</td>\n",
       "      <td>0</td>\n",
       "      <td>539</td>\n",
       "      <td>870</td>\n",
       "    </tr>\n",
       "  </tbody>\n",
       "</table>\n",
       "<p>5 rows × 146 columns</p>\n",
       "</div>"
      ],
      "text/plain": [
       "       AREAKEY  STATE STUSAB   INTPTLAT   INTPTLON  TCH_90_10  TCH_00_10  \\\n",
       "0  36005000100     36     NY  40.793492 -73.883532          0          0   \n",
       "1  36005000200     36     NY  40.804573 -73.856859          3          3   \n",
       "2  36005000400     36     NY  40.808915 -73.850488          4          4   \n",
       "3  36005001600     36     NY  40.818848 -73.858076          0          0   \n",
       "4  36005001900     36     NY  40.800999 -73.909373          4          4   \n",
       "\n",
       "     ZCTA5  TRCTPOP9  POVRAT9N    ...      THY01001A  THY01251A  THY01501A  \\\n",
       "0  11370.0     14303         0    ...              0          0          0   \n",
       "1  10473.0      2907       411    ...            152        203         48   \n",
       "2  10473.0      2260       225    ...            255         97        161   \n",
       "3  10473.0      5254       893    ...            171         20         38   \n",
       "4  10454.0      1575       797    ...             14         19         21   \n",
       "\n",
       "   THY02001A  THY0M201A  MDHHY1A  MDVALHS1A  MCSMORT1A  MCSNMOR1A  MDGRENT1A  \n",
       "0          0          0        0          0          0          0          0  \n",
       "1         68         11    59826     392500       2661        650       1273  \n",
       "2         96         73    71968     393700       2206        679       1330  \n",
       "3         20          0    30355     378100       2500        649        823  \n",
       "4          0          0    25093          0          0        539        870  \n",
       "\n",
       "[5 rows x 146 columns]"
      ]
     },
     "execution_count": 4,
     "metadata": {},
     "output_type": "execute_result"
    }
   ],
   "source": [
    "df.head()"
   ]
  },
  {
   "cell_type": "code",
   "execution_count": 5,
   "metadata": {
    "collapsed": false
   },
   "outputs": [],
   "source": [
    "# check the columns names\n",
    "# list(df.columns)"
   ]
  },
  {
   "cell_type": "markdown",
   "metadata": {},
   "source": [
    "## make the column names readable"
   ]
  },
  {
   "cell_type": "code",
   "execution_count": 6,
   "metadata": {
    "collapsed": false
   },
   "outputs": [
    {
     "data": {
      "text/plain": [
       "Index(['AREAKEY', 'STATE', 'STUSAB', 'INTPTLAT', 'INTPTLON', 'TCH_90_10',\n",
       "       'TCH_00_10', 'ZCTA5', 'pop9', 'poverty9N',\n",
       "       ...\n",
       "       'hh_inc_1001', 'hh_inc_1251', 'hh_inc_1501', 'hh_inc_2001',\n",
       "       'hh_inc_max_201', 'median_inc_hh_1', 'median_house_value_1',\n",
       "       'owner_cost_mo_1', 'owner_cost_no_mo_1', 'median_rent_1'],\n",
       "      dtype='object', length=146)"
      ]
     },
     "execution_count": 6,
     "metadata": {},
     "output_type": "execute_result"
    }
   ],
   "source": [
    "cols = df.columns.str.replace('TRCTPOP', 'pop')\\\n",
    "            .str.replace('MDFAMY','median_inc_fam_')\\\n",
    "            .str.replace('FAVINC', 'ave_inc_fam_')\\\n",
    "            .str.replace('MDHHY', 'median_inc_hh_')\\\n",
    "            .str.replace('AVHHIN', 'ave_inc_hh_')\\\n",
    "            .str.replace('FALTY', 'fam_inc_')\\\n",
    "            .str.replace('FALT', 'fam_inc_')\\\n",
    "            .str.replace('MXB', 'max_')\\\n",
    "            .str.replace('FAY0', 'fam_inc_')\\\n",
    "            .str.replace('fam_inc_M', 'fam_inc_max_')\\\n",
    "            .str.replace('THY0', 'hh_inc_' )\\\n",
    "            .str.replace('hh_inc_M', 'hh_inc_max_')\\\n",
    "            .str.replace('MDVALHS','median_house_value_')\\\n",
    "            .str.replace('MDGRENT', 'median_rent_' )\\\n",
    "            .str.replace('MCSMORT', 'owner_cost_mo_' )\\\n",
    "            .str.replace('MCSNMOR', 'owner_cost_no_mo_' )\\\n",
    "            .str.replace('OCCHU', 'occ_')\\\n",
    "            .str.replace('VACHU', 'vacant_')\\\n",
    "            .str.replace('RNTOCC','renter_occ_')\\\n",
    "            .str.replace('OWNOCC', 'owner_occ_')\\\n",
    "            .str.replace('SPRNTOC', 'spec_renter_occ_')\\\n",
    "            .str.replace('SPOWNOC', 'spec_owner_occ_')\\\n",
    "            .str.replace('PRSOCU', 'person_occ_')\\\n",
    "            .str.replace('PRSOWNU', 'person_owner_occ_')\\\n",
    "            .str.replace('PRSRNTU', 'person_renter_occ_')\\\n",
    "            .str.replace('POVRAT','poverty')\\\n",
    "            .str.replace('1A', '1')\\\n",
    "            .str.replace('9A', '9')\n",
    "            \n",
    "cols"
   ]
  },
  {
   "cell_type": "code",
   "execution_count": 7,
   "metadata": {
    "collapsed": false
   },
   "outputs": [
    {
     "data": {
      "text/plain": [
       "Index(['census_tract', 'state', 'abb.', 'lat', 'lon', 'tract_change_90',\n",
       "       'tract_change_00', 'ZCTA5', 'pop9', 'poverty9N',\n",
       "       ...\n",
       "       'hh_inc_1001', 'hh_inc_1251', 'hh_inc_1501', 'hh_inc_2001',\n",
       "       'hh_inc_max_201', 'median_inc_hh_1', 'median_house_value_1',\n",
       "       'owner_cost_mo_1', 'owner_cost_no_mo_1', 'median_rent_1'],\n",
       "      dtype='object', length=146)"
      ]
     },
     "execution_count": 7,
     "metadata": {},
     "output_type": "execute_result"
    }
   ],
   "source": [
    "df.columns = cols\n",
    "\n",
    "df.rename(columns = {'AREAKEY' : 'census_tract',\n",
    "                     'STATE':'state','STUSAB':'abb.',\n",
    "                     'TCH_90_10':'tract_change_90', 'TCH_00_10':'tract_change_00',\n",
    "                    'INTPTLAT':'lat', 'INTPTLON':'lon'}, inplace = True)\n",
    "df.columns"
   ]
  },
  {
   "cell_type": "code",
   "execution_count": 8,
   "metadata": {
    "collapsed": false
   },
   "outputs": [
    {
     "data": {
      "text/plain": [
       "(2157, 146)"
      ]
     },
     "execution_count": 8,
     "metadata": {},
     "output_type": "execute_result"
    }
   ],
   "source": [
    "df = df.dropna()\n",
    "df.ZCTA5 = df.ZCTA5.astype('int')\n",
    "df.shape"
   ]
  },
  {
   "cell_type": "code",
   "execution_count": 9,
   "metadata": {
    "collapsed": false
   },
   "outputs": [
    {
     "data": {
      "text/html": [
       "<div>\n",
       "<table border=\"1\" class=\"dataframe\">\n",
       "  <thead>\n",
       "    <tr style=\"text-align: right;\">\n",
       "      <th></th>\n",
       "      <th>census_tract</th>\n",
       "      <th>lat</th>\n",
       "      <th>lon</th>\n",
       "      <th>ZCTA5</th>\n",
       "      <th>pop9</th>\n",
       "      <th>poverty9N</th>\n",
       "      <th>poverty9</th>\n",
       "      <th>ave_inc_fam_9</th>\n",
       "      <th>median_inc_fam_9</th>\n",
       "      <th>fam_inc_109</th>\n",
       "      <th>...</th>\n",
       "      <th>hh_inc_1001</th>\n",
       "      <th>hh_inc_1251</th>\n",
       "      <th>hh_inc_1501</th>\n",
       "      <th>hh_inc_2001</th>\n",
       "      <th>hh_inc_max_201</th>\n",
       "      <th>median_inc_hh_1</th>\n",
       "      <th>median_house_value_1</th>\n",
       "      <th>owner_cost_mo_1</th>\n",
       "      <th>owner_cost_no_mo_1</th>\n",
       "      <th>median_rent_1</th>\n",
       "    </tr>\n",
       "  </thead>\n",
       "  <tbody>\n",
       "    <tr>\n",
       "      <th>1</th>\n",
       "      <td>36005000200</td>\n",
       "      <td>40.804573</td>\n",
       "      <td>-73.856859</td>\n",
       "      <td>10473</td>\n",
       "      <td>2907</td>\n",
       "      <td>411</td>\n",
       "      <td>0.142067</td>\n",
       "      <td>45267.28710</td>\n",
       "      <td>38711</td>\n",
       "      <td>29</td>\n",
       "      <td>...</td>\n",
       "      <td>152</td>\n",
       "      <td>203</td>\n",
       "      <td>48</td>\n",
       "      <td>68</td>\n",
       "      <td>11</td>\n",
       "      <td>59826</td>\n",
       "      <td>392500</td>\n",
       "      <td>2661</td>\n",
       "      <td>650</td>\n",
       "      <td>1273</td>\n",
       "    </tr>\n",
       "    <tr>\n",
       "      <th>2</th>\n",
       "      <td>36005000400</td>\n",
       "      <td>40.808915</td>\n",
       "      <td>-73.850488</td>\n",
       "      <td>10473</td>\n",
       "      <td>2260</td>\n",
       "      <td>225</td>\n",
       "      <td>0.100089</td>\n",
       "      <td>43694.20068</td>\n",
       "      <td>40484</td>\n",
       "      <td>19</td>\n",
       "      <td>...</td>\n",
       "      <td>255</td>\n",
       "      <td>97</td>\n",
       "      <td>161</td>\n",
       "      <td>96</td>\n",
       "      <td>73</td>\n",
       "      <td>71968</td>\n",
       "      <td>393700</td>\n",
       "      <td>2206</td>\n",
       "      <td>679</td>\n",
       "      <td>1330</td>\n",
       "    </tr>\n",
       "    <tr>\n",
       "      <th>3</th>\n",
       "      <td>36005001600</td>\n",
       "      <td>40.818848</td>\n",
       "      <td>-73.858076</td>\n",
       "      <td>10473</td>\n",
       "      <td>5254</td>\n",
       "      <td>893</td>\n",
       "      <td>0.179245</td>\n",
       "      <td>30042.84776</td>\n",
       "      <td>24732</td>\n",
       "      <td>142</td>\n",
       "      <td>...</td>\n",
       "      <td>171</td>\n",
       "      <td>20</td>\n",
       "      <td>38</td>\n",
       "      <td>20</td>\n",
       "      <td>0</td>\n",
       "      <td>30355</td>\n",
       "      <td>378100</td>\n",
       "      <td>2500</td>\n",
       "      <td>649</td>\n",
       "      <td>823</td>\n",
       "    </tr>\n",
       "    <tr>\n",
       "      <th>4</th>\n",
       "      <td>36005001900</td>\n",
       "      <td>40.800999</td>\n",
       "      <td>-73.909373</td>\n",
       "      <td>10454</td>\n",
       "      <td>1575</td>\n",
       "      <td>797</td>\n",
       "      <td>0.506032</td>\n",
       "      <td>23377.47813</td>\n",
       "      <td>24823</td>\n",
       "      <td>50</td>\n",
       "      <td>...</td>\n",
       "      <td>14</td>\n",
       "      <td>19</td>\n",
       "      <td>21</td>\n",
       "      <td>0</td>\n",
       "      <td>0</td>\n",
       "      <td>25093</td>\n",
       "      <td>0</td>\n",
       "      <td>0</td>\n",
       "      <td>539</td>\n",
       "      <td>870</td>\n",
       "    </tr>\n",
       "    <tr>\n",
       "      <th>5</th>\n",
       "      <td>36005002000</td>\n",
       "      <td>40.817580</td>\n",
       "      <td>-73.866096</td>\n",
       "      <td>10473</td>\n",
       "      <td>9110</td>\n",
       "      <td>3423</td>\n",
       "      <td>0.375741</td>\n",
       "      <td>25062.06250</td>\n",
       "      <td>18762</td>\n",
       "      <td>284</td>\n",
       "      <td>...</td>\n",
       "      <td>180</td>\n",
       "      <td>161</td>\n",
       "      <td>0</td>\n",
       "      <td>45</td>\n",
       "      <td>12</td>\n",
       "      <td>24939</td>\n",
       "      <td>398100</td>\n",
       "      <td>2185</td>\n",
       "      <td>715</td>\n",
       "      <td>455</td>\n",
       "    </tr>\n",
       "  </tbody>\n",
       "</table>\n",
       "<p>5 rows × 142 columns</p>\n",
       "</div>"
      ],
      "text/plain": [
       "   census_tract        lat        lon  ZCTA5  pop9  poverty9N  poverty9  \\\n",
       "1   36005000200  40.804573 -73.856859  10473  2907        411  0.142067   \n",
       "2   36005000400  40.808915 -73.850488  10473  2260        225  0.100089   \n",
       "3   36005001600  40.818848 -73.858076  10473  5254        893  0.179245   \n",
       "4   36005001900  40.800999 -73.909373  10454  1575        797  0.506032   \n",
       "5   36005002000  40.817580 -73.866096  10473  9110       3423  0.375741   \n",
       "\n",
       "   ave_inc_fam_9  median_inc_fam_9  fam_inc_109      ...        hh_inc_1001  \\\n",
       "1    45267.28710             38711           29      ...                152   \n",
       "2    43694.20068             40484           19      ...                255   \n",
       "3    30042.84776             24732          142      ...                171   \n",
       "4    23377.47813             24823           50      ...                 14   \n",
       "5    25062.06250             18762          284      ...                180   \n",
       "\n",
       "   hh_inc_1251  hh_inc_1501  hh_inc_2001  hh_inc_max_201  median_inc_hh_1  \\\n",
       "1          203           48           68              11            59826   \n",
       "2           97          161           96              73            71968   \n",
       "3           20           38           20               0            30355   \n",
       "4           19           21            0               0            25093   \n",
       "5          161            0           45              12            24939   \n",
       "\n",
       "   median_house_value_1  owner_cost_mo_1  owner_cost_no_mo_1  median_rent_1  \n",
       "1                392500             2661                 650           1273  \n",
       "2                393700             2206                 679           1330  \n",
       "3                378100             2500                 649            823  \n",
       "4                     0                0                 539            870  \n",
       "5                398100             2185                 715            455  \n",
       "\n",
       "[5 rows x 142 columns]"
      ]
     },
     "execution_count": 9,
     "metadata": {},
     "output_type": "execute_result"
    }
   ],
   "source": [
    "## delete the observation, i.e. census tract, with 0 median rent or 0 median families income\n",
    "df = df[~((df.median_rent_0 == 0)| (df.median_rent_9 == 0)|(df.median_rent_1 == 0)|\\\n",
    "         (df.median_inc_fam_9 == 0)| (df.median_inc_fam_9 == 0)|(df.median_inc_fam_1 == 0))]\n",
    "## drop the redundant columns\n",
    "df.drop(['state', 'abb.','tract_change_90','tract_change_00'], axis = 1, inplace = True)\n",
    "df.head()"
   ]
  },
  {
   "cell_type": "code",
   "execution_count": 10,
   "metadata": {
    "collapsed": false
   },
   "outputs": [
    {
     "data": {
      "text/plain": [
       "(2089, 142)"
      ]
     },
     "execution_count": 10,
     "metadata": {},
     "output_type": "execute_result"
    }
   ],
   "source": [
    "df.shape"
   ]
  },
  {
   "cell_type": "markdown",
   "metadata": {},
   "source": [
    "## 1.2 find the PUMA, NAT information for each census tract\n",
    "\n",
    "### the CensusTract/NTA/PUMA Equivalencies table could be found on this [link](https://www1.nyc.gov/site/planning/data-maps/nyc-population/geographic-reference.page)\n",
    " the downloaded linkage is https://www1.nyc.gov/assets/planning/download/office/data-maps/nyc-population/census2010/nyc2010census_tabulation_equiv.xlsx\n",
    " \n",
    "This xlsx includes two tables. Split it into two csv by excel.\n",
    "\n",
    "And we extract the neighborhoods' names of each PUMA from the xlsx table from NYC DOP's ACS table:http://www1.nyc.gov/site/planning/data-maps/nyc-population/american-community-survey.page\n",
    "\n",
    "### The three csv files have been uploaded on:\n",
    "https://github.com/picniclin/NYC_yl5240\n",
    "- 2010CensusTract_PUMA_NTA.csv\n",
    "- 2010PUMA_NTA.csv\n",
    "- PUMA_neighborhoods.csv\n",
    "\n"
   ]
  },
  {
   "cell_type": "code",
   "execution_count": 11,
   "metadata": {
    "collapsed": false
   },
   "outputs": [],
   "source": [
    "df_conv1 = pd.read_csv('/Users/apple/Desktop/NYC_yl5240/data/2010CensusTract_PUMA_NTA.csv')\n",
    "df_conv2 = pd.read_csv('/Users/apple/Desktop/NYC_yl5240/data/2010PUMA_NTA.csv')\n",
    "df_conv3 = pd.read_csv('/Users/apple/Desktop/NYC_yl5240/data/PUMA_neighborhoods.csv')"
   ]
  },
  {
   "cell_type": "code",
   "execution_count": 12,
   "metadata": {
    "collapsed": false
   },
   "outputs": [
    {
     "data": {
      "text/html": [
       "<div>\n",
       "<table border=\"1\" class=\"dataframe\">\n",
       "  <thead>\n",
       "    <tr style=\"text-align: right;\">\n",
       "      <th></th>\n",
       "      <th>Borough</th>\n",
       "      <th>2010CensusTract</th>\n",
       "      <th>PUMA</th>\n",
       "      <th>NTA_Code</th>\n",
       "      <th>NTA_Name</th>\n",
       "    </tr>\n",
       "  </thead>\n",
       "  <tbody>\n",
       "    <tr>\n",
       "      <th>0</th>\n",
       "      <td>Bronx</td>\n",
       "      <td>31000</td>\n",
       "      <td>3704</td>\n",
       "      <td>BX31</td>\n",
       "      <td>Allerton-Pelham Gardens</td>\n",
       "    </tr>\n",
       "    <tr>\n",
       "      <th>1</th>\n",
       "      <td>Bronx</td>\n",
       "      <td>31200</td>\n",
       "      <td>3704</td>\n",
       "      <td>BX31</td>\n",
       "      <td>Allerton-Pelham Gardens</td>\n",
       "    </tr>\n",
       "    <tr>\n",
       "      <th>2</th>\n",
       "      <td>Bronx</td>\n",
       "      <td>31400</td>\n",
       "      <td>3704</td>\n",
       "      <td>BX31</td>\n",
       "      <td>Allerton-Pelham Gardens</td>\n",
       "    </tr>\n",
       "    <tr>\n",
       "      <th>3</th>\n",
       "      <td>Bronx</td>\n",
       "      <td>31600</td>\n",
       "      <td>3704</td>\n",
       "      <td>BX31</td>\n",
       "      <td>Allerton-Pelham Gardens</td>\n",
       "    </tr>\n",
       "    <tr>\n",
       "      <th>4</th>\n",
       "      <td>Bronx</td>\n",
       "      <td>31800</td>\n",
       "      <td>3704</td>\n",
       "      <td>BX31</td>\n",
       "      <td>Allerton-Pelham Gardens</td>\n",
       "    </tr>\n",
       "  </tbody>\n",
       "</table>\n",
       "</div>"
      ],
      "text/plain": [
       "  Borough  2010CensusTract  PUMA NTA_Code                 NTA_Name\n",
       "0   Bronx            31000  3704     BX31  Allerton-Pelham Gardens\n",
       "1   Bronx            31200  3704     BX31  Allerton-Pelham Gardens\n",
       "2   Bronx            31400  3704     BX31  Allerton-Pelham Gardens\n",
       "3   Bronx            31600  3704     BX31  Allerton-Pelham Gardens\n",
       "4   Bronx            31800  3704     BX31  Allerton-Pelham Gardens"
      ]
     },
     "execution_count": 12,
     "metadata": {},
     "output_type": "execute_result"
    }
   ],
   "source": [
    "## df_conv1 is the conversion table between census tract and PUMA/NTA\n",
    "df_conv1.head()"
   ]
  },
  {
   "cell_type": "code",
   "execution_count": 13,
   "metadata": {
    "collapsed": false
   },
   "outputs": [
    {
     "data": {
      "text/html": [
       "<div>\n",
       "<table border=\"1\" class=\"dataframe\">\n",
       "  <thead>\n",
       "    <tr style=\"text-align: right;\">\n",
       "      <th></th>\n",
       "      <th>Borough</th>\n",
       "      <th>PUMA</th>\n",
       "      <th>PUMA_CommunityDistrict</th>\n",
       "      <th>NTA_Code</th>\n",
       "      <th>NTA_Name</th>\n",
       "    </tr>\n",
       "  </thead>\n",
       "  <tbody>\n",
       "    <tr>\n",
       "      <th>0</th>\n",
       "      <td>Bronx</td>\n",
       "      <td>3701</td>\n",
       "      <td>BX Community District 8</td>\n",
       "      <td>BX22</td>\n",
       "      <td>North Riverdale-Fieldston-Riverdale</td>\n",
       "    </tr>\n",
       "    <tr>\n",
       "      <th>1</th>\n",
       "      <td>Bronx</td>\n",
       "      <td>3701</td>\n",
       "      <td>BX Community District 8</td>\n",
       "      <td>BX28</td>\n",
       "      <td>Van Cortlandt Village</td>\n",
       "    </tr>\n",
       "    <tr>\n",
       "      <th>2</th>\n",
       "      <td>Bronx</td>\n",
       "      <td>3701</td>\n",
       "      <td>BX Community District 8</td>\n",
       "      <td>BX29</td>\n",
       "      <td>Spuyten Duyvil-Kingsbridge</td>\n",
       "    </tr>\n",
       "    <tr>\n",
       "      <th>3</th>\n",
       "      <td>Bronx</td>\n",
       "      <td>3702</td>\n",
       "      <td>BX Community District 12</td>\n",
       "      <td>BX03</td>\n",
       "      <td>Eastchester-Edenwald-Baychester</td>\n",
       "    </tr>\n",
       "    <tr>\n",
       "      <th>4</th>\n",
       "      <td>Bronx</td>\n",
       "      <td>3702</td>\n",
       "      <td>BX Community District 12</td>\n",
       "      <td>BX44</td>\n",
       "      <td>Williamsbridge-Olinville</td>\n",
       "    </tr>\n",
       "  </tbody>\n",
       "</table>\n",
       "</div>"
      ],
      "text/plain": [
       "  Borough  PUMA    PUMA_CommunityDistrict NTA_Code  \\\n",
       "0   Bronx  3701   BX Community District 8     BX22   \n",
       "1   Bronx  3701   BX Community District 8     BX28   \n",
       "2   Bronx  3701   BX Community District 8     BX29   \n",
       "3   Bronx  3702  BX Community District 12     BX03   \n",
       "4   Bronx  3702  BX Community District 12     BX44   \n",
       "\n",
       "                              NTA_Name  \n",
       "0  North Riverdale-Fieldston-Riverdale  \n",
       "1                Van Cortlandt Village  \n",
       "2           Spuyten Duyvil-Kingsbridge  \n",
       "3      Eastchester-Edenwald-Baychester  \n",
       "4             Williamsbridge-Olinville  "
      ]
     },
     "execution_count": 13,
     "metadata": {},
     "output_type": "execute_result"
    }
   ],
   "source": [
    "## df_conv2 is the conversion table between PUMA and NTA\n",
    "df_conv2.head()"
   ]
  },
  {
   "cell_type": "code",
   "execution_count": 14,
   "metadata": {
    "collapsed": false
   },
   "outputs": [
    {
     "data": {
      "text/html": [
       "<div>\n",
       "<table border=\"1\" class=\"dataframe\">\n",
       "  <thead>\n",
       "    <tr style=\"text-align: right;\">\n",
       "      <th></th>\n",
       "      <th>PUMA_CommunityDistrict</th>\n",
       "      <th>PUMA_neighborhoods</th>\n",
       "    </tr>\n",
       "  </thead>\n",
       "  <tbody>\n",
       "    <tr>\n",
       "      <th>0</th>\n",
       "      <td>Bronx Community District 8</td>\n",
       "      <td>Riverdale, Fieldston &amp; Kingsbridge PUMA</td>\n",
       "    </tr>\n",
       "    <tr>\n",
       "      <th>1</th>\n",
       "      <td>Bronx Community District 12</td>\n",
       "      <td>Wakefield, Williamsbridge &amp; Woodlawn PUMA</td>\n",
       "    </tr>\n",
       "    <tr>\n",
       "      <th>2</th>\n",
       "      <td>Bronx Community District 10</td>\n",
       "      <td>Co-op City, Pelham Bay &amp; Schuylerville PUMA</td>\n",
       "    </tr>\n",
       "    <tr>\n",
       "      <th>3</th>\n",
       "      <td>Bronx Community District 11</td>\n",
       "      <td>Pelham Parkway, Morris Park &amp; Laconia PUMA</td>\n",
       "    </tr>\n",
       "    <tr>\n",
       "      <th>4</th>\n",
       "      <td>Bronx Community District 3 &amp; 6</td>\n",
       "      <td>Belmont, Crotona Park East &amp; East Tremont PUMA</td>\n",
       "    </tr>\n",
       "  </tbody>\n",
       "</table>\n",
       "</div>"
      ],
      "text/plain": [
       "           PUMA_CommunityDistrict  \\\n",
       "0      Bronx Community District 8   \n",
       "1     Bronx Community District 12   \n",
       "2     Bronx Community District 10   \n",
       "3     Bronx Community District 11   \n",
       "4  Bronx Community District 3 & 6   \n",
       "\n",
       "                               PUMA_neighborhoods  \n",
       "0         Riverdale, Fieldston & Kingsbridge PUMA  \n",
       "1       Wakefield, Williamsbridge & Woodlawn PUMA  \n",
       "2     Co-op City, Pelham Bay & Schuylerville PUMA  \n",
       "3      Pelham Parkway, Morris Park & Laconia PUMA  \n",
       "4  Belmont, Crotona Park East & East Tremont PUMA  "
      ]
     },
     "execution_count": 14,
     "metadata": {},
     "output_type": "execute_result"
    }
   ],
   "source": [
    "## df_conv3 is the neighborhoods'names for each PUMA\n",
    "df_conv3.head()"
   ]
  },
  {
   "cell_type": "code",
   "execution_count": 15,
   "metadata": {
    "collapsed": false
   },
   "outputs": [
    {
     "data": {
      "text/plain": [
       "(2168, 219, 55)"
      ]
     },
     "execution_count": 15,
     "metadata": {},
     "output_type": "execute_result"
    }
   ],
   "source": [
    "len(df_conv1), len(df_conv2), len(df_conv3)"
   ]
  },
  {
   "cell_type": "code",
   "execution_count": 16,
   "metadata": {
    "collapsed": false
   },
   "outputs": [],
   "source": [
    "def abb_rep(x):\n",
    "    if x.startswith('BX'):\n",
    "        x = x.replace('BX','Bronx')\n",
    "    if x.startswith('BK'):\n",
    "        x = x.replace('BK','Brooklyn')\n",
    "    if x.startswith('MN'):\n",
    "        x = x.replace('MN','Manhattan')\n",
    "    if x.startswith('QN'):\n",
    "        x = x.replace('QN','Queens')\n",
    "    if x.startswith('SI'):\n",
    "        x = x.replace('SI','Staten Island')\n",
    "    return x\n",
    "        \n",
    "df_conv2.PUMA_CommunityDistrict = df_conv2.PUMA_CommunityDistrict.apply(lambda x:abb_rep(x))"
   ]
  },
  {
   "cell_type": "code",
   "execution_count": 17,
   "metadata": {
    "collapsed": false
   },
   "outputs": [],
   "source": [
    "df_conv2_ = df_conv2.iloc[:,1:3].drop_duplicates().reset_index(drop = True)\n",
    "df_conv2_.PUMA_CommunityDistrict = df_conv2_.PUMA_CommunityDistrict.\\\n",
    "                str.replace('Community Districts', 'Community District')\n"
   ]
  },
  {
   "cell_type": "markdown",
   "metadata": {},
   "source": [
    "## the PUMA list: 55 PUMAs"
   ]
  },
  {
   "cell_type": "code",
   "execution_count": 18,
   "metadata": {
    "collapsed": false
   },
   "outputs": [
    {
     "data": {
      "text/html": [
       "<div>\n",
       "<table border=\"1\" class=\"dataframe\">\n",
       "  <thead>\n",
       "    <tr style=\"text-align: right;\">\n",
       "      <th></th>\n",
       "      <th>PUMA</th>\n",
       "      <th>PUMA_CommunityDistrict</th>\n",
       "      <th>PUMA_neighborhoods</th>\n",
       "    </tr>\n",
       "  </thead>\n",
       "  <tbody>\n",
       "    <tr>\n",
       "      <th>0</th>\n",
       "      <td>3701</td>\n",
       "      <td>Bronx Community District 8</td>\n",
       "      <td>Riverdale, Fieldston &amp; Kingsbridge PUMA</td>\n",
       "    </tr>\n",
       "    <tr>\n",
       "      <th>1</th>\n",
       "      <td>3702</td>\n",
       "      <td>Bronx Community District 12</td>\n",
       "      <td>Wakefield, Williamsbridge &amp; Woodlawn PUMA</td>\n",
       "    </tr>\n",
       "    <tr>\n",
       "      <th>2</th>\n",
       "      <td>3703</td>\n",
       "      <td>Bronx Community District 10</td>\n",
       "      <td>Co-op City, Pelham Bay &amp; Schuylerville PUMA</td>\n",
       "    </tr>\n",
       "    <tr>\n",
       "      <th>3</th>\n",
       "      <td>3704</td>\n",
       "      <td>Bronx Community District 11</td>\n",
       "      <td>Pelham Parkway, Morris Park &amp; Laconia PUMA</td>\n",
       "    </tr>\n",
       "    <tr>\n",
       "      <th>4</th>\n",
       "      <td>3705</td>\n",
       "      <td>Bronx Community District 3 &amp; 6</td>\n",
       "      <td>Belmont, Crotona Park East &amp; East Tremont PUMA</td>\n",
       "    </tr>\n",
       "    <tr>\n",
       "      <th>5</th>\n",
       "      <td>3706</td>\n",
       "      <td>Bronx Community District 7</td>\n",
       "      <td>Bedford Park, Fordham North &amp; Norwood PUMA</td>\n",
       "    </tr>\n",
       "    <tr>\n",
       "      <th>6</th>\n",
       "      <td>3707</td>\n",
       "      <td>Bronx Community District 5</td>\n",
       "      <td>Morris Heights, Fordham South &amp; Mount Hope PUMA</td>\n",
       "    </tr>\n",
       "    <tr>\n",
       "      <th>7</th>\n",
       "      <td>3708</td>\n",
       "      <td>Bronx Community District 4</td>\n",
       "      <td>Concourse, Highbridge &amp; Mount Eden PUMA</td>\n",
       "    </tr>\n",
       "    <tr>\n",
       "      <th>8</th>\n",
       "      <td>3709</td>\n",
       "      <td>Bronx Community District 9</td>\n",
       "      <td>Castle Hill, Clason Point &amp; Parkchester PUMA</td>\n",
       "    </tr>\n",
       "    <tr>\n",
       "      <th>9</th>\n",
       "      <td>3710</td>\n",
       "      <td>Bronx Community District 1 &amp; 2</td>\n",
       "      <td>Hunts Point, Longwood &amp; Melrose PUMA</td>\n",
       "    </tr>\n",
       "    <tr>\n",
       "      <th>10</th>\n",
       "      <td>4001</td>\n",
       "      <td>Brooklyn Community District 1</td>\n",
       "      <td>Greenpoint &amp; Williamsburg PUMA</td>\n",
       "    </tr>\n",
       "    <tr>\n",
       "      <th>11</th>\n",
       "      <td>4002</td>\n",
       "      <td>Brooklyn Community District 4</td>\n",
       "      <td>Bushwick PUMA</td>\n",
       "    </tr>\n",
       "    <tr>\n",
       "      <th>12</th>\n",
       "      <td>4003</td>\n",
       "      <td>Brooklyn Community District 3</td>\n",
       "      <td>Bedford-Stuyvesant PUMA,</td>\n",
       "    </tr>\n",
       "    <tr>\n",
       "      <th>13</th>\n",
       "      <td>4004</td>\n",
       "      <td>Brooklyn Community District 2</td>\n",
       "      <td>Brooklyn Heights &amp; Fort Greene PUMA</td>\n",
       "    </tr>\n",
       "    <tr>\n",
       "      <th>14</th>\n",
       "      <td>4005</td>\n",
       "      <td>Brooklyn Community District 6</td>\n",
       "      <td>Park Slope, Carroll Gardens &amp; Red Hook PUMA</td>\n",
       "    </tr>\n",
       "    <tr>\n",
       "      <th>15</th>\n",
       "      <td>4006</td>\n",
       "      <td>Brooklyn Community District 8</td>\n",
       "      <td>Crown Heights North &amp; Prospect Heights PUMA</td>\n",
       "    </tr>\n",
       "    <tr>\n",
       "      <th>16</th>\n",
       "      <td>4007</td>\n",
       "      <td>Brooklyn Community District 16</td>\n",
       "      <td>Brownsville &amp; Ocean Hill PUMA</td>\n",
       "    </tr>\n",
       "    <tr>\n",
       "      <th>17</th>\n",
       "      <td>4008</td>\n",
       "      <td>Brooklyn Community District 5</td>\n",
       "      <td>East New York &amp; Starrett City PUMA</td>\n",
       "    </tr>\n",
       "    <tr>\n",
       "      <th>18</th>\n",
       "      <td>4009</td>\n",
       "      <td>Brooklyn Community District 18</td>\n",
       "      <td>Canarsie &amp; Flatlands PUMA</td>\n",
       "    </tr>\n",
       "    <tr>\n",
       "      <th>19</th>\n",
       "      <td>4010</td>\n",
       "      <td>Brooklyn Community District 17</td>\n",
       "      <td>East Flatbush, Farragut &amp; Rugby PUMA</td>\n",
       "    </tr>\n",
       "    <tr>\n",
       "      <th>20</th>\n",
       "      <td>4011</td>\n",
       "      <td>Brooklyn Community District 9</td>\n",
       "      <td>Crown Heights South, Prospect Lefferts &amp; Winga...</td>\n",
       "    </tr>\n",
       "    <tr>\n",
       "      <th>21</th>\n",
       "      <td>4012</td>\n",
       "      <td>Brooklyn Community District 7</td>\n",
       "      <td>Sunset Park &amp; Windsor Terrace PUMA</td>\n",
       "    </tr>\n",
       "    <tr>\n",
       "      <th>22</th>\n",
       "      <td>4013</td>\n",
       "      <td>Brooklyn Community District 10</td>\n",
       "      <td>Bay Ridge &amp; Dyker Heights PUMA</td>\n",
       "    </tr>\n",
       "    <tr>\n",
       "      <th>23</th>\n",
       "      <td>4014</td>\n",
       "      <td>Brooklyn Community District 12</td>\n",
       "      <td>Borough Park, Kensington &amp; Ocean Parkway PUMA</td>\n",
       "    </tr>\n",
       "    <tr>\n",
       "      <th>24</th>\n",
       "      <td>4015</td>\n",
       "      <td>Brooklyn Community District 14</td>\n",
       "      <td>Flatbush &amp; Midwood PUMA</td>\n",
       "    </tr>\n",
       "    <tr>\n",
       "      <th>25</th>\n",
       "      <td>4016</td>\n",
       "      <td>Brooklyn Community District 15</td>\n",
       "      <td>Sheepshead Bay, Gerritsen Beach &amp; Homecrest PUMA</td>\n",
       "    </tr>\n",
       "    <tr>\n",
       "      <th>26</th>\n",
       "      <td>4017</td>\n",
       "      <td>Brooklyn Community District 11</td>\n",
       "      <td>Bensonhurst &amp; Bath Beach PUMA</td>\n",
       "    </tr>\n",
       "    <tr>\n",
       "      <th>27</th>\n",
       "      <td>4018</td>\n",
       "      <td>Brooklyn Community District 13</td>\n",
       "      <td>Brighton Beach &amp; Coney Island PUMA</td>\n",
       "    </tr>\n",
       "    <tr>\n",
       "      <th>28</th>\n",
       "      <td>3801</td>\n",
       "      <td>Manhattan Community District 12</td>\n",
       "      <td>Washington Heights, Inwood &amp; Marble Hill PUMA</td>\n",
       "    </tr>\n",
       "    <tr>\n",
       "      <th>29</th>\n",
       "      <td>3802</td>\n",
       "      <td>Manhattan Community District 9</td>\n",
       "      <td>Hamilton Heights, Manhattanville &amp; West Harlem...</td>\n",
       "    </tr>\n",
       "    <tr>\n",
       "      <th>30</th>\n",
       "      <td>3803</td>\n",
       "      <td>Manhattan Community District 10</td>\n",
       "      <td>Central Harlem PUMA</td>\n",
       "    </tr>\n",
       "    <tr>\n",
       "      <th>31</th>\n",
       "      <td>3804</td>\n",
       "      <td>Manhattan Community District 11</td>\n",
       "      <td>East Harlem PUMA</td>\n",
       "    </tr>\n",
       "    <tr>\n",
       "      <th>32</th>\n",
       "      <td>3805</td>\n",
       "      <td>Manhattan Community District 8</td>\n",
       "      <td>Upper East Side PUMA</td>\n",
       "    </tr>\n",
       "    <tr>\n",
       "      <th>33</th>\n",
       "      <td>3806</td>\n",
       "      <td>Manhattan Community District 7</td>\n",
       "      <td>Upper West Side &amp; West Side PUMA</td>\n",
       "    </tr>\n",
       "    <tr>\n",
       "      <th>34</th>\n",
       "      <td>3807</td>\n",
       "      <td>Manhattan Community District 4 &amp; 5</td>\n",
       "      <td>Chelsea, Clinton &amp; Midtown Business District PUMA</td>\n",
       "    </tr>\n",
       "    <tr>\n",
       "      <th>35</th>\n",
       "      <td>3808</td>\n",
       "      <td>Manhattan Community District 6</td>\n",
       "      <td>Murray Hill, Gramercy &amp; Stuyvesant Town PUMA</td>\n",
       "    </tr>\n",
       "    <tr>\n",
       "      <th>36</th>\n",
       "      <td>3809</td>\n",
       "      <td>Manhattan Community District 3</td>\n",
       "      <td>Chinatown &amp; Lower East Side PUMA</td>\n",
       "    </tr>\n",
       "    <tr>\n",
       "      <th>37</th>\n",
       "      <td>3810</td>\n",
       "      <td>Manhattan Community District 1 &amp; 2</td>\n",
       "      <td>Battery Park City, Greenwich Village &amp; Soho PUMA</td>\n",
       "    </tr>\n",
       "    <tr>\n",
       "      <th>38</th>\n",
       "      <td>4101</td>\n",
       "      <td>Queens Community District 1</td>\n",
       "      <td>Astoria &amp; Long Island City PUMA</td>\n",
       "    </tr>\n",
       "    <tr>\n",
       "      <th>39</th>\n",
       "      <td>4102</td>\n",
       "      <td>Queens Community District 3</td>\n",
       "      <td>Jackson Heights &amp; North Corona PUMA</td>\n",
       "    </tr>\n",
       "    <tr>\n",
       "      <th>40</th>\n",
       "      <td>4103</td>\n",
       "      <td>Queens Community District 7</td>\n",
       "      <td>Flushing, Murray Hill &amp; Whitestone PUMA</td>\n",
       "    </tr>\n",
       "    <tr>\n",
       "      <th>41</th>\n",
       "      <td>4104</td>\n",
       "      <td>Queens Community District 11</td>\n",
       "      <td>Bayside, Douglaston &amp; Little Neck PUMA</td>\n",
       "    </tr>\n",
       "    <tr>\n",
       "      <th>42</th>\n",
       "      <td>4105</td>\n",
       "      <td>Queens Community District 13</td>\n",
       "      <td>Queens Village, Cambria Heights &amp; Rosedale PUMA</td>\n",
       "    </tr>\n",
       "    <tr>\n",
       "      <th>43</th>\n",
       "      <td>4106</td>\n",
       "      <td>Queens Community District 8</td>\n",
       "      <td>Briarwood, Fresh Meadows &amp; Hillcrest PUMA</td>\n",
       "    </tr>\n",
       "    <tr>\n",
       "      <th>44</th>\n",
       "      <td>4107</td>\n",
       "      <td>Queens Community District 4</td>\n",
       "      <td>Elmhurst &amp; South Corona PUMA</td>\n",
       "    </tr>\n",
       "    <tr>\n",
       "      <th>45</th>\n",
       "      <td>4108</td>\n",
       "      <td>Queens Community District 6</td>\n",
       "      <td>Forest Hills &amp; Rego Park PUMA</td>\n",
       "    </tr>\n",
       "    <tr>\n",
       "      <th>46</th>\n",
       "      <td>4109</td>\n",
       "      <td>Queens Community District 2</td>\n",
       "      <td>Sunnyside &amp; Woodside PUMA</td>\n",
       "    </tr>\n",
       "    <tr>\n",
       "      <th>47</th>\n",
       "      <td>4110</td>\n",
       "      <td>Queens Community District 5</td>\n",
       "      <td>Ridgewood, Glendale &amp; Middle Village PUMA</td>\n",
       "    </tr>\n",
       "    <tr>\n",
       "      <th>48</th>\n",
       "      <td>4111</td>\n",
       "      <td>Queens Community District 9</td>\n",
       "      <td>Richmond Hill &amp; Woodhaven PUMA</td>\n",
       "    </tr>\n",
       "    <tr>\n",
       "      <th>49</th>\n",
       "      <td>4112</td>\n",
       "      <td>Queens Community District 12</td>\n",
       "      <td>Jamaica, Hollis &amp; St. Albans PUMA</td>\n",
       "    </tr>\n",
       "    <tr>\n",
       "      <th>50</th>\n",
       "      <td>4113</td>\n",
       "      <td>Queens Community District 10</td>\n",
       "      <td>Howard Beach &amp; Ozone Park PUMA</td>\n",
       "    </tr>\n",
       "    <tr>\n",
       "      <th>51</th>\n",
       "      <td>4114</td>\n",
       "      <td>Queens Community District 14</td>\n",
       "      <td>Far Rockaway, Breezy Point &amp; Broad Channel PUMA</td>\n",
       "    </tr>\n",
       "    <tr>\n",
       "      <th>52</th>\n",
       "      <td>3901</td>\n",
       "      <td>Staten Island Community District 3</td>\n",
       "      <td>Tottenville, Great Kills &amp; Annadale PUMA</td>\n",
       "    </tr>\n",
       "    <tr>\n",
       "      <th>53</th>\n",
       "      <td>3902</td>\n",
       "      <td>Staten Island Community District 2</td>\n",
       "      <td>New Springville &amp; South Beach PUMA</td>\n",
       "    </tr>\n",
       "    <tr>\n",
       "      <th>54</th>\n",
       "      <td>3903</td>\n",
       "      <td>Staten Island Community District 1</td>\n",
       "      <td>Port Richmond, Stapleton &amp; Mariner's Harbor PUMA</td>\n",
       "    </tr>\n",
       "  </tbody>\n",
       "</table>\n",
       "</div>"
      ],
      "text/plain": [
       "    PUMA              PUMA_CommunityDistrict  \\\n",
       "0   3701          Bronx Community District 8   \n",
       "1   3702         Bronx Community District 12   \n",
       "2   3703         Bronx Community District 10   \n",
       "3   3704         Bronx Community District 11   \n",
       "4   3705      Bronx Community District 3 & 6   \n",
       "5   3706          Bronx Community District 7   \n",
       "6   3707          Bronx Community District 5   \n",
       "7   3708          Bronx Community District 4   \n",
       "8   3709          Bronx Community District 9   \n",
       "9   3710      Bronx Community District 1 & 2   \n",
       "10  4001       Brooklyn Community District 1   \n",
       "11  4002       Brooklyn Community District 4   \n",
       "12  4003       Brooklyn Community District 3   \n",
       "13  4004       Brooklyn Community District 2   \n",
       "14  4005       Brooklyn Community District 6   \n",
       "15  4006       Brooklyn Community District 8   \n",
       "16  4007      Brooklyn Community District 16   \n",
       "17  4008       Brooklyn Community District 5   \n",
       "18  4009      Brooklyn Community District 18   \n",
       "19  4010      Brooklyn Community District 17   \n",
       "20  4011       Brooklyn Community District 9   \n",
       "21  4012       Brooklyn Community District 7   \n",
       "22  4013      Brooklyn Community District 10   \n",
       "23  4014      Brooklyn Community District 12   \n",
       "24  4015      Brooklyn Community District 14   \n",
       "25  4016      Brooklyn Community District 15   \n",
       "26  4017      Brooklyn Community District 11   \n",
       "27  4018      Brooklyn Community District 13   \n",
       "28  3801     Manhattan Community District 12   \n",
       "29  3802      Manhattan Community District 9   \n",
       "30  3803     Manhattan Community District 10   \n",
       "31  3804     Manhattan Community District 11   \n",
       "32  3805      Manhattan Community District 8   \n",
       "33  3806      Manhattan Community District 7   \n",
       "34  3807  Manhattan Community District 4 & 5   \n",
       "35  3808      Manhattan Community District 6   \n",
       "36  3809      Manhattan Community District 3   \n",
       "37  3810  Manhattan Community District 1 & 2   \n",
       "38  4101         Queens Community District 1   \n",
       "39  4102         Queens Community District 3   \n",
       "40  4103         Queens Community District 7   \n",
       "41  4104        Queens Community District 11   \n",
       "42  4105        Queens Community District 13   \n",
       "43  4106         Queens Community District 8   \n",
       "44  4107         Queens Community District 4   \n",
       "45  4108         Queens Community District 6   \n",
       "46  4109         Queens Community District 2   \n",
       "47  4110         Queens Community District 5   \n",
       "48  4111         Queens Community District 9   \n",
       "49  4112        Queens Community District 12   \n",
       "50  4113        Queens Community District 10   \n",
       "51  4114        Queens Community District 14   \n",
       "52  3901  Staten Island Community District 3   \n",
       "53  3902  Staten Island Community District 2   \n",
       "54  3903  Staten Island Community District 1   \n",
       "\n",
       "                                   PUMA_neighborhoods  \n",
       "0             Riverdale, Fieldston & Kingsbridge PUMA  \n",
       "1           Wakefield, Williamsbridge & Woodlawn PUMA  \n",
       "2         Co-op City, Pelham Bay & Schuylerville PUMA  \n",
       "3          Pelham Parkway, Morris Park & Laconia PUMA  \n",
       "4      Belmont, Crotona Park East & East Tremont PUMA  \n",
       "5          Bedford Park, Fordham North & Norwood PUMA  \n",
       "6     Morris Heights, Fordham South & Mount Hope PUMA  \n",
       "7             Concourse, Highbridge & Mount Eden PUMA  \n",
       "8        Castle Hill, Clason Point & Parkchester PUMA  \n",
       "9                Hunts Point, Longwood & Melrose PUMA  \n",
       "10                     Greenpoint & Williamsburg PUMA  \n",
       "11                                      Bushwick PUMA  \n",
       "12                           Bedford-Stuyvesant PUMA,  \n",
       "13                Brooklyn Heights & Fort Greene PUMA  \n",
       "14        Park Slope, Carroll Gardens & Red Hook PUMA  \n",
       "15        Crown Heights North & Prospect Heights PUMA  \n",
       "16                      Brownsville & Ocean Hill PUMA  \n",
       "17                 East New York & Starrett City PUMA  \n",
       "18                          Canarsie & Flatlands PUMA  \n",
       "19               East Flatbush, Farragut & Rugby PUMA  \n",
       "20  Crown Heights South, Prospect Lefferts & Winga...  \n",
       "21                 Sunset Park & Windsor Terrace PUMA  \n",
       "22                     Bay Ridge & Dyker Heights PUMA  \n",
       "23      Borough Park, Kensington & Ocean Parkway PUMA  \n",
       "24                            Flatbush & Midwood PUMA  \n",
       "25   Sheepshead Bay, Gerritsen Beach & Homecrest PUMA  \n",
       "26                      Bensonhurst & Bath Beach PUMA  \n",
       "27                 Brighton Beach & Coney Island PUMA  \n",
       "28      Washington Heights, Inwood & Marble Hill PUMA  \n",
       "29  Hamilton Heights, Manhattanville & West Harlem...  \n",
       "30                                Central Harlem PUMA  \n",
       "31                                   East Harlem PUMA  \n",
       "32                               Upper East Side PUMA  \n",
       "33                   Upper West Side & West Side PUMA  \n",
       "34  Chelsea, Clinton & Midtown Business District PUMA  \n",
       "35       Murray Hill, Gramercy & Stuyvesant Town PUMA  \n",
       "36                   Chinatown & Lower East Side PUMA  \n",
       "37   Battery Park City, Greenwich Village & Soho PUMA  \n",
       "38                    Astoria & Long Island City PUMA  \n",
       "39                Jackson Heights & North Corona PUMA  \n",
       "40            Flushing, Murray Hill & Whitestone PUMA  \n",
       "41             Bayside, Douglaston & Little Neck PUMA  \n",
       "42    Queens Village, Cambria Heights & Rosedale PUMA  \n",
       "43          Briarwood, Fresh Meadows & Hillcrest PUMA  \n",
       "44                       Elmhurst & South Corona PUMA  \n",
       "45                      Forest Hills & Rego Park PUMA  \n",
       "46                          Sunnyside & Woodside PUMA  \n",
       "47          Ridgewood, Glendale & Middle Village PUMA  \n",
       "48                     Richmond Hill & Woodhaven PUMA  \n",
       "49                  Jamaica, Hollis & St. Albans PUMA  \n",
       "50                     Howard Beach & Ozone Park PUMA  \n",
       "51    Far Rockaway, Breezy Point & Broad Channel PUMA  \n",
       "52           Tottenville, Great Kills & Annadale PUMA  \n",
       "53                 New Springville & South Beach PUMA  \n",
       "54   Port Richmond, Stapleton & Mariner's Harbor PUMA  "
      ]
     },
     "execution_count": 18,
     "metadata": {},
     "output_type": "execute_result"
    }
   ],
   "source": [
    "## In df_conv2_, we could extract the PUMA list, including PUMA code and PUMA_CommunityDistrict\n",
    "## and combine it with df_conve\n",
    "df_PUMA = df_conv2_.merge(df_conv3, on = 'PUMA_CommunityDistrict')\n",
    "df_PUMA"
   ]
  },
  {
   "cell_type": "code",
   "execution_count": 19,
   "metadata": {
    "collapsed": false
   },
   "outputs": [
    {
     "data": {
      "text/html": [
       "<div>\n",
       "<table border=\"1\" class=\"dataframe\">\n",
       "  <thead>\n",
       "    <tr style=\"text-align: right;\">\n",
       "      <th></th>\n",
       "      <th>Borough</th>\n",
       "      <th>BroCode</th>\n",
       "    </tr>\n",
       "  </thead>\n",
       "  <tbody>\n",
       "    <tr>\n",
       "      <th>0</th>\n",
       "      <td>Bronx</td>\n",
       "      <td>36005</td>\n",
       "    </tr>\n",
       "    <tr>\n",
       "      <th>1</th>\n",
       "      <td>Brooklyn</td>\n",
       "      <td>36047</td>\n",
       "    </tr>\n",
       "    <tr>\n",
       "      <th>2</th>\n",
       "      <td>Manhattan</td>\n",
       "      <td>36061</td>\n",
       "    </tr>\n",
       "    <tr>\n",
       "      <th>3</th>\n",
       "      <td>Queens</td>\n",
       "      <td>36081</td>\n",
       "    </tr>\n",
       "    <tr>\n",
       "      <th>4</th>\n",
       "      <td>Staten Island</td>\n",
       "      <td>36085</td>\n",
       "    </tr>\n",
       "  </tbody>\n",
       "</table>\n",
       "</div>"
      ],
      "text/plain": [
       "         Borough BroCode\n",
       "0          Bronx   36005\n",
       "1       Brooklyn   36047\n",
       "2      Manhattan   36061\n",
       "3         Queens   36081\n",
       "4  Staten Island   36085"
      ]
     },
     "execution_count": 19,
     "metadata": {},
     "output_type": "execute_result"
    }
   ],
   "source": [
    "df_conv4 = pd.DataFrame([['Bronx', '36005'],['Brooklyn','36047'],['Manhattan','36061'], \n",
    "              ['Queens','36081'], ['Staten Island', '36085']], columns=['Borough','BroCode'])\n",
    "df_conv4"
   ]
  },
  {
   "cell_type": "code",
   "execution_count": 20,
   "metadata": {
    "collapsed": false
   },
   "outputs": [
    {
     "data": {
      "text/html": [
       "<div>\n",
       "<table border=\"1\" class=\"dataframe\">\n",
       "  <thead>\n",
       "    <tr style=\"text-align: right;\">\n",
       "      <th></th>\n",
       "      <th>Borough</th>\n",
       "      <th>2010CensusTract</th>\n",
       "      <th>PUMA</th>\n",
       "      <th>NTA_Code</th>\n",
       "      <th>NTA_Name</th>\n",
       "      <th>PUMA_CommunityDistrict</th>\n",
       "      <th>BroCode</th>\n",
       "    </tr>\n",
       "  </thead>\n",
       "  <tbody>\n",
       "    <tr>\n",
       "      <th>0</th>\n",
       "      <td>Bronx</td>\n",
       "      <td>31000</td>\n",
       "      <td>3704</td>\n",
       "      <td>BX31</td>\n",
       "      <td>Allerton-Pelham Gardens</td>\n",
       "      <td>Bronx Community District 11</td>\n",
       "      <td>36005</td>\n",
       "    </tr>\n",
       "    <tr>\n",
       "      <th>1</th>\n",
       "      <td>Bronx</td>\n",
       "      <td>31200</td>\n",
       "      <td>3704</td>\n",
       "      <td>BX31</td>\n",
       "      <td>Allerton-Pelham Gardens</td>\n",
       "      <td>Bronx Community District 11</td>\n",
       "      <td>36005</td>\n",
       "    </tr>\n",
       "    <tr>\n",
       "      <th>2</th>\n",
       "      <td>Bronx</td>\n",
       "      <td>31400</td>\n",
       "      <td>3704</td>\n",
       "      <td>BX31</td>\n",
       "      <td>Allerton-Pelham Gardens</td>\n",
       "      <td>Bronx Community District 11</td>\n",
       "      <td>36005</td>\n",
       "    </tr>\n",
       "    <tr>\n",
       "      <th>3</th>\n",
       "      <td>Bronx</td>\n",
       "      <td>31600</td>\n",
       "      <td>3704</td>\n",
       "      <td>BX31</td>\n",
       "      <td>Allerton-Pelham Gardens</td>\n",
       "      <td>Bronx Community District 11</td>\n",
       "      <td>36005</td>\n",
       "    </tr>\n",
       "    <tr>\n",
       "      <th>4</th>\n",
       "      <td>Bronx</td>\n",
       "      <td>31800</td>\n",
       "      <td>3704</td>\n",
       "      <td>BX31</td>\n",
       "      <td>Allerton-Pelham Gardens</td>\n",
       "      <td>Bronx Community District 11</td>\n",
       "      <td>36005</td>\n",
       "    </tr>\n",
       "  </tbody>\n",
       "</table>\n",
       "</div>"
      ],
      "text/plain": [
       "  Borough  2010CensusTract  PUMA NTA_Code                 NTA_Name  \\\n",
       "0   Bronx            31000  3704     BX31  Allerton-Pelham Gardens   \n",
       "1   Bronx            31200  3704     BX31  Allerton-Pelham Gardens   \n",
       "2   Bronx            31400  3704     BX31  Allerton-Pelham Gardens   \n",
       "3   Bronx            31600  3704     BX31  Allerton-Pelham Gardens   \n",
       "4   Bronx            31800  3704     BX31  Allerton-Pelham Gardens   \n",
       "\n",
       "        PUMA_CommunityDistrict BroCode  \n",
       "0  Bronx Community District 11   36005  \n",
       "1  Bronx Community District 11   36005  \n",
       "2  Bronx Community District 11   36005  \n",
       "3  Bronx Community District 11   36005  \n",
       "4  Bronx Community District 11   36005  "
      ]
     },
     "execution_count": 20,
     "metadata": {},
     "output_type": "execute_result"
    }
   ],
   "source": [
    "df_tract = df_conv1.merge(df_conv2.rename(columns={'PUMA Code':'PUMA'}), \n",
    "               on = ['NTA_Code', 'NTA_Name', 'Borough', 'PUMA']).merge(df_conv4, on = 'Borough')\n",
    "\n",
    "df_tract.head()"
   ]
  },
  {
   "cell_type": "code",
   "execution_count": 21,
   "metadata": {
    "collapsed": false
   },
   "outputs": [],
   "source": [
    "df_tract['census_tract']  = (df_tract.BroCode +\\\n",
    "                        df_tract['2010CensusTract'].apply(lambda x : str(x).zfill(6))).astype(int)"
   ]
  },
  {
   "cell_type": "markdown",
   "metadata": {},
   "source": [
    "### the census tract list: 2167 census tracts in NYC 2010"
   ]
  },
  {
   "cell_type": "code",
   "execution_count": 22,
   "metadata": {
    "collapsed": false
   },
   "outputs": [
    {
     "data": {
      "text/html": [
       "<div>\n",
       "<table border=\"1\" class=\"dataframe\">\n",
       "  <thead>\n",
       "    <tr style=\"text-align: right;\">\n",
       "      <th></th>\n",
       "      <th>Borough</th>\n",
       "      <th>census_tract</th>\n",
       "      <th>PUMA</th>\n",
       "      <th>PUMA_CommunityDistrict</th>\n",
       "      <th>NTA_Code</th>\n",
       "      <th>NTA_Name</th>\n",
       "    </tr>\n",
       "  </thead>\n",
       "  <tbody>\n",
       "    <tr>\n",
       "      <th>0</th>\n",
       "      <td>Bronx</td>\n",
       "      <td>36005031000</td>\n",
       "      <td>3704</td>\n",
       "      <td>Bronx Community District 11</td>\n",
       "      <td>BX31</td>\n",
       "      <td>Allerton-Pelham Gardens</td>\n",
       "    </tr>\n",
       "    <tr>\n",
       "      <th>1</th>\n",
       "      <td>Bronx</td>\n",
       "      <td>36005031200</td>\n",
       "      <td>3704</td>\n",
       "      <td>Bronx Community District 11</td>\n",
       "      <td>BX31</td>\n",
       "      <td>Allerton-Pelham Gardens</td>\n",
       "    </tr>\n",
       "    <tr>\n",
       "      <th>2</th>\n",
       "      <td>Bronx</td>\n",
       "      <td>36005031400</td>\n",
       "      <td>3704</td>\n",
       "      <td>Bronx Community District 11</td>\n",
       "      <td>BX31</td>\n",
       "      <td>Allerton-Pelham Gardens</td>\n",
       "    </tr>\n",
       "    <tr>\n",
       "      <th>3</th>\n",
       "      <td>Bronx</td>\n",
       "      <td>36005031600</td>\n",
       "      <td>3704</td>\n",
       "      <td>Bronx Community District 11</td>\n",
       "      <td>BX31</td>\n",
       "      <td>Allerton-Pelham Gardens</td>\n",
       "    </tr>\n",
       "    <tr>\n",
       "      <th>4</th>\n",
       "      <td>Bronx</td>\n",
       "      <td>36005031800</td>\n",
       "      <td>3704</td>\n",
       "      <td>Bronx Community District 11</td>\n",
       "      <td>BX31</td>\n",
       "      <td>Allerton-Pelham Gardens</td>\n",
       "    </tr>\n",
       "  </tbody>\n",
       "</table>\n",
       "</div>"
      ],
      "text/plain": [
       "  Borough  census_tract  PUMA       PUMA_CommunityDistrict NTA_Code  \\\n",
       "0   Bronx   36005031000  3704  Bronx Community District 11     BX31   \n",
       "1   Bronx   36005031200  3704  Bronx Community District 11     BX31   \n",
       "2   Bronx   36005031400  3704  Bronx Community District 11     BX31   \n",
       "3   Bronx   36005031600  3704  Bronx Community District 11     BX31   \n",
       "4   Bronx   36005031800  3704  Bronx Community District 11     BX31   \n",
       "\n",
       "                  NTA_Name  \n",
       "0  Allerton-Pelham Gardens  \n",
       "1  Allerton-Pelham Gardens  \n",
       "2  Allerton-Pelham Gardens  \n",
       "3  Allerton-Pelham Gardens  \n",
       "4  Allerton-Pelham Gardens  "
      ]
     },
     "execution_count": 22,
     "metadata": {},
     "output_type": "execute_result"
    }
   ],
   "source": [
    "df_tract = df_tract.iloc[:,[0,-1,2,-3,3,4]]\n",
    "df_tract.head()"
   ]
  },
  {
   "cell_type": "code",
   "execution_count": 23,
   "metadata": {
    "collapsed": false
   },
   "outputs": [
    {
     "data": {
      "text/plain": [
       "(2167, 6)"
      ]
     },
     "execution_count": 23,
     "metadata": {},
     "output_type": "execute_result"
    }
   ],
   "source": [
    "df_tract.shape"
   ]
  },
  {
   "cell_type": "code",
   "execution_count": 24,
   "metadata": {
    "collapsed": false
   },
   "outputs": [
    {
     "data": {
      "text/plain": [
       "(0, 78, 2089)"
      ]
     },
     "execution_count": 24,
     "metadata": {},
     "output_type": "execute_result"
    }
   ],
   "source": [
    "# check does the conversion table contain all the census tract in dataset df\n",
    "len(set(df['census_tract']) - set(df_tract['census_tract'])), \\\n",
    "len(set(df_tract['census_tract']) - set(df['census_tract']) ), \\\n",
    "len(set(df['census_tract']))"
   ]
  },
  {
   "cell_type": "markdown",
   "metadata": {},
   "source": [
    "#### Yes, the conversion table contain all the census tract in dataset df."
   ]
  },
  {
   "cell_type": "markdown",
   "metadata": {},
   "source": [
    "## 1.3 conbine the conversion table into dataset, to add the PUMA and NTA information"
   ]
  },
  {
   "cell_type": "code",
   "execution_count": 25,
   "metadata": {
    "collapsed": false
   },
   "outputs": [
    {
     "data": {
      "text/html": [
       "<div>\n",
       "<table border=\"1\" class=\"dataframe\">\n",
       "  <thead>\n",
       "    <tr style=\"text-align: right;\">\n",
       "      <th></th>\n",
       "      <th>census_tract</th>\n",
       "      <th>lat</th>\n",
       "      <th>lon</th>\n",
       "      <th>ZCTA5</th>\n",
       "      <th>pop9</th>\n",
       "      <th>poverty9N</th>\n",
       "      <th>poverty9</th>\n",
       "      <th>ave_inc_fam_9</th>\n",
       "      <th>median_inc_fam_9</th>\n",
       "      <th>fam_inc_109</th>\n",
       "      <th>...</th>\n",
       "      <th>median_inc_hh_1</th>\n",
       "      <th>median_house_value_1</th>\n",
       "      <th>owner_cost_mo_1</th>\n",
       "      <th>owner_cost_no_mo_1</th>\n",
       "      <th>median_rent_1</th>\n",
       "      <th>Borough</th>\n",
       "      <th>PUMA</th>\n",
       "      <th>PUMA_CommunityDistrict</th>\n",
       "      <th>NTA_Code</th>\n",
       "      <th>NTA_Name</th>\n",
       "    </tr>\n",
       "  </thead>\n",
       "  <tbody>\n",
       "    <tr>\n",
       "      <th>0</th>\n",
       "      <td>36005000200</td>\n",
       "      <td>40.804573</td>\n",
       "      <td>-73.856859</td>\n",
       "      <td>10473</td>\n",
       "      <td>2907</td>\n",
       "      <td>411</td>\n",
       "      <td>0.142067</td>\n",
       "      <td>45267.28710</td>\n",
       "      <td>38711</td>\n",
       "      <td>29</td>\n",
       "      <td>...</td>\n",
       "      <td>59826</td>\n",
       "      <td>392500</td>\n",
       "      <td>2661</td>\n",
       "      <td>650</td>\n",
       "      <td>1273</td>\n",
       "      <td>Bronx</td>\n",
       "      <td>3709</td>\n",
       "      <td>Bronx Community District 9</td>\n",
       "      <td>BX09</td>\n",
       "      <td>Soundview-Castle Hill-Clason Point-Harding Park</td>\n",
       "    </tr>\n",
       "    <tr>\n",
       "      <th>1</th>\n",
       "      <td>36005000400</td>\n",
       "      <td>40.808915</td>\n",
       "      <td>-73.850488</td>\n",
       "      <td>10473</td>\n",
       "      <td>2260</td>\n",
       "      <td>225</td>\n",
       "      <td>0.100089</td>\n",
       "      <td>43694.20068</td>\n",
       "      <td>40484</td>\n",
       "      <td>19</td>\n",
       "      <td>...</td>\n",
       "      <td>71968</td>\n",
       "      <td>393700</td>\n",
       "      <td>2206</td>\n",
       "      <td>679</td>\n",
       "      <td>1330</td>\n",
       "      <td>Bronx</td>\n",
       "      <td>3709</td>\n",
       "      <td>Bronx Community District 9</td>\n",
       "      <td>BX09</td>\n",
       "      <td>Soundview-Castle Hill-Clason Point-Harding Park</td>\n",
       "    </tr>\n",
       "    <tr>\n",
       "      <th>2</th>\n",
       "      <td>36005001600</td>\n",
       "      <td>40.818848</td>\n",
       "      <td>-73.858076</td>\n",
       "      <td>10473</td>\n",
       "      <td>5254</td>\n",
       "      <td>893</td>\n",
       "      <td>0.179245</td>\n",
       "      <td>30042.84776</td>\n",
       "      <td>24732</td>\n",
       "      <td>142</td>\n",
       "      <td>...</td>\n",
       "      <td>30355</td>\n",
       "      <td>378100</td>\n",
       "      <td>2500</td>\n",
       "      <td>649</td>\n",
       "      <td>823</td>\n",
       "      <td>Bronx</td>\n",
       "      <td>3709</td>\n",
       "      <td>Bronx Community District 9</td>\n",
       "      <td>BX09</td>\n",
       "      <td>Soundview-Castle Hill-Clason Point-Harding Park</td>\n",
       "    </tr>\n",
       "    <tr>\n",
       "      <th>3</th>\n",
       "      <td>36005001900</td>\n",
       "      <td>40.800999</td>\n",
       "      <td>-73.909373</td>\n",
       "      <td>10454</td>\n",
       "      <td>1575</td>\n",
       "      <td>797</td>\n",
       "      <td>0.506032</td>\n",
       "      <td>23377.47813</td>\n",
       "      <td>24823</td>\n",
       "      <td>50</td>\n",
       "      <td>...</td>\n",
       "      <td>25093</td>\n",
       "      <td>0</td>\n",
       "      <td>0</td>\n",
       "      <td>539</td>\n",
       "      <td>870</td>\n",
       "      <td>Bronx</td>\n",
       "      <td>3710</td>\n",
       "      <td>Bronx Community Districts 1 &amp; 2</td>\n",
       "      <td>BX39</td>\n",
       "      <td>Mott Haven-Port Morris</td>\n",
       "    </tr>\n",
       "    <tr>\n",
       "      <th>4</th>\n",
       "      <td>36005002000</td>\n",
       "      <td>40.817580</td>\n",
       "      <td>-73.866096</td>\n",
       "      <td>10473</td>\n",
       "      <td>9110</td>\n",
       "      <td>3423</td>\n",
       "      <td>0.375741</td>\n",
       "      <td>25062.06250</td>\n",
       "      <td>18762</td>\n",
       "      <td>284</td>\n",
       "      <td>...</td>\n",
       "      <td>24939</td>\n",
       "      <td>398100</td>\n",
       "      <td>2185</td>\n",
       "      <td>715</td>\n",
       "      <td>455</td>\n",
       "      <td>Bronx</td>\n",
       "      <td>3709</td>\n",
       "      <td>Bronx Community District 9</td>\n",
       "      <td>BX09</td>\n",
       "      <td>Soundview-Castle Hill-Clason Point-Harding Park</td>\n",
       "    </tr>\n",
       "  </tbody>\n",
       "</table>\n",
       "<p>5 rows × 147 columns</p>\n",
       "</div>"
      ],
      "text/plain": [
       "   census_tract        lat        lon  ZCTA5  pop9  poverty9N  poverty9  \\\n",
       "0   36005000200  40.804573 -73.856859  10473  2907        411  0.142067   \n",
       "1   36005000400  40.808915 -73.850488  10473  2260        225  0.100089   \n",
       "2   36005001600  40.818848 -73.858076  10473  5254        893  0.179245   \n",
       "3   36005001900  40.800999 -73.909373  10454  1575        797  0.506032   \n",
       "4   36005002000  40.817580 -73.866096  10473  9110       3423  0.375741   \n",
       "\n",
       "   ave_inc_fam_9  median_inc_fam_9  fam_inc_109  \\\n",
       "0    45267.28710             38711           29   \n",
       "1    43694.20068             40484           19   \n",
       "2    30042.84776             24732          142   \n",
       "3    23377.47813             24823           50   \n",
       "4    25062.06250             18762          284   \n",
       "\n",
       "                        ...                         median_inc_hh_1  \\\n",
       "0                       ...                                   59826   \n",
       "1                       ...                                   71968   \n",
       "2                       ...                                   30355   \n",
       "3                       ...                                   25093   \n",
       "4                       ...                                   24939   \n",
       "\n",
       "   median_house_value_1  owner_cost_mo_1  owner_cost_no_mo_1  median_rent_1  \\\n",
       "0                392500             2661                 650           1273   \n",
       "1                393700             2206                 679           1330   \n",
       "2                378100             2500                 649            823   \n",
       "3                     0                0                 539            870   \n",
       "4                398100             2185                 715            455   \n",
       "\n",
       "   Borough  PUMA           PUMA_CommunityDistrict  NTA_Code  \\\n",
       "0    Bronx  3709       Bronx Community District 9      BX09   \n",
       "1    Bronx  3709       Bronx Community District 9      BX09   \n",
       "2    Bronx  3709       Bronx Community District 9      BX09   \n",
       "3    Bronx  3710  Bronx Community Districts 1 & 2      BX39   \n",
       "4    Bronx  3709       Bronx Community District 9      BX09   \n",
       "\n",
       "                                          NTA_Name  \n",
       "0  Soundview-Castle Hill-Clason Point-Harding Park  \n",
       "1  Soundview-Castle Hill-Clason Point-Harding Park  \n",
       "2  Soundview-Castle Hill-Clason Point-Harding Park  \n",
       "3                           Mott Haven-Port Morris  \n",
       "4  Soundview-Castle Hill-Clason Point-Harding Park  \n",
       "\n",
       "[5 rows x 147 columns]"
      ]
     },
     "execution_count": 25,
     "metadata": {},
     "output_type": "execute_result"
    }
   ],
   "source": [
    "df_all = df.merge(df_tract, on = 'census_tract')\n",
    "\n",
    "df_all.head()"
   ]
  },
  {
   "cell_type": "markdown",
   "metadata": {},
   "source": [
    "## df_all is a new whole dataset for further clean and analysis"
   ]
  },
  {
   "cell_type": "code",
   "execution_count": 26,
   "metadata": {
    "collapsed": false
   },
   "outputs": [
    {
     "data": {
      "text/html": [
       "<div>\n",
       "<table border=\"1\" class=\"dataframe\">\n",
       "  <thead>\n",
       "    <tr style=\"text-align: right;\">\n",
       "      <th></th>\n",
       "      <th>census_tract</th>\n",
       "      <th>Borough</th>\n",
       "      <th>PUMA</th>\n",
       "      <th>PUMA_CommunityDistrict</th>\n",
       "      <th>NTA_Code</th>\n",
       "      <th>NTA_Name</th>\n",
       "      <th>lat</th>\n",
       "      <th>lon</th>\n",
       "      <th>ZCTA5</th>\n",
       "      <th>pop9</th>\n",
       "      <th>...</th>\n",
       "      <th>hh_inc_1001</th>\n",
       "      <th>hh_inc_1251</th>\n",
       "      <th>hh_inc_1501</th>\n",
       "      <th>hh_inc_2001</th>\n",
       "      <th>hh_inc_max_201</th>\n",
       "      <th>median_inc_hh_1</th>\n",
       "      <th>median_house_value_1</th>\n",
       "      <th>owner_cost_mo_1</th>\n",
       "      <th>owner_cost_no_mo_1</th>\n",
       "      <th>median_rent_1</th>\n",
       "    </tr>\n",
       "  </thead>\n",
       "  <tbody>\n",
       "    <tr>\n",
       "      <th>0</th>\n",
       "      <td>36005000200</td>\n",
       "      <td>Bronx</td>\n",
       "      <td>3709</td>\n",
       "      <td>Bronx Community District 9</td>\n",
       "      <td>BX09</td>\n",
       "      <td>Soundview-Castle Hill-Clason Point-Harding Park</td>\n",
       "      <td>40.804573</td>\n",
       "      <td>-73.856859</td>\n",
       "      <td>10473</td>\n",
       "      <td>2907</td>\n",
       "      <td>...</td>\n",
       "      <td>152</td>\n",
       "      <td>203</td>\n",
       "      <td>48</td>\n",
       "      <td>68</td>\n",
       "      <td>11</td>\n",
       "      <td>59826</td>\n",
       "      <td>392500</td>\n",
       "      <td>2661</td>\n",
       "      <td>650</td>\n",
       "      <td>1273</td>\n",
       "    </tr>\n",
       "    <tr>\n",
       "      <th>1</th>\n",
       "      <td>36005000400</td>\n",
       "      <td>Bronx</td>\n",
       "      <td>3709</td>\n",
       "      <td>Bronx Community District 9</td>\n",
       "      <td>BX09</td>\n",
       "      <td>Soundview-Castle Hill-Clason Point-Harding Park</td>\n",
       "      <td>40.808915</td>\n",
       "      <td>-73.850488</td>\n",
       "      <td>10473</td>\n",
       "      <td>2260</td>\n",
       "      <td>...</td>\n",
       "      <td>255</td>\n",
       "      <td>97</td>\n",
       "      <td>161</td>\n",
       "      <td>96</td>\n",
       "      <td>73</td>\n",
       "      <td>71968</td>\n",
       "      <td>393700</td>\n",
       "      <td>2206</td>\n",
       "      <td>679</td>\n",
       "      <td>1330</td>\n",
       "    </tr>\n",
       "    <tr>\n",
       "      <th>2</th>\n",
       "      <td>36005001600</td>\n",
       "      <td>Bronx</td>\n",
       "      <td>3709</td>\n",
       "      <td>Bronx Community District 9</td>\n",
       "      <td>BX09</td>\n",
       "      <td>Soundview-Castle Hill-Clason Point-Harding Park</td>\n",
       "      <td>40.818848</td>\n",
       "      <td>-73.858076</td>\n",
       "      <td>10473</td>\n",
       "      <td>5254</td>\n",
       "      <td>...</td>\n",
       "      <td>171</td>\n",
       "      <td>20</td>\n",
       "      <td>38</td>\n",
       "      <td>20</td>\n",
       "      <td>0</td>\n",
       "      <td>30355</td>\n",
       "      <td>378100</td>\n",
       "      <td>2500</td>\n",
       "      <td>649</td>\n",
       "      <td>823</td>\n",
       "    </tr>\n",
       "    <tr>\n",
       "      <th>3</th>\n",
       "      <td>36005001900</td>\n",
       "      <td>Bronx</td>\n",
       "      <td>3710</td>\n",
       "      <td>Bronx Community Districts 1 &amp; 2</td>\n",
       "      <td>BX39</td>\n",
       "      <td>Mott Haven-Port Morris</td>\n",
       "      <td>40.800999</td>\n",
       "      <td>-73.909373</td>\n",
       "      <td>10454</td>\n",
       "      <td>1575</td>\n",
       "      <td>...</td>\n",
       "      <td>14</td>\n",
       "      <td>19</td>\n",
       "      <td>21</td>\n",
       "      <td>0</td>\n",
       "      <td>0</td>\n",
       "      <td>25093</td>\n",
       "      <td>0</td>\n",
       "      <td>0</td>\n",
       "      <td>539</td>\n",
       "      <td>870</td>\n",
       "    </tr>\n",
       "    <tr>\n",
       "      <th>4</th>\n",
       "      <td>36005002000</td>\n",
       "      <td>Bronx</td>\n",
       "      <td>3709</td>\n",
       "      <td>Bronx Community District 9</td>\n",
       "      <td>BX09</td>\n",
       "      <td>Soundview-Castle Hill-Clason Point-Harding Park</td>\n",
       "      <td>40.817580</td>\n",
       "      <td>-73.866096</td>\n",
       "      <td>10473</td>\n",
       "      <td>9110</td>\n",
       "      <td>...</td>\n",
       "      <td>180</td>\n",
       "      <td>161</td>\n",
       "      <td>0</td>\n",
       "      <td>45</td>\n",
       "      <td>12</td>\n",
       "      <td>24939</td>\n",
       "      <td>398100</td>\n",
       "      <td>2185</td>\n",
       "      <td>715</td>\n",
       "      <td>455</td>\n",
       "    </tr>\n",
       "  </tbody>\n",
       "</table>\n",
       "<p>5 rows × 147 columns</p>\n",
       "</div>"
      ],
      "text/plain": [
       "   census_tract Borough  PUMA           PUMA_CommunityDistrict NTA_Code  \\\n",
       "0   36005000200   Bronx  3709       Bronx Community District 9     BX09   \n",
       "1   36005000400   Bronx  3709       Bronx Community District 9     BX09   \n",
       "2   36005001600   Bronx  3709       Bronx Community District 9     BX09   \n",
       "3   36005001900   Bronx  3710  Bronx Community Districts 1 & 2     BX39   \n",
       "4   36005002000   Bronx  3709       Bronx Community District 9     BX09   \n",
       "\n",
       "                                          NTA_Name        lat        lon  \\\n",
       "0  Soundview-Castle Hill-Clason Point-Harding Park  40.804573 -73.856859   \n",
       "1  Soundview-Castle Hill-Clason Point-Harding Park  40.808915 -73.850488   \n",
       "2  Soundview-Castle Hill-Clason Point-Harding Park  40.818848 -73.858076   \n",
       "3                           Mott Haven-Port Morris  40.800999 -73.909373   \n",
       "4  Soundview-Castle Hill-Clason Point-Harding Park  40.817580 -73.866096   \n",
       "\n",
       "   ZCTA5  pop9      ...        hh_inc_1001  hh_inc_1251  hh_inc_1501  \\\n",
       "0  10473  2907      ...                152          203           48   \n",
       "1  10473  2260      ...                255           97          161   \n",
       "2  10473  5254      ...                171           20           38   \n",
       "3  10454  1575      ...                 14           19           21   \n",
       "4  10473  9110      ...                180          161            0   \n",
       "\n",
       "   hh_inc_2001  hh_inc_max_201  median_inc_hh_1  median_house_value_1  \\\n",
       "0           68              11            59826                392500   \n",
       "1           96              73            71968                393700   \n",
       "2           20               0            30355                378100   \n",
       "3            0               0            25093                     0   \n",
       "4           45              12            24939                398100   \n",
       "\n",
       "   owner_cost_mo_1  owner_cost_no_mo_1  median_rent_1  \n",
       "0             2661                 650           1273  \n",
       "1             2206                 679           1330  \n",
       "2             2500                 649            823  \n",
       "3                0                 539            870  \n",
       "4             2185                 715            455  \n",
       "\n",
       "[5 rows x 147 columns]"
      ]
     },
     "execution_count": 26,
     "metadata": {},
     "output_type": "execute_result"
    }
   ],
   "source": [
    "# change the colomn location of df_cov's colomns\n",
    "df_all = pd.concat([df_all.iloc[:,[0]], df_all.iloc[:,-5:], df_all.iloc[:,1:-5]], axis = 1)\n",
    "df_all.head()"
   ]
  },
  {
   "cell_type": "code",
   "execution_count": 27,
   "metadata": {
    "collapsed": false
   },
   "outputs": [
    {
     "data": {
      "text/plain": [
       "((2089, 147), (2089, 142))"
      ]
     },
     "execution_count": 27,
     "metadata": {},
     "output_type": "execute_result"
    }
   ],
   "source": [
    "df_all.shape, df.shape"
   ]
  },
  {
   "cell_type": "markdown",
   "metadata": {
    "collapsed": true
   },
   "source": [
    "### We have 2089 census tracts for analysis."
   ]
  },
  {
   "cell_type": "code",
   "execution_count": null,
   "metadata": {
    "collapsed": true
   },
   "outputs": [],
   "source": []
  },
  {
   "cell_type": "markdown",
   "metadata": {},
   "source": [
    "# 2. split the dataset into several sub-tables"
   ]
  },
  {
   "cell_type": "markdown",
   "metadata": {},
   "source": [
    "## 2.1 Geographies data table\n",
    "according to http://guides.newman.baruch.cuny.edu/nyc_data/nbhoods, New York City neighborhood census data could use Public Use Microdata Areas (PUMAs).\n"
   ]
  },
  {
   "cell_type": "code",
   "execution_count": 28,
   "metadata": {
    "collapsed": false
   },
   "outputs": [
    {
     "data": {
      "text/html": [
       "<div>\n",
       "<table border=\"1\" class=\"dataframe\">\n",
       "  <thead>\n",
       "    <tr style=\"text-align: right;\">\n",
       "      <th></th>\n",
       "      <th>census_tract</th>\n",
       "      <th>Borough</th>\n",
       "      <th>PUMA</th>\n",
       "      <th>PUMA_CommunityDistrict</th>\n",
       "      <th>NTA_Code</th>\n",
       "      <th>NTA_Name</th>\n",
       "      <th>lat</th>\n",
       "      <th>lon</th>\n",
       "      <th>ZCTA5</th>\n",
       "    </tr>\n",
       "  </thead>\n",
       "  <tbody>\n",
       "    <tr>\n",
       "      <th>0</th>\n",
       "      <td>36005000200</td>\n",
       "      <td>Bronx</td>\n",
       "      <td>3709</td>\n",
       "      <td>Bronx Community District 9</td>\n",
       "      <td>BX09</td>\n",
       "      <td>Soundview-Castle Hill-Clason Point-Harding Park</td>\n",
       "      <td>40.804573</td>\n",
       "      <td>-73.856859</td>\n",
       "      <td>10473</td>\n",
       "    </tr>\n",
       "    <tr>\n",
       "      <th>1</th>\n",
       "      <td>36005000400</td>\n",
       "      <td>Bronx</td>\n",
       "      <td>3709</td>\n",
       "      <td>Bronx Community District 9</td>\n",
       "      <td>BX09</td>\n",
       "      <td>Soundview-Castle Hill-Clason Point-Harding Park</td>\n",
       "      <td>40.808915</td>\n",
       "      <td>-73.850488</td>\n",
       "      <td>10473</td>\n",
       "    </tr>\n",
       "    <tr>\n",
       "      <th>2</th>\n",
       "      <td>36005001600</td>\n",
       "      <td>Bronx</td>\n",
       "      <td>3709</td>\n",
       "      <td>Bronx Community District 9</td>\n",
       "      <td>BX09</td>\n",
       "      <td>Soundview-Castle Hill-Clason Point-Harding Park</td>\n",
       "      <td>40.818848</td>\n",
       "      <td>-73.858076</td>\n",
       "      <td>10473</td>\n",
       "    </tr>\n",
       "    <tr>\n",
       "      <th>3</th>\n",
       "      <td>36005001900</td>\n",
       "      <td>Bronx</td>\n",
       "      <td>3710</td>\n",
       "      <td>Bronx Community Districts 1 &amp; 2</td>\n",
       "      <td>BX39</td>\n",
       "      <td>Mott Haven-Port Morris</td>\n",
       "      <td>40.800999</td>\n",
       "      <td>-73.909373</td>\n",
       "      <td>10454</td>\n",
       "    </tr>\n",
       "    <tr>\n",
       "      <th>4</th>\n",
       "      <td>36005002000</td>\n",
       "      <td>Bronx</td>\n",
       "      <td>3709</td>\n",
       "      <td>Bronx Community District 9</td>\n",
       "      <td>BX09</td>\n",
       "      <td>Soundview-Castle Hill-Clason Point-Harding Park</td>\n",
       "      <td>40.817580</td>\n",
       "      <td>-73.866096</td>\n",
       "      <td>10473</td>\n",
       "    </tr>\n",
       "  </tbody>\n",
       "</table>\n",
       "</div>"
      ],
      "text/plain": [
       "   census_tract Borough  PUMA           PUMA_CommunityDistrict NTA_Code  \\\n",
       "0   36005000200   Bronx  3709       Bronx Community District 9     BX09   \n",
       "1   36005000400   Bronx  3709       Bronx Community District 9     BX09   \n",
       "2   36005001600   Bronx  3709       Bronx Community District 9     BX09   \n",
       "3   36005001900   Bronx  3710  Bronx Community Districts 1 & 2     BX39   \n",
       "4   36005002000   Bronx  3709       Bronx Community District 9     BX09   \n",
       "\n",
       "                                          NTA_Name        lat        lon  \\\n",
       "0  Soundview-Castle Hill-Clason Point-Harding Park  40.804573 -73.856859   \n",
       "1  Soundview-Castle Hill-Clason Point-Harding Park  40.808915 -73.850488   \n",
       "2  Soundview-Castle Hill-Clason Point-Harding Park  40.818848 -73.858076   \n",
       "3                           Mott Haven-Port Morris  40.800999 -73.909373   \n",
       "4  Soundview-Castle Hill-Clason Point-Harding Park  40.817580 -73.866096   \n",
       "\n",
       "   ZCTA5  \n",
       "0  10473  \n",
       "1  10473  \n",
       "2  10473  \n",
       "3  10454  \n",
       "4  10473  "
      ]
     },
     "execution_count": 28,
     "metadata": {},
     "output_type": "execute_result"
    }
   ],
   "source": [
    "# the sub-table of census tract information, including census tract id, latitude, longitude, and ZCTA.\n",
    "# df_dataset_tract is part of df_tract , accrdance with the observations of dataset\n",
    "# also three more variables than df_tract: lat, lon, ZCTA5 \n",
    "df_dataset_tract = df_all.iloc[:, :9]\n",
    "df_dataset_tract.head()"
   ]
  },
  {
   "cell_type": "code",
   "execution_count": 29,
   "metadata": {
    "collapsed": false
   },
   "outputs": [
    {
     "data": {
      "text/plain": [
       "(2089, 9)"
      ]
     },
     "execution_count": 29,
     "metadata": {},
     "output_type": "execute_result"
    }
   ],
   "source": [
    "df_dataset_tract.shape"
   ]
  },
  {
   "cell_type": "markdown",
   "metadata": {},
   "source": [
    "## 2.2 Tables for different years"
   ]
  },
  {
   "cell_type": "code",
   "execution_count": 30,
   "metadata": {
    "collapsed": false
   },
   "outputs": [
    {
     "data": {
      "text/plain": [
       "((2089, 38), (2089, 56), (2089, 56))"
      ]
     },
     "execution_count": 30,
     "metadata": {},
     "output_type": "execute_result"
    }
   ],
   "source": [
    "df_1990 = pd.concat([df_all.iloc[:,0:4], df_all.iloc[:, 9:43]],axis =1)\n",
    "df_2000 = pd.concat([df_all.iloc[:,0:4], df_all.iloc[:, 43:95]],axis =1)\n",
    "df_2010 = pd.concat([df_all.iloc[:,:4], df_all.iloc[:, 95:]],axis =1)\n",
    "df_1990.shape, df_2000.shape, df_2010.shape"
   ]
  },
  {
   "cell_type": "code",
   "execution_count": 31,
   "metadata": {
    "collapsed": false
   },
   "outputs": [
    {
     "data": {
      "text/html": [
       "<div>\n",
       "<table border=\"1\" class=\"dataframe\">\n",
       "  <thead>\n",
       "    <tr style=\"text-align: right;\">\n",
       "      <th></th>\n",
       "      <th>census_tract</th>\n",
       "      <th>Borough</th>\n",
       "      <th>PUMA</th>\n",
       "      <th>PUMA_CommunityDistrict</th>\n",
       "      <th>pop9</th>\n",
       "      <th>poverty9N</th>\n",
       "      <th>poverty9</th>\n",
       "      <th>ave_inc_fam_9</th>\n",
       "      <th>median_inc_fam_9</th>\n",
       "      <th>fam_inc_109</th>\n",
       "      <th>...</th>\n",
       "      <th>owner_occ_9</th>\n",
       "      <th>spec_renter_occ_9</th>\n",
       "      <th>spec_owner_occ_9</th>\n",
       "      <th>person_occ_9</th>\n",
       "      <th>person_owner_occ_9</th>\n",
       "      <th>person_renter_occ_9</th>\n",
       "      <th>median_house_value_9</th>\n",
       "      <th>owner_cost_mo_9</th>\n",
       "      <th>owner_cost_no_mo_9</th>\n",
       "      <th>median_rent_9</th>\n",
       "    </tr>\n",
       "  </thead>\n",
       "  <tbody>\n",
       "    <tr>\n",
       "      <th>0</th>\n",
       "      <td>36005000200</td>\n",
       "      <td>Bronx</td>\n",
       "      <td>3709</td>\n",
       "      <td>Bronx Community District 9</td>\n",
       "      <td>2907</td>\n",
       "      <td>411</td>\n",
       "      <td>0.142067</td>\n",
       "      <td>45267.28710</td>\n",
       "      <td>38711</td>\n",
       "      <td>29</td>\n",
       "      <td>...</td>\n",
       "      <td>587</td>\n",
       "      <td>379</td>\n",
       "      <td>365</td>\n",
       "      <td>2901</td>\n",
       "      <td>1845</td>\n",
       "      <td>1055</td>\n",
       "      <td>136500</td>\n",
       "      <td>1006</td>\n",
       "      <td>204</td>\n",
       "      <td>742</td>\n",
       "    </tr>\n",
       "    <tr>\n",
       "      <th>1</th>\n",
       "      <td>36005000400</td>\n",
       "      <td>Bronx</td>\n",
       "      <td>3709</td>\n",
       "      <td>Bronx Community District 9</td>\n",
       "      <td>2260</td>\n",
       "      <td>225</td>\n",
       "      <td>0.100089</td>\n",
       "      <td>43694.20068</td>\n",
       "      <td>40484</td>\n",
       "      <td>19</td>\n",
       "      <td>...</td>\n",
       "      <td>507</td>\n",
       "      <td>188</td>\n",
       "      <td>359</td>\n",
       "      <td>2254</td>\n",
       "      <td>1662</td>\n",
       "      <td>593</td>\n",
       "      <td>163234</td>\n",
       "      <td>1066</td>\n",
       "      <td>301</td>\n",
       "      <td>535</td>\n",
       "    </tr>\n",
       "  </tbody>\n",
       "</table>\n",
       "<p>2 rows × 38 columns</p>\n",
       "</div>"
      ],
      "text/plain": [
       "   census_tract Borough  PUMA      PUMA_CommunityDistrict  pop9  poverty9N  \\\n",
       "0   36005000200   Bronx  3709  Bronx Community District 9  2907        411   \n",
       "1   36005000400   Bronx  3709  Bronx Community District 9  2260        225   \n",
       "\n",
       "   poverty9  ave_inc_fam_9  median_inc_fam_9  fam_inc_109      ...        \\\n",
       "0  0.142067    45267.28710             38711           29      ...         \n",
       "1  0.100089    43694.20068             40484           19      ...         \n",
       "\n",
       "   owner_occ_9  spec_renter_occ_9  spec_owner_occ_9  person_occ_9  \\\n",
       "0          587                379               365          2901   \n",
       "1          507                188               359          2254   \n",
       "\n",
       "   person_owner_occ_9  person_renter_occ_9  median_house_value_9  \\\n",
       "0                1845                 1055                136500   \n",
       "1                1662                  593                163234   \n",
       "\n",
       "   owner_cost_mo_9  owner_cost_no_mo_9  median_rent_9  \n",
       "0             1006                 204            742  \n",
       "1             1066                 301            535  \n",
       "\n",
       "[2 rows x 38 columns]"
      ]
     },
     "execution_count": 31,
     "metadata": {},
     "output_type": "execute_result"
    }
   ],
   "source": [
    "df_1990.head(2)"
   ]
  },
  {
   "cell_type": "code",
   "execution_count": 32,
   "metadata": {
    "collapsed": false
   },
   "outputs": [
    {
     "data": {
      "text/html": [
       "<div>\n",
       "<table border=\"1\" class=\"dataframe\">\n",
       "  <thead>\n",
       "    <tr style=\"text-align: right;\">\n",
       "      <th></th>\n",
       "      <th>census_tract</th>\n",
       "      <th>Borough</th>\n",
       "      <th>PUMA</th>\n",
       "      <th>PUMA_CommunityDistrict</th>\n",
       "      <th>pop0</th>\n",
       "      <th>poverty0N</th>\n",
       "      <th>poverty0</th>\n",
       "      <th>ave_inc_fam_0</th>\n",
       "      <th>median_inc_fam_0</th>\n",
       "      <th>fam_inc_100</th>\n",
       "      <th>...</th>\n",
       "      <th>owner_occ_0</th>\n",
       "      <th>spec_renter_occ_0</th>\n",
       "      <th>spec_owner_occ_0</th>\n",
       "      <th>person_occ_0</th>\n",
       "      <th>person_owner_occ_0</th>\n",
       "      <th>person_renter_occ_0</th>\n",
       "      <th>median_house_value_0</th>\n",
       "      <th>owner_cost_mo_0</th>\n",
       "      <th>owner_cost_no_mo_0</th>\n",
       "      <th>median_rent_0</th>\n",
       "    </tr>\n",
       "  </thead>\n",
       "  <tbody>\n",
       "    <tr>\n",
       "      <th>0</th>\n",
       "      <td>36005000200</td>\n",
       "      <td>Bronx</td>\n",
       "      <td>3709</td>\n",
       "      <td>Bronx Community District 9</td>\n",
       "      <td>3505</td>\n",
       "      <td>703</td>\n",
       "      <td>0.202477</td>\n",
       "      <td>50763.54348</td>\n",
       "      <td>50817</td>\n",
       "      <td>137</td>\n",
       "      <td>...</td>\n",
       "      <td>654</td>\n",
       "      <td>421</td>\n",
       "      <td>436</td>\n",
       "      <td>3495</td>\n",
       "      <td>2508</td>\n",
       "      <td>987</td>\n",
       "      <td>147500</td>\n",
       "      <td>1454</td>\n",
       "      <td>424</td>\n",
       "      <td>730</td>\n",
       "    </tr>\n",
       "    <tr>\n",
       "      <th>1</th>\n",
       "      <td>36005000400</td>\n",
       "      <td>Bronx</td>\n",
       "      <td>3709</td>\n",
       "      <td>Bronx Community District 9</td>\n",
       "      <td>3354</td>\n",
       "      <td>437</td>\n",
       "      <td>0.131508</td>\n",
       "      <td>48306.41829</td>\n",
       "      <td>41019</td>\n",
       "      <td>75</td>\n",
       "      <td>...</td>\n",
       "      <td>618</td>\n",
       "      <td>486</td>\n",
       "      <td>382</td>\n",
       "      <td>3342</td>\n",
       "      <td>2243</td>\n",
       "      <td>1099</td>\n",
       "      <td>157610</td>\n",
       "      <td>1562</td>\n",
       "      <td>422</td>\n",
       "      <td>643</td>\n",
       "    </tr>\n",
       "  </tbody>\n",
       "</table>\n",
       "<p>2 rows × 56 columns</p>\n",
       "</div>"
      ],
      "text/plain": [
       "   census_tract Borough  PUMA      PUMA_CommunityDistrict  pop0  poverty0N  \\\n",
       "0   36005000200   Bronx  3709  Bronx Community District 9  3505        703   \n",
       "1   36005000400   Bronx  3709  Bronx Community District 9  3354        437   \n",
       "\n",
       "   poverty0  ave_inc_fam_0  median_inc_fam_0  fam_inc_100      ...        \\\n",
       "0  0.202477    50763.54348             50817          137      ...         \n",
       "1  0.131508    48306.41829             41019           75      ...         \n",
       "\n",
       "   owner_occ_0  spec_renter_occ_0  spec_owner_occ_0  person_occ_0  \\\n",
       "0          654                421               436          3495   \n",
       "1          618                486               382          3342   \n",
       "\n",
       "   person_owner_occ_0  person_renter_occ_0  median_house_value_0  \\\n",
       "0                2508                  987                147500   \n",
       "1                2243                 1099                157610   \n",
       "\n",
       "   owner_cost_mo_0  owner_cost_no_mo_0  median_rent_0  \n",
       "0             1454                 424            730  \n",
       "1             1562                 422            643  \n",
       "\n",
       "[2 rows x 56 columns]"
      ]
     },
     "execution_count": 32,
     "metadata": {},
     "output_type": "execute_result"
    }
   ],
   "source": [
    "df_2000.head(2)"
   ]
  },
  {
   "cell_type": "code",
   "execution_count": 33,
   "metadata": {
    "collapsed": false
   },
   "outputs": [
    {
     "data": {
      "text/html": [
       "<div>\n",
       "<table border=\"1\" class=\"dataframe\">\n",
       "  <thead>\n",
       "    <tr style=\"text-align: right;\">\n",
       "      <th></th>\n",
       "      <th>census_tract</th>\n",
       "      <th>Borough</th>\n",
       "      <th>PUMA</th>\n",
       "      <th>PUMA_CommunityDistrict</th>\n",
       "      <th>pop1</th>\n",
       "      <th>occ_1</th>\n",
       "      <th>vacant_1</th>\n",
       "      <th>renter_occ_1</th>\n",
       "      <th>owner_occ_1</th>\n",
       "      <th>person_occ_1</th>\n",
       "      <th>...</th>\n",
       "      <th>hh_inc_1001</th>\n",
       "      <th>hh_inc_1251</th>\n",
       "      <th>hh_inc_1501</th>\n",
       "      <th>hh_inc_2001</th>\n",
       "      <th>hh_inc_max_201</th>\n",
       "      <th>median_inc_hh_1</th>\n",
       "      <th>median_house_value_1</th>\n",
       "      <th>owner_cost_mo_1</th>\n",
       "      <th>owner_cost_no_mo_1</th>\n",
       "      <th>median_rent_1</th>\n",
       "    </tr>\n",
       "  </thead>\n",
       "  <tbody>\n",
       "    <tr>\n",
       "      <th>0</th>\n",
       "      <td>36005000200</td>\n",
       "      <td>Bronx</td>\n",
       "      <td>3709</td>\n",
       "      <td>Bronx Community District 9</td>\n",
       "      <td>4334</td>\n",
       "      <td>1351</td>\n",
       "      <td>98</td>\n",
       "      <td>635</td>\n",
       "      <td>716</td>\n",
       "      <td>4329</td>\n",
       "      <td>...</td>\n",
       "      <td>152</td>\n",
       "      <td>203</td>\n",
       "      <td>48</td>\n",
       "      <td>68</td>\n",
       "      <td>11</td>\n",
       "      <td>59826</td>\n",
       "      <td>392500</td>\n",
       "      <td>2661</td>\n",
       "      <td>650</td>\n",
       "      <td>1273</td>\n",
       "    </tr>\n",
       "    <tr>\n",
       "      <th>1</th>\n",
       "      <td>36005000400</td>\n",
       "      <td>Bronx</td>\n",
       "      <td>3709</td>\n",
       "      <td>Bronx Community District 9</td>\n",
       "      <td>5503</td>\n",
       "      <td>1786</td>\n",
       "      <td>117</td>\n",
       "      <td>615</td>\n",
       "      <td>1171</td>\n",
       "      <td>5491</td>\n",
       "      <td>...</td>\n",
       "      <td>255</td>\n",
       "      <td>97</td>\n",
       "      <td>161</td>\n",
       "      <td>96</td>\n",
       "      <td>73</td>\n",
       "      <td>71968</td>\n",
       "      <td>393700</td>\n",
       "      <td>2206</td>\n",
       "      <td>679</td>\n",
       "      <td>1330</td>\n",
       "    </tr>\n",
       "  </tbody>\n",
       "</table>\n",
       "<p>2 rows × 56 columns</p>\n",
       "</div>"
      ],
      "text/plain": [
       "   census_tract Borough  PUMA      PUMA_CommunityDistrict  pop1  occ_1  \\\n",
       "0   36005000200   Bronx  3709  Bronx Community District 9  4334   1351   \n",
       "1   36005000400   Bronx  3709  Bronx Community District 9  5503   1786   \n",
       "\n",
       "   vacant_1  renter_occ_1  owner_occ_1  person_occ_1      ...        \\\n",
       "0        98           635          716          4329      ...         \n",
       "1       117           615         1171          5491      ...         \n",
       "\n",
       "   hh_inc_1001  hh_inc_1251  hh_inc_1501  hh_inc_2001  hh_inc_max_201  \\\n",
       "0          152          203           48           68              11   \n",
       "1          255           97          161           96              73   \n",
       "\n",
       "   median_inc_hh_1  median_house_value_1  owner_cost_mo_1  owner_cost_no_mo_1  \\\n",
       "0            59826                392500             2661                 650   \n",
       "1            71968                393700             2206                 679   \n",
       "\n",
       "   median_rent_1  \n",
       "0           1273  \n",
       "1           1330  \n",
       "\n",
       "[2 rows x 56 columns]"
      ]
     },
     "execution_count": 33,
     "metadata": {},
     "output_type": "execute_result"
    }
   ],
   "source": [
    "df_2010.head(2)"
   ]
  },
  {
   "cell_type": "markdown",
   "metadata": {},
   "source": [
    "## 2.3 Income Tables"
   ]
  },
  {
   "cell_type": "code",
   "execution_count": 34,
   "metadata": {
    "collapsed": false
   },
   "outputs": [
    {
     "data": {
      "text/html": [
       "<div>\n",
       "<table border=\"1\" class=\"dataframe\">\n",
       "  <thead>\n",
       "    <tr style=\"text-align: right;\">\n",
       "      <th></th>\n",
       "      <th>census_tract</th>\n",
       "      <th>Borough</th>\n",
       "      <th>PUMA</th>\n",
       "      <th>PUMA_CommunityDistrict</th>\n",
       "      <th>ave_inc_fam_9</th>\n",
       "      <th>median_inc_fam_9</th>\n",
       "      <th>ave_inc_hh_9</th>\n",
       "      <th>median_inc_hh_9</th>\n",
       "      <th>ave_inc_fam_0</th>\n",
       "      <th>median_inc_fam_0</th>\n",
       "      <th>ave_inc_hh_0</th>\n",
       "      <th>median_inc_hh_0</th>\n",
       "      <th>ave_inc_fam_1</th>\n",
       "      <th>median_inc_fam_1</th>\n",
       "      <th>ave_inc_hh_1</th>\n",
       "      <th>median_inc_hh_1</th>\n",
       "    </tr>\n",
       "  </thead>\n",
       "  <tbody>\n",
       "    <tr>\n",
       "      <th>0</th>\n",
       "      <td>36005000200</td>\n",
       "      <td>Bronx</td>\n",
       "      <td>3709</td>\n",
       "      <td>Bronx Community District 9</td>\n",
       "      <td>45267.28710</td>\n",
       "      <td>38711</td>\n",
       "      <td>41034.78595</td>\n",
       "      <td>31632</td>\n",
       "      <td>50763.54348</td>\n",
       "      <td>50817</td>\n",
       "      <td>48547.32784</td>\n",
       "      <td>42539</td>\n",
       "      <td>67363.981</td>\n",
       "      <td>58368</td>\n",
       "      <td>66324.981</td>\n",
       "      <td>59826</td>\n",
       "    </tr>\n",
       "    <tr>\n",
       "      <th>1</th>\n",
       "      <td>36005000400</td>\n",
       "      <td>Bronx</td>\n",
       "      <td>3709</td>\n",
       "      <td>Bronx Community District 9</td>\n",
       "      <td>43694.20068</td>\n",
       "      <td>40484</td>\n",
       "      <td>41850.02374</td>\n",
       "      <td>36506</td>\n",
       "      <td>48306.41829</td>\n",
       "      <td>41019</td>\n",
       "      <td>45697.79035</td>\n",
       "      <td>39111</td>\n",
       "      <td>86056.373</td>\n",
       "      <td>73148</td>\n",
       "      <td>82305.160</td>\n",
       "      <td>71968</td>\n",
       "    </tr>\n",
       "    <tr>\n",
       "      <th>2</th>\n",
       "      <td>36005001600</td>\n",
       "      <td>Bronx</td>\n",
       "      <td>3709</td>\n",
       "      <td>Bronx Community District 9</td>\n",
       "      <td>30042.84776</td>\n",
       "      <td>24732</td>\n",
       "      <td>27803.12012</td>\n",
       "      <td>22739</td>\n",
       "      <td>36442.53563</td>\n",
       "      <td>30104</td>\n",
       "      <td>31610.56070</td>\n",
       "      <td>24552</td>\n",
       "      <td>43473.490</td>\n",
       "      <td>33555</td>\n",
       "      <td>38629.904</td>\n",
       "      <td>30355</td>\n",
       "    </tr>\n",
       "    <tr>\n",
       "      <th>3</th>\n",
       "      <td>36005001900</td>\n",
       "      <td>Bronx</td>\n",
       "      <td>3710</td>\n",
       "      <td>Bronx Community Districts 1 &amp; 2</td>\n",
       "      <td>23377.47813</td>\n",
       "      <td>24823</td>\n",
       "      <td>19303.58696</td>\n",
       "      <td>11215</td>\n",
       "      <td>31360.47431</td>\n",
       "      <td>23671</td>\n",
       "      <td>27995.65217</td>\n",
       "      <td>22772</td>\n",
       "      <td>35995.455</td>\n",
       "      <td>25489</td>\n",
       "      <td>33907.328</td>\n",
       "      <td>25093</td>\n",
       "    </tr>\n",
       "    <tr>\n",
       "      <th>4</th>\n",
       "      <td>36005002000</td>\n",
       "      <td>Bronx</td>\n",
       "      <td>3709</td>\n",
       "      <td>Bronx Community District 9</td>\n",
       "      <td>25062.06250</td>\n",
       "      <td>18762</td>\n",
       "      <td>22262.06940</td>\n",
       "      <td>14765</td>\n",
       "      <td>26817.80645</td>\n",
       "      <td>19694</td>\n",
       "      <td>24885.52589</td>\n",
       "      <td>14691</td>\n",
       "      <td>41842.527</td>\n",
       "      <td>30817</td>\n",
       "      <td>35687.455</td>\n",
       "      <td>24939</td>\n",
       "    </tr>\n",
       "  </tbody>\n",
       "</table>\n",
       "</div>"
      ],
      "text/plain": [
       "   census_tract Borough  PUMA           PUMA_CommunityDistrict  ave_inc_fam_9  \\\n",
       "0   36005000200   Bronx  3709       Bronx Community District 9    45267.28710   \n",
       "1   36005000400   Bronx  3709       Bronx Community District 9    43694.20068   \n",
       "2   36005001600   Bronx  3709       Bronx Community District 9    30042.84776   \n",
       "3   36005001900   Bronx  3710  Bronx Community Districts 1 & 2    23377.47813   \n",
       "4   36005002000   Bronx  3709       Bronx Community District 9    25062.06250   \n",
       "\n",
       "   median_inc_fam_9  ave_inc_hh_9  median_inc_hh_9  ave_inc_fam_0  \\\n",
       "0             38711   41034.78595            31632    50763.54348   \n",
       "1             40484   41850.02374            36506    48306.41829   \n",
       "2             24732   27803.12012            22739    36442.53563   \n",
       "3             24823   19303.58696            11215    31360.47431   \n",
       "4             18762   22262.06940            14765    26817.80645   \n",
       "\n",
       "   median_inc_fam_0  ave_inc_hh_0  median_inc_hh_0  ave_inc_fam_1  \\\n",
       "0             50817   48547.32784            42539      67363.981   \n",
       "1             41019   45697.79035            39111      86056.373   \n",
       "2             30104   31610.56070            24552      43473.490   \n",
       "3             23671   27995.65217            22772      35995.455   \n",
       "4             19694   24885.52589            14691      41842.527   \n",
       "\n",
       "   median_inc_fam_1  ave_inc_hh_1  median_inc_hh_1  \n",
       "0             58368     66324.981            59826  \n",
       "1             73148     82305.160            71968  \n",
       "2             33555     38629.904            30355  \n",
       "3             25489     33907.328            25093  \n",
       "4             30817     35687.455            24939  "
      ]
     },
     "execution_count": 34,
     "metadata": {},
     "output_type": "execute_result"
    }
   ],
   "source": [
    "# the sub-table of median/avlerage families/households income\n",
    "df_income = df_all.loc[:,df_all.columns[(df_all.columns == 'census_tract') |\\\n",
    "                                (df_all.columns == 'Borough')|\\\n",
    "                                (df_all.columns == 'PUMA')|\\\n",
    "                                (df_all.columns == 'PUMA_CommunityDistrict')|\\\n",
    "                              (df_all.columns.str.startswith('median_inc_')) |\\\n",
    "                              (df_all.columns.str.startswith('ave_inc_'))]]\n",
    "df_income.head()  "
   ]
  },
  {
   "cell_type": "code",
   "execution_count": 35,
   "metadata": {
    "collapsed": false
   },
   "outputs": [
    {
     "data": {
      "text/plain": [
       "(2089, 16)"
      ]
     },
     "execution_count": 35,
     "metadata": {},
     "output_type": "execute_result"
    }
   ],
   "source": [
    "df_income.shape"
   ]
  },
  {
   "cell_type": "code",
   "execution_count": 36,
   "metadata": {
    "collapsed": false
   },
   "outputs": [
    {
     "data": {
      "text/html": [
       "<div>\n",
       "<table border=\"1\" class=\"dataframe\">\n",
       "  <thead>\n",
       "    <tr style=\"text-align: right;\">\n",
       "      <th></th>\n",
       "      <th>census_tract</th>\n",
       "      <th>PUMA</th>\n",
       "      <th>ave_inc_fam_9</th>\n",
       "      <th>median_inc_fam_9</th>\n",
       "      <th>ave_inc_hh_9</th>\n",
       "      <th>median_inc_hh_9</th>\n",
       "      <th>ave_inc_fam_0</th>\n",
       "      <th>median_inc_fam_0</th>\n",
       "      <th>ave_inc_hh_0</th>\n",
       "      <th>median_inc_hh_0</th>\n",
       "      <th>ave_inc_fam_1</th>\n",
       "      <th>median_inc_fam_1</th>\n",
       "      <th>ave_inc_hh_1</th>\n",
       "      <th>median_inc_hh_1</th>\n",
       "    </tr>\n",
       "  </thead>\n",
       "  <tbody>\n",
       "    <tr>\n",
       "      <th>count</th>\n",
       "      <td>2.089000e+03</td>\n",
       "      <td>2089.000000</td>\n",
       "      <td>2089.000000</td>\n",
       "      <td>2089.000000</td>\n",
       "      <td>2089.000000</td>\n",
       "      <td>2089.000000</td>\n",
       "      <td>2089.000000</td>\n",
       "      <td>2089.000000</td>\n",
       "      <td>2089.000000</td>\n",
       "      <td>2089.000000</td>\n",
       "      <td>2089.00000</td>\n",
       "      <td>2089.000000</td>\n",
       "      <td>2089.000000</td>\n",
       "      <td>2089.000000</td>\n",
       "    </tr>\n",
       "    <tr>\n",
       "      <th>mean</th>\n",
       "      <td>3.605455e+10</td>\n",
       "      <td>3959.150311</td>\n",
       "      <td>46240.797301</td>\n",
       "      <td>37689.401628</td>\n",
       "      <td>39246.703235</td>\n",
       "      <td>31309.411202</td>\n",
       "      <td>63576.869583</td>\n",
       "      <td>48874.026807</td>\n",
       "      <td>54229.582025</td>\n",
       "      <td>40628.821446</td>\n",
       "      <td>85376.28443</td>\n",
       "      <td>66207.958353</td>\n",
       "      <td>72345.813173</td>\n",
       "      <td>54703.689325</td>\n",
       "    </tr>\n",
       "    <tr>\n",
       "      <th>std</th>\n",
       "      <td>2.594637e+07</td>\n",
       "      <td>144.957985</td>\n",
       "      <td>28606.446820</td>\n",
       "      <td>18760.425689</td>\n",
       "      <td>19565.189172</td>\n",
       "      <td>13562.873547</td>\n",
       "      <td>45058.370638</td>\n",
       "      <td>28645.098401</td>\n",
       "      <td>29038.210224</td>\n",
       "      <td>18527.299709</td>\n",
       "      <td>62564.07724</td>\n",
       "      <td>39910.826453</td>\n",
       "      <td>40603.704702</td>\n",
       "      <td>25923.948148</td>\n",
       "    </tr>\n",
       "    <tr>\n",
       "      <th>min</th>\n",
       "      <td>3.600500e+10</td>\n",
       "      <td>3701.000000</td>\n",
       "      <td>0.000000</td>\n",
       "      <td>86.000000</td>\n",
       "      <td>0.000000</td>\n",
       "      <td>5360.000000</td>\n",
       "      <td>16376.090910</td>\n",
       "      <td>7354.000000</td>\n",
       "      <td>12747.077320</td>\n",
       "      <td>7863.000000</td>\n",
       "      <td>0.00000</td>\n",
       "      <td>8542.000000</td>\n",
       "      <td>0.000000</td>\n",
       "      <td>8694.000000</td>\n",
       "    </tr>\n",
       "    <tr>\n",
       "      <th>25%</th>\n",
       "      <td>3.604702e+10</td>\n",
       "      <td>3808.000000</td>\n",
       "      <td>30501.042240</td>\n",
       "      <td>24924.000000</td>\n",
       "      <td>27864.930300</td>\n",
       "      <td>21862.000000</td>\n",
       "      <td>40513.116200</td>\n",
       "      <td>30724.000000</td>\n",
       "      <td>37683.585970</td>\n",
       "      <td>27976.000000</td>\n",
       "      <td>52010.32700</td>\n",
       "      <td>40022.000000</td>\n",
       "      <td>48876.596000</td>\n",
       "      <td>36299.000000</td>\n",
       "    </tr>\n",
       "    <tr>\n",
       "      <th>50%</th>\n",
       "      <td>3.604712e+10</td>\n",
       "      <td>4009.000000</td>\n",
       "      <td>41866.927540</td>\n",
       "      <td>36218.000000</td>\n",
       "      <td>36208.754250</td>\n",
       "      <td>30417.000000</td>\n",
       "      <td>53041.525420</td>\n",
       "      <td>42590.000000</td>\n",
       "      <td>48376.129030</td>\n",
       "      <td>37936.000000</td>\n",
       "      <td>70564.74300</td>\n",
       "      <td>56726.000000</td>\n",
       "      <td>64120.604000</td>\n",
       "      <td>51127.000000</td>\n",
       "    </tr>\n",
       "    <tr>\n",
       "      <th>75%</th>\n",
       "      <td>3.608103e+10</td>\n",
       "      <td>4103.000000</td>\n",
       "      <td>53084.721130</td>\n",
       "      <td>46843.000000</td>\n",
       "      <td>46187.374640</td>\n",
       "      <td>39697.000000</td>\n",
       "      <td>69321.465430</td>\n",
       "      <td>58977.000000</td>\n",
       "      <td>62046.691640</td>\n",
       "      <td>50806.000000</td>\n",
       "      <td>93098.66200</td>\n",
       "      <td>80125.000000</td>\n",
       "      <td>82035.096000</td>\n",
       "      <td>68026.000000</td>\n",
       "    </tr>\n",
       "    <tr>\n",
       "      <th>max</th>\n",
       "      <td>3.608503e+10</td>\n",
       "      <td>4114.000000</td>\n",
       "      <td>327320.474100</td>\n",
       "      <td>150001.000000</td>\n",
       "      <td>248923.005700</td>\n",
       "      <td>147567.000000</td>\n",
       "      <td>450967.828700</td>\n",
       "      <td>200001.000000</td>\n",
       "      <td>337238.297900</td>\n",
       "      <td>174119.000000</td>\n",
       "      <td>636204.42600</td>\n",
       "      <td>250001.000000</td>\n",
       "      <td>464390.618000</td>\n",
       "      <td>232768.000000</td>\n",
       "    </tr>\n",
       "  </tbody>\n",
       "</table>\n",
       "</div>"
      ],
      "text/plain": [
       "       census_tract         PUMA  ave_inc_fam_9  median_inc_fam_9  \\\n",
       "count  2.089000e+03  2089.000000    2089.000000       2089.000000   \n",
       "mean   3.605455e+10  3959.150311   46240.797301      37689.401628   \n",
       "std    2.594637e+07   144.957985   28606.446820      18760.425689   \n",
       "min    3.600500e+10  3701.000000       0.000000         86.000000   \n",
       "25%    3.604702e+10  3808.000000   30501.042240      24924.000000   \n",
       "50%    3.604712e+10  4009.000000   41866.927540      36218.000000   \n",
       "75%    3.608103e+10  4103.000000   53084.721130      46843.000000   \n",
       "max    3.608503e+10  4114.000000  327320.474100     150001.000000   \n",
       "\n",
       "        ave_inc_hh_9  median_inc_hh_9  ave_inc_fam_0  median_inc_fam_0  \\\n",
       "count    2089.000000      2089.000000    2089.000000       2089.000000   \n",
       "mean    39246.703235     31309.411202   63576.869583      48874.026807   \n",
       "std     19565.189172     13562.873547   45058.370638      28645.098401   \n",
       "min         0.000000      5360.000000   16376.090910       7354.000000   \n",
       "25%     27864.930300     21862.000000   40513.116200      30724.000000   \n",
       "50%     36208.754250     30417.000000   53041.525420      42590.000000   \n",
       "75%     46187.374640     39697.000000   69321.465430      58977.000000   \n",
       "max    248923.005700    147567.000000  450967.828700     200001.000000   \n",
       "\n",
       "        ave_inc_hh_0  median_inc_hh_0  ave_inc_fam_1  median_inc_fam_1  \\\n",
       "count    2089.000000      2089.000000     2089.00000       2089.000000   \n",
       "mean    54229.582025     40628.821446    85376.28443      66207.958353   \n",
       "std     29038.210224     18527.299709    62564.07724      39910.826453   \n",
       "min     12747.077320      7863.000000        0.00000       8542.000000   \n",
       "25%     37683.585970     27976.000000    52010.32700      40022.000000   \n",
       "50%     48376.129030     37936.000000    70564.74300      56726.000000   \n",
       "75%     62046.691640     50806.000000    93098.66200      80125.000000   \n",
       "max    337238.297900    174119.000000   636204.42600     250001.000000   \n",
       "\n",
       "        ave_inc_hh_1  median_inc_hh_1  \n",
       "count    2089.000000      2089.000000  \n",
       "mean    72345.813173     54703.689325  \n",
       "std     40603.704702     25923.948148  \n",
       "min         0.000000      8694.000000  \n",
       "25%     48876.596000     36299.000000  \n",
       "50%     64120.604000     51127.000000  \n",
       "75%     82035.096000     68026.000000  \n",
       "max    464390.618000    232768.000000  "
      ]
     },
     "execution_count": 36,
     "metadata": {},
     "output_type": "execute_result"
    }
   ],
   "source": [
    "df_income.describe()"
   ]
  },
  {
   "cell_type": "markdown",
   "metadata": {},
   "source": [
    "### Since there is no household income in 1990, we prefer to choose family income data as income data"
   ]
  },
  {
   "cell_type": "code",
   "execution_count": 37,
   "metadata": {
    "collapsed": false
   },
   "outputs": [
    {
     "data": {
      "text/html": [
       "<div>\n",
       "<table border=\"1\" class=\"dataframe\">\n",
       "  <thead>\n",
       "    <tr style=\"text-align: right;\">\n",
       "      <th></th>\n",
       "      <th>census_tract</th>\n",
       "      <th>Borough</th>\n",
       "      <th>PUMA</th>\n",
       "      <th>PUMA_CommunityDistrict</th>\n",
       "      <th>fam_inc_109</th>\n",
       "      <th>fam_inc_159</th>\n",
       "      <th>fam_inc_209</th>\n",
       "      <th>fam_inc_259</th>\n",
       "      <th>fam_inc_309</th>\n",
       "      <th>fam_inc_359</th>\n",
       "      <th>...</th>\n",
       "      <th>fam_inc_401</th>\n",
       "      <th>fam_inc_451</th>\n",
       "      <th>fam_inc_501</th>\n",
       "      <th>fam_inc_601</th>\n",
       "      <th>fam_inc_751</th>\n",
       "      <th>fam_inc_1001</th>\n",
       "      <th>fam_inc_1251</th>\n",
       "      <th>fam_inc_1501</th>\n",
       "      <th>fam_inc_2001</th>\n",
       "      <th>fam_inc_max_201</th>\n",
       "    </tr>\n",
       "  </thead>\n",
       "  <tbody>\n",
       "    <tr>\n",
       "      <th>0</th>\n",
       "      <td>36005000200</td>\n",
       "      <td>Bronx</td>\n",
       "      <td>3709</td>\n",
       "      <td>Bronx Community District 9</td>\n",
       "      <td>29</td>\n",
       "      <td>29</td>\n",
       "      <td>12</td>\n",
       "      <td>31</td>\n",
       "      <td>20</td>\n",
       "      <td>32</td>\n",
       "      <td>...</td>\n",
       "      <td>36</td>\n",
       "      <td>142</td>\n",
       "      <td>24</td>\n",
       "      <td>77</td>\n",
       "      <td>49</td>\n",
       "      <td>136</td>\n",
       "      <td>221</td>\n",
       "      <td>60</td>\n",
       "      <td>38</td>\n",
       "      <td>0</td>\n",
       "    </tr>\n",
       "    <tr>\n",
       "      <th>1</th>\n",
       "      <td>36005000400</td>\n",
       "      <td>Bronx</td>\n",
       "      <td>3709</td>\n",
       "      <td>Bronx Community District 9</td>\n",
       "      <td>19</td>\n",
       "      <td>17</td>\n",
       "      <td>11</td>\n",
       "      <td>34</td>\n",
       "      <td>1</td>\n",
       "      <td>50</td>\n",
       "      <td>...</td>\n",
       "      <td>41</td>\n",
       "      <td>60</td>\n",
       "      <td>53</td>\n",
       "      <td>174</td>\n",
       "      <td>79</td>\n",
       "      <td>206</td>\n",
       "      <td>79</td>\n",
       "      <td>145</td>\n",
       "      <td>116</td>\n",
       "      <td>46</td>\n",
       "    </tr>\n",
       "    <tr>\n",
       "      <th>2</th>\n",
       "      <td>36005001600</td>\n",
       "      <td>Bronx</td>\n",
       "      <td>3709</td>\n",
       "      <td>Bronx Community District 9</td>\n",
       "      <td>142</td>\n",
       "      <td>28</td>\n",
       "      <td>124</td>\n",
       "      <td>84</td>\n",
       "      <td>41</td>\n",
       "      <td>165</td>\n",
       "      <td>...</td>\n",
       "      <td>99</td>\n",
       "      <td>78</td>\n",
       "      <td>124</td>\n",
       "      <td>19</td>\n",
       "      <td>167</td>\n",
       "      <td>129</td>\n",
       "      <td>20</td>\n",
       "      <td>29</td>\n",
       "      <td>20</td>\n",
       "      <td>0</td>\n",
       "    </tr>\n",
       "    <tr>\n",
       "      <th>3</th>\n",
       "      <td>36005001900</td>\n",
       "      <td>Bronx</td>\n",
       "      <td>3710</td>\n",
       "      <td>Bronx Community Districts 1 &amp; 2</td>\n",
       "      <td>50</td>\n",
       "      <td>39</td>\n",
       "      <td>0</td>\n",
       "      <td>0</td>\n",
       "      <td>3</td>\n",
       "      <td>0</td>\n",
       "      <td>...</td>\n",
       "      <td>1</td>\n",
       "      <td>32</td>\n",
       "      <td>0</td>\n",
       "      <td>22</td>\n",
       "      <td>16</td>\n",
       "      <td>12</td>\n",
       "      <td>9</td>\n",
       "      <td>21</td>\n",
       "      <td>0</td>\n",
       "      <td>0</td>\n",
       "    </tr>\n",
       "    <tr>\n",
       "      <th>4</th>\n",
       "      <td>36005002000</td>\n",
       "      <td>Bronx</td>\n",
       "      <td>3709</td>\n",
       "      <td>Bronx Community District 9</td>\n",
       "      <td>284</td>\n",
       "      <td>201</td>\n",
       "      <td>107</td>\n",
       "      <td>60</td>\n",
       "      <td>74</td>\n",
       "      <td>131</td>\n",
       "      <td>...</td>\n",
       "      <td>124</td>\n",
       "      <td>62</td>\n",
       "      <td>138</td>\n",
       "      <td>119</td>\n",
       "      <td>63</td>\n",
       "      <td>103</td>\n",
       "      <td>161</td>\n",
       "      <td>0</td>\n",
       "      <td>45</td>\n",
       "      <td>12</td>\n",
       "    </tr>\n",
       "  </tbody>\n",
       "</table>\n",
       "<p>5 rows × 50 columns</p>\n",
       "</div>"
      ],
      "text/plain": [
       "   census_tract Borough  PUMA           PUMA_CommunityDistrict  fam_inc_109  \\\n",
       "0   36005000200   Bronx  3709       Bronx Community District 9           29   \n",
       "1   36005000400   Bronx  3709       Bronx Community District 9           19   \n",
       "2   36005001600   Bronx  3709       Bronx Community District 9          142   \n",
       "3   36005001900   Bronx  3710  Bronx Community Districts 1 & 2           50   \n",
       "4   36005002000   Bronx  3709       Bronx Community District 9          284   \n",
       "\n",
       "   fam_inc_159  fam_inc_209  fam_inc_259  fam_inc_309  fam_inc_359  \\\n",
       "0           29           12           31           20           32   \n",
       "1           17           11           34            1           50   \n",
       "2           28          124           84           41          165   \n",
       "3           39            0            0            3            0   \n",
       "4          201          107           60           74          131   \n",
       "\n",
       "        ...         fam_inc_401  fam_inc_451  fam_inc_501  fam_inc_601  \\\n",
       "0       ...                  36          142           24           77   \n",
       "1       ...                  41           60           53          174   \n",
       "2       ...                  99           78          124           19   \n",
       "3       ...                   1           32            0           22   \n",
       "4       ...                 124           62          138          119   \n",
       "\n",
       "   fam_inc_751  fam_inc_1001  fam_inc_1251  fam_inc_1501  fam_inc_2001  \\\n",
       "0           49           136           221            60            38   \n",
       "1           79           206            79           145           116   \n",
       "2          167           129            20            29            20   \n",
       "3           16            12             9            21             0   \n",
       "4           63           103           161             0            45   \n",
       "\n",
       "   fam_inc_max_201  \n",
       "0                0  \n",
       "1               46  \n",
       "2                0  \n",
       "3                0  \n",
       "4               12  \n",
       "\n",
       "[5 rows x 50 columns]"
      ]
     },
     "execution_count": 37,
     "metadata": {},
     "output_type": "execute_result"
    }
   ],
   "source": [
    "df_family_income = df_all.loc[:,df_all.columns[(df_all.columns == 'census_tract') | \\\n",
    "                                (df_all.columns == 'Borough')|\\\n",
    "                                (df_all.columns == 'PUMA')|\\\n",
    "                                (df_all.columns == 'PUMA_CommunityDistrict')|\\\n",
    "                                       df_all.columns.str.startswith('fam_inc_')]]\n",
    "df_family_income.head()"
   ]
  },
  {
   "cell_type": "code",
   "execution_count": 38,
   "metadata": {
    "collapsed": false
   },
   "outputs": [
    {
     "data": {
      "text/plain": [
       "((2089, 18), (2089, 20), (2089, 20))"
      ]
     },
     "execution_count": 38,
     "metadata": {},
     "output_type": "execute_result"
    }
   ],
   "source": [
    "# the tables of different groups of families income level\n",
    "df_family_income_1990 = df_family_income.loc[:,\n",
    "                        df_family_income.columns[(df_family_income.columns == 'census_tract') |\\\n",
    "                                (df_family_income.columns == 'Borough')|\\\n",
    "                                (df_family_income.columns == 'PUMA')|\\\n",
    "                                (df_family_income.columns == 'PUMA_CommunityDistrict')|\\\n",
    "                                                    df_family_income.columns.str.endswith('9')]]\n",
    "\n",
    "df_family_income_2000 = df_family_income.loc[:,\n",
    "                        df_family_income.columns[(df_family_income.columns == 'census_tract') |\\\n",
    "                                (df_family_income.columns == 'Borough')|\\\n",
    "                                (df_family_income.columns == 'PUMA')|\\\n",
    "                                (df_family_income.columns == 'PUMA_CommunityDistrict')|\\\n",
    "                                                    df_family_income.columns.str.endswith('0')]]\n",
    "\n",
    "df_family_income_2010 = df_family_income.loc[:,\n",
    "                        df_family_income.columns[(df_family_income.columns == 'census_tract') |\\\n",
    "                                (df_family_income.columns == 'Borough')|\\\n",
    "                                (df_family_income.columns == 'PUMA')|\\\n",
    "                                (df_family_income.columns == 'PUMA_CommunityDistrict')|\\\n",
    "                                                    df_family_income.columns.str.endswith('1')]]\n",
    "\n",
    " \n",
    "df_family_income_1990.shape, df_family_income_2000.shape, df_family_income_2010.shape"
   ]
  },
  {
   "cell_type": "code",
   "execution_count": 39,
   "metadata": {
    "collapsed": false
   },
   "outputs": [
    {
     "data": {
      "text/html": [
       "<div>\n",
       "<table border=\"1\" class=\"dataframe\">\n",
       "  <thead>\n",
       "    <tr style=\"text-align: right;\">\n",
       "      <th></th>\n",
       "      <th>census_tract</th>\n",
       "      <th>Borough</th>\n",
       "      <th>PUMA</th>\n",
       "      <th>PUMA_CommunityDistrict</th>\n",
       "      <th>fam_inc_109</th>\n",
       "      <th>fam_inc_159</th>\n",
       "      <th>fam_inc_209</th>\n",
       "      <th>fam_inc_259</th>\n",
       "      <th>fam_inc_309</th>\n",
       "      <th>fam_inc_359</th>\n",
       "      <th>fam_inc_409</th>\n",
       "      <th>fam_inc_499</th>\n",
       "      <th>fam_inc_609</th>\n",
       "      <th>fam_inc_759</th>\n",
       "      <th>fam_inc_1009</th>\n",
       "      <th>fam_inc_1259</th>\n",
       "      <th>fam_inc_1509</th>\n",
       "      <th>fam_inc_max_9</th>\n",
       "    </tr>\n",
       "  </thead>\n",
       "  <tbody>\n",
       "    <tr>\n",
       "      <th>0</th>\n",
       "      <td>36005000200</td>\n",
       "      <td>Bronx</td>\n",
       "      <td>3709</td>\n",
       "      <td>Bronx Community District 9</td>\n",
       "      <td>29</td>\n",
       "      <td>29</td>\n",
       "      <td>12</td>\n",
       "      <td>31</td>\n",
       "      <td>20</td>\n",
       "      <td>32</td>\n",
       "      <td>31</td>\n",
       "      <td>84</td>\n",
       "      <td>75</td>\n",
       "      <td>59</td>\n",
       "      <td>68</td>\n",
       "      <td>35</td>\n",
       "      <td>18</td>\n",
       "      <td>2</td>\n",
       "    </tr>\n",
       "    <tr>\n",
       "      <th>1</th>\n",
       "      <td>36005000400</td>\n",
       "      <td>Bronx</td>\n",
       "      <td>3709</td>\n",
       "      <td>Bronx Community District 9</td>\n",
       "      <td>19</td>\n",
       "      <td>17</td>\n",
       "      <td>11</td>\n",
       "      <td>34</td>\n",
       "      <td>1</td>\n",
       "      <td>50</td>\n",
       "      <td>50</td>\n",
       "      <td>89</td>\n",
       "      <td>71</td>\n",
       "      <td>58</td>\n",
       "      <td>62</td>\n",
       "      <td>28</td>\n",
       "      <td>1</td>\n",
       "      <td>1</td>\n",
       "    </tr>\n",
       "    <tr>\n",
       "      <th>2</th>\n",
       "      <td>36005001600</td>\n",
       "      <td>Bronx</td>\n",
       "      <td>3709</td>\n",
       "      <td>Bronx Community District 9</td>\n",
       "      <td>142</td>\n",
       "      <td>28</td>\n",
       "      <td>124</td>\n",
       "      <td>84</td>\n",
       "      <td>41</td>\n",
       "      <td>165</td>\n",
       "      <td>39</td>\n",
       "      <td>161</td>\n",
       "      <td>69</td>\n",
       "      <td>70</td>\n",
       "      <td>45</td>\n",
       "      <td>11</td>\n",
       "      <td>0</td>\n",
       "      <td>0</td>\n",
       "    </tr>\n",
       "    <tr>\n",
       "      <th>3</th>\n",
       "      <td>36005001900</td>\n",
       "      <td>Bronx</td>\n",
       "      <td>3710</td>\n",
       "      <td>Bronx Community Districts 1 &amp; 2</td>\n",
       "      <td>50</td>\n",
       "      <td>39</td>\n",
       "      <td>0</td>\n",
       "      <td>0</td>\n",
       "      <td>3</td>\n",
       "      <td>0</td>\n",
       "      <td>0</td>\n",
       "      <td>67</td>\n",
       "      <td>26</td>\n",
       "      <td>10</td>\n",
       "      <td>0</td>\n",
       "      <td>0</td>\n",
       "      <td>0</td>\n",
       "      <td>0</td>\n",
       "    </tr>\n",
       "    <tr>\n",
       "      <th>4</th>\n",
       "      <td>36005002000</td>\n",
       "      <td>Bronx</td>\n",
       "      <td>3709</td>\n",
       "      <td>Bronx Community District 9</td>\n",
       "      <td>284</td>\n",
       "      <td>201</td>\n",
       "      <td>107</td>\n",
       "      <td>60</td>\n",
       "      <td>74</td>\n",
       "      <td>131</td>\n",
       "      <td>95</td>\n",
       "      <td>203</td>\n",
       "      <td>158</td>\n",
       "      <td>40</td>\n",
       "      <td>84</td>\n",
       "      <td>8</td>\n",
       "      <td>0</td>\n",
       "      <td>13</td>\n",
       "    </tr>\n",
       "  </tbody>\n",
       "</table>\n",
       "</div>"
      ],
      "text/plain": [
       "   census_tract Borough  PUMA           PUMA_CommunityDistrict  fam_inc_109  \\\n",
       "0   36005000200   Bronx  3709       Bronx Community District 9           29   \n",
       "1   36005000400   Bronx  3709       Bronx Community District 9           19   \n",
       "2   36005001600   Bronx  3709       Bronx Community District 9          142   \n",
       "3   36005001900   Bronx  3710  Bronx Community Districts 1 & 2           50   \n",
       "4   36005002000   Bronx  3709       Bronx Community District 9          284   \n",
       "\n",
       "   fam_inc_159  fam_inc_209  fam_inc_259  fam_inc_309  fam_inc_359  \\\n",
       "0           29           12           31           20           32   \n",
       "1           17           11           34            1           50   \n",
       "2           28          124           84           41          165   \n",
       "3           39            0            0            3            0   \n",
       "4          201          107           60           74          131   \n",
       "\n",
       "   fam_inc_409  fam_inc_499  fam_inc_609  fam_inc_759  fam_inc_1009  \\\n",
       "0           31           84           75           59            68   \n",
       "1           50           89           71           58            62   \n",
       "2           39          161           69           70            45   \n",
       "3            0           67           26           10             0   \n",
       "4           95          203          158           40            84   \n",
       "\n",
       "   fam_inc_1259  fam_inc_1509  fam_inc_max_9  \n",
       "0            35            18              2  \n",
       "1            28             1              1  \n",
       "2            11             0              0  \n",
       "3             0             0              0  \n",
       "4             8             0             13  "
      ]
     },
     "execution_count": 39,
     "metadata": {},
     "output_type": "execute_result"
    }
   ],
   "source": [
    "df_family_income_1990.head()"
   ]
  },
  {
   "cell_type": "markdown",
   "metadata": {},
   "source": [
    "## 2.4 Housing tables, including data of house value and rent"
   ]
  },
  {
   "cell_type": "code",
   "execution_count": 40,
   "metadata": {
    "collapsed": false
   },
   "outputs": [
    {
     "data": {
      "text/html": [
       "<div>\n",
       "<table border=\"1\" class=\"dataframe\">\n",
       "  <thead>\n",
       "    <tr style=\"text-align: right;\">\n",
       "      <th></th>\n",
       "      <th>census_tract</th>\n",
       "      <th>Borough</th>\n",
       "      <th>PUMA</th>\n",
       "      <th>PUMA_CommunityDistrict</th>\n",
       "      <th>median_house_value_9</th>\n",
       "      <th>median_rent_9</th>\n",
       "      <th>median_house_value_0</th>\n",
       "      <th>median_rent_0</th>\n",
       "      <th>median_house_value_1</th>\n",
       "      <th>median_rent_1</th>\n",
       "    </tr>\n",
       "  </thead>\n",
       "  <tbody>\n",
       "    <tr>\n",
       "      <th>0</th>\n",
       "      <td>36005000200</td>\n",
       "      <td>Bronx</td>\n",
       "      <td>3709</td>\n",
       "      <td>Bronx Community District 9</td>\n",
       "      <td>136500</td>\n",
       "      <td>742</td>\n",
       "      <td>147500</td>\n",
       "      <td>730</td>\n",
       "      <td>392500</td>\n",
       "      <td>1273</td>\n",
       "    </tr>\n",
       "    <tr>\n",
       "      <th>1</th>\n",
       "      <td>36005000400</td>\n",
       "      <td>Bronx</td>\n",
       "      <td>3709</td>\n",
       "      <td>Bronx Community District 9</td>\n",
       "      <td>163234</td>\n",
       "      <td>535</td>\n",
       "      <td>157610</td>\n",
       "      <td>643</td>\n",
       "      <td>393700</td>\n",
       "      <td>1330</td>\n",
       "    </tr>\n",
       "    <tr>\n",
       "      <th>2</th>\n",
       "      <td>36005001600</td>\n",
       "      <td>Bronx</td>\n",
       "      <td>3709</td>\n",
       "      <td>Bronx Community District 9</td>\n",
       "      <td>156800</td>\n",
       "      <td>466</td>\n",
       "      <td>177000</td>\n",
       "      <td>558</td>\n",
       "      <td>378100</td>\n",
       "      <td>823</td>\n",
       "    </tr>\n",
       "    <tr>\n",
       "      <th>3</th>\n",
       "      <td>36005001900</td>\n",
       "      <td>Bronx</td>\n",
       "      <td>3710</td>\n",
       "      <td>Bronx Community Districts 1 &amp; 2</td>\n",
       "      <td>48868</td>\n",
       "      <td>422</td>\n",
       "      <td>145960</td>\n",
       "      <td>461</td>\n",
       "      <td>0</td>\n",
       "      <td>870</td>\n",
       "    </tr>\n",
       "    <tr>\n",
       "      <th>4</th>\n",
       "      <td>36005002000</td>\n",
       "      <td>Bronx</td>\n",
       "      <td>3709</td>\n",
       "      <td>Bronx Community District 9</td>\n",
       "      <td>185400</td>\n",
       "      <td>298</td>\n",
       "      <td>177600</td>\n",
       "      <td>266</td>\n",
       "      <td>398100</td>\n",
       "      <td>455</td>\n",
       "    </tr>\n",
       "  </tbody>\n",
       "</table>\n",
       "</div>"
      ],
      "text/plain": [
       "   census_tract Borough  PUMA           PUMA_CommunityDistrict  \\\n",
       "0   36005000200   Bronx  3709       Bronx Community District 9   \n",
       "1   36005000400   Bronx  3709       Bronx Community District 9   \n",
       "2   36005001600   Bronx  3709       Bronx Community District 9   \n",
       "3   36005001900   Bronx  3710  Bronx Community Districts 1 & 2   \n",
       "4   36005002000   Bronx  3709       Bronx Community District 9   \n",
       "\n",
       "   median_house_value_9  median_rent_9  median_house_value_0  median_rent_0  \\\n",
       "0                136500            742                147500            730   \n",
       "1                163234            535                157610            643   \n",
       "2                156800            466                177000            558   \n",
       "3                 48868            422                145960            461   \n",
       "4                185400            298                177600            266   \n",
       "\n",
       "   median_house_value_1  median_rent_1  \n",
       "0                392500           1273  \n",
       "1                393700           1330  \n",
       "2                378100            823  \n",
       "3                     0            870  \n",
       "4                398100            455  "
      ]
     },
     "execution_count": 40,
     "metadata": {},
     "output_type": "execute_result"
    }
   ],
   "source": [
    "# the sub-table of housing price and rent\n",
    "df_house = df_all.loc[:,df_all.columns[(df_all.columns == 'census_tract') |\\\n",
    "                                (df_all.columns == 'Borough')|\\\n",
    "                                (df_all.columns == 'PUMA')|\\\n",
    "                                (df_all.columns == 'PUMA_CommunityDistrict')|\\\n",
    "                              (df_all.columns.str.startswith('median_rent_')) |\\\n",
    "                              (df_all.columns.str.startswith('median_house_'))]]\n",
    "df_house.head()"
   ]
  },
  {
   "cell_type": "code",
   "execution_count": 41,
   "metadata": {
    "collapsed": false
   },
   "outputs": [
    {
     "data": {
      "text/plain": [
       "(2089, 10)"
      ]
     },
     "execution_count": 41,
     "metadata": {},
     "output_type": "execute_result"
    }
   ],
   "source": [
    "df_house.shape"
   ]
  },
  {
   "cell_type": "code",
   "execution_count": 42,
   "metadata": {
    "collapsed": false,
    "scrolled": true
   },
   "outputs": [
    {
     "data": {
      "text/html": [
       "<div>\n",
       "<table border=\"1\" class=\"dataframe\">\n",
       "  <thead>\n",
       "    <tr style=\"text-align: right;\">\n",
       "      <th></th>\n",
       "      <th>census_tract</th>\n",
       "      <th>PUMA</th>\n",
       "      <th>median_house_value_9</th>\n",
       "      <th>median_rent_9</th>\n",
       "      <th>median_house_value_0</th>\n",
       "      <th>median_rent_0</th>\n",
       "      <th>median_house_value_1</th>\n",
       "      <th>median_rent_1</th>\n",
       "    </tr>\n",
       "  </thead>\n",
       "  <tbody>\n",
       "    <tr>\n",
       "      <th>count</th>\n",
       "      <td>2.089000e+03</td>\n",
       "      <td>2089.000000</td>\n",
       "      <td>2089.000000</td>\n",
       "      <td>2089.000000</td>\n",
       "      <td>2.089000e+03</td>\n",
       "      <td>2089.000000</td>\n",
       "      <td>2.089000e+03</td>\n",
       "      <td>2089.000000</td>\n",
       "    </tr>\n",
       "    <tr>\n",
       "      <th>mean</th>\n",
       "      <td>3.605455e+10</td>\n",
       "      <td>3959.150311</td>\n",
       "      <td>170909.090953</td>\n",
       "      <td>544.198181</td>\n",
       "      <td>2.233565e+05</td>\n",
       "      <td>753.071326</td>\n",
       "      <td>5.070657e+05</td>\n",
       "      <td>1151.020105</td>\n",
       "    </tr>\n",
       "    <tr>\n",
       "      <th>std</th>\n",
       "      <td>2.594637e+07</td>\n",
       "      <td>144.957985</td>\n",
       "      <td>110359.984751</td>\n",
       "      <td>150.069074</td>\n",
       "      <td>1.826276e+05</td>\n",
       "      <td>231.835763</td>\n",
       "      <td>2.214706e+05</td>\n",
       "      <td>331.293631</td>\n",
       "    </tr>\n",
       "    <tr>\n",
       "      <th>min</th>\n",
       "      <td>3.600500e+10</td>\n",
       "      <td>3701.000000</td>\n",
       "      <td>0.000000</td>\n",
       "      <td>140.000000</td>\n",
       "      <td>0.000000e+00</td>\n",
       "      <td>175.000000</td>\n",
       "      <td>0.000000e+00</td>\n",
       "      <td>231.000000</td>\n",
       "    </tr>\n",
       "    <tr>\n",
       "      <th>25%</th>\n",
       "      <td>3.604702e+10</td>\n",
       "      <td>3808.000000</td>\n",
       "      <td>118204.000000</td>\n",
       "      <td>453.000000</td>\n",
       "      <td>1.604000e+05</td>\n",
       "      <td>644.000000</td>\n",
       "      <td>3.981000e+05</td>\n",
       "      <td>964.000000</td>\n",
       "    </tr>\n",
       "    <tr>\n",
       "      <th>50%</th>\n",
       "      <td>3.604712e+10</td>\n",
       "      <td>4009.000000</td>\n",
       "      <td>171500.000000</td>\n",
       "      <td>531.000000</td>\n",
       "      <td>1.964000e+05</td>\n",
       "      <td>740.000000</td>\n",
       "      <td>4.941000e+05</td>\n",
       "      <td>1120.000000</td>\n",
       "    </tr>\n",
       "    <tr>\n",
       "      <th>75%</th>\n",
       "      <td>3.608103e+10</td>\n",
       "      <td>4103.000000</td>\n",
       "      <td>218689.000000</td>\n",
       "      <td>629.000000</td>\n",
       "      <td>2.508000e+05</td>\n",
       "      <td>834.000000</td>\n",
       "      <td>6.275000e+05</td>\n",
       "      <td>1308.000000</td>\n",
       "    </tr>\n",
       "    <tr>\n",
       "      <th>max</th>\n",
       "      <td>3.608503e+10</td>\n",
       "      <td>4114.000000</td>\n",
       "      <td>500001.000000</td>\n",
       "      <td>1001.000000</td>\n",
       "      <td>1.000001e+06</td>\n",
       "      <td>2001.000000</td>\n",
       "      <td>1.000001e+06</td>\n",
       "      <td>2001.000000</td>\n",
       "    </tr>\n",
       "  </tbody>\n",
       "</table>\n",
       "</div>"
      ],
      "text/plain": [
       "       census_tract         PUMA  median_house_value_9  median_rent_9  \\\n",
       "count  2.089000e+03  2089.000000           2089.000000    2089.000000   \n",
       "mean   3.605455e+10  3959.150311         170909.090953     544.198181   \n",
       "std    2.594637e+07   144.957985         110359.984751     150.069074   \n",
       "min    3.600500e+10  3701.000000              0.000000     140.000000   \n",
       "25%    3.604702e+10  3808.000000         118204.000000     453.000000   \n",
       "50%    3.604712e+10  4009.000000         171500.000000     531.000000   \n",
       "75%    3.608103e+10  4103.000000         218689.000000     629.000000   \n",
       "max    3.608503e+10  4114.000000         500001.000000    1001.000000   \n",
       "\n",
       "       median_house_value_0  median_rent_0  median_house_value_1  \\\n",
       "count          2.089000e+03    2089.000000          2.089000e+03   \n",
       "mean           2.233565e+05     753.071326          5.070657e+05   \n",
       "std            1.826276e+05     231.835763          2.214706e+05   \n",
       "min            0.000000e+00     175.000000          0.000000e+00   \n",
       "25%            1.604000e+05     644.000000          3.981000e+05   \n",
       "50%            1.964000e+05     740.000000          4.941000e+05   \n",
       "75%            2.508000e+05     834.000000          6.275000e+05   \n",
       "max            1.000001e+06    2001.000000          1.000001e+06   \n",
       "\n",
       "       median_rent_1  \n",
       "count    2089.000000  \n",
       "mean     1151.020105  \n",
       "std       331.293631  \n",
       "min       231.000000  \n",
       "25%       964.000000  \n",
       "50%      1120.000000  \n",
       "75%      1308.000000  \n",
       "max      2001.000000  "
      ]
     },
     "execution_count": 42,
     "metadata": {},
     "output_type": "execute_result"
    }
   ],
   "source": [
    "df_house.describe()"
   ]
  },
  {
   "cell_type": "code",
   "execution_count": null,
   "metadata": {
    "collapsed": true
   },
   "outputs": [],
   "source": []
  },
  {
   "cell_type": "markdown",
   "metadata": {},
   "source": [
    "# 3. Analysis based on census tract"
   ]
  },
  {
   "cell_type": "markdown",
   "metadata": {},
   "source": [
    "## 1）create the table for relationship analysis\n",
    "\n",
    "The variables we need are median family income, median rent, families with different income level"
   ]
  },
  {
   "cell_type": "markdown",
   "metadata": {},
   "source": [
    "## Look at a whole view of income and rent\n",
    "To compare the 1990 data, we choose the family income, not household income."
   ]
  },
  {
   "cell_type": "code",
   "execution_count": 43,
   "metadata": {
    "collapsed": true
   },
   "outputs": [],
   "source": [
    "df2 = df_all.loc[:,df_all.columns[(df_all.columns == 'census_tract') |\\\n",
    "                                (df_all.columns == 'Borough')|\\\n",
    "                                (df_all.columns == 'PUMA')|\\\n",
    "                                (df_all.columns == 'PUMA_CommunityDistrict')|\\\n",
    "                          (df_all.columns.str.startswith('median_inc_fam'))|\\\n",
    "                          (df_all.columns.str.startswith('median_rent')) ]]"
   ]
  },
  {
   "cell_type": "code",
   "execution_count": null,
   "metadata": {
    "collapsed": true
   },
   "outputs": [],
   "source": []
  },
  {
   "cell_type": "code",
   "execution_count": 44,
   "metadata": {
    "collapsed": false
   },
   "outputs": [
    {
     "data": {
      "text/html": [
       "<div>\n",
       "<table border=\"1\" class=\"dataframe\">\n",
       "  <thead>\n",
       "    <tr style=\"text-align: right;\">\n",
       "      <th></th>\n",
       "      <th>census_tract</th>\n",
       "      <th>Borough</th>\n",
       "      <th>PUMA</th>\n",
       "      <th>PUMA_CommunityDistrict</th>\n",
       "      <th>median_inc_fam_9</th>\n",
       "      <th>median_rent_9</th>\n",
       "      <th>median_inc_fam_0</th>\n",
       "      <th>median_rent_0</th>\n",
       "      <th>median_inc_fam_1</th>\n",
       "      <th>median_rent_1</th>\n",
       "    </tr>\n",
       "  </thead>\n",
       "  <tbody>\n",
       "    <tr>\n",
       "      <th>0</th>\n",
       "      <td>36005000200</td>\n",
       "      <td>Bronx</td>\n",
       "      <td>3709</td>\n",
       "      <td>Bronx Community District 9</td>\n",
       "      <td>38711</td>\n",
       "      <td>742</td>\n",
       "      <td>50817</td>\n",
       "      <td>730</td>\n",
       "      <td>58368</td>\n",
       "      <td>1273</td>\n",
       "    </tr>\n",
       "    <tr>\n",
       "      <th>1</th>\n",
       "      <td>36005000400</td>\n",
       "      <td>Bronx</td>\n",
       "      <td>3709</td>\n",
       "      <td>Bronx Community District 9</td>\n",
       "      <td>40484</td>\n",
       "      <td>535</td>\n",
       "      <td>41019</td>\n",
       "      <td>643</td>\n",
       "      <td>73148</td>\n",
       "      <td>1330</td>\n",
       "    </tr>\n",
       "    <tr>\n",
       "      <th>2</th>\n",
       "      <td>36005001600</td>\n",
       "      <td>Bronx</td>\n",
       "      <td>3709</td>\n",
       "      <td>Bronx Community District 9</td>\n",
       "      <td>24732</td>\n",
       "      <td>466</td>\n",
       "      <td>30104</td>\n",
       "      <td>558</td>\n",
       "      <td>33555</td>\n",
       "      <td>823</td>\n",
       "    </tr>\n",
       "    <tr>\n",
       "      <th>3</th>\n",
       "      <td>36005001900</td>\n",
       "      <td>Bronx</td>\n",
       "      <td>3710</td>\n",
       "      <td>Bronx Community Districts 1 &amp; 2</td>\n",
       "      <td>24823</td>\n",
       "      <td>422</td>\n",
       "      <td>23671</td>\n",
       "      <td>461</td>\n",
       "      <td>25489</td>\n",
       "      <td>870</td>\n",
       "    </tr>\n",
       "    <tr>\n",
       "      <th>4</th>\n",
       "      <td>36005002000</td>\n",
       "      <td>Bronx</td>\n",
       "      <td>3709</td>\n",
       "      <td>Bronx Community District 9</td>\n",
       "      <td>18762</td>\n",
       "      <td>298</td>\n",
       "      <td>19694</td>\n",
       "      <td>266</td>\n",
       "      <td>30817</td>\n",
       "      <td>455</td>\n",
       "    </tr>\n",
       "  </tbody>\n",
       "</table>\n",
       "</div>"
      ],
      "text/plain": [
       "   census_tract Borough  PUMA           PUMA_CommunityDistrict  \\\n",
       "0   36005000200   Bronx  3709       Bronx Community District 9   \n",
       "1   36005000400   Bronx  3709       Bronx Community District 9   \n",
       "2   36005001600   Bronx  3709       Bronx Community District 9   \n",
       "3   36005001900   Bronx  3710  Bronx Community Districts 1 & 2   \n",
       "4   36005002000   Bronx  3709       Bronx Community District 9   \n",
       "\n",
       "   median_inc_fam_9  median_rent_9  median_inc_fam_0  median_rent_0  \\\n",
       "0             38711            742             50817            730   \n",
       "1             40484            535             41019            643   \n",
       "2             24732            466             30104            558   \n",
       "3             24823            422             23671            461   \n",
       "4             18762            298             19694            266   \n",
       "\n",
       "   median_inc_fam_1  median_rent_1  \n",
       "0             58368           1273  \n",
       "1             73148           1330  \n",
       "2             33555            823  \n",
       "3             25489            870  \n",
       "4             30817            455  "
      ]
     },
     "execution_count": 44,
     "metadata": {},
     "output_type": "execute_result"
    }
   ],
   "source": [
    "df2.head()"
   ]
  },
  {
   "cell_type": "code",
   "execution_count": 45,
   "metadata": {
    "collapsed": false
   },
   "outputs": [
    {
     "data": {
      "text/plain": [
       "(2089, 13)"
      ]
     },
     "execution_count": 45,
     "metadata": {},
     "output_type": "execute_result"
    }
   ],
   "source": [
    "df2['rent_income_ratio_9'] = df2['median_rent_9'] * 12/df2['median_inc_fam_9']\n",
    "df2['rent_income_ratio_0'] = df2['median_rent_0'] * 12/df2['median_inc_fam_0']\n",
    "df2['rent_income_ratio_1'] = df2['median_rent_1'] * 12/df2['median_inc_fam_1']\n",
    "df2.shape"
   ]
  },
  {
   "cell_type": "code",
   "execution_count": 46,
   "metadata": {
    "collapsed": false
   },
   "outputs": [
    {
     "data": {
      "text/html": [
       "<div>\n",
       "<table border=\"1\" class=\"dataframe\">\n",
       "  <thead>\n",
       "    <tr style=\"text-align: right;\">\n",
       "      <th></th>\n",
       "      <th>census_tract</th>\n",
       "      <th>PUMA</th>\n",
       "      <th>median_inc_fam_9</th>\n",
       "      <th>median_rent_9</th>\n",
       "      <th>median_inc_fam_0</th>\n",
       "      <th>median_rent_0</th>\n",
       "      <th>median_inc_fam_1</th>\n",
       "      <th>median_rent_1</th>\n",
       "      <th>rent_income_ratio_9</th>\n",
       "      <th>rent_income_ratio_0</th>\n",
       "      <th>rent_income_ratio_1</th>\n",
       "    </tr>\n",
       "  </thead>\n",
       "  <tbody>\n",
       "    <tr>\n",
       "      <th>count</th>\n",
       "      <td>2.089000e+03</td>\n",
       "      <td>2089.000000</td>\n",
       "      <td>2089.000000</td>\n",
       "      <td>2089.000000</td>\n",
       "      <td>2089.000000</td>\n",
       "      <td>2089.000000</td>\n",
       "      <td>2089.000000</td>\n",
       "      <td>2089.000000</td>\n",
       "      <td>2089.000000</td>\n",
       "      <td>2089.000000</td>\n",
       "      <td>2089.000000</td>\n",
       "    </tr>\n",
       "    <tr>\n",
       "      <th>mean</th>\n",
       "      <td>3.605455e+10</td>\n",
       "      <td>3959.150311</td>\n",
       "      <td>37689.401628</td>\n",
       "      <td>544.198181</td>\n",
       "      <td>48874.026807</td>\n",
       "      <td>753.071326</td>\n",
       "      <td>66207.958353</td>\n",
       "      <td>1151.020105</td>\n",
       "      <td>0.259635</td>\n",
       "      <td>0.214373</td>\n",
       "      <td>0.248931</td>\n",
       "    </tr>\n",
       "    <tr>\n",
       "      <th>std</th>\n",
       "      <td>2.594637e+07</td>\n",
       "      <td>144.957985</td>\n",
       "      <td>18760.425689</td>\n",
       "      <td>150.069074</td>\n",
       "      <td>28645.098401</td>\n",
       "      <td>231.835763</td>\n",
       "      <td>39910.826453</td>\n",
       "      <td>331.293631</td>\n",
       "      <td>2.738330</td>\n",
       "      <td>0.074864</td>\n",
       "      <td>0.100567</td>\n",
       "    </tr>\n",
       "    <tr>\n",
       "      <th>min</th>\n",
       "      <td>3.600500e+10</td>\n",
       "      <td>3701.000000</td>\n",
       "      <td>86.000000</td>\n",
       "      <td>140.000000</td>\n",
       "      <td>7354.000000</td>\n",
       "      <td>175.000000</td>\n",
       "      <td>8542.000000</td>\n",
       "      <td>231.000000</td>\n",
       "      <td>0.067760</td>\n",
       "      <td>0.010500</td>\n",
       "      <td>0.042308</td>\n",
       "    </tr>\n",
       "    <tr>\n",
       "      <th>25%</th>\n",
       "      <td>3.604702e+10</td>\n",
       "      <td>3808.000000</td>\n",
       "      <td>24924.000000</td>\n",
       "      <td>453.000000</td>\n",
       "      <td>30724.000000</td>\n",
       "      <td>644.000000</td>\n",
       "      <td>40022.000000</td>\n",
       "      <td>964.000000</td>\n",
       "      <td>0.151078</td>\n",
       "      <td>0.164954</td>\n",
       "      <td>0.181756</td>\n",
       "    </tr>\n",
       "    <tr>\n",
       "      <th>50%</th>\n",
       "      <td>3.604712e+10</td>\n",
       "      <td>4009.000000</td>\n",
       "      <td>36218.000000</td>\n",
       "      <td>531.000000</td>\n",
       "      <td>42590.000000</td>\n",
       "      <td>740.000000</td>\n",
       "      <td>56726.000000</td>\n",
       "      <td>1120.000000</td>\n",
       "      <td>0.183705</td>\n",
       "      <td>0.204193</td>\n",
       "      <td>0.235058</td>\n",
       "    </tr>\n",
       "    <tr>\n",
       "      <th>75%</th>\n",
       "      <td>3.608103e+10</td>\n",
       "      <td>4103.000000</td>\n",
       "      <td>46843.000000</td>\n",
       "      <td>629.000000</td>\n",
       "      <td>58977.000000</td>\n",
       "      <td>834.000000</td>\n",
       "      <td>80125.000000</td>\n",
       "      <td>1308.000000</td>\n",
       "      <td>0.227210</td>\n",
       "      <td>0.253730</td>\n",
       "      <td>0.300615</td>\n",
       "    </tr>\n",
       "    <tr>\n",
       "      <th>max</th>\n",
       "      <td>3.608503e+10</td>\n",
       "      <td>4114.000000</td>\n",
       "      <td>150001.000000</td>\n",
       "      <td>1001.000000</td>\n",
       "      <td>200001.000000</td>\n",
       "      <td>2001.000000</td>\n",
       "      <td>250001.000000</td>\n",
       "      <td>2001.000000</td>\n",
       "      <td>125.302326</td>\n",
       "      <td>1.194452</td>\n",
       "      <td>1.298057</td>\n",
       "    </tr>\n",
       "  </tbody>\n",
       "</table>\n",
       "</div>"
      ],
      "text/plain": [
       "       census_tract         PUMA  median_inc_fam_9  median_rent_9  \\\n",
       "count  2.089000e+03  2089.000000       2089.000000    2089.000000   \n",
       "mean   3.605455e+10  3959.150311      37689.401628     544.198181   \n",
       "std    2.594637e+07   144.957985      18760.425689     150.069074   \n",
       "min    3.600500e+10  3701.000000         86.000000     140.000000   \n",
       "25%    3.604702e+10  3808.000000      24924.000000     453.000000   \n",
       "50%    3.604712e+10  4009.000000      36218.000000     531.000000   \n",
       "75%    3.608103e+10  4103.000000      46843.000000     629.000000   \n",
       "max    3.608503e+10  4114.000000     150001.000000    1001.000000   \n",
       "\n",
       "       median_inc_fam_0  median_rent_0  median_inc_fam_1  median_rent_1  \\\n",
       "count       2089.000000    2089.000000       2089.000000    2089.000000   \n",
       "mean       48874.026807     753.071326      66207.958353    1151.020105   \n",
       "std        28645.098401     231.835763      39910.826453     331.293631   \n",
       "min         7354.000000     175.000000       8542.000000     231.000000   \n",
       "25%        30724.000000     644.000000      40022.000000     964.000000   \n",
       "50%        42590.000000     740.000000      56726.000000    1120.000000   \n",
       "75%        58977.000000     834.000000      80125.000000    1308.000000   \n",
       "max       200001.000000    2001.000000     250001.000000    2001.000000   \n",
       "\n",
       "       rent_income_ratio_9  rent_income_ratio_0  rent_income_ratio_1  \n",
       "count          2089.000000          2089.000000          2089.000000  \n",
       "mean              0.259635             0.214373             0.248931  \n",
       "std               2.738330             0.074864             0.100567  \n",
       "min               0.067760             0.010500             0.042308  \n",
       "25%               0.151078             0.164954             0.181756  \n",
       "50%               0.183705             0.204193             0.235058  \n",
       "75%               0.227210             0.253730             0.300615  \n",
       "max             125.302326             1.194452             1.298057  "
      ]
     },
     "execution_count": 46,
     "metadata": {},
     "output_type": "execute_result"
    }
   ],
   "source": [
    "df2.describe()"
   ]
  },
  {
   "cell_type": "markdown",
   "metadata": {},
   "source": [
    "## to see how does the income and rent change between 1990-2010"
   ]
  },
  {
   "cell_type": "code",
   "execution_count": 47,
   "metadata": {
    "collapsed": false
   },
   "outputs": [
    {
     "data": {
      "text/plain": [
       "<matplotlib.text.Text at 0x11a318c18>"
      ]
     },
     "execution_count": 47,
     "metadata": {},
     "output_type": "execute_result"
    },
    {
     "data": {
      "image/png": "[encoded data removed]",
      "text/plain": [
       "<matplotlib.figure.Figure at 0x110b05908>"
      ]
     },
     "metadata": {},
     "output_type": "display_data"
    }
   ],
   "source": [
    "## select the median value of 2089 census tract\n",
    "fig, ax1 = plt.subplots(figsize = (12, 6))\n",
    "ax2 = ax1.twinx()\n",
    "ax1.plot(np.arange(3), df2.median().loc[['median_inc_fam_9',\n",
    "                                        'median_inc_fam_0',\n",
    "                                        'median_inc_fam_1']], c = 'g', label = 'median family income')\n",
    "ax2.plot(np.arange(3), df2.median().loc[['median_rent_9',\n",
    "                                        'median_rent_0',\n",
    "                                        'median_rent_1']], c = 'b', label = 'median rent')\n",
    "ax1.legend(loc = 'upper right', fontsize = 15)\n",
    "ax2.legend(loc = 'upper left', fontsize = 15)\n",
    "\n",
    "ax1.set_xlabel('Year', fontsize = 15)\n",
    "ax1.set_ylabel(\"Median value of census tracts' median income($)\", fontsize = 15)\n",
    "ax1.set_ylim((30000,90000))\n",
    "\n",
    "ax2.set_ylabel(\"Median value of census tracts' median rent($)\", fontsize = 15)\n",
    "ax2.set_ylim((500, 1500))\n",
    "\n",
    "plt.xticks(np.arange(3), ('1990','2000','2010'))\n",
    "plt.title(\"Growth of median census tracts' income and rent between 1990-2010\", fontsize = 15)"
   ]
  },
  {
   "cell_type": "code",
   "execution_count": 48,
   "metadata": {
    "collapsed": false
   },
   "outputs": [
    {
     "data": {
      "text/plain": [
       "<matplotlib.text.Text at 0x11a3dc438>"
      ]
     },
     "execution_count": 48,
     "metadata": {},
     "output_type": "execute_result"
    },
    {
     "data": {
      "image/png": "[encoded data removed]",
      "text/plain": [
       "<matplotlib.figure.Figure at 0x116e4aef0>"
      ]
     },
     "metadata": {},
     "output_type": "display_data"
    }
   ],
   "source": [
    "## see how does rent-to-income ratio change\n",
    "plt.figure(figsize = (6, 6))\n",
    "plt.bar(np.arange(3), df2.mean().loc[['rent_income_ratio_9',\n",
    "                                        'rent_income_ratio_0',\n",
    "                                        'rent_income_ratio_1']], width = 0.6)\n",
    "\n",
    "plt.xticks(np.arange(3), ('1990','2000','2010'))\n",
    "plt.xlabel('Year', fontsize = 15)\n",
    "plt.ylabel('ratio of rent_to_income', fontsize = 15)\n",
    "plt.title('Ratio of rent-to-income between 1990-2010', fontsize = 15)"
   ]
  },
  {
   "cell_type": "markdown",
   "metadata": {},
   "source": [
    "## Calculate the change of rent between 1990-2000 and 2000-2010"
   ]
  },
  {
   "cell_type": "code",
   "execution_count": 49,
   "metadata": {
    "collapsed": false
   },
   "outputs": [
    {
     "data": {
      "text/html": [
       "<div>\n",
       "<table border=\"1\" class=\"dataframe\">\n",
       "  <thead>\n",
       "    <tr style=\"text-align: right;\">\n",
       "      <th></th>\n",
       "      <th>census_tract</th>\n",
       "      <th>Borough</th>\n",
       "      <th>PUMA</th>\n",
       "      <th>PUMA_CommunityDistrict</th>\n",
       "      <th>median_inc_fam_9</th>\n",
       "      <th>median_rent_9</th>\n",
       "      <th>median_inc_fam_0</th>\n",
       "      <th>median_rent_0</th>\n",
       "      <th>median_inc_fam_1</th>\n",
       "      <th>median_rent_1</th>\n",
       "      <th>rent_income_ratio_9</th>\n",
       "      <th>rent_income_ratio_0</th>\n",
       "      <th>rent_income_ratio_1</th>\n",
       "      <th>inc_growth_90_00</th>\n",
       "      <th>inc_growth_00_10</th>\n",
       "      <th>rent_growth_90_00</th>\n",
       "      <th>rent_growth_00_10</th>\n",
       "    </tr>\n",
       "  </thead>\n",
       "  <tbody>\n",
       "    <tr>\n",
       "      <th>0</th>\n",
       "      <td>36005000200</td>\n",
       "      <td>Bronx</td>\n",
       "      <td>3709</td>\n",
       "      <td>Bronx Community District 9</td>\n",
       "      <td>38711</td>\n",
       "      <td>742</td>\n",
       "      <td>50817</td>\n",
       "      <td>730</td>\n",
       "      <td>58368</td>\n",
       "      <td>1273</td>\n",
       "      <td>0.230012</td>\n",
       "      <td>0.172383</td>\n",
       "      <td>0.261719</td>\n",
       "      <td>0.312728</td>\n",
       "      <td>0.148592</td>\n",
       "      <td>-0.016173</td>\n",
       "      <td>0.743836</td>\n",
       "    </tr>\n",
       "    <tr>\n",
       "      <th>1</th>\n",
       "      <td>36005000400</td>\n",
       "      <td>Bronx</td>\n",
       "      <td>3709</td>\n",
       "      <td>Bronx Community District 9</td>\n",
       "      <td>40484</td>\n",
       "      <td>535</td>\n",
       "      <td>41019</td>\n",
       "      <td>643</td>\n",
       "      <td>73148</td>\n",
       "      <td>1330</td>\n",
       "      <td>0.158581</td>\n",
       "      <td>0.188108</td>\n",
       "      <td>0.218188</td>\n",
       "      <td>0.013215</td>\n",
       "      <td>0.783271</td>\n",
       "      <td>0.201869</td>\n",
       "      <td>1.068429</td>\n",
       "    </tr>\n",
       "    <tr>\n",
       "      <th>2</th>\n",
       "      <td>36005001600</td>\n",
       "      <td>Bronx</td>\n",
       "      <td>3709</td>\n",
       "      <td>Bronx Community District 9</td>\n",
       "      <td>24732</td>\n",
       "      <td>466</td>\n",
       "      <td>30104</td>\n",
       "      <td>558</td>\n",
       "      <td>33555</td>\n",
       "      <td>823</td>\n",
       "      <td>0.226104</td>\n",
       "      <td>0.222429</td>\n",
       "      <td>0.294323</td>\n",
       "      <td>0.217208</td>\n",
       "      <td>0.114636</td>\n",
       "      <td>0.197425</td>\n",
       "      <td>0.474910</td>\n",
       "    </tr>\n",
       "    <tr>\n",
       "      <th>3</th>\n",
       "      <td>36005001900</td>\n",
       "      <td>Bronx</td>\n",
       "      <td>3710</td>\n",
       "      <td>Bronx Community Districts 1 &amp; 2</td>\n",
       "      <td>24823</td>\n",
       "      <td>422</td>\n",
       "      <td>23671</td>\n",
       "      <td>461</td>\n",
       "      <td>25489</td>\n",
       "      <td>870</td>\n",
       "      <td>0.204004</td>\n",
       "      <td>0.233704</td>\n",
       "      <td>0.409588</td>\n",
       "      <td>-0.046409</td>\n",
       "      <td>0.076803</td>\n",
       "      <td>0.092417</td>\n",
       "      <td>0.887202</td>\n",
       "    </tr>\n",
       "    <tr>\n",
       "      <th>4</th>\n",
       "      <td>36005002000</td>\n",
       "      <td>Bronx</td>\n",
       "      <td>3709</td>\n",
       "      <td>Bronx Community District 9</td>\n",
       "      <td>18762</td>\n",
       "      <td>298</td>\n",
       "      <td>19694</td>\n",
       "      <td>266</td>\n",
       "      <td>30817</td>\n",
       "      <td>455</td>\n",
       "      <td>0.190598</td>\n",
       "      <td>0.162080</td>\n",
       "      <td>0.177175</td>\n",
       "      <td>0.049675</td>\n",
       "      <td>0.564791</td>\n",
       "      <td>-0.107383</td>\n",
       "      <td>0.710526</td>\n",
       "    </tr>\n",
       "  </tbody>\n",
       "</table>\n",
       "</div>"
      ],
      "text/plain": [
       "   census_tract Borough  PUMA           PUMA_CommunityDistrict  \\\n",
       "0   36005000200   Bronx  3709       Bronx Community District 9   \n",
       "1   36005000400   Bronx  3709       Bronx Community District 9   \n",
       "2   36005001600   Bronx  3709       Bronx Community District 9   \n",
       "3   36005001900   Bronx  3710  Bronx Community Districts 1 & 2   \n",
       "4   36005002000   Bronx  3709       Bronx Community District 9   \n",
       "\n",
       "   median_inc_fam_9  median_rent_9  median_inc_fam_0  median_rent_0  \\\n",
       "0             38711            742             50817            730   \n",
       "1             40484            535             41019            643   \n",
       "2             24732            466             30104            558   \n",
       "3             24823            422             23671            461   \n",
       "4             18762            298             19694            266   \n",
       "\n",
       "   median_inc_fam_1  median_rent_1  rent_income_ratio_9  rent_income_ratio_0  \\\n",
       "0             58368           1273             0.230012             0.172383   \n",
       "1             73148           1330             0.158581             0.188108   \n",
       "2             33555            823             0.226104             0.222429   \n",
       "3             25489            870             0.204004             0.233704   \n",
       "4             30817            455             0.190598             0.162080   \n",
       "\n",
       "   rent_income_ratio_1  inc_growth_90_00  inc_growth_00_10  rent_growth_90_00  \\\n",
       "0             0.261719          0.312728          0.148592          -0.016173   \n",
       "1             0.218188          0.013215          0.783271           0.201869   \n",
       "2             0.294323          0.217208          0.114636           0.197425   \n",
       "3             0.409588         -0.046409          0.076803           0.092417   \n",
       "4             0.177175          0.049675          0.564791          -0.107383   \n",
       "\n",
       "   rent_growth_00_10  \n",
       "0           0.743836  \n",
       "1           1.068429  \n",
       "2           0.474910  \n",
       "3           0.887202  \n",
       "4           0.710526  "
      ]
     },
     "execution_count": 49,
     "metadata": {},
     "output_type": "execute_result"
    }
   ],
   "source": [
    "df2['inc_growth_90_00'] = df2.median_inc_fam_0/df2.median_inc_fam_9 - 1\n",
    "df2['inc_growth_00_10'] = df2.median_inc_fam_1/df2.median_inc_fam_0 - 1\n",
    "\n",
    "df2['rent_growth_90_00'] = df2.median_rent_0/df2.median_rent_9 - 1\n",
    "df2['rent_growth_00_10'] = df2.median_rent_1/df2.median_rent_0 - 1\n",
    "df2.head()"
   ]
  },
  {
   "cell_type": "code",
   "execution_count": 50,
   "metadata": {
    "collapsed": false
   },
   "outputs": [
    {
     "data": {
      "text/html": [
       "<div>\n",
       "<table border=\"1\" class=\"dataframe\">\n",
       "  <thead>\n",
       "    <tr style=\"text-align: right;\">\n",
       "      <th></th>\n",
       "      <th>census_tract</th>\n",
       "      <th>PUMA</th>\n",
       "      <th>median_inc_fam_9</th>\n",
       "      <th>median_rent_9</th>\n",
       "      <th>median_inc_fam_0</th>\n",
       "      <th>median_rent_0</th>\n",
       "      <th>median_inc_fam_1</th>\n",
       "      <th>median_rent_1</th>\n",
       "      <th>rent_income_ratio_9</th>\n",
       "      <th>rent_income_ratio_0</th>\n",
       "      <th>rent_income_ratio_1</th>\n",
       "      <th>inc_growth_90_00</th>\n",
       "      <th>inc_growth_00_10</th>\n",
       "      <th>rent_growth_90_00</th>\n",
       "      <th>rent_growth_00_10</th>\n",
       "    </tr>\n",
       "  </thead>\n",
       "  <tbody>\n",
       "    <tr>\n",
       "      <th>count</th>\n",
       "      <td>2.089000e+03</td>\n",
       "      <td>2089.000000</td>\n",
       "      <td>2089.000000</td>\n",
       "      <td>2089.000000</td>\n",
       "      <td>2089.000000</td>\n",
       "      <td>2089.000000</td>\n",
       "      <td>2089.000000</td>\n",
       "      <td>2089.000000</td>\n",
       "      <td>2089.000000</td>\n",
       "      <td>2089.000000</td>\n",
       "      <td>2089.000000</td>\n",
       "      <td>2089.000000</td>\n",
       "      <td>2089.000000</td>\n",
       "      <td>2089.000000</td>\n",
       "      <td>2089.000000</td>\n",
       "    </tr>\n",
       "    <tr>\n",
       "      <th>mean</th>\n",
       "      <td>3.605455e+10</td>\n",
       "      <td>3959.150311</td>\n",
       "      <td>37689.401628</td>\n",
       "      <td>544.198181</td>\n",
       "      <td>48874.026807</td>\n",
       "      <td>753.071326</td>\n",
       "      <td>66207.958353</td>\n",
       "      <td>1151.020105</td>\n",
       "      <td>0.259635</td>\n",
       "      <td>0.214373</td>\n",
       "      <td>0.248931</td>\n",
       "      <td>1.017393</td>\n",
       "      <td>0.386582</td>\n",
       "      <td>0.394707</td>\n",
       "      <td>0.554580</td>\n",
       "    </tr>\n",
       "    <tr>\n",
       "      <th>std</th>\n",
       "      <td>2.594637e+07</td>\n",
       "      <td>144.957985</td>\n",
       "      <td>18760.425689</td>\n",
       "      <td>150.069074</td>\n",
       "      <td>28645.098401</td>\n",
       "      <td>231.835763</td>\n",
       "      <td>39910.826453</td>\n",
       "      <td>331.293631</td>\n",
       "      <td>2.738330</td>\n",
       "      <td>0.074864</td>\n",
       "      <td>0.100567</td>\n",
       "      <td>32.109538</td>\n",
       "      <td>0.371344</td>\n",
       "      <td>0.243999</td>\n",
       "      <td>0.341645</td>\n",
       "    </tr>\n",
       "    <tr>\n",
       "      <th>min</th>\n",
       "      <td>3.600500e+10</td>\n",
       "      <td>3701.000000</td>\n",
       "      <td>86.000000</td>\n",
       "      <td>140.000000</td>\n",
       "      <td>7354.000000</td>\n",
       "      <td>175.000000</td>\n",
       "      <td>8542.000000</td>\n",
       "      <td>231.000000</td>\n",
       "      <td>0.067760</td>\n",
       "      <td>0.010500</td>\n",
       "      <td>0.042308</td>\n",
       "      <td>-0.463329</td>\n",
       "      <td>-0.789146</td>\n",
       "      <td>-0.825175</td>\n",
       "      <td>-0.673401</td>\n",
       "    </tr>\n",
       "    <tr>\n",
       "      <th>25%</th>\n",
       "      <td>3.604702e+10</td>\n",
       "      <td>3808.000000</td>\n",
       "      <td>24924.000000</td>\n",
       "      <td>453.000000</td>\n",
       "      <td>30724.000000</td>\n",
       "      <td>644.000000</td>\n",
       "      <td>40022.000000</td>\n",
       "      <td>964.000000</td>\n",
       "      <td>0.151078</td>\n",
       "      <td>0.164954</td>\n",
       "      <td>0.181756</td>\n",
       "      <td>0.100910</td>\n",
       "      <td>0.155940</td>\n",
       "      <td>0.272441</td>\n",
       "      <td>0.412500</td>\n",
       "    </tr>\n",
       "    <tr>\n",
       "      <th>50%</th>\n",
       "      <td>3.604712e+10</td>\n",
       "      <td>4009.000000</td>\n",
       "      <td>36218.000000</td>\n",
       "      <td>531.000000</td>\n",
       "      <td>42590.000000</td>\n",
       "      <td>740.000000</td>\n",
       "      <td>56726.000000</td>\n",
       "      <td>1120.000000</td>\n",
       "      <td>0.183705</td>\n",
       "      <td>0.204193</td>\n",
       "      <td>0.235058</td>\n",
       "      <td>0.250178</td>\n",
       "      <td>0.336591</td>\n",
       "      <td>0.378641</td>\n",
       "      <td>0.525917</td>\n",
       "    </tr>\n",
       "    <tr>\n",
       "      <th>75%</th>\n",
       "      <td>3.608103e+10</td>\n",
       "      <td>4103.000000</td>\n",
       "      <td>46843.000000</td>\n",
       "      <td>629.000000</td>\n",
       "      <td>58977.000000</td>\n",
       "      <td>834.000000</td>\n",
       "      <td>80125.000000</td>\n",
       "      <td>1308.000000</td>\n",
       "      <td>0.227210</td>\n",
       "      <td>0.253730</td>\n",
       "      <td>0.300615</td>\n",
       "      <td>0.426565</td>\n",
       "      <td>0.545935</td>\n",
       "      <td>0.486239</td>\n",
       "      <td>0.655766</td>\n",
       "    </tr>\n",
       "    <tr>\n",
       "      <th>max</th>\n",
       "      <td>3.608503e+10</td>\n",
       "      <td>4114.000000</td>\n",
       "      <td>150001.000000</td>\n",
       "      <td>1001.000000</td>\n",
       "      <td>200001.000000</td>\n",
       "      <td>2001.000000</td>\n",
       "      <td>250001.000000</td>\n",
       "      <td>2001.000000</td>\n",
       "      <td>125.302326</td>\n",
       "      <td>1.194452</td>\n",
       "      <td>1.298057</td>\n",
       "      <td>1467.779070</td>\n",
       "      <td>3.714033</td>\n",
       "      <td>3.547727</td>\n",
       "      <td>10.434286</td>\n",
       "    </tr>\n",
       "  </tbody>\n",
       "</table>\n",
       "</div>"
      ],
      "text/plain": [
       "       census_tract         PUMA  median_inc_fam_9  median_rent_9  \\\n",
       "count  2.089000e+03  2089.000000       2089.000000    2089.000000   \n",
       "mean   3.605455e+10  3959.150311      37689.401628     544.198181   \n",
       "std    2.594637e+07   144.957985      18760.425689     150.069074   \n",
       "min    3.600500e+10  3701.000000         86.000000     140.000000   \n",
       "25%    3.604702e+10  3808.000000      24924.000000     453.000000   \n",
       "50%    3.604712e+10  4009.000000      36218.000000     531.000000   \n",
       "75%    3.608103e+10  4103.000000      46843.000000     629.000000   \n",
       "max    3.608503e+10  4114.000000     150001.000000    1001.000000   \n",
       "\n",
       "       median_inc_fam_0  median_rent_0  median_inc_fam_1  median_rent_1  \\\n",
       "count       2089.000000    2089.000000       2089.000000    2089.000000   \n",
       "mean       48874.026807     753.071326      66207.958353    1151.020105   \n",
       "std        28645.098401     231.835763      39910.826453     331.293631   \n",
       "min         7354.000000     175.000000       8542.000000     231.000000   \n",
       "25%        30724.000000     644.000000      40022.000000     964.000000   \n",
       "50%        42590.000000     740.000000      56726.000000    1120.000000   \n",
       "75%        58977.000000     834.000000      80125.000000    1308.000000   \n",
       "max       200001.000000    2001.000000     250001.000000    2001.000000   \n",
       "\n",
       "       rent_income_ratio_9  rent_income_ratio_0  rent_income_ratio_1  \\\n",
       "count          2089.000000          2089.000000          2089.000000   \n",
       "mean              0.259635             0.214373             0.248931   \n",
       "std               2.738330             0.074864             0.100567   \n",
       "min               0.067760             0.010500             0.042308   \n",
       "25%               0.151078             0.164954             0.181756   \n",
       "50%               0.183705             0.204193             0.235058   \n",
       "75%               0.227210             0.253730             0.300615   \n",
       "max             125.302326             1.194452             1.298057   \n",
       "\n",
       "       inc_growth_90_00  inc_growth_00_10  rent_growth_90_00  \\\n",
       "count       2089.000000       2089.000000        2089.000000   \n",
       "mean           1.017393          0.386582           0.394707   \n",
       "std           32.109538          0.371344           0.243999   \n",
       "min           -0.463329         -0.789146          -0.825175   \n",
       "25%            0.100910          0.155940           0.272441   \n",
       "50%            0.250178          0.336591           0.378641   \n",
       "75%            0.426565          0.545935           0.486239   \n",
       "max         1467.779070          3.714033           3.547727   \n",
       "\n",
       "       rent_growth_00_10  \n",
       "count        2089.000000  \n",
       "mean            0.554580  \n",
       "std             0.341645  \n",
       "min            -0.673401  \n",
       "25%             0.412500  \n",
       "50%             0.525917  \n",
       "75%             0.655766  \n",
       "max            10.434286  "
      ]
     },
     "execution_count": 50,
     "metadata": {},
     "output_type": "execute_result"
    }
   ],
   "source": [
    "df2.describe()"
   ]
  },
  {
   "cell_type": "markdown",
   "metadata": {},
   "source": [
    "## df2 is the table containing the useful variables we need from dataset(not including entropy index, based on census tract)\n",
    "- income\n",
    "- rent\n",
    "- rent-income-ratio\n",
    "- income growth\n",
    "- rent growth"
   ]
  },
  {
   "cell_type": "code",
   "execution_count": null,
   "metadata": {
    "collapsed": true
   },
   "outputs": [],
   "source": []
  },
  {
   "cell_type": "markdown",
   "metadata": {},
   "source": [
    "## 2) Calculation of census tracts' entropy index \n",
    "entropy index of different income-level groups for each census tract from 1990 to 2010\n",
    "\n",
    "entropy index fomular:\n",
    "https://github.com/picniclin/NYC_yl5240/blob/master/entropy_index_fomular.png"
   ]
  },
  {
   "cell_type": "code",
   "execution_count": 51,
   "metadata": {
    "collapsed": false
   },
   "outputs": [],
   "source": [
    "# define entropy index \n",
    "def entropy_index(x):\n",
    "    Q_sum = 0\n",
    "    for i in x:\n",
    "        if i == 0:\n",
    "            Q = 0\n",
    "        else:\n",
    "            Q = (-1) * (i/sum(x)) * np.log(i/sum(x))\n",
    "        Q_sum += Q\n",
    "    entropy_index = Q_sum/np.log(len(x))\n",
    "    return entropy_index"
   ]
  },
  {
   "cell_type": "code",
   "execution_count": null,
   "metadata": {
    "collapsed": false
   },
   "outputs": [
    {
     "data": {
      "text/plain": [
       "0.91644438056067445"
      ]
     },
     "execution_count": 52,
     "metadata": {},
     "output_type": "execute_result"
    }
   ],
   "source": [
    "# have a try\n",
    "entropy_index(list(df_family_income_1990.iloc[0,5:]))"
   ]
  },
  {
   "cell_type": "code",
   "execution_count": null,
   "metadata": {
    "collapsed": false
   },
   "outputs": [],
   "source": [
    "# calculate the entropy index of 1990\n",
    "for i in df_family_income_1990.index:\n",
    "    df_family_income_1990.loc[i,'entropy_index_9'] = \\\n",
    "                    entropy_index(list(df_family_income_1990.loc[i,'fam_inc_109':'fam_inc_max_9']))"
   ]
  },
  {
   "cell_type": "code",
   "execution_count": null,
   "metadata": {
    "collapsed": false
   },
   "outputs": [],
   "source": [
    "df_family_income_1990.head()"
   ]
  },
  {
   "cell_type": "code",
   "execution_count": null,
   "metadata": {
    "collapsed": false
   },
   "outputs": [],
   "source": [
    "# calculate the entropy index of 2000 and 2010\n",
    "for i in df_family_income_2000.index:\n",
    "    df_family_income_2000.loc[i,'entropy_index_0'] = \\\n",
    "                    entropy_index(list(df_family_income_2000.loc[i,'fam_inc_100':'fam_inc_max_200']))\n",
    "\n",
    "for i in df_family_income_2010.index:\n",
    "    df_family_income_2010.loc[i,'entropy_index_1'] = \\\n",
    "                    entropy_index(list(df_family_income_2010.loc[i,'fam_inc_101':'fam_inc_max_201']))"
   ]
  },
  {
   "cell_type": "code",
   "execution_count": null,
   "metadata": {
    "collapsed": false
   },
   "outputs": [],
   "source": [
    "df_family_income_1990.shape, df_family_income_2000.shape, df_family_income_2010.shape"
   ]
  },
  {
   "cell_type": "markdown",
   "metadata": {},
   "source": [
    "## Table of Census tract entropy index! That's what we need! The milestone!"
   ]
  },
  {
   "cell_type": "code",
   "execution_count": null,
   "metadata": {
    "collapsed": false
   },
   "outputs": [],
   "source": [
    "df_census_entropy = df_dataset_tract.merge(pd.concat([df_family_income_1990.iloc[:,[0,-1]],\n",
    "                              df_family_income_2000.iloc[:,-1],\n",
    "                              df_family_income_2010.iloc[:,-1]], axis = 1), on = 'census_tract')\n",
    "\n",
    "df_census_entropy['entropy_index_change_90_00'] = \\\n",
    "                df_census_entropy.entropy_index_0/df_census_entropy.entropy_index_9 - 1\n",
    "df_census_entropy['entropy_index_change_00_10'] = \\\n",
    "                df_census_entropy.entropy_index_1/df_census_entropy.entropy_index_0 - 1\n",
    "df_census_entropy.head()"
   ]
  },
  {
   "cell_type": "code",
   "execution_count": null,
   "metadata": {
    "collapsed": false
   },
   "outputs": [],
   "source": [
    "df_census_entropy.shape"
   ]
  },
  {
   "cell_type": "code",
   "execution_count": null,
   "metadata": {
    "collapsed": false
   },
   "outputs": [],
   "source": [
    "df_census_entropy.describe()"
   ]
  },
  {
   "cell_type": "code",
   "execution_count": null,
   "metadata": {
    "collapsed": false
   },
   "outputs": [],
   "source": [
    "plt.figure(figsize = (6, 6))\n",
    "plt.bar(np.arange(3), df_census_entropy.median()[-5:-2], width = 0.6)\n",
    "\n",
    "plt.xticks(np.arange(3), ('1990','2000','2010'))\n",
    "plt.xlabel('Year', fontsize = 15)\n",
    "plt.ylabel('Median income entropy index', fontsize = 15)\n",
    "plt.title('Median income entropy index of census tracts between 1990-2010', fontsize = 15)"
   ]
  },
  {
   "cell_type": "code",
   "execution_count": null,
   "metadata": {
    "collapsed": false
   },
   "outputs": [],
   "source": [
    "plt.figure(figsize = (12, 6))\n",
    "cut = [-1,-0.5,-0.25,-0.2, -0.15,-0.1,-0.075, -0.05, -0.025, 0, \n",
    "       0.025,0.05,0.075, 0.1, 0.15, 0.2, 0.25,0.5,1,2,4]\n",
    "df_census_entropy.iloc[:,0].groupby(pd.cut(df_census_entropy.entropy_index_change_90_00, \n",
    "          cut)).count().plot(kind = 'bar')\n",
    "plt.xlabel('entropy index change between 1990-2000', fontsize = 15)\n",
    "plt.ylabel('numbers of census tracts', fontsize = 15)\n",
    "plt.title('How does census tract income integration level change', fontsize = 20)\n",
    "plt.show()\n"
   ]
  },
  {
   "cell_type": "code",
   "execution_count": null,
   "metadata": {
    "collapsed": false
   },
   "outputs": [],
   "source": [
    "plt.figure(figsize = (12, 6))\n",
    "df_census_entropy.iloc[:,0].groupby(pd.cut(df_census_entropy.entropy_index_change_00_10, \n",
    "          cut)).count().plot(kind = 'bar')\n",
    "plt.xlabel('entropy index change between 2000-2010', fontsize = 15)\n",
    "plt.ylabel('numbers of census tracts', fontsize = 15)\n",
    "plt.title('How does census tract income integration level change', fontsize = 20)\n",
    "plt.show()"
   ]
  },
  {
   "cell_type": "markdown",
   "metadata": {},
   "source": [
    "## 3) Combine entropy index and rent growth\n"
   ]
  },
  {
   "cell_type": "code",
   "execution_count": null,
   "metadata": {
    "collapsed": false
   },
   "outputs": [],
   "source": [
    "sum(np.array(df_census_entropy == 0))"
   ]
  },
  {
   "cell_type": "code",
   "execution_count": null,
   "metadata": {
    "collapsed": false
   },
   "outputs": [],
   "source": [
    "## delete the observation with 0 entropy index\n",
    "df_census_entropy = df_census_entropy[~((df_census_entropy.entropy_index_9 == 0)| (df_census_entropy.entropy_index_0 == 0)|\\\n",
    "                          (df_census_entropy.entropy_index_1 == 0))]\n",
    "\n",
    "df_census_entropy.shape, sum(np.array(df_census_entropy == 0))"
   ]
  },
  {
   "cell_type": "markdown",
   "metadata": {},
   "source": [
    "## This is the Table on Census tract level for entropy index, rent growth and entropy index growth"
   ]
  },
  {
   "cell_type": "code",
   "execution_count": null,
   "metadata": {
    "collapsed": false
   },
   "outputs": [],
   "source": [
    "df_census_entropy_rent = df_census_entropy.merge(df2.loc[:,['census_tract',\n",
    "                                    'median_rent_9','median_rent_0','median_rent_1',\n",
    "                                    'rent_growth_90_00','rent_growth_00_10']], \n",
    "                                                  on = 'census_tract' )\n",
    "    \n",
    "   \n",
    "df_census_entropy_rent.head()"
   ]
  },
  {
   "cell_type": "code",
   "execution_count": null,
   "metadata": {
    "collapsed": false
   },
   "outputs": [],
   "source": [
    "df_census_entropy_rent.shape"
   ]
  },
  {
   "cell_type": "code",
   "execution_count": null,
   "metadata": {
    "collapsed": false
   },
   "outputs": [],
   "source": [
    "df_census_entropy_rent.describe()"
   ]
  },
  {
   "cell_type": "markdown",
   "metadata": {},
   "source": [
    "## the table with all variables we need"
   ]
  },
  {
   "cell_type": "code",
   "execution_count": null,
   "metadata": {
    "collapsed": false
   },
   "outputs": [],
   "source": [
    "df_census_analysis = df_census_entropy.merge(df2, \n",
    "                                on = ['census_tract','Borough','PUMA', 'PUMA_CommunityDistrict'])\n",
    "df_census_analysis.head()"
   ]
  },
  {
   "cell_type": "code",
   "execution_count": null,
   "metadata": {
    "collapsed": false
   },
   "outputs": [],
   "source": [
    "df_census_analysis.shape"
   ]
  },
  {
   "cell_type": "code",
   "execution_count": null,
   "metadata": {
    "collapsed": false
   },
   "outputs": [],
   "source": [
    "df_census_analysis.columns"
   ]
  },
  {
   "cell_type": "markdown",
   "metadata": {},
   "source": [
    "## 4) OLS regression between rent growth and entropy index, on census tract level"
   ]
  },
  {
   "cell_type": "code",
   "execution_count": null,
   "metadata": {
    "collapsed": true
   },
   "outputs": [],
   "source": [
    "lm1 = smf.ols('rent_growth_90_00 ~ entropy_index_9', df_census_entropy_rent).fit()\n",
    "lm2 = smf.ols('rent_growth_00_10 ~ entropy_index_0', df_census_entropy_rent).fit()"
   ]
  },
  {
   "cell_type": "code",
   "execution_count": null,
   "metadata": {
    "collapsed": false
   },
   "outputs": [],
   "source": [
    "lm1.summary()"
   ]
  },
  {
   "cell_type": "code",
   "execution_count": null,
   "metadata": {
    "collapsed": false
   },
   "outputs": [],
   "source": [
    "lm2.summary()"
   ]
  },
  {
   "cell_type": "code",
   "execution_count": null,
   "metadata": {
    "collapsed": false
   },
   "outputs": [],
   "source": [
    "plt.figure(figsize = (8, 6))\n",
    "plt.scatter(df_census_entropy_rent.entropy_index_9, df_census_entropy_rent.rent_growth_90_00)\n",
    "plt.plot(df_census_entropy_rent.entropy_index_9, lm1.predict(), c = 'r')\n",
    "plt.xlabel('Census tract entropy index in 1990', fontsize = 15)\n",
    "plt.ylabel('Rent growth from 1990 to 2000', fontsize = 15)\n",
    "plt.title('Relationship between entropy index and rent growth of census tracts in NYC, 1990-2000',\n",
    "         fontsize = 15)\n",
    "\n",
    "print('Rent_growth_90to00 = {} * Tract_Entropy_Index_90 + {}, R-squared = {}'.format(round(lm1.params[1],3),\n",
    "                                                            round(lm1.params[0],3),round(lm1.rsquared,3)))"
   ]
  },
  {
   "cell_type": "code",
   "execution_count": null,
   "metadata": {
    "collapsed": false
   },
   "outputs": [],
   "source": [
    "plt.figure(figsize = (8, 6))\n",
    "plt.scatter(df_census_entropy_rent.entropy_index_0, df_census_entropy_rent.rent_growth_00_10)\n",
    "plt.plot(df_census_entropy_rent.entropy_index_0, lm2.predict(), c = 'r')\n",
    "plt.xlabel('Census tract entropy index in 2000', fontsize = 15)\n",
    "plt.ylabel('Rent growth from 2000 to 2010', fontsize = 15)\n",
    "plt.title('Relationship between entropy index and rent growth of census tracts in NYC, 2000-2010',\n",
    "         fontsize = 15)\n",
    "\n",
    "print('Rent_growth_00to10 = {} * Tract_Entropy_Index_00 + {}, R-squared = {}'.format(round(lm2.params[1],3),\n",
    "                                                            round(lm2.params[0],3),round(lm2.rsquared,3)))"
   ]
  },
  {
   "cell_type": "code",
   "execution_count": null,
   "metadata": {
    "collapsed": true
   },
   "outputs": [],
   "source": []
  },
  {
   "cell_type": "markdown",
   "metadata": {},
   "source": [
    "# 4. Analysis based on PUMA neighborhoods"
   ]
  },
  {
   "cell_type": "markdown",
   "metadata": {},
   "source": [
    "## 1） the whole picture for PUMAs \n",
    "- group by PUMA\n",
    "- based on df2, to calculate median value of each variables for each PUMA\n",
    "- based on df_family_income, to count the sum of each income leve group in 3 years, for each PUMA"
   ]
  },
  {
   "cell_type": "code",
   "execution_count": null,
   "metadata": {
    "collapsed": false
   },
   "outputs": [],
   "source": [
    "df2.groupby(by = 'PUMA').median().iloc[:,1:].shape"
   ]
  },
  {
   "cell_type": "code",
   "execution_count": null,
   "metadata": {
    "collapsed": false,
    "scrolled": true
   },
   "outputs": [],
   "source": [
    "df_puma_median = df_PUMA.merge(df2.groupby(by = 'PUMA').median().iloc[:,1:].reset_index(),\n",
    "                               on = 'PUMA')\n",
    "df_puma_median.head()"
   ]
  },
  {
   "cell_type": "code",
   "execution_count": null,
   "metadata": {
    "collapsed": false
   },
   "outputs": [],
   "source": [
    "df_puma_median.shape"
   ]
  },
  {
   "cell_type": "markdown",
   "metadata": {},
   "source": [
    "### We have 55 PUMAs for analysis."
   ]
  },
  {
   "cell_type": "code",
   "execution_count": null,
   "metadata": {
    "collapsed": false,
    "scrolled": true
   },
   "outputs": [],
   "source": [
    "df_puma_family_income = df_PUMA.merge(df_family_income.groupby(by = 'PUMA').sum()\\\n",
    "                                        .drop(['census_tract'], axis = 1),\n",
    "                               left_on = 'PUMA', right_index = True)\n",
    "df_puma_family_income.head()"
   ]
  },
  {
   "cell_type": "code",
   "execution_count": null,
   "metadata": {
    "collapsed": false
   },
   "outputs": [],
   "source": [
    "df_puma_family_income.shape"
   ]
  },
  {
   "cell_type": "markdown",
   "metadata": {},
   "source": [
    "## 2) Calculation of PUMA entropy index of 1990, 2000 and 2010"
   ]
  },
  {
   "cell_type": "code",
   "execution_count": null,
   "metadata": {
    "collapsed": false
   },
   "outputs": [],
   "source": [
    "for i in df_puma_family_income.index:\n",
    "    df_puma_family_income.loc[i,'entropy_index_9'] = \\\n",
    "                    entropy_index(list(df_puma_family_income.loc[i,'fam_inc_109':'fam_inc_max_9']))\n",
    "    df_puma_family_income.loc[i,'entropy_index_0'] = \\\n",
    "                    entropy_index(list(df_puma_family_income.loc[i,'fam_inc_100':'fam_inc_max_200']))\n",
    "    df_puma_family_income.loc[i,'entropy_index_1'] = \\\n",
    "                    entropy_index(list(df_puma_family_income.loc[i,'fam_inc_101':'fam_inc_max_201']))"
   ]
  },
  {
   "cell_type": "code",
   "execution_count": null,
   "metadata": {
    "collapsed": false
   },
   "outputs": [],
   "source": [
    "df_puma_entropy = df_PUMA.merge(df_puma_family_income.loc[:, ['PUMA','entropy_index_9',\n",
    "                                           'entropy_index_0','entropy_index_1']],\n",
    "                               on = 'PUMA')\n",
    "\n",
    "df_puma_entropy['entropy_index_change_90_00'] = \\\n",
    "                df_puma_entropy.entropy_index_0/df_puma_entropy.entropy_index_9 - 1\n",
    "df_puma_entropy['entropy_index_change_00_10'] = \\\n",
    "                df_puma_entropy.entropy_index_1/df_puma_entropy.entropy_index_0 - 1\n",
    "\n",
    "df_puma_entropy['mean_entropy'] = (df_puma_entropy.entropy_index_9 + \\\n",
    "                                   df_puma_entropy.entropy_index_0 + \\\n",
    "                                   df_puma_entropy.entropy_index_1)/3\n",
    "\n",
    "df_puma_entropy.head()"
   ]
  },
  {
   "cell_type": "code",
   "execution_count": null,
   "metadata": {
    "collapsed": false
   },
   "outputs": [],
   "source": [
    "df_puma_entropy.shape"
   ]
  },
  {
   "cell_type": "code",
   "execution_count": null,
   "metadata": {
    "collapsed": false
   },
   "outputs": [],
   "source": [
    "plt.figure(figsize = (6, 6))\n",
    "plt.bar(np.arange(3), df_puma_entropy.median().loc[['entropy_index_9',\n",
    "                                        'entropy_index_0','entropy_index_1']], width = 0.6)\n",
    "\n",
    "plt.xticks(np.arange(3), ('1990','2000','2010'))\n",
    "plt.xlabel('Year', fontsize = 15)\n",
    "plt.ylabel('Median income entropy index', fontsize = 15)\n",
    "plt.title('Median income entropy index of PUMAs between 1990-2010', fontsize = 15)\n",
    "\n",
    "print('The median values of income entropy index of PUMAs in 1999, 2000 and 2010 are respectively {}, {} and {}.'.\\\n",
    "      format(round(df_puma_entropy.median().loc['entropy_index_0'],3), \n",
    "             round(df_puma_entropy.median().loc['entropy_index_0'],3), \n",
    "             round(df_puma_entropy.median().loc['entropy_index_1'],3)))"
   ]
  },
  {
   "cell_type": "markdown",
   "metadata": {},
   "source": [
    "## The income entropy index of PUMAs increased in the 20 years, meaning the level of neighborhood income integration in total has increased\n",
    "\n",
    "### Then, we have a look at the variance of different PUMA's entropy index and their change in 20 years"
   ]
  },
  {
   "cell_type": "code",
   "execution_count": null,
   "metadata": {
    "collapsed": false
   },
   "outputs": [],
   "source": [
    "## to see the distribution of entropy index\n",
    "plt.figure(figsize = (24, 8))\n",
    "plt.scatter(np.arange(len(df_puma_entropy)),df_puma_entropy.entropy_index_9,\n",
    "           label = 'entropy index of 1990')\n",
    "plt.scatter(np.arange(len(df_puma_entropy)),df_puma_entropy.entropy_index_0,\n",
    "           label = 'entropy index of 2000')\n",
    "plt.scatter(np.arange(len(df_puma_entropy)),df_puma_entropy.entropy_index_1,\n",
    "           label = 'entropy index of 2010')\n",
    "plt.legend()\n",
    "\n",
    "plt.xticks(np.arange(len(df_puma_entropy)), df_puma_entropy.PUMA, rotation = 45, \n",
    "                  fontsize = 15)\n",
    "plt.tick_params(axis='x', pad = 2, labelsize = 8, direction = 'in')\n",
    "plt.ylabel('PUMA entropy index', fontsize = 20)\n",
    "plt.xlabel('PUMA code', fontsize = 20)\n",
    "plt.title('The Income Integration level of 55 PUMAs in NYC, 1990-2010', fontsize = 30)\n",
    "plt.show()"
   ]
  },
  {
   "cell_type": "code",
   "execution_count": null,
   "metadata": {
    "collapsed": false
   },
   "outputs": [],
   "source": [
    "## To see the change of entropy index in the PUMAs\n",
    "plt.figure(figsize = (12, 24))\n",
    "plt.barh(np.arange(len(df_puma_entropy)), \n",
    "         width = df_puma_entropy.entropy_index_change_90_00,\n",
    "        height = 0.4, label = '1990 to 2000')\n",
    "plt.barh(np.arange(len(df_puma_entropy)) - 0.4, \n",
    "         width = df_puma_entropy.entropy_index_change_00_10,\n",
    "        height = 0.4, label = '2000 to 2010')\n",
    "plt.xlim((-0.18,0.12))\n",
    "plt.tick_params(axis='x', pad= -20, labelsize=14, direction = 'in', \n",
    "                top = True, bottom = True, labeltop= True, labelbottom = True)\n",
    "plt.yticks(np.arange(len(df_puma_entropy)),df_puma_entropy.PUMA_neighborhoods )\n",
    "plt.tick_params(axis='y', pad=2, labelsize=14, direction = 'in', \n",
    "               left = False, right = True, labelleft = False, labelright = True)\n",
    "\n",
    "plt.ylabel('PUMA',fontsize = 20)\n",
    "plt.xlabel('Change of income entropy index', fontsize = 20)\n",
    "plt.title('10-year change of income integration level for each PUMA in NYC, 1990-2010',fontsize = 20,\n",
    "         verticalalignment='bottom')\n",
    "\n",
    "plt.legend(loc = (0.05, 0.92), fontsize = 15)\n",
    "plt.show()"
   ]
  },
  {
   "cell_type": "markdown",
   "metadata": {},
   "source": [
    "## If we look at different PUMAs, the change of income entropy index varies, especially in Manhattan and Brooklyn.  \n",
    "## In Manhattan, most of the entropy index continued to decrease in 20 years, even getting worse in the latter decade.\n",
    "## On the contrary, in brooklyn, most of the entropy index continued to increase in 20 years, with greater growth rate in the latter decade."
   ]
  },
  {
   "cell_type": "code",
   "execution_count": null,
   "metadata": {
    "collapsed": true
   },
   "outputs": [],
   "source": []
  },
  {
   "cell_type": "markdown",
   "metadata": {},
   "source": [
    "## 3) Combine PUMA entropy index and rent growth"
   ]
  },
  {
   "cell_type": "code",
   "execution_count": null,
   "metadata": {
    "collapsed": false
   },
   "outputs": [],
   "source": [
    "df_puma_entropy_rent = df_puma_entropy.merge(df_puma_median.loc[:,['PUMA',\n",
    "                                    'median_rent_9','median_rent_0','median_rent_1',\n",
    "                                    'rent_growth_90_00','rent_growth_00_10']], \n",
    "                                                  on = 'PUMA' )\n",
    "\n",
    "df_puma_entropy_rent.head()"
   ]
  },
  {
   "cell_type": "markdown",
   "metadata": {},
   "source": [
    "## This is the Table on PUMA level for entropy index and rent growth!"
   ]
  },
  {
   "cell_type": "code",
   "execution_count": null,
   "metadata": {
    "collapsed": false
   },
   "outputs": [],
   "source": [
    "df_puma_entropy_rent.shape"
   ]
  },
  {
   "cell_type": "code",
   "execution_count": null,
   "metadata": {
    "collapsed": false,
    "scrolled": true
   },
   "outputs": [],
   "source": [
    "df_puma_entropy_rent.describe()"
   ]
  },
  {
   "cell_type": "code",
   "execution_count": null,
   "metadata": {
    "collapsed": false
   },
   "outputs": [],
   "source": [
    "df_puma_entropy.columns"
   ]
  },
  {
   "cell_type": "code",
   "execution_count": null,
   "metadata": {
    "collapsed": false
   },
   "outputs": [],
   "source": [
    "df_puma_median.columns"
   ]
  },
  {
   "cell_type": "code",
   "execution_count": null,
   "metadata": {
    "collapsed": false
   },
   "outputs": [],
   "source": [
    "df_puma_analysis = df_puma_entropy.merge(df_puma_median, \n",
    "                            on = ['PUMA', 'PUMA_CommunityDistrict','PUMA_neighborhoods'])\n",
    "df_puma_analysis.head()"
   ]
  },
  {
   "cell_type": "markdown",
   "metadata": {},
   "source": [
    "## Above table has all the variables we need for analysis at the PUMA level !!!"
   ]
  },
  {
   "cell_type": "code",
   "execution_count": null,
   "metadata": {
    "collapsed": false
   },
   "outputs": [],
   "source": [
    "df_puma_analysis.columns"
   ]
  },
  {
   "cell_type": "code",
   "execution_count": null,
   "metadata": {
    "collapsed": false
   },
   "outputs": [],
   "source": [
    "df_puma_analysis.shape"
   ]
  },
  {
   "cell_type": "code",
   "execution_count": null,
   "metadata": {
    "collapsed": false
   },
   "outputs": [],
   "source": [
    "df_puma_analysis.describe()"
   ]
  },
  {
   "cell_type": "code",
   "execution_count": null,
   "metadata": {
    "collapsed": true
   },
   "outputs": [],
   "source": []
  },
  {
   "cell_type": "markdown",
   "metadata": {
    "collapsed": true
   },
   "source": [
    "## 4) Rent burden and entropy index"
   ]
  },
  {
   "cell_type": "code",
   "execution_count": null,
   "metadata": {
    "collapsed": false
   },
   "outputs": [],
   "source": [
    "plt.figure(figsize = (12,6))\n",
    "plt.scatter(df_puma_analysis.entropy_index_9, df_puma_analysis.rent_income_ratio_9)\n",
    "plt.xlabel('Entropy index',fontsize = 20)\n",
    "plt.ylabel('Ratio of rent to income',fontsize = 20)\n",
    "plt.title('Rent burden and income integration level in NYC PUMAs, 1990',fontsize = 20)\n",
    "plt.show()"
   ]
  },
  {
   "cell_type": "code",
   "execution_count": null,
   "metadata": {
    "collapsed": false
   },
   "outputs": [],
   "source": [
    "plt.figure(figsize = (12,6))\n",
    "plt.scatter(df_puma_analysis.entropy_index_0, df_puma_analysis.rent_income_ratio_0)\n",
    "plt.xlabel('Entropy index',fontsize = 20)\n",
    "plt.ylabel('Ratio of rent to income',fontsize = 20)\n",
    "plt.title('Rent burden and income integration level in NYC PUMAs, 2000',fontsize = 20)\n",
    "plt.show()"
   ]
  },
  {
   "cell_type": "code",
   "execution_count": null,
   "metadata": {
    "collapsed": false
   },
   "outputs": [],
   "source": [
    "plt.figure(figsize = (12,6))\n",
    "plt.scatter(df_puma_analysis.entropy_index_1, df_puma_analysis.rent_income_ratio_1)\n",
    "plt.xlabel('Entropy index',fontsize = 20)\n",
    "plt.ylabel('Ratio of rent to income',fontsize = 20)\n",
    "plt.title('Rent burden and income integration level in NYC PUMAs, 2010',fontsize = 20)\n",
    "plt.show()"
   ]
  },
  {
   "cell_type": "code",
   "execution_count": null,
   "metadata": {
    "collapsed": false
   },
   "outputs": [],
   "source": [
    "df_rentburden_entropy_9 = df_puma_analysis[['PUMA','entropy_index_9', \n",
    "                    'rent_income_ratio_9']].rename(columns = {'entropy_index_9':'entropy_index',\n",
    "                                                    'rent_income_ratio_9':'rent_income_ratio'})\n",
    "df_rentburden_entropy_9['new_index'] = '9' + df_rentburden_entropy_9.index.astype(str) \n",
    "\n",
    "df_rentburden_entropy_0 = df_puma_analysis[['PUMA','entropy_index_0', \n",
    "                    'rent_income_ratio_0']].rename(columns = {'entropy_index_0':'entropy_index',\n",
    "                                                    'rent_income_ratio_0':'rent_income_ratio'})\n",
    "df_rentburden_entropy_0['new_index'] = '0' + df_rentburden_entropy_9.index.astype(str) \n",
    "\n",
    "\n",
    "df_rentburden_entropy_1 = df_puma_analysis[['PUMA','entropy_index_1', \n",
    "                    'rent_income_ratio_1']].rename(columns = {'entropy_index_1':'entropy_index',\n",
    "                                                    'rent_income_ratio_1':'rent_income_ratio'})\n",
    "df_rentburden_entropy_1['new_index'] = '1' + df_rentburden_entropy_9.index.astype(str) "
   ]
  },
  {
   "cell_type": "code",
   "execution_count": null,
   "metadata": {
    "collapsed": false
   },
   "outputs": [],
   "source": [
    "df_rentburden_entropy = pd.concat([df_rentburden_entropy_9, \n",
    "                        df_rentburden_entropy_0, df_rentburden_entropy_1 ], axis = 0)\n",
    "df_rentburden_entropy.head()"
   ]
  },
  {
   "cell_type": "code",
   "execution_count": null,
   "metadata": {
    "collapsed": false
   },
   "outputs": [],
   "source": [
    "df_rentburden_entropy.shape"
   ]
  },
  {
   "cell_type": "code",
   "execution_count": null,
   "metadata": {
    "collapsed": true
   },
   "outputs": [],
   "source": [
    "lm_rentburden_entropy = smf.ols('rent_income_ratio ~ entropy_index', df_rentburden_entropy).fit()"
   ]
  },
  {
   "cell_type": "code",
   "execution_count": null,
   "metadata": {
    "collapsed": false
   },
   "outputs": [],
   "source": [
    "lm_rentburden_entropy.summary()"
   ]
  },
  {
   "cell_type": "code",
   "execution_count": null,
   "metadata": {
    "collapsed": false
   },
   "outputs": [],
   "source": [
    "plt.figure(figsize = (8, 6))\n",
    "plt.scatter(df_rentburden_entropy.entropy_index, df_rentburden_entropy.rent_income_ratio)\n",
    "plt.plot(df_rentburden_entropy.entropy_index, lm_rentburden_entropy.predict(), c = 'r')\n",
    "plt.xlabel('PUMA entropy index', fontsize = 15)\n",
    "plt.ylabel('Ratio of income to rent', fontsize = 15)\n",
    "plt.title('Relationship between rent burden and income integration level in NYC PUMAs, 1990-2010',\n",
    "         fontsize = 15)\n",
    "\n",
    "print('Rent_growth_00to10 = {} + {} * PUMA_Entropy_Index_00, R-squared = {}'.format(\\\n",
    "                round(lm_rentburden_entropy.params[0],3), \n",
    "                round(lm_rentburden_entropy.params[1],3),\n",
    "                round(lm_rentburden_entropy.rsquared,3)))"
   ]
  },
  {
   "cell_type": "code",
   "execution_count": null,
   "metadata": {
    "collapsed": true
   },
   "outputs": [],
   "source": []
  },
  {
   "cell_type": "code",
   "execution_count": null,
   "metadata": {
    "collapsed": true
   },
   "outputs": [],
   "source": []
  },
  {
   "cell_type": "markdown",
   "metadata": {},
   "source": [
    "## 5) OLS regression between rent growth and entropy index, on PUMA level"
   ]
  },
  {
   "cell_type": "code",
   "execution_count": null,
   "metadata": {
    "collapsed": false
   },
   "outputs": [],
   "source": [
    "lm1_puma = smf.ols('rent_growth_90_00 ~ entropy_index_9', df_puma_entropy_rent).fit()\n",
    "lm2_puma = smf.ols('rent_growth_00_10 ~ entropy_index_0', df_puma_entropy_rent).fit()"
   ]
  },
  {
   "cell_type": "code",
   "execution_count": null,
   "metadata": {
    "collapsed": false
   },
   "outputs": [],
   "source": [
    "lm1_puma.summary()"
   ]
  },
  {
   "cell_type": "code",
   "execution_count": null,
   "metadata": {
    "collapsed": false
   },
   "outputs": [],
   "source": [
    "lm2_puma.summary()"
   ]
  },
  {
   "cell_type": "code",
   "execution_count": null,
   "metadata": {
    "collapsed": false
   },
   "outputs": [],
   "source": []
  },
  {
   "cell_type": "code",
   "execution_count": null,
   "metadata": {
    "collapsed": false
   },
   "outputs": [],
   "source": [
    "plt.figure(figsize = (8, 6))\n",
    "plt.scatter(df_puma_entropy_rent.entropy_index_0, df_puma_entropy_rent.rent_growth_00_10)\n",
    "plt.plot(df_puma_entropy_rent.entropy_index_0, lm2_puma.predict(), c = 'r')\n",
    "plt.xlabel('PUMA entropy index in 2000', fontsize = 15)\n",
    "plt.ylabel('Rent growth from 2000 to 2010', fontsize = 15)\n",
    "plt.title('Relationship between entropy index and rent growth of PUMAs in NYC, 2000-2010',\n",
    "         fontsize = 15)\n",
    "\n",
    "print('Rent_growth_00to10 = {} + {} * PUMA_Entropy_Index_00, R-squared = {}'.format(\\\n",
    "                round(lm2_puma.params[0],3), round(lm2_puma.params[1],3),round(lm2_puma.rsquared,3)))"
   ]
  },
  {
   "cell_type": "code",
   "execution_count": null,
   "metadata": {
    "collapsed": false
   },
   "outputs": [],
   "source": [
    "df2_puma2 = df2_puma[['median_inc_fam_9', 'median_inc_fam_0', 'median_inc_fam_1']]\n",
    "df2_puma2.head()"
   ]
  },
  {
   "cell_type": "code",
   "execution_count": null,
   "metadata": {
    "collapsed": true
   },
   "outputs": [],
   "source": [
    "def outlier(x):\n",
    "    outlier = np.mean(x) + 2 * np.std(x)\n",
    "    return outlier"
   ]
  },
  {
   "cell_type": "code",
   "execution_count": null,
   "metadata": {
    "collapsed": false
   },
   "outputs": [],
   "source": [
    "df_puma_rich = df_puma_entropy_rent[~((df_puma_median.median_inc_fam_9 < outlier(df_puma_median.median_inc_fam_9))&\\\n",
    "            (df_puma_median.median_inc_fam_0 < outlier(df_puma_median.median_inc_fam_0))&\\\n",
    "            (df_puma_median.median_inc_fam_0 < outlier(df_puma_median.median_inc_fam_0))).values]\n",
    "df_puma_rich"
   ]
  },
  {
   "cell_type": "code",
   "execution_count": null,
   "metadata": {
    "collapsed": false
   },
   "outputs": [],
   "source": [
    "df_puma_norich = df_puma_entropy_rent[((df_puma_median.median_inc_fam_9 < outlier(df_puma_median.median_inc_fam_9))&\\\n",
    "            (df_puma_median.median_inc_fam_0 < outlier(df_puma_median.median_inc_fam_0))&\\\n",
    "            (df_puma_median.median_inc_fam_0 < outlier(df_puma_median.median_inc_fam_0))).values]\n",
    "df_puma_norich.shape"
   ]
  },
  {
   "cell_type": "code",
   "execution_count": null,
   "metadata": {
    "collapsed": true
   },
   "outputs": [],
   "source": [
    "lm1_puma_norich = smf.ols('rent_growth_90_00 ~ entropy_index_9', df_puma_norich).fit()\n",
    "lm2_puma_norich = smf.ols('rent_growth_00_10 ~ entropy_index_0', df_puma_norich).fit()"
   ]
  },
  {
   "cell_type": "code",
   "execution_count": null,
   "metadata": {
    "collapsed": false
   },
   "outputs": [],
   "source": [
    "lm1_puma_norich.summary()"
   ]
  },
  {
   "cell_type": "code",
   "execution_count": null,
   "metadata": {
    "collapsed": false
   },
   "outputs": [],
   "source": [
    "lm2_puma_norich.summary()"
   ]
  },
  {
   "cell_type": "code",
   "execution_count": null,
   "metadata": {
    "collapsed": false,
    "scrolled": true
   },
   "outputs": [],
   "source": [
    "plt.figure(figsize = (8, 6))\n",
    "plt.scatter(df_puma_norich.entropy_index_9, df_puma_norich.rent_growth_90_00)\n",
    "plt.plot(df_puma_norich.entropy_index_9, lm1_puma_norich.predict(), c = 'r')\n",
    "plt.xlabel('PUMA entropy index in 1990', fontsize = 15)\n",
    "plt.ylabel('Rent growth from 1990 to 2000', fontsize = 15)\n",
    "plt.title('Relationship between entropy index and rent growth of PUMAs in NYC(wihout 4 richest PUMAs), 1990-2000',\n",
    "         fontsize = 15)\n",
    "\n",
    "print('Rent_growth_90to00 = {} + {} * PUMA_Entropy_Index_90, R-squared = {}'.format(\\\n",
    "                round(lm1_puma_norich.params[0],3), round(lm1_puma_norich.params[1],3),\n",
    "                                            round(lm1_puma_norich.rsquared,3)))"
   ]
  },
  {
   "cell_type": "code",
   "execution_count": null,
   "metadata": {
    "collapsed": true
   },
   "outputs": [],
   "source": []
  }
 ],
 "metadata": {
  "kernelspec": {
   "display_name": "Python 3",
   "language": "python",
   "name": "python3"
  },
  "language_info": {
   "codemirror_mode": {
    "name": "ipython",
    "version": 3
   },
   "file_extension": ".py",
   "mimetype": "text/x-python",
   "name": "python",
   "nbconvert_exporter": "python",
   "pygments_lexer": "ipython3",
   "version": "3.6.0"
  }
 },
 "nbformat": 4,
 "nbformat_minor": 2
}
