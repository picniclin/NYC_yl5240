{
 "cells": [
  {
   "cell_type": "code",
   "execution_count": 1,
   "metadata": {
    "collapsed": true
   },
   "outputs": [],
   "source": [
    "import pandas as pd\n",
    "import numpy as np\n",
    "import matplotlib.pylab as plt\n",
    "%matplotlib inline\n",
    "import statsmodels.formula.api as smf"
   ]
  },
  {
   "cell_type": "markdown",
   "metadata": {},
   "source": [
    "## download the dataset from:\n",
    " https://github.com/picniclin/NYC_yl5240/blob/master/geolytics_NYC_census_1990-2010.csv\n",
    "\n",
    "or\n",
    "\n",
    "https://drive.google.com/a/nyu.edu/file/d/0B2HY61hRpF-jV21KSTVsbi1wS3M/view?usp=sharing"
   ]
  },
  {
   "cell_type": "markdown",
   "metadata": {},
   "source": [
    "# To measure the relationship between the change of housing rent price and entropy index of income_level groups"
   ]
  },
  {
   "cell_type": "markdown",
   "metadata": {},
   "source": [
    "# 1.Data acquisition and cleaning"
   ]
  },
  {
   "cell_type": "code",
   "execution_count": 2,
   "metadata": {
    "collapsed": false
   },
   "outputs": [],
   "source": [
    "df = pd.read_csv('/Users/apple/Downloads/geolytics_NYC_census_1990-2010.csv')"
   ]
  },
  {
   "cell_type": "code",
   "execution_count": 3,
   "metadata": {
    "collapsed": false
   },
   "outputs": [
    {
     "data": {
      "text/plain": [
       "(2168, 146)"
      ]
     },
     "execution_count": 3,
     "metadata": {},
     "output_type": "execute_result"
    }
   ],
   "source": [
    "df.shape"
   ]
  },
  {
   "cell_type": "code",
   "execution_count": 4,
   "metadata": {
    "collapsed": false
   },
   "outputs": [
    {
     "data": {
      "text/plain": [
       "Index(['AREAKEY', 'STATE', 'STUSAB', 'INTPTLAT', 'INTPTLON', 'TCH_90_10',\n",
       "       'TCH_00_10', 'ZCTA5', 'TRCTPOP9', 'POVRAT9N',\n",
       "       ...\n",
       "       'THY01001A', 'THY01251A', 'THY01501A', 'THY02001A', 'THY0M201A',\n",
       "       'MDHHY1A', 'MDVALHS1A', 'MCSMORT1A', 'MCSNMOR1A', 'MDGRENT1A'],\n",
       "      dtype='object', length=146)"
      ]
     },
     "execution_count": 4,
     "metadata": {},
     "output_type": "execute_result"
    }
   ],
   "source": [
    "df.columns"
   ]
  },
  {
   "cell_type": "code",
   "execution_count": 5,
   "metadata": {
    "collapsed": false,
    "scrolled": true
   },
   "outputs": [
    {
     "data": {
      "text/html": [
       "<div>\n",
       "<table border=\"1\" class=\"dataframe\">\n",
       "  <thead>\n",
       "    <tr style=\"text-align: right;\">\n",
       "      <th></th>\n",
       "      <th>AREAKEY</th>\n",
       "      <th>STATE</th>\n",
       "      <th>STUSAB</th>\n",
       "      <th>INTPTLAT</th>\n",
       "      <th>INTPTLON</th>\n",
       "      <th>TCH_90_10</th>\n",
       "      <th>TCH_00_10</th>\n",
       "      <th>ZCTA5</th>\n",
       "      <th>TRCTPOP9</th>\n",
       "      <th>POVRAT9N</th>\n",
       "      <th>...</th>\n",
       "      <th>THY01001A</th>\n",
       "      <th>THY01251A</th>\n",
       "      <th>THY01501A</th>\n",
       "      <th>THY02001A</th>\n",
       "      <th>THY0M201A</th>\n",
       "      <th>MDHHY1A</th>\n",
       "      <th>MDVALHS1A</th>\n",
       "      <th>MCSMORT1A</th>\n",
       "      <th>MCSNMOR1A</th>\n",
       "      <th>MDGRENT1A</th>\n",
       "    </tr>\n",
       "  </thead>\n",
       "  <tbody>\n",
       "    <tr>\n",
       "      <th>0</th>\n",
       "      <td>36005000100</td>\n",
       "      <td>36</td>\n",
       "      <td>NY</td>\n",
       "      <td>40.793492</td>\n",
       "      <td>-73.883532</td>\n",
       "      <td>0</td>\n",
       "      <td>0</td>\n",
       "      <td>11370.0</td>\n",
       "      <td>14303</td>\n",
       "      <td>0</td>\n",
       "      <td>...</td>\n",
       "      <td>0</td>\n",
       "      <td>0</td>\n",
       "      <td>0</td>\n",
       "      <td>0</td>\n",
       "      <td>0</td>\n",
       "      <td>0</td>\n",
       "      <td>0</td>\n",
       "      <td>0</td>\n",
       "      <td>0</td>\n",
       "      <td>0</td>\n",
       "    </tr>\n",
       "    <tr>\n",
       "      <th>1</th>\n",
       "      <td>36005000200</td>\n",
       "      <td>36</td>\n",
       "      <td>NY</td>\n",
       "      <td>40.804573</td>\n",
       "      <td>-73.856859</td>\n",
       "      <td>3</td>\n",
       "      <td>3</td>\n",
       "      <td>10473.0</td>\n",
       "      <td>2907</td>\n",
       "      <td>411</td>\n",
       "      <td>...</td>\n",
       "      <td>152</td>\n",
       "      <td>203</td>\n",
       "      <td>48</td>\n",
       "      <td>68</td>\n",
       "      <td>11</td>\n",
       "      <td>59826</td>\n",
       "      <td>392500</td>\n",
       "      <td>2661</td>\n",
       "      <td>650</td>\n",
       "      <td>1273</td>\n",
       "    </tr>\n",
       "    <tr>\n",
       "      <th>2</th>\n",
       "      <td>36005000400</td>\n",
       "      <td>36</td>\n",
       "      <td>NY</td>\n",
       "      <td>40.808915</td>\n",
       "      <td>-73.850488</td>\n",
       "      <td>4</td>\n",
       "      <td>4</td>\n",
       "      <td>10473.0</td>\n",
       "      <td>2260</td>\n",
       "      <td>225</td>\n",
       "      <td>...</td>\n",
       "      <td>255</td>\n",
       "      <td>97</td>\n",
       "      <td>161</td>\n",
       "      <td>96</td>\n",
       "      <td>73</td>\n",
       "      <td>71968</td>\n",
       "      <td>393700</td>\n",
       "      <td>2206</td>\n",
       "      <td>679</td>\n",
       "      <td>1330</td>\n",
       "    </tr>\n",
       "    <tr>\n",
       "      <th>3</th>\n",
       "      <td>36005001600</td>\n",
       "      <td>36</td>\n",
       "      <td>NY</td>\n",
       "      <td>40.818848</td>\n",
       "      <td>-73.858076</td>\n",
       "      <td>0</td>\n",
       "      <td>0</td>\n",
       "      <td>10473.0</td>\n",
       "      <td>5254</td>\n",
       "      <td>893</td>\n",
       "      <td>...</td>\n",
       "      <td>171</td>\n",
       "      <td>20</td>\n",
       "      <td>38</td>\n",
       "      <td>20</td>\n",
       "      <td>0</td>\n",
       "      <td>30355</td>\n",
       "      <td>378100</td>\n",
       "      <td>2500</td>\n",
       "      <td>649</td>\n",
       "      <td>823</td>\n",
       "    </tr>\n",
       "    <tr>\n",
       "      <th>4</th>\n",
       "      <td>36005001900</td>\n",
       "      <td>36</td>\n",
       "      <td>NY</td>\n",
       "      <td>40.800999</td>\n",
       "      <td>-73.909373</td>\n",
       "      <td>4</td>\n",
       "      <td>4</td>\n",
       "      <td>10454.0</td>\n",
       "      <td>1575</td>\n",
       "      <td>797</td>\n",
       "      <td>...</td>\n",
       "      <td>14</td>\n",
       "      <td>19</td>\n",
       "      <td>21</td>\n",
       "      <td>0</td>\n",
       "      <td>0</td>\n",
       "      <td>25093</td>\n",
       "      <td>0</td>\n",
       "      <td>0</td>\n",
       "      <td>539</td>\n",
       "      <td>870</td>\n",
       "    </tr>\n",
       "  </tbody>\n",
       "</table>\n",
       "<p>5 rows × 146 columns</p>\n",
       "</div>"
      ],
      "text/plain": [
       "       AREAKEY  STATE STUSAB   INTPTLAT   INTPTLON  TCH_90_10  TCH_00_10  \\\n",
       "0  36005000100     36     NY  40.793492 -73.883532          0          0   \n",
       "1  36005000200     36     NY  40.804573 -73.856859          3          3   \n",
       "2  36005000400     36     NY  40.808915 -73.850488          4          4   \n",
       "3  36005001600     36     NY  40.818848 -73.858076          0          0   \n",
       "4  36005001900     36     NY  40.800999 -73.909373          4          4   \n",
       "\n",
       "     ZCTA5  TRCTPOP9  POVRAT9N    ...      THY01001A  THY01251A  THY01501A  \\\n",
       "0  11370.0     14303         0    ...              0          0          0   \n",
       "1  10473.0      2907       411    ...            152        203         48   \n",
       "2  10473.0      2260       225    ...            255         97        161   \n",
       "3  10473.0      5254       893    ...            171         20         38   \n",
       "4  10454.0      1575       797    ...             14         19         21   \n",
       "\n",
       "   THY02001A  THY0M201A  MDHHY1A  MDVALHS1A  MCSMORT1A  MCSNMOR1A  MDGRENT1A  \n",
       "0          0          0        0          0          0          0          0  \n",
       "1         68         11    59826     392500       2661        650       1273  \n",
       "2         96         73    71968     393700       2206        679       1330  \n",
       "3         20          0    30355     378100       2500        649        823  \n",
       "4          0          0    25093          0          0        539        870  \n",
       "\n",
       "[5 rows x 146 columns]"
      ]
     },
     "execution_count": 5,
     "metadata": {},
     "output_type": "execute_result"
    }
   ],
   "source": [
    "df.head()"
   ]
  },
  {
   "cell_type": "markdown",
   "metadata": {},
   "source": [
    "## make the column names readable"
   ]
  },
  {
   "cell_type": "code",
   "execution_count": 6,
   "metadata": {
    "collapsed": false
   },
   "outputs": [
    {
     "data": {
      "text/plain": [
       "Index(['AREAKEY', 'STATE', 'STUSAB', 'INTPTLAT', 'INTPTLON', 'TCH_90_10',\n",
       "       'TCH_00_10', 'ZCTA5', 'pop9', 'poverty9N',\n",
       "       ...\n",
       "       'hh_inc_1001', 'hh_inc_1251', 'hh_inc_1501', 'hh_inc_2001',\n",
       "       'hh_inc_max_201', 'median_inc_hh_1', 'median_house_value_1',\n",
       "       'owner_cost_mo_1', 'owner_cost_no_mo_1', 'median_rent_1'],\n",
       "      dtype='object', length=146)"
      ]
     },
     "execution_count": 6,
     "metadata": {},
     "output_type": "execute_result"
    }
   ],
   "source": [
    "cols = df.columns.str.replace('TRCTPOP', 'pop')\\\n",
    "            .str.replace('MDFAMY','median_inc_fam_')\\\n",
    "            .str.replace('FAVINC', 'ave_inc_fam_')\\\n",
    "            .str.replace('MDHHY', 'median_inc_hh_')\\\n",
    "            .str.replace('AVHHIN', 'ave_inc_hh_')\\\n",
    "            .str.replace('FALTY', 'fam_inc_')\\\n",
    "            .str.replace('FALT', 'fam_inc_')\\\n",
    "            .str.replace('MXB', 'max_')\\\n",
    "            .str.replace('FAY0', 'fam_inc_')\\\n",
    "            .str.replace('fam_inc_M', 'fam_inc_max_')\\\n",
    "            .str.replace('THY0', 'hh_inc_' )\\\n",
    "            .str.replace('hh_inc_M', 'hh_inc_max_')\\\n",
    "            .str.replace('MDVALHS','median_house_value_')\\\n",
    "            .str.replace('MDGRENT', 'median_rent_' )\\\n",
    "            .str.replace('MCSMORT', 'owner_cost_mo_' )\\\n",
    "            .str.replace('MCSNMOR', 'owner_cost_no_mo_' )\\\n",
    "            .str.replace('OCCHU', 'occ_')\\\n",
    "            .str.replace('VACHU', 'vacant_')\\\n",
    "            .str.replace('RNTOCC','renter_occ_')\\\n",
    "            .str.replace('OWNOCC', 'owner_occ_')\\\n",
    "            .str.replace('SPRNTOC', 'spec_renter_occ_')\\\n",
    "            .str.replace('SPOWNOC', 'spec_owner_occ_')\\\n",
    "            .str.replace('PRSOCU', 'person_occ_')\\\n",
    "            .str.replace('PRSOWNU', 'person_owner_occ_')\\\n",
    "            .str.replace('PRSRNTU', 'person_renter_occ_')\\\n",
    "            .str.replace('POVRAT','poverty')\\\n",
    "            .str.replace('1A', '1')\\\n",
    "            .str.replace('9A', '9')\n",
    "            \n",
    "cols"
   ]
  },
  {
   "cell_type": "code",
   "execution_count": 7,
   "metadata": {
    "collapsed": false
   },
   "outputs": [
    {
     "data": {
      "text/plain": [
       "Index(['census_tract_id', 'state', 'abb.', 'lat', 'lon', 'tract_change_90',\n",
       "       'tract_change_00', 'ZCTA5', 'pop9', 'poverty9N',\n",
       "       ...\n",
       "       'hh_inc_1001', 'hh_inc_1251', 'hh_inc_1501', 'hh_inc_2001',\n",
       "       'hh_inc_max_201', 'median_inc_hh_1', 'median_house_value_1',\n",
       "       'owner_cost_mo_1', 'owner_cost_no_mo_1', 'median_rent_1'],\n",
       "      dtype='object', length=146)"
      ]
     },
     "execution_count": 7,
     "metadata": {},
     "output_type": "execute_result"
    }
   ],
   "source": [
    "df.columns = cols\n",
    "\n",
    "df.rename(columns = {'AREAKEY' : 'census_tract_id',\n",
    "                     'STATE':'state','STUSAB':'abb.',\n",
    "                     'TCH_90_10':'tract_change_90', 'TCH_00_10':'tract_change_00',\n",
    "                    'INTPTLAT':'lat', 'INTPTLON':'lon'}, inplace = True)\n",
    "df.columns"
   ]
  },
  {
   "cell_type": "code",
   "execution_count": 8,
   "metadata": {
    "collapsed": false
   },
   "outputs": [
    {
     "data": {
      "text/plain": [
       "(2157, 146)"
      ]
     },
     "execution_count": 8,
     "metadata": {},
     "output_type": "execute_result"
    }
   ],
   "source": [
    "df = df.dropna()\n",
    "df.ZCTA5 = df.ZCTA5.astype('int')\n",
    "df.shape"
   ]
  },
  {
   "cell_type": "code",
   "execution_count": 9,
   "metadata": {
    "collapsed": false
   },
   "outputs": [
    {
     "data": {
      "text/plain": [
       "(2089, 146)"
      ]
     },
     "execution_count": 9,
     "metadata": {},
     "output_type": "execute_result"
    }
   ],
   "source": [
    "## delete the observation, i.e. census tract, with 0 median rent or 0 median families income\n",
    "df = df[~((df.median_rent_0 == 0)| (df.median_rent_9 == 0)|(df.median_rent_1 == 0)|\\\n",
    "         (df.median_inc_fam_9 == 0)| (df.median_inc_fam_9 == 0)|(df.median_inc_fam_1 == 0))]\n",
    "df.shape"
   ]
  },
  {
   "cell_type": "code",
   "execution_count": 10,
   "metadata": {
    "collapsed": false
   },
   "outputs": [],
   "source": [
    "df.census_tract_id = df.census_tract_id.apply(lambda x : str(x)[-6:])"
   ]
  },
  {
   "cell_type": "code",
   "execution_count": 11,
   "metadata": {
    "collapsed": false
   },
   "outputs": [
    {
     "data": {
      "text/html": [
       "<div>\n",
       "<table border=\"1\" class=\"dataframe\">\n",
       "  <thead>\n",
       "    <tr style=\"text-align: right;\">\n",
       "      <th></th>\n",
       "      <th>census_tract_id</th>\n",
       "      <th>state</th>\n",
       "      <th>abb.</th>\n",
       "      <th>lat</th>\n",
       "      <th>lon</th>\n",
       "      <th>tract_change_90</th>\n",
       "      <th>tract_change_00</th>\n",
       "      <th>ZCTA5</th>\n",
       "      <th>pop9</th>\n",
       "      <th>poverty9N</th>\n",
       "      <th>...</th>\n",
       "      <th>hh_inc_1001</th>\n",
       "      <th>hh_inc_1251</th>\n",
       "      <th>hh_inc_1501</th>\n",
       "      <th>hh_inc_2001</th>\n",
       "      <th>hh_inc_max_201</th>\n",
       "      <th>median_inc_hh_1</th>\n",
       "      <th>median_house_value_1</th>\n",
       "      <th>owner_cost_mo_1</th>\n",
       "      <th>owner_cost_no_mo_1</th>\n",
       "      <th>median_rent_1</th>\n",
       "    </tr>\n",
       "  </thead>\n",
       "  <tbody>\n",
       "    <tr>\n",
       "      <th>1</th>\n",
       "      <td>000200</td>\n",
       "      <td>36</td>\n",
       "      <td>NY</td>\n",
       "      <td>40.804573</td>\n",
       "      <td>-73.856859</td>\n",
       "      <td>3</td>\n",
       "      <td>3</td>\n",
       "      <td>10473</td>\n",
       "      <td>2907</td>\n",
       "      <td>411</td>\n",
       "      <td>...</td>\n",
       "      <td>152</td>\n",
       "      <td>203</td>\n",
       "      <td>48</td>\n",
       "      <td>68</td>\n",
       "      <td>11</td>\n",
       "      <td>59826</td>\n",
       "      <td>392500</td>\n",
       "      <td>2661</td>\n",
       "      <td>650</td>\n",
       "      <td>1273</td>\n",
       "    </tr>\n",
       "    <tr>\n",
       "      <th>2</th>\n",
       "      <td>000400</td>\n",
       "      <td>36</td>\n",
       "      <td>NY</td>\n",
       "      <td>40.808915</td>\n",
       "      <td>-73.850488</td>\n",
       "      <td>4</td>\n",
       "      <td>4</td>\n",
       "      <td>10473</td>\n",
       "      <td>2260</td>\n",
       "      <td>225</td>\n",
       "      <td>...</td>\n",
       "      <td>255</td>\n",
       "      <td>97</td>\n",
       "      <td>161</td>\n",
       "      <td>96</td>\n",
       "      <td>73</td>\n",
       "      <td>71968</td>\n",
       "      <td>393700</td>\n",
       "      <td>2206</td>\n",
       "      <td>679</td>\n",
       "      <td>1330</td>\n",
       "    </tr>\n",
       "    <tr>\n",
       "      <th>3</th>\n",
       "      <td>001600</td>\n",
       "      <td>36</td>\n",
       "      <td>NY</td>\n",
       "      <td>40.818848</td>\n",
       "      <td>-73.858076</td>\n",
       "      <td>0</td>\n",
       "      <td>0</td>\n",
       "      <td>10473</td>\n",
       "      <td>5254</td>\n",
       "      <td>893</td>\n",
       "      <td>...</td>\n",
       "      <td>171</td>\n",
       "      <td>20</td>\n",
       "      <td>38</td>\n",
       "      <td>20</td>\n",
       "      <td>0</td>\n",
       "      <td>30355</td>\n",
       "      <td>378100</td>\n",
       "      <td>2500</td>\n",
       "      <td>649</td>\n",
       "      <td>823</td>\n",
       "    </tr>\n",
       "    <tr>\n",
       "      <th>4</th>\n",
       "      <td>001900</td>\n",
       "      <td>36</td>\n",
       "      <td>NY</td>\n",
       "      <td>40.800999</td>\n",
       "      <td>-73.909373</td>\n",
       "      <td>4</td>\n",
       "      <td>4</td>\n",
       "      <td>10454</td>\n",
       "      <td>1575</td>\n",
       "      <td>797</td>\n",
       "      <td>...</td>\n",
       "      <td>14</td>\n",
       "      <td>19</td>\n",
       "      <td>21</td>\n",
       "      <td>0</td>\n",
       "      <td>0</td>\n",
       "      <td>25093</td>\n",
       "      <td>0</td>\n",
       "      <td>0</td>\n",
       "      <td>539</td>\n",
       "      <td>870</td>\n",
       "    </tr>\n",
       "    <tr>\n",
       "      <th>5</th>\n",
       "      <td>002000</td>\n",
       "      <td>36</td>\n",
       "      <td>NY</td>\n",
       "      <td>40.817580</td>\n",
       "      <td>-73.866096</td>\n",
       "      <td>0</td>\n",
       "      <td>0</td>\n",
       "      <td>10473</td>\n",
       "      <td>9110</td>\n",
       "      <td>3423</td>\n",
       "      <td>...</td>\n",
       "      <td>180</td>\n",
       "      <td>161</td>\n",
       "      <td>0</td>\n",
       "      <td>45</td>\n",
       "      <td>12</td>\n",
       "      <td>24939</td>\n",
       "      <td>398100</td>\n",
       "      <td>2185</td>\n",
       "      <td>715</td>\n",
       "      <td>455</td>\n",
       "    </tr>\n",
       "  </tbody>\n",
       "</table>\n",
       "<p>5 rows × 146 columns</p>\n",
       "</div>"
      ],
      "text/plain": [
       "  census_tract_id  state abb.        lat        lon  tract_change_90  \\\n",
       "1          000200     36   NY  40.804573 -73.856859                3   \n",
       "2          000400     36   NY  40.808915 -73.850488                4   \n",
       "3          001600     36   NY  40.818848 -73.858076                0   \n",
       "4          001900     36   NY  40.800999 -73.909373                4   \n",
       "5          002000     36   NY  40.817580 -73.866096                0   \n",
       "\n",
       "   tract_change_00  ZCTA5  pop9  poverty9N      ...        hh_inc_1001  \\\n",
       "1                3  10473  2907        411      ...                152   \n",
       "2                4  10473  2260        225      ...                255   \n",
       "3                0  10473  5254        893      ...                171   \n",
       "4                4  10454  1575        797      ...                 14   \n",
       "5                0  10473  9110       3423      ...                180   \n",
       "\n",
       "   hh_inc_1251  hh_inc_1501  hh_inc_2001  hh_inc_max_201  median_inc_hh_1  \\\n",
       "1          203           48           68              11            59826   \n",
       "2           97          161           96              73            71968   \n",
       "3           20           38           20               0            30355   \n",
       "4           19           21            0               0            25093   \n",
       "5          161            0           45              12            24939   \n",
       "\n",
       "   median_house_value_1  owner_cost_mo_1  owner_cost_no_mo_1  median_rent_1  \n",
       "1                392500             2661                 650           1273  \n",
       "2                393700             2206                 679           1330  \n",
       "3                378100             2500                 649            823  \n",
       "4                     0                0                 539            870  \n",
       "5                398100             2185                 715            455  \n",
       "\n",
       "[5 rows x 146 columns]"
      ]
     },
     "execution_count": 11,
     "metadata": {},
     "output_type": "execute_result"
    }
   ],
   "source": [
    "df.head()"
   ]
  },
  {
   "cell_type": "markdown",
   "metadata": {},
   "source": [
    "## Add the PUMA, NAT information for each census tract\n",
    "#### the CensusTract/NTA/PUMA Equivalencies table could be found on this [link](https://www1.nyc.gov/site/planning/data-maps/nyc-population/geographic-reference.page)\n",
    " the downloaded linkage is https://www1.nyc.gov/assets/planning/download/office/data-maps/nyc-population/census2010/nyc2010census_tabulation_equiv.xlsx\n"
   ]
  },
  {
   "cell_type": "code",
   "execution_count": 12,
   "metadata": {
    "collapsed": true
   },
   "outputs": [],
   "source": [
    "df_census = pd.read_csv('/Users/apple/Desktop/CUSP/Civic/problem_set_2/data/2010CensusTract_PUMA_NTA.csv')"
   ]
  },
  {
   "cell_type": "code",
   "execution_count": 13,
   "metadata": {
    "collapsed": false
   },
   "outputs": [
    {
     "data": {
      "text/html": [
       "<div>\n",
       "<table border=\"1\" class=\"dataframe\">\n",
       "  <thead>\n",
       "    <tr style=\"text-align: right;\">\n",
       "      <th></th>\n",
       "      <th>Borough</th>\n",
       "      <th>2010CensusTract</th>\n",
       "      <th>PUMA</th>\n",
       "      <th>NTA_Code</th>\n",
       "      <th>NTA_Name</th>\n",
       "    </tr>\n",
       "  </thead>\n",
       "  <tbody>\n",
       "    <tr>\n",
       "      <th>0</th>\n",
       "      <td>Bronx</td>\n",
       "      <td>31000</td>\n",
       "      <td>3704</td>\n",
       "      <td>BX31</td>\n",
       "      <td>Allerton-Pelham Gardens</td>\n",
       "    </tr>\n",
       "    <tr>\n",
       "      <th>1</th>\n",
       "      <td>Bronx</td>\n",
       "      <td>31200</td>\n",
       "      <td>3704</td>\n",
       "      <td>BX31</td>\n",
       "      <td>Allerton-Pelham Gardens</td>\n",
       "    </tr>\n",
       "    <tr>\n",
       "      <th>2</th>\n",
       "      <td>Bronx</td>\n",
       "      <td>31400</td>\n",
       "      <td>3704</td>\n",
       "      <td>BX31</td>\n",
       "      <td>Allerton-Pelham Gardens</td>\n",
       "    </tr>\n",
       "    <tr>\n",
       "      <th>3</th>\n",
       "      <td>Bronx</td>\n",
       "      <td>31600</td>\n",
       "      <td>3704</td>\n",
       "      <td>BX31</td>\n",
       "      <td>Allerton-Pelham Gardens</td>\n",
       "    </tr>\n",
       "    <tr>\n",
       "      <th>4</th>\n",
       "      <td>Bronx</td>\n",
       "      <td>31800</td>\n",
       "      <td>3704</td>\n",
       "      <td>BX31</td>\n",
       "      <td>Allerton-Pelham Gardens</td>\n",
       "    </tr>\n",
       "  </tbody>\n",
       "</table>\n",
       "</div>"
      ],
      "text/plain": [
       "  Borough  2010CensusTract  PUMA NTA_Code                 NTA_Name\n",
       "0   Bronx            31000  3704     BX31  Allerton-Pelham Gardens\n",
       "1   Bronx            31200  3704     BX31  Allerton-Pelham Gardens\n",
       "2   Bronx            31400  3704     BX31  Allerton-Pelham Gardens\n",
       "3   Bronx            31600  3704     BX31  Allerton-Pelham Gardens\n",
       "4   Bronx            31800  3704     BX31  Allerton-Pelham Gardens"
      ]
     },
     "execution_count": 13,
     "metadata": {},
     "output_type": "execute_result"
    }
   ],
   "source": [
    "df_census.head()"
   ]
  },
  {
   "cell_type": "code",
   "execution_count": 14,
   "metadata": {
    "collapsed": false
   },
   "outputs": [
    {
     "data": {
      "text/plain": [
       "(2168, 5)"
      ]
     },
     "execution_count": 14,
     "metadata": {},
     "output_type": "execute_result"
    }
   ],
   "source": [
    "df_census.shape"
   ]
  },
  {
   "cell_type": "code",
   "execution_count": 15,
   "metadata": {
    "collapsed": true
   },
   "outputs": [],
   "source": [
    "df_census.rename(columns = { '2010CensusTract':'census_tract_id'}, inplace = True)\n",
    "df_census.census_tract_id = df_census.census_tract_id.apply(lambda x : str(x).zfill(6))"
   ]
  },
  {
   "cell_type": "code",
   "execution_count": 16,
   "metadata": {
    "collapsed": false
   },
   "outputs": [
    {
     "data": {
      "text/plain": [
       "(0, 32, 1303)"
      ]
     },
     "execution_count": 16,
     "metadata": {},
     "output_type": "execute_result"
    }
   ],
   "source": [
    "len(set(df['census_tract_id']) - set(df_census['census_tract_id'])), \\\n",
    "len(set(df_census['census_tract_id']) - set(df['census_tract_id']) ), \\\n",
    "len(set(df['census_tract_id']))"
   ]
  },
  {
   "cell_type": "code",
   "execution_count": 17,
   "metadata": {
    "collapsed": false
   },
   "outputs": [
    {
     "data": {
      "text/html": [
       "<div>\n",
       "<table border=\"1\" class=\"dataframe\">\n",
       "  <thead>\n",
       "    <tr style=\"text-align: right;\">\n",
       "      <th></th>\n",
       "      <th>census_tract_id</th>\n",
       "      <th>state</th>\n",
       "      <th>abb.</th>\n",
       "      <th>lat</th>\n",
       "      <th>lon</th>\n",
       "      <th>tract_change_90</th>\n",
       "      <th>tract_change_00</th>\n",
       "      <th>ZCTA5</th>\n",
       "      <th>pop9</th>\n",
       "      <th>poverty9N</th>\n",
       "      <th>...</th>\n",
       "      <th>hh_inc_max_201</th>\n",
       "      <th>median_inc_hh_1</th>\n",
       "      <th>median_house_value_1</th>\n",
       "      <th>owner_cost_mo_1</th>\n",
       "      <th>owner_cost_no_mo_1</th>\n",
       "      <th>median_rent_1</th>\n",
       "      <th>Borough</th>\n",
       "      <th>PUMA</th>\n",
       "      <th>NTA_Code</th>\n",
       "      <th>NTA_Name</th>\n",
       "    </tr>\n",
       "  </thead>\n",
       "  <tbody>\n",
       "    <tr>\n",
       "      <th>0</th>\n",
       "      <td>000200</td>\n",
       "      <td>36</td>\n",
       "      <td>NY</td>\n",
       "      <td>40.804573</td>\n",
       "      <td>-73.856859</td>\n",
       "      <td>3</td>\n",
       "      <td>3</td>\n",
       "      <td>10473</td>\n",
       "      <td>2907</td>\n",
       "      <td>411</td>\n",
       "      <td>...</td>\n",
       "      <td>11</td>\n",
       "      <td>59826</td>\n",
       "      <td>392500</td>\n",
       "      <td>2661</td>\n",
       "      <td>650</td>\n",
       "      <td>1273</td>\n",
       "      <td>Bronx</td>\n",
       "      <td>3709</td>\n",
       "      <td>BX09</td>\n",
       "      <td>Soundview-Castle Hill-Clason Point-Harding Park</td>\n",
       "    </tr>\n",
       "    <tr>\n",
       "      <th>1</th>\n",
       "      <td>000200</td>\n",
       "      <td>36</td>\n",
       "      <td>NY</td>\n",
       "      <td>40.804573</td>\n",
       "      <td>-73.856859</td>\n",
       "      <td>3</td>\n",
       "      <td>3</td>\n",
       "      <td>10473</td>\n",
       "      <td>2907</td>\n",
       "      <td>411</td>\n",
       "      <td>...</td>\n",
       "      <td>11</td>\n",
       "      <td>59826</td>\n",
       "      <td>392500</td>\n",
       "      <td>2661</td>\n",
       "      <td>650</td>\n",
       "      <td>1273</td>\n",
       "      <td>Brooklyn</td>\n",
       "      <td>4012</td>\n",
       "      <td>BK32</td>\n",
       "      <td>Sunset Park West</td>\n",
       "    </tr>\n",
       "    <tr>\n",
       "      <th>2</th>\n",
       "      <td>000200</td>\n",
       "      <td>36</td>\n",
       "      <td>NY</td>\n",
       "      <td>40.804573</td>\n",
       "      <td>-73.856859</td>\n",
       "      <td>3</td>\n",
       "      <td>3</td>\n",
       "      <td>10473</td>\n",
       "      <td>2907</td>\n",
       "      <td>411</td>\n",
       "      <td>...</td>\n",
       "      <td>11</td>\n",
       "      <td>59826</td>\n",
       "      <td>392500</td>\n",
       "      <td>2661</td>\n",
       "      <td>650</td>\n",
       "      <td>1273</td>\n",
       "      <td>Queens</td>\n",
       "      <td>4111</td>\n",
       "      <td>QN53</td>\n",
       "      <td>Woodhaven</td>\n",
       "    </tr>\n",
       "    <tr>\n",
       "      <th>3</th>\n",
       "      <td>000200</td>\n",
       "      <td>36</td>\n",
       "      <td>NY</td>\n",
       "      <td>40.653213</td>\n",
       "      <td>-74.010971</td>\n",
       "      <td>0</td>\n",
       "      <td>0</td>\n",
       "      <td>11232</td>\n",
       "      <td>1019</td>\n",
       "      <td>531</td>\n",
       "      <td>...</td>\n",
       "      <td>0</td>\n",
       "      <td>54688</td>\n",
       "      <td>481500</td>\n",
       "      <td>3315</td>\n",
       "      <td>572</td>\n",
       "      <td>700</td>\n",
       "      <td>Bronx</td>\n",
       "      <td>3709</td>\n",
       "      <td>BX09</td>\n",
       "      <td>Soundview-Castle Hill-Clason Point-Harding Park</td>\n",
       "    </tr>\n",
       "    <tr>\n",
       "      <th>4</th>\n",
       "      <td>000200</td>\n",
       "      <td>36</td>\n",
       "      <td>NY</td>\n",
       "      <td>40.653213</td>\n",
       "      <td>-74.010971</td>\n",
       "      <td>0</td>\n",
       "      <td>0</td>\n",
       "      <td>11232</td>\n",
       "      <td>1019</td>\n",
       "      <td>531</td>\n",
       "      <td>...</td>\n",
       "      <td>0</td>\n",
       "      <td>54688</td>\n",
       "      <td>481500</td>\n",
       "      <td>3315</td>\n",
       "      <td>572</td>\n",
       "      <td>700</td>\n",
       "      <td>Brooklyn</td>\n",
       "      <td>4012</td>\n",
       "      <td>BK32</td>\n",
       "      <td>Sunset Park West</td>\n",
       "    </tr>\n",
       "  </tbody>\n",
       "</table>\n",
       "<p>5 rows × 150 columns</p>\n",
       "</div>"
      ],
      "text/plain": [
       "  census_tract_id  state abb.        lat        lon  tract_change_90  \\\n",
       "0          000200     36   NY  40.804573 -73.856859                3   \n",
       "1          000200     36   NY  40.804573 -73.856859                3   \n",
       "2          000200     36   NY  40.804573 -73.856859                3   \n",
       "3          000200     36   NY  40.653213 -74.010971                0   \n",
       "4          000200     36   NY  40.653213 -74.010971                0   \n",
       "\n",
       "   tract_change_00  ZCTA5  pop9  poverty9N  \\\n",
       "0                3  10473  2907        411   \n",
       "1                3  10473  2907        411   \n",
       "2                3  10473  2907        411   \n",
       "3                0  11232  1019        531   \n",
       "4                0  11232  1019        531   \n",
       "\n",
       "                        ...                         hh_inc_max_201  \\\n",
       "0                       ...                                     11   \n",
       "1                       ...                                     11   \n",
       "2                       ...                                     11   \n",
       "3                       ...                                      0   \n",
       "4                       ...                                      0   \n",
       "\n",
       "   median_inc_hh_1  median_house_value_1  owner_cost_mo_1  owner_cost_no_mo_1  \\\n",
       "0            59826                392500             2661                 650   \n",
       "1            59826                392500             2661                 650   \n",
       "2            59826                392500             2661                 650   \n",
       "3            54688                481500             3315                 572   \n",
       "4            54688                481500             3315                 572   \n",
       "\n",
       "   median_rent_1   Borough  PUMA  NTA_Code  \\\n",
       "0           1273     Bronx  3709      BX09   \n",
       "1           1273  Brooklyn  4012      BK32   \n",
       "2           1273    Queens  4111      QN53   \n",
       "3            700     Bronx  3709      BX09   \n",
       "4            700  Brooklyn  4012      BK32   \n",
       "\n",
       "                                          NTA_Name  \n",
       "0  Soundview-Castle Hill-Clason Point-Harding Park  \n",
       "1                                 Sunset Park West  \n",
       "2                                        Woodhaven  \n",
       "3  Soundview-Castle Hill-Clason Point-Harding Park  \n",
       "4                                 Sunset Park West  \n",
       "\n",
       "[5 rows x 150 columns]"
      ]
     },
     "execution_count": 17,
     "metadata": {},
     "output_type": "execute_result"
    }
   ],
   "source": [
    "df_all = df.merge(df_census, on = 'census_tract_id')\n",
    "df_all.head()"
   ]
  },
  {
   "cell_type": "markdown",
   "metadata": {},
   "source": [
    "## 2. split the dataset into several sub-tables"
   ]
  },
  {
   "cell_type": "markdown",
   "metadata": {},
   "source": [
    "## 2.1 Geographies data table\n",
    "according to http://guides.newman.baruch.cuny.edu/nyc_data/nbhoods, New York City neighborhood census data could use Public Use Microdata Areas (PUMAs).\n"
   ]
  },
  {
   "cell_type": "code",
   "execution_count": 18,
   "metadata": {
    "collapsed": false
   },
   "outputs": [
    {
     "data": {
      "text/html": [
       "<div>\n",
       "<table border=\"1\" class=\"dataframe\">\n",
       "  <thead>\n",
       "    <tr style=\"text-align: right;\">\n",
       "      <th></th>\n",
       "      <th>Borough</th>\n",
       "      <th>census_tract_id</th>\n",
       "      <th>NTA_Code</th>\n",
       "      <th>NTA_Name</th>\n",
       "      <th>PUMA</th>\n",
       "      <th>ZCTA5</th>\n",
       "      <th>lat</th>\n",
       "      <th>lon</th>\n",
       "    </tr>\n",
       "  </thead>\n",
       "  <tbody>\n",
       "    <tr>\n",
       "      <th>0</th>\n",
       "      <td>Bronx</td>\n",
       "      <td>000200</td>\n",
       "      <td>BX09</td>\n",
       "      <td>Soundview-Castle Hill-Clason Point-Harding Park</td>\n",
       "      <td>3709</td>\n",
       "      <td>10473</td>\n",
       "      <td>40.804573</td>\n",
       "      <td>-73.856859</td>\n",
       "    </tr>\n",
       "    <tr>\n",
       "      <th>1</th>\n",
       "      <td>Brooklyn</td>\n",
       "      <td>000200</td>\n",
       "      <td>BK32</td>\n",
       "      <td>Sunset Park West</td>\n",
       "      <td>4012</td>\n",
       "      <td>10473</td>\n",
       "      <td>40.804573</td>\n",
       "      <td>-73.856859</td>\n",
       "    </tr>\n",
       "    <tr>\n",
       "      <th>2</th>\n",
       "      <td>Queens</td>\n",
       "      <td>000200</td>\n",
       "      <td>QN53</td>\n",
       "      <td>Woodhaven</td>\n",
       "      <td>4111</td>\n",
       "      <td>10473</td>\n",
       "      <td>40.804573</td>\n",
       "      <td>-73.856859</td>\n",
       "    </tr>\n",
       "    <tr>\n",
       "      <th>3</th>\n",
       "      <td>Bronx</td>\n",
       "      <td>000200</td>\n",
       "      <td>BX09</td>\n",
       "      <td>Soundview-Castle Hill-Clason Point-Harding Park</td>\n",
       "      <td>3709</td>\n",
       "      <td>11232</td>\n",
       "      <td>40.653213</td>\n",
       "      <td>-74.010971</td>\n",
       "    </tr>\n",
       "    <tr>\n",
       "      <th>4</th>\n",
       "      <td>Brooklyn</td>\n",
       "      <td>000200</td>\n",
       "      <td>BK32</td>\n",
       "      <td>Sunset Park West</td>\n",
       "      <td>4012</td>\n",
       "      <td>11232</td>\n",
       "      <td>40.653213</td>\n",
       "      <td>-74.010971</td>\n",
       "    </tr>\n",
       "  </tbody>\n",
       "</table>\n",
       "</div>"
      ],
      "text/plain": [
       "    Borough census_tract_id NTA_Code  \\\n",
       "0     Bronx          000200     BX09   \n",
       "1  Brooklyn          000200     BK32   \n",
       "2    Queens          000200     QN53   \n",
       "3     Bronx          000200     BX09   \n",
       "4  Brooklyn          000200     BK32   \n",
       "\n",
       "                                          NTA_Name  PUMA  ZCTA5        lat  \\\n",
       "0  Soundview-Castle Hill-Clason Point-Harding Park  3709  10473  40.804573   \n",
       "1                                 Sunset Park West  4012  10473  40.804573   \n",
       "2                                        Woodhaven  4111  10473  40.804573   \n",
       "3  Soundview-Castle Hill-Clason Point-Harding Park  3709  11232  40.653213   \n",
       "4                                 Sunset Park West  4012  11232  40.653213   \n",
       "\n",
       "         lon  \n",
       "0 -73.856859  \n",
       "1 -73.856859  \n",
       "2 -73.856859  \n",
       "3 -74.010971  \n",
       "4 -74.010971  "
      ]
     },
     "execution_count": 18,
     "metadata": {},
     "output_type": "execute_result"
    }
   ],
   "source": [
    "# the sub-table of census tract information, including census tract id, latitude, longitude, and ZCTA.\n",
    "df_tract = df_all.iloc[:, [-4,0, -2,-1,-3,7,3,4]]\n",
    "df_tract.head()"
   ]
  },
  {
   "cell_type": "markdown",
   "metadata": {},
   "source": [
    "## 2.2 Tables for different years"
   ]
  },
  {
   "cell_type": "code",
   "execution_count": 19,
   "metadata": {
    "collapsed": false
   },
   "outputs": [
    {
     "data": {
      "text/plain": [
       "((2089, 14), (2089, 16), (2089, 16))"
      ]
     },
     "execution_count": 19,
     "metadata": {},
     "output_type": "execute_result"
    }
   ],
   "source": [
    "# the sub-table of different groups of families income level\n",
    "df_family_income = df.loc[:,df.columns[df.columns.str.startswith('fam_inc_')]]\n",
    "df_family_income_1990 = df_family_income.loc[:,\n",
    "                                df_family_income.columns[df_family_income.columns.str.endswith('9')]]\n",
    "df_family_income_2000 = df_family_income.loc[:,\n",
    "                                df_family_income.columns[df_family_income.columns.str.endswith('0')]]\n",
    "df_family_income_2010 = df_family_income.loc[:,\n",
    "                                df_family_income.columns[df_family_income.columns.str.endswith('1')]]\n",
    "\n",
    " \n",
    "df_family_income_1990.shape, df_family_income_2000.shape, df_family_income_2010.shape"
   ]
  },
  {
   "cell_type": "code",
   "execution_count": 20,
   "metadata": {
    "collapsed": false
   },
   "outputs": [
    {
     "data": {
      "text/plain": [
       "((2089, 34), (2089, 52), (2089, 52))"
      ]
     },
     "execution_count": 20,
     "metadata": {},
     "output_type": "execute_result"
    }
   ],
   "source": [
    "df_1990 = df.iloc[:, 8:42]\n",
    "df_2000 = df.iloc[:, 42:94]\n",
    "df_2010 = df.iloc[:, 94:]\n",
    "df_1990.shape, df_2000.shape, df_2010.shape"
   ]
  },
  {
   "cell_type": "markdown",
   "metadata": {},
   "source": [
    "## 2.3 Housing tables, including data of house value and rent"
   ]
  },
  {
   "cell_type": "code",
   "execution_count": 21,
   "metadata": {
    "collapsed": false
   },
   "outputs": [
    {
     "data": {
      "text/html": [
       "<div>\n",
       "<table border=\"1\" class=\"dataframe\">\n",
       "  <thead>\n",
       "    <tr style=\"text-align: right;\">\n",
       "      <th></th>\n",
       "      <th>median_house_value_9</th>\n",
       "      <th>median_rent_9</th>\n",
       "      <th>median_house_value_0</th>\n",
       "      <th>median_rent_0</th>\n",
       "      <th>median_house_value_1</th>\n",
       "      <th>median_rent_1</th>\n",
       "    </tr>\n",
       "  </thead>\n",
       "  <tbody>\n",
       "    <tr>\n",
       "      <th>1</th>\n",
       "      <td>136500</td>\n",
       "      <td>742</td>\n",
       "      <td>147500</td>\n",
       "      <td>730</td>\n",
       "      <td>392500</td>\n",
       "      <td>1273</td>\n",
       "    </tr>\n",
       "    <tr>\n",
       "      <th>2</th>\n",
       "      <td>163234</td>\n",
       "      <td>535</td>\n",
       "      <td>157610</td>\n",
       "      <td>643</td>\n",
       "      <td>393700</td>\n",
       "      <td>1330</td>\n",
       "    </tr>\n",
       "    <tr>\n",
       "      <th>3</th>\n",
       "      <td>156800</td>\n",
       "      <td>466</td>\n",
       "      <td>177000</td>\n",
       "      <td>558</td>\n",
       "      <td>378100</td>\n",
       "      <td>823</td>\n",
       "    </tr>\n",
       "    <tr>\n",
       "      <th>4</th>\n",
       "      <td>48868</td>\n",
       "      <td>422</td>\n",
       "      <td>145960</td>\n",
       "      <td>461</td>\n",
       "      <td>0</td>\n",
       "      <td>870</td>\n",
       "    </tr>\n",
       "    <tr>\n",
       "      <th>5</th>\n",
       "      <td>185400</td>\n",
       "      <td>298</td>\n",
       "      <td>177600</td>\n",
       "      <td>266</td>\n",
       "      <td>398100</td>\n",
       "      <td>455</td>\n",
       "    </tr>\n",
       "  </tbody>\n",
       "</table>\n",
       "</div>"
      ],
      "text/plain": [
       "   median_house_value_9  median_rent_9  median_house_value_0  median_rent_0  \\\n",
       "1                136500            742                147500            730   \n",
       "2                163234            535                157610            643   \n",
       "3                156800            466                177000            558   \n",
       "4                 48868            422                145960            461   \n",
       "5                185400            298                177600            266   \n",
       "\n",
       "   median_house_value_1  median_rent_1  \n",
       "1                392500           1273  \n",
       "2                393700           1330  \n",
       "3                378100            823  \n",
       "4                     0            870  \n",
       "5                398100            455  "
      ]
     },
     "execution_count": 21,
     "metadata": {},
     "output_type": "execute_result"
    }
   ],
   "source": [
    "# the sub-table of housing price and rent\n",
    "df_house = df.loc[:,df.columns[(df.columns.str.startswith('median_rent_')) |\\\n",
    "                              (df.columns.str.startswith('median_house_'))]]\n",
    "df_house.head()"
   ]
  },
  {
   "cell_type": "code",
   "execution_count": 22,
   "metadata": {
    "collapsed": false
   },
   "outputs": [
    {
     "data": {
      "text/html": [
       "<div>\n",
       "<table border=\"1\" class=\"dataframe\">\n",
       "  <thead>\n",
       "    <tr style=\"text-align: right;\">\n",
       "      <th></th>\n",
       "      <th>median_house_value_9</th>\n",
       "      <th>median_rent_9</th>\n",
       "      <th>median_house_value_0</th>\n",
       "      <th>median_rent_0</th>\n",
       "      <th>median_house_value_1</th>\n",
       "      <th>median_rent_1</th>\n",
       "    </tr>\n",
       "  </thead>\n",
       "  <tbody>\n",
       "    <tr>\n",
       "      <th>count</th>\n",
       "      <td>2089.000000</td>\n",
       "      <td>2089.000000</td>\n",
       "      <td>2.089000e+03</td>\n",
       "      <td>2089.000000</td>\n",
       "      <td>2.089000e+03</td>\n",
       "      <td>2089.000000</td>\n",
       "    </tr>\n",
       "    <tr>\n",
       "      <th>mean</th>\n",
       "      <td>170909.090953</td>\n",
       "      <td>544.198181</td>\n",
       "      <td>2.233565e+05</td>\n",
       "      <td>753.071326</td>\n",
       "      <td>5.070657e+05</td>\n",
       "      <td>1151.020105</td>\n",
       "    </tr>\n",
       "    <tr>\n",
       "      <th>std</th>\n",
       "      <td>110359.984751</td>\n",
       "      <td>150.069074</td>\n",
       "      <td>1.826276e+05</td>\n",
       "      <td>231.835763</td>\n",
       "      <td>2.214706e+05</td>\n",
       "      <td>331.293631</td>\n",
       "    </tr>\n",
       "    <tr>\n",
       "      <th>min</th>\n",
       "      <td>0.000000</td>\n",
       "      <td>140.000000</td>\n",
       "      <td>0.000000e+00</td>\n",
       "      <td>175.000000</td>\n",
       "      <td>0.000000e+00</td>\n",
       "      <td>231.000000</td>\n",
       "    </tr>\n",
       "    <tr>\n",
       "      <th>25%</th>\n",
       "      <td>118204.000000</td>\n",
       "      <td>453.000000</td>\n",
       "      <td>1.604000e+05</td>\n",
       "      <td>644.000000</td>\n",
       "      <td>3.981000e+05</td>\n",
       "      <td>964.000000</td>\n",
       "    </tr>\n",
       "    <tr>\n",
       "      <th>50%</th>\n",
       "      <td>171500.000000</td>\n",
       "      <td>531.000000</td>\n",
       "      <td>1.964000e+05</td>\n",
       "      <td>740.000000</td>\n",
       "      <td>4.941000e+05</td>\n",
       "      <td>1120.000000</td>\n",
       "    </tr>\n",
       "    <tr>\n",
       "      <th>75%</th>\n",
       "      <td>218689.000000</td>\n",
       "      <td>629.000000</td>\n",
       "      <td>2.508000e+05</td>\n",
       "      <td>834.000000</td>\n",
       "      <td>6.275000e+05</td>\n",
       "      <td>1308.000000</td>\n",
       "    </tr>\n",
       "    <tr>\n",
       "      <th>max</th>\n",
       "      <td>500001.000000</td>\n",
       "      <td>1001.000000</td>\n",
       "      <td>1.000001e+06</td>\n",
       "      <td>2001.000000</td>\n",
       "      <td>1.000001e+06</td>\n",
       "      <td>2001.000000</td>\n",
       "    </tr>\n",
       "  </tbody>\n",
       "</table>\n",
       "</div>"
      ],
      "text/plain": [
       "       median_house_value_9  median_rent_9  median_house_value_0  \\\n",
       "count           2089.000000    2089.000000          2.089000e+03   \n",
       "mean          170909.090953     544.198181          2.233565e+05   \n",
       "std           110359.984751     150.069074          1.826276e+05   \n",
       "min                0.000000     140.000000          0.000000e+00   \n",
       "25%           118204.000000     453.000000          1.604000e+05   \n",
       "50%           171500.000000     531.000000          1.964000e+05   \n",
       "75%           218689.000000     629.000000          2.508000e+05   \n",
       "max           500001.000000    1001.000000          1.000001e+06   \n",
       "\n",
       "       median_rent_0  median_house_value_1  median_rent_1  \n",
       "count    2089.000000          2.089000e+03    2089.000000  \n",
       "mean      753.071326          5.070657e+05    1151.020105  \n",
       "std       231.835763          2.214706e+05     331.293631  \n",
       "min       175.000000          0.000000e+00     231.000000  \n",
       "25%       644.000000          3.981000e+05     964.000000  \n",
       "50%       740.000000          4.941000e+05    1120.000000  \n",
       "75%       834.000000          6.275000e+05    1308.000000  \n",
       "max      2001.000000          1.000001e+06    2001.000000  "
      ]
     },
     "execution_count": 22,
     "metadata": {},
     "output_type": "execute_result"
    }
   ],
   "source": [
    "df_house.describe()"
   ]
  },
  {
   "cell_type": "markdown",
   "metadata": {},
   "source": [
    "## 2.4 Income tables"
   ]
  },
  {
   "cell_type": "code",
   "execution_count": 23,
   "metadata": {
    "collapsed": false
   },
   "outputs": [
    {
     "data": {
      "text/html": [
       "<div>\n",
       "<table border=\"1\" class=\"dataframe\">\n",
       "  <thead>\n",
       "    <tr style=\"text-align: right;\">\n",
       "      <th></th>\n",
       "      <th>ave_inc_fam_9</th>\n",
       "      <th>median_inc_fam_9</th>\n",
       "      <th>ave_inc_hh_9</th>\n",
       "      <th>median_inc_hh_9</th>\n",
       "      <th>ave_inc_fam_0</th>\n",
       "      <th>median_inc_fam_0</th>\n",
       "      <th>ave_inc_hh_0</th>\n",
       "      <th>median_inc_hh_0</th>\n",
       "      <th>ave_inc_fam_1</th>\n",
       "      <th>median_inc_fam_1</th>\n",
       "      <th>ave_inc_hh_1</th>\n",
       "      <th>median_inc_hh_1</th>\n",
       "    </tr>\n",
       "  </thead>\n",
       "  <tbody>\n",
       "    <tr>\n",
       "      <th>1</th>\n",
       "      <td>45267.28710</td>\n",
       "      <td>38711</td>\n",
       "      <td>41034.78595</td>\n",
       "      <td>31632</td>\n",
       "      <td>50763.54348</td>\n",
       "      <td>50817</td>\n",
       "      <td>48547.32784</td>\n",
       "      <td>42539</td>\n",
       "      <td>67363.981</td>\n",
       "      <td>58368</td>\n",
       "      <td>66324.981</td>\n",
       "      <td>59826</td>\n",
       "    </tr>\n",
       "    <tr>\n",
       "      <th>2</th>\n",
       "      <td>43694.20068</td>\n",
       "      <td>40484</td>\n",
       "      <td>41850.02374</td>\n",
       "      <td>36506</td>\n",
       "      <td>48306.41829</td>\n",
       "      <td>41019</td>\n",
       "      <td>45697.79035</td>\n",
       "      <td>39111</td>\n",
       "      <td>86056.373</td>\n",
       "      <td>73148</td>\n",
       "      <td>82305.160</td>\n",
       "      <td>71968</td>\n",
       "    </tr>\n",
       "    <tr>\n",
       "      <th>3</th>\n",
       "      <td>30042.84776</td>\n",
       "      <td>24732</td>\n",
       "      <td>27803.12012</td>\n",
       "      <td>22739</td>\n",
       "      <td>36442.53563</td>\n",
       "      <td>30104</td>\n",
       "      <td>31610.56070</td>\n",
       "      <td>24552</td>\n",
       "      <td>43473.490</td>\n",
       "      <td>33555</td>\n",
       "      <td>38629.904</td>\n",
       "      <td>30355</td>\n",
       "    </tr>\n",
       "    <tr>\n",
       "      <th>4</th>\n",
       "      <td>23377.47813</td>\n",
       "      <td>24823</td>\n",
       "      <td>19303.58696</td>\n",
       "      <td>11215</td>\n",
       "      <td>31360.47431</td>\n",
       "      <td>23671</td>\n",
       "      <td>27995.65217</td>\n",
       "      <td>22772</td>\n",
       "      <td>35995.455</td>\n",
       "      <td>25489</td>\n",
       "      <td>33907.328</td>\n",
       "      <td>25093</td>\n",
       "    </tr>\n",
       "    <tr>\n",
       "      <th>5</th>\n",
       "      <td>25062.06250</td>\n",
       "      <td>18762</td>\n",
       "      <td>22262.06940</td>\n",
       "      <td>14765</td>\n",
       "      <td>26817.80645</td>\n",
       "      <td>19694</td>\n",
       "      <td>24885.52589</td>\n",
       "      <td>14691</td>\n",
       "      <td>41842.527</td>\n",
       "      <td>30817</td>\n",
       "      <td>35687.455</td>\n",
       "      <td>24939</td>\n",
       "    </tr>\n",
       "  </tbody>\n",
       "</table>\n",
       "</div>"
      ],
      "text/plain": [
       "   ave_inc_fam_9  median_inc_fam_9  ave_inc_hh_9  median_inc_hh_9  \\\n",
       "1    45267.28710             38711   41034.78595            31632   \n",
       "2    43694.20068             40484   41850.02374            36506   \n",
       "3    30042.84776             24732   27803.12012            22739   \n",
       "4    23377.47813             24823   19303.58696            11215   \n",
       "5    25062.06250             18762   22262.06940            14765   \n",
       "\n",
       "   ave_inc_fam_0  median_inc_fam_0  ave_inc_hh_0  median_inc_hh_0  \\\n",
       "1    50763.54348             50817   48547.32784            42539   \n",
       "2    48306.41829             41019   45697.79035            39111   \n",
       "3    36442.53563             30104   31610.56070            24552   \n",
       "4    31360.47431             23671   27995.65217            22772   \n",
       "5    26817.80645             19694   24885.52589            14691   \n",
       "\n",
       "   ave_inc_fam_1  median_inc_fam_1  ave_inc_hh_1  median_inc_hh_1  \n",
       "1      67363.981             58368     66324.981            59826  \n",
       "2      86056.373             73148     82305.160            71968  \n",
       "3      43473.490             33555     38629.904            30355  \n",
       "4      35995.455             25489     33907.328            25093  \n",
       "5      41842.527             30817     35687.455            24939  "
      ]
     },
     "execution_count": 23,
     "metadata": {},
     "output_type": "execute_result"
    }
   ],
   "source": [
    "# the sub-table of median/average families/households income\n",
    "df_income = df.loc[:,df.columns[(df.columns.str.startswith('median_inc_')) |\\\n",
    "                              (df.columns.str.startswith('ave_inc_'))]]\n",
    "df_income.head()   "
   ]
  },
  {
   "cell_type": "code",
   "execution_count": 24,
   "metadata": {
    "collapsed": false
   },
   "outputs": [
    {
     "data": {
      "text/html": [
       "<div>\n",
       "<table border=\"1\" class=\"dataframe\">\n",
       "  <thead>\n",
       "    <tr style=\"text-align: right;\">\n",
       "      <th></th>\n",
       "      <th>ave_inc_fam_9</th>\n",
       "      <th>median_inc_fam_9</th>\n",
       "      <th>ave_inc_hh_9</th>\n",
       "      <th>median_inc_hh_9</th>\n",
       "      <th>ave_inc_fam_0</th>\n",
       "      <th>median_inc_fam_0</th>\n",
       "      <th>ave_inc_hh_0</th>\n",
       "      <th>median_inc_hh_0</th>\n",
       "      <th>ave_inc_fam_1</th>\n",
       "      <th>median_inc_fam_1</th>\n",
       "      <th>ave_inc_hh_1</th>\n",
       "      <th>median_inc_hh_1</th>\n",
       "    </tr>\n",
       "  </thead>\n",
       "  <tbody>\n",
       "    <tr>\n",
       "      <th>count</th>\n",
       "      <td>2089.000000</td>\n",
       "      <td>2089.000000</td>\n",
       "      <td>2089.000000</td>\n",
       "      <td>2089.000000</td>\n",
       "      <td>2089.000000</td>\n",
       "      <td>2089.000000</td>\n",
       "      <td>2089.000000</td>\n",
       "      <td>2089.000000</td>\n",
       "      <td>2089.00000</td>\n",
       "      <td>2089.000000</td>\n",
       "      <td>2089.000000</td>\n",
       "      <td>2089.000000</td>\n",
       "    </tr>\n",
       "    <tr>\n",
       "      <th>mean</th>\n",
       "      <td>46240.797301</td>\n",
       "      <td>37689.401628</td>\n",
       "      <td>39246.703235</td>\n",
       "      <td>31309.411202</td>\n",
       "      <td>63576.869583</td>\n",
       "      <td>48874.026807</td>\n",
       "      <td>54229.582025</td>\n",
       "      <td>40628.821446</td>\n",
       "      <td>85376.28443</td>\n",
       "      <td>66207.958353</td>\n",
       "      <td>72345.813173</td>\n",
       "      <td>54703.689325</td>\n",
       "    </tr>\n",
       "    <tr>\n",
       "      <th>std</th>\n",
       "      <td>28606.446820</td>\n",
       "      <td>18760.425689</td>\n",
       "      <td>19565.189172</td>\n",
       "      <td>13562.873547</td>\n",
       "      <td>45058.370638</td>\n",
       "      <td>28645.098401</td>\n",
       "      <td>29038.210224</td>\n",
       "      <td>18527.299709</td>\n",
       "      <td>62564.07724</td>\n",
       "      <td>39910.826453</td>\n",
       "      <td>40603.704702</td>\n",
       "      <td>25923.948148</td>\n",
       "    </tr>\n",
       "    <tr>\n",
       "      <th>min</th>\n",
       "      <td>0.000000</td>\n",
       "      <td>86.000000</td>\n",
       "      <td>0.000000</td>\n",
       "      <td>5360.000000</td>\n",
       "      <td>16376.090910</td>\n",
       "      <td>7354.000000</td>\n",
       "      <td>12747.077320</td>\n",
       "      <td>7863.000000</td>\n",
       "      <td>0.00000</td>\n",
       "      <td>8542.000000</td>\n",
       "      <td>0.000000</td>\n",
       "      <td>8694.000000</td>\n",
       "    </tr>\n",
       "    <tr>\n",
       "      <th>25%</th>\n",
       "      <td>30501.042240</td>\n",
       "      <td>24924.000000</td>\n",
       "      <td>27864.930300</td>\n",
       "      <td>21862.000000</td>\n",
       "      <td>40513.116200</td>\n",
       "      <td>30724.000000</td>\n",
       "      <td>37683.585970</td>\n",
       "      <td>27976.000000</td>\n",
       "      <td>52010.32700</td>\n",
       "      <td>40022.000000</td>\n",
       "      <td>48876.596000</td>\n",
       "      <td>36299.000000</td>\n",
       "    </tr>\n",
       "    <tr>\n",
       "      <th>50%</th>\n",
       "      <td>41866.927540</td>\n",
       "      <td>36218.000000</td>\n",
       "      <td>36208.754250</td>\n",
       "      <td>30417.000000</td>\n",
       "      <td>53041.525420</td>\n",
       "      <td>42590.000000</td>\n",
       "      <td>48376.129030</td>\n",
       "      <td>37936.000000</td>\n",
       "      <td>70564.74300</td>\n",
       "      <td>56726.000000</td>\n",
       "      <td>64120.604000</td>\n",
       "      <td>51127.000000</td>\n",
       "    </tr>\n",
       "    <tr>\n",
       "      <th>75%</th>\n",
       "      <td>53084.721130</td>\n",
       "      <td>46843.000000</td>\n",
       "      <td>46187.374640</td>\n",
       "      <td>39697.000000</td>\n",
       "      <td>69321.465430</td>\n",
       "      <td>58977.000000</td>\n",
       "      <td>62046.691640</td>\n",
       "      <td>50806.000000</td>\n",
       "      <td>93098.66200</td>\n",
       "      <td>80125.000000</td>\n",
       "      <td>82035.096000</td>\n",
       "      <td>68026.000000</td>\n",
       "    </tr>\n",
       "    <tr>\n",
       "      <th>max</th>\n",
       "      <td>327320.474100</td>\n",
       "      <td>150001.000000</td>\n",
       "      <td>248923.005700</td>\n",
       "      <td>147567.000000</td>\n",
       "      <td>450967.828700</td>\n",
       "      <td>200001.000000</td>\n",
       "      <td>337238.297900</td>\n",
       "      <td>174119.000000</td>\n",
       "      <td>636204.42600</td>\n",
       "      <td>250001.000000</td>\n",
       "      <td>464390.618000</td>\n",
       "      <td>232768.000000</td>\n",
       "    </tr>\n",
       "  </tbody>\n",
       "</table>\n",
       "</div>"
      ],
      "text/plain": [
       "       ave_inc_fam_9  median_inc_fam_9   ave_inc_hh_9  median_inc_hh_9  \\\n",
       "count    2089.000000       2089.000000    2089.000000      2089.000000   \n",
       "mean    46240.797301      37689.401628   39246.703235     31309.411202   \n",
       "std     28606.446820      18760.425689   19565.189172     13562.873547   \n",
       "min         0.000000         86.000000       0.000000      5360.000000   \n",
       "25%     30501.042240      24924.000000   27864.930300     21862.000000   \n",
       "50%     41866.927540      36218.000000   36208.754250     30417.000000   \n",
       "75%     53084.721130      46843.000000   46187.374640     39697.000000   \n",
       "max    327320.474100     150001.000000  248923.005700    147567.000000   \n",
       "\n",
       "       ave_inc_fam_0  median_inc_fam_0   ave_inc_hh_0  median_inc_hh_0  \\\n",
       "count    2089.000000       2089.000000    2089.000000      2089.000000   \n",
       "mean    63576.869583      48874.026807   54229.582025     40628.821446   \n",
       "std     45058.370638      28645.098401   29038.210224     18527.299709   \n",
       "min     16376.090910       7354.000000   12747.077320      7863.000000   \n",
       "25%     40513.116200      30724.000000   37683.585970     27976.000000   \n",
       "50%     53041.525420      42590.000000   48376.129030     37936.000000   \n",
       "75%     69321.465430      58977.000000   62046.691640     50806.000000   \n",
       "max    450967.828700     200001.000000  337238.297900    174119.000000   \n",
       "\n",
       "       ave_inc_fam_1  median_inc_fam_1   ave_inc_hh_1  median_inc_hh_1  \n",
       "count     2089.00000       2089.000000    2089.000000      2089.000000  \n",
       "mean     85376.28443      66207.958353   72345.813173     54703.689325  \n",
       "std      62564.07724      39910.826453   40603.704702     25923.948148  \n",
       "min          0.00000       8542.000000       0.000000      8694.000000  \n",
       "25%      52010.32700      40022.000000   48876.596000     36299.000000  \n",
       "50%      70564.74300      56726.000000   64120.604000     51127.000000  \n",
       "75%      93098.66200      80125.000000   82035.096000     68026.000000  \n",
       "max     636204.42600     250001.000000  464390.618000    232768.000000  "
      ]
     },
     "execution_count": 24,
     "metadata": {},
     "output_type": "execute_result"
    }
   ],
   "source": [
    "df_income.describe()"
   ]
  },
  {
   "cell_type": "markdown",
   "metadata": {},
   "source": [
    "# 3. Analysis based on census tract"
   ]
  },
  {
   "cell_type": "markdown",
   "metadata": {},
   "source": [
    "## create the table for relationship analysis\n",
    "To compare the 1990 data, we choose the family income, not household income.\n",
    "\n",
    "\n",
    "The variables we need are median family income, median rent, families with different income level"
   ]
  },
  {
   "cell_type": "code",
   "execution_count": 25,
   "metadata": {
    "collapsed": false
   },
   "outputs": [],
   "source": [
    "df_1 = df.loc[:,df.columns[(df.columns.str.startswith('median_inc_fam'))|\\\n",
    "                                (df.columns.str.startswith('median_rent')) |\\\n",
    "                                (df.columns.str.startswith('fam_inc_'))]]"
   ]
  },
  {
   "cell_type": "code",
   "execution_count": 26,
   "metadata": {
    "collapsed": false
   },
   "outputs": [
    {
     "data": {
      "text/plain": [
       "(2089, 52)"
      ]
     },
     "execution_count": 26,
     "metadata": {},
     "output_type": "execute_result"
    }
   ],
   "source": [
    "df_1.shape"
   ]
  },
  {
   "cell_type": "code",
   "execution_count": 27,
   "metadata": {
    "collapsed": false
   },
   "outputs": [
    {
     "data": {
      "text/plain": [
       "Index(['median_inc_fam_9', 'fam_inc_109', 'fam_inc_159', 'fam_inc_209',\n",
       "       'fam_inc_259', 'fam_inc_309', 'fam_inc_359', 'fam_inc_409',\n",
       "       'fam_inc_499', 'fam_inc_609', 'fam_inc_759', 'fam_inc_1009',\n",
       "       'fam_inc_1259', 'fam_inc_1509', 'fam_inc_max_9', 'median_rent_9',\n",
       "       'median_inc_fam_0', 'fam_inc_100', 'fam_inc_150', 'fam_inc_200',\n",
       "       'fam_inc_250', 'fam_inc_300', 'fam_inc_350', 'fam_inc_400',\n",
       "       'fam_inc_450', 'fam_inc_500', 'fam_inc_600', 'fam_inc_750',\n",
       "       'fam_inc_1000', 'fam_inc_1250', 'fam_inc_1500', 'fam_inc_2000',\n",
       "       'fam_inc_max_200', 'median_rent_0', 'median_inc_fam_1', 'fam_inc_101',\n",
       "       'fam_inc_151', 'fam_inc_201', 'fam_inc_251', 'fam_inc_301',\n",
       "       'fam_inc_351', 'fam_inc_401', 'fam_inc_451', 'fam_inc_501',\n",
       "       'fam_inc_601', 'fam_inc_751', 'fam_inc_1001', 'fam_inc_1251',\n",
       "       'fam_inc_1501', 'fam_inc_2001', 'fam_inc_max_201', 'median_rent_1'],\n",
       "      dtype='object')"
      ]
     },
     "execution_count": 27,
     "metadata": {},
     "output_type": "execute_result"
    }
   ],
   "source": [
    "df_1.columns"
   ]
  },
  {
   "cell_type": "code",
   "execution_count": 28,
   "metadata": {
    "collapsed": true
   },
   "outputs": [],
   "source": [
    "df2 = df.loc[:,df.columns[(df.columns.str.startswith('median_inc_fam'))|\\\n",
    "                                (df.columns.str.startswith('median_rent')) ]]"
   ]
  },
  {
   "cell_type": "code",
   "execution_count": 29,
   "metadata": {
    "collapsed": false
   },
   "outputs": [
    {
     "data": {
      "text/html": [
       "<div>\n",
       "<table border=\"1\" class=\"dataframe\">\n",
       "  <thead>\n",
       "    <tr style=\"text-align: right;\">\n",
       "      <th></th>\n",
       "      <th>median_inc_fam_9</th>\n",
       "      <th>median_rent_9</th>\n",
       "      <th>median_inc_fam_0</th>\n",
       "      <th>median_rent_0</th>\n",
       "      <th>median_inc_fam_1</th>\n",
       "      <th>median_rent_1</th>\n",
       "    </tr>\n",
       "  </thead>\n",
       "  <tbody>\n",
       "    <tr>\n",
       "      <th>1</th>\n",
       "      <td>38711</td>\n",
       "      <td>742</td>\n",
       "      <td>50817</td>\n",
       "      <td>730</td>\n",
       "      <td>58368</td>\n",
       "      <td>1273</td>\n",
       "    </tr>\n",
       "    <tr>\n",
       "      <th>2</th>\n",
       "      <td>40484</td>\n",
       "      <td>535</td>\n",
       "      <td>41019</td>\n",
       "      <td>643</td>\n",
       "      <td>73148</td>\n",
       "      <td>1330</td>\n",
       "    </tr>\n",
       "    <tr>\n",
       "      <th>3</th>\n",
       "      <td>24732</td>\n",
       "      <td>466</td>\n",
       "      <td>30104</td>\n",
       "      <td>558</td>\n",
       "      <td>33555</td>\n",
       "      <td>823</td>\n",
       "    </tr>\n",
       "    <tr>\n",
       "      <th>4</th>\n",
       "      <td>24823</td>\n",
       "      <td>422</td>\n",
       "      <td>23671</td>\n",
       "      <td>461</td>\n",
       "      <td>25489</td>\n",
       "      <td>870</td>\n",
       "    </tr>\n",
       "    <tr>\n",
       "      <th>5</th>\n",
       "      <td>18762</td>\n",
       "      <td>298</td>\n",
       "      <td>19694</td>\n",
       "      <td>266</td>\n",
       "      <td>30817</td>\n",
       "      <td>455</td>\n",
       "    </tr>\n",
       "  </tbody>\n",
       "</table>\n",
       "</div>"
      ],
      "text/plain": [
       "   median_inc_fam_9  median_rent_9  median_inc_fam_0  median_rent_0  \\\n",
       "1             38711            742             50817            730   \n",
       "2             40484            535             41019            643   \n",
       "3             24732            466             30104            558   \n",
       "4             24823            422             23671            461   \n",
       "5             18762            298             19694            266   \n",
       "\n",
       "   median_inc_fam_1  median_rent_1  \n",
       "1             58368           1273  \n",
       "2             73148           1330  \n",
       "3             33555            823  \n",
       "4             25489            870  \n",
       "5             30817            455  "
      ]
     },
     "execution_count": 29,
     "metadata": {},
     "output_type": "execute_result"
    }
   ],
   "source": [
    "df2.head()"
   ]
  },
  {
   "cell_type": "code",
   "execution_count": 30,
   "metadata": {
    "collapsed": true
   },
   "outputs": [],
   "source": [
    "df2['rent_income_ratio_9'] = df2['median_rent_9'] * 12/df2['median_inc_fam_9']\n",
    "df2['rent_income_ratio_0'] = df2['median_rent_0'] * 12/df2['median_inc_fam_0']\n",
    "df2['rent_income_ratio_1'] = df2['median_rent_1'] * 12/df2['median_inc_fam_1']"
   ]
  },
  {
   "cell_type": "code",
   "execution_count": 31,
   "metadata": {
    "collapsed": false
   },
   "outputs": [
    {
     "data": {
      "text/html": [
       "<div>\n",
       "<table border=\"1\" class=\"dataframe\">\n",
       "  <thead>\n",
       "    <tr style=\"text-align: right;\">\n",
       "      <th></th>\n",
       "      <th>median_inc_fam_9</th>\n",
       "      <th>median_rent_9</th>\n",
       "      <th>median_inc_fam_0</th>\n",
       "      <th>median_rent_0</th>\n",
       "      <th>median_inc_fam_1</th>\n",
       "      <th>median_rent_1</th>\n",
       "      <th>rent_income_ratio_9</th>\n",
       "      <th>rent_income_ratio_0</th>\n",
       "      <th>rent_income_ratio_1</th>\n",
       "    </tr>\n",
       "  </thead>\n",
       "  <tbody>\n",
       "    <tr>\n",
       "      <th>count</th>\n",
       "      <td>2089.000000</td>\n",
       "      <td>2089.000000</td>\n",
       "      <td>2089.000000</td>\n",
       "      <td>2089.000000</td>\n",
       "      <td>2089.000000</td>\n",
       "      <td>2089.000000</td>\n",
       "      <td>2089.000000</td>\n",
       "      <td>2089.000000</td>\n",
       "      <td>2089.000000</td>\n",
       "    </tr>\n",
       "    <tr>\n",
       "      <th>mean</th>\n",
       "      <td>37689.401628</td>\n",
       "      <td>544.198181</td>\n",
       "      <td>48874.026807</td>\n",
       "      <td>753.071326</td>\n",
       "      <td>66207.958353</td>\n",
       "      <td>1151.020105</td>\n",
       "      <td>0.259635</td>\n",
       "      <td>0.214373</td>\n",
       "      <td>0.248931</td>\n",
       "    </tr>\n",
       "    <tr>\n",
       "      <th>std</th>\n",
       "      <td>18760.425689</td>\n",
       "      <td>150.069074</td>\n",
       "      <td>28645.098401</td>\n",
       "      <td>231.835763</td>\n",
       "      <td>39910.826453</td>\n",
       "      <td>331.293631</td>\n",
       "      <td>2.738330</td>\n",
       "      <td>0.074864</td>\n",
       "      <td>0.100567</td>\n",
       "    </tr>\n",
       "    <tr>\n",
       "      <th>min</th>\n",
       "      <td>86.000000</td>\n",
       "      <td>140.000000</td>\n",
       "      <td>7354.000000</td>\n",
       "      <td>175.000000</td>\n",
       "      <td>8542.000000</td>\n",
       "      <td>231.000000</td>\n",
       "      <td>0.067760</td>\n",
       "      <td>0.010500</td>\n",
       "      <td>0.042308</td>\n",
       "    </tr>\n",
       "    <tr>\n",
       "      <th>25%</th>\n",
       "      <td>24924.000000</td>\n",
       "      <td>453.000000</td>\n",
       "      <td>30724.000000</td>\n",
       "      <td>644.000000</td>\n",
       "      <td>40022.000000</td>\n",
       "      <td>964.000000</td>\n",
       "      <td>0.151078</td>\n",
       "      <td>0.164954</td>\n",
       "      <td>0.181756</td>\n",
       "    </tr>\n",
       "    <tr>\n",
       "      <th>50%</th>\n",
       "      <td>36218.000000</td>\n",
       "      <td>531.000000</td>\n",
       "      <td>42590.000000</td>\n",
       "      <td>740.000000</td>\n",
       "      <td>56726.000000</td>\n",
       "      <td>1120.000000</td>\n",
       "      <td>0.183705</td>\n",
       "      <td>0.204193</td>\n",
       "      <td>0.235058</td>\n",
       "    </tr>\n",
       "    <tr>\n",
       "      <th>75%</th>\n",
       "      <td>46843.000000</td>\n",
       "      <td>629.000000</td>\n",
       "      <td>58977.000000</td>\n",
       "      <td>834.000000</td>\n",
       "      <td>80125.000000</td>\n",
       "      <td>1308.000000</td>\n",
       "      <td>0.227210</td>\n",
       "      <td>0.253730</td>\n",
       "      <td>0.300615</td>\n",
       "    </tr>\n",
       "    <tr>\n",
       "      <th>max</th>\n",
       "      <td>150001.000000</td>\n",
       "      <td>1001.000000</td>\n",
       "      <td>200001.000000</td>\n",
       "      <td>2001.000000</td>\n",
       "      <td>250001.000000</td>\n",
       "      <td>2001.000000</td>\n",
       "      <td>125.302326</td>\n",
       "      <td>1.194452</td>\n",
       "      <td>1.298057</td>\n",
       "    </tr>\n",
       "  </tbody>\n",
       "</table>\n",
       "</div>"
      ],
      "text/plain": [
       "       median_inc_fam_9  median_rent_9  median_inc_fam_0  median_rent_0  \\\n",
       "count       2089.000000    2089.000000       2089.000000    2089.000000   \n",
       "mean       37689.401628     544.198181      48874.026807     753.071326   \n",
       "std        18760.425689     150.069074      28645.098401     231.835763   \n",
       "min           86.000000     140.000000       7354.000000     175.000000   \n",
       "25%        24924.000000     453.000000      30724.000000     644.000000   \n",
       "50%        36218.000000     531.000000      42590.000000     740.000000   \n",
       "75%        46843.000000     629.000000      58977.000000     834.000000   \n",
       "max       150001.000000    1001.000000     200001.000000    2001.000000   \n",
       "\n",
       "       median_inc_fam_1  median_rent_1  rent_income_ratio_9  \\\n",
       "count       2089.000000    2089.000000          2089.000000   \n",
       "mean       66207.958353    1151.020105             0.259635   \n",
       "std        39910.826453     331.293631             2.738330   \n",
       "min         8542.000000     231.000000             0.067760   \n",
       "25%        40022.000000     964.000000             0.151078   \n",
       "50%        56726.000000    1120.000000             0.183705   \n",
       "75%        80125.000000    1308.000000             0.227210   \n",
       "max       250001.000000    2001.000000           125.302326   \n",
       "\n",
       "       rent_income_ratio_0  rent_income_ratio_1  \n",
       "count          2089.000000          2089.000000  \n",
       "mean              0.214373             0.248931  \n",
       "std               0.074864             0.100567  \n",
       "min               0.010500             0.042308  \n",
       "25%               0.164954             0.181756  \n",
       "50%               0.204193             0.235058  \n",
       "75%               0.253730             0.300615  \n",
       "max               1.194452             1.298057  "
      ]
     },
     "execution_count": 31,
     "metadata": {},
     "output_type": "execute_result"
    }
   ],
   "source": [
    "df2.describe()"
   ]
  },
  {
   "cell_type": "code",
   "execution_count": 32,
   "metadata": {
    "collapsed": false
   },
   "outputs": [
    {
     "data": {
      "text/plain": [
       "median_inc_fam_9       37689.401628\n",
       "median_rent_9            544.198181\n",
       "median_inc_fam_0       48874.026807\n",
       "median_rent_0            753.071326\n",
       "median_inc_fam_1       66207.958353\n",
       "median_rent_1           1151.020105\n",
       "rent_income_ratio_9        0.259635\n",
       "rent_income_ratio_0        0.214373\n",
       "rent_income_ratio_1        0.248931\n",
       "dtype: float64"
      ]
     },
     "execution_count": 32,
     "metadata": {},
     "output_type": "execute_result"
    }
   ],
   "source": [
    "df2.mean()"
   ]
  },
  {
   "cell_type": "code",
   "execution_count": 103,
   "metadata": {
    "collapsed": false
   },
   "outputs": [
    {
     "data": {
      "text/plain": [
       "<matplotlib.text.Text at 0x117535a58>"
      ]
     },
     "execution_count": 103,
     "metadata": {},
     "output_type": "execute_result"
    },
    {
     "data": {
      "image/png": "[encoded data removed]",
      "text/plain": [
       "<matplotlib.figure.Figure at 0x1173a7198>"
      ]
     },
     "metadata": {},
     "output_type": "display_data"
    }
   ],
   "source": [
    "\n",
    "fig, ax1 = plt.subplots(figsize = (12, 6))\n",
    "ax2 = ax1.twinx()\n",
    "ax1.plot(np.arange(3), df2.mean().iloc[[0,2,4]], c = 'g', label = 'median family income')\n",
    "ax2.plot(np.arange(3), df2.mean().iloc[[1,3,5]], c = 'b', label = 'median rent')\n",
    "ax1.legend(loc = 'upper right', fontsize = 15)\n",
    "ax2.legend(loc = 'upper left', fontsize = 15)\n",
    "\n",
    "ax1.set_xlabel('Year', fontsize = 15)\n",
    "ax1.set_ylabel('Average of median income($)', fontsize = 15)\n",
    "ax1.set_ylim((30000,90000))\n",
    "\n",
    "ax2.set_ylabel('Average of median rent($)', fontsize = 15)\n",
    "ax2.set_ylim((500, 1500))\n",
    "\n",
    "plt.xticks(np.arange(3), ('1990','2000','2010'))\n",
    "plt.title(\"Growth of average census tracts' median income and median rent between 1990-2010\", fontsize = 15)"
   ]
  },
  {
   "cell_type": "code",
   "execution_count": 107,
   "metadata": {
    "collapsed": false
   },
   "outputs": [
    {
     "data": {
      "text/plain": [
       "<matplotlib.text.Text at 0x117a6fa20>"
      ]
     },
     "execution_count": 107,
     "metadata": {},
     "output_type": "execute_result"
    },
    {
     "data": {
      "image/png": "[encoded data removed]",
      "text/plain": [
       "<matplotlib.figure.Figure at 0x11777cb00>"
      ]
     },
     "metadata": {},
     "output_type": "display_data"
    }
   ],
   "source": [
    "plt.figure(figsize = (6, 6))\n",
    "plt.bar(np.arange(3), df2.mean()[6:9])\n",
    "\n",
    "plt.xticks(np.arange(3), ('1990','2000','2010'))\n",
    "plt.xlabel('Year', fontsize = 15)\n",
    "plt.ylabel('rent_to_income_ratio', fontsize = 15)\n",
    "plt.title('Ratio of rent-to-income between 1990-2010', fontsize = 15)"
   ]
  },
  {
   "cell_type": "markdown",
   "metadata": {},
   "source": [
    "## Calculate the change of rent between 1990-2000 and 2000-2010"
   ]
  },
  {
   "cell_type": "code",
   "execution_count": 34,
   "metadata": {
    "collapsed": false
   },
   "outputs": [
    {
     "data": {
      "text/html": [
       "<div>\n",
       "<table border=\"1\" class=\"dataframe\">\n",
       "  <thead>\n",
       "    <tr style=\"text-align: right;\">\n",
       "      <th></th>\n",
       "      <th>median_inc_fam_9</th>\n",
       "      <th>median_rent_9</th>\n",
       "      <th>median_inc_fam_0</th>\n",
       "      <th>median_rent_0</th>\n",
       "      <th>median_inc_fam_1</th>\n",
       "      <th>median_rent_1</th>\n",
       "      <th>rent_income_ratio_9</th>\n",
       "      <th>rent_income_ratio_0</th>\n",
       "      <th>rent_income_ratio_1</th>\n",
       "      <th>rent_growth_90_00</th>\n",
       "      <th>rent_growth_00_10</th>\n",
       "      <th>inc_growth_90_00</th>\n",
       "      <th>inc_growth_00_10</th>\n",
       "    </tr>\n",
       "  </thead>\n",
       "  <tbody>\n",
       "    <tr>\n",
       "      <th>1</th>\n",
       "      <td>38711</td>\n",
       "      <td>742</td>\n",
       "      <td>50817</td>\n",
       "      <td>730</td>\n",
       "      <td>58368</td>\n",
       "      <td>1273</td>\n",
       "      <td>0.230012</td>\n",
       "      <td>0.172383</td>\n",
       "      <td>0.261719</td>\n",
       "      <td>0.983827</td>\n",
       "      <td>1.743836</td>\n",
       "      <td>1.312728</td>\n",
       "      <td>1.148592</td>\n",
       "    </tr>\n",
       "    <tr>\n",
       "      <th>2</th>\n",
       "      <td>40484</td>\n",
       "      <td>535</td>\n",
       "      <td>41019</td>\n",
       "      <td>643</td>\n",
       "      <td>73148</td>\n",
       "      <td>1330</td>\n",
       "      <td>0.158581</td>\n",
       "      <td>0.188108</td>\n",
       "      <td>0.218188</td>\n",
       "      <td>1.201869</td>\n",
       "      <td>2.068429</td>\n",
       "      <td>1.013215</td>\n",
       "      <td>1.783271</td>\n",
       "    </tr>\n",
       "    <tr>\n",
       "      <th>3</th>\n",
       "      <td>24732</td>\n",
       "      <td>466</td>\n",
       "      <td>30104</td>\n",
       "      <td>558</td>\n",
       "      <td>33555</td>\n",
       "      <td>823</td>\n",
       "      <td>0.226104</td>\n",
       "      <td>0.222429</td>\n",
       "      <td>0.294323</td>\n",
       "      <td>1.197425</td>\n",
       "      <td>1.474910</td>\n",
       "      <td>1.217208</td>\n",
       "      <td>1.114636</td>\n",
       "    </tr>\n",
       "    <tr>\n",
       "      <th>4</th>\n",
       "      <td>24823</td>\n",
       "      <td>422</td>\n",
       "      <td>23671</td>\n",
       "      <td>461</td>\n",
       "      <td>25489</td>\n",
       "      <td>870</td>\n",
       "      <td>0.204004</td>\n",
       "      <td>0.233704</td>\n",
       "      <td>0.409588</td>\n",
       "      <td>1.092417</td>\n",
       "      <td>1.887202</td>\n",
       "      <td>0.953591</td>\n",
       "      <td>1.076803</td>\n",
       "    </tr>\n",
       "    <tr>\n",
       "      <th>5</th>\n",
       "      <td>18762</td>\n",
       "      <td>298</td>\n",
       "      <td>19694</td>\n",
       "      <td>266</td>\n",
       "      <td>30817</td>\n",
       "      <td>455</td>\n",
       "      <td>0.190598</td>\n",
       "      <td>0.162080</td>\n",
       "      <td>0.177175</td>\n",
       "      <td>0.892617</td>\n",
       "      <td>1.710526</td>\n",
       "      <td>1.049675</td>\n",
       "      <td>1.564791</td>\n",
       "    </tr>\n",
       "  </tbody>\n",
       "</table>\n",
       "</div>"
      ],
      "text/plain": [
       "   median_inc_fam_9  median_rent_9  median_inc_fam_0  median_rent_0  \\\n",
       "1             38711            742             50817            730   \n",
       "2             40484            535             41019            643   \n",
       "3             24732            466             30104            558   \n",
       "4             24823            422             23671            461   \n",
       "5             18762            298             19694            266   \n",
       "\n",
       "   median_inc_fam_1  median_rent_1  rent_income_ratio_9  rent_income_ratio_0  \\\n",
       "1             58368           1273             0.230012             0.172383   \n",
       "2             73148           1330             0.158581             0.188108   \n",
       "3             33555            823             0.226104             0.222429   \n",
       "4             25489            870             0.204004             0.233704   \n",
       "5             30817            455             0.190598             0.162080   \n",
       "\n",
       "   rent_income_ratio_1  rent_growth_90_00  rent_growth_00_10  \\\n",
       "1             0.261719           0.983827           1.743836   \n",
       "2             0.218188           1.201869           2.068429   \n",
       "3             0.294323           1.197425           1.474910   \n",
       "4             0.409588           1.092417           1.887202   \n",
       "5             0.177175           0.892617           1.710526   \n",
       "\n",
       "   inc_growth_90_00  inc_growth_00_10  \n",
       "1          1.312728          1.148592  \n",
       "2          1.013215          1.783271  \n",
       "3          1.217208          1.114636  \n",
       "4          0.953591          1.076803  \n",
       "5          1.049675          1.564791  "
      ]
     },
     "execution_count": 34,
     "metadata": {},
     "output_type": "execute_result"
    }
   ],
   "source": [
    "df2['rent_growth_90_00'] = df2.median_rent_0/df2.median_rent_9\n",
    "df2['rent_growth_00_10'] = df2.median_rent_1/df2.median_rent_0\n",
    "\n",
    "df2['inc_growth_90_00'] = df2.median_inc_fam_0/df2.median_inc_fam_9\n",
    "df2['inc_growth_00_10'] = df2.median_inc_fam_1/df2.median_inc_fam_0\n",
    "df2.head()"
   ]
  },
  {
   "cell_type": "code",
   "execution_count": 35,
   "metadata": {
    "collapsed": false
   },
   "outputs": [
    {
     "data": {
      "text/html": [
       "<div>\n",
       "<table border=\"1\" class=\"dataframe\">\n",
       "  <thead>\n",
       "    <tr style=\"text-align: right;\">\n",
       "      <th></th>\n",
       "      <th>median_inc_fam_9</th>\n",
       "      <th>median_rent_9</th>\n",
       "      <th>median_inc_fam_0</th>\n",
       "      <th>median_rent_0</th>\n",
       "      <th>median_inc_fam_1</th>\n",
       "      <th>median_rent_1</th>\n",
       "      <th>rent_income_ratio_9</th>\n",
       "      <th>rent_income_ratio_0</th>\n",
       "      <th>rent_income_ratio_1</th>\n",
       "      <th>rent_growth_90_00</th>\n",
       "      <th>rent_growth_00_10</th>\n",
       "      <th>inc_growth_90_00</th>\n",
       "      <th>inc_growth_00_10</th>\n",
       "    </tr>\n",
       "  </thead>\n",
       "  <tbody>\n",
       "    <tr>\n",
       "      <th>count</th>\n",
       "      <td>2089.000000</td>\n",
       "      <td>2089.000000</td>\n",
       "      <td>2089.000000</td>\n",
       "      <td>2089.000000</td>\n",
       "      <td>2089.000000</td>\n",
       "      <td>2089.000000</td>\n",
       "      <td>2089.000000</td>\n",
       "      <td>2089.000000</td>\n",
       "      <td>2089.000000</td>\n",
       "      <td>2089.000000</td>\n",
       "      <td>2089.000000</td>\n",
       "      <td>2089.000000</td>\n",
       "      <td>2089.000000</td>\n",
       "    </tr>\n",
       "    <tr>\n",
       "      <th>mean</th>\n",
       "      <td>37689.401628</td>\n",
       "      <td>544.198181</td>\n",
       "      <td>48874.026807</td>\n",
       "      <td>753.071326</td>\n",
       "      <td>66207.958353</td>\n",
       "      <td>1151.020105</td>\n",
       "      <td>0.259635</td>\n",
       "      <td>0.214373</td>\n",
       "      <td>0.248931</td>\n",
       "      <td>1.394707</td>\n",
       "      <td>1.554580</td>\n",
       "      <td>2.017393</td>\n",
       "      <td>1.386582</td>\n",
       "    </tr>\n",
       "    <tr>\n",
       "      <th>std</th>\n",
       "      <td>18760.425689</td>\n",
       "      <td>150.069074</td>\n",
       "      <td>28645.098401</td>\n",
       "      <td>231.835763</td>\n",
       "      <td>39910.826453</td>\n",
       "      <td>331.293631</td>\n",
       "      <td>2.738330</td>\n",
       "      <td>0.074864</td>\n",
       "      <td>0.100567</td>\n",
       "      <td>0.243999</td>\n",
       "      <td>0.341645</td>\n",
       "      <td>32.109538</td>\n",
       "      <td>0.371344</td>\n",
       "    </tr>\n",
       "    <tr>\n",
       "      <th>min</th>\n",
       "      <td>86.000000</td>\n",
       "      <td>140.000000</td>\n",
       "      <td>7354.000000</td>\n",
       "      <td>175.000000</td>\n",
       "      <td>8542.000000</td>\n",
       "      <td>231.000000</td>\n",
       "      <td>0.067760</td>\n",
       "      <td>0.010500</td>\n",
       "      <td>0.042308</td>\n",
       "      <td>0.174825</td>\n",
       "      <td>0.326599</td>\n",
       "      <td>0.536671</td>\n",
       "      <td>0.210854</td>\n",
       "    </tr>\n",
       "    <tr>\n",
       "      <th>25%</th>\n",
       "      <td>24924.000000</td>\n",
       "      <td>453.000000</td>\n",
       "      <td>30724.000000</td>\n",
       "      <td>644.000000</td>\n",
       "      <td>40022.000000</td>\n",
       "      <td>964.000000</td>\n",
       "      <td>0.151078</td>\n",
       "      <td>0.164954</td>\n",
       "      <td>0.181756</td>\n",
       "      <td>1.272441</td>\n",
       "      <td>1.412500</td>\n",
       "      <td>1.100910</td>\n",
       "      <td>1.155940</td>\n",
       "    </tr>\n",
       "    <tr>\n",
       "      <th>50%</th>\n",
       "      <td>36218.000000</td>\n",
       "      <td>531.000000</td>\n",
       "      <td>42590.000000</td>\n",
       "      <td>740.000000</td>\n",
       "      <td>56726.000000</td>\n",
       "      <td>1120.000000</td>\n",
       "      <td>0.183705</td>\n",
       "      <td>0.204193</td>\n",
       "      <td>0.235058</td>\n",
       "      <td>1.378641</td>\n",
       "      <td>1.525917</td>\n",
       "      <td>1.250178</td>\n",
       "      <td>1.336591</td>\n",
       "    </tr>\n",
       "    <tr>\n",
       "      <th>75%</th>\n",
       "      <td>46843.000000</td>\n",
       "      <td>629.000000</td>\n",
       "      <td>58977.000000</td>\n",
       "      <td>834.000000</td>\n",
       "      <td>80125.000000</td>\n",
       "      <td>1308.000000</td>\n",
       "      <td>0.227210</td>\n",
       "      <td>0.253730</td>\n",
       "      <td>0.300615</td>\n",
       "      <td>1.486239</td>\n",
       "      <td>1.655766</td>\n",
       "      <td>1.426565</td>\n",
       "      <td>1.545935</td>\n",
       "    </tr>\n",
       "    <tr>\n",
       "      <th>max</th>\n",
       "      <td>150001.000000</td>\n",
       "      <td>1001.000000</td>\n",
       "      <td>200001.000000</td>\n",
       "      <td>2001.000000</td>\n",
       "      <td>250001.000000</td>\n",
       "      <td>2001.000000</td>\n",
       "      <td>125.302326</td>\n",
       "      <td>1.194452</td>\n",
       "      <td>1.298057</td>\n",
       "      <td>4.547727</td>\n",
       "      <td>11.434286</td>\n",
       "      <td>1468.779070</td>\n",
       "      <td>4.714033</td>\n",
       "    </tr>\n",
       "  </tbody>\n",
       "</table>\n",
       "</div>"
      ],
      "text/plain": [
       "       median_inc_fam_9  median_rent_9  median_inc_fam_0  median_rent_0  \\\n",
       "count       2089.000000    2089.000000       2089.000000    2089.000000   \n",
       "mean       37689.401628     544.198181      48874.026807     753.071326   \n",
       "std        18760.425689     150.069074      28645.098401     231.835763   \n",
       "min           86.000000     140.000000       7354.000000     175.000000   \n",
       "25%        24924.000000     453.000000      30724.000000     644.000000   \n",
       "50%        36218.000000     531.000000      42590.000000     740.000000   \n",
       "75%        46843.000000     629.000000      58977.000000     834.000000   \n",
       "max       150001.000000    1001.000000     200001.000000    2001.000000   \n",
       "\n",
       "       median_inc_fam_1  median_rent_1  rent_income_ratio_9  \\\n",
       "count       2089.000000    2089.000000          2089.000000   \n",
       "mean       66207.958353    1151.020105             0.259635   \n",
       "std        39910.826453     331.293631             2.738330   \n",
       "min         8542.000000     231.000000             0.067760   \n",
       "25%        40022.000000     964.000000             0.151078   \n",
       "50%        56726.000000    1120.000000             0.183705   \n",
       "75%        80125.000000    1308.000000             0.227210   \n",
       "max       250001.000000    2001.000000           125.302326   \n",
       "\n",
       "       rent_income_ratio_0  rent_income_ratio_1  rent_growth_90_00  \\\n",
       "count          2089.000000          2089.000000        2089.000000   \n",
       "mean              0.214373             0.248931           1.394707   \n",
       "std               0.074864             0.100567           0.243999   \n",
       "min               0.010500             0.042308           0.174825   \n",
       "25%               0.164954             0.181756           1.272441   \n",
       "50%               0.204193             0.235058           1.378641   \n",
       "75%               0.253730             0.300615           1.486239   \n",
       "max               1.194452             1.298057           4.547727   \n",
       "\n",
       "       rent_growth_00_10  inc_growth_90_00  inc_growth_00_10  \n",
       "count        2089.000000       2089.000000       2089.000000  \n",
       "mean            1.554580          2.017393          1.386582  \n",
       "std             0.341645         32.109538          0.371344  \n",
       "min             0.326599          0.536671          0.210854  \n",
       "25%             1.412500          1.100910          1.155940  \n",
       "50%             1.525917          1.250178          1.336591  \n",
       "75%             1.655766          1.426565          1.545935  \n",
       "max            11.434286       1468.779070          4.714033  "
      ]
     },
     "execution_count": 35,
     "metadata": {},
     "output_type": "execute_result"
    }
   ],
   "source": [
    "df2.describe()"
   ]
  },
  {
   "cell_type": "markdown",
   "metadata": {},
   "source": [
    "## Calculate entropy index of different income-level groups for each census tract from 1990 to 2010"
   ]
  },
  {
   "cell_type": "code",
   "execution_count": 36,
   "metadata": {
    "collapsed": false
   },
   "outputs": [],
   "source": [
    "# define entropy index \n",
    "def entropy_index(x):\n",
    "    Q_sum = 0\n",
    "    for i in x:\n",
    "        if i == 0:\n",
    "            Q = 0\n",
    "        else:\n",
    "            Q = (-1) * (i/sum(x)) * np.log(i/sum(x))\n",
    "        Q_sum += Q\n",
    "    entropy_index = Q_sum/np.log(len(x))\n",
    "    return entropy_index"
   ]
  },
  {
   "cell_type": "code",
   "execution_count": 37,
   "metadata": {
    "collapsed": false
   },
   "outputs": [
    {
     "data": {
      "text/plain": [
       "0.92246865765414721"
      ]
     },
     "execution_count": 37,
     "metadata": {},
     "output_type": "execute_result"
    }
   ],
   "source": [
    "# have a try\n",
    "entropy_index(list(df_family_income_1990.iloc[0,:]))"
   ]
  },
  {
   "cell_type": "code",
   "execution_count": 38,
   "metadata": {
    "collapsed": false
   },
   "outputs": [],
   "source": [
    "# calculate the entropy index of 1990\n",
    "for i in df_family_income_1990.index:\n",
    "    df_family_income_1990.loc[i,'entropy_index'] = \\\n",
    "                    entropy_index(list(df_family_income_1990.loc[i,:'fam_inc_max_9']))"
   ]
  },
  {
   "cell_type": "code",
   "execution_count": 39,
   "metadata": {
    "collapsed": false
   },
   "outputs": [
    {
     "data": {
      "text/html": [
       "<div>\n",
       "<table border=\"1\" class=\"dataframe\">\n",
       "  <thead>\n",
       "    <tr style=\"text-align: right;\">\n",
       "      <th></th>\n",
       "      <th>fam_inc_109</th>\n",
       "      <th>fam_inc_159</th>\n",
       "      <th>fam_inc_209</th>\n",
       "      <th>fam_inc_259</th>\n",
       "      <th>fam_inc_309</th>\n",
       "      <th>fam_inc_359</th>\n",
       "      <th>fam_inc_409</th>\n",
       "      <th>fam_inc_499</th>\n",
       "      <th>fam_inc_609</th>\n",
       "      <th>fam_inc_759</th>\n",
       "      <th>fam_inc_1009</th>\n",
       "      <th>fam_inc_1259</th>\n",
       "      <th>fam_inc_1509</th>\n",
       "      <th>fam_inc_max_9</th>\n",
       "      <th>entropy_index</th>\n",
       "    </tr>\n",
       "  </thead>\n",
       "  <tbody>\n",
       "    <tr>\n",
       "      <th>1</th>\n",
       "      <td>29</td>\n",
       "      <td>29</td>\n",
       "      <td>12</td>\n",
       "      <td>31</td>\n",
       "      <td>20</td>\n",
       "      <td>32</td>\n",
       "      <td>31</td>\n",
       "      <td>84</td>\n",
       "      <td>75</td>\n",
       "      <td>59</td>\n",
       "      <td>68</td>\n",
       "      <td>35</td>\n",
       "      <td>18</td>\n",
       "      <td>2</td>\n",
       "      <td>0.922469</td>\n",
       "    </tr>\n",
       "    <tr>\n",
       "      <th>2</th>\n",
       "      <td>19</td>\n",
       "      <td>17</td>\n",
       "      <td>11</td>\n",
       "      <td>34</td>\n",
       "      <td>1</td>\n",
       "      <td>50</td>\n",
       "      <td>50</td>\n",
       "      <td>89</td>\n",
       "      <td>71</td>\n",
       "      <td>58</td>\n",
       "      <td>62</td>\n",
       "      <td>28</td>\n",
       "      <td>1</td>\n",
       "      <td>1</td>\n",
       "      <td>0.863543</td>\n",
       "    </tr>\n",
       "    <tr>\n",
       "      <th>3</th>\n",
       "      <td>142</td>\n",
       "      <td>28</td>\n",
       "      <td>124</td>\n",
       "      <td>84</td>\n",
       "      <td>41</td>\n",
       "      <td>165</td>\n",
       "      <td>39</td>\n",
       "      <td>161</td>\n",
       "      <td>69</td>\n",
       "      <td>70</td>\n",
       "      <td>45</td>\n",
       "      <td>11</td>\n",
       "      <td>0</td>\n",
       "      <td>0</td>\n",
       "      <td>0.863912</td>\n",
       "    </tr>\n",
       "    <tr>\n",
       "      <th>4</th>\n",
       "      <td>50</td>\n",
       "      <td>39</td>\n",
       "      <td>0</td>\n",
       "      <td>0</td>\n",
       "      <td>3</td>\n",
       "      <td>0</td>\n",
       "      <td>0</td>\n",
       "      <td>67</td>\n",
       "      <td>26</td>\n",
       "      <td>10</td>\n",
       "      <td>0</td>\n",
       "      <td>0</td>\n",
       "      <td>0</td>\n",
       "      <td>0</td>\n",
       "      <td>0.577145</td>\n",
       "    </tr>\n",
       "    <tr>\n",
       "      <th>5</th>\n",
       "      <td>284</td>\n",
       "      <td>201</td>\n",
       "      <td>107</td>\n",
       "      <td>60</td>\n",
       "      <td>74</td>\n",
       "      <td>131</td>\n",
       "      <td>95</td>\n",
       "      <td>203</td>\n",
       "      <td>158</td>\n",
       "      <td>40</td>\n",
       "      <td>84</td>\n",
       "      <td>8</td>\n",
       "      <td>0</td>\n",
       "      <td>13</td>\n",
       "      <td>0.875156</td>\n",
       "    </tr>\n",
       "  </tbody>\n",
       "</table>\n",
       "</div>"
      ],
      "text/plain": [
       "   fam_inc_109  fam_inc_159  fam_inc_209  fam_inc_259  fam_inc_309  \\\n",
       "1           29           29           12           31           20   \n",
       "2           19           17           11           34            1   \n",
       "3          142           28          124           84           41   \n",
       "4           50           39            0            0            3   \n",
       "5          284          201          107           60           74   \n",
       "\n",
       "   fam_inc_359  fam_inc_409  fam_inc_499  fam_inc_609  fam_inc_759  \\\n",
       "1           32           31           84           75           59   \n",
       "2           50           50           89           71           58   \n",
       "3          165           39          161           69           70   \n",
       "4            0            0           67           26           10   \n",
       "5          131           95          203          158           40   \n",
       "\n",
       "   fam_inc_1009  fam_inc_1259  fam_inc_1509  fam_inc_max_9  entropy_index  \n",
       "1            68            35            18              2       0.922469  \n",
       "2            62            28             1              1       0.863543  \n",
       "3            45            11             0              0       0.863912  \n",
       "4             0             0             0              0       0.577145  \n",
       "5            84             8             0             13       0.875156  "
      ]
     },
     "execution_count": 39,
     "metadata": {},
     "output_type": "execute_result"
    }
   ],
   "source": [
    "df_family_income_1990.head()"
   ]
  },
  {
   "cell_type": "code",
   "execution_count": 41,
   "metadata": {
    "collapsed": false
   },
   "outputs": [],
   "source": [
    "# calculate the entropy index of 2000 and 2010\n",
    "for i in df_family_income_2000.index:\n",
    "    df_family_income_2000.loc[i,'entropy_index'] = \\\n",
    "                    entropy_index(list(df_family_income_2000.loc[i,:'fam_inc_max_200']))\n",
    "\n",
    "for i in df_family_income_2010.index:\n",
    "    df_family_income_2010.loc[i,'entropy_index'] = \\\n",
    "                    entropy_index(list(df_family_income_2010.loc[i,:'fam_inc_max_201']))"
   ]
  },
  {
   "cell_type": "code",
   "execution_count": 42,
   "metadata": {
    "collapsed": false
   },
   "outputs": [
    {
     "data": {
      "text/html": [
       "<div>\n",
       "<table border=\"1\" class=\"dataframe\">\n",
       "  <thead>\n",
       "    <tr style=\"text-align: right;\">\n",
       "      <th></th>\n",
       "      <th>median_inc_fam_9</th>\n",
       "      <th>median_rent_9</th>\n",
       "      <th>median_inc_fam_0</th>\n",
       "      <th>median_rent_0</th>\n",
       "      <th>median_inc_fam_1</th>\n",
       "      <th>median_rent_1</th>\n",
       "      <th>rent_income_ratio_9</th>\n",
       "      <th>rent_income_ratio_0</th>\n",
       "      <th>rent_income_ratio_1</th>\n",
       "      <th>rent_growth_90_00</th>\n",
       "      <th>rent_growth_00_10</th>\n",
       "      <th>inc_growth_90_00</th>\n",
       "      <th>inc_growth_00_10</th>\n",
       "      <th>entropy_index_9</th>\n",
       "      <th>entropy_index_0</th>\n",
       "      <th>entropy_index_1</th>\n",
       "    </tr>\n",
       "  </thead>\n",
       "  <tbody>\n",
       "    <tr>\n",
       "      <th>1</th>\n",
       "      <td>38711</td>\n",
       "      <td>742</td>\n",
       "      <td>50817</td>\n",
       "      <td>730</td>\n",
       "      <td>58368</td>\n",
       "      <td>1273</td>\n",
       "      <td>0.230012</td>\n",
       "      <td>0.172383</td>\n",
       "      <td>0.261719</td>\n",
       "      <td>0.983827</td>\n",
       "      <td>1.743836</td>\n",
       "      <td>1.312728</td>\n",
       "      <td>1.148592</td>\n",
       "      <td>0.922469</td>\n",
       "      <td>0.871427</td>\n",
       "      <td>0.894048</td>\n",
       "    </tr>\n",
       "    <tr>\n",
       "      <th>2</th>\n",
       "      <td>40484</td>\n",
       "      <td>535</td>\n",
       "      <td>41019</td>\n",
       "      <td>643</td>\n",
       "      <td>73148</td>\n",
       "      <td>1330</td>\n",
       "      <td>0.158581</td>\n",
       "      <td>0.188108</td>\n",
       "      <td>0.218188</td>\n",
       "      <td>1.201869</td>\n",
       "      <td>2.068429</td>\n",
       "      <td>1.013215</td>\n",
       "      <td>1.783271</td>\n",
       "      <td>0.863543</td>\n",
       "      <td>0.914607</td>\n",
       "      <td>0.898725</td>\n",
       "    </tr>\n",
       "    <tr>\n",
       "      <th>3</th>\n",
       "      <td>24732</td>\n",
       "      <td>466</td>\n",
       "      <td>30104</td>\n",
       "      <td>558</td>\n",
       "      <td>33555</td>\n",
       "      <td>823</td>\n",
       "      <td>0.226104</td>\n",
       "      <td>0.222429</td>\n",
       "      <td>0.294323</td>\n",
       "      <td>1.197425</td>\n",
       "      <td>1.474910</td>\n",
       "      <td>1.217208</td>\n",
       "      <td>1.114636</td>\n",
       "      <td>0.863912</td>\n",
       "      <td>0.902281</td>\n",
       "      <td>0.894488</td>\n",
       "    </tr>\n",
       "    <tr>\n",
       "      <th>4</th>\n",
       "      <td>24823</td>\n",
       "      <td>422</td>\n",
       "      <td>23671</td>\n",
       "      <td>461</td>\n",
       "      <td>25489</td>\n",
       "      <td>870</td>\n",
       "      <td>0.204004</td>\n",
       "      <td>0.233704</td>\n",
       "      <td>0.409588</td>\n",
       "      <td>1.092417</td>\n",
       "      <td>1.887202</td>\n",
       "      <td>0.953591</td>\n",
       "      <td>1.076803</td>\n",
       "      <td>0.577145</td>\n",
       "      <td>0.825729</td>\n",
       "      <td>0.842364</td>\n",
       "    </tr>\n",
       "    <tr>\n",
       "      <th>5</th>\n",
       "      <td>18762</td>\n",
       "      <td>298</td>\n",
       "      <td>19694</td>\n",
       "      <td>266</td>\n",
       "      <td>30817</td>\n",
       "      <td>455</td>\n",
       "      <td>0.190598</td>\n",
       "      <td>0.162080</td>\n",
       "      <td>0.177175</td>\n",
       "      <td>0.892617</td>\n",
       "      <td>1.710526</td>\n",
       "      <td>1.049675</td>\n",
       "      <td>1.564791</td>\n",
       "      <td>0.875156</td>\n",
       "      <td>0.795292</td>\n",
       "      <td>0.918302</td>\n",
       "    </tr>\n",
       "  </tbody>\n",
       "</table>\n",
       "</div>"
      ],
      "text/plain": [
       "   median_inc_fam_9  median_rent_9  median_inc_fam_0  median_rent_0  \\\n",
       "1             38711            742             50817            730   \n",
       "2             40484            535             41019            643   \n",
       "3             24732            466             30104            558   \n",
       "4             24823            422             23671            461   \n",
       "5             18762            298             19694            266   \n",
       "\n",
       "   median_inc_fam_1  median_rent_1  rent_income_ratio_9  rent_income_ratio_0  \\\n",
       "1             58368           1273             0.230012             0.172383   \n",
       "2             73148           1330             0.158581             0.188108   \n",
       "3             33555            823             0.226104             0.222429   \n",
       "4             25489            870             0.204004             0.233704   \n",
       "5             30817            455             0.190598             0.162080   \n",
       "\n",
       "   rent_income_ratio_1  rent_growth_90_00  rent_growth_00_10  \\\n",
       "1             0.261719           0.983827           1.743836   \n",
       "2             0.218188           1.201869           2.068429   \n",
       "3             0.294323           1.197425           1.474910   \n",
       "4             0.409588           1.092417           1.887202   \n",
       "5             0.177175           0.892617           1.710526   \n",
       "\n",
       "   inc_growth_90_00  inc_growth_00_10  entropy_index_9  entropy_index_0  \\\n",
       "1          1.312728          1.148592         0.922469         0.871427   \n",
       "2          1.013215          1.783271         0.863543         0.914607   \n",
       "3          1.217208          1.114636         0.863912         0.902281   \n",
       "4          0.953591          1.076803         0.577145         0.825729   \n",
       "5          1.049675          1.564791         0.875156         0.795292   \n",
       "\n",
       "   entropy_index_1  \n",
       "1         0.894048  \n",
       "2         0.898725  \n",
       "3         0.894488  \n",
       "4         0.842364  \n",
       "5         0.918302  "
      ]
     },
     "execution_count": 42,
     "metadata": {},
     "output_type": "execute_result"
    }
   ],
   "source": [
    "# merge the entropy index data into df2\n",
    "df2['entropy_index_9'] = df_family_income_1990.iloc[:,-1]\n",
    "df2['entropy_index_0'] = df_family_income_2000.iloc[:,-1]\n",
    "df2['entropy_index_1'] = df_family_income_2010.iloc[:,-1]\n",
    "df2.head()"
   ]
  },
  {
   "cell_type": "code",
   "execution_count": 43,
   "metadata": {
    "collapsed": false
   },
   "outputs": [
    {
     "data": {
      "text/plain": [
       "array([0, 0, 0, 0, 0, 0, 0, 0, 0, 0, 0, 0, 0, 8, 2, 1])"
      ]
     },
     "execution_count": 43,
     "metadata": {},
     "output_type": "execute_result"
    }
   ],
   "source": [
    "sum(np.array(df2 == 0))"
   ]
  },
  {
   "cell_type": "code",
   "execution_count": 44,
   "metadata": {
    "collapsed": false
   },
   "outputs": [
    {
     "data": {
      "text/plain": [
       "(2080, 16)"
      ]
     },
     "execution_count": 44,
     "metadata": {},
     "output_type": "execute_result"
    }
   ],
   "source": [
    "## delete the observation with 0 entropy index\n",
    "df_census_entropy = df2[~((df2.entropy_index_9 == 0)| (df2.entropy_index_0 == 0)|\\\n",
    "                          (df2.entropy_index_1 == 0))]\n",
    "\n",
    "df_census_entropy.shape"
   ]
  },
  {
   "cell_type": "code",
   "execution_count": 45,
   "metadata": {
    "collapsed": false
   },
   "outputs": [
    {
     "data": {
      "text/plain": [
       "array([0, 0, 0, 0, 0, 0, 0, 0, 0, 0, 0, 0, 0, 0, 0, 0])"
      ]
     },
     "execution_count": 45,
     "metadata": {},
     "output_type": "execute_result"
    }
   ],
   "source": [
    "sum(np.array(df_census_entropy == 0))"
   ]
  },
  {
   "cell_type": "code",
   "execution_count": 104,
   "metadata": {
    "collapsed": false
   },
   "outputs": [
    {
     "data": {
      "text/html": [
       "<div>\n",
       "<table border=\"1\" class=\"dataframe\">\n",
       "  <thead>\n",
       "    <tr style=\"text-align: right;\">\n",
       "      <th></th>\n",
       "      <th>median_inc_fam_9</th>\n",
       "      <th>median_rent_9</th>\n",
       "      <th>median_inc_fam_0</th>\n",
       "      <th>median_rent_0</th>\n",
       "      <th>median_inc_fam_1</th>\n",
       "      <th>median_rent_1</th>\n",
       "      <th>rent_income_ratio_9</th>\n",
       "      <th>rent_income_ratio_0</th>\n",
       "      <th>rent_income_ratio_1</th>\n",
       "      <th>rent_growth_90_00</th>\n",
       "      <th>rent_growth_00_10</th>\n",
       "      <th>inc_growth_90_00</th>\n",
       "      <th>inc_growth_00_10</th>\n",
       "      <th>entropy_index_9</th>\n",
       "      <th>entropy_index_0</th>\n",
       "      <th>entropy_index_1</th>\n",
       "    </tr>\n",
       "  </thead>\n",
       "  <tbody>\n",
       "    <tr>\n",
       "      <th>count</th>\n",
       "      <td>2080.000000</td>\n",
       "      <td>2080.000000</td>\n",
       "      <td>2080.000000</td>\n",
       "      <td>2080.000000</td>\n",
       "      <td>2080.000000</td>\n",
       "      <td>2080.000000</td>\n",
       "      <td>2080.000000</td>\n",
       "      <td>2080.000000</td>\n",
       "      <td>2080.000000</td>\n",
       "      <td>2080.000000</td>\n",
       "      <td>2080.000000</td>\n",
       "      <td>2080.000000</td>\n",
       "      <td>2080.000000</td>\n",
       "      <td>2080.000000</td>\n",
       "      <td>2080.000000</td>\n",
       "      <td>2080.000000</td>\n",
       "    </tr>\n",
       "    <tr>\n",
       "      <th>mean</th>\n",
       "      <td>37747.926923</td>\n",
       "      <td>543.339423</td>\n",
       "      <td>48664.457212</td>\n",
       "      <td>751.245673</td>\n",
       "      <td>65960.824038</td>\n",
       "      <td>1148.772596</td>\n",
       "      <td>0.198773</td>\n",
       "      <td>0.214579</td>\n",
       "      <td>0.249093</td>\n",
       "      <td>1.393492</td>\n",
       "      <td>1.550774</td>\n",
       "      <td>1.304846</td>\n",
       "      <td>1.386766</td>\n",
       "      <td>0.837531</td>\n",
       "      <td>0.878937</td>\n",
       "      <td>0.837894</td>\n",
       "    </tr>\n",
       "    <tr>\n",
       "      <th>std</th>\n",
       "      <td>18752.333826</td>\n",
       "      <td>149.270985</td>\n",
       "      <td>28370.962672</td>\n",
       "      <td>227.074914</td>\n",
       "      <td>39541.366903</td>\n",
       "      <td>328.446693</td>\n",
       "      <td>0.075917</td>\n",
       "      <td>0.074811</td>\n",
       "      <td>0.100533</td>\n",
       "      <td>0.235155</td>\n",
       "      <td>0.264145</td>\n",
       "      <td>0.366783</td>\n",
       "      <td>0.367756</td>\n",
       "      <td>0.076998</td>\n",
       "      <td>0.066597</td>\n",
       "      <td>0.093337</td>\n",
       "    </tr>\n",
       "    <tr>\n",
       "      <th>min</th>\n",
       "      <td>4999.000000</td>\n",
       "      <td>140.000000</td>\n",
       "      <td>7354.000000</td>\n",
       "      <td>195.000000</td>\n",
       "      <td>8542.000000</td>\n",
       "      <td>231.000000</td>\n",
       "      <td>0.067760</td>\n",
       "      <td>0.047473</td>\n",
       "      <td>0.042308</td>\n",
       "      <td>0.624286</td>\n",
       "      <td>0.326599</td>\n",
       "      <td>0.536671</td>\n",
       "      <td>0.210854</td>\n",
       "      <td>0.172632</td>\n",
       "      <td>0.362708</td>\n",
       "      <td>0.199940</td>\n",
       "    </tr>\n",
       "    <tr>\n",
       "      <th>25%</th>\n",
       "      <td>25085.750000</td>\n",
       "      <td>453.000000</td>\n",
       "      <td>30718.000000</td>\n",
       "      <td>644.000000</td>\n",
       "      <td>40016.500000</td>\n",
       "      <td>964.000000</td>\n",
       "      <td>0.150911</td>\n",
       "      <td>0.164962</td>\n",
       "      <td>0.181956</td>\n",
       "      <td>1.272691</td>\n",
       "      <td>1.412871</td>\n",
       "      <td>1.100241</td>\n",
       "      <td>1.156685</td>\n",
       "      <td>0.811590</td>\n",
       "      <td>0.854212</td>\n",
       "      <td>0.804635</td>\n",
       "    </tr>\n",
       "    <tr>\n",
       "      <th>50%</th>\n",
       "      <td>36235.500000</td>\n",
       "      <td>531.000000</td>\n",
       "      <td>42470.000000</td>\n",
       "      <td>740.000000</td>\n",
       "      <td>56649.500000</td>\n",
       "      <td>1120.000000</td>\n",
       "      <td>0.183664</td>\n",
       "      <td>0.204214</td>\n",
       "      <td>0.235401</td>\n",
       "      <td>1.378611</td>\n",
       "      <td>1.526301</td>\n",
       "      <td>1.248453</td>\n",
       "      <td>1.336644</td>\n",
       "      <td>0.854884</td>\n",
       "      <td>0.896428</td>\n",
       "      <td>0.860526</td>\n",
       "    </tr>\n",
       "    <tr>\n",
       "      <th>75%</th>\n",
       "      <td>46918.500000</td>\n",
       "      <td>629.000000</td>\n",
       "      <td>58838.250000</td>\n",
       "      <td>833.000000</td>\n",
       "      <td>80021.000000</td>\n",
       "      <td>1305.250000</td>\n",
       "      <td>0.226743</td>\n",
       "      <td>0.253890</td>\n",
       "      <td>0.300631</td>\n",
       "      <td>1.485551</td>\n",
       "      <td>1.655776</td>\n",
       "      <td>1.421796</td>\n",
       "      <td>1.546234</td>\n",
       "      <td>0.885035</td>\n",
       "      <td>0.923663</td>\n",
       "      <td>0.899776</td>\n",
       "    </tr>\n",
       "    <tr>\n",
       "      <th>max</th>\n",
       "      <td>150001.000000</td>\n",
       "      <td>1001.000000</td>\n",
       "      <td>200001.000000</td>\n",
       "      <td>2001.000000</td>\n",
       "      <td>250001.000000</td>\n",
       "      <td>2001.000000</td>\n",
       "      <td>0.885777</td>\n",
       "      <td>1.194452</td>\n",
       "      <td>1.298057</td>\n",
       "      <td>4.547727</td>\n",
       "      <td>4.600000</td>\n",
       "      <td>8.984771</td>\n",
       "      <td>4.714033</td>\n",
       "      <td>0.962561</td>\n",
       "      <td>0.978050</td>\n",
       "      <td>0.979375</td>\n",
       "    </tr>\n",
       "  </tbody>\n",
       "</table>\n",
       "</div>"
      ],
      "text/plain": [
       "       median_inc_fam_9  median_rent_9  median_inc_fam_0  median_rent_0  \\\n",
       "count       2080.000000    2080.000000       2080.000000    2080.000000   \n",
       "mean       37747.926923     543.339423      48664.457212     751.245673   \n",
       "std        18752.333826     149.270985      28370.962672     227.074914   \n",
       "min         4999.000000     140.000000       7354.000000     195.000000   \n",
       "25%        25085.750000     453.000000      30718.000000     644.000000   \n",
       "50%        36235.500000     531.000000      42470.000000     740.000000   \n",
       "75%        46918.500000     629.000000      58838.250000     833.000000   \n",
       "max       150001.000000    1001.000000     200001.000000    2001.000000   \n",
       "\n",
       "       median_inc_fam_1  median_rent_1  rent_income_ratio_9  \\\n",
       "count       2080.000000    2080.000000          2080.000000   \n",
       "mean       65960.824038    1148.772596             0.198773   \n",
       "std        39541.366903     328.446693             0.075917   \n",
       "min         8542.000000     231.000000             0.067760   \n",
       "25%        40016.500000     964.000000             0.150911   \n",
       "50%        56649.500000    1120.000000             0.183664   \n",
       "75%        80021.000000    1305.250000             0.226743   \n",
       "max       250001.000000    2001.000000             0.885777   \n",
       "\n",
       "       rent_income_ratio_0  rent_income_ratio_1  rent_growth_90_00  \\\n",
       "count          2080.000000          2080.000000        2080.000000   \n",
       "mean              0.214579             0.249093           1.393492   \n",
       "std               0.074811             0.100533           0.235155   \n",
       "min               0.047473             0.042308           0.624286   \n",
       "25%               0.164962             0.181956           1.272691   \n",
       "50%               0.204214             0.235401           1.378611   \n",
       "75%               0.253890             0.300631           1.485551   \n",
       "max               1.194452             1.298057           4.547727   \n",
       "\n",
       "       rent_growth_00_10  inc_growth_90_00  inc_growth_00_10  entropy_index_9  \\\n",
       "count        2080.000000       2080.000000       2080.000000      2080.000000   \n",
       "mean            1.550774          1.304846          1.386766         0.837531   \n",
       "std             0.264145          0.366783          0.367756         0.076998   \n",
       "min             0.326599          0.536671          0.210854         0.172632   \n",
       "25%             1.412871          1.100241          1.156685         0.811590   \n",
       "50%             1.526301          1.248453          1.336644         0.854884   \n",
       "75%             1.655776          1.421796          1.546234         0.885035   \n",
       "max             4.600000          8.984771          4.714033         0.962561   \n",
       "\n",
       "       entropy_index_0  entropy_index_1  \n",
       "count      2080.000000      2080.000000  \n",
       "mean          0.878937         0.837894  \n",
       "std           0.066597         0.093337  \n",
       "min           0.362708         0.199940  \n",
       "25%           0.854212         0.804635  \n",
       "50%           0.896428         0.860526  \n",
       "75%           0.923663         0.899776  \n",
       "max           0.978050         0.979375  "
      ]
     },
     "execution_count": 104,
     "metadata": {},
     "output_type": "execute_result"
    }
   ],
   "source": [
    "df_census_entropy.describe()"
   ]
  },
  {
   "cell_type": "code",
   "execution_count": 109,
   "metadata": {
    "collapsed": false
   },
   "outputs": [
    {
     "data": {
      "text/plain": [
       "<matplotlib.text.Text at 0x117c1a470>"
      ]
     },
     "execution_count": 109,
     "metadata": {},
     "output_type": "execute_result"
    },
    {
     "data": {
      "image/png": "[encoded data removed]",
      "text/plain": [
       "<matplotlib.figure.Figure at 0x117ae0668>"
      ]
     },
     "metadata": {},
     "output_type": "display_data"
    }
   ],
   "source": [
    "plt.figure(figsize = (6, 6))\n",
    "plt.bar(np.arange(3), df_census_entropy.median()[-3:])\n",
    "\n",
    "plt.xticks(np.arange(3), ('1990','2000','2010'))\n",
    "plt.xlabel('Year', fontsize = 15)\n",
    "plt.ylabel('Median income entropy index', fontsize = 15)\n",
    "plt.title('Income entropy index between 1990-2010', fontsize = 15)"
   ]
  },
  {
   "cell_type": "markdown",
   "metadata": {},
   "source": [
    "## OLS regression between rent growth and entropy index at the beginning point"
   ]
  },
  {
   "cell_type": "code",
   "execution_count": 46,
   "metadata": {
    "collapsed": true
   },
   "outputs": [],
   "source": [
    "lm1 = smf.ols('rent_growth_90_00 ~ entropy_index_9', df_census_entropy).fit()\n",
    "lm2 = smf.ols('rent_growth_00_10 ~ entropy_index_0', df_census_entropy).fit()"
   ]
  },
  {
   "cell_type": "code",
   "execution_count": 47,
   "metadata": {
    "collapsed": false
   },
   "outputs": [
    {
     "data": {
      "text/html": [
       "<table class=\"simpletable\">\n",
       "<caption>OLS Regression Results</caption>\n",
       "<tr>\n",
       "  <th>Dep. Variable:</th>    <td>rent_growth_90_00</td> <th>  R-squared:         </th> <td>   0.007</td>\n",
       "</tr>\n",
       "<tr>\n",
       "  <th>Model:</th>                   <td>OLS</td>        <th>  Adj. R-squared:    </th> <td>   0.006</td>\n",
       "</tr>\n",
       "<tr>\n",
       "  <th>Method:</th>             <td>Least Squares</td>   <th>  F-statistic:       </th> <td>   14.51</td>\n",
       "</tr>\n",
       "<tr>\n",
       "  <th>Date:</th>             <td>Tue, 14 Nov 2017</td>  <th>  Prob (F-statistic):</th> <td>0.000144</td>\n",
       "</tr>\n",
       "<tr>\n",
       "  <th>Time:</th>                 <td>15:56:31</td>      <th>  Log-Likelihood:    </th> <td>  67.161</td>\n",
       "</tr>\n",
       "<tr>\n",
       "  <th>No. Observations:</th>      <td>  2080</td>       <th>  AIC:               </th> <td>  -130.3</td>\n",
       "</tr>\n",
       "<tr>\n",
       "  <th>Df Residuals:</th>          <td>  2078</td>       <th>  BIC:               </th> <td>  -119.0</td>\n",
       "</tr>\n",
       "<tr>\n",
       "  <th>Df Model:</th>              <td>     1</td>       <th>                     </th>     <td> </td>   \n",
       "</tr>\n",
       "<tr>\n",
       "  <th>Covariance Type:</th>      <td>nonrobust</td>     <th>                     </th>     <td> </td>   \n",
       "</tr>\n",
       "</table>\n",
       "<table class=\"simpletable\">\n",
       "<tr>\n",
       "         <td></td>            <th>coef</th>     <th>std err</th>      <th>t</th>      <th>P>|t|</th> <th>[95.0% Conf. Int.]</th> \n",
       "</tr>\n",
       "<tr>\n",
       "  <th>Intercept</th>       <td>    1.6065</td> <td>    0.056</td> <td>   28.609</td> <td> 0.000</td> <td>    1.496     1.717</td>\n",
       "</tr>\n",
       "<tr>\n",
       "  <th>entropy_index_9</th> <td>   -0.2543</td> <td>    0.067</td> <td>   -3.809</td> <td> 0.000</td> <td>   -0.385    -0.123</td>\n",
       "</tr>\n",
       "</table>\n",
       "<table class=\"simpletable\">\n",
       "<tr>\n",
       "  <th>Omnibus:</th>       <td>1262.560</td> <th>  Durbin-Watson:     </th> <td>   1.604</td> \n",
       "</tr>\n",
       "<tr>\n",
       "  <th>Prob(Omnibus):</th>  <td> 0.000</td>  <th>  Jarque-Bera (JB):  </th> <td>39327.293</td>\n",
       "</tr>\n",
       "<tr>\n",
       "  <th>Skew:</th>           <td> 2.323</td>  <th>  Prob(JB):          </th> <td>    0.00</td> \n",
       "</tr>\n",
       "<tr>\n",
       "  <th>Kurtosis:</th>       <td>23.789</td>  <th>  Cond. No.          </th> <td>    22.1</td> \n",
       "</tr>\n",
       "</table>"
      ],
      "text/plain": [
       "<class 'statsmodels.iolib.summary.Summary'>\n",
       "\"\"\"\n",
       "                            OLS Regression Results                            \n",
       "==============================================================================\n",
       "Dep. Variable:      rent_growth_90_00   R-squared:                       0.007\n",
       "Model:                            OLS   Adj. R-squared:                  0.006\n",
       "Method:                 Least Squares   F-statistic:                     14.51\n",
       "Date:                Tue, 14 Nov 2017   Prob (F-statistic):           0.000144\n",
       "Time:                        15:56:31   Log-Likelihood:                 67.161\n",
       "No. Observations:                2080   AIC:                            -130.3\n",
       "Df Residuals:                    2078   BIC:                            -119.0\n",
       "Df Model:                           1                                         \n",
       "Covariance Type:            nonrobust                                         \n",
       "===================================================================================\n",
       "                      coef    std err          t      P>|t|      [95.0% Conf. Int.]\n",
       "-----------------------------------------------------------------------------------\n",
       "Intercept           1.6065      0.056     28.609      0.000         1.496     1.717\n",
       "entropy_index_9    -0.2543      0.067     -3.809      0.000        -0.385    -0.123\n",
       "==============================================================================\n",
       "Omnibus:                     1262.560   Durbin-Watson:                   1.604\n",
       "Prob(Omnibus):                  0.000   Jarque-Bera (JB):            39327.293\n",
       "Skew:                           2.323   Prob(JB):                         0.00\n",
       "Kurtosis:                      23.789   Cond. No.                         22.1\n",
       "==============================================================================\n",
       "\n",
       "Warnings:\n",
       "[1] Standard Errors assume that the covariance matrix of the errors is correctly specified.\n",
       "\"\"\""
      ]
     },
     "execution_count": 47,
     "metadata": {},
     "output_type": "execute_result"
    }
   ],
   "source": [
    "lm1.summary()"
   ]
  },
  {
   "cell_type": "code",
   "execution_count": 48,
   "metadata": {
    "collapsed": false
   },
   "outputs": [
    {
     "data": {
      "text/html": [
       "<table class=\"simpletable\">\n",
       "<caption>OLS Regression Results</caption>\n",
       "<tr>\n",
       "  <th>Dep. Variable:</th>    <td>rent_growth_00_10</td> <th>  R-squared:         </th> <td>   0.002</td>\n",
       "</tr>\n",
       "<tr>\n",
       "  <th>Model:</th>                   <td>OLS</td>        <th>  Adj. R-squared:    </th> <td>   0.001</td>\n",
       "</tr>\n",
       "<tr>\n",
       "  <th>Method:</th>             <td>Least Squares</td>   <th>  F-statistic:       </th> <td>   3.395</td>\n",
       "</tr>\n",
       "<tr>\n",
       "  <th>Date:</th>             <td>Tue, 14 Nov 2017</td>  <th>  Prob (F-statistic):</th>  <td>0.0655</td> \n",
       "</tr>\n",
       "<tr>\n",
       "  <th>Time:</th>                 <td>15:56:31</td>      <th>  Log-Likelihood:    </th> <td> -180.18</td>\n",
       "</tr>\n",
       "<tr>\n",
       "  <th>No. Observations:</th>      <td>  2080</td>       <th>  AIC:               </th> <td>   364.4</td>\n",
       "</tr>\n",
       "<tr>\n",
       "  <th>Df Residuals:</th>          <td>  2078</td>       <th>  BIC:               </th> <td>   375.6</td>\n",
       "</tr>\n",
       "<tr>\n",
       "  <th>Df Model:</th>              <td>     1</td>       <th>                     </th>     <td> </td>   \n",
       "</tr>\n",
       "<tr>\n",
       "  <th>Covariance Type:</th>      <td>nonrobust</td>     <th>                     </th>     <td> </td>   \n",
       "</tr>\n",
       "</table>\n",
       "<table class=\"simpletable\">\n",
       "<tr>\n",
       "         <td></td>            <th>coef</th>     <th>std err</th>      <th>t</th>      <th>P>|t|</th> <th>[95.0% Conf. Int.]</th> \n",
       "</tr>\n",
       "<tr>\n",
       "  <th>Intercept</th>       <td>    1.6916</td> <td>    0.077</td> <td>   22.074</td> <td> 0.000</td> <td>    1.541     1.842</td>\n",
       "</tr>\n",
       "<tr>\n",
       "  <th>entropy_index_0</th> <td>   -0.1602</td> <td>    0.087</td> <td>   -1.843</td> <td> 0.066</td> <td>   -0.331     0.010</td>\n",
       "</tr>\n",
       "</table>\n",
       "<table class=\"simpletable\">\n",
       "<tr>\n",
       "  <th>Omnibus:</th>       <td>858.727</td> <th>  Durbin-Watson:     </th> <td>   1.976</td> \n",
       "</tr>\n",
       "<tr>\n",
       "  <th>Prob(Omnibus):</th> <td> 0.000</td>  <th>  Jarque-Bera (JB):  </th> <td>13975.251</td>\n",
       "</tr>\n",
       "<tr>\n",
       "  <th>Skew:</th>          <td> 1.508</td>  <th>  Prob(JB):          </th> <td>    0.00</td> \n",
       "</tr>\n",
       "<tr>\n",
       "  <th>Kurtosis:</th>      <td>15.335</td>  <th>  Cond. No.          </th> <td>    26.7</td> \n",
       "</tr>\n",
       "</table>"
      ],
      "text/plain": [
       "<class 'statsmodels.iolib.summary.Summary'>\n",
       "\"\"\"\n",
       "                            OLS Regression Results                            \n",
       "==============================================================================\n",
       "Dep. Variable:      rent_growth_00_10   R-squared:                       0.002\n",
       "Model:                            OLS   Adj. R-squared:                  0.001\n",
       "Method:                 Least Squares   F-statistic:                     3.395\n",
       "Date:                Tue, 14 Nov 2017   Prob (F-statistic):             0.0655\n",
       "Time:                        15:56:31   Log-Likelihood:                -180.18\n",
       "No. Observations:                2080   AIC:                             364.4\n",
       "Df Residuals:                    2078   BIC:                             375.6\n",
       "Df Model:                           1                                         \n",
       "Covariance Type:            nonrobust                                         \n",
       "===================================================================================\n",
       "                      coef    std err          t      P>|t|      [95.0% Conf. Int.]\n",
       "-----------------------------------------------------------------------------------\n",
       "Intercept           1.6916      0.077     22.074      0.000         1.541     1.842\n",
       "entropy_index_0    -0.1602      0.087     -1.843      0.066        -0.331     0.010\n",
       "==============================================================================\n",
       "Omnibus:                      858.727   Durbin-Watson:                   1.976\n",
       "Prob(Omnibus):                  0.000   Jarque-Bera (JB):            13975.251\n",
       "Skew:                           1.508   Prob(JB):                         0.00\n",
       "Kurtosis:                      15.335   Cond. No.                         26.7\n",
       "==============================================================================\n",
       "\n",
       "Warnings:\n",
       "[1] Standard Errors assume that the covariance matrix of the errors is correctly specified.\n",
       "\"\"\""
      ]
     },
     "execution_count": 48,
     "metadata": {},
     "output_type": "execute_result"
    }
   ],
   "source": [
    "lm2.summary()"
   ]
  },
  {
   "cell_type": "code",
   "execution_count": 52,
   "metadata": {
    "collapsed": false
   },
   "outputs": [
    {
     "data": {
      "text/plain": [
       "<matplotlib.text.Text at 0x11381eef0>"
      ]
     },
     "execution_count": 52,
     "metadata": {},
     "output_type": "execute_result"
    },
    {
     "data": {
      "image/png": "[encoded data removed]",
      "text/plain": [
       "<matplotlib.figure.Figure at 0x1138194e0>"
      ]
     },
     "metadata": {},
     "output_type": "display_data"
    }
   ],
   "source": [
    "plt.figure(figsize = (8, 6))\n",
    "plt.scatter(df_census_entropy.entropy_index_9, df_census_entropy.rent_growth_90_00)\n",
    "plt.plot(df_census_entropy.entropy_index_9, lm1.predict(), c = 'r')\n",
    "plt.xlabel('entropy index of 1990', fontsize = 15)\n",
    "plt.ylabel('Rent growth from 1990 to 2000', fontsize = 15)"
   ]
  },
  {
   "cell_type": "code",
   "execution_count": 53,
   "metadata": {
    "collapsed": false
   },
   "outputs": [
    {
     "data": {
      "text/plain": [
       "<matplotlib.text.Text at 0x113838198>"
      ]
     },
     "execution_count": 53,
     "metadata": {},
     "output_type": "execute_result"
    },
    {
     "data": {
      "image/png": "[encoded data removed]",
      "text/plain": [
       "<matplotlib.figure.Figure at 0x1139631d0>"
      ]
     },
     "metadata": {},
     "output_type": "display_data"
    }
   ],
   "source": [
    "plt.figure(figsize = (8, 6))\n",
    "plt.scatter(df_census_entropy.entropy_index_0, df_census_entropy.rent_growth_00_10)\n",
    "plt.plot(df_census_entropy.entropy_index_0, lm2.predict(), c = 'r')\n",
    "plt.xlabel('entropy index of 2000', fontsize = 15)\n",
    "plt.ylabel('Rent growth from 2000 to 2010', fontsize = 15)"
   ]
  },
  {
   "cell_type": "code",
   "execution_count": null,
   "metadata": {
    "collapsed": true
   },
   "outputs": [],
   "source": []
  }
 ],
 "metadata": {
  "kernelspec": {
   "display_name": "Python 3",
   "language": "python",
   "name": "python3"
  },
  "language_info": {
   "codemirror_mode": {
    "name": "ipython",
    "version": 3
   },
   "file_extension": ".py",
   "mimetype": "text/x-python",
   "name": "python",
   "nbconvert_exporter": "python",
   "pygments_lexer": "ipython3",
   "version": "3.6.0"
  }
 },
 "nbformat": 4,
 "nbformat_minor": 2
}
