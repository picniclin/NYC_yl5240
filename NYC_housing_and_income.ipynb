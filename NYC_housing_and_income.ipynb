{
 "cells": [
  {
   "cell_type": "code",
   "execution_count": 1,
   "metadata": {
    "collapsed": true
   },
   "outputs": [],
   "source": [
    "import pandas as pd\n",
    "import numpy as np\n",
    "import matplotlib.pylab as plt\n",
    "%matplotlib inline\n",
    "import statsmodels.formula.api as smf"
   ]
  },
  {
   "cell_type": "markdown",
   "metadata": {},
   "source": [
    "## download the dataset from:\n",
    " https://github.com/picniclin/NYC_yl5240/blob/master/geolytics_NYC_census_1990-2010.csv\n",
    "\n",
    "or\n",
    "\n",
    "https://drive.google.com/a/nyu.edu/file/d/0B2HY61hRpF-jV21KSTVsbi1wS3M/view?usp=sharing"
   ]
  },
  {
   "cell_type": "markdown",
   "metadata": {},
   "source": [
    "# To measure the relationship between the change of housing rent price and entropy index of income_level groups"
   ]
  },
  {
   "cell_type": "code",
   "execution_count": 2,
   "metadata": {
    "collapsed": false
   },
   "outputs": [],
   "source": [
    "df = pd.read_csv('/Users/apple/Downloads/geolytics_NYC_census_1990-2010.csv')"
   ]
  },
  {
   "cell_type": "code",
   "execution_count": 3,
   "metadata": {
    "collapsed": false
   },
   "outputs": [
    {
     "data": {
      "text/plain": [
       "(2168, 146)"
      ]
     },
     "execution_count": 3,
     "metadata": {},
     "output_type": "execute_result"
    }
   ],
   "source": [
    "df.shape"
   ]
  },
  {
   "cell_type": "code",
   "execution_count": 4,
   "metadata": {
    "collapsed": false
   },
   "outputs": [
    {
     "data": {
      "text/plain": [
       "Index(['AREAKEY', 'STATE', 'STUSAB', 'INTPTLAT', 'INTPTLON', 'TCH_90_10',\n",
       "       'TCH_00_10', 'ZCTA5', 'TRCTPOP9', 'POVRAT9N',\n",
       "       ...\n",
       "       'THY01001A', 'THY01251A', 'THY01501A', 'THY02001A', 'THY0M201A',\n",
       "       'MDHHY1A', 'MDVALHS1A', 'MCSMORT1A', 'MCSNMOR1A', 'MDGRENT1A'],\n",
       "      dtype='object', length=146)"
      ]
     },
     "execution_count": 4,
     "metadata": {},
     "output_type": "execute_result"
    }
   ],
   "source": [
    "df.columns"
   ]
  },
  {
   "cell_type": "code",
   "execution_count": 5,
   "metadata": {
    "collapsed": false,
    "scrolled": true
   },
   "outputs": [
    {
     "data": {
      "text/html": [
       "<div>\n",
       "<table border=\"1\" class=\"dataframe\">\n",
       "  <thead>\n",
       "    <tr style=\"text-align: right;\">\n",
       "      <th></th>\n",
       "      <th>AREAKEY</th>\n",
       "      <th>STATE</th>\n",
       "      <th>STUSAB</th>\n",
       "      <th>INTPTLAT</th>\n",
       "      <th>INTPTLON</th>\n",
       "      <th>TCH_90_10</th>\n",
       "      <th>TCH_00_10</th>\n",
       "      <th>ZCTA5</th>\n",
       "      <th>TRCTPOP9</th>\n",
       "      <th>POVRAT9N</th>\n",
       "      <th>...</th>\n",
       "      <th>THY01001A</th>\n",
       "      <th>THY01251A</th>\n",
       "      <th>THY01501A</th>\n",
       "      <th>THY02001A</th>\n",
       "      <th>THY0M201A</th>\n",
       "      <th>MDHHY1A</th>\n",
       "      <th>MDVALHS1A</th>\n",
       "      <th>MCSMORT1A</th>\n",
       "      <th>MCSNMOR1A</th>\n",
       "      <th>MDGRENT1A</th>\n",
       "    </tr>\n",
       "  </thead>\n",
       "  <tbody>\n",
       "    <tr>\n",
       "      <th>0</th>\n",
       "      <td>36005000100</td>\n",
       "      <td>36</td>\n",
       "      <td>NY</td>\n",
       "      <td>40.793492</td>\n",
       "      <td>-73.883532</td>\n",
       "      <td>0</td>\n",
       "      <td>0</td>\n",
       "      <td>11370.0</td>\n",
       "      <td>14303</td>\n",
       "      <td>0</td>\n",
       "      <td>...</td>\n",
       "      <td>0</td>\n",
       "      <td>0</td>\n",
       "      <td>0</td>\n",
       "      <td>0</td>\n",
       "      <td>0</td>\n",
       "      <td>0</td>\n",
       "      <td>0</td>\n",
       "      <td>0</td>\n",
       "      <td>0</td>\n",
       "      <td>0</td>\n",
       "    </tr>\n",
       "    <tr>\n",
       "      <th>1</th>\n",
       "      <td>36005000200</td>\n",
       "      <td>36</td>\n",
       "      <td>NY</td>\n",
       "      <td>40.804573</td>\n",
       "      <td>-73.856859</td>\n",
       "      <td>3</td>\n",
       "      <td>3</td>\n",
       "      <td>10473.0</td>\n",
       "      <td>2907</td>\n",
       "      <td>411</td>\n",
       "      <td>...</td>\n",
       "      <td>152</td>\n",
       "      <td>203</td>\n",
       "      <td>48</td>\n",
       "      <td>68</td>\n",
       "      <td>11</td>\n",
       "      <td>59826</td>\n",
       "      <td>392500</td>\n",
       "      <td>2661</td>\n",
       "      <td>650</td>\n",
       "      <td>1273</td>\n",
       "    </tr>\n",
       "    <tr>\n",
       "      <th>2</th>\n",
       "      <td>36005000400</td>\n",
       "      <td>36</td>\n",
       "      <td>NY</td>\n",
       "      <td>40.808915</td>\n",
       "      <td>-73.850488</td>\n",
       "      <td>4</td>\n",
       "      <td>4</td>\n",
       "      <td>10473.0</td>\n",
       "      <td>2260</td>\n",
       "      <td>225</td>\n",
       "      <td>...</td>\n",
       "      <td>255</td>\n",
       "      <td>97</td>\n",
       "      <td>161</td>\n",
       "      <td>96</td>\n",
       "      <td>73</td>\n",
       "      <td>71968</td>\n",
       "      <td>393700</td>\n",
       "      <td>2206</td>\n",
       "      <td>679</td>\n",
       "      <td>1330</td>\n",
       "    </tr>\n",
       "    <tr>\n",
       "      <th>3</th>\n",
       "      <td>36005001600</td>\n",
       "      <td>36</td>\n",
       "      <td>NY</td>\n",
       "      <td>40.818848</td>\n",
       "      <td>-73.858076</td>\n",
       "      <td>0</td>\n",
       "      <td>0</td>\n",
       "      <td>10473.0</td>\n",
       "      <td>5254</td>\n",
       "      <td>893</td>\n",
       "      <td>...</td>\n",
       "      <td>171</td>\n",
       "      <td>20</td>\n",
       "      <td>38</td>\n",
       "      <td>20</td>\n",
       "      <td>0</td>\n",
       "      <td>30355</td>\n",
       "      <td>378100</td>\n",
       "      <td>2500</td>\n",
       "      <td>649</td>\n",
       "      <td>823</td>\n",
       "    </tr>\n",
       "    <tr>\n",
       "      <th>4</th>\n",
       "      <td>36005001900</td>\n",
       "      <td>36</td>\n",
       "      <td>NY</td>\n",
       "      <td>40.800999</td>\n",
       "      <td>-73.909373</td>\n",
       "      <td>4</td>\n",
       "      <td>4</td>\n",
       "      <td>10454.0</td>\n",
       "      <td>1575</td>\n",
       "      <td>797</td>\n",
       "      <td>...</td>\n",
       "      <td>14</td>\n",
       "      <td>19</td>\n",
       "      <td>21</td>\n",
       "      <td>0</td>\n",
       "      <td>0</td>\n",
       "      <td>25093</td>\n",
       "      <td>0</td>\n",
       "      <td>0</td>\n",
       "      <td>539</td>\n",
       "      <td>870</td>\n",
       "    </tr>\n",
       "  </tbody>\n",
       "</table>\n",
       "<p>5 rows × 146 columns</p>\n",
       "</div>"
      ],
      "text/plain": [
       "       AREAKEY  STATE STUSAB   INTPTLAT   INTPTLON  TCH_90_10  TCH_00_10  \\\n",
       "0  36005000100     36     NY  40.793492 -73.883532          0          0   \n",
       "1  36005000200     36     NY  40.804573 -73.856859          3          3   \n",
       "2  36005000400     36     NY  40.808915 -73.850488          4          4   \n",
       "3  36005001600     36     NY  40.818848 -73.858076          0          0   \n",
       "4  36005001900     36     NY  40.800999 -73.909373          4          4   \n",
       "\n",
       "     ZCTA5  TRCTPOP9  POVRAT9N    ...      THY01001A  THY01251A  THY01501A  \\\n",
       "0  11370.0     14303         0    ...              0          0          0   \n",
       "1  10473.0      2907       411    ...            152        203         48   \n",
       "2  10473.0      2260       225    ...            255         97        161   \n",
       "3  10473.0      5254       893    ...            171         20         38   \n",
       "4  10454.0      1575       797    ...             14         19         21   \n",
       "\n",
       "   THY02001A  THY0M201A  MDHHY1A  MDVALHS1A  MCSMORT1A  MCSNMOR1A  MDGRENT1A  \n",
       "0          0          0        0          0          0          0          0  \n",
       "1         68         11    59826     392500       2661        650       1273  \n",
       "2         96         73    71968     393700       2206        679       1330  \n",
       "3         20          0    30355     378100       2500        649        823  \n",
       "4          0          0    25093          0          0        539        870  \n",
       "\n",
       "[5 rows x 146 columns]"
      ]
     },
     "execution_count": 5,
     "metadata": {},
     "output_type": "execute_result"
    }
   ],
   "source": [
    "df.head()"
   ]
  },
  {
   "cell_type": "markdown",
   "metadata": {},
   "source": [
    "## make the column names readable"
   ]
  },
  {
   "cell_type": "code",
   "execution_count": 6,
   "metadata": {
    "collapsed": false
   },
   "outputs": [
    {
     "data": {
      "text/plain": [
       "Index(['AREAKEY', 'STATE', 'STUSAB', 'INTPTLAT', 'INTPTLON', 'TCH_90_10',\n",
       "       'TCH_00_10', 'ZCTA5', 'pop9', 'poverty9N',\n",
       "       ...\n",
       "       'hh_inc_1001', 'hh_inc_1251', 'hh_inc_1501', 'hh_inc_2001',\n",
       "       'hh_inc_max_201', 'median_inc_hh_1', 'median_house_value_1',\n",
       "       'owner_cost_mo_1', 'owner_cost_no_mo_1', 'median_rent_1'],\n",
       "      dtype='object', length=146)"
      ]
     },
     "execution_count": 6,
     "metadata": {},
     "output_type": "execute_result"
    }
   ],
   "source": [
    "cols = df.columns.str.replace('TRCTPOP', 'pop')\\\n",
    "            .str.replace('MDFAMY','median_inc_fam_')\\\n",
    "            .str.replace('FAVINC', 'ave_inc_fam_')\\\n",
    "            .str.replace('MDHHY', 'median_inc_hh_')\\\n",
    "            .str.replace('AVHHIN', 'ave_inc_hh_')\\\n",
    "            .str.replace('FALTY', 'fam_inc_')\\\n",
    "            .str.replace('FALT', 'fam_inc_')\\\n",
    "            .str.replace('MXB', 'max_')\\\n",
    "            .str.replace('FAY0', 'fam_inc_')\\\n",
    "            .str.replace('fam_inc_M', 'fam_inc_max_')\\\n",
    "            .str.replace('THY0', 'hh_inc_' )\\\n",
    "            .str.replace('hh_inc_M', 'hh_inc_max_')\\\n",
    "            .str.replace('MDVALHS','median_house_value_')\\\n",
    "            .str.replace('MDGRENT', 'median_rent_' )\\\n",
    "            .str.replace('MCSMORT', 'owner_cost_mo_' )\\\n",
    "            .str.replace('MCSNMOR', 'owner_cost_no_mo_' )\\\n",
    "            .str.replace('OCCHU', 'occ_')\\\n",
    "            .str.replace('VACHU', 'vacant_')\\\n",
    "            .str.replace('RNTOCC','renter_occ_')\\\n",
    "            .str.replace('OWNOCC', 'owner_occ_')\\\n",
    "            .str.replace('SPRNTOC', 'spec_renter_occ_')\\\n",
    "            .str.replace('SPOWNOC', 'spec_owner_occ_')\\\n",
    "            .str.replace('PRSOCU', 'person_occ_')\\\n",
    "            .str.replace('PRSOWNU', 'person_owner_occ_')\\\n",
    "            .str.replace('PRSRNTU', 'person_renter_occ_')\\\n",
    "            .str.replace('POVRAT','poverty')\\\n",
    "            .str.replace('1A', '1')\\\n",
    "            .str.replace('9A', '9')\n",
    "            \n",
    "cols"
   ]
  },
  {
   "cell_type": "code",
   "execution_count": 7,
   "metadata": {
    "collapsed": false
   },
   "outputs": [
    {
     "data": {
      "text/plain": [
       "Index(['census_tract_id', 'state', 'abb.', 'lat', 'lon', 'tract_change_90',\n",
       "       'tract_change_00', 'zip', 'pop9', 'poverty9N',\n",
       "       ...\n",
       "       'hh_inc_1001', 'hh_inc_1251', 'hh_inc_1501', 'hh_inc_2001',\n",
       "       'hh_inc_max_201', 'median_inc_hh_1', 'median_house_value_1',\n",
       "       'owner_cost_mo_1', 'owner_cost_no_mo_1', 'median_rent_1'],\n",
       "      dtype='object', length=146)"
      ]
     },
     "execution_count": 7,
     "metadata": {},
     "output_type": "execute_result"
    }
   ],
   "source": [
    "df.columns = cols\n",
    "\n",
    "df.rename(columns = {'AREAKEY' : 'census_tract_id',\n",
    "                     'STATE':'state','STUSAB':'abb.',\n",
    "                     'TCH_90_10':'tract_change_90', 'TCH_00_10':'tract_change_00',\n",
    "                    'INTPTLAT':'lat', 'INTPTLON':'lon',\n",
    "                    'ZCTA5':'zip'}, inplace = True)\n",
    "df.columns"
   ]
  },
  {
   "cell_type": "code",
   "execution_count": 8,
   "metadata": {
    "collapsed": false
   },
   "outputs": [
    {
     "data": {
      "text/plain": [
       "(2157, 146)"
      ]
     },
     "execution_count": 8,
     "metadata": {},
     "output_type": "execute_result"
    }
   ],
   "source": [
    "df = df.dropna()\n",
    "df.zip = df.zip.astype('int')\n",
    "df.shape"
   ]
  },
  {
   "cell_type": "code",
   "execution_count": 9,
   "metadata": {
    "collapsed": false
   },
   "outputs": [],
   "source": [
    "## delete the observation, i.e. census tract, with 0 median rent or 0 median families income\n",
    "df = df[~((df.median_rent_0 == 0)| (df.median_rent_9 == 0)|(df.median_rent_1 == 0)|\\\n",
    "         (df.median_inc_fam_9 == 0)| (df.median_inc_fam_9 == 0)|(df.median_inc_fam_1 == 0))]"
   ]
  },
  {
   "cell_type": "code",
   "execution_count": 10,
   "metadata": {
    "collapsed": false
   },
   "outputs": [
    {
     "data": {
      "text/plain": [
       "(2089, 146)"
      ]
     },
     "execution_count": 10,
     "metadata": {},
     "output_type": "execute_result"
    }
   ],
   "source": [
    "df.shape"
   ]
  },
  {
   "cell_type": "code",
   "execution_count": 11,
   "metadata": {
    "collapsed": false
   },
   "outputs": [
    {
     "data": {
      "text/html": [
       "<div>\n",
       "<table border=\"1\" class=\"dataframe\">\n",
       "  <thead>\n",
       "    <tr style=\"text-align: right;\">\n",
       "      <th></th>\n",
       "      <th>census_tract_id</th>\n",
       "      <th>state</th>\n",
       "      <th>abb.</th>\n",
       "      <th>lat</th>\n",
       "      <th>lon</th>\n",
       "      <th>tract_change_90</th>\n",
       "      <th>tract_change_00</th>\n",
       "      <th>zip</th>\n",
       "      <th>pop9</th>\n",
       "      <th>poverty9N</th>\n",
       "      <th>...</th>\n",
       "      <th>hh_inc_1001</th>\n",
       "      <th>hh_inc_1251</th>\n",
       "      <th>hh_inc_1501</th>\n",
       "      <th>hh_inc_2001</th>\n",
       "      <th>hh_inc_max_201</th>\n",
       "      <th>median_inc_hh_1</th>\n",
       "      <th>median_house_value_1</th>\n",
       "      <th>owner_cost_mo_1</th>\n",
       "      <th>owner_cost_no_mo_1</th>\n",
       "      <th>median_rent_1</th>\n",
       "    </tr>\n",
       "  </thead>\n",
       "  <tbody>\n",
       "    <tr>\n",
       "      <th>1</th>\n",
       "      <td>36005000200</td>\n",
       "      <td>36</td>\n",
       "      <td>NY</td>\n",
       "      <td>40.804573</td>\n",
       "      <td>-73.856859</td>\n",
       "      <td>3</td>\n",
       "      <td>3</td>\n",
       "      <td>10473</td>\n",
       "      <td>2907</td>\n",
       "      <td>411</td>\n",
       "      <td>...</td>\n",
       "      <td>152</td>\n",
       "      <td>203</td>\n",
       "      <td>48</td>\n",
       "      <td>68</td>\n",
       "      <td>11</td>\n",
       "      <td>59826</td>\n",
       "      <td>392500</td>\n",
       "      <td>2661</td>\n",
       "      <td>650</td>\n",
       "      <td>1273</td>\n",
       "    </tr>\n",
       "    <tr>\n",
       "      <th>2</th>\n",
       "      <td>36005000400</td>\n",
       "      <td>36</td>\n",
       "      <td>NY</td>\n",
       "      <td>40.808915</td>\n",
       "      <td>-73.850488</td>\n",
       "      <td>4</td>\n",
       "      <td>4</td>\n",
       "      <td>10473</td>\n",
       "      <td>2260</td>\n",
       "      <td>225</td>\n",
       "      <td>...</td>\n",
       "      <td>255</td>\n",
       "      <td>97</td>\n",
       "      <td>161</td>\n",
       "      <td>96</td>\n",
       "      <td>73</td>\n",
       "      <td>71968</td>\n",
       "      <td>393700</td>\n",
       "      <td>2206</td>\n",
       "      <td>679</td>\n",
       "      <td>1330</td>\n",
       "    </tr>\n",
       "    <tr>\n",
       "      <th>3</th>\n",
       "      <td>36005001600</td>\n",
       "      <td>36</td>\n",
       "      <td>NY</td>\n",
       "      <td>40.818848</td>\n",
       "      <td>-73.858076</td>\n",
       "      <td>0</td>\n",
       "      <td>0</td>\n",
       "      <td>10473</td>\n",
       "      <td>5254</td>\n",
       "      <td>893</td>\n",
       "      <td>...</td>\n",
       "      <td>171</td>\n",
       "      <td>20</td>\n",
       "      <td>38</td>\n",
       "      <td>20</td>\n",
       "      <td>0</td>\n",
       "      <td>30355</td>\n",
       "      <td>378100</td>\n",
       "      <td>2500</td>\n",
       "      <td>649</td>\n",
       "      <td>823</td>\n",
       "    </tr>\n",
       "    <tr>\n",
       "      <th>4</th>\n",
       "      <td>36005001900</td>\n",
       "      <td>36</td>\n",
       "      <td>NY</td>\n",
       "      <td>40.800999</td>\n",
       "      <td>-73.909373</td>\n",
       "      <td>4</td>\n",
       "      <td>4</td>\n",
       "      <td>10454</td>\n",
       "      <td>1575</td>\n",
       "      <td>797</td>\n",
       "      <td>...</td>\n",
       "      <td>14</td>\n",
       "      <td>19</td>\n",
       "      <td>21</td>\n",
       "      <td>0</td>\n",
       "      <td>0</td>\n",
       "      <td>25093</td>\n",
       "      <td>0</td>\n",
       "      <td>0</td>\n",
       "      <td>539</td>\n",
       "      <td>870</td>\n",
       "    </tr>\n",
       "    <tr>\n",
       "      <th>5</th>\n",
       "      <td>36005002000</td>\n",
       "      <td>36</td>\n",
       "      <td>NY</td>\n",
       "      <td>40.817580</td>\n",
       "      <td>-73.866096</td>\n",
       "      <td>0</td>\n",
       "      <td>0</td>\n",
       "      <td>10473</td>\n",
       "      <td>9110</td>\n",
       "      <td>3423</td>\n",
       "      <td>...</td>\n",
       "      <td>180</td>\n",
       "      <td>161</td>\n",
       "      <td>0</td>\n",
       "      <td>45</td>\n",
       "      <td>12</td>\n",
       "      <td>24939</td>\n",
       "      <td>398100</td>\n",
       "      <td>2185</td>\n",
       "      <td>715</td>\n",
       "      <td>455</td>\n",
       "    </tr>\n",
       "  </tbody>\n",
       "</table>\n",
       "<p>5 rows × 146 columns</p>\n",
       "</div>"
      ],
      "text/plain": [
       "   census_tract_id  state abb.        lat        lon  tract_change_90  \\\n",
       "1      36005000200     36   NY  40.804573 -73.856859                3   \n",
       "2      36005000400     36   NY  40.808915 -73.850488                4   \n",
       "3      36005001600     36   NY  40.818848 -73.858076                0   \n",
       "4      36005001900     36   NY  40.800999 -73.909373                4   \n",
       "5      36005002000     36   NY  40.817580 -73.866096                0   \n",
       "\n",
       "   tract_change_00    zip  pop9  poverty9N      ...        hh_inc_1001  \\\n",
       "1                3  10473  2907        411      ...                152   \n",
       "2                4  10473  2260        225      ...                255   \n",
       "3                0  10473  5254        893      ...                171   \n",
       "4                4  10454  1575        797      ...                 14   \n",
       "5                0  10473  9110       3423      ...                180   \n",
       "\n",
       "   hh_inc_1251  hh_inc_1501  hh_inc_2001  hh_inc_max_201  median_inc_hh_1  \\\n",
       "1          203           48           68              11            59826   \n",
       "2           97          161           96              73            71968   \n",
       "3           20           38           20               0            30355   \n",
       "4           19           21            0               0            25093   \n",
       "5          161            0           45              12            24939   \n",
       "\n",
       "   median_house_value_1  owner_cost_mo_1  owner_cost_no_mo_1  median_rent_1  \n",
       "1                392500             2661                 650           1273  \n",
       "2                393700             2206                 679           1330  \n",
       "3                378100             2500                 649            823  \n",
       "4                     0                0                 539            870  \n",
       "5                398100             2185                 715            455  \n",
       "\n",
       "[5 rows x 146 columns]"
      ]
     },
     "execution_count": 11,
     "metadata": {},
     "output_type": "execute_result"
    }
   ],
   "source": [
    "df.head()"
   ]
  },
  {
   "cell_type": "markdown",
   "metadata": {},
   "source": [
    "## split the dataset into several sub-tables"
   ]
  },
  {
   "cell_type": "code",
   "execution_count": 12,
   "metadata": {
    "collapsed": false
   },
   "outputs": [
    {
     "data": {
      "text/html": [
       "<div>\n",
       "<table border=\"1\" class=\"dataframe\">\n",
       "  <thead>\n",
       "    <tr style=\"text-align: right;\">\n",
       "      <th></th>\n",
       "      <th>census_tract_id</th>\n",
       "      <th>lat</th>\n",
       "      <th>lon</th>\n",
       "      <th>zip</th>\n",
       "    </tr>\n",
       "  </thead>\n",
       "  <tbody>\n",
       "    <tr>\n",
       "      <th>1</th>\n",
       "      <td>36005000200</td>\n",
       "      <td>40.804573</td>\n",
       "      <td>-73.856859</td>\n",
       "      <td>10473</td>\n",
       "    </tr>\n",
       "    <tr>\n",
       "      <th>2</th>\n",
       "      <td>36005000400</td>\n",
       "      <td>40.808915</td>\n",
       "      <td>-73.850488</td>\n",
       "      <td>10473</td>\n",
       "    </tr>\n",
       "    <tr>\n",
       "      <th>3</th>\n",
       "      <td>36005001600</td>\n",
       "      <td>40.818848</td>\n",
       "      <td>-73.858076</td>\n",
       "      <td>10473</td>\n",
       "    </tr>\n",
       "    <tr>\n",
       "      <th>4</th>\n",
       "      <td>36005001900</td>\n",
       "      <td>40.800999</td>\n",
       "      <td>-73.909373</td>\n",
       "      <td>10454</td>\n",
       "    </tr>\n",
       "    <tr>\n",
       "      <th>5</th>\n",
       "      <td>36005002000</td>\n",
       "      <td>40.817580</td>\n",
       "      <td>-73.866096</td>\n",
       "      <td>10473</td>\n",
       "    </tr>\n",
       "  </tbody>\n",
       "</table>\n",
       "</div>"
      ],
      "text/plain": [
       "   census_tract_id        lat        lon    zip\n",
       "1      36005000200  40.804573 -73.856859  10473\n",
       "2      36005000400  40.808915 -73.850488  10473\n",
       "3      36005001600  40.818848 -73.858076  10473\n",
       "4      36005001900  40.800999 -73.909373  10454\n",
       "5      36005002000  40.817580 -73.866096  10473"
      ]
     },
     "execution_count": 12,
     "metadata": {},
     "output_type": "execute_result"
    }
   ],
   "source": [
    "# the sub-table of census tract information, including geoid, latitude, longitude, and zip.\n",
    "df_tract = df.iloc[:, [0,3,4,7]]\n",
    "df_tract.head()"
   ]
  },
  {
   "cell_type": "code",
   "execution_count": 13,
   "metadata": {
    "collapsed": false
   },
   "outputs": [
    {
     "data": {
      "text/plain": [
       "((2089, 14), (2089, 16), (2089, 16))"
      ]
     },
     "execution_count": 13,
     "metadata": {},
     "output_type": "execute_result"
    }
   ],
   "source": [
    "# the sub-table of different groups of families income level\n",
    "df_family_income = df.loc[:,df.columns[df.columns.str.startswith('fam_inc_')]]\n",
    "df_family_income_1990 = df_family_income.loc[:,\n",
    "                                df_family_income.columns[df_family_income.columns.str.endswith('9')]]\n",
    "df_family_income_2000 = df_family_income.loc[:,\n",
    "                                df_family_income.columns[df_family_income.columns.str.endswith('0')]]\n",
    "df_family_income_2010 = df_family_income.loc[:,\n",
    "                                df_family_income.columns[df_family_income.columns.str.endswith('1')]]\n",
    "\n",
    " \n",
    "df_family_income_1990.shape, df_family_income_2000.shape, df_family_income_2010.shape"
   ]
  },
  {
   "cell_type": "code",
   "execution_count": 14,
   "metadata": {
    "collapsed": false
   },
   "outputs": [
    {
     "data": {
      "text/plain": [
       "((2089, 34), (2089, 52), (2089, 52))"
      ]
     },
     "execution_count": 14,
     "metadata": {},
     "output_type": "execute_result"
    }
   ],
   "source": [
    "df_1990 = df.iloc[:, 8:42]\n",
    "df_2000 = df.iloc[:, 42:94]\n",
    "df_2010 = df.iloc[:, 94:]\n",
    "df_1990.shape, df_2000.shape, df_2010.shape"
   ]
  },
  {
   "cell_type": "code",
   "execution_count": 15,
   "metadata": {
    "collapsed": false
   },
   "outputs": [
    {
     "data": {
      "text/html": [
       "<div>\n",
       "<table border=\"1\" class=\"dataframe\">\n",
       "  <thead>\n",
       "    <tr style=\"text-align: right;\">\n",
       "      <th></th>\n",
       "      <th>median_house_value_9</th>\n",
       "      <th>median_rent_9</th>\n",
       "      <th>median_house_value_0</th>\n",
       "      <th>median_rent_0</th>\n",
       "      <th>median_house_value_1</th>\n",
       "      <th>median_rent_1</th>\n",
       "    </tr>\n",
       "  </thead>\n",
       "  <tbody>\n",
       "    <tr>\n",
       "      <th>1</th>\n",
       "      <td>136500</td>\n",
       "      <td>742</td>\n",
       "      <td>147500</td>\n",
       "      <td>730</td>\n",
       "      <td>392500</td>\n",
       "      <td>1273</td>\n",
       "    </tr>\n",
       "    <tr>\n",
       "      <th>2</th>\n",
       "      <td>163234</td>\n",
       "      <td>535</td>\n",
       "      <td>157610</td>\n",
       "      <td>643</td>\n",
       "      <td>393700</td>\n",
       "      <td>1330</td>\n",
       "    </tr>\n",
       "    <tr>\n",
       "      <th>3</th>\n",
       "      <td>156800</td>\n",
       "      <td>466</td>\n",
       "      <td>177000</td>\n",
       "      <td>558</td>\n",
       "      <td>378100</td>\n",
       "      <td>823</td>\n",
       "    </tr>\n",
       "    <tr>\n",
       "      <th>4</th>\n",
       "      <td>48868</td>\n",
       "      <td>422</td>\n",
       "      <td>145960</td>\n",
       "      <td>461</td>\n",
       "      <td>0</td>\n",
       "      <td>870</td>\n",
       "    </tr>\n",
       "    <tr>\n",
       "      <th>5</th>\n",
       "      <td>185400</td>\n",
       "      <td>298</td>\n",
       "      <td>177600</td>\n",
       "      <td>266</td>\n",
       "      <td>398100</td>\n",
       "      <td>455</td>\n",
       "    </tr>\n",
       "  </tbody>\n",
       "</table>\n",
       "</div>"
      ],
      "text/plain": [
       "   median_house_value_9  median_rent_9  median_house_value_0  median_rent_0  \\\n",
       "1                136500            742                147500            730   \n",
       "2                163234            535                157610            643   \n",
       "3                156800            466                177000            558   \n",
       "4                 48868            422                145960            461   \n",
       "5                185400            298                177600            266   \n",
       "\n",
       "   median_house_value_1  median_rent_1  \n",
       "1                392500           1273  \n",
       "2                393700           1330  \n",
       "3                378100            823  \n",
       "4                     0            870  \n",
       "5                398100            455  "
      ]
     },
     "execution_count": 15,
     "metadata": {},
     "output_type": "execute_result"
    }
   ],
   "source": [
    "# the sub-table of housing price and rent\n",
    "df_house = df.loc[:,df.columns[(df.columns.str.startswith('median_rent_')) |\\\n",
    "                              (df.columns.str.startswith('median_house_'))]]\n",
    "df_house.head()"
   ]
  },
  {
   "cell_type": "code",
   "execution_count": 16,
   "metadata": {
    "collapsed": false
   },
   "outputs": [
    {
     "data": {
      "text/html": [
       "<div>\n",
       "<table border=\"1\" class=\"dataframe\">\n",
       "  <thead>\n",
       "    <tr style=\"text-align: right;\">\n",
       "      <th></th>\n",
       "      <th>median_house_value_9</th>\n",
       "      <th>median_rent_9</th>\n",
       "      <th>median_house_value_0</th>\n",
       "      <th>median_rent_0</th>\n",
       "      <th>median_house_value_1</th>\n",
       "      <th>median_rent_1</th>\n",
       "    </tr>\n",
       "  </thead>\n",
       "  <tbody>\n",
       "    <tr>\n",
       "      <th>count</th>\n",
       "      <td>2089.000000</td>\n",
       "      <td>2089.000000</td>\n",
       "      <td>2.089000e+03</td>\n",
       "      <td>2089.000000</td>\n",
       "      <td>2.089000e+03</td>\n",
       "      <td>2089.000000</td>\n",
       "    </tr>\n",
       "    <tr>\n",
       "      <th>mean</th>\n",
       "      <td>170909.090953</td>\n",
       "      <td>544.198181</td>\n",
       "      <td>2.233565e+05</td>\n",
       "      <td>753.071326</td>\n",
       "      <td>5.070657e+05</td>\n",
       "      <td>1151.020105</td>\n",
       "    </tr>\n",
       "    <tr>\n",
       "      <th>std</th>\n",
       "      <td>110359.984751</td>\n",
       "      <td>150.069074</td>\n",
       "      <td>1.826276e+05</td>\n",
       "      <td>231.835763</td>\n",
       "      <td>2.214706e+05</td>\n",
       "      <td>331.293631</td>\n",
       "    </tr>\n",
       "    <tr>\n",
       "      <th>min</th>\n",
       "      <td>0.000000</td>\n",
       "      <td>140.000000</td>\n",
       "      <td>0.000000e+00</td>\n",
       "      <td>175.000000</td>\n",
       "      <td>0.000000e+00</td>\n",
       "      <td>231.000000</td>\n",
       "    </tr>\n",
       "    <tr>\n",
       "      <th>25%</th>\n",
       "      <td>118204.000000</td>\n",
       "      <td>453.000000</td>\n",
       "      <td>1.604000e+05</td>\n",
       "      <td>644.000000</td>\n",
       "      <td>3.981000e+05</td>\n",
       "      <td>964.000000</td>\n",
       "    </tr>\n",
       "    <tr>\n",
       "      <th>50%</th>\n",
       "      <td>171500.000000</td>\n",
       "      <td>531.000000</td>\n",
       "      <td>1.964000e+05</td>\n",
       "      <td>740.000000</td>\n",
       "      <td>4.941000e+05</td>\n",
       "      <td>1120.000000</td>\n",
       "    </tr>\n",
       "    <tr>\n",
       "      <th>75%</th>\n",
       "      <td>218689.000000</td>\n",
       "      <td>629.000000</td>\n",
       "      <td>2.508000e+05</td>\n",
       "      <td>834.000000</td>\n",
       "      <td>6.275000e+05</td>\n",
       "      <td>1308.000000</td>\n",
       "    </tr>\n",
       "    <tr>\n",
       "      <th>max</th>\n",
       "      <td>500001.000000</td>\n",
       "      <td>1001.000000</td>\n",
       "      <td>1.000001e+06</td>\n",
       "      <td>2001.000000</td>\n",
       "      <td>1.000001e+06</td>\n",
       "      <td>2001.000000</td>\n",
       "    </tr>\n",
       "  </tbody>\n",
       "</table>\n",
       "</div>"
      ],
      "text/plain": [
       "       median_house_value_9  median_rent_9  median_house_value_0  \\\n",
       "count           2089.000000    2089.000000          2.089000e+03   \n",
       "mean          170909.090953     544.198181          2.233565e+05   \n",
       "std           110359.984751     150.069074          1.826276e+05   \n",
       "min                0.000000     140.000000          0.000000e+00   \n",
       "25%           118204.000000     453.000000          1.604000e+05   \n",
       "50%           171500.000000     531.000000          1.964000e+05   \n",
       "75%           218689.000000     629.000000          2.508000e+05   \n",
       "max           500001.000000    1001.000000          1.000001e+06   \n",
       "\n",
       "       median_rent_0  median_house_value_1  median_rent_1  \n",
       "count    2089.000000          2.089000e+03    2089.000000  \n",
       "mean      753.071326          5.070657e+05    1151.020105  \n",
       "std       231.835763          2.214706e+05     331.293631  \n",
       "min       175.000000          0.000000e+00     231.000000  \n",
       "25%       644.000000          3.981000e+05     964.000000  \n",
       "50%       740.000000          4.941000e+05    1120.000000  \n",
       "75%       834.000000          6.275000e+05    1308.000000  \n",
       "max      2001.000000          1.000001e+06    2001.000000  "
      ]
     },
     "execution_count": 16,
     "metadata": {},
     "output_type": "execute_result"
    }
   ],
   "source": [
    "df_house.describe()"
   ]
  },
  {
   "cell_type": "code",
   "execution_count": 17,
   "metadata": {
    "collapsed": false
   },
   "outputs": [
    {
     "data": {
      "text/html": [
       "<div>\n",
       "<table border=\"1\" class=\"dataframe\">\n",
       "  <thead>\n",
       "    <tr style=\"text-align: right;\">\n",
       "      <th></th>\n",
       "      <th>ave_inc_fam_9</th>\n",
       "      <th>median_inc_fam_9</th>\n",
       "      <th>ave_inc_hh_9</th>\n",
       "      <th>median_inc_hh_9</th>\n",
       "      <th>ave_inc_fam_0</th>\n",
       "      <th>median_inc_fam_0</th>\n",
       "      <th>ave_inc_hh_0</th>\n",
       "      <th>median_inc_hh_0</th>\n",
       "      <th>ave_inc_fam_1</th>\n",
       "      <th>median_inc_fam_1</th>\n",
       "      <th>ave_inc_hh_1</th>\n",
       "      <th>median_inc_hh_1</th>\n",
       "    </tr>\n",
       "  </thead>\n",
       "  <tbody>\n",
       "    <tr>\n",
       "      <th>1</th>\n",
       "      <td>45267.28710</td>\n",
       "      <td>38711</td>\n",
       "      <td>41034.78595</td>\n",
       "      <td>31632</td>\n",
       "      <td>50763.54348</td>\n",
       "      <td>50817</td>\n",
       "      <td>48547.32784</td>\n",
       "      <td>42539</td>\n",
       "      <td>67363.981</td>\n",
       "      <td>58368</td>\n",
       "      <td>66324.981</td>\n",
       "      <td>59826</td>\n",
       "    </tr>\n",
       "    <tr>\n",
       "      <th>2</th>\n",
       "      <td>43694.20068</td>\n",
       "      <td>40484</td>\n",
       "      <td>41850.02374</td>\n",
       "      <td>36506</td>\n",
       "      <td>48306.41829</td>\n",
       "      <td>41019</td>\n",
       "      <td>45697.79035</td>\n",
       "      <td>39111</td>\n",
       "      <td>86056.373</td>\n",
       "      <td>73148</td>\n",
       "      <td>82305.160</td>\n",
       "      <td>71968</td>\n",
       "    </tr>\n",
       "    <tr>\n",
       "      <th>3</th>\n",
       "      <td>30042.84776</td>\n",
       "      <td>24732</td>\n",
       "      <td>27803.12012</td>\n",
       "      <td>22739</td>\n",
       "      <td>36442.53563</td>\n",
       "      <td>30104</td>\n",
       "      <td>31610.56070</td>\n",
       "      <td>24552</td>\n",
       "      <td>43473.490</td>\n",
       "      <td>33555</td>\n",
       "      <td>38629.904</td>\n",
       "      <td>30355</td>\n",
       "    </tr>\n",
       "    <tr>\n",
       "      <th>4</th>\n",
       "      <td>23377.47813</td>\n",
       "      <td>24823</td>\n",
       "      <td>19303.58696</td>\n",
       "      <td>11215</td>\n",
       "      <td>31360.47431</td>\n",
       "      <td>23671</td>\n",
       "      <td>27995.65217</td>\n",
       "      <td>22772</td>\n",
       "      <td>35995.455</td>\n",
       "      <td>25489</td>\n",
       "      <td>33907.328</td>\n",
       "      <td>25093</td>\n",
       "    </tr>\n",
       "    <tr>\n",
       "      <th>5</th>\n",
       "      <td>25062.06250</td>\n",
       "      <td>18762</td>\n",
       "      <td>22262.06940</td>\n",
       "      <td>14765</td>\n",
       "      <td>26817.80645</td>\n",
       "      <td>19694</td>\n",
       "      <td>24885.52589</td>\n",
       "      <td>14691</td>\n",
       "      <td>41842.527</td>\n",
       "      <td>30817</td>\n",
       "      <td>35687.455</td>\n",
       "      <td>24939</td>\n",
       "    </tr>\n",
       "  </tbody>\n",
       "</table>\n",
       "</div>"
      ],
      "text/plain": [
       "   ave_inc_fam_9  median_inc_fam_9  ave_inc_hh_9  median_inc_hh_9  \\\n",
       "1    45267.28710             38711   41034.78595            31632   \n",
       "2    43694.20068             40484   41850.02374            36506   \n",
       "3    30042.84776             24732   27803.12012            22739   \n",
       "4    23377.47813             24823   19303.58696            11215   \n",
       "5    25062.06250             18762   22262.06940            14765   \n",
       "\n",
       "   ave_inc_fam_0  median_inc_fam_0  ave_inc_hh_0  median_inc_hh_0  \\\n",
       "1    50763.54348             50817   48547.32784            42539   \n",
       "2    48306.41829             41019   45697.79035            39111   \n",
       "3    36442.53563             30104   31610.56070            24552   \n",
       "4    31360.47431             23671   27995.65217            22772   \n",
       "5    26817.80645             19694   24885.52589            14691   \n",
       "\n",
       "   ave_inc_fam_1  median_inc_fam_1  ave_inc_hh_1  median_inc_hh_1  \n",
       "1      67363.981             58368     66324.981            59826  \n",
       "2      86056.373             73148     82305.160            71968  \n",
       "3      43473.490             33555     38629.904            30355  \n",
       "4      35995.455             25489     33907.328            25093  \n",
       "5      41842.527             30817     35687.455            24939  "
      ]
     },
     "execution_count": 17,
     "metadata": {},
     "output_type": "execute_result"
    }
   ],
   "source": [
    "# the sub-table of median/average families/households income\n",
    "df_income = df.loc[:,df.columns[(df.columns.str.startswith('median_inc_')) |\\\n",
    "                              (df.columns.str.startswith('ave_inc_'))]]\n",
    "df_income.head()   "
   ]
  },
  {
   "cell_type": "code",
   "execution_count": 18,
   "metadata": {
    "collapsed": false
   },
   "outputs": [
    {
     "data": {
      "text/html": [
       "<div>\n",
       "<table border=\"1\" class=\"dataframe\">\n",
       "  <thead>\n",
       "    <tr style=\"text-align: right;\">\n",
       "      <th></th>\n",
       "      <th>ave_inc_fam_9</th>\n",
       "      <th>median_inc_fam_9</th>\n",
       "      <th>ave_inc_hh_9</th>\n",
       "      <th>median_inc_hh_9</th>\n",
       "      <th>ave_inc_fam_0</th>\n",
       "      <th>median_inc_fam_0</th>\n",
       "      <th>ave_inc_hh_0</th>\n",
       "      <th>median_inc_hh_0</th>\n",
       "      <th>ave_inc_fam_1</th>\n",
       "      <th>median_inc_fam_1</th>\n",
       "      <th>ave_inc_hh_1</th>\n",
       "      <th>median_inc_hh_1</th>\n",
       "    </tr>\n",
       "  </thead>\n",
       "  <tbody>\n",
       "    <tr>\n",
       "      <th>count</th>\n",
       "      <td>2089.000000</td>\n",
       "      <td>2089.000000</td>\n",
       "      <td>2089.000000</td>\n",
       "      <td>2089.000000</td>\n",
       "      <td>2089.000000</td>\n",
       "      <td>2089.000000</td>\n",
       "      <td>2089.000000</td>\n",
       "      <td>2089.000000</td>\n",
       "      <td>2089.00000</td>\n",
       "      <td>2089.000000</td>\n",
       "      <td>2089.000000</td>\n",
       "      <td>2089.000000</td>\n",
       "    </tr>\n",
       "    <tr>\n",
       "      <th>mean</th>\n",
       "      <td>46240.797301</td>\n",
       "      <td>37689.401628</td>\n",
       "      <td>39246.703235</td>\n",
       "      <td>31309.411202</td>\n",
       "      <td>63576.869583</td>\n",
       "      <td>48874.026807</td>\n",
       "      <td>54229.582025</td>\n",
       "      <td>40628.821446</td>\n",
       "      <td>85376.28443</td>\n",
       "      <td>66207.958353</td>\n",
       "      <td>72345.813173</td>\n",
       "      <td>54703.689325</td>\n",
       "    </tr>\n",
       "    <tr>\n",
       "      <th>std</th>\n",
       "      <td>28606.446820</td>\n",
       "      <td>18760.425689</td>\n",
       "      <td>19565.189172</td>\n",
       "      <td>13562.873547</td>\n",
       "      <td>45058.370638</td>\n",
       "      <td>28645.098401</td>\n",
       "      <td>29038.210224</td>\n",
       "      <td>18527.299709</td>\n",
       "      <td>62564.07724</td>\n",
       "      <td>39910.826453</td>\n",
       "      <td>40603.704702</td>\n",
       "      <td>25923.948148</td>\n",
       "    </tr>\n",
       "    <tr>\n",
       "      <th>min</th>\n",
       "      <td>0.000000</td>\n",
       "      <td>86.000000</td>\n",
       "      <td>0.000000</td>\n",
       "      <td>5360.000000</td>\n",
       "      <td>16376.090910</td>\n",
       "      <td>7354.000000</td>\n",
       "      <td>12747.077320</td>\n",
       "      <td>7863.000000</td>\n",
       "      <td>0.00000</td>\n",
       "      <td>8542.000000</td>\n",
       "      <td>0.000000</td>\n",
       "      <td>8694.000000</td>\n",
       "    </tr>\n",
       "    <tr>\n",
       "      <th>25%</th>\n",
       "      <td>30501.042240</td>\n",
       "      <td>24924.000000</td>\n",
       "      <td>27864.930300</td>\n",
       "      <td>21862.000000</td>\n",
       "      <td>40513.116200</td>\n",
       "      <td>30724.000000</td>\n",
       "      <td>37683.585970</td>\n",
       "      <td>27976.000000</td>\n",
       "      <td>52010.32700</td>\n",
       "      <td>40022.000000</td>\n",
       "      <td>48876.596000</td>\n",
       "      <td>36299.000000</td>\n",
       "    </tr>\n",
       "    <tr>\n",
       "      <th>50%</th>\n",
       "      <td>41866.927540</td>\n",
       "      <td>36218.000000</td>\n",
       "      <td>36208.754250</td>\n",
       "      <td>30417.000000</td>\n",
       "      <td>53041.525420</td>\n",
       "      <td>42590.000000</td>\n",
       "      <td>48376.129030</td>\n",
       "      <td>37936.000000</td>\n",
       "      <td>70564.74300</td>\n",
       "      <td>56726.000000</td>\n",
       "      <td>64120.604000</td>\n",
       "      <td>51127.000000</td>\n",
       "    </tr>\n",
       "    <tr>\n",
       "      <th>75%</th>\n",
       "      <td>53084.721130</td>\n",
       "      <td>46843.000000</td>\n",
       "      <td>46187.374640</td>\n",
       "      <td>39697.000000</td>\n",
       "      <td>69321.465430</td>\n",
       "      <td>58977.000000</td>\n",
       "      <td>62046.691640</td>\n",
       "      <td>50806.000000</td>\n",
       "      <td>93098.66200</td>\n",
       "      <td>80125.000000</td>\n",
       "      <td>82035.096000</td>\n",
       "      <td>68026.000000</td>\n",
       "    </tr>\n",
       "    <tr>\n",
       "      <th>max</th>\n",
       "      <td>327320.474100</td>\n",
       "      <td>150001.000000</td>\n",
       "      <td>248923.005700</td>\n",
       "      <td>147567.000000</td>\n",
       "      <td>450967.828700</td>\n",
       "      <td>200001.000000</td>\n",
       "      <td>337238.297900</td>\n",
       "      <td>174119.000000</td>\n",
       "      <td>636204.42600</td>\n",
       "      <td>250001.000000</td>\n",
       "      <td>464390.618000</td>\n",
       "      <td>232768.000000</td>\n",
       "    </tr>\n",
       "  </tbody>\n",
       "</table>\n",
       "</div>"
      ],
      "text/plain": [
       "       ave_inc_fam_9  median_inc_fam_9   ave_inc_hh_9  median_inc_hh_9  \\\n",
       "count    2089.000000       2089.000000    2089.000000      2089.000000   \n",
       "mean    46240.797301      37689.401628   39246.703235     31309.411202   \n",
       "std     28606.446820      18760.425689   19565.189172     13562.873547   \n",
       "min         0.000000         86.000000       0.000000      5360.000000   \n",
       "25%     30501.042240      24924.000000   27864.930300     21862.000000   \n",
       "50%     41866.927540      36218.000000   36208.754250     30417.000000   \n",
       "75%     53084.721130      46843.000000   46187.374640     39697.000000   \n",
       "max    327320.474100     150001.000000  248923.005700    147567.000000   \n",
       "\n",
       "       ave_inc_fam_0  median_inc_fam_0   ave_inc_hh_0  median_inc_hh_0  \\\n",
       "count    2089.000000       2089.000000    2089.000000      2089.000000   \n",
       "mean    63576.869583      48874.026807   54229.582025     40628.821446   \n",
       "std     45058.370638      28645.098401   29038.210224     18527.299709   \n",
       "min     16376.090910       7354.000000   12747.077320      7863.000000   \n",
       "25%     40513.116200      30724.000000   37683.585970     27976.000000   \n",
       "50%     53041.525420      42590.000000   48376.129030     37936.000000   \n",
       "75%     69321.465430      58977.000000   62046.691640     50806.000000   \n",
       "max    450967.828700     200001.000000  337238.297900    174119.000000   \n",
       "\n",
       "       ave_inc_fam_1  median_inc_fam_1   ave_inc_hh_1  median_inc_hh_1  \n",
       "count     2089.00000       2089.000000    2089.000000      2089.000000  \n",
       "mean     85376.28443      66207.958353   72345.813173     54703.689325  \n",
       "std      62564.07724      39910.826453   40603.704702     25923.948148  \n",
       "min          0.00000       8542.000000       0.000000      8694.000000  \n",
       "25%      52010.32700      40022.000000   48876.596000     36299.000000  \n",
       "50%      70564.74300      56726.000000   64120.604000     51127.000000  \n",
       "75%      93098.66200      80125.000000   82035.096000     68026.000000  \n",
       "max     636204.42600     250001.000000  464390.618000    232768.000000  "
      ]
     },
     "execution_count": 18,
     "metadata": {},
     "output_type": "execute_result"
    }
   ],
   "source": [
    "df_income.describe()"
   ]
  },
  {
   "cell_type": "markdown",
   "metadata": {},
   "source": [
    "## create the table for relationship analysis\n",
    "To compare the 1990 data, we choose the family income, not household income.\n",
    "\n",
    "\n",
    "The variables we need are median family income, median rent, families with different income level"
   ]
  },
  {
   "cell_type": "code",
   "execution_count": 19,
   "metadata": {
    "collapsed": false
   },
   "outputs": [],
   "source": [
    "df_1 = df.loc[:,df.columns[(df.columns.str.startswith('median_inc_fam'))|\\\n",
    "                                (df.columns.str.startswith('median_rent')) |\\\n",
    "                                (df.columns.str.startswith('fam_inc_'))]]"
   ]
  },
  {
   "cell_type": "code",
   "execution_count": 20,
   "metadata": {
    "collapsed": false
   },
   "outputs": [
    {
     "data": {
      "text/plain": [
       "(2089, 52)"
      ]
     },
     "execution_count": 20,
     "metadata": {},
     "output_type": "execute_result"
    }
   ],
   "source": [
    "df_1.shape"
   ]
  },
  {
   "cell_type": "code",
   "execution_count": 21,
   "metadata": {
    "collapsed": false
   },
   "outputs": [
    {
     "data": {
      "text/plain": [
       "Index(['median_inc_fam_9', 'fam_inc_109', 'fam_inc_159', 'fam_inc_209',\n",
       "       'fam_inc_259', 'fam_inc_309', 'fam_inc_359', 'fam_inc_409',\n",
       "       'fam_inc_499', 'fam_inc_609', 'fam_inc_759', 'fam_inc_1009',\n",
       "       'fam_inc_1259', 'fam_inc_1509', 'fam_inc_max_9', 'median_rent_9',\n",
       "       'median_inc_fam_0', 'fam_inc_100', 'fam_inc_150', 'fam_inc_200',\n",
       "       'fam_inc_250', 'fam_inc_300', 'fam_inc_350', 'fam_inc_400',\n",
       "       'fam_inc_450', 'fam_inc_500', 'fam_inc_600', 'fam_inc_750',\n",
       "       'fam_inc_1000', 'fam_inc_1250', 'fam_inc_1500', 'fam_inc_2000',\n",
       "       'fam_inc_max_200', 'median_rent_0', 'median_inc_fam_1', 'fam_inc_101',\n",
       "       'fam_inc_151', 'fam_inc_201', 'fam_inc_251', 'fam_inc_301',\n",
       "       'fam_inc_351', 'fam_inc_401', 'fam_inc_451', 'fam_inc_501',\n",
       "       'fam_inc_601', 'fam_inc_751', 'fam_inc_1001', 'fam_inc_1251',\n",
       "       'fam_inc_1501', 'fam_inc_2001', 'fam_inc_max_201', 'median_rent_1'],\n",
       "      dtype='object')"
      ]
     },
     "execution_count": 21,
     "metadata": {},
     "output_type": "execute_result"
    }
   ],
   "source": [
    "df_1.columns"
   ]
  },
  {
   "cell_type": "code",
   "execution_count": 22,
   "metadata": {
    "collapsed": true
   },
   "outputs": [],
   "source": [
    "df2 = df.loc[:,df.columns[(df.columns.str.startswith('median_inc_fam'))|\\\n",
    "                                (df.columns.str.startswith('median_rent')) ]]"
   ]
  },
  {
   "cell_type": "code",
   "execution_count": 23,
   "metadata": {
    "collapsed": false
   },
   "outputs": [
    {
     "data": {
      "text/html": [
       "<div>\n",
       "<table border=\"1\" class=\"dataframe\">\n",
       "  <thead>\n",
       "    <tr style=\"text-align: right;\">\n",
       "      <th></th>\n",
       "      <th>median_inc_fam_9</th>\n",
       "      <th>median_rent_9</th>\n",
       "      <th>median_inc_fam_0</th>\n",
       "      <th>median_rent_0</th>\n",
       "      <th>median_inc_fam_1</th>\n",
       "      <th>median_rent_1</th>\n",
       "    </tr>\n",
       "  </thead>\n",
       "  <tbody>\n",
       "    <tr>\n",
       "      <th>1</th>\n",
       "      <td>38711</td>\n",
       "      <td>742</td>\n",
       "      <td>50817</td>\n",
       "      <td>730</td>\n",
       "      <td>58368</td>\n",
       "      <td>1273</td>\n",
       "    </tr>\n",
       "    <tr>\n",
       "      <th>2</th>\n",
       "      <td>40484</td>\n",
       "      <td>535</td>\n",
       "      <td>41019</td>\n",
       "      <td>643</td>\n",
       "      <td>73148</td>\n",
       "      <td>1330</td>\n",
       "    </tr>\n",
       "    <tr>\n",
       "      <th>3</th>\n",
       "      <td>24732</td>\n",
       "      <td>466</td>\n",
       "      <td>30104</td>\n",
       "      <td>558</td>\n",
       "      <td>33555</td>\n",
       "      <td>823</td>\n",
       "    </tr>\n",
       "    <tr>\n",
       "      <th>4</th>\n",
       "      <td>24823</td>\n",
       "      <td>422</td>\n",
       "      <td>23671</td>\n",
       "      <td>461</td>\n",
       "      <td>25489</td>\n",
       "      <td>870</td>\n",
       "    </tr>\n",
       "    <tr>\n",
       "      <th>5</th>\n",
       "      <td>18762</td>\n",
       "      <td>298</td>\n",
       "      <td>19694</td>\n",
       "      <td>266</td>\n",
       "      <td>30817</td>\n",
       "      <td>455</td>\n",
       "    </tr>\n",
       "  </tbody>\n",
       "</table>\n",
       "</div>"
      ],
      "text/plain": [
       "   median_inc_fam_9  median_rent_9  median_inc_fam_0  median_rent_0  \\\n",
       "1             38711            742             50817            730   \n",
       "2             40484            535             41019            643   \n",
       "3             24732            466             30104            558   \n",
       "4             24823            422             23671            461   \n",
       "5             18762            298             19694            266   \n",
       "\n",
       "   median_inc_fam_1  median_rent_1  \n",
       "1             58368           1273  \n",
       "2             73148           1330  \n",
       "3             33555            823  \n",
       "4             25489            870  \n",
       "5             30817            455  "
      ]
     },
     "execution_count": 23,
     "metadata": {},
     "output_type": "execute_result"
    }
   ],
   "source": [
    "df2.head()"
   ]
  },
  {
   "cell_type": "markdown",
   "metadata": {},
   "source": [
    "# Calculate entropy index of different income-level groups for each census tract from 1990 to 2010"
   ]
  },
  {
   "cell_type": "code",
   "execution_count": 24,
   "metadata": {
    "collapsed": false
   },
   "outputs": [],
   "source": [
    "# define entropy index \n",
    "def entropy_index(x):\n",
    "    Q_sum = 0\n",
    "    for i in x:\n",
    "        if i == 0:\n",
    "            Q = 0\n",
    "        else:\n",
    "            Q = (-1) * (i/sum(x)) * np.log(i/sum(x))\n",
    "        Q_sum += Q\n",
    "    entropy_index = Q_sum/np.log(len(x))\n",
    "    return entropy_index"
   ]
  },
  {
   "cell_type": "code",
   "execution_count": 25,
   "metadata": {
    "collapsed": false
   },
   "outputs": [
    {
     "data": {
      "text/plain": [
       "0.92246865765414721"
      ]
     },
     "execution_count": 25,
     "metadata": {},
     "output_type": "execute_result"
    }
   ],
   "source": [
    "# have a try\n",
    "entropy_index(list(df_family_income_1990.iloc[0,:]))"
   ]
  },
  {
   "cell_type": "code",
   "execution_count": 26,
   "metadata": {
    "collapsed": false
   },
   "outputs": [],
   "source": [
    "# calculate the entropy index of 1990\n",
    "for i in df_family_income_1990.index:\n",
    "    df_family_income_1990.loc[i,'entropy_index'] = \\\n",
    "                    entropy_index(list(df_family_income_1990.loc[i,:'fam_inc_max_9']))"
   ]
  },
  {
   "cell_type": "code",
   "execution_count": 27,
   "metadata": {
    "collapsed": false
   },
   "outputs": [
    {
     "data": {
      "text/html": [
       "<div>\n",
       "<table border=\"1\" class=\"dataframe\">\n",
       "  <thead>\n",
       "    <tr style=\"text-align: right;\">\n",
       "      <th></th>\n",
       "      <th>fam_inc_109</th>\n",
       "      <th>fam_inc_159</th>\n",
       "      <th>fam_inc_209</th>\n",
       "      <th>fam_inc_259</th>\n",
       "      <th>fam_inc_309</th>\n",
       "      <th>fam_inc_359</th>\n",
       "      <th>fam_inc_409</th>\n",
       "      <th>fam_inc_499</th>\n",
       "      <th>fam_inc_609</th>\n",
       "      <th>fam_inc_759</th>\n",
       "      <th>fam_inc_1009</th>\n",
       "      <th>fam_inc_1259</th>\n",
       "      <th>fam_inc_1509</th>\n",
       "      <th>fam_inc_max_9</th>\n",
       "      <th>entropy_index</th>\n",
       "    </tr>\n",
       "  </thead>\n",
       "  <tbody>\n",
       "    <tr>\n",
       "      <th>1</th>\n",
       "      <td>29</td>\n",
       "      <td>29</td>\n",
       "      <td>12</td>\n",
       "      <td>31</td>\n",
       "      <td>20</td>\n",
       "      <td>32</td>\n",
       "      <td>31</td>\n",
       "      <td>84</td>\n",
       "      <td>75</td>\n",
       "      <td>59</td>\n",
       "      <td>68</td>\n",
       "      <td>35</td>\n",
       "      <td>18</td>\n",
       "      <td>2</td>\n",
       "      <td>0.922469</td>\n",
       "    </tr>\n",
       "    <tr>\n",
       "      <th>2</th>\n",
       "      <td>19</td>\n",
       "      <td>17</td>\n",
       "      <td>11</td>\n",
       "      <td>34</td>\n",
       "      <td>1</td>\n",
       "      <td>50</td>\n",
       "      <td>50</td>\n",
       "      <td>89</td>\n",
       "      <td>71</td>\n",
       "      <td>58</td>\n",
       "      <td>62</td>\n",
       "      <td>28</td>\n",
       "      <td>1</td>\n",
       "      <td>1</td>\n",
       "      <td>0.863543</td>\n",
       "    </tr>\n",
       "    <tr>\n",
       "      <th>3</th>\n",
       "      <td>142</td>\n",
       "      <td>28</td>\n",
       "      <td>124</td>\n",
       "      <td>84</td>\n",
       "      <td>41</td>\n",
       "      <td>165</td>\n",
       "      <td>39</td>\n",
       "      <td>161</td>\n",
       "      <td>69</td>\n",
       "      <td>70</td>\n",
       "      <td>45</td>\n",
       "      <td>11</td>\n",
       "      <td>0</td>\n",
       "      <td>0</td>\n",
       "      <td>0.863912</td>\n",
       "    </tr>\n",
       "    <tr>\n",
       "      <th>4</th>\n",
       "      <td>50</td>\n",
       "      <td>39</td>\n",
       "      <td>0</td>\n",
       "      <td>0</td>\n",
       "      <td>3</td>\n",
       "      <td>0</td>\n",
       "      <td>0</td>\n",
       "      <td>67</td>\n",
       "      <td>26</td>\n",
       "      <td>10</td>\n",
       "      <td>0</td>\n",
       "      <td>0</td>\n",
       "      <td>0</td>\n",
       "      <td>0</td>\n",
       "      <td>0.577145</td>\n",
       "    </tr>\n",
       "    <tr>\n",
       "      <th>5</th>\n",
       "      <td>284</td>\n",
       "      <td>201</td>\n",
       "      <td>107</td>\n",
       "      <td>60</td>\n",
       "      <td>74</td>\n",
       "      <td>131</td>\n",
       "      <td>95</td>\n",
       "      <td>203</td>\n",
       "      <td>158</td>\n",
       "      <td>40</td>\n",
       "      <td>84</td>\n",
       "      <td>8</td>\n",
       "      <td>0</td>\n",
       "      <td>13</td>\n",
       "      <td>0.875156</td>\n",
       "    </tr>\n",
       "  </tbody>\n",
       "</table>\n",
       "</div>"
      ],
      "text/plain": [
       "   fam_inc_109  fam_inc_159  fam_inc_209  fam_inc_259  fam_inc_309  \\\n",
       "1           29           29           12           31           20   \n",
       "2           19           17           11           34            1   \n",
       "3          142           28          124           84           41   \n",
       "4           50           39            0            0            3   \n",
       "5          284          201          107           60           74   \n",
       "\n",
       "   fam_inc_359  fam_inc_409  fam_inc_499  fam_inc_609  fam_inc_759  \\\n",
       "1           32           31           84           75           59   \n",
       "2           50           50           89           71           58   \n",
       "3          165           39          161           69           70   \n",
       "4            0            0           67           26           10   \n",
       "5          131           95          203          158           40   \n",
       "\n",
       "   fam_inc_1009  fam_inc_1259  fam_inc_1509  fam_inc_max_9  entropy_index  \n",
       "1            68            35            18              2       0.922469  \n",
       "2            62            28             1              1       0.863543  \n",
       "3            45            11             0              0       0.863912  \n",
       "4             0             0             0              0       0.577145  \n",
       "5            84             8             0             13       0.875156  "
      ]
     },
     "execution_count": 27,
     "metadata": {},
     "output_type": "execute_result"
    }
   ],
   "source": [
    "df_family_income_1990.head()"
   ]
  },
  {
   "cell_type": "code",
   "execution_count": 28,
   "metadata": {
    "collapsed": false
   },
   "outputs": [],
   "source": [
    "# calculate the entropy index of 2000 and 2010\n",
    "for i in df_family_income_2000.index:\n",
    "    df_family_income_2000.loc[i,'entropy_index'] = \\\n",
    "                    entropy_index(list(df_family_income_2000.loc[i,:'fam_inc_max_200']))\n",
    "\n",
    "for i in df_family_income_2010.index:\n",
    "    df_family_income_2010.loc[i,'entropy_index'] = \\\n",
    "                    entropy_index(list(df_family_income_2010.loc[i,:'fam_inc_max_201']))"
   ]
  },
  {
   "cell_type": "code",
   "execution_count": 29,
   "metadata": {
    "collapsed": false
   },
   "outputs": [
    {
     "data": {
      "text/html": [
       "<div>\n",
       "<table border=\"1\" class=\"dataframe\">\n",
       "  <thead>\n",
       "    <tr style=\"text-align: right;\">\n",
       "      <th></th>\n",
       "      <th>median_inc_fam_9</th>\n",
       "      <th>median_rent_9</th>\n",
       "      <th>median_inc_fam_0</th>\n",
       "      <th>median_rent_0</th>\n",
       "      <th>median_inc_fam_1</th>\n",
       "      <th>median_rent_1</th>\n",
       "      <th>entropy_index_9</th>\n",
       "      <th>entropy_index_0</th>\n",
       "      <th>entropy_index_1</th>\n",
       "    </tr>\n",
       "  </thead>\n",
       "  <tbody>\n",
       "    <tr>\n",
       "      <th>1</th>\n",
       "      <td>38711</td>\n",
       "      <td>742</td>\n",
       "      <td>50817</td>\n",
       "      <td>730</td>\n",
       "      <td>58368</td>\n",
       "      <td>1273</td>\n",
       "      <td>0.922469</td>\n",
       "      <td>0.871427</td>\n",
       "      <td>0.894048</td>\n",
       "    </tr>\n",
       "    <tr>\n",
       "      <th>2</th>\n",
       "      <td>40484</td>\n",
       "      <td>535</td>\n",
       "      <td>41019</td>\n",
       "      <td>643</td>\n",
       "      <td>73148</td>\n",
       "      <td>1330</td>\n",
       "      <td>0.863543</td>\n",
       "      <td>0.914607</td>\n",
       "      <td>0.898725</td>\n",
       "    </tr>\n",
       "    <tr>\n",
       "      <th>3</th>\n",
       "      <td>24732</td>\n",
       "      <td>466</td>\n",
       "      <td>30104</td>\n",
       "      <td>558</td>\n",
       "      <td>33555</td>\n",
       "      <td>823</td>\n",
       "      <td>0.863912</td>\n",
       "      <td>0.902281</td>\n",
       "      <td>0.894488</td>\n",
       "    </tr>\n",
       "    <tr>\n",
       "      <th>4</th>\n",
       "      <td>24823</td>\n",
       "      <td>422</td>\n",
       "      <td>23671</td>\n",
       "      <td>461</td>\n",
       "      <td>25489</td>\n",
       "      <td>870</td>\n",
       "      <td>0.577145</td>\n",
       "      <td>0.825729</td>\n",
       "      <td>0.842364</td>\n",
       "    </tr>\n",
       "    <tr>\n",
       "      <th>5</th>\n",
       "      <td>18762</td>\n",
       "      <td>298</td>\n",
       "      <td>19694</td>\n",
       "      <td>266</td>\n",
       "      <td>30817</td>\n",
       "      <td>455</td>\n",
       "      <td>0.875156</td>\n",
       "      <td>0.795292</td>\n",
       "      <td>0.918302</td>\n",
       "    </tr>\n",
       "  </tbody>\n",
       "</table>\n",
       "</div>"
      ],
      "text/plain": [
       "   median_inc_fam_9  median_rent_9  median_inc_fam_0  median_rent_0  \\\n",
       "1             38711            742             50817            730   \n",
       "2             40484            535             41019            643   \n",
       "3             24732            466             30104            558   \n",
       "4             24823            422             23671            461   \n",
       "5             18762            298             19694            266   \n",
       "\n",
       "   median_inc_fam_1  median_rent_1  entropy_index_9  entropy_index_0  \\\n",
       "1             58368           1273         0.922469         0.871427   \n",
       "2             73148           1330         0.863543         0.914607   \n",
       "3             33555            823         0.863912         0.902281   \n",
       "4             25489            870         0.577145         0.825729   \n",
       "5             30817            455         0.875156         0.795292   \n",
       "\n",
       "   entropy_index_1  \n",
       "1         0.894048  \n",
       "2         0.898725  \n",
       "3         0.894488  \n",
       "4         0.842364  \n",
       "5         0.918302  "
      ]
     },
     "execution_count": 29,
     "metadata": {},
     "output_type": "execute_result"
    }
   ],
   "source": [
    "# merge the entropy index data into df2\n",
    "df2['entropy_index_9'] = df_family_income_1990.iloc[:,-1]\n",
    "df2['entropy_index_0'] = df_family_income_2000.iloc[:,-1]\n",
    "df2['entropy_index_1'] = df_family_income_2010.iloc[:,-1]\n",
    "df2.head()"
   ]
  },
  {
   "cell_type": "code",
   "execution_count": 30,
   "metadata": {
    "collapsed": false
   },
   "outputs": [
    {
     "data": {
      "text/plain": [
       "(2089, 9)"
      ]
     },
     "execution_count": 30,
     "metadata": {},
     "output_type": "execute_result"
    }
   ],
   "source": [
    "df2.shape"
   ]
  },
  {
   "cell_type": "code",
   "execution_count": 31,
   "metadata": {
    "collapsed": false
   },
   "outputs": [
    {
     "data": {
      "text/plain": [
       "array([0, 0, 0, 0, 0, 0, 8, 2, 1])"
      ]
     },
     "execution_count": 31,
     "metadata": {},
     "output_type": "execute_result"
    }
   ],
   "source": [
    "sum(np.array(df2 == 0))"
   ]
  },
  {
   "cell_type": "code",
   "execution_count": 32,
   "metadata": {
    "collapsed": false
   },
   "outputs": [
    {
     "data": {
      "text/plain": [
       "(2080, 9)"
      ]
     },
     "execution_count": 32,
     "metadata": {},
     "output_type": "execute_result"
    }
   ],
   "source": [
    "## drop the 0 values of entropy index\n",
    "df2_1 = df2[~((df2.entropy_index_9 == 0)|(df2.entropy_index_0 == 0)|(df2.entropy_index_1 == 0))]\n",
    "df2_1.shape"
   ]
  },
  {
   "cell_type": "markdown",
   "metadata": {},
   "source": [
    "## Calculate the change of rent and entropy index of 1990-2000 and 2000-2010"
   ]
  },
  {
   "cell_type": "code",
   "execution_count": 33,
   "metadata": {
    "collapsed": false
   },
   "outputs": [
    {
     "data": {
      "text/html": [
       "<div>\n",
       "<table border=\"1\" class=\"dataframe\">\n",
       "  <thead>\n",
       "    <tr style=\"text-align: right;\">\n",
       "      <th></th>\n",
       "      <th>median_rent_growth_90_00</th>\n",
       "      <th>median_rent_growth_00_10</th>\n",
       "      <th>entropy_index_change_90_00</th>\n",
       "      <th>entropy_index_change_00_10</th>\n",
       "      <th>median_fam_inc_growth_90_00</th>\n",
       "      <th>median_fam_inc_growth_00_10</th>\n",
       "    </tr>\n",
       "  </thead>\n",
       "  <tbody>\n",
       "    <tr>\n",
       "      <th>1</th>\n",
       "      <td>0.983827</td>\n",
       "      <td>1.743836</td>\n",
       "      <td>0.944669</td>\n",
       "      <td>1.025959</td>\n",
       "      <td>1.312728</td>\n",
       "      <td>1.148592</td>\n",
       "    </tr>\n",
       "    <tr>\n",
       "      <th>2</th>\n",
       "      <td>1.201869</td>\n",
       "      <td>2.068429</td>\n",
       "      <td>1.059133</td>\n",
       "      <td>0.982635</td>\n",
       "      <td>1.013215</td>\n",
       "      <td>1.783271</td>\n",
       "    </tr>\n",
       "    <tr>\n",
       "      <th>3</th>\n",
       "      <td>1.197425</td>\n",
       "      <td>1.474910</td>\n",
       "      <td>1.044414</td>\n",
       "      <td>0.991363</td>\n",
       "      <td>1.217208</td>\n",
       "      <td>1.114636</td>\n",
       "    </tr>\n",
       "    <tr>\n",
       "      <th>4</th>\n",
       "      <td>1.092417</td>\n",
       "      <td>1.887202</td>\n",
       "      <td>1.430712</td>\n",
       "      <td>1.020146</td>\n",
       "      <td>0.953591</td>\n",
       "      <td>1.076803</td>\n",
       "    </tr>\n",
       "    <tr>\n",
       "      <th>5</th>\n",
       "      <td>0.892617</td>\n",
       "      <td>1.710526</td>\n",
       "      <td>0.908743</td>\n",
       "      <td>1.154674</td>\n",
       "      <td>1.049675</td>\n",
       "      <td>1.564791</td>\n",
       "    </tr>\n",
       "  </tbody>\n",
       "</table>\n",
       "</div>"
      ],
      "text/plain": [
       "   median_rent_growth_90_00  median_rent_growth_00_10  \\\n",
       "1                  0.983827                  1.743836   \n",
       "2                  1.201869                  2.068429   \n",
       "3                  1.197425                  1.474910   \n",
       "4                  1.092417                  1.887202   \n",
       "5                  0.892617                  1.710526   \n",
       "\n",
       "   entropy_index_change_90_00  entropy_index_change_00_10  \\\n",
       "1                    0.944669                    1.025959   \n",
       "2                    1.059133                    0.982635   \n",
       "3                    1.044414                    0.991363   \n",
       "4                    1.430712                    1.020146   \n",
       "5                    0.908743                    1.154674   \n",
       "\n",
       "   median_fam_inc_growth_90_00  median_fam_inc_growth_00_10  \n",
       "1                     1.312728                     1.148592  \n",
       "2                     1.013215                     1.783271  \n",
       "3                     1.217208                     1.114636  \n",
       "4                     0.953591                     1.076803  \n",
       "5                     1.049675                     1.564791  "
      ]
     },
     "execution_count": 33,
     "metadata": {},
     "output_type": "execute_result"
    }
   ],
   "source": [
    "df3 = pd.DataFrame()\n",
    "df3['median_rent_growth_90_00'] = df2_1.median_rent_0/df2_1.median_rent_9\n",
    "df3['median_rent_growth_00_10'] = df2_1.median_rent_1/df2_1.median_rent_0\n",
    "df3['entropy_index_change_90_00'] = df2_1.entropy_index_0/df2_1.entropy_index_9\n",
    "df3['entropy_index_change_00_10'] = df2_1.entropy_index_1/df2_1.entropy_index_0\n",
    "df3['median_fam_inc_growth_90_00'] = df2_1.median_inc_fam_0/df2_1.median_inc_fam_9\n",
    "df3['median_fam_inc_growth_00_10'] = df2_1.median_inc_fam_1/df2_1.median_inc_fam_0\n",
    "df3.head()"
   ]
  },
  {
   "cell_type": "code",
   "execution_count": 34,
   "metadata": {
    "collapsed": false
   },
   "outputs": [
    {
     "data": {
      "text/html": [
       "<div>\n",
       "<table border=\"1\" class=\"dataframe\">\n",
       "  <thead>\n",
       "    <tr style=\"text-align: right;\">\n",
       "      <th></th>\n",
       "      <th>median_rent_growth_90_00</th>\n",
       "      <th>median_rent_growth_00_10</th>\n",
       "      <th>entropy_index_change_90_00</th>\n",
       "      <th>entropy_index_change_00_10</th>\n",
       "      <th>median_fam_inc_growth_90_00</th>\n",
       "      <th>median_fam_inc_growth_00_10</th>\n",
       "    </tr>\n",
       "  </thead>\n",
       "  <tbody>\n",
       "    <tr>\n",
       "      <th>count</th>\n",
       "      <td>2080.000000</td>\n",
       "      <td>2080.000000</td>\n",
       "      <td>2080.000000</td>\n",
       "      <td>2080.000000</td>\n",
       "      <td>2080.000000</td>\n",
       "      <td>2080.000000</td>\n",
       "    </tr>\n",
       "    <tr>\n",
       "      <th>mean</th>\n",
       "      <td>1.393492</td>\n",
       "      <td>1.550774</td>\n",
       "      <td>1.056854</td>\n",
       "      <td>0.954204</td>\n",
       "      <td>1.304846</td>\n",
       "      <td>1.386766</td>\n",
       "    </tr>\n",
       "    <tr>\n",
       "      <th>std</th>\n",
       "      <td>0.235155</td>\n",
       "      <td>0.264145</td>\n",
       "      <td>0.130683</td>\n",
       "      <td>0.093989</td>\n",
       "      <td>0.366783</td>\n",
       "      <td>0.367756</td>\n",
       "    </tr>\n",
       "    <tr>\n",
       "      <th>min</th>\n",
       "      <td>0.624286</td>\n",
       "      <td>0.326599</td>\n",
       "      <td>0.617491</td>\n",
       "      <td>0.283982</td>\n",
       "      <td>0.536671</td>\n",
       "      <td>0.210854</td>\n",
       "    </tr>\n",
       "    <tr>\n",
       "      <th>25%</th>\n",
       "      <td>1.272691</td>\n",
       "      <td>1.412871</td>\n",
       "      <td>1.007665</td>\n",
       "      <td>0.909084</td>\n",
       "      <td>1.100241</td>\n",
       "      <td>1.156685</td>\n",
       "    </tr>\n",
       "    <tr>\n",
       "      <th>50%</th>\n",
       "      <td>1.378611</td>\n",
       "      <td>1.526301</td>\n",
       "      <td>1.044176</td>\n",
       "      <td>0.964268</td>\n",
       "      <td>1.248453</td>\n",
       "      <td>1.336644</td>\n",
       "    </tr>\n",
       "    <tr>\n",
       "      <th>75%</th>\n",
       "      <td>1.485551</td>\n",
       "      <td>1.655776</td>\n",
       "      <td>1.085437</td>\n",
       "      <td>1.009554</td>\n",
       "      <td>1.421796</td>\n",
       "      <td>1.546234</td>\n",
       "    </tr>\n",
       "    <tr>\n",
       "      <th>max</th>\n",
       "      <td>4.547727</td>\n",
       "      <td>4.600000</td>\n",
       "      <td>4.258258</td>\n",
       "      <td>1.296619</td>\n",
       "      <td>8.984771</td>\n",
       "      <td>4.714033</td>\n",
       "    </tr>\n",
       "  </tbody>\n",
       "</table>\n",
       "</div>"
      ],
      "text/plain": [
       "       median_rent_growth_90_00  median_rent_growth_00_10  \\\n",
       "count               2080.000000               2080.000000   \n",
       "mean                   1.393492                  1.550774   \n",
       "std                    0.235155                  0.264145   \n",
       "min                    0.624286                  0.326599   \n",
       "25%                    1.272691                  1.412871   \n",
       "50%                    1.378611                  1.526301   \n",
       "75%                    1.485551                  1.655776   \n",
       "max                    4.547727                  4.600000   \n",
       "\n",
       "       entropy_index_change_90_00  entropy_index_change_00_10  \\\n",
       "count                 2080.000000                 2080.000000   \n",
       "mean                     1.056854                    0.954204   \n",
       "std                      0.130683                    0.093989   \n",
       "min                      0.617491                    0.283982   \n",
       "25%                      1.007665                    0.909084   \n",
       "50%                      1.044176                    0.964268   \n",
       "75%                      1.085437                    1.009554   \n",
       "max                      4.258258                    1.296619   \n",
       "\n",
       "       median_fam_inc_growth_90_00  median_fam_inc_growth_00_10  \n",
       "count                  2080.000000                  2080.000000  \n",
       "mean                      1.304846                     1.386766  \n",
       "std                       0.366783                     0.367756  \n",
       "min                       0.536671                     0.210854  \n",
       "25%                       1.100241                     1.156685  \n",
       "50%                       1.248453                     1.336644  \n",
       "75%                       1.421796                     1.546234  \n",
       "max                       8.984771                     4.714033  "
      ]
     },
     "execution_count": 34,
     "metadata": {},
     "output_type": "execute_result"
    }
   ],
   "source": [
    "df3.describe()"
   ]
  },
  {
   "cell_type": "code",
   "execution_count": 35,
   "metadata": {
    "collapsed": false
   },
   "outputs": [
    {
     "data": {
      "text/plain": [
       "<matplotlib.text.Text at 0x11aa044a8>"
      ]
     },
     "execution_count": 35,
     "metadata": {},
     "output_type": "execute_result"
    },
    {
     "data": {
      "image/png": "[encoded data removed]",
      "text/plain": [
       "<matplotlib.figure.Figure at 0x11a3c9ef0>"
      ]
     },
     "metadata": {},
     "output_type": "display_data"
    }
   ],
   "source": [
    "plt.scatter(df3.entropy_index_change_90_00, df3.median_rent_growth_90_00)\n",
    "plt.xlabel('change of entropy index from 1990 to 2000')\n",
    "plt.ylabel('change of median rent from 1990 to 2000')"
   ]
  },
  {
   "cell_type": "code",
   "execution_count": 36,
   "metadata": {
    "collapsed": false
   },
   "outputs": [
    {
     "data": {
      "text/plain": [
       "<matplotlib.text.Text at 0x11e9537f0>"
      ]
     },
     "execution_count": 36,
     "metadata": {},
     "output_type": "execute_result"
    },
    {
     "data": {
      "image/png": "[encoded data removed]",
      "text/plain": [
       "<matplotlib.figure.Figure at 0x11aa0b208>"
      ]
     },
     "metadata": {},
     "output_type": "display_data"
    }
   ],
   "source": [
    "plt.scatter(df3.entropy_index_change_00_10, df3.median_rent_growth_00_10)\n",
    "plt.xlabel('change of entropy index from 2000 to 2010')\n",
    "plt.ylabel('change of median rent from 2000 to 2010')"
   ]
  },
  {
   "cell_type": "code",
   "execution_count": 41,
   "metadata": {
    "collapsed": true
   },
   "outputs": [],
   "source": [
    "lm1 = smf.ols('median_rent_growth_90_00 ~ entropy_index_change_90_00', df3).fit()\n",
    "lm2 = smf.ols('median_rent_growth_00_10 ~ entropy_index_change_00_10', df3).fit()"
   ]
  },
  {
   "cell_type": "code",
   "execution_count": 42,
   "metadata": {
    "collapsed": false
   },
   "outputs": [
    {
     "data": {
      "text/html": [
       "<table class=\"simpletable\">\n",
       "<caption>OLS Regression Results</caption>\n",
       "<tr>\n",
       "  <th>Dep. Variable:</th>    <td>median_rent_growth_90_00</td> <th>  R-squared:         </th> <td>   0.002</td>\n",
       "</tr>\n",
       "<tr>\n",
       "  <th>Model:</th>                       <td>OLS</td>           <th>  Adj. R-squared:    </th> <td>   0.002</td>\n",
       "</tr>\n",
       "<tr>\n",
       "  <th>Method:</th>                 <td>Least Squares</td>      <th>  F-statistic:       </th> <td>   5.164</td>\n",
       "</tr>\n",
       "<tr>\n",
       "  <th>Date:</th>                 <td>Mon, 06 Nov 2017</td>     <th>  Prob (F-statistic):</th>  <td>0.0232</td> \n",
       "</tr>\n",
       "<tr>\n",
       "  <th>Time:</th>                     <td>02:22:03</td>         <th>  Log-Likelihood:    </th> <td>  62.507</td>\n",
       "</tr>\n",
       "<tr>\n",
       "  <th>No. Observations:</th>          <td>  2080</td>          <th>  AIC:               </th> <td>  -121.0</td>\n",
       "</tr>\n",
       "<tr>\n",
       "  <th>Df Residuals:</th>              <td>  2078</td>          <th>  BIC:               </th> <td>  -109.7</td>\n",
       "</tr>\n",
       "<tr>\n",
       "  <th>Df Model:</th>                  <td>     1</td>          <th>                     </th>     <td> </td>   \n",
       "</tr>\n",
       "<tr>\n",
       "  <th>Covariance Type:</th>          <td>nonrobust</td>        <th>                     </th>     <td> </td>   \n",
       "</tr>\n",
       "</table>\n",
       "<table class=\"simpletable\">\n",
       "<tr>\n",
       "               <td></td>                 <th>coef</th>     <th>std err</th>      <th>t</th>      <th>P>|t|</th> <th>[95.0% Conf. Int.]</th> \n",
       "</tr>\n",
       "<tr>\n",
       "  <th>Intercept</th>                  <td>    1.2988</td> <td>    0.042</td> <td>   30.936</td> <td> 0.000</td> <td>    1.216     1.381</td>\n",
       "</tr>\n",
       "<tr>\n",
       "  <th>entropy_index_change_90_00</th> <td>    0.0896</td> <td>    0.039</td> <td>    2.273</td> <td> 0.023</td> <td>    0.012     0.167</td>\n",
       "</tr>\n",
       "</table>\n",
       "<table class=\"simpletable\">\n",
       "<tr>\n",
       "  <th>Omnibus:</th>       <td>1287.517</td> <th>  Durbin-Watson:     </th> <td>   1.589</td> \n",
       "</tr>\n",
       "<tr>\n",
       "  <th>Prob(Omnibus):</th>  <td> 0.000</td>  <th>  Jarque-Bera (JB):  </th> <td>40258.993</td>\n",
       "</tr>\n",
       "<tr>\n",
       "  <th>Skew:</th>           <td> 2.390</td>  <th>  Prob(JB):          </th> <td>    0.00</td> \n",
       "</tr>\n",
       "<tr>\n",
       "  <th>Kurtosis:</th>       <td>24.016</td>  <th>  Cond. No.          </th> <td>    16.3</td> \n",
       "</tr>\n",
       "</table>"
      ],
      "text/plain": [
       "<class 'statsmodels.iolib.summary.Summary'>\n",
       "\"\"\"\n",
       "                               OLS Regression Results                               \n",
       "====================================================================================\n",
       "Dep. Variable:     median_rent_growth_90_00   R-squared:                       0.002\n",
       "Model:                                  OLS   Adj. R-squared:                  0.002\n",
       "Method:                       Least Squares   F-statistic:                     5.164\n",
       "Date:                      Mon, 06 Nov 2017   Prob (F-statistic):             0.0232\n",
       "Time:                              02:22:03   Log-Likelihood:                 62.507\n",
       "No. Observations:                      2080   AIC:                            -121.0\n",
       "Df Residuals:                          2078   BIC:                            -109.7\n",
       "Df Model:                                 1                                         \n",
       "Covariance Type:                  nonrobust                                         \n",
       "==============================================================================================\n",
       "                                 coef    std err          t      P>|t|      [95.0% Conf. Int.]\n",
       "----------------------------------------------------------------------------------------------\n",
       "Intercept                      1.2988      0.042     30.936      0.000         1.216     1.381\n",
       "entropy_index_change_90_00     0.0896      0.039      2.273      0.023         0.012     0.167\n",
       "==============================================================================\n",
       "Omnibus:                     1287.517   Durbin-Watson:                   1.589\n",
       "Prob(Omnibus):                  0.000   Jarque-Bera (JB):            40258.993\n",
       "Skew:                           2.390   Prob(JB):                         0.00\n",
       "Kurtosis:                      24.016   Cond. No.                         16.3\n",
       "==============================================================================\n",
       "\n",
       "Warnings:\n",
       "[1] Standard Errors assume that the covariance matrix of the errors is correctly specified.\n",
       "\"\"\""
      ]
     },
     "execution_count": 42,
     "metadata": {},
     "output_type": "execute_result"
    }
   ],
   "source": [
    "lm1.summary()"
   ]
  },
  {
   "cell_type": "code",
   "execution_count": 43,
   "metadata": {
    "collapsed": false
   },
   "outputs": [
    {
     "data": {
      "text/html": [
       "<table class=\"simpletable\">\n",
       "<caption>OLS Regression Results</caption>\n",
       "<tr>\n",
       "  <th>Dep. Variable:</th>    <td>median_rent_growth_00_10</td> <th>  R-squared:         </th> <td>   0.012</td>\n",
       "</tr>\n",
       "<tr>\n",
       "  <th>Model:</th>                       <td>OLS</td>           <th>  Adj. R-squared:    </th> <td>   0.012</td>\n",
       "</tr>\n",
       "<tr>\n",
       "  <th>Method:</th>                 <td>Least Squares</td>      <th>  F-statistic:       </th> <td>   25.58</td>\n",
       "</tr>\n",
       "<tr>\n",
       "  <th>Date:</th>                 <td>Mon, 06 Nov 2017</td>     <th>  Prob (F-statistic):</th> <td>4.62e-07</td>\n",
       "</tr>\n",
       "<tr>\n",
       "  <th>Time:</th>                     <td>02:22:13</td>         <th>  Log-Likelihood:    </th> <td> -169.15</td>\n",
       "</tr>\n",
       "<tr>\n",
       "  <th>No. Observations:</th>          <td>  2080</td>          <th>  AIC:               </th> <td>   342.3</td>\n",
       "</tr>\n",
       "<tr>\n",
       "  <th>Df Residuals:</th>              <td>  2078</td>          <th>  BIC:               </th> <td>   353.6</td>\n",
       "</tr>\n",
       "<tr>\n",
       "  <th>Df Model:</th>                  <td>     1</td>          <th>                     </th>     <td> </td>   \n",
       "</tr>\n",
       "<tr>\n",
       "  <th>Covariance Type:</th>          <td>nonrobust</td>        <th>                     </th>     <td> </td>   \n",
       "</tr>\n",
       "</table>\n",
       "<table class=\"simpletable\">\n",
       "<tr>\n",
       "               <td></td>                 <th>coef</th>     <th>std err</th>      <th>t</th>      <th>P>|t|</th> <th>[95.0% Conf. Int.]</th> \n",
       "</tr>\n",
       "<tr>\n",
       "  <th>Intercept</th>                  <td>    1.2551</td> <td>    0.059</td> <td>   21.362</td> <td> 0.000</td> <td>    1.140     1.370</td>\n",
       "</tr>\n",
       "<tr>\n",
       "  <th>entropy_index_change_00_10</th> <td>    0.3099</td> <td>    0.061</td> <td>    5.058</td> <td> 0.000</td> <td>    0.190     0.430</td>\n",
       "</tr>\n",
       "</table>\n",
       "<table class=\"simpletable\">\n",
       "<tr>\n",
       "  <th>Omnibus:</th>       <td>882.613</td> <th>  Durbin-Watson:     </th> <td>   1.988</td> \n",
       "</tr>\n",
       "<tr>\n",
       "  <th>Prob(Omnibus):</th> <td> 0.000</td>  <th>  Jarque-Bera (JB):  </th> <td>13449.507</td>\n",
       "</tr>\n",
       "<tr>\n",
       "  <th>Skew:</th>          <td> 1.585</td>  <th>  Prob(JB):          </th> <td>    0.00</td> \n",
       "</tr>\n",
       "<tr>\n",
       "  <th>Kurtosis:</th>      <td>15.047</td>  <th>  Cond. No.          </th> <td>    20.4</td> \n",
       "</tr>\n",
       "</table>"
      ],
      "text/plain": [
       "<class 'statsmodels.iolib.summary.Summary'>\n",
       "\"\"\"\n",
       "                               OLS Regression Results                               \n",
       "====================================================================================\n",
       "Dep. Variable:     median_rent_growth_00_10   R-squared:                       0.012\n",
       "Model:                                  OLS   Adj. R-squared:                  0.012\n",
       "Method:                       Least Squares   F-statistic:                     25.58\n",
       "Date:                      Mon, 06 Nov 2017   Prob (F-statistic):           4.62e-07\n",
       "Time:                              02:22:13   Log-Likelihood:                -169.15\n",
       "No. Observations:                      2080   AIC:                             342.3\n",
       "Df Residuals:                          2078   BIC:                             353.6\n",
       "Df Model:                                 1                                         \n",
       "Covariance Type:                  nonrobust                                         \n",
       "==============================================================================================\n",
       "                                 coef    std err          t      P>|t|      [95.0% Conf. Int.]\n",
       "----------------------------------------------------------------------------------------------\n",
       "Intercept                      1.2551      0.059     21.362      0.000         1.140     1.370\n",
       "entropy_index_change_00_10     0.3099      0.061      5.058      0.000         0.190     0.430\n",
       "==============================================================================\n",
       "Omnibus:                      882.613   Durbin-Watson:                   1.988\n",
       "Prob(Omnibus):                  0.000   Jarque-Bera (JB):            13449.507\n",
       "Skew:                           1.585   Prob(JB):                         0.00\n",
       "Kurtosis:                      15.047   Cond. No.                         20.4\n",
       "==============================================================================\n",
       "\n",
       "Warnings:\n",
       "[1] Standard Errors assume that the covariance matrix of the errors is correctly specified.\n",
       "\"\"\""
      ]
     },
     "execution_count": 43,
     "metadata": {},
     "output_type": "execute_result"
    }
   ],
   "source": [
    "lm2.summary()"
   ]
  },
  {
   "cell_type": "markdown",
   "metadata": {},
   "source": [
    "# It seems that there is little linear relationship between change of income intergration and change of rent. "
   ]
  },
  {
   "cell_type": "code",
   "execution_count": null,
   "metadata": {
    "collapsed": true
   },
   "outputs": [],
   "source": []
  }
 ],
 "metadata": {
  "kernelspec": {
   "display_name": "Python 3",
   "language": "python",
   "name": "python3"
  },
  "language_info": {
   "codemirror_mode": {
    "name": "ipython",
    "version": 3
   },
   "file_extension": ".py",
   "mimetype": "text/x-python",
   "name": "python",
   "nbconvert_exporter": "python",
   "pygments_lexer": "ipython3",
   "version": "3.6.0"
  }
 },
 "nbformat": 4,
 "nbformat_minor": 2
}
