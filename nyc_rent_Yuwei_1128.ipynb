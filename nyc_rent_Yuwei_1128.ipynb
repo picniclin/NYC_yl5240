{
 "cells": [
  {
   "cell_type": "code",
   "execution_count": 1,
   "metadata": {
    "collapsed": true
   },
   "outputs": [],
   "source": [
    "import pandas as pd\n",
    "import numpy as np\n",
    "import matplotlib.pylab as plt\n",
    "%matplotlib inline\n",
    "import statsmodels.formula.api as smf"
   ]
  },
  {
   "cell_type": "markdown",
   "metadata": {},
   "source": [
    "## the deliverable of first part of this notebook is a clean dataset on census tracts: ** df_census**\n",
    "## uploaded on  https://github.com/picniclin/NYC_yl5240/blob/master/data/civic_census.csv"
   ]
  },
  {
   "cell_type": "markdown",
   "metadata": {},
   "source": [
    "## Data source is from Geolytics: Neighborhood Change Database (NACD) (http://demographics.geolytics.com/ncdb2010/default.aspx)\n",
    "the dataset geolytics_nyc_census_1990_2010.csv has been uploaded on:\n",
    "https://github.com/picniclin/NYC_yl5240/blob/master/data/geolytics_nyc_census_1990_2010.csv\n"
   ]
  },
  {
   "cell_type": "code",
   "execution_count": 2,
   "metadata": {
    "collapsed": true
   },
   "outputs": [],
   "source": [
    "df = pd.read_csv('geolytics_nyc_census_1990_2010.csv')"
   ]
  },
  {
   "cell_type": "code",
   "execution_count": 3,
   "metadata": {
    "collapsed": false
   },
   "outputs": [
    {
     "data": {
      "text/plain": [
       "(2168, 111)"
      ]
     },
     "execution_count": 3,
     "metadata": {},
     "output_type": "execute_result"
    }
   ],
   "source": [
    "df.shape"
   ]
  },
  {
   "cell_type": "code",
   "execution_count": 4,
   "metadata": {
    "collapsed": true
   },
   "outputs": [],
   "source": [
    "# list(df.columns)"
   ]
  },
  {
   "cell_type": "code",
   "execution_count": 5,
   "metadata": {
    "collapsed": false
   },
   "outputs": [],
   "source": [
    "cols = df.columns.str.replace('TRCTPOP', 'pop')\\\n",
    "            .str.replace('MDFAMY','median_fam_inc_')\\\n",
    "            .str.replace('FAVINC', 'ave_fam_inc_')\\\n",
    "            .str.replace('MDHHY', 'median_hh_inc_')\\\n",
    "            .str.replace('AVHHIN', 'ave_hh_inc_')\\\n",
    "            .str.replace('FALTY', 'fam_inc_')\\\n",
    "            .str.replace('FALT', 'fam_inc_')\\\n",
    "            .str.replace('MXB', 'max_')\\\n",
    "            .str.replace('FAY0', 'fam_inc_')\\\n",
    "            .str.replace('fam_inc_M', 'fam_inc_max_')\\\n",
    "            .str.replace('THY0', 'hh_inc_' )\\\n",
    "            .str.replace('hh_inc_M', 'hh_inc_max_')\\\n",
    "            .str.replace('MDVALHS','median_house_value_')\\\n",
    "            .str.replace('MDGRENT', 'median_rent_' )\\\n",
    "            .str.replace('1A', '1')\\\n",
    "            .str.replace('9A', '9')\\\n",
    "            .str.replace('RNTOCC', 'rent_units_')\n",
    "\n",
    "df.columns = cols\n",
    "\n",
    "df.rename(columns = {'AREAKEY' : 'census_tract','INTPTLAT':'lat', 'INTPTLON':'lon'}, \n",
    "          inplace = True)"
   ]
  },
  {
   "cell_type": "code",
   "execution_count": 6,
   "metadata": {
    "collapsed": false,
    "scrolled": true
   },
   "outputs": [
    {
     "data": {
      "text/html": [
       "<div>\n",
       "<table border=\"1\" class=\"dataframe\">\n",
       "  <thead>\n",
       "    <tr style=\"text-align: right;\">\n",
       "      <th></th>\n",
       "      <th>census_tract</th>\n",
       "      <th>lat</th>\n",
       "      <th>lon</th>\n",
       "      <th>ZCTA5</th>\n",
       "      <th>pop9</th>\n",
       "      <th>ave_fam_inc_9</th>\n",
       "      <th>median_fam_inc_9</th>\n",
       "      <th>fam_inc_59</th>\n",
       "      <th>fam_inc_109</th>\n",
       "      <th>fam_inc_139</th>\n",
       "      <th>...</th>\n",
       "      <th>hh_inc_1251</th>\n",
       "      <th>hh_inc_1501</th>\n",
       "      <th>hh_inc_2001</th>\n",
       "      <th>hh_inc_max_201</th>\n",
       "      <th>median_hh_inc_1</th>\n",
       "      <th>median_house_value_1</th>\n",
       "      <th>median_rent_1</th>\n",
       "      <th>rent_units_9</th>\n",
       "      <th>rent_units_0</th>\n",
       "      <th>rent_units_1</th>\n",
       "    </tr>\n",
       "  </thead>\n",
       "  <tbody>\n",
       "    <tr>\n",
       "      <th>0</th>\n",
       "      <td>36005000100</td>\n",
       "      <td>40.793492</td>\n",
       "      <td>-73.883532</td>\n",
       "      <td>11370.0</td>\n",
       "      <td>14303</td>\n",
       "      <td>0.00000</td>\n",
       "      <td>0</td>\n",
       "      <td>0</td>\n",
       "      <td>0</td>\n",
       "      <td>0</td>\n",
       "      <td>...</td>\n",
       "      <td>0</td>\n",
       "      <td>0</td>\n",
       "      <td>0</td>\n",
       "      <td>0</td>\n",
       "      <td>0</td>\n",
       "      <td>0</td>\n",
       "      <td>0</td>\n",
       "      <td>0</td>\n",
       "      <td>0</td>\n",
       "      <td>0</td>\n",
       "    </tr>\n",
       "    <tr>\n",
       "      <th>1</th>\n",
       "      <td>36005000200</td>\n",
       "      <td>40.804573</td>\n",
       "      <td>-73.856859</td>\n",
       "      <td>10473.0</td>\n",
       "      <td>2907</td>\n",
       "      <td>45267.28710</td>\n",
       "      <td>38711</td>\n",
       "      <td>31</td>\n",
       "      <td>29</td>\n",
       "      <td>29</td>\n",
       "      <td>...</td>\n",
       "      <td>203</td>\n",
       "      <td>48</td>\n",
       "      <td>68</td>\n",
       "      <td>11</td>\n",
       "      <td>59826</td>\n",
       "      <td>392500</td>\n",
       "      <td>1273</td>\n",
       "      <td>384</td>\n",
       "      <td>421</td>\n",
       "      <td>635</td>\n",
       "    </tr>\n",
       "    <tr>\n",
       "      <th>2</th>\n",
       "      <td>36005000400</td>\n",
       "      <td>40.808915</td>\n",
       "      <td>-73.850488</td>\n",
       "      <td>10473.0</td>\n",
       "      <td>2260</td>\n",
       "      <td>43694.20068</td>\n",
       "      <td>40484</td>\n",
       "      <td>15</td>\n",
       "      <td>19</td>\n",
       "      <td>24</td>\n",
       "      <td>...</td>\n",
       "      <td>97</td>\n",
       "      <td>161</td>\n",
       "      <td>96</td>\n",
       "      <td>73</td>\n",
       "      <td>71968</td>\n",
       "      <td>393700</td>\n",
       "      <td>1330</td>\n",
       "      <td>214</td>\n",
       "      <td>486</td>\n",
       "      <td>615</td>\n",
       "    </tr>\n",
       "    <tr>\n",
       "      <th>3</th>\n",
       "      <td>36005001600</td>\n",
       "      <td>40.818848</td>\n",
       "      <td>-73.858076</td>\n",
       "      <td>10473.0</td>\n",
       "      <td>5254</td>\n",
       "      <td>30042.84776</td>\n",
       "      <td>24732</td>\n",
       "      <td>61</td>\n",
       "      <td>142</td>\n",
       "      <td>53</td>\n",
       "      <td>...</td>\n",
       "      <td>20</td>\n",
       "      <td>38</td>\n",
       "      <td>20</td>\n",
       "      <td>0</td>\n",
       "      <td>30355</td>\n",
       "      <td>378100</td>\n",
       "      <td>823</td>\n",
       "      <td>1462</td>\n",
       "      <td>1517</td>\n",
       "      <td>1617</td>\n",
       "    </tr>\n",
       "    <tr>\n",
       "      <th>4</th>\n",
       "      <td>36005001900</td>\n",
       "      <td>40.800999</td>\n",
       "      <td>-73.909373</td>\n",
       "      <td>10454.0</td>\n",
       "      <td>1575</td>\n",
       "      <td>23377.47813</td>\n",
       "      <td>24823</td>\n",
       "      <td>76</td>\n",
       "      <td>50</td>\n",
       "      <td>0</td>\n",
       "      <td>...</td>\n",
       "      <td>19</td>\n",
       "      <td>21</td>\n",
       "      <td>0</td>\n",
       "      <td>0</td>\n",
       "      <td>25093</td>\n",
       "      <td>0</td>\n",
       "      <td>870</td>\n",
       "      <td>357</td>\n",
       "      <td>336</td>\n",
       "      <td>505</td>\n",
       "    </tr>\n",
       "  </tbody>\n",
       "</table>\n",
       "<p>5 rows × 111 columns</p>\n",
       "</div>"
      ],
      "text/plain": [
       "   census_tract        lat        lon    ZCTA5   pop9  ave_fam_inc_9  \\\n",
       "0   36005000100  40.793492 -73.883532  11370.0  14303        0.00000   \n",
       "1   36005000200  40.804573 -73.856859  10473.0   2907    45267.28710   \n",
       "2   36005000400  40.808915 -73.850488  10473.0   2260    43694.20068   \n",
       "3   36005001600  40.818848 -73.858076  10473.0   5254    30042.84776   \n",
       "4   36005001900  40.800999 -73.909373  10454.0   1575    23377.47813   \n",
       "\n",
       "   median_fam_inc_9  fam_inc_59  fam_inc_109  fam_inc_139      ...       \\\n",
       "0                 0           0            0            0      ...        \n",
       "1             38711          31           29           29      ...        \n",
       "2             40484          15           19           24      ...        \n",
       "3             24732          61          142           53      ...        \n",
       "4             24823          76           50            0      ...        \n",
       "\n",
       "   hh_inc_1251  hh_inc_1501  hh_inc_2001  hh_inc_max_201  median_hh_inc_1  \\\n",
       "0            0            0            0               0                0   \n",
       "1          203           48           68              11            59826   \n",
       "2           97          161           96              73            71968   \n",
       "3           20           38           20               0            30355   \n",
       "4           19           21            0               0            25093   \n",
       "\n",
       "   median_house_value_1  median_rent_1  rent_units_9  rent_units_0  \\\n",
       "0                     0              0             0             0   \n",
       "1                392500           1273           384           421   \n",
       "2                393700           1330           214           486   \n",
       "3                378100            823          1462          1517   \n",
       "4                     0            870           357           336   \n",
       "\n",
       "   rent_units_1  \n",
       "0             0  \n",
       "1           635  \n",
       "2           615  \n",
       "3          1617  \n",
       "4           505  \n",
       "\n",
       "[5 rows x 111 columns]"
      ]
     },
     "execution_count": 6,
     "metadata": {},
     "output_type": "execute_result"
    }
   ],
   "source": [
    "df.head()"
   ]
  },
  {
   "cell_type": "code",
   "execution_count": 7,
   "metadata": {
    "collapsed": false
   },
   "outputs": [
    {
     "data": {
      "text/plain": [
       "(2168, 111)"
      ]
     },
     "execution_count": 7,
     "metadata": {},
     "output_type": "execute_result"
    }
   ],
   "source": [
    "df.shape"
   ]
  },
  {
   "cell_type": "code",
   "execution_count": 8,
   "metadata": {
    "collapsed": false
   },
   "outputs": [
    {
     "data": {
      "text/html": [
       "<div>\n",
       "<table border=\"1\" class=\"dataframe\">\n",
       "  <thead>\n",
       "    <tr style=\"text-align: right;\">\n",
       "      <th></th>\n",
       "      <th>census_tract</th>\n",
       "      <th>lat</th>\n",
       "      <th>lon</th>\n",
       "      <th>ZCTA5</th>\n",
       "      <th>pop9</th>\n",
       "      <th>median_fam_inc_9</th>\n",
       "      <th>median_hh_inc_9</th>\n",
       "      <th>median_house_value_9</th>\n",
       "      <th>median_rent_9</th>\n",
       "      <th>median_fam_inc_0</th>\n",
       "      <th>median_hh_inc_0</th>\n",
       "      <th>median_house_value_0</th>\n",
       "      <th>median_rent_0</th>\n",
       "      <th>median_fam_inc_1</th>\n",
       "      <th>median_hh_inc_1</th>\n",
       "      <th>median_house_value_1</th>\n",
       "      <th>median_rent_1</th>\n",
       "      <th>rent_units_9</th>\n",
       "      <th>rent_units_0</th>\n",
       "      <th>rent_units_1</th>\n",
       "    </tr>\n",
       "  </thead>\n",
       "  <tbody>\n",
       "    <tr>\n",
       "      <th>0</th>\n",
       "      <td>36005000100</td>\n",
       "      <td>40.793492</td>\n",
       "      <td>-73.883532</td>\n",
       "      <td>11370.0</td>\n",
       "      <td>14303</td>\n",
       "      <td>0</td>\n",
       "      <td>0</td>\n",
       "      <td>0</td>\n",
       "      <td>0</td>\n",
       "      <td>0</td>\n",
       "      <td>0</td>\n",
       "      <td>0</td>\n",
       "      <td>0</td>\n",
       "      <td>0</td>\n",
       "      <td>0</td>\n",
       "      <td>0</td>\n",
       "      <td>0</td>\n",
       "      <td>0</td>\n",
       "      <td>0</td>\n",
       "      <td>0</td>\n",
       "    </tr>\n",
       "    <tr>\n",
       "      <th>1</th>\n",
       "      <td>36005000200</td>\n",
       "      <td>40.804573</td>\n",
       "      <td>-73.856859</td>\n",
       "      <td>10473.0</td>\n",
       "      <td>2907</td>\n",
       "      <td>38711</td>\n",
       "      <td>31632</td>\n",
       "      <td>136500</td>\n",
       "      <td>742</td>\n",
       "      <td>50817</td>\n",
       "      <td>42539</td>\n",
       "      <td>147500</td>\n",
       "      <td>730</td>\n",
       "      <td>58368</td>\n",
       "      <td>59826</td>\n",
       "      <td>392500</td>\n",
       "      <td>1273</td>\n",
       "      <td>384</td>\n",
       "      <td>421</td>\n",
       "      <td>635</td>\n",
       "    </tr>\n",
       "    <tr>\n",
       "      <th>2</th>\n",
       "      <td>36005000400</td>\n",
       "      <td>40.808915</td>\n",
       "      <td>-73.850488</td>\n",
       "      <td>10473.0</td>\n",
       "      <td>2260</td>\n",
       "      <td>40484</td>\n",
       "      <td>36506</td>\n",
       "      <td>163234</td>\n",
       "      <td>535</td>\n",
       "      <td>41019</td>\n",
       "      <td>39111</td>\n",
       "      <td>157610</td>\n",
       "      <td>643</td>\n",
       "      <td>73148</td>\n",
       "      <td>71968</td>\n",
       "      <td>393700</td>\n",
       "      <td>1330</td>\n",
       "      <td>214</td>\n",
       "      <td>486</td>\n",
       "      <td>615</td>\n",
       "    </tr>\n",
       "    <tr>\n",
       "      <th>3</th>\n",
       "      <td>36005001600</td>\n",
       "      <td>40.818848</td>\n",
       "      <td>-73.858076</td>\n",
       "      <td>10473.0</td>\n",
       "      <td>5254</td>\n",
       "      <td>24732</td>\n",
       "      <td>22739</td>\n",
       "      <td>156800</td>\n",
       "      <td>466</td>\n",
       "      <td>30104</td>\n",
       "      <td>24552</td>\n",
       "      <td>177000</td>\n",
       "      <td>558</td>\n",
       "      <td>33555</td>\n",
       "      <td>30355</td>\n",
       "      <td>378100</td>\n",
       "      <td>823</td>\n",
       "      <td>1462</td>\n",
       "      <td>1517</td>\n",
       "      <td>1617</td>\n",
       "    </tr>\n",
       "    <tr>\n",
       "      <th>4</th>\n",
       "      <td>36005001900</td>\n",
       "      <td>40.800999</td>\n",
       "      <td>-73.909373</td>\n",
       "      <td>10454.0</td>\n",
       "      <td>1575</td>\n",
       "      <td>24823</td>\n",
       "      <td>11215</td>\n",
       "      <td>48868</td>\n",
       "      <td>422</td>\n",
       "      <td>23671</td>\n",
       "      <td>22772</td>\n",
       "      <td>145960</td>\n",
       "      <td>461</td>\n",
       "      <td>25489</td>\n",
       "      <td>25093</td>\n",
       "      <td>0</td>\n",
       "      <td>870</td>\n",
       "      <td>357</td>\n",
       "      <td>336</td>\n",
       "      <td>505</td>\n",
       "    </tr>\n",
       "  </tbody>\n",
       "</table>\n",
       "</div>"
      ],
      "text/plain": [
       "   census_tract        lat        lon    ZCTA5   pop9  median_fam_inc_9  \\\n",
       "0   36005000100  40.793492 -73.883532  11370.0  14303                 0   \n",
       "1   36005000200  40.804573 -73.856859  10473.0   2907             38711   \n",
       "2   36005000400  40.808915 -73.850488  10473.0   2260             40484   \n",
       "3   36005001600  40.818848 -73.858076  10473.0   5254             24732   \n",
       "4   36005001900  40.800999 -73.909373  10454.0   1575             24823   \n",
       "\n",
       "   median_hh_inc_9  median_house_value_9  median_rent_9  median_fam_inc_0  \\\n",
       "0                0                     0              0                 0   \n",
       "1            31632                136500            742             50817   \n",
       "2            36506                163234            535             41019   \n",
       "3            22739                156800            466             30104   \n",
       "4            11215                 48868            422             23671   \n",
       "\n",
       "   median_hh_inc_0  median_house_value_0  median_rent_0  median_fam_inc_1  \\\n",
       "0                0                     0              0                 0   \n",
       "1            42539                147500            730             58368   \n",
       "2            39111                157610            643             73148   \n",
       "3            24552                177000            558             33555   \n",
       "4            22772                145960            461             25489   \n",
       "\n",
       "   median_hh_inc_1  median_house_value_1  median_rent_1  rent_units_9  \\\n",
       "0                0                     0              0             0   \n",
       "1            59826                392500           1273           384   \n",
       "2            71968                393700           1330           214   \n",
       "3            30355                378100            823          1462   \n",
       "4            25093                     0            870           357   \n",
       "\n",
       "   rent_units_0  rent_units_1  \n",
       "0             0             0  \n",
       "1           421           635  \n",
       "2           486           615  \n",
       "3          1517          1617  \n",
       "4           336           505  "
      ]
     },
     "execution_count": 8,
     "metadata": {},
     "output_type": "execute_result"
    }
   ],
   "source": [
    "df1 = pd.concat([df.iloc[:,:5], \n",
    "                 df.loc[:,df.columns[(df.columns.str.startswith('ava_'))|\\\n",
    "                                     (df.columns.str.startswith('median_'))|\\\n",
    "                                     (df.columns.str.startswith('rent_'))]]], \n",
    "                axis = 1)\n",
    "df1.head()"
   ]
  },
  {
   "cell_type": "code",
   "execution_count": 9,
   "metadata": {
    "collapsed": true
   },
   "outputs": [],
   "source": [
    "df1.to_csv('nyc_1990_2010_census_median.csv')"
   ]
  },
  {
   "cell_type": "markdown",
   "metadata": {},
   "source": [
    "## NYC has 2168 census tracts in 2010 census."
   ]
  },
  {
   "cell_type": "markdown",
   "metadata": {},
   "source": [
    "# 1. Create table for analysis"
   ]
  },
  {
   "cell_type": "markdown",
   "metadata": {},
   "source": [
    "## 1.1 income and rent "
   ]
  },
  {
   "cell_type": "markdown",
   "metadata": {},
   "source": [
    "## Since there is no household income in 1990, we choose family income data as income data"
   ]
  },
  {
   "cell_type": "code",
   "execution_count": 10,
   "metadata": {
    "collapsed": false
   },
   "outputs": [
    {
     "data": {
      "text/plain": [
       "(2089, 111)"
      ]
     },
     "execution_count": 10,
     "metadata": {},
     "output_type": "execute_result"
    }
   ],
   "source": [
    "## delete the observation, i.e. census tract, with 0 median rent or 0 median families income\n",
    "df2 = df.dropna()\n",
    "\n",
    "df2 = df[~((df.median_rent_0 == 0)| (df.median_rent_9 == 0)|(df.median_rent_1 == 0)|\\\n",
    "         (df.median_fam_inc_9 == 0)| (df.median_fam_inc_9 == 0)|(df.median_fam_inc_1 == 0))]\n",
    "df2.shape"
   ]
  },
  {
   "cell_type": "code",
   "execution_count": 11,
   "metadata": {
    "collapsed": false
   },
   "outputs": [
    {
     "data": {
      "text/plain": [
       "((2089, 20), (2089, 17), (2089, 17))"
      ]
     },
     "execution_count": 11,
     "metadata": {},
     "output_type": "execute_result"
    }
   ],
   "source": [
    "# the tables of different groups of families income level\n",
    "df_inc_9 = df2.loc[:,df2.columns[(df2.columns == 'census_tract') |\\\n",
    "                (df2.columns.str.startswith('fam_inc_')&df2.columns.str.endswith('9'))]]\n",
    "\n",
    "df_inc_0 = df2.loc[:,df2.columns[(df2.columns == 'census_tract') |\\\n",
    "                (df2.columns.str.startswith('fam_inc_')&df2.columns.str.endswith('0'))]]\n",
    "\n",
    "df_inc_1 = df2.loc[:,df2.columns[(df2.columns == 'census_tract') |\\\n",
    "               (df2.columns.str.startswith('fam_inc_')&df2.columns.str.endswith('1'))]]\n",
    "\n",
    " \n",
    "df_inc_9.shape, df_inc_0.shape, df_inc_1.shape"
   ]
  },
  {
   "cell_type": "code",
   "execution_count": 12,
   "metadata": {
    "collapsed": false
   },
   "outputs": [],
   "source": [
    "df_inc_rent = df2.loc[:,df2.columns[(df2.columns == 'census_tract') |\\\n",
    "                                (df2.columns.str.startswith('median_fam_inc')) |\\\n",
    "                                (df2.columns.str.startswith('median_rent'))|\\\n",
    "                                 (df2.columns.str.startswith('rent'))]]"
   ]
  },
  {
   "cell_type": "code",
   "execution_count": 13,
   "metadata": {
    "collapsed": false
   },
   "outputs": [
    {
     "data": {
      "text/html": [
       "<div>\n",
       "<table border=\"1\" class=\"dataframe\">\n",
       "  <thead>\n",
       "    <tr style=\"text-align: right;\">\n",
       "      <th></th>\n",
       "      <th>census_tract</th>\n",
       "      <th>median_fam_inc_9</th>\n",
       "      <th>median_rent_9</th>\n",
       "      <th>median_fam_inc_0</th>\n",
       "      <th>median_rent_0</th>\n",
       "      <th>median_fam_inc_1</th>\n",
       "      <th>median_rent_1</th>\n",
       "      <th>rent_units_9</th>\n",
       "      <th>rent_units_0</th>\n",
       "      <th>rent_units_1</th>\n",
       "    </tr>\n",
       "  </thead>\n",
       "  <tbody>\n",
       "    <tr>\n",
       "      <th>1</th>\n",
       "      <td>36005000200</td>\n",
       "      <td>38711</td>\n",
       "      <td>742</td>\n",
       "      <td>50817</td>\n",
       "      <td>730</td>\n",
       "      <td>58368</td>\n",
       "      <td>1273</td>\n",
       "      <td>384</td>\n",
       "      <td>421</td>\n",
       "      <td>635</td>\n",
       "    </tr>\n",
       "    <tr>\n",
       "      <th>2</th>\n",
       "      <td>36005000400</td>\n",
       "      <td>40484</td>\n",
       "      <td>535</td>\n",
       "      <td>41019</td>\n",
       "      <td>643</td>\n",
       "      <td>73148</td>\n",
       "      <td>1330</td>\n",
       "      <td>214</td>\n",
       "      <td>486</td>\n",
       "      <td>615</td>\n",
       "    </tr>\n",
       "    <tr>\n",
       "      <th>3</th>\n",
       "      <td>36005001600</td>\n",
       "      <td>24732</td>\n",
       "      <td>466</td>\n",
       "      <td>30104</td>\n",
       "      <td>558</td>\n",
       "      <td>33555</td>\n",
       "      <td>823</td>\n",
       "      <td>1462</td>\n",
       "      <td>1517</td>\n",
       "      <td>1617</td>\n",
       "    </tr>\n",
       "    <tr>\n",
       "      <th>4</th>\n",
       "      <td>36005001900</td>\n",
       "      <td>24823</td>\n",
       "      <td>422</td>\n",
       "      <td>23671</td>\n",
       "      <td>461</td>\n",
       "      <td>25489</td>\n",
       "      <td>870</td>\n",
       "      <td>357</td>\n",
       "      <td>336</td>\n",
       "      <td>505</td>\n",
       "    </tr>\n",
       "    <tr>\n",
       "      <th>5</th>\n",
       "      <td>36005002000</td>\n",
       "      <td>18762</td>\n",
       "      <td>298</td>\n",
       "      <td>19694</td>\n",
       "      <td>266</td>\n",
       "      <td>30817</td>\n",
       "      <td>455</td>\n",
       "      <td>2570</td>\n",
       "      <td>2601</td>\n",
       "      <td>2618</td>\n",
       "    </tr>\n",
       "  </tbody>\n",
       "</table>\n",
       "</div>"
      ],
      "text/plain": [
       "   census_tract  median_fam_inc_9  median_rent_9  median_fam_inc_0  \\\n",
       "1   36005000200             38711            742             50817   \n",
       "2   36005000400             40484            535             41019   \n",
       "3   36005001600             24732            466             30104   \n",
       "4   36005001900             24823            422             23671   \n",
       "5   36005002000             18762            298             19694   \n",
       "\n",
       "   median_rent_0  median_fam_inc_1  median_rent_1  rent_units_9  rent_units_0  \\\n",
       "1            730             58368           1273           384           421   \n",
       "2            643             73148           1330           214           486   \n",
       "3            558             33555            823          1462          1517   \n",
       "4            461             25489            870           357           336   \n",
       "5            266             30817            455          2570          2601   \n",
       "\n",
       "   rent_units_1  \n",
       "1           635  \n",
       "2           615  \n",
       "3          1617  \n",
       "4           505  \n",
       "5          2618  "
      ]
     },
     "execution_count": 13,
     "metadata": {},
     "output_type": "execute_result"
    }
   ],
   "source": [
    "df_inc_rent.head()"
   ]
  },
  {
   "cell_type": "code",
   "execution_count": 14,
   "metadata": {
    "collapsed": false
   },
   "outputs": [
    {
     "data": {
      "text/html": [
       "<div>\n",
       "<table border=\"1\" class=\"dataframe\">\n",
       "  <thead>\n",
       "    <tr style=\"text-align: right;\">\n",
       "      <th></th>\n",
       "      <th>tract</th>\n",
       "      <th>inc_9</th>\n",
       "      <th>rent_9</th>\n",
       "      <th>inc_0</th>\n",
       "      <th>rent_0</th>\n",
       "      <th>inc_1</th>\n",
       "      <th>rent_1</th>\n",
       "      <th>r_units_9</th>\n",
       "      <th>r_units_0</th>\n",
       "      <th>r_units_1</th>\n",
       "    </tr>\n",
       "  </thead>\n",
       "  <tbody>\n",
       "    <tr>\n",
       "      <th>1</th>\n",
       "      <td>36005000200</td>\n",
       "      <td>38711</td>\n",
       "      <td>742</td>\n",
       "      <td>50817</td>\n",
       "      <td>730</td>\n",
       "      <td>58368</td>\n",
       "      <td>1273</td>\n",
       "      <td>384</td>\n",
       "      <td>421</td>\n",
       "      <td>635</td>\n",
       "    </tr>\n",
       "    <tr>\n",
       "      <th>2</th>\n",
       "      <td>36005000400</td>\n",
       "      <td>40484</td>\n",
       "      <td>535</td>\n",
       "      <td>41019</td>\n",
       "      <td>643</td>\n",
       "      <td>73148</td>\n",
       "      <td>1330</td>\n",
       "      <td>214</td>\n",
       "      <td>486</td>\n",
       "      <td>615</td>\n",
       "    </tr>\n",
       "    <tr>\n",
       "      <th>3</th>\n",
       "      <td>36005001600</td>\n",
       "      <td>24732</td>\n",
       "      <td>466</td>\n",
       "      <td>30104</td>\n",
       "      <td>558</td>\n",
       "      <td>33555</td>\n",
       "      <td>823</td>\n",
       "      <td>1462</td>\n",
       "      <td>1517</td>\n",
       "      <td>1617</td>\n",
       "    </tr>\n",
       "    <tr>\n",
       "      <th>4</th>\n",
       "      <td>36005001900</td>\n",
       "      <td>24823</td>\n",
       "      <td>422</td>\n",
       "      <td>23671</td>\n",
       "      <td>461</td>\n",
       "      <td>25489</td>\n",
       "      <td>870</td>\n",
       "      <td>357</td>\n",
       "      <td>336</td>\n",
       "      <td>505</td>\n",
       "    </tr>\n",
       "    <tr>\n",
       "      <th>5</th>\n",
       "      <td>36005002000</td>\n",
       "      <td>18762</td>\n",
       "      <td>298</td>\n",
       "      <td>19694</td>\n",
       "      <td>266</td>\n",
       "      <td>30817</td>\n",
       "      <td>455</td>\n",
       "      <td>2570</td>\n",
       "      <td>2601</td>\n",
       "      <td>2618</td>\n",
       "    </tr>\n",
       "  </tbody>\n",
       "</table>\n",
       "</div>"
      ],
      "text/plain": [
       "         tract  inc_9  rent_9  inc_0  rent_0  inc_1  rent_1  r_units_9  \\\n",
       "1  36005000200  38711     742  50817     730  58368    1273        384   \n",
       "2  36005000400  40484     535  41019     643  73148    1330        214   \n",
       "3  36005001600  24732     466  30104     558  33555     823       1462   \n",
       "4  36005001900  24823     422  23671     461  25489     870        357   \n",
       "5  36005002000  18762     298  19694     266  30817     455       2570   \n",
       "\n",
       "   r_units_0  r_units_1  \n",
       "1        421        635  \n",
       "2        486        615  \n",
       "3       1517       1617  \n",
       "4        336        505  \n",
       "5       2601       2618  "
      ]
     },
     "execution_count": 14,
     "metadata": {},
     "output_type": "execute_result"
    }
   ],
   "source": [
    "df_inc_rent.columns = ['tract', 'inc_9', 'rent_9','inc_0', 'rent_0', 'inc_1',  'rent_1',\n",
    "                      'r_units_9','r_units_0','r_units_1']\n",
    "\n",
    "df_inc_rent.head()"
   ]
  },
  {
   "cell_type": "code",
   "execution_count": 15,
   "metadata": {
    "collapsed": false
   },
   "outputs": [
    {
     "data": {
      "text/html": [
       "<div>\n",
       "<table border=\"1\" class=\"dataframe\">\n",
       "  <thead>\n",
       "    <tr style=\"text-align: right;\">\n",
       "      <th></th>\n",
       "      <th>tract</th>\n",
       "      <th>inc_9</th>\n",
       "      <th>rent_9</th>\n",
       "      <th>inc_0</th>\n",
       "      <th>rent_0</th>\n",
       "      <th>inc_1</th>\n",
       "      <th>rent_1</th>\n",
       "      <th>r_units_9</th>\n",
       "      <th>r_units_0</th>\n",
       "      <th>r_units_1</th>\n",
       "      <th>ratio_rent_inc_9</th>\n",
       "      <th>ratio_rent_inc_0</th>\n",
       "      <th>ratio_rent_inc_1</th>\n",
       "    </tr>\n",
       "  </thead>\n",
       "  <tbody>\n",
       "    <tr>\n",
       "      <th>1</th>\n",
       "      <td>36005000200</td>\n",
       "      <td>38711</td>\n",
       "      <td>742</td>\n",
       "      <td>50817</td>\n",
       "      <td>730</td>\n",
       "      <td>58368</td>\n",
       "      <td>1273</td>\n",
       "      <td>384</td>\n",
       "      <td>421</td>\n",
       "      <td>635</td>\n",
       "      <td>0.230012</td>\n",
       "      <td>0.172383</td>\n",
       "      <td>0.261719</td>\n",
       "    </tr>\n",
       "    <tr>\n",
       "      <th>2</th>\n",
       "      <td>36005000400</td>\n",
       "      <td>40484</td>\n",
       "      <td>535</td>\n",
       "      <td>41019</td>\n",
       "      <td>643</td>\n",
       "      <td>73148</td>\n",
       "      <td>1330</td>\n",
       "      <td>214</td>\n",
       "      <td>486</td>\n",
       "      <td>615</td>\n",
       "      <td>0.158581</td>\n",
       "      <td>0.188108</td>\n",
       "      <td>0.218188</td>\n",
       "    </tr>\n",
       "    <tr>\n",
       "      <th>3</th>\n",
       "      <td>36005001600</td>\n",
       "      <td>24732</td>\n",
       "      <td>466</td>\n",
       "      <td>30104</td>\n",
       "      <td>558</td>\n",
       "      <td>33555</td>\n",
       "      <td>823</td>\n",
       "      <td>1462</td>\n",
       "      <td>1517</td>\n",
       "      <td>1617</td>\n",
       "      <td>0.226104</td>\n",
       "      <td>0.222429</td>\n",
       "      <td>0.294323</td>\n",
       "    </tr>\n",
       "    <tr>\n",
       "      <th>4</th>\n",
       "      <td>36005001900</td>\n",
       "      <td>24823</td>\n",
       "      <td>422</td>\n",
       "      <td>23671</td>\n",
       "      <td>461</td>\n",
       "      <td>25489</td>\n",
       "      <td>870</td>\n",
       "      <td>357</td>\n",
       "      <td>336</td>\n",
       "      <td>505</td>\n",
       "      <td>0.204004</td>\n",
       "      <td>0.233704</td>\n",
       "      <td>0.409588</td>\n",
       "    </tr>\n",
       "    <tr>\n",
       "      <th>5</th>\n",
       "      <td>36005002000</td>\n",
       "      <td>18762</td>\n",
       "      <td>298</td>\n",
       "      <td>19694</td>\n",
       "      <td>266</td>\n",
       "      <td>30817</td>\n",
       "      <td>455</td>\n",
       "      <td>2570</td>\n",
       "      <td>2601</td>\n",
       "      <td>2618</td>\n",
       "      <td>0.190598</td>\n",
       "      <td>0.162080</td>\n",
       "      <td>0.177175</td>\n",
       "    </tr>\n",
       "  </tbody>\n",
       "</table>\n",
       "</div>"
      ],
      "text/plain": [
       "         tract  inc_9  rent_9  inc_0  rent_0  inc_1  rent_1  r_units_9  \\\n",
       "1  36005000200  38711     742  50817     730  58368    1273        384   \n",
       "2  36005000400  40484     535  41019     643  73148    1330        214   \n",
       "3  36005001600  24732     466  30104     558  33555     823       1462   \n",
       "4  36005001900  24823     422  23671     461  25489     870        357   \n",
       "5  36005002000  18762     298  19694     266  30817     455       2570   \n",
       "\n",
       "   r_units_0  r_units_1  ratio_rent_inc_9  ratio_rent_inc_0  ratio_rent_inc_1  \n",
       "1        421        635          0.230012          0.172383          0.261719  \n",
       "2        486        615          0.158581          0.188108          0.218188  \n",
       "3       1517       1617          0.226104          0.222429          0.294323  \n",
       "4        336        505          0.204004          0.233704          0.409588  \n",
       "5       2601       2618          0.190598          0.162080          0.177175  "
      ]
     },
     "execution_count": 15,
     "metadata": {},
     "output_type": "execute_result"
    }
   ],
   "source": [
    "df_inc_rent['ratio_rent_inc_9'] = df_inc_rent.rent_9*12/df_inc_rent.inc_9\n",
    "df_inc_rent['ratio_rent_inc_0'] = df_inc_rent.rent_0*12/df_inc_rent.inc_0\n",
    "df_inc_rent['ratio_rent_inc_1'] = df_inc_rent.rent_1*12/df_inc_rent.inc_1\n",
    "df_inc_rent.head()"
   ]
  },
  {
   "cell_type": "code",
   "execution_count": 16,
   "metadata": {
    "collapsed": false
   },
   "outputs": [
    {
     "data": {
      "text/plain": [
       "(2089, 13)"
      ]
     },
     "execution_count": 16,
     "metadata": {},
     "output_type": "execute_result"
    }
   ],
   "source": [
    "df_inc_rent.shape"
   ]
  },
  {
   "cell_type": "markdown",
   "metadata": {},
   "source": [
    "## 1.2 Income level groups and entropy index"
   ]
  },
  {
   "cell_type": "markdown",
   "metadata": {},
   "source": [
    "### 1） Define income level groups\n",
    "Use median value of the 2089 census tracts' median family income to divide 6 income-level groups:\n",
    "- < 50%\n",
    "- [50%, 80%)\n",
    "- [80%, 100%)\n",
    "- [100%, 120%)\n",
    "- [120%, 150%)\n",
    "- [150%, +inf)\n"
   ]
  },
  {
   "cell_type": "code",
   "execution_count": 17,
   "metadata": {
    "collapsed": true
   },
   "outputs": [],
   "source": [
    "def inc_div(x):\n",
    "    x1 = x * 0.5\n",
    "    x2 = x * 0.8\n",
    "    x3 = x\n",
    "    x4 = x * 1.2\n",
    "    x5 = x * 1.5\n",
    "    return([int(x1), int(x2), int(x3), int(x4), int(x5)])"
   ]
  },
  {
   "cell_type": "code",
   "execution_count": 18,
   "metadata": {
    "collapsed": false
   },
   "outputs": [
    {
     "data": {
      "text/plain": [
       "(36218.0, 42590.0, 56726.0)"
      ]
     },
     "execution_count": 18,
     "metadata": {},
     "output_type": "execute_result"
    }
   ],
   "source": [
    "median_inc_9, median_inc_0, median_inc_1 = df_inc_rent[['inc_9', 'inc_0', 'inc_1']].median()\n",
    "median_inc_9, median_inc_0, median_inc_1"
   ]
  },
  {
   "cell_type": "code",
   "execution_count": 19,
   "metadata": {
    "collapsed": false
   },
   "outputs": [],
   "source": [
    "## ideal division boundary\n",
    "inc_div_9 = inc_div(median_inc_9)\n",
    "\n",
    "inc_div_0 = inc_div(median_inc_0)\n",
    "\n",
    "inc_div_1 = inc_div(median_inc_1)"
   ]
  },
  {
   "cell_type": "code",
   "execution_count": 20,
   "metadata": {
    "collapsed": false
   },
   "outputs": [
    {
     "data": {
      "text/plain": [
       "([18109, 28974, 36218, 43461, 54327],\n",
       " [21295, 34072, 42590, 51108, 63885],\n",
       " [28363, 45380, 56726, 68071, 85089])"
      ]
     },
     "execution_count": 20,
     "metadata": {},
     "output_type": "execute_result"
    }
   ],
   "source": [
    "inc_div_9, inc_div_0, inc_div_1"
   ]
  },
  {
   "cell_type": "markdown",
   "metadata": {},
   "source": []
  },
  {
   "cell_type": "markdown",
   "metadata": {},
   "source": [
    "## calculate the number of families in four income-level groups for each year\n",
    "the actual division boundary is regarded as the existed income-level boundary in the census data which is nearest to the boudary above"
   ]
  },
  {
   "cell_type": "code",
   "execution_count": 21,
   "metadata": {
    "collapsed": false
   },
   "outputs": [
    {
     "data": {
      "text/plain": [
       "Index(['census_tract', 'fam_inc_59', 'fam_inc_109', 'fam_inc_139',\n",
       "       'fam_inc_159', 'fam_inc_189', 'fam_inc_209', 'fam_inc_239',\n",
       "       'fam_inc_259', 'fam_inc_289', 'fam_inc_309', 'fam_inc_359',\n",
       "       'fam_inc_409', 'fam_inc_499', 'fam_inc_609', 'fam_inc_759',\n",
       "       'fam_inc_1009', 'fam_inc_1259', 'fam_inc_1509', 'fam_inc_max_9'],\n",
       "      dtype='object')"
      ]
     },
     "execution_count": 21,
     "metadata": {},
     "output_type": "execute_result"
    }
   ],
   "source": [
    "df_inc_9.columns"
   ]
  },
  {
   "cell_type": "code",
   "execution_count": 22,
   "metadata": {
    "collapsed": true
   },
   "outputs": [],
   "source": [
    "# ideal division boundary for 1990: [18109, 28974, 36218, 43461, 54327]\n",
    "df_inc_9['inc_group1_9'] = df_inc_9['fam_inc_59'] + df_inc_9['fam_inc_109']\\\n",
    "                        + df_inc_9['fam_inc_139'] + df_inc_9['fam_inc_159'] \\\n",
    "                        + df_inc_9['fam_inc_189'] \n",
    "        \n",
    "df_inc_9['inc_group2_9'] = df_inc_9['fam_inc_209'] + df_inc_9['fam_inc_239'] + \\\n",
    "                           df_inc_9['fam_inc_259'] + df_inc_9['fam_inc_289'] + \\\n",
    "                           df_inc_9['fam_inc_309']\n",
    "        \n",
    "df_inc_9['inc_group3_9'] =  df_inc_9['fam_inc_359']\n",
    "\n",
    "df_inc_9['inc_group4_9'] = df_inc_9['fam_inc_409']\n",
    "\n",
    "df_inc_9['inc_group5_9'] = df_inc_9['fam_inc_499']  \n",
    "\n",
    "df_inc_9['inc_group6_9'] =  df_inc_9['fam_inc_609'] + df_inc_9['fam_inc_759'] \\\n",
    "                            + df_inc_9['fam_inc_1009'] + df_inc_9['fam_inc_1259']\\\n",
    "                            + df_inc_9['fam_inc_1509'] + df_inc_9['fam_inc_max_9']"
   ]
  },
  {
   "cell_type": "code",
   "execution_count": 23,
   "metadata": {
    "collapsed": false
   },
   "outputs": [
    {
     "data": {
      "text/plain": [
       "inc_group1_9    452794\n",
       "inc_group2_9    314860\n",
       "inc_group3_9    117385\n",
       "inc_group4_9    106071\n",
       "inc_group5_9    189509\n",
       "inc_group6_9    559550\n",
       "dtype: int64"
      ]
     },
     "execution_count": 23,
     "metadata": {},
     "output_type": "execute_result"
    }
   ],
   "source": [
    "df_inc_div_9 = df_inc_9[['census_tract', 'inc_group1_9', 'inc_group2_9', \n",
    "          'inc_group3_9', 'inc_group4_9',\n",
    "         'inc_group5_9', 'inc_group6_9']]\n",
    "df_inc_div_9.sum()[1:]"
   ]
  },
  {
   "cell_type": "code",
   "execution_count": 24,
   "metadata": {
    "collapsed": false
   },
   "outputs": [
    {
     "data": {
      "text/plain": [
       "Index(['census_tract', 'fam_inc_100', 'fam_inc_150', 'fam_inc_200',\n",
       "       'fam_inc_250', 'fam_inc_300', 'fam_inc_350', 'fam_inc_400',\n",
       "       'fam_inc_450', 'fam_inc_500', 'fam_inc_600', 'fam_inc_750',\n",
       "       'fam_inc_1000', 'fam_inc_1250', 'fam_inc_1500', 'fam_inc_2000',\n",
       "       'fam_inc_max_200'],\n",
       "      dtype='object')"
      ]
     },
     "execution_count": 24,
     "metadata": {},
     "output_type": "execute_result"
    }
   ],
   "source": [
    "df_inc_0.columns"
   ]
  },
  {
   "cell_type": "code",
   "execution_count": 25,
   "metadata": {
    "collapsed": false
   },
   "outputs": [],
   "source": [
    "# ideal division boundary for 2010: [21295, 34072, 42590, 51108, 63885]\n",
    "df_inc_0['inc_group1_0'] = df_inc_0['fam_inc_100'] + df_inc_0['fam_inc_150']\\\n",
    "                        + df_inc_0['fam_inc_200'] \n",
    "    \n",
    "df_inc_0['inc_group2_0'] = df_inc_0['fam_inc_250'] + df_inc_0['fam_inc_300'] \\\n",
    "                        + df_inc_0['fam_inc_350']\n",
    "    \n",
    "df_inc_0['inc_group3_0'] =  df_inc_0['fam_inc_400']\n",
    "\n",
    "df_inc_0['inc_group4_0'] =  df_inc_0['fam_inc_450'] + df_inc_0['fam_inc_500']\n",
    "\n",
    "df_inc_0['inc_group5_0'] = df_inc_0['fam_inc_600'] \n",
    "\n",
    "df_inc_0['inc_group6_0'] = df_inc_0['fam_inc_750'] + df_inc_0['fam_inc_1000'] \\\n",
    "                            + df_inc_0['fam_inc_1250'] + df_inc_0['fam_inc_1500']\\\n",
    "                            + df_inc_0['fam_inc_2000']  + df_inc_0['fam_inc_max_200']"
   ]
  },
  {
   "cell_type": "code",
   "execution_count": 26,
   "metadata": {
    "collapsed": false
   },
   "outputs": [
    {
     "data": {
      "text/plain": [
       "inc_group1_0    466241\n",
       "inc_group2_0    325881\n",
       "inc_group3_0     97069\n",
       "inc_group4_0    170127\n",
       "inc_group5_0    146590\n",
       "inc_group6_0    646516\n",
       "dtype: int64"
      ]
     },
     "execution_count": 26,
     "metadata": {},
     "output_type": "execute_result"
    }
   ],
   "source": [
    "df_inc_div_0 = df_inc_0[['census_tract', 'inc_group1_0', 'inc_group2_0', \n",
    "          'inc_group3_0', 'inc_group4_0',\n",
    "         'inc_group5_0', 'inc_group6_0']]\n",
    "df_inc_div_0.sum()[1:]"
   ]
  },
  {
   "cell_type": "code",
   "execution_count": 27,
   "metadata": {
    "collapsed": false
   },
   "outputs": [
    {
     "data": {
      "text/plain": [
       "Index(['census_tract', 'fam_inc_101', 'fam_inc_151', 'fam_inc_201',\n",
       "       'fam_inc_251', 'fam_inc_301', 'fam_inc_351', 'fam_inc_401',\n",
       "       'fam_inc_451', 'fam_inc_501', 'fam_inc_601', 'fam_inc_751',\n",
       "       'fam_inc_1001', 'fam_inc_1251', 'fam_inc_1501', 'fam_inc_2001',\n",
       "       'fam_inc_max_201'],\n",
       "      dtype='object')"
      ]
     },
     "execution_count": 27,
     "metadata": {},
     "output_type": "execute_result"
    }
   ],
   "source": [
    "df_inc_1.columns"
   ]
  },
  {
   "cell_type": "code",
   "execution_count": 28,
   "metadata": {
    "collapsed": false
   },
   "outputs": [],
   "source": [
    "# ideal division boundary for 2010: [28363, 45380, 56726, 68071, 85089]\n",
    "df_inc_1['inc_group1_1'] = df_inc_1['fam_inc_101'] + df_inc_1['fam_inc_151']\\\n",
    "                        + df_inc_1['fam_inc_201']  + df_inc_1['fam_inc_251']\\\n",
    "                        + df_inc_1['fam_inc_301']\n",
    "    \n",
    "df_inc_1['inc_group2_1'] =  df_inc_1['fam_inc_351'] + df_inc_1['fam_inc_401']\\\n",
    "                        + df_inc_1['fam_inc_451']\n",
    "    \n",
    "df_inc_1['inc_group3_1'] =  df_inc_1['fam_inc_501'] + df_inc_1['fam_inc_601']\n",
    "\n",
    "df_inc_1['inc_group4_1'] =  df_inc_1['fam_inc_751'] \n",
    "\n",
    "df_inc_1['inc_group5_1'] =  df_inc_1['fam_inc_1001']\n",
    "\n",
    "df_inc_1['inc_group6_1'] =  df_inc_1['fam_inc_1251'] + df_inc_1['fam_inc_1501']\\\n",
    "                            + df_inc_1['fam_inc_2001'] + df_inc_1['fam_inc_max_201']\n",
    "        "
   ]
  },
  {
   "cell_type": "code",
   "execution_count": 29,
   "metadata": {
    "collapsed": false
   },
   "outputs": [
    {
     "data": {
      "text/plain": [
       "inc_group1_1    511033\n",
       "inc_group2_1    258739\n",
       "inc_group3_1    208478\n",
       "inc_group4_1    171592\n",
       "inc_group5_1    216311\n",
       "inc_group6_1    473612\n",
       "dtype: int64"
      ]
     },
     "execution_count": 29,
     "metadata": {},
     "output_type": "execute_result"
    }
   ],
   "source": [
    "df_inc_div_1 = df_inc_1[['census_tract', 'inc_group1_1', 'inc_group2_1', \n",
    "          'inc_group3_1', 'inc_group4_1',\n",
    "         'inc_group5_1', 'inc_group6_1']]\n",
    "df_inc_div_1.sum()[1:]"
   ]
  },
  {
   "cell_type": "code",
   "execution_count": null,
   "metadata": {
    "collapsed": true
   },
   "outputs": [],
   "source": []
  },
  {
   "cell_type": "markdown",
   "metadata": {},
   "source": [
    "## 2) Calculation of census tracts' entropy index\n",
    "entropy index of different income-level groups for each census tract from 1990 to 2010\n",
    "entropy index fomular: https://github.com/picniclin/NYC_yl5240/blob/master/entropy_index_fomular.png"
   ]
  },
  {
   "cell_type": "code",
   "execution_count": 30,
   "metadata": {
    "collapsed": true
   },
   "outputs": [],
   "source": [
    "# define entropy index \n",
    "def entropy_index(x):\n",
    "    Q_sum = 0\n",
    "    for i in x:\n",
    "        if i == 0:\n",
    "            Q = 0\n",
    "        else:\n",
    "            Q = (-1) * (i/sum(x)) * np.log(i/sum(x))\n",
    "        Q_sum += Q\n",
    "    entropy_index = Q_sum/np.log(len(x))\n",
    "    return entropy_index"
   ]
  },
  {
   "cell_type": "code",
   "execution_count": 31,
   "metadata": {
    "collapsed": true
   },
   "outputs": [],
   "source": [
    "df_inc_div_9.is_copy = False\n",
    "df_inc_div_0.is_copy = False\n",
    "df_inc_div_1.is_copy = False"
   ]
  },
  {
   "cell_type": "code",
   "execution_count": 32,
   "metadata": {
    "collapsed": false
   },
   "outputs": [],
   "source": [
    "# calculate the entropy index \n",
    "for i in df_inc_div_9.index:\n",
    "    df_inc_div_9.loc[i,'entropy_index_9'] = \\\n",
    "            entropy_index(list(df_inc_div_9.loc[i,'inc_group1_9':'inc_group6_9']))\n",
    "\n",
    "for i in df_inc_div_0.index:\n",
    "    df_inc_div_0.loc[i,'entropy_index_0'] = \\\n",
    "            entropy_index(list(df_inc_div_0.loc[i,'inc_group1_0':'inc_group6_0']))\n",
    "        \n",
    "for i in df_inc_div_1.index:\n",
    "    df_inc_div_1.loc[i,'entropy_index_1'] = \\\n",
    "            entropy_index(list(df_inc_div_1.loc[i,'inc_group1_1':'inc_group6_1']))"
   ]
  },
  {
   "cell_type": "code",
   "execution_count": 33,
   "metadata": {
    "collapsed": false
   },
   "outputs": [
    {
     "data": {
      "text/html": [
       "<div>\n",
       "<table border=\"1\" class=\"dataframe\">\n",
       "  <thead>\n",
       "    <tr style=\"text-align: right;\">\n",
       "      <th></th>\n",
       "      <th>census_tract</th>\n",
       "      <th>inc_group1_9</th>\n",
       "      <th>inc_group2_9</th>\n",
       "      <th>inc_group3_9</th>\n",
       "      <th>inc_group4_9</th>\n",
       "      <th>inc_group5_9</th>\n",
       "      <th>inc_group6_9</th>\n",
       "      <th>entropy_index_9</th>\n",
       "    </tr>\n",
       "  </thead>\n",
       "  <tbody>\n",
       "    <tr>\n",
       "      <th>1</th>\n",
       "      <td>36005000200</td>\n",
       "      <td>133</td>\n",
       "      <td>177</td>\n",
       "      <td>32</td>\n",
       "      <td>31</td>\n",
       "      <td>84</td>\n",
       "      <td>257</td>\n",
       "      <td>0.867149</td>\n",
       "    </tr>\n",
       "    <tr>\n",
       "      <th>2</th>\n",
       "      <td>36005000400</td>\n",
       "      <td>89</td>\n",
       "      <td>101</td>\n",
       "      <td>50</td>\n",
       "      <td>50</td>\n",
       "      <td>89</td>\n",
       "      <td>221</td>\n",
       "      <td>0.919819</td>\n",
       "    </tr>\n",
       "    <tr>\n",
       "      <th>3</th>\n",
       "      <td>36005001600</td>\n",
       "      <td>353</td>\n",
       "      <td>381</td>\n",
       "      <td>165</td>\n",
       "      <td>39</td>\n",
       "      <td>161</td>\n",
       "      <td>195</td>\n",
       "      <td>0.908063</td>\n",
       "    </tr>\n",
       "    <tr>\n",
       "      <th>4</th>\n",
       "      <td>36005001900</td>\n",
       "      <td>175</td>\n",
       "      <td>42</td>\n",
       "      <td>0</td>\n",
       "      <td>0</td>\n",
       "      <td>67</td>\n",
       "      <td>36</td>\n",
       "      <td>0.652853</td>\n",
       "    </tr>\n",
       "    <tr>\n",
       "      <th>5</th>\n",
       "      <td>36005002000</td>\n",
       "      <td>1074</td>\n",
       "      <td>450</td>\n",
       "      <td>131</td>\n",
       "      <td>95</td>\n",
       "      <td>203</td>\n",
       "      <td>303</td>\n",
       "      <td>0.814774</td>\n",
       "    </tr>\n",
       "  </tbody>\n",
       "</table>\n",
       "</div>"
      ],
      "text/plain": [
       "   census_tract  inc_group1_9  inc_group2_9  inc_group3_9  inc_group4_9  \\\n",
       "1   36005000200           133           177            32            31   \n",
       "2   36005000400            89           101            50            50   \n",
       "3   36005001600           353           381           165            39   \n",
       "4   36005001900           175            42             0             0   \n",
       "5   36005002000          1074           450           131            95   \n",
       "\n",
       "   inc_group5_9  inc_group6_9  entropy_index_9  \n",
       "1            84           257         0.867149  \n",
       "2            89           221         0.919819  \n",
       "3           161           195         0.908063  \n",
       "4            67            36         0.652853  \n",
       "5           203           303         0.814774  "
      ]
     },
     "execution_count": 33,
     "metadata": {},
     "output_type": "execute_result"
    }
   ],
   "source": [
    "df_inc_div_9.head()"
   ]
  },
  {
   "cell_type": "code",
   "execution_count": 34,
   "metadata": {
    "collapsed": false
   },
   "outputs": [
    {
     "data": {
      "text/html": [
       "<div>\n",
       "<table border=\"1\" class=\"dataframe\">\n",
       "  <thead>\n",
       "    <tr style=\"text-align: right;\">\n",
       "      <th></th>\n",
       "      <th>census_tract</th>\n",
       "      <th>inc_group1_0</th>\n",
       "      <th>inc_group2_0</th>\n",
       "      <th>inc_group3_0</th>\n",
       "      <th>inc_group4_0</th>\n",
       "      <th>inc_group5_0</th>\n",
       "      <th>inc_group6_0</th>\n",
       "      <th>entropy_index_0</th>\n",
       "    </tr>\n",
       "  </thead>\n",
       "  <tbody>\n",
       "    <tr>\n",
       "      <th>1</th>\n",
       "      <td>36005000200</td>\n",
       "      <td>203</td>\n",
       "      <td>94</td>\n",
       "      <td>60</td>\n",
       "      <td>69</td>\n",
       "      <td>72</td>\n",
       "      <td>369</td>\n",
       "      <td>0.857971</td>\n",
       "    </tr>\n",
       "    <tr>\n",
       "      <th>2</th>\n",
       "      <td>36005000400</td>\n",
       "      <td>150</td>\n",
       "      <td>191</td>\n",
       "      <td>65</td>\n",
       "      <td>70</td>\n",
       "      <td>84</td>\n",
       "      <td>267</td>\n",
       "      <td>0.923299</td>\n",
       "    </tr>\n",
       "    <tr>\n",
       "      <th>3</th>\n",
       "      <td>36005001600</td>\n",
       "      <td>414</td>\n",
       "      <td>303</td>\n",
       "      <td>97</td>\n",
       "      <td>185</td>\n",
       "      <td>92</td>\n",
       "      <td>242</td>\n",
       "      <td>0.925875</td>\n",
       "    </tr>\n",
       "    <tr>\n",
       "      <th>4</th>\n",
       "      <td>36005001900</td>\n",
       "      <td>87</td>\n",
       "      <td>90</td>\n",
       "      <td>9</td>\n",
       "      <td>16</td>\n",
       "      <td>30</td>\n",
       "      <td>21</td>\n",
       "      <td>0.830158</td>\n",
       "    </tr>\n",
       "    <tr>\n",
       "      <th>5</th>\n",
       "      <td>36005002000</td>\n",
       "      <td>1168</td>\n",
       "      <td>523</td>\n",
       "      <td>133</td>\n",
       "      <td>83</td>\n",
       "      <td>201</td>\n",
       "      <td>217</td>\n",
       "      <td>0.779722</td>\n",
       "    </tr>\n",
       "  </tbody>\n",
       "</table>\n",
       "</div>"
      ],
      "text/plain": [
       "   census_tract  inc_group1_0  inc_group2_0  inc_group3_0  inc_group4_0  \\\n",
       "1   36005000200           203            94            60            69   \n",
       "2   36005000400           150           191            65            70   \n",
       "3   36005001600           414           303            97           185   \n",
       "4   36005001900            87            90             9            16   \n",
       "5   36005002000          1168           523           133            83   \n",
       "\n",
       "   inc_group5_0  inc_group6_0  entropy_index_0  \n",
       "1            72           369         0.857971  \n",
       "2            84           267         0.923299  \n",
       "3            92           242         0.925875  \n",
       "4            30            21         0.830158  \n",
       "5           201           217         0.779722  "
      ]
     },
     "execution_count": 34,
     "metadata": {},
     "output_type": "execute_result"
    }
   ],
   "source": [
    "df_inc_div_0.head()"
   ]
  },
  {
   "cell_type": "code",
   "execution_count": 35,
   "metadata": {
    "collapsed": false
   },
   "outputs": [
    {
     "data": {
      "text/html": [
       "<div>\n",
       "<table border=\"1\" class=\"dataframe\">\n",
       "  <thead>\n",
       "    <tr style=\"text-align: right;\">\n",
       "      <th></th>\n",
       "      <th>census_tract</th>\n",
       "      <th>inc_group1_1</th>\n",
       "      <th>inc_group2_1</th>\n",
       "      <th>inc_group3_1</th>\n",
       "      <th>inc_group4_1</th>\n",
       "      <th>inc_group5_1</th>\n",
       "      <th>inc_group6_1</th>\n",
       "      <th>entropy_index_1</th>\n",
       "    </tr>\n",
       "  </thead>\n",
       "  <tbody>\n",
       "    <tr>\n",
       "      <th>1</th>\n",
       "      <td>36005000200</td>\n",
       "      <td>210</td>\n",
       "      <td>240</td>\n",
       "      <td>101</td>\n",
       "      <td>49</td>\n",
       "      <td>136</td>\n",
       "      <td>319</td>\n",
       "      <td>0.921479</td>\n",
       "    </tr>\n",
       "    <tr>\n",
       "      <th>2</th>\n",
       "      <td>36005000400</td>\n",
       "      <td>169</td>\n",
       "      <td>157</td>\n",
       "      <td>227</td>\n",
       "      <td>79</td>\n",
       "      <td>206</td>\n",
       "      <td>386</td>\n",
       "      <td>0.943208</td>\n",
       "    </tr>\n",
       "    <tr>\n",
       "      <th>3</th>\n",
       "      <td>36005001600</td>\n",
       "      <td>598</td>\n",
       "      <td>301</td>\n",
       "      <td>143</td>\n",
       "      <td>167</td>\n",
       "      <td>129</td>\n",
       "      <td>69</td>\n",
       "      <td>0.862742</td>\n",
       "    </tr>\n",
       "    <tr>\n",
       "      <th>4</th>\n",
       "      <td>36005001900</td>\n",
       "      <td>233</td>\n",
       "      <td>61</td>\n",
       "      <td>22</td>\n",
       "      <td>16</td>\n",
       "      <td>12</td>\n",
       "      <td>30</td>\n",
       "      <td>0.672415</td>\n",
       "    </tr>\n",
       "    <tr>\n",
       "      <th>5</th>\n",
       "      <td>36005002000</td>\n",
       "      <td>966</td>\n",
       "      <td>427</td>\n",
       "      <td>257</td>\n",
       "      <td>63</td>\n",
       "      <td>103</td>\n",
       "      <td>218</td>\n",
       "      <td>0.804094</td>\n",
       "    </tr>\n",
       "  </tbody>\n",
       "</table>\n",
       "</div>"
      ],
      "text/plain": [
       "   census_tract  inc_group1_1  inc_group2_1  inc_group3_1  inc_group4_1  \\\n",
       "1   36005000200           210           240           101            49   \n",
       "2   36005000400           169           157           227            79   \n",
       "3   36005001600           598           301           143           167   \n",
       "4   36005001900           233            61            22            16   \n",
       "5   36005002000           966           427           257            63   \n",
       "\n",
       "   inc_group5_1  inc_group6_1  entropy_index_1  \n",
       "1           136           319         0.921479  \n",
       "2           206           386         0.943208  \n",
       "3           129            69         0.862742  \n",
       "4            12            30         0.672415  \n",
       "5           103           218         0.804094  "
      ]
     },
     "execution_count": 35,
     "metadata": {},
     "output_type": "execute_result"
    }
   ],
   "source": [
    "df_inc_div_1.head()"
   ]
  },
  {
   "cell_type": "code",
   "execution_count": 36,
   "metadata": {
    "collapsed": false
   },
   "outputs": [],
   "source": [
    "df_entropy = df_inc_div_9[['census_tract','entropy_index_9']].merge\\\n",
    "            (df_inc_div_0[['census_tract','entropy_index_0']],on = 'census_tract').merge\\\n",
    "            (df_inc_div_1[['census_tract','entropy_index_1']],on = 'census_tract')"
   ]
  },
  {
   "cell_type": "code",
   "execution_count": 37,
   "metadata": {
    "collapsed": false
   },
   "outputs": [
    {
     "data": {
      "text/html": [
       "<div>\n",
       "<table border=\"1\" class=\"dataframe\">\n",
       "  <thead>\n",
       "    <tr style=\"text-align: right;\">\n",
       "      <th></th>\n",
       "      <th>tract</th>\n",
       "      <th>entropy_index_9</th>\n",
       "      <th>entropy_index_0</th>\n",
       "      <th>entropy_index_1</th>\n",
       "    </tr>\n",
       "  </thead>\n",
       "  <tbody>\n",
       "    <tr>\n",
       "      <th>0</th>\n",
       "      <td>36005000200</td>\n",
       "      <td>0.867149</td>\n",
       "      <td>0.857971</td>\n",
       "      <td>0.921479</td>\n",
       "    </tr>\n",
       "    <tr>\n",
       "      <th>1</th>\n",
       "      <td>36005000400</td>\n",
       "      <td>0.919819</td>\n",
       "      <td>0.923299</td>\n",
       "      <td>0.943208</td>\n",
       "    </tr>\n",
       "    <tr>\n",
       "      <th>2</th>\n",
       "      <td>36005001600</td>\n",
       "      <td>0.908063</td>\n",
       "      <td>0.925875</td>\n",
       "      <td>0.862742</td>\n",
       "    </tr>\n",
       "    <tr>\n",
       "      <th>3</th>\n",
       "      <td>36005001900</td>\n",
       "      <td>0.652853</td>\n",
       "      <td>0.830158</td>\n",
       "      <td>0.672415</td>\n",
       "    </tr>\n",
       "    <tr>\n",
       "      <th>4</th>\n",
       "      <td>36005002000</td>\n",
       "      <td>0.814774</td>\n",
       "      <td>0.779722</td>\n",
       "      <td>0.804094</td>\n",
       "    </tr>\n",
       "  </tbody>\n",
       "</table>\n",
       "</div>"
      ],
      "text/plain": [
       "         tract  entropy_index_9  entropy_index_0  entropy_index_1\n",
       "0  36005000200         0.867149         0.857971         0.921479\n",
       "1  36005000400         0.919819         0.923299         0.943208\n",
       "2  36005001600         0.908063         0.925875         0.862742\n",
       "3  36005001900         0.652853         0.830158         0.672415\n",
       "4  36005002000         0.814774         0.779722         0.804094"
      ]
     },
     "execution_count": 37,
     "metadata": {},
     "output_type": "execute_result"
    }
   ],
   "source": [
    "df_entropy.rename(columns = {'census_tract':'tract'}, inplace = True)\n",
    "df_entropy.head()"
   ]
  },
  {
   "cell_type": "code",
   "execution_count": 38,
   "metadata": {
    "collapsed": false
   },
   "outputs": [
    {
     "data": {
      "text/plain": [
       "(2089, 4)"
      ]
     },
     "execution_count": 38,
     "metadata": {},
     "output_type": "execute_result"
    }
   ],
   "source": [
    "df_entropy.shape"
   ]
  },
  {
   "cell_type": "code",
   "execution_count": 39,
   "metadata": {
    "collapsed": false
   },
   "outputs": [
    {
     "data": {
      "text/plain": [
       "(2077, 4)"
      ]
     },
     "execution_count": 39,
     "metadata": {},
     "output_type": "execute_result"
    }
   ],
   "source": [
    "## Drop abnormal observations with 0 entropy index \n",
    "#df_entropy[((df_entropy.entropy_index_9 == 0)| (df_entropy.entropy_index_0 == 0)|\\\n",
    "                          #(df_entropy.entropy_index_1 == 0))]\n",
    "\n",
    "df_entropy = df_entropy[~((df_entropy.entropy_index_9 == 0)| (df_entropy.entropy_index_0 == 0)|\\\n",
    "                          (df_entropy.entropy_index_1 == 0))]\n",
    "\n",
    "df_entropy.shape"
   ]
  },
  {
   "cell_type": "markdown",
   "metadata": {},
   "source": [
    "## 3) Create the dataset for analysis on census tracts"
   ]
  },
  {
   "cell_type": "code",
   "execution_count": 40,
   "metadata": {
    "collapsed": true
   },
   "outputs": [],
   "source": [
    "df_census = df_entropy.merge(df_inc_rent, on = 'tract', how = 'left')"
   ]
  },
  {
   "cell_type": "code",
   "execution_count": 41,
   "metadata": {
    "collapsed": false
   },
   "outputs": [
    {
     "data": {
      "text/html": [
       "<div>\n",
       "<table border=\"1\" class=\"dataframe\">\n",
       "  <thead>\n",
       "    <tr style=\"text-align: right;\">\n",
       "      <th></th>\n",
       "      <th>tract</th>\n",
       "      <th>entropy_index_9</th>\n",
       "      <th>entropy_index_0</th>\n",
       "      <th>entropy_index_1</th>\n",
       "      <th>inc_9</th>\n",
       "      <th>rent_9</th>\n",
       "      <th>inc_0</th>\n",
       "      <th>rent_0</th>\n",
       "      <th>inc_1</th>\n",
       "      <th>rent_1</th>\n",
       "      <th>r_units_9</th>\n",
       "      <th>r_units_0</th>\n",
       "      <th>r_units_1</th>\n",
       "      <th>ratio_rent_inc_9</th>\n",
       "      <th>ratio_rent_inc_0</th>\n",
       "      <th>ratio_rent_inc_1</th>\n",
       "    </tr>\n",
       "  </thead>\n",
       "  <tbody>\n",
       "    <tr>\n",
       "      <th>0</th>\n",
       "      <td>36005000200</td>\n",
       "      <td>0.867149</td>\n",
       "      <td>0.857971</td>\n",
       "      <td>0.921479</td>\n",
       "      <td>38711</td>\n",
       "      <td>742</td>\n",
       "      <td>50817</td>\n",
       "      <td>730</td>\n",
       "      <td>58368</td>\n",
       "      <td>1273</td>\n",
       "      <td>384</td>\n",
       "      <td>421</td>\n",
       "      <td>635</td>\n",
       "      <td>0.230012</td>\n",
       "      <td>0.172383</td>\n",
       "      <td>0.261719</td>\n",
       "    </tr>\n",
       "    <tr>\n",
       "      <th>1</th>\n",
       "      <td>36005000400</td>\n",
       "      <td>0.919819</td>\n",
       "      <td>0.923299</td>\n",
       "      <td>0.943208</td>\n",
       "      <td>40484</td>\n",
       "      <td>535</td>\n",
       "      <td>41019</td>\n",
       "      <td>643</td>\n",
       "      <td>73148</td>\n",
       "      <td>1330</td>\n",
       "      <td>214</td>\n",
       "      <td>486</td>\n",
       "      <td>615</td>\n",
       "      <td>0.158581</td>\n",
       "      <td>0.188108</td>\n",
       "      <td>0.218188</td>\n",
       "    </tr>\n",
       "    <tr>\n",
       "      <th>2</th>\n",
       "      <td>36005001600</td>\n",
       "      <td>0.908063</td>\n",
       "      <td>0.925875</td>\n",
       "      <td>0.862742</td>\n",
       "      <td>24732</td>\n",
       "      <td>466</td>\n",
       "      <td>30104</td>\n",
       "      <td>558</td>\n",
       "      <td>33555</td>\n",
       "      <td>823</td>\n",
       "      <td>1462</td>\n",
       "      <td>1517</td>\n",
       "      <td>1617</td>\n",
       "      <td>0.226104</td>\n",
       "      <td>0.222429</td>\n",
       "      <td>0.294323</td>\n",
       "    </tr>\n",
       "    <tr>\n",
       "      <th>3</th>\n",
       "      <td>36005001900</td>\n",
       "      <td>0.652853</td>\n",
       "      <td>0.830158</td>\n",
       "      <td>0.672415</td>\n",
       "      <td>24823</td>\n",
       "      <td>422</td>\n",
       "      <td>23671</td>\n",
       "      <td>461</td>\n",
       "      <td>25489</td>\n",
       "      <td>870</td>\n",
       "      <td>357</td>\n",
       "      <td>336</td>\n",
       "      <td>505</td>\n",
       "      <td>0.204004</td>\n",
       "      <td>0.233704</td>\n",
       "      <td>0.409588</td>\n",
       "    </tr>\n",
       "    <tr>\n",
       "      <th>4</th>\n",
       "      <td>36005002000</td>\n",
       "      <td>0.814774</td>\n",
       "      <td>0.779722</td>\n",
       "      <td>0.804094</td>\n",
       "      <td>18762</td>\n",
       "      <td>298</td>\n",
       "      <td>19694</td>\n",
       "      <td>266</td>\n",
       "      <td>30817</td>\n",
       "      <td>455</td>\n",
       "      <td>2570</td>\n",
       "      <td>2601</td>\n",
       "      <td>2618</td>\n",
       "      <td>0.190598</td>\n",
       "      <td>0.162080</td>\n",
       "      <td>0.177175</td>\n",
       "    </tr>\n",
       "  </tbody>\n",
       "</table>\n",
       "</div>"
      ],
      "text/plain": [
       "         tract  entropy_index_9  entropy_index_0  entropy_index_1  inc_9  \\\n",
       "0  36005000200         0.867149         0.857971         0.921479  38711   \n",
       "1  36005000400         0.919819         0.923299         0.943208  40484   \n",
       "2  36005001600         0.908063         0.925875         0.862742  24732   \n",
       "3  36005001900         0.652853         0.830158         0.672415  24823   \n",
       "4  36005002000         0.814774         0.779722         0.804094  18762   \n",
       "\n",
       "   rent_9  inc_0  rent_0  inc_1  rent_1  r_units_9  r_units_0  r_units_1  \\\n",
       "0     742  50817     730  58368    1273        384        421        635   \n",
       "1     535  41019     643  73148    1330        214        486        615   \n",
       "2     466  30104     558  33555     823       1462       1517       1617   \n",
       "3     422  23671     461  25489     870        357        336        505   \n",
       "4     298  19694     266  30817     455       2570       2601       2618   \n",
       "\n",
       "   ratio_rent_inc_9  ratio_rent_inc_0  ratio_rent_inc_1  \n",
       "0          0.230012          0.172383          0.261719  \n",
       "1          0.158581          0.188108          0.218188  \n",
       "2          0.226104          0.222429          0.294323  \n",
       "3          0.204004          0.233704          0.409588  \n",
       "4          0.190598          0.162080          0.177175  "
      ]
     },
     "execution_count": 41,
     "metadata": {},
     "output_type": "execute_result"
    }
   ],
   "source": [
    "df_census.head()"
   ]
  },
  {
   "cell_type": "code",
   "execution_count": 42,
   "metadata": {
    "collapsed": false
   },
   "outputs": [
    {
     "data": {
      "text/plain": [
       "(2077, 16)"
      ]
     },
     "execution_count": 42,
     "metadata": {},
     "output_type": "execute_result"
    }
   ],
   "source": [
    "df_census.shape"
   ]
  },
  {
   "cell_type": "code",
   "execution_count": 43,
   "metadata": {
    "collapsed": false
   },
   "outputs": [
    {
     "data": {
      "text/plain": [
       "Index(['tract', 'entropy_index_9', 'entropy_index_0', 'entropy_index_1',\n",
       "       'inc_9', 'rent_9', 'inc_0', 'rent_0', 'inc_1', 'rent_1', 'r_units_9',\n",
       "       'r_units_0', 'r_units_1', 'ratio_rent_inc_9', 'ratio_rent_inc_0',\n",
       "       'ratio_rent_inc_1'],\n",
       "      dtype='object')"
      ]
     },
     "execution_count": 43,
     "metadata": {},
     "output_type": "execute_result"
    }
   ],
   "source": [
    "df_census.columns"
   ]
  },
  {
   "cell_type": "code",
   "execution_count": 44,
   "metadata": {
    "collapsed": false
   },
   "outputs": [
    {
     "data": {
      "text/html": [
       "<div>\n",
       "<table border=\"1\" class=\"dataframe\">\n",
       "  <thead>\n",
       "    <tr style=\"text-align: right;\">\n",
       "      <th></th>\n",
       "      <th>tract</th>\n",
       "      <th>entropy_index_9</th>\n",
       "      <th>entropy_index_0</th>\n",
       "      <th>entropy_index_1</th>\n",
       "      <th>inc_9</th>\n",
       "      <th>rent_9</th>\n",
       "      <th>inc_0</th>\n",
       "      <th>rent_0</th>\n",
       "      <th>inc_1</th>\n",
       "      <th>rent_1</th>\n",
       "      <th>r_units_9</th>\n",
       "      <th>r_units_0</th>\n",
       "      <th>r_units_1</th>\n",
       "      <th>ratio_rent_inc_9</th>\n",
       "      <th>ratio_rent_inc_0</th>\n",
       "      <th>ratio_rent_inc_1</th>\n",
       "    </tr>\n",
       "  </thead>\n",
       "  <tbody>\n",
       "    <tr>\n",
       "      <th>count</th>\n",
       "      <td>2.077000e+03</td>\n",
       "      <td>2077.000000</td>\n",
       "      <td>2077.000000</td>\n",
       "      <td>2077.000000</td>\n",
       "      <td>2077.000000</td>\n",
       "      <td>2077.000000</td>\n",
       "      <td>2077.000000</td>\n",
       "      <td>2077.000000</td>\n",
       "      <td>2077.000000</td>\n",
       "      <td>2077.000000</td>\n",
       "      <td>2077.000000</td>\n",
       "      <td>2077.000000</td>\n",
       "      <td>2077.000000</td>\n",
       "      <td>2077.000000</td>\n",
       "      <td>2077.000000</td>\n",
       "      <td>2077.000000</td>\n",
       "    </tr>\n",
       "    <tr>\n",
       "      <th>mean</th>\n",
       "      <td>3.605455e+10</td>\n",
       "      <td>0.813956</td>\n",
       "      <td>0.807262</td>\n",
       "      <td>0.838069</td>\n",
       "      <td>37733.340876</td>\n",
       "      <td>543.203659</td>\n",
       "      <td>48685.029851</td>\n",
       "      <td>751.435243</td>\n",
       "      <td>65962.064516</td>\n",
       "      <td>1148.824747</td>\n",
       "      <td>962.096774</td>\n",
       "      <td>1008.557535</td>\n",
       "      <td>1028.034184</td>\n",
       "      <td>0.198790</td>\n",
       "      <td>0.214137</td>\n",
       "      <td>0.249021</td>\n",
       "    </tr>\n",
       "    <tr>\n",
       "      <th>std</th>\n",
       "      <td>2.595959e+07</td>\n",
       "      <td>0.123108</td>\n",
       "      <td>0.131038</td>\n",
       "      <td>0.136805</td>\n",
       "      <td>18724.271851</td>\n",
       "      <td>148.592375</td>\n",
       "      <td>28336.768464</td>\n",
       "      <td>226.933084</td>\n",
       "      <td>39445.601512</td>\n",
       "      <td>327.845257</td>\n",
       "      <td>899.818493</td>\n",
       "      <td>870.506315</td>\n",
       "      <td>840.615093</td>\n",
       "      <td>0.075942</td>\n",
       "      <td>0.071700</td>\n",
       "      <td>0.100420</td>\n",
       "    </tr>\n",
       "    <tr>\n",
       "      <th>min</th>\n",
       "      <td>3.600500e+10</td>\n",
       "      <td>0.194083</td>\n",
       "      <td>0.183020</td>\n",
       "      <td>0.173982</td>\n",
       "      <td>4999.000000</td>\n",
       "      <td>171.000000</td>\n",
       "      <td>9893.000000</td>\n",
       "      <td>195.000000</td>\n",
       "      <td>8542.000000</td>\n",
       "      <td>231.000000</td>\n",
       "      <td>4.000000</td>\n",
       "      <td>9.000000</td>\n",
       "      <td>32.000000</td>\n",
       "      <td>0.067760</td>\n",
       "      <td>0.047473</td>\n",
       "      <td>0.042308</td>\n",
       "    </tr>\n",
       "    <tr>\n",
       "      <th>25%</th>\n",
       "      <td>3.604702e+10</td>\n",
       "      <td>0.755000</td>\n",
       "      <td>0.756307</td>\n",
       "      <td>0.786185</td>\n",
       "      <td>25089.000000</td>\n",
       "      <td>453.000000</td>\n",
       "      <td>30720.000000</td>\n",
       "      <td>644.000000</td>\n",
       "      <td>40031.000000</td>\n",
       "      <td>964.000000</td>\n",
       "      <td>357.000000</td>\n",
       "      <td>412.000000</td>\n",
       "      <td>431.000000</td>\n",
       "      <td>0.150818</td>\n",
       "      <td>0.164954</td>\n",
       "      <td>0.181927</td>\n",
       "    </tr>\n",
       "    <tr>\n",
       "      <th>50%</th>\n",
       "      <td>3.604712e+10</td>\n",
       "      <td>0.848471</td>\n",
       "      <td>0.846033</td>\n",
       "      <td>0.879284</td>\n",
       "      <td>36221.000000</td>\n",
       "      <td>531.000000</td>\n",
       "      <td>42483.000000</td>\n",
       "      <td>740.000000</td>\n",
       "      <td>56667.000000</td>\n",
       "      <td>1120.000000</td>\n",
       "      <td>718.000000</td>\n",
       "      <td>788.000000</td>\n",
       "      <td>822.000000</td>\n",
       "      <td>0.183669</td>\n",
       "      <td>0.204236</td>\n",
       "      <td>0.235487</td>\n",
       "    </tr>\n",
       "    <tr>\n",
       "      <th>75%</th>\n",
       "      <td>3.608103e+10</td>\n",
       "      <td>0.904543</td>\n",
       "      <td>0.896749</td>\n",
       "      <td>0.935426</td>\n",
       "      <td>46843.000000</td>\n",
       "      <td>628.000000</td>\n",
       "      <td>58833.000000</td>\n",
       "      <td>833.000000</td>\n",
       "      <td>80016.000000</td>\n",
       "      <td>1305.000000</td>\n",
       "      <td>1269.000000</td>\n",
       "      <td>1321.000000</td>\n",
       "      <td>1350.000000</td>\n",
       "      <td>0.226971</td>\n",
       "      <td>0.253867</td>\n",
       "      <td>0.300615</td>\n",
       "    </tr>\n",
       "    <tr>\n",
       "      <th>max</th>\n",
       "      <td>3.608503e+10</td>\n",
       "      <td>0.982500</td>\n",
       "      <td>0.980721</td>\n",
       "      <td>0.998777</td>\n",
       "      <td>150001.000000</td>\n",
       "      <td>1001.000000</td>\n",
       "      <td>200001.000000</td>\n",
       "      <td>2001.000000</td>\n",
       "      <td>250001.000000</td>\n",
       "      <td>2001.000000</td>\n",
       "      <td>8997.000000</td>\n",
       "      <td>8900.000000</td>\n",
       "      <td>8281.000000</td>\n",
       "      <td>0.885777</td>\n",
       "      <td>0.583245</td>\n",
       "      <td>1.298057</td>\n",
       "    </tr>\n",
       "  </tbody>\n",
       "</table>\n",
       "</div>"
      ],
      "text/plain": [
       "              tract  entropy_index_9  entropy_index_0  entropy_index_1  \\\n",
       "count  2.077000e+03      2077.000000      2077.000000      2077.000000   \n",
       "mean   3.605455e+10         0.813956         0.807262         0.838069   \n",
       "std    2.595959e+07         0.123108         0.131038         0.136805   \n",
       "min    3.600500e+10         0.194083         0.183020         0.173982   \n",
       "25%    3.604702e+10         0.755000         0.756307         0.786185   \n",
       "50%    3.604712e+10         0.848471         0.846033         0.879284   \n",
       "75%    3.608103e+10         0.904543         0.896749         0.935426   \n",
       "max    3.608503e+10         0.982500         0.980721         0.998777   \n",
       "\n",
       "               inc_9       rent_9          inc_0       rent_0          inc_1  \\\n",
       "count    2077.000000  2077.000000    2077.000000  2077.000000    2077.000000   \n",
       "mean    37733.340876   543.203659   48685.029851   751.435243   65962.064516   \n",
       "std     18724.271851   148.592375   28336.768464   226.933084   39445.601512   \n",
       "min      4999.000000   171.000000    9893.000000   195.000000    8542.000000   \n",
       "25%     25089.000000   453.000000   30720.000000   644.000000   40031.000000   \n",
       "50%     36221.000000   531.000000   42483.000000   740.000000   56667.000000   \n",
       "75%     46843.000000   628.000000   58833.000000   833.000000   80016.000000   \n",
       "max    150001.000000  1001.000000  200001.000000  2001.000000  250001.000000   \n",
       "\n",
       "            rent_1    r_units_9    r_units_0    r_units_1  ratio_rent_inc_9  \\\n",
       "count  2077.000000  2077.000000  2077.000000  2077.000000       2077.000000   \n",
       "mean   1148.824747   962.096774  1008.557535  1028.034184          0.198790   \n",
       "std     327.845257   899.818493   870.506315   840.615093          0.075942   \n",
       "min     231.000000     4.000000     9.000000    32.000000          0.067760   \n",
       "25%     964.000000   357.000000   412.000000   431.000000          0.150818   \n",
       "50%    1120.000000   718.000000   788.000000   822.000000          0.183669   \n",
       "75%    1305.000000  1269.000000  1321.000000  1350.000000          0.226971   \n",
       "max    2001.000000  8997.000000  8900.000000  8281.000000          0.885777   \n",
       "\n",
       "       ratio_rent_inc_0  ratio_rent_inc_1  \n",
       "count       2077.000000       2077.000000  \n",
       "mean           0.214137          0.249021  \n",
       "std            0.071700          0.100420  \n",
       "min            0.047473          0.042308  \n",
       "25%            0.164954          0.181927  \n",
       "50%            0.204236          0.235487  \n",
       "75%            0.253867          0.300615  \n",
       "max            0.583245          1.298057  "
      ]
     },
     "execution_count": 44,
     "metadata": {},
     "output_type": "execute_result"
    }
   ],
   "source": [
    "df_census.describe()"
   ]
  },
  {
   "cell_type": "code",
   "execution_count": 45,
   "metadata": {
    "collapsed": true
   },
   "outputs": [],
   "source": [
    "df_census.to_csv('civic_census.csv')"
   ]
  },
  {
   "cell_type": "markdown",
   "metadata": {},
   "source": [
    "# 2. Descriptive of change"
   ]
  },
  {
   "cell_type": "code",
   "execution_count": 46,
   "metadata": {
    "collapsed": true
   },
   "outputs": [],
   "source": [
    "df_change = pd.DataFrame()"
   ]
  },
  {
   "cell_type": "code",
   "execution_count": 47,
   "metadata": {
    "collapsed": false
   },
   "outputs": [],
   "source": [
    "df_change['entropy_9_1'] = df_census.entropy_index_1 / df_census.entropy_index_9 -1\n",
    "df_change['rent_9_1'] = df_census.rent_1 / df_census.rent_9 -1\n",
    "df_change['inc_9_1'] = df_census.inc_1 / df_census.inc_9 -1\n",
    "df_change['rent_units_9_1'] = df_census.r_units_1 / df_census.r_units_9 -1\n",
    "df_change['rent_burden_9_1'] = df_census.ratio_rent_inc_1 / df_census.ratio_rent_inc_9 -1"
   ]
  },
  {
   "cell_type": "code",
   "execution_count": 48,
   "metadata": {
    "collapsed": false
   },
   "outputs": [
    {
     "data": {
      "text/plain": [
       "entropy_9_1        0.036438\n",
       "rent_9_1           1.100318\n",
       "inc_9_1            0.665949\n",
       "rent_units_9_1     0.104418\n",
       "rent_burden_9_1    0.245663\n",
       "dtype: float64"
      ]
     },
     "execution_count": 48,
     "metadata": {},
     "output_type": "execute_result"
    }
   ],
   "source": [
    "df_change.median()"
   ]
  },
  {
   "cell_type": "code",
   "execution_count": 49,
   "metadata": {
    "collapsed": false
   },
   "outputs": [
    {
     "data": {
      "image/png": "[encoded data removed]",
      "text/plain": [
       "<matplotlib.figure.Figure at 0x10aa8b550>"
      ]
     },
     "metadata": {},
     "output_type": "display_data"
    }
   ],
   "source": [
    "num = range(df_change.shape[1])\n",
    "\n",
    "plt.figure(figsize = (12, 6))\n",
    "plt.boxplot([df_change.iloc[:,i] for i in num])\n",
    "plt.ylim(-1,5)\n",
    "plt.xticks([i+1 for i in num], \n",
    "           ('Income integration', 'Rent', 'Income', 'Rent units', 'Rent burden'),\n",
    "          fontsize = 12)\n",
    "plt.title('Change between 1990 to 2010', fontsize = 20)\n",
    "plt.yticks((-0.5,-0.1,0.1,0.5,1,2,4), ('-50%', '-10%', '10%', '50%', '100%', '200%', '400%'))\n",
    "plt.grid()\n",
    "plt.show()"
   ]
  },
  {
   "cell_type": "code",
   "execution_count": 50,
   "metadata": {
    "collapsed": true
   },
   "outputs": [],
   "source": [
    "df_change1 = pd.DataFrame()\n",
    "df_change1['entropy_9_0'] = df_census.entropy_index_0 / df_census.entropy_index_9 -1\n",
    "df_change1['rent_9_0'] = df_census.rent_0 / df_census.rent_9 -1\n",
    "df_change1['inc_9_0'] = df_census.inc_0 / df_census.inc_9 -1\n",
    "df_change1['rent_units_9_0'] = df_census.r_units_0 / df_census.r_units_9 -1\n",
    "df_change1['rent_burden_9_0'] = df_census.ratio_rent_inc_0 / df_census.ratio_rent_inc_9 -1"
   ]
  },
  {
   "cell_type": "code",
   "execution_count": 51,
   "metadata": {
    "collapsed": true
   },
   "outputs": [],
   "source": [
    "df_change2 = pd.DataFrame()\n",
    "df_change2['entropy_0_1'] = df_census.entropy_index_1 / df_census.entropy_index_0 -1\n",
    "df_change2['rent_0_1'] = df_census.rent_1 / df_census.rent_0 -1\n",
    "df_change2['inc_0_1'] = df_census.inc_1 / df_census.inc_0 -1\n",
    "df_change2['rent_units_0_1'] = df_census.r_units_1 / df_census.r_units_0 -1\n",
    "df_change2['rent_burden_0_1'] = df_census.ratio_rent_inc_1 / df_census.ratio_rent_inc_0 -1"
   ]
  },
  {
   "cell_type": "code",
   "execution_count": 52,
   "metadata": {
    "collapsed": false
   },
   "outputs": [
    {
     "data": {
      "text/plain": [
       "<matplotlib.legend.Legend at 0x1190f3898>"
      ]
     },
     "execution_count": 52,
     "metadata": {},
     "output_type": "execute_result"
    },
    {
     "data": {
      "image/png": "[encoded data removed]",
      "text/plain": [
       "<matplotlib.figure.Figure at 0x11904f438>"
      ]
     },
     "metadata": {},
     "output_type": "display_data"
    }
   ],
   "source": [
    "plt.figure(figsize = (12, 6))\n",
    "plt.bar([i-0.15 for i in num], [df_change1.iloc[:,i].median() for i in num], \n",
    "        width = 0.3, label = '1990-2000')\n",
    "plt.bar([i+0.15 for i in num], [df_change2.iloc[:,i].median() for i in num], \n",
    "        width = 0.3, label = '2000-2010')\n",
    "plt.xticks([i for i in num], \n",
    "           ('Income integration', 'Rent', 'Income', 'Rent units', 'Rent burden'),\n",
    "          fontsize = 12)\n",
    "plt.yticks((-0.05,0, 0.1,0.2,0.3, 0.4,0.5), ('-5%', '0', '10%', '20%', '30%','40%','50%'))\n",
    "plt.title('Change between 1990 to 2010', fontsize = 20)\n",
    "plt.legend()"
   ]
  },
  {
   "cell_type": "markdown",
   "metadata": {},
   "source": [
    "# 3. Analysis for rent growth"
   ]
  },
  {
   "cell_type": "code",
   "execution_count": 53,
   "metadata": {
    "collapsed": true
   },
   "outputs": [],
   "source": [
    "columns = ['inc', 'rent', 'entropy', 'units', \n",
    "           'inc_change', 'entropy_change','units_change', 'rent_change']"
   ]
  },
  {
   "cell_type": "code",
   "execution_count": 54,
   "metadata": {
    "collapsed": false
   },
   "outputs": [],
   "source": [
    "train = pd.concat([df_census.inc_9, df_census.rent_9, df_census.entropy_index_9, \n",
    "                   df_census.r_units_9,\n",
    "                  df_change1.inc_9_0, df_change1.entropy_9_0, df_change1.rent_units_9_0,\n",
    "                  df_change1.rent_9_0], axis = 1)\n",
    "train.columns = columns"
   ]
  },
  {
   "cell_type": "code",
   "execution_count": 55,
   "metadata": {
    "collapsed": true
   },
   "outputs": [],
   "source": [
    "test = pd.concat([df_census.inc_0, df_census.rent_0, df_census.entropy_index_0, \n",
    "                   df_census.r_units_0,\n",
    "                  df_change2.inc_0_1, df_change2.entropy_0_1, df_change2.rent_units_0_1,\n",
    "                  df_change2.rent_0_1], axis = 1)\n",
    "test.columns = columns"
   ]
  },
  {
   "cell_type": "code",
   "execution_count": 56,
   "metadata": {
    "collapsed": false,
    "scrolled": true
   },
   "outputs": [
    {
     "data": {
      "text/html": [
       "<div>\n",
       "<table border=\"1\" class=\"dataframe\">\n",
       "  <thead>\n",
       "    <tr style=\"text-align: right;\">\n",
       "      <th></th>\n",
       "      <th>inc</th>\n",
       "      <th>rent</th>\n",
       "      <th>entropy</th>\n",
       "      <th>units</th>\n",
       "      <th>inc_change</th>\n",
       "      <th>entropy_change</th>\n",
       "      <th>units_change</th>\n",
       "      <th>rent_change</th>\n",
       "    </tr>\n",
       "  </thead>\n",
       "  <tbody>\n",
       "    <tr>\n",
       "      <th>count</th>\n",
       "      <td>2077.000000</td>\n",
       "      <td>2077.000000</td>\n",
       "      <td>2077.000000</td>\n",
       "      <td>2077.000000</td>\n",
       "      <td>2077.000000</td>\n",
       "      <td>2077.000000</td>\n",
       "      <td>2077.000000</td>\n",
       "      <td>2077.000000</td>\n",
       "    </tr>\n",
       "    <tr>\n",
       "      <th>mean</th>\n",
       "      <td>37733.340876</td>\n",
       "      <td>543.203659</td>\n",
       "      <td>0.813956</td>\n",
       "      <td>962.096774</td>\n",
       "      <td>0.307354</td>\n",
       "      <td>-0.001731</td>\n",
       "      <td>0.152253</td>\n",
       "      <td>0.394267</td>\n",
       "    </tr>\n",
       "    <tr>\n",
       "      <th>std</th>\n",
       "      <td>18724.271851</td>\n",
       "      <td>148.592375</td>\n",
       "      <td>0.123108</td>\n",
       "      <td>899.818493</td>\n",
       "      <td>0.381466</td>\n",
       "      <td>0.148583</td>\n",
       "      <td>0.418321</td>\n",
       "      <td>0.240902</td>\n",
       "    </tr>\n",
       "    <tr>\n",
       "      <th>min</th>\n",
       "      <td>4999.000000</td>\n",
       "      <td>171.000000</td>\n",
       "      <td>0.194083</td>\n",
       "      <td>4.000000</td>\n",
       "      <td>-0.342272</td>\n",
       "      <td>-0.629720</td>\n",
       "      <td>-0.701754</td>\n",
       "      <td>-0.375714</td>\n",
       "    </tr>\n",
       "    <tr>\n",
       "      <th>25%</th>\n",
       "      <td>25089.000000</td>\n",
       "      <td>453.000000</td>\n",
       "      <td>0.755000</td>\n",
       "      <td>357.000000</td>\n",
       "      <td>0.100910</td>\n",
       "      <td>-0.065349</td>\n",
       "      <td>-0.011488</td>\n",
       "      <td>0.272727</td>\n",
       "    </tr>\n",
       "    <tr>\n",
       "      <th>50%</th>\n",
       "      <td>36221.000000</td>\n",
       "      <td>531.000000</td>\n",
       "      <td>0.848471</td>\n",
       "      <td>718.000000</td>\n",
       "      <td>0.248516</td>\n",
       "      <td>-0.009195</td>\n",
       "      <td>0.072967</td>\n",
       "      <td>0.378582</td>\n",
       "    </tr>\n",
       "    <tr>\n",
       "      <th>75%</th>\n",
       "      <td>46843.000000</td>\n",
       "      <td>628.000000</td>\n",
       "      <td>0.904543</td>\n",
       "      <td>1269.000000</td>\n",
       "      <td>0.421762</td>\n",
       "      <td>0.049325</td>\n",
       "      <td>0.208973</td>\n",
       "      <td>0.485149</td>\n",
       "    </tr>\n",
       "    <tr>\n",
       "      <th>max</th>\n",
       "      <td>150001.000000</td>\n",
       "      <td>1001.000000</td>\n",
       "      <td>0.982500</td>\n",
       "      <td>8997.000000</td>\n",
       "      <td>7.984771</td>\n",
       "      <td>2.314745</td>\n",
       "      <td>8.060976</td>\n",
       "      <td>3.547727</td>\n",
       "    </tr>\n",
       "  </tbody>\n",
       "</table>\n",
       "</div>"
      ],
      "text/plain": [
       "                 inc         rent      entropy        units   inc_change  \\\n",
       "count    2077.000000  2077.000000  2077.000000  2077.000000  2077.000000   \n",
       "mean    37733.340876   543.203659     0.813956   962.096774     0.307354   \n",
       "std     18724.271851   148.592375     0.123108   899.818493     0.381466   \n",
       "min      4999.000000   171.000000     0.194083     4.000000    -0.342272   \n",
       "25%     25089.000000   453.000000     0.755000   357.000000     0.100910   \n",
       "50%     36221.000000   531.000000     0.848471   718.000000     0.248516   \n",
       "75%     46843.000000   628.000000     0.904543  1269.000000     0.421762   \n",
       "max    150001.000000  1001.000000     0.982500  8997.000000     7.984771   \n",
       "\n",
       "       entropy_change  units_change  rent_change  \n",
       "count     2077.000000   2077.000000  2077.000000  \n",
       "mean        -0.001731      0.152253     0.394267  \n",
       "std          0.148583      0.418321     0.240902  \n",
       "min         -0.629720     -0.701754    -0.375714  \n",
       "25%         -0.065349     -0.011488     0.272727  \n",
       "50%         -0.009195      0.072967     0.378582  \n",
       "75%          0.049325      0.208973     0.485149  \n",
       "max          2.314745      8.060976     3.547727  "
      ]
     },
     "execution_count": 56,
     "metadata": {},
     "output_type": "execute_result"
    }
   ],
   "source": [
    "train.describe()"
   ]
  },
  {
   "cell_type": "code",
   "execution_count": 57,
   "metadata": {
    "collapsed": false
   },
   "outputs": [
    {
     "data": {
      "text/html": [
       "<div>\n",
       "<table border=\"1\" class=\"dataframe\">\n",
       "  <thead>\n",
       "    <tr style=\"text-align: right;\">\n",
       "      <th></th>\n",
       "      <th>inc</th>\n",
       "      <th>rent</th>\n",
       "      <th>entropy</th>\n",
       "      <th>units</th>\n",
       "      <th>inc_change</th>\n",
       "      <th>entropy_change</th>\n",
       "      <th>units_change</th>\n",
       "      <th>rent_change</th>\n",
       "    </tr>\n",
       "  </thead>\n",
       "  <tbody>\n",
       "    <tr>\n",
       "      <th>count</th>\n",
       "      <td>2077.000000</td>\n",
       "      <td>2077.000000</td>\n",
       "      <td>2077.000000</td>\n",
       "      <td>2077.000000</td>\n",
       "      <td>2077.000000</td>\n",
       "      <td>2077.000000</td>\n",
       "      <td>2077.000000</td>\n",
       "      <td>2077.000000</td>\n",
       "    </tr>\n",
       "    <tr>\n",
       "      <th>mean</th>\n",
       "      <td>48685.029851</td>\n",
       "      <td>751.435243</td>\n",
       "      <td>0.807262</td>\n",
       "      <td>1008.557535</td>\n",
       "      <td>0.385157</td>\n",
       "      <td>0.049128</td>\n",
       "      <td>0.124023</td>\n",
       "      <td>0.550668</td>\n",
       "    </tr>\n",
       "    <tr>\n",
       "      <th>std</th>\n",
       "      <td>28336.768464</td>\n",
       "      <td>226.933084</td>\n",
       "      <td>0.131038</td>\n",
       "      <td>870.506315</td>\n",
       "      <td>0.360590</td>\n",
       "      <td>0.154067</td>\n",
       "      <td>2.159801</td>\n",
       "      <td>0.263856</td>\n",
       "    </tr>\n",
       "    <tr>\n",
       "      <th>min</th>\n",
       "      <td>9893.000000</td>\n",
       "      <td>195.000000</td>\n",
       "      <td>0.183020</td>\n",
       "      <td>9.000000</td>\n",
       "      <td>-0.789146</td>\n",
       "      <td>-0.731448</td>\n",
       "      <td>-0.855769</td>\n",
       "      <td>-0.673401</td>\n",
       "    </tr>\n",
       "    <tr>\n",
       "      <th>25%</th>\n",
       "      <td>30720.000000</td>\n",
       "      <td>644.000000</td>\n",
       "      <td>0.756307</td>\n",
       "      <td>412.000000</td>\n",
       "      <td>0.156717</td>\n",
       "      <td>-0.026818</td>\n",
       "      <td>-0.068332</td>\n",
       "      <td>0.412884</td>\n",
       "    </tr>\n",
       "    <tr>\n",
       "      <th>50%</th>\n",
       "      <td>42483.000000</td>\n",
       "      <td>740.000000</td>\n",
       "      <td>0.846033</td>\n",
       "      <td>788.000000</td>\n",
       "      <td>0.336591</td>\n",
       "      <td>0.039649</td>\n",
       "      <td>0.011448</td>\n",
       "      <td>0.526224</td>\n",
       "    </tr>\n",
       "    <tr>\n",
       "      <th>75%</th>\n",
       "      <td>58833.000000</td>\n",
       "      <td>833.000000</td>\n",
       "      <td>0.896749</td>\n",
       "      <td>1321.000000</td>\n",
       "      <td>0.545560</td>\n",
       "      <td>0.108568</td>\n",
       "      <td>0.125589</td>\n",
       "      <td>0.655589</td>\n",
       "    </tr>\n",
       "    <tr>\n",
       "      <th>max</th>\n",
       "      <td>200001.000000</td>\n",
       "      <td>2001.000000</td>\n",
       "      <td>0.980721</td>\n",
       "      <td>8900.000000</td>\n",
       "      <td>3.219719</td>\n",
       "      <td>1.477321</td>\n",
       "      <td>96.619048</td>\n",
       "      <td>3.600000</td>\n",
       "    </tr>\n",
       "  </tbody>\n",
       "</table>\n",
       "</div>"
      ],
      "text/plain": [
       "                 inc         rent      entropy        units   inc_change  \\\n",
       "count    2077.000000  2077.000000  2077.000000  2077.000000  2077.000000   \n",
       "mean    48685.029851   751.435243     0.807262  1008.557535     0.385157   \n",
       "std     28336.768464   226.933084     0.131038   870.506315     0.360590   \n",
       "min      9893.000000   195.000000     0.183020     9.000000    -0.789146   \n",
       "25%     30720.000000   644.000000     0.756307   412.000000     0.156717   \n",
       "50%     42483.000000   740.000000     0.846033   788.000000     0.336591   \n",
       "75%     58833.000000   833.000000     0.896749  1321.000000     0.545560   \n",
       "max    200001.000000  2001.000000     0.980721  8900.000000     3.219719   \n",
       "\n",
       "       entropy_change  units_change  rent_change  \n",
       "count     2077.000000   2077.000000  2077.000000  \n",
       "mean         0.049128      0.124023     0.550668  \n",
       "std          0.154067      2.159801     0.263856  \n",
       "min         -0.731448     -0.855769    -0.673401  \n",
       "25%         -0.026818     -0.068332     0.412884  \n",
       "50%          0.039649      0.011448     0.526224  \n",
       "75%          0.108568      0.125589     0.655589  \n",
       "max          1.477321     96.619048     3.600000  "
      ]
     },
     "execution_count": 57,
     "metadata": {},
     "output_type": "execute_result"
    }
   ],
   "source": [
    "test.describe()"
   ]
  },
  {
   "cell_type": "code",
   "execution_count": 58,
   "metadata": {
    "collapsed": false
   },
   "outputs": [],
   "source": [
    "# per ten thousand dollars income\n",
    "train.inc = train.inc/10000\n",
    "test.inc = test.inc/10000\n",
    "\n",
    "# per one thousand dollar rent\n",
    "train.rent = train.rent/1000\n",
    "test.rent = test.rent/1000\n",
    "\n",
    "# per one thousand renter-occupied units\n",
    "train.units = train.units/1000\n",
    "test.units = test.units/1000"
   ]
  },
  {
   "cell_type": "code",
   "execution_count": 59,
   "metadata": {
    "collapsed": false
   },
   "outputs": [
    {
     "data": {
      "text/plain": [
       "((2077, 8), (2077, 8))"
      ]
     },
     "execution_count": 59,
     "metadata": {},
     "output_type": "execute_result"
    }
   ],
   "source": [
    "train.shape, test.shape"
   ]
  },
  {
   "cell_type": "code",
   "execution_count": 60,
   "metadata": {
    "collapsed": false
   },
   "outputs": [
    {
     "data": {
      "text/html": [
       "<div>\n",
       "<table border=\"1\" class=\"dataframe\">\n",
       "  <thead>\n",
       "    <tr style=\"text-align: right;\">\n",
       "      <th></th>\n",
       "      <th>inc</th>\n",
       "      <th>rent</th>\n",
       "      <th>entropy</th>\n",
       "      <th>units</th>\n",
       "      <th>inc_change</th>\n",
       "      <th>entropy_change</th>\n",
       "      <th>units_change</th>\n",
       "      <th>rent_change</th>\n",
       "    </tr>\n",
       "  </thead>\n",
       "  <tbody>\n",
       "    <tr>\n",
       "      <th>count</th>\n",
       "      <td>2077.000000</td>\n",
       "      <td>2077.000000</td>\n",
       "      <td>2077.000000</td>\n",
       "      <td>2077.000000</td>\n",
       "      <td>2077.000000</td>\n",
       "      <td>2077.000000</td>\n",
       "      <td>2077.000000</td>\n",
       "      <td>2077.000000</td>\n",
       "    </tr>\n",
       "    <tr>\n",
       "      <th>mean</th>\n",
       "      <td>3.773334</td>\n",
       "      <td>0.543204</td>\n",
       "      <td>0.813956</td>\n",
       "      <td>0.962097</td>\n",
       "      <td>0.307354</td>\n",
       "      <td>-0.001731</td>\n",
       "      <td>0.152253</td>\n",
       "      <td>0.394267</td>\n",
       "    </tr>\n",
       "    <tr>\n",
       "      <th>std</th>\n",
       "      <td>1.872427</td>\n",
       "      <td>0.148592</td>\n",
       "      <td>0.123108</td>\n",
       "      <td>0.899818</td>\n",
       "      <td>0.381466</td>\n",
       "      <td>0.148583</td>\n",
       "      <td>0.418321</td>\n",
       "      <td>0.240902</td>\n",
       "    </tr>\n",
       "    <tr>\n",
       "      <th>min</th>\n",
       "      <td>0.499900</td>\n",
       "      <td>0.171000</td>\n",
       "      <td>0.194083</td>\n",
       "      <td>0.004000</td>\n",
       "      <td>-0.342272</td>\n",
       "      <td>-0.629720</td>\n",
       "      <td>-0.701754</td>\n",
       "      <td>-0.375714</td>\n",
       "    </tr>\n",
       "    <tr>\n",
       "      <th>25%</th>\n",
       "      <td>2.508900</td>\n",
       "      <td>0.453000</td>\n",
       "      <td>0.755000</td>\n",
       "      <td>0.357000</td>\n",
       "      <td>0.100910</td>\n",
       "      <td>-0.065349</td>\n",
       "      <td>-0.011488</td>\n",
       "      <td>0.272727</td>\n",
       "    </tr>\n",
       "    <tr>\n",
       "      <th>50%</th>\n",
       "      <td>3.622100</td>\n",
       "      <td>0.531000</td>\n",
       "      <td>0.848471</td>\n",
       "      <td>0.718000</td>\n",
       "      <td>0.248516</td>\n",
       "      <td>-0.009195</td>\n",
       "      <td>0.072967</td>\n",
       "      <td>0.378582</td>\n",
       "    </tr>\n",
       "    <tr>\n",
       "      <th>75%</th>\n",
       "      <td>4.684300</td>\n",
       "      <td>0.628000</td>\n",
       "      <td>0.904543</td>\n",
       "      <td>1.269000</td>\n",
       "      <td>0.421762</td>\n",
       "      <td>0.049325</td>\n",
       "      <td>0.208973</td>\n",
       "      <td>0.485149</td>\n",
       "    </tr>\n",
       "    <tr>\n",
       "      <th>max</th>\n",
       "      <td>15.000100</td>\n",
       "      <td>1.001000</td>\n",
       "      <td>0.982500</td>\n",
       "      <td>8.997000</td>\n",
       "      <td>7.984771</td>\n",
       "      <td>2.314745</td>\n",
       "      <td>8.060976</td>\n",
       "      <td>3.547727</td>\n",
       "    </tr>\n",
       "  </tbody>\n",
       "</table>\n",
       "</div>"
      ],
      "text/plain": [
       "               inc         rent      entropy        units   inc_change  \\\n",
       "count  2077.000000  2077.000000  2077.000000  2077.000000  2077.000000   \n",
       "mean      3.773334     0.543204     0.813956     0.962097     0.307354   \n",
       "std       1.872427     0.148592     0.123108     0.899818     0.381466   \n",
       "min       0.499900     0.171000     0.194083     0.004000    -0.342272   \n",
       "25%       2.508900     0.453000     0.755000     0.357000     0.100910   \n",
       "50%       3.622100     0.531000     0.848471     0.718000     0.248516   \n",
       "75%       4.684300     0.628000     0.904543     1.269000     0.421762   \n",
       "max      15.000100     1.001000     0.982500     8.997000     7.984771   \n",
       "\n",
       "       entropy_change  units_change  rent_change  \n",
       "count     2077.000000   2077.000000  2077.000000  \n",
       "mean        -0.001731      0.152253     0.394267  \n",
       "std          0.148583      0.418321     0.240902  \n",
       "min         -0.629720     -0.701754    -0.375714  \n",
       "25%         -0.065349     -0.011488     0.272727  \n",
       "50%         -0.009195      0.072967     0.378582  \n",
       "75%          0.049325      0.208973     0.485149  \n",
       "max          2.314745      8.060976     3.547727  "
      ]
     },
     "execution_count": 60,
     "metadata": {},
     "output_type": "execute_result"
    }
   ],
   "source": [
    "train.describe()"
   ]
  },
  {
   "cell_type": "code",
   "execution_count": 61,
   "metadata": {
    "collapsed": false
   },
   "outputs": [
    {
     "data": {
      "text/html": [
       "<div>\n",
       "<table border=\"1\" class=\"dataframe\">\n",
       "  <thead>\n",
       "    <tr style=\"text-align: right;\">\n",
       "      <th></th>\n",
       "      <th>inc</th>\n",
       "      <th>rent</th>\n",
       "      <th>entropy</th>\n",
       "      <th>units</th>\n",
       "      <th>inc_change</th>\n",
       "      <th>entropy_change</th>\n",
       "      <th>units_change</th>\n",
       "      <th>rent_change</th>\n",
       "    </tr>\n",
       "  </thead>\n",
       "  <tbody>\n",
       "    <tr>\n",
       "      <th>count</th>\n",
       "      <td>2077.000000</td>\n",
       "      <td>2077.000000</td>\n",
       "      <td>2077.000000</td>\n",
       "      <td>2077.000000</td>\n",
       "      <td>2077.000000</td>\n",
       "      <td>2077.000000</td>\n",
       "      <td>2077.000000</td>\n",
       "      <td>2077.000000</td>\n",
       "    </tr>\n",
       "    <tr>\n",
       "      <th>mean</th>\n",
       "      <td>4.868503</td>\n",
       "      <td>0.751435</td>\n",
       "      <td>0.807262</td>\n",
       "      <td>1.008558</td>\n",
       "      <td>0.385157</td>\n",
       "      <td>0.049128</td>\n",
       "      <td>0.124023</td>\n",
       "      <td>0.550668</td>\n",
       "    </tr>\n",
       "    <tr>\n",
       "      <th>std</th>\n",
       "      <td>2.833677</td>\n",
       "      <td>0.226933</td>\n",
       "      <td>0.131038</td>\n",
       "      <td>0.870506</td>\n",
       "      <td>0.360590</td>\n",
       "      <td>0.154067</td>\n",
       "      <td>2.159801</td>\n",
       "      <td>0.263856</td>\n",
       "    </tr>\n",
       "    <tr>\n",
       "      <th>min</th>\n",
       "      <td>0.989300</td>\n",
       "      <td>0.195000</td>\n",
       "      <td>0.183020</td>\n",
       "      <td>0.009000</td>\n",
       "      <td>-0.789146</td>\n",
       "      <td>-0.731448</td>\n",
       "      <td>-0.855769</td>\n",
       "      <td>-0.673401</td>\n",
       "    </tr>\n",
       "    <tr>\n",
       "      <th>25%</th>\n",
       "      <td>3.072000</td>\n",
       "      <td>0.644000</td>\n",
       "      <td>0.756307</td>\n",
       "      <td>0.412000</td>\n",
       "      <td>0.156717</td>\n",
       "      <td>-0.026818</td>\n",
       "      <td>-0.068332</td>\n",
       "      <td>0.412884</td>\n",
       "    </tr>\n",
       "    <tr>\n",
       "      <th>50%</th>\n",
       "      <td>4.248300</td>\n",
       "      <td>0.740000</td>\n",
       "      <td>0.846033</td>\n",
       "      <td>0.788000</td>\n",
       "      <td>0.336591</td>\n",
       "      <td>0.039649</td>\n",
       "      <td>0.011448</td>\n",
       "      <td>0.526224</td>\n",
       "    </tr>\n",
       "    <tr>\n",
       "      <th>75%</th>\n",
       "      <td>5.883300</td>\n",
       "      <td>0.833000</td>\n",
       "      <td>0.896749</td>\n",
       "      <td>1.321000</td>\n",
       "      <td>0.545560</td>\n",
       "      <td>0.108568</td>\n",
       "      <td>0.125589</td>\n",
       "      <td>0.655589</td>\n",
       "    </tr>\n",
       "    <tr>\n",
       "      <th>max</th>\n",
       "      <td>20.000100</td>\n",
       "      <td>2.001000</td>\n",
       "      <td>0.980721</td>\n",
       "      <td>8.900000</td>\n",
       "      <td>3.219719</td>\n",
       "      <td>1.477321</td>\n",
       "      <td>96.619048</td>\n",
       "      <td>3.600000</td>\n",
       "    </tr>\n",
       "  </tbody>\n",
       "</table>\n",
       "</div>"
      ],
      "text/plain": [
       "               inc         rent      entropy        units   inc_change  \\\n",
       "count  2077.000000  2077.000000  2077.000000  2077.000000  2077.000000   \n",
       "mean      4.868503     0.751435     0.807262     1.008558     0.385157   \n",
       "std       2.833677     0.226933     0.131038     0.870506     0.360590   \n",
       "min       0.989300     0.195000     0.183020     0.009000    -0.789146   \n",
       "25%       3.072000     0.644000     0.756307     0.412000     0.156717   \n",
       "50%       4.248300     0.740000     0.846033     0.788000     0.336591   \n",
       "75%       5.883300     0.833000     0.896749     1.321000     0.545560   \n",
       "max      20.000100     2.001000     0.980721     8.900000     3.219719   \n",
       "\n",
       "       entropy_change  units_change  rent_change  \n",
       "count     2077.000000   2077.000000  2077.000000  \n",
       "mean         0.049128      0.124023     0.550668  \n",
       "std          0.154067      2.159801     0.263856  \n",
       "min         -0.731448     -0.855769    -0.673401  \n",
       "25%         -0.026818     -0.068332     0.412884  \n",
       "50%          0.039649      0.011448     0.526224  \n",
       "75%          0.108568      0.125589     0.655589  \n",
       "max          1.477321     96.619048     3.600000  "
      ]
     },
     "execution_count": 61,
     "metadata": {},
     "output_type": "execute_result"
    }
   ],
   "source": [
    "test.describe()"
   ]
  },
  {
   "cell_type": "code",
   "execution_count": 62,
   "metadata": {
    "collapsed": true
   },
   "outputs": [],
   "source": [
    "## drop outliers of change\n",
    "def outlier(x):\n",
    "    outlier = np.mean(x) + 2 * np.std(x)\n",
    "    return outlier\n",
    "a = np.ones(train.shape[0])\n",
    "for i in range(train.shape[1]):\n",
    "    a0 = train.iloc[:,i] < outlier(train.iloc[:,i])\n",
    "    a = a0 * a\n",
    "    \n",
    "b = np.ones(test.shape[0])\n",
    "for i in range(test.shape[1]):\n",
    "    b0 = test.iloc[:,i] < outlier(test.iloc[:,i])\n",
    "    b = b0 * b\n",
    "    \n",
    "#train_new = train[[bool(i) for i in a]]\n",
    "#test_new = test[[bool(i) for i in b]]\n",
    "#train_new.shape, test_new.shape"
   ]
  },
  {
   "cell_type": "code",
   "execution_count": 63,
   "metadata": {
    "collapsed": false
   },
   "outputs": [],
   "source": [
    "model = smf.ols('rent_change ~ inc  + rent + entropy + units +\\\n",
    "                inc_change + entropy_change + units_change',train).fit()"
   ]
  },
  {
   "cell_type": "code",
   "execution_count": 64,
   "metadata": {
    "collapsed": false
   },
   "outputs": [
    {
     "data": {
      "text/html": [
       "<table class=\"simpletable\">\n",
       "<caption>OLS Regression Results</caption>\n",
       "<tr>\n",
       "  <th>Dep. Variable:</th>       <td>rent_change</td>   <th>  R-squared:         </th> <td>   0.284</td> \n",
       "</tr>\n",
       "<tr>\n",
       "  <th>Model:</th>                   <td>OLS</td>       <th>  Adj. R-squared:    </th> <td>   0.282</td> \n",
       "</tr>\n",
       "<tr>\n",
       "  <th>Method:</th>             <td>Least Squares</td>  <th>  F-statistic:       </th> <td>   117.4</td> \n",
       "</tr>\n",
       "<tr>\n",
       "  <th>Date:</th>             <td>Wed, 29 Nov 2017</td> <th>  Prob (F-statistic):</th> <td>2.31e-145</td>\n",
       "</tr>\n",
       "<tr>\n",
       "  <th>Time:</th>                 <td>08:02:13</td>     <th>  Log-Likelihood:    </th> <td>  357.09</td> \n",
       "</tr>\n",
       "<tr>\n",
       "  <th>No. Observations:</th>      <td>  2077</td>      <th>  AIC:               </th> <td>  -698.2</td> \n",
       "</tr>\n",
       "<tr>\n",
       "  <th>Df Residuals:</th>          <td>  2069</td>      <th>  BIC:               </th> <td>  -653.1</td> \n",
       "</tr>\n",
       "<tr>\n",
       "  <th>Df Model:</th>              <td>     7</td>      <th>                     </th>     <td> </td>    \n",
       "</tr>\n",
       "<tr>\n",
       "  <th>Covariance Type:</th>      <td>nonrobust</td>    <th>                     </th>     <td> </td>    \n",
       "</tr>\n",
       "</table>\n",
       "<table class=\"simpletable\">\n",
       "<tr>\n",
       "         <td></td>           <th>coef</th>     <th>std err</th>      <th>t</th>      <th>P>|t|</th> <th>[95.0% Conf. Int.]</th> \n",
       "</tr>\n",
       "<tr>\n",
       "  <th>Intercept</th>      <td>    0.3092</td> <td>    0.051</td> <td>    6.123</td> <td> 0.000</td> <td>    0.210     0.408</td>\n",
       "</tr>\n",
       "<tr>\n",
       "  <th>inc</th>            <td>    0.0768</td> <td>    0.004</td> <td>   17.262</td> <td> 0.000</td> <td>    0.068     0.086</td>\n",
       "</tr>\n",
       "<tr>\n",
       "  <th>rent</th>           <td>   -0.9375</td> <td>    0.048</td> <td>  -19.343</td> <td> 0.000</td> <td>   -1.033    -0.842</td>\n",
       "</tr>\n",
       "<tr>\n",
       "  <th>entropy</th>        <td>    0.2346</td> <td>    0.050</td> <td>    4.649</td> <td> 0.000</td> <td>    0.136     0.334</td>\n",
       "</tr>\n",
       "<tr>\n",
       "  <th>units</th>          <td>    0.0294</td> <td>    0.005</td> <td>    5.484</td> <td> 0.000</td> <td>    0.019     0.040</td>\n",
       "</tr>\n",
       "<tr>\n",
       "  <th>inc_change</th>     <td>    0.2424</td> <td>    0.013</td> <td>   18.545</td> <td> 0.000</td> <td>    0.217     0.268</td>\n",
       "</tr>\n",
       "<tr>\n",
       "  <th>entropy_change</th> <td>   -0.0202</td> <td>    0.038</td> <td>   -0.539</td> <td> 0.590</td> <td>   -0.094     0.053</td>\n",
       "</tr>\n",
       "<tr>\n",
       "  <th>units_change</th>   <td>    0.0696</td> <td>    0.012</td> <td>    6.013</td> <td> 0.000</td> <td>    0.047     0.092</td>\n",
       "</tr>\n",
       "</table>\n",
       "<table class=\"simpletable\">\n",
       "<tr>\n",
       "  <th>Omnibus:</th>       <td>1116.152</td> <th>  Durbin-Watson:     </th> <td>   1.821</td> \n",
       "</tr>\n",
       "<tr>\n",
       "  <th>Prob(Omnibus):</th>  <td> 0.000</td>  <th>  Jarque-Bera (JB):  </th> <td>33490.642</td>\n",
       "</tr>\n",
       "<tr>\n",
       "  <th>Skew:</th>           <td> 1.952</td>  <th>  Prob(JB):          </th> <td>    0.00</td> \n",
       "</tr>\n",
       "<tr>\n",
       "  <th>Kurtosis:</th>       <td>22.281</td>  <th>  Cond. No.          </th> <td>    73.8</td> \n",
       "</tr>\n",
       "</table>"
      ],
      "text/plain": [
       "<class 'statsmodels.iolib.summary.Summary'>\n",
       "\"\"\"\n",
       "                            OLS Regression Results                            \n",
       "==============================================================================\n",
       "Dep. Variable:            rent_change   R-squared:                       0.284\n",
       "Model:                            OLS   Adj. R-squared:                  0.282\n",
       "Method:                 Least Squares   F-statistic:                     117.4\n",
       "Date:                Wed, 29 Nov 2017   Prob (F-statistic):          2.31e-145\n",
       "Time:                        08:02:13   Log-Likelihood:                 357.09\n",
       "No. Observations:                2077   AIC:                            -698.2\n",
       "Df Residuals:                    2069   BIC:                            -653.1\n",
       "Df Model:                           7                                         \n",
       "Covariance Type:            nonrobust                                         \n",
       "==================================================================================\n",
       "                     coef    std err          t      P>|t|      [95.0% Conf. Int.]\n",
       "----------------------------------------------------------------------------------\n",
       "Intercept          0.3092      0.051      6.123      0.000         0.210     0.408\n",
       "inc                0.0768      0.004     17.262      0.000         0.068     0.086\n",
       "rent              -0.9375      0.048    -19.343      0.000        -1.033    -0.842\n",
       "entropy            0.2346      0.050      4.649      0.000         0.136     0.334\n",
       "units              0.0294      0.005      5.484      0.000         0.019     0.040\n",
       "inc_change         0.2424      0.013     18.545      0.000         0.217     0.268\n",
       "entropy_change    -0.0202      0.038     -0.539      0.590        -0.094     0.053\n",
       "units_change       0.0696      0.012      6.013      0.000         0.047     0.092\n",
       "==============================================================================\n",
       "Omnibus:                     1116.152   Durbin-Watson:                   1.821\n",
       "Prob(Omnibus):                  0.000   Jarque-Bera (JB):            33490.642\n",
       "Skew:                           1.952   Prob(JB):                         0.00\n",
       "Kurtosis:                      22.281   Cond. No.                         73.8\n",
       "==============================================================================\n",
       "\n",
       "Warnings:\n",
       "[1] Standard Errors assume that the covariance matrix of the errors is correctly specified.\n",
       "\"\"\""
      ]
     },
     "execution_count": 64,
     "metadata": {},
     "output_type": "execute_result"
    }
   ],
   "source": [
    "model.summary()"
   ]
  },
  {
   "cell_type": "markdown",
   "metadata": {},
   "source": [
    "## Multi-linear regression results explanation:\n",
    "- the P of F-statistic < 0.001, this model is statisticly effective\n",
    "- The change of entropy index is not significantly related to rent growth"
   ]
  },
  {
   "cell_type": "code",
   "execution_count": 65,
   "metadata": {
    "collapsed": false
   },
   "outputs": [
    {
     "data": {
      "text/html": [
       "<table class=\"simpletable\">\n",
       "<caption>OLS Regression Results</caption>\n",
       "<tr>\n",
       "  <th>Dep. Variable:</th>       <td>rent_change</td>   <th>  R-squared:         </th> <td>   0.284</td> \n",
       "</tr>\n",
       "<tr>\n",
       "  <th>Model:</th>                   <td>OLS</td>       <th>  Adj. R-squared:    </th> <td>   0.282</td> \n",
       "</tr>\n",
       "<tr>\n",
       "  <th>Method:</th>             <td>Least Squares</td>  <th>  F-statistic:       </th> <td>   137.0</td> \n",
       "</tr>\n",
       "<tr>\n",
       "  <th>Date:</th>             <td>Wed, 29 Nov 2017</td> <th>  Prob (F-statistic):</th> <td>2.18e-146</td>\n",
       "</tr>\n",
       "<tr>\n",
       "  <th>Time:</th>                 <td>08:02:13</td>     <th>  Log-Likelihood:    </th> <td>  356.94</td> \n",
       "</tr>\n",
       "<tr>\n",
       "  <th>No. Observations:</th>      <td>  2077</td>      <th>  AIC:               </th> <td>  -699.9</td> \n",
       "</tr>\n",
       "<tr>\n",
       "  <th>Df Residuals:</th>          <td>  2070</td>      <th>  BIC:               </th> <td>  -660.4</td> \n",
       "</tr>\n",
       "<tr>\n",
       "  <th>Df Model:</th>              <td>     6</td>      <th>                     </th>     <td> </td>    \n",
       "</tr>\n",
       "<tr>\n",
       "  <th>Covariance Type:</th>      <td>nonrobust</td>    <th>                     </th>     <td> </td>    \n",
       "</tr>\n",
       "</table>\n",
       "<table class=\"simpletable\">\n",
       "<tr>\n",
       "        <td></td>          <th>coef</th>     <th>std err</th>      <th>t</th>      <th>P>|t|</th> <th>[95.0% Conf. Int.]</th> \n",
       "</tr>\n",
       "<tr>\n",
       "  <th>Intercept</th>    <td>    0.2953</td> <td>    0.043</td> <td>    6.808</td> <td> 0.000</td> <td>    0.210     0.380</td>\n",
       "</tr>\n",
       "<tr>\n",
       "  <th>inc</th>          <td>    0.0778</td> <td>    0.004</td> <td>   19.069</td> <td> 0.000</td> <td>    0.070     0.086</td>\n",
       "</tr>\n",
       "<tr>\n",
       "  <th>rent</th>         <td>   -0.9389</td> <td>    0.048</td> <td>  -19.408</td> <td> 0.000</td> <td>   -1.034    -0.844</td>\n",
       "</tr>\n",
       "<tr>\n",
       "  <th>entropy</th>      <td>    0.2477</td> <td>    0.044</td> <td>    5.597</td> <td> 0.000</td> <td>    0.161     0.334</td>\n",
       "</tr>\n",
       "<tr>\n",
       "  <th>units</th>        <td>    0.0298</td> <td>    0.005</td> <td>    5.601</td> <td> 0.000</td> <td>    0.019     0.040</td>\n",
       "</tr>\n",
       "<tr>\n",
       "  <th>inc_change</th>   <td>    0.2434</td> <td>    0.013</td> <td>   18.820</td> <td> 0.000</td> <td>    0.218     0.269</td>\n",
       "</tr>\n",
       "<tr>\n",
       "  <th>units_change</th> <td>    0.0687</td> <td>    0.011</td> <td>    5.999</td> <td> 0.000</td> <td>    0.046     0.091</td>\n",
       "</tr>\n",
       "</table>\n",
       "<table class=\"simpletable\">\n",
       "<tr>\n",
       "  <th>Omnibus:</th>       <td>1120.105</td> <th>  Durbin-Watson:     </th> <td>   1.822</td> \n",
       "</tr>\n",
       "<tr>\n",
       "  <th>Prob(Omnibus):</th>  <td> 0.000</td>  <th>  Jarque-Bera (JB):  </th> <td>33585.685</td>\n",
       "</tr>\n",
       "<tr>\n",
       "  <th>Skew:</th>           <td> 1.962</td>  <th>  Prob(JB):          </th> <td>    0.00</td> \n",
       "</tr>\n",
       "<tr>\n",
       "  <th>Kurtosis:</th>       <td>22.305</td>  <th>  Cond. No.          </th> <td>    61.1</td> \n",
       "</tr>\n",
       "</table>"
      ],
      "text/plain": [
       "<class 'statsmodels.iolib.summary.Summary'>\n",
       "\"\"\"\n",
       "                            OLS Regression Results                            \n",
       "==============================================================================\n",
       "Dep. Variable:            rent_change   R-squared:                       0.284\n",
       "Model:                            OLS   Adj. R-squared:                  0.282\n",
       "Method:                 Least Squares   F-statistic:                     137.0\n",
       "Date:                Wed, 29 Nov 2017   Prob (F-statistic):          2.18e-146\n",
       "Time:                        08:02:13   Log-Likelihood:                 356.94\n",
       "No. Observations:                2077   AIC:                            -699.9\n",
       "Df Residuals:                    2070   BIC:                            -660.4\n",
       "Df Model:                           6                                         \n",
       "Covariance Type:            nonrobust                                         \n",
       "================================================================================\n",
       "                   coef    std err          t      P>|t|      [95.0% Conf. Int.]\n",
       "--------------------------------------------------------------------------------\n",
       "Intercept        0.2953      0.043      6.808      0.000         0.210     0.380\n",
       "inc              0.0778      0.004     19.069      0.000         0.070     0.086\n",
       "rent            -0.9389      0.048    -19.408      0.000        -1.034    -0.844\n",
       "entropy          0.2477      0.044      5.597      0.000         0.161     0.334\n",
       "units            0.0298      0.005      5.601      0.000         0.019     0.040\n",
       "inc_change       0.2434      0.013     18.820      0.000         0.218     0.269\n",
       "units_change     0.0687      0.011      5.999      0.000         0.046     0.091\n",
       "==============================================================================\n",
       "Omnibus:                     1120.105   Durbin-Watson:                   1.822\n",
       "Prob(Omnibus):                  0.000   Jarque-Bera (JB):            33585.685\n",
       "Skew:                           1.962   Prob(JB):                         0.00\n",
       "Kurtosis:                      22.305   Cond. No.                         61.1\n",
       "==============================================================================\n",
       "\n",
       "Warnings:\n",
       "[1] Standard Errors assume that the covariance matrix of the errors is correctly specified.\n",
       "\"\"\""
      ]
     },
     "execution_count": 65,
     "metadata": {},
     "output_type": "execute_result"
    }
   ],
   "source": [
    "model1 = smf.ols('rent_change ~ inc  + rent + entropy + units +\\\n",
    "                inc_change  + units_change',train).fit()\n",
    "model1.summary()"
   ]
  },
  {
   "cell_type": "code",
   "execution_count": 66,
   "metadata": {
    "collapsed": false
   },
   "outputs": [
    {
     "data": {
      "text/html": [
       "<div>\n",
       "<table border=\"1\" class=\"dataframe\">\n",
       "  <thead>\n",
       "    <tr style=\"text-align: right;\">\n",
       "      <th></th>\n",
       "      <th>inc</th>\n",
       "      <th>rent</th>\n",
       "      <th>entropy</th>\n",
       "      <th>units</th>\n",
       "      <th>inc_change</th>\n",
       "      <th>entropy_change</th>\n",
       "      <th>units_change</th>\n",
       "      <th>rent_change</th>\n",
       "    </tr>\n",
       "  </thead>\n",
       "  <tbody>\n",
       "    <tr>\n",
       "      <th>0</th>\n",
       "      <td>3.8711</td>\n",
       "      <td>0.742</td>\n",
       "      <td>0.867149</td>\n",
       "      <td>0.384</td>\n",
       "      <td>0.312728</td>\n",
       "      <td>-0.010583</td>\n",
       "      <td>0.096354</td>\n",
       "      <td>-0.016173</td>\n",
       "    </tr>\n",
       "    <tr>\n",
       "      <th>1</th>\n",
       "      <td>4.0484</td>\n",
       "      <td>0.535</td>\n",
       "      <td>0.919819</td>\n",
       "      <td>0.214</td>\n",
       "      <td>0.013215</td>\n",
       "      <td>0.003783</td>\n",
       "      <td>1.271028</td>\n",
       "      <td>0.201869</td>\n",
       "    </tr>\n",
       "    <tr>\n",
       "      <th>2</th>\n",
       "      <td>2.4732</td>\n",
       "      <td>0.466</td>\n",
       "      <td>0.908063</td>\n",
       "      <td>1.462</td>\n",
       "      <td>0.217208</td>\n",
       "      <td>0.019616</td>\n",
       "      <td>0.037620</td>\n",
       "      <td>0.197425</td>\n",
       "    </tr>\n",
       "    <tr>\n",
       "      <th>3</th>\n",
       "      <td>2.4823</td>\n",
       "      <td>0.422</td>\n",
       "      <td>0.652853</td>\n",
       "      <td>0.357</td>\n",
       "      <td>-0.046409</td>\n",
       "      <td>0.271585</td>\n",
       "      <td>-0.058824</td>\n",
       "      <td>0.092417</td>\n",
       "    </tr>\n",
       "    <tr>\n",
       "      <th>4</th>\n",
       "      <td>1.8762</td>\n",
       "      <td>0.298</td>\n",
       "      <td>0.814774</td>\n",
       "      <td>2.570</td>\n",
       "      <td>0.049675</td>\n",
       "      <td>-0.043021</td>\n",
       "      <td>0.012062</td>\n",
       "      <td>-0.107383</td>\n",
       "    </tr>\n",
       "  </tbody>\n",
       "</table>\n",
       "</div>"
      ],
      "text/plain": [
       "      inc   rent   entropy  units  inc_change  entropy_change  units_change  \\\n",
       "0  3.8711  0.742  0.867149  0.384    0.312728       -0.010583      0.096354   \n",
       "1  4.0484  0.535  0.919819  0.214    0.013215        0.003783      1.271028   \n",
       "2  2.4732  0.466  0.908063  1.462    0.217208        0.019616      0.037620   \n",
       "3  2.4823  0.422  0.652853  0.357   -0.046409        0.271585     -0.058824   \n",
       "4  1.8762  0.298  0.814774  2.570    0.049675       -0.043021      0.012062   \n",
       "\n",
       "   rent_change  \n",
       "0    -0.016173  \n",
       "1     0.201869  \n",
       "2     0.197425  \n",
       "3     0.092417  \n",
       "4    -0.107383  "
      ]
     },
     "execution_count": 66,
     "metadata": {},
     "output_type": "execute_result"
    }
   ],
   "source": [
    "train.head()"
   ]
  },
  {
   "cell_type": "code",
   "execution_count": 67,
   "metadata": {
    "collapsed": false
   },
   "outputs": [
    {
     "data": {
      "text/html": [
       "<div>\n",
       "<table border=\"1\" class=\"dataframe\">\n",
       "  <thead>\n",
       "    <tr style=\"text-align: right;\">\n",
       "      <th></th>\n",
       "      <th>inc</th>\n",
       "      <th>rent</th>\n",
       "      <th>entropy</th>\n",
       "      <th>units</th>\n",
       "      <th>inc_change</th>\n",
       "      <th>entropy_change</th>\n",
       "      <th>units_change</th>\n",
       "      <th>rent_change</th>\n",
       "    </tr>\n",
       "  </thead>\n",
       "  <tbody>\n",
       "    <tr>\n",
       "      <th>0</th>\n",
       "      <td>5.0817</td>\n",
       "      <td>0.730</td>\n",
       "      <td>0.857971</td>\n",
       "      <td>0.421</td>\n",
       "      <td>0.148592</td>\n",
       "      <td>0.074021</td>\n",
       "      <td>0.508314</td>\n",
       "      <td>0.743836</td>\n",
       "    </tr>\n",
       "    <tr>\n",
       "      <th>1</th>\n",
       "      <td>4.1019</td>\n",
       "      <td>0.643</td>\n",
       "      <td>0.923299</td>\n",
       "      <td>0.486</td>\n",
       "      <td>0.783271</td>\n",
       "      <td>0.021563</td>\n",
       "      <td>0.265432</td>\n",
       "      <td>1.068429</td>\n",
       "    </tr>\n",
       "    <tr>\n",
       "      <th>2</th>\n",
       "      <td>3.0104</td>\n",
       "      <td>0.558</td>\n",
       "      <td>0.925875</td>\n",
       "      <td>1.517</td>\n",
       "      <td>0.114636</td>\n",
       "      <td>-0.068188</td>\n",
       "      <td>0.065920</td>\n",
       "      <td>0.474910</td>\n",
       "    </tr>\n",
       "    <tr>\n",
       "      <th>3</th>\n",
       "      <td>2.3671</td>\n",
       "      <td>0.461</td>\n",
       "      <td>0.830158</td>\n",
       "      <td>0.336</td>\n",
       "      <td>0.076803</td>\n",
       "      <td>-0.190016</td>\n",
       "      <td>0.502976</td>\n",
       "      <td>0.887202</td>\n",
       "    </tr>\n",
       "    <tr>\n",
       "      <th>4</th>\n",
       "      <td>1.9694</td>\n",
       "      <td>0.266</td>\n",
       "      <td>0.779722</td>\n",
       "      <td>2.601</td>\n",
       "      <td>0.564791</td>\n",
       "      <td>0.031258</td>\n",
       "      <td>0.006536</td>\n",
       "      <td>0.710526</td>\n",
       "    </tr>\n",
       "  </tbody>\n",
       "</table>\n",
       "</div>"
      ],
      "text/plain": [
       "      inc   rent   entropy  units  inc_change  entropy_change  units_change  \\\n",
       "0  5.0817  0.730  0.857971  0.421    0.148592        0.074021      0.508314   \n",
       "1  4.1019  0.643  0.923299  0.486    0.783271        0.021563      0.265432   \n",
       "2  3.0104  0.558  0.925875  1.517    0.114636       -0.068188      0.065920   \n",
       "3  2.3671  0.461  0.830158  0.336    0.076803       -0.190016      0.502976   \n",
       "4  1.9694  0.266  0.779722  2.601    0.564791        0.031258      0.006536   \n",
       "\n",
       "   rent_change  \n",
       "0     0.743836  \n",
       "1     1.068429  \n",
       "2     0.474910  \n",
       "3     0.887202  \n",
       "4     0.710526  "
      ]
     },
     "execution_count": 67,
     "metadata": {},
     "output_type": "execute_result"
    }
   ],
   "source": [
    "test.head()"
   ]
  },
  {
   "cell_type": "code",
   "execution_count": 68,
   "metadata": {
    "collapsed": true
   },
   "outputs": [],
   "source": [
    "def modelEval(lm, key = 'Y'):\n",
    "    lmy = lm.predict(test)\n",
    "    y_err = lmy - test[key]\n",
    "    y_norm = test[key]-np.mean(test[key])\n",
    "    return 1-y_err.dot(y_err)/y_norm.dot(y_norm)"
   ]
  },
  {
   "cell_type": "code",
   "execution_count": 75,
   "metadata": {
    "collapsed": false
   },
   "outputs": [
    {
     "data": {
      "text/plain": [
       "-0.98367651374426068"
      ]
     },
     "execution_count": 75,
     "metadata": {},
     "output_type": "execute_result"
    }
   ],
   "source": [
    "R_squared = modelEval(model1, key = 'rent_change')\n",
    "R_squared"
   ]
  },
  {
   "cell_type": "markdown",
   "metadata": {},
   "source": [
    "### R2 could not be less than 0. something wrong ????"
   ]
  },
  {
   "cell_type": "markdown",
   "metadata": {},
   "source": [
    "### try logistic regression"
   ]
  },
  {
   "cell_type": "code",
   "execution_count": 70,
   "metadata": {
    "collapsed": true
   },
   "outputs": [],
   "source": [
    "train['y']= pd.Series()\n",
    "for i in train.index:\n",
    "    if train.loc[i, 'rent_change'] < 0.4:\n",
    "        train.loc[i, 'y'] = 0\n",
    "    else:\n",
    "        train.loc[i, 'y'] = 1\n",
    "        "
   ]
  },
  {
   "cell_type": "code",
   "execution_count": 71,
   "metadata": {
    "collapsed": false
   },
   "outputs": [],
   "source": [
    "test['y']= pd.Series()\n",
    "for i in test.index:\n",
    "    if test.loc[i, 'rent_change'] < 0.4:\n",
    "        test.loc[i, 'y'] = 0\n",
    "    else:\n",
    "        test.loc[i, 'y'] = 1\n",
    "        "
   ]
  },
  {
   "cell_type": "code",
   "execution_count": 72,
   "metadata": {
    "collapsed": false
   },
   "outputs": [],
   "source": [
    "from sklearn.linear_model import LogisticRegression\n",
    "lr = LogisticRegression(C=1e6)\n",
    "lr.fit(train[['inc', 'rent', 'entropy', 'units', 'inc_change', 'units_change']], train['y'])\n",
    "pre = lr.predict(test[['inc', 'rent', 'entropy', 'units', 'inc_change', 'units_change']])"
   ]
  },
  {
   "cell_type": "code",
   "execution_count": 73,
   "metadata": {
    "collapsed": false
   },
   "outputs": [
    {
     "data": {
      "text/plain": [
       "0.32643235435724605"
      ]
     },
     "execution_count": 73,
     "metadata": {},
     "output_type": "execute_result"
    }
   ],
   "source": [
    "(pre == test.y).sum()/len(test)"
   ]
  },
  {
   "cell_type": "markdown",
   "metadata": {
    "collapsed": true
   },
   "source": [
    "## the accuracy is not good……"
   ]
  },
  {
   "cell_type": "code",
   "execution_count": null,
   "metadata": {
    "collapsed": true
   },
   "outputs": [],
   "source": []
  }
 ],
 "metadata": {
  "kernelspec": {
   "display_name": "Python 3",
   "language": "python",
   "name": "python3"
  },
  "language_info": {
   "codemirror_mode": {
    "name": "ipython",
    "version": 3
   },
   "file_extension": ".py",
   "mimetype": "text/x-python",
   "name": "python",
   "nbconvert_exporter": "python",
   "pygments_lexer": "ipython3",
   "version": "3.6.0"
  }
 },
 "nbformat": 4,
 "nbformat_minor": 2
}
