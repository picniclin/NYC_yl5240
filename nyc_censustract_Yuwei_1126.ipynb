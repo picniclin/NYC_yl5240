{
 "cells": [
  {
   "cell_type": "code",
   "execution_count": 1,
   "metadata": {
    "collapsed": true
   },
   "outputs": [],
   "source": [
    "import pandas as pd\n",
    "import numpy as np\n",
    "import matplotlib.pylab as plt\n",
    "%matplotlib inline\n",
    "import statsmodels.formula.api as smf"
   ]
  },
  {
   "cell_type": "markdown",
   "metadata": {},
   "source": [
    "## the deliverable of first part of this notebook is a clean dataset on census tracts: ** df_census**\n",
    "## uploaded on  https://github.com/picniclin/NYC_yl5240/blob/master/data/civic_census.csv"
   ]
  },
  {
   "cell_type": "markdown",
   "metadata": {},
   "source": [
    "## Data source is from Geolytics: Neighborhood Change Database (NACD) (http://demographics.geolytics.com/ncdb2010/default.aspx)\n",
    "the dataset geolytics_nyc_census_1990_2010.csv has been uploaded on:\n",
    "https://github.com/picniclin/NYC_yl5240/blob/master/data/geolytics_nyc_census_1990_2010.csv\n"
   ]
  },
  {
   "cell_type": "code",
   "execution_count": 2,
   "metadata": {
    "collapsed": true
   },
   "outputs": [],
   "source": [
    "df = pd.read_csv('geolytics_nyc_census_1990_2010.csv')"
   ]
  },
  {
   "cell_type": "code",
   "execution_count": 3,
   "metadata": {
    "collapsed": true
   },
   "outputs": [],
   "source": [
    "cols = df.columns.str.replace('TRCTPOP', 'pop')\\\n",
    "            .str.replace('MDFAMY','median_inc_fam_')\\\n",
    "            .str.replace('FAVINC', 'ave_inc_fam_')\\\n",
    "            .str.replace('MDHHY', 'median_inc_hh_')\\\n",
    "            .str.replace('AVHHIN', 'ave_inc_hh_')\\\n",
    "            .str.replace('FALTY', 'fam_inc_')\\\n",
    "            .str.replace('FALT', 'fam_inc_')\\\n",
    "            .str.replace('MXB', 'max_')\\\n",
    "            .str.replace('FAY0', 'fam_inc_')\\\n",
    "            .str.replace('fam_inc_M', 'fam_inc_max_')\\\n",
    "            .str.replace('THY0', 'hh_inc_' )\\\n",
    "            .str.replace('hh_inc_M', 'hh_inc_max_')\\\n",
    "            .str.replace('MDVALHS','median_house_value_')\\\n",
    "            .str.replace('MDGRENT', 'median_rent_' )\\\n",
    "            .str.replace('MCSMORT', 'owner_cost_mo_' )\\\n",
    "            .str.replace('MCSNMOR', 'owner_cost_no_mo_' )\\\n",
    "            .str.replace('OCCHU', 'occ_')\\\n",
    "            .str.replace('VACHU', 'vacant_')\\\n",
    "            .str.replace('RNTOCC','renter_occ_')\\\n",
    "            .str.replace('OWNOCC', 'owner_occ_')\\\n",
    "            .str.replace('SPRNTOC', 'spec_renter_occ_')\\\n",
    "            .str.replace('SPOWNOC', 'spec_owner_occ_')\\\n",
    "            .str.replace('PRSOCU', 'person_occ_')\\\n",
    "            .str.replace('PRSOWNU', 'person_owner_occ_')\\\n",
    "            .str.replace('PRSRNTU', 'person_renter_occ_')\\\n",
    "            .str.replace('POVRAT','poverty')\\\n",
    "            .str.replace('1A', '1')\\\n",
    "            .str.replace('9A', '9')\n",
    "\n",
    "df.columns = cols\n",
    "\n",
    "df.rename(columns = {'AREAKEY' : 'census_tract','INTPTLAT':'lat', 'INTPTLON':'lon'}, \n",
    "          inplace = True)"
   ]
  },
  {
   "cell_type": "code",
   "execution_count": 4,
   "metadata": {
    "collapsed": false
   },
   "outputs": [],
   "source": [
    "#list(df.columns)"
   ]
  },
  {
   "cell_type": "code",
   "execution_count": 5,
   "metadata": {
    "collapsed": false
   },
   "outputs": [],
   "source": [
    "df = df.dropna()\n",
    "df.ZCTA5 = df.ZCTA5.astype('int')\n",
    "\n",
    "## delete the observation, i.e. census tract, with 0 median rent or 0 median families income\n",
    "df = df[~((df.median_rent_0 == 0)| (df.median_rent_9 == 0)|(df.median_rent_1 == 0)|\\\n",
    "         (df.median_inc_fam_9 == 0)| (df.median_inc_fam_9 == 0)|(df.median_inc_fam_1 == 0))]\n"
   ]
  },
  {
   "cell_type": "code",
   "execution_count": 6,
   "metadata": {
    "collapsed": false,
    "scrolled": true
   },
   "outputs": [
    {
     "data": {
      "text/html": [
       "<div>\n",
       "<table border=\"1\" class=\"dataframe\">\n",
       "  <thead>\n",
       "    <tr style=\"text-align: right;\">\n",
       "      <th></th>\n",
       "      <th>census_tract</th>\n",
       "      <th>lat</th>\n",
       "      <th>lon</th>\n",
       "      <th>ZCTA5</th>\n",
       "      <th>pop9</th>\n",
       "      <th>ave_inc_fam_9</th>\n",
       "      <th>median_inc_fam_9</th>\n",
       "      <th>fam_inc_59</th>\n",
       "      <th>fam_inc_109</th>\n",
       "      <th>fam_inc_139</th>\n",
       "      <th>...</th>\n",
       "      <th>hh_inc_601</th>\n",
       "      <th>hh_inc_751</th>\n",
       "      <th>hh_inc_1001</th>\n",
       "      <th>hh_inc_1251</th>\n",
       "      <th>hh_inc_1501</th>\n",
       "      <th>hh_inc_2001</th>\n",
       "      <th>hh_inc_max_201</th>\n",
       "      <th>median_inc_hh_1</th>\n",
       "      <th>median_house_value_1</th>\n",
       "      <th>median_rent_1</th>\n",
       "    </tr>\n",
       "  </thead>\n",
       "  <tbody>\n",
       "    <tr>\n",
       "      <th>1</th>\n",
       "      <td>36005000200</td>\n",
       "      <td>40.804573</td>\n",
       "      <td>-73.856859</td>\n",
       "      <td>10473</td>\n",
       "      <td>2907</td>\n",
       "      <td>45267.28710</td>\n",
       "      <td>38711</td>\n",
       "      <td>31</td>\n",
       "      <td>29</td>\n",
       "      <td>29</td>\n",
       "      <td>...</td>\n",
       "      <td>83</td>\n",
       "      <td>164</td>\n",
       "      <td>152</td>\n",
       "      <td>203</td>\n",
       "      <td>48</td>\n",
       "      <td>68</td>\n",
       "      <td>11</td>\n",
       "      <td>59826</td>\n",
       "      <td>392500</td>\n",
       "      <td>1273</td>\n",
       "    </tr>\n",
       "    <tr>\n",
       "      <th>2</th>\n",
       "      <td>36005000400</td>\n",
       "      <td>40.808915</td>\n",
       "      <td>-73.850488</td>\n",
       "      <td>10473</td>\n",
       "      <td>2260</td>\n",
       "      <td>43694.20068</td>\n",
       "      <td>40484</td>\n",
       "      <td>15</td>\n",
       "      <td>19</td>\n",
       "      <td>24</td>\n",
       "      <td>...</td>\n",
       "      <td>152</td>\n",
       "      <td>190</td>\n",
       "      <td>255</td>\n",
       "      <td>97</td>\n",
       "      <td>161</td>\n",
       "      <td>96</td>\n",
       "      <td>73</td>\n",
       "      <td>71968</td>\n",
       "      <td>393700</td>\n",
       "      <td>1330</td>\n",
       "    </tr>\n",
       "    <tr>\n",
       "      <th>3</th>\n",
       "      <td>36005001600</td>\n",
       "      <td>40.818848</td>\n",
       "      <td>-73.858076</td>\n",
       "      <td>10473</td>\n",
       "      <td>5254</td>\n",
       "      <td>30042.84776</td>\n",
       "      <td>24732</td>\n",
       "      <td>61</td>\n",
       "      <td>142</td>\n",
       "      <td>53</td>\n",
       "      <td>...</td>\n",
       "      <td>44</td>\n",
       "      <td>192</td>\n",
       "      <td>171</td>\n",
       "      <td>20</td>\n",
       "      <td>38</td>\n",
       "      <td>20</td>\n",
       "      <td>0</td>\n",
       "      <td>30355</td>\n",
       "      <td>378100</td>\n",
       "      <td>823</td>\n",
       "    </tr>\n",
       "    <tr>\n",
       "      <th>4</th>\n",
       "      <td>36005001900</td>\n",
       "      <td>40.800999</td>\n",
       "      <td>-73.909373</td>\n",
       "      <td>10454</td>\n",
       "      <td>1575</td>\n",
       "      <td>23377.47813</td>\n",
       "      <td>24823</td>\n",
       "      <td>76</td>\n",
       "      <td>50</td>\n",
       "      <td>0</td>\n",
       "      <td>...</td>\n",
       "      <td>47</td>\n",
       "      <td>71</td>\n",
       "      <td>14</td>\n",
       "      <td>19</td>\n",
       "      <td>21</td>\n",
       "      <td>0</td>\n",
       "      <td>0</td>\n",
       "      <td>25093</td>\n",
       "      <td>0</td>\n",
       "      <td>870</td>\n",
       "    </tr>\n",
       "    <tr>\n",
       "      <th>5</th>\n",
       "      <td>36005002000</td>\n",
       "      <td>40.817580</td>\n",
       "      <td>-73.866096</td>\n",
       "      <td>10473</td>\n",
       "      <td>9110</td>\n",
       "      <td>25062.06250</td>\n",
       "      <td>18762</td>\n",
       "      <td>380</td>\n",
       "      <td>284</td>\n",
       "      <td>133</td>\n",
       "      <td>...</td>\n",
       "      <td>74</td>\n",
       "      <td>114</td>\n",
       "      <td>180</td>\n",
       "      <td>161</td>\n",
       "      <td>0</td>\n",
       "      <td>45</td>\n",
       "      <td>12</td>\n",
       "      <td>24939</td>\n",
       "      <td>398100</td>\n",
       "      <td>455</td>\n",
       "    </tr>\n",
       "  </tbody>\n",
       "</table>\n",
       "<p>5 rows × 108 columns</p>\n",
       "</div>"
      ],
      "text/plain": [
       "   census_tract        lat        lon  ZCTA5  pop9  ave_inc_fam_9  \\\n",
       "1   36005000200  40.804573 -73.856859  10473  2907    45267.28710   \n",
       "2   36005000400  40.808915 -73.850488  10473  2260    43694.20068   \n",
       "3   36005001600  40.818848 -73.858076  10473  5254    30042.84776   \n",
       "4   36005001900  40.800999 -73.909373  10454  1575    23377.47813   \n",
       "5   36005002000  40.817580 -73.866096  10473  9110    25062.06250   \n",
       "\n",
       "   median_inc_fam_9  fam_inc_59  fam_inc_109  fam_inc_139      ...        \\\n",
       "1             38711          31           29           29      ...         \n",
       "2             40484          15           19           24      ...         \n",
       "3             24732          61          142           53      ...         \n",
       "4             24823          76           50            0      ...         \n",
       "5             18762         380          284          133      ...         \n",
       "\n",
       "   hh_inc_601  hh_inc_751  hh_inc_1001  hh_inc_1251  hh_inc_1501  hh_inc_2001  \\\n",
       "1          83         164          152          203           48           68   \n",
       "2         152         190          255           97          161           96   \n",
       "3          44         192          171           20           38           20   \n",
       "4          47          71           14           19           21            0   \n",
       "5          74         114          180          161            0           45   \n",
       "\n",
       "   hh_inc_max_201  median_inc_hh_1  median_house_value_1  median_rent_1  \n",
       "1              11            59826                392500           1273  \n",
       "2              73            71968                393700           1330  \n",
       "3               0            30355                378100            823  \n",
       "4               0            25093                     0            870  \n",
       "5              12            24939                398100            455  \n",
       "\n",
       "[5 rows x 108 columns]"
      ]
     },
     "execution_count": 6,
     "metadata": {},
     "output_type": "execute_result"
    }
   ],
   "source": [
    "df.head()"
   ]
  },
  {
   "cell_type": "code",
   "execution_count": 7,
   "metadata": {
    "collapsed": false
   },
   "outputs": [
    {
     "data": {
      "text/plain": [
       "(2089, 108)"
      ]
     },
     "execution_count": 7,
     "metadata": {},
     "output_type": "execute_result"
    }
   ],
   "source": [
    "df.shape"
   ]
  },
  {
   "cell_type": "code",
   "execution_count": 8,
   "metadata": {
    "collapsed": true
   },
   "outputs": [],
   "source": [
    "df.to_csv('nyc_1990_2010_census.csv')"
   ]
  },
  {
   "cell_type": "markdown",
   "metadata": {},
   "source": [
    "## NYC has 2089 census tracts in 2010 census."
   ]
  },
  {
   "cell_type": "markdown",
   "metadata": {},
   "source": [
    "## Since there is no household income in 1990, we choose family income data as income data"
   ]
  },
  {
   "cell_type": "code",
   "execution_count": 9,
   "metadata": {
    "collapsed": false
   },
   "outputs": [
    {
     "data": {
      "text/plain": [
       "((2089, 20), (2089, 17), (2089, 17))"
      ]
     },
     "execution_count": 9,
     "metadata": {},
     "output_type": "execute_result"
    }
   ],
   "source": [
    "# the tables of different groups of families income level\n",
    "df_inc_9 = df.loc[:,df.columns[(df.columns == 'census_tract') |\\\n",
    "                (df.columns.str.startswith('fam_inc_')&df.columns.str.endswith('9'))]]\n",
    "\n",
    "df_inc_0 = df.loc[:,df.columns[(df.columns == 'census_tract') |\\\n",
    "                (df.columns.str.startswith('fam_inc_')&df.columns.str.endswith('0'))]]\n",
    "\n",
    "df_inc_1 = df.loc[:,df.columns[(df.columns == 'census_tract') |\\\n",
    "               (df.columns.str.startswith('fam_inc_')&df.columns.str.endswith('1'))]]\n",
    "\n",
    " \n",
    "df_inc_9.shape, df_inc_0.shape, df_inc_1.shape"
   ]
  },
  {
   "cell_type": "code",
   "execution_count": 10,
   "metadata": {
    "collapsed": false
   },
   "outputs": [],
   "source": [
    "df_inc_rent = df.loc[:,df.columns[(df.columns == 'census_tract') |\\\n",
    "                                (df.columns.str.startswith('median_inc_fam')) |\\\n",
    "                                (df.columns.str.startswith('median_rent'))]]"
   ]
  },
  {
   "cell_type": "code",
   "execution_count": 11,
   "metadata": {
    "collapsed": false
   },
   "outputs": [
    {
     "data": {
      "text/html": [
       "<div>\n",
       "<table border=\"1\" class=\"dataframe\">\n",
       "  <thead>\n",
       "    <tr style=\"text-align: right;\">\n",
       "      <th></th>\n",
       "      <th>tract</th>\n",
       "      <th>inc_9</th>\n",
       "      <th>rent_9</th>\n",
       "      <th>inc_0</th>\n",
       "      <th>rent_0</th>\n",
       "      <th>inc_1</th>\n",
       "      <th>rent_1</th>\n",
       "    </tr>\n",
       "  </thead>\n",
       "  <tbody>\n",
       "    <tr>\n",
       "      <th>1</th>\n",
       "      <td>36005000200</td>\n",
       "      <td>38711</td>\n",
       "      <td>742</td>\n",
       "      <td>50817</td>\n",
       "      <td>730</td>\n",
       "      <td>58368</td>\n",
       "      <td>1273</td>\n",
       "    </tr>\n",
       "    <tr>\n",
       "      <th>2</th>\n",
       "      <td>36005000400</td>\n",
       "      <td>40484</td>\n",
       "      <td>535</td>\n",
       "      <td>41019</td>\n",
       "      <td>643</td>\n",
       "      <td>73148</td>\n",
       "      <td>1330</td>\n",
       "    </tr>\n",
       "    <tr>\n",
       "      <th>3</th>\n",
       "      <td>36005001600</td>\n",
       "      <td>24732</td>\n",
       "      <td>466</td>\n",
       "      <td>30104</td>\n",
       "      <td>558</td>\n",
       "      <td>33555</td>\n",
       "      <td>823</td>\n",
       "    </tr>\n",
       "    <tr>\n",
       "      <th>4</th>\n",
       "      <td>36005001900</td>\n",
       "      <td>24823</td>\n",
       "      <td>422</td>\n",
       "      <td>23671</td>\n",
       "      <td>461</td>\n",
       "      <td>25489</td>\n",
       "      <td>870</td>\n",
       "    </tr>\n",
       "    <tr>\n",
       "      <th>5</th>\n",
       "      <td>36005002000</td>\n",
       "      <td>18762</td>\n",
       "      <td>298</td>\n",
       "      <td>19694</td>\n",
       "      <td>266</td>\n",
       "      <td>30817</td>\n",
       "      <td>455</td>\n",
       "    </tr>\n",
       "  </tbody>\n",
       "</table>\n",
       "</div>"
      ],
      "text/plain": [
       "         tract  inc_9  rent_9  inc_0  rent_0  inc_1  rent_1\n",
       "1  36005000200  38711     742  50817     730  58368    1273\n",
       "2  36005000400  40484     535  41019     643  73148    1330\n",
       "3  36005001600  24732     466  30104     558  33555     823\n",
       "4  36005001900  24823     422  23671     461  25489     870\n",
       "5  36005002000  18762     298  19694     266  30817     455"
      ]
     },
     "execution_count": 11,
     "metadata": {},
     "output_type": "execute_result"
    }
   ],
   "source": [
    "df_inc_rent.columns = ['tract', 'inc_9', 'rent_9','inc_0', 'rent_0', 'inc_1',  'rent_1']\n",
    "\n",
    "df_inc_rent.head()"
   ]
  },
  {
   "cell_type": "code",
   "execution_count": 12,
   "metadata": {
    "collapsed": false
   },
   "outputs": [
    {
     "data": {
      "text/html": [
       "<div>\n",
       "<table border=\"1\" class=\"dataframe\">\n",
       "  <thead>\n",
       "    <tr style=\"text-align: right;\">\n",
       "      <th></th>\n",
       "      <th>tract</th>\n",
       "      <th>inc_9</th>\n",
       "      <th>rent_9</th>\n",
       "      <th>inc_0</th>\n",
       "      <th>rent_0</th>\n",
       "      <th>inc_1</th>\n",
       "      <th>rent_1</th>\n",
       "      <th>ratio_rent_inc_9</th>\n",
       "      <th>ratio_rent_inc_0</th>\n",
       "      <th>ratio_rent_inc_1</th>\n",
       "    </tr>\n",
       "  </thead>\n",
       "  <tbody>\n",
       "    <tr>\n",
       "      <th>1</th>\n",
       "      <td>36005000200</td>\n",
       "      <td>38711</td>\n",
       "      <td>742</td>\n",
       "      <td>50817</td>\n",
       "      <td>730</td>\n",
       "      <td>58368</td>\n",
       "      <td>1273</td>\n",
       "      <td>0.230012</td>\n",
       "      <td>0.172383</td>\n",
       "      <td>0.261719</td>\n",
       "    </tr>\n",
       "    <tr>\n",
       "      <th>2</th>\n",
       "      <td>36005000400</td>\n",
       "      <td>40484</td>\n",
       "      <td>535</td>\n",
       "      <td>41019</td>\n",
       "      <td>643</td>\n",
       "      <td>73148</td>\n",
       "      <td>1330</td>\n",
       "      <td>0.158581</td>\n",
       "      <td>0.188108</td>\n",
       "      <td>0.218188</td>\n",
       "    </tr>\n",
       "    <tr>\n",
       "      <th>3</th>\n",
       "      <td>36005001600</td>\n",
       "      <td>24732</td>\n",
       "      <td>466</td>\n",
       "      <td>30104</td>\n",
       "      <td>558</td>\n",
       "      <td>33555</td>\n",
       "      <td>823</td>\n",
       "      <td>0.226104</td>\n",
       "      <td>0.222429</td>\n",
       "      <td>0.294323</td>\n",
       "    </tr>\n",
       "    <tr>\n",
       "      <th>4</th>\n",
       "      <td>36005001900</td>\n",
       "      <td>24823</td>\n",
       "      <td>422</td>\n",
       "      <td>23671</td>\n",
       "      <td>461</td>\n",
       "      <td>25489</td>\n",
       "      <td>870</td>\n",
       "      <td>0.204004</td>\n",
       "      <td>0.233704</td>\n",
       "      <td>0.409588</td>\n",
       "    </tr>\n",
       "    <tr>\n",
       "      <th>5</th>\n",
       "      <td>36005002000</td>\n",
       "      <td>18762</td>\n",
       "      <td>298</td>\n",
       "      <td>19694</td>\n",
       "      <td>266</td>\n",
       "      <td>30817</td>\n",
       "      <td>455</td>\n",
       "      <td>0.190598</td>\n",
       "      <td>0.162080</td>\n",
       "      <td>0.177175</td>\n",
       "    </tr>\n",
       "  </tbody>\n",
       "</table>\n",
       "</div>"
      ],
      "text/plain": [
       "         tract  inc_9  rent_9  inc_0  rent_0  inc_1  rent_1  ratio_rent_inc_9  \\\n",
       "1  36005000200  38711     742  50817     730  58368    1273          0.230012   \n",
       "2  36005000400  40484     535  41019     643  73148    1330          0.158581   \n",
       "3  36005001600  24732     466  30104     558  33555     823          0.226104   \n",
       "4  36005001900  24823     422  23671     461  25489     870          0.204004   \n",
       "5  36005002000  18762     298  19694     266  30817     455          0.190598   \n",
       "\n",
       "   ratio_rent_inc_0  ratio_rent_inc_1  \n",
       "1          0.172383          0.261719  \n",
       "2          0.188108          0.218188  \n",
       "3          0.222429          0.294323  \n",
       "4          0.233704          0.409588  \n",
       "5          0.162080          0.177175  "
      ]
     },
     "execution_count": 12,
     "metadata": {},
     "output_type": "execute_result"
    }
   ],
   "source": [
    "df_inc_rent['ratio_rent_inc_9'] = df_inc_rent.rent_9*12/df_inc_rent.inc_9\n",
    "df_inc_rent['ratio_rent_inc_0'] = df_inc_rent.rent_0*12/df_inc_rent.inc_0\n",
    "df_inc_rent['ratio_rent_inc_1'] = df_inc_rent.rent_1*12/df_inc_rent.inc_1\n",
    "df_inc_rent.head()"
   ]
  },
  {
   "cell_type": "markdown",
   "metadata": {},
   "source": [
    "# 1. Income level groups and entropy index"
   ]
  },
  {
   "cell_type": "markdown",
   "metadata": {},
   "source": [
    "## 1） Define income level groups\n",
    "Use median value of the 2089 census tracts' median family income to divide 6 income-level groups:\n",
    "- < 50%\n",
    "- [50%, 80%)\n",
    "- [80%, 100%)\n",
    "- [100%, 120%)\n",
    "- [120%, 150%)\n",
    "- [150%, +inf)\n"
   ]
  },
  {
   "cell_type": "code",
   "execution_count": 13,
   "metadata": {
    "collapsed": true
   },
   "outputs": [],
   "source": [
    "def inc_div(x):\n",
    "    x1 = x * 0.5\n",
    "    x2 = x * 0.8\n",
    "    x3 = x\n",
    "    x4 = x * 1.2\n",
    "    x5 = x * 1.5\n",
    "    return([int(x1), int(x2), int(x3), int(x4), int(x5)])"
   ]
  },
  {
   "cell_type": "code",
   "execution_count": 14,
   "metadata": {
    "collapsed": false
   },
   "outputs": [
    {
     "data": {
      "text/plain": [
       "(36218.0, 42590.0, 56726.0)"
      ]
     },
     "execution_count": 14,
     "metadata": {},
     "output_type": "execute_result"
    }
   ],
   "source": [
    "median_inc_9, median_inc_0, median_inc_1 = df_inc_rent[['inc_9', 'inc_0', 'inc_1']].median()\n",
    "median_inc_9, median_inc_0, median_inc_1"
   ]
  },
  {
   "cell_type": "code",
   "execution_count": 15,
   "metadata": {
    "collapsed": false
   },
   "outputs": [],
   "source": [
    "## ideal division boundary\n",
    "inc_div_9 = inc_div(median_inc_9)\n",
    "\n",
    "inc_div_0 = inc_div(median_inc_0)\n",
    "\n",
    "inc_div_1 = inc_div(median_inc_1)"
   ]
  },
  {
   "cell_type": "code",
   "execution_count": 16,
   "metadata": {
    "collapsed": false
   },
   "outputs": [
    {
     "data": {
      "text/plain": [
       "([18109, 28974, 36218, 43461, 54327],\n",
       " [21295, 34072, 42590, 51108, 63885],\n",
       " [28363, 45380, 56726, 68071, 85089])"
      ]
     },
     "execution_count": 16,
     "metadata": {},
     "output_type": "execute_result"
    }
   ],
   "source": [
    "inc_div_9, inc_div_0, inc_div_1"
   ]
  },
  {
   "cell_type": "markdown",
   "metadata": {},
   "source": []
  },
  {
   "cell_type": "markdown",
   "metadata": {},
   "source": [
    "## calculate the number of families in four income-level groups for each year\n",
    "the actual division boundary is regarded as the existed income-level boundary in the census data which is nearest to the boudary above"
   ]
  },
  {
   "cell_type": "code",
   "execution_count": 17,
   "metadata": {
    "collapsed": false
   },
   "outputs": [
    {
     "data": {
      "text/plain": [
       "Index(['census_tract', 'fam_inc_59', 'fam_inc_109', 'fam_inc_139',\n",
       "       'fam_inc_159', 'fam_inc_189', 'fam_inc_209', 'fam_inc_239',\n",
       "       'fam_inc_259', 'fam_inc_289', 'fam_inc_309', 'fam_inc_359',\n",
       "       'fam_inc_409', 'fam_inc_499', 'fam_inc_609', 'fam_inc_759',\n",
       "       'fam_inc_1009', 'fam_inc_1259', 'fam_inc_1509', 'fam_inc_max_9'],\n",
       "      dtype='object')"
      ]
     },
     "execution_count": 17,
     "metadata": {},
     "output_type": "execute_result"
    }
   ],
   "source": [
    "df_inc_9.columns"
   ]
  },
  {
   "cell_type": "code",
   "execution_count": 18,
   "metadata": {
    "collapsed": true
   },
   "outputs": [],
   "source": [
    "# ideal division boundary for 1990: [18109, 28974, 36218, 43461, 54327]\n",
    "df_inc_9['inc_group1_9'] = df_inc_9['fam_inc_59'] + df_inc_9['fam_inc_109']\\\n",
    "                        + df_inc_9['fam_inc_139'] + df_inc_9['fam_inc_159'] \\\n",
    "                        + df_inc_9['fam_inc_189'] \n",
    "        \n",
    "df_inc_9['inc_group2_9'] = df_inc_9['fam_inc_209'] + df_inc_9['fam_inc_239'] + \\\n",
    "                           df_inc_9['fam_inc_259'] + df_inc_9['fam_inc_289'] + \\\n",
    "                           df_inc_9['fam_inc_309']\n",
    "        \n",
    "df_inc_9['inc_group3_9'] =  df_inc_9['fam_inc_359']\n",
    "\n",
    "df_inc_9['inc_group4_9'] = df_inc_9['fam_inc_409']\n",
    "\n",
    "df_inc_9['inc_group5_9'] = df_inc_9['fam_inc_499']  \n",
    "\n",
    "df_inc_9['inc_group6_9'] =  df_inc_9['fam_inc_609'] + df_inc_9['fam_inc_759'] \\\n",
    "                            + df_inc_9['fam_inc_1009'] + df_inc_9['fam_inc_1259']\\\n",
    "                            + df_inc_9['fam_inc_1509'] + df_inc_9['fam_inc_max_9']"
   ]
  },
  {
   "cell_type": "code",
   "execution_count": 19,
   "metadata": {
    "collapsed": false
   },
   "outputs": [
    {
     "data": {
      "text/plain": [
       "inc_group1_9    452794\n",
       "inc_group2_9    314860\n",
       "inc_group3_9    117385\n",
       "inc_group4_9    106071\n",
       "inc_group5_9    189509\n",
       "inc_group6_9    559550\n",
       "dtype: int64"
      ]
     },
     "execution_count": 19,
     "metadata": {},
     "output_type": "execute_result"
    }
   ],
   "source": [
    "df_inc_div_9 = df_inc_9[['census_tract', 'inc_group1_9', 'inc_group2_9', \n",
    "          'inc_group3_9', 'inc_group4_9',\n",
    "         'inc_group5_9', 'inc_group6_9']]\n",
    "df_inc_div_9.sum()[1:]"
   ]
  },
  {
   "cell_type": "code",
   "execution_count": 20,
   "metadata": {
    "collapsed": false
   },
   "outputs": [
    {
     "data": {
      "text/plain": [
       "Index(['census_tract', 'fam_inc_100', 'fam_inc_150', 'fam_inc_200',\n",
       "       'fam_inc_250', 'fam_inc_300', 'fam_inc_350', 'fam_inc_400',\n",
       "       'fam_inc_450', 'fam_inc_500', 'fam_inc_600', 'fam_inc_750',\n",
       "       'fam_inc_1000', 'fam_inc_1250', 'fam_inc_1500', 'fam_inc_2000',\n",
       "       'fam_inc_max_200'],\n",
       "      dtype='object')"
      ]
     },
     "execution_count": 20,
     "metadata": {},
     "output_type": "execute_result"
    }
   ],
   "source": [
    "df_inc_0.columns"
   ]
  },
  {
   "cell_type": "code",
   "execution_count": 21,
   "metadata": {
    "collapsed": false
   },
   "outputs": [],
   "source": [
    "# ideal division boundary for 2010: [21295, 34072, 42590, 51108, 63885]\n",
    "df_inc_0['inc_group1_0'] = df_inc_0['fam_inc_100'] + df_inc_0['fam_inc_150']\\\n",
    "                        + df_inc_0['fam_inc_200'] \n",
    "    \n",
    "df_inc_0['inc_group2_0'] = df_inc_0['fam_inc_250'] + df_inc_0['fam_inc_300'] \\\n",
    "                        + df_inc_0['fam_inc_350']\n",
    "    \n",
    "df_inc_0['inc_group3_0'] =  df_inc_0['fam_inc_400']\n",
    "\n",
    "df_inc_0['inc_group4_0'] =  df_inc_0['fam_inc_450'] + df_inc_0['fam_inc_500']\n",
    "\n",
    "df_inc_0['inc_group5_0'] = df_inc_0['fam_inc_600'] \n",
    "\n",
    "df_inc_0['inc_group6_0'] = df_inc_0['fam_inc_750'] + df_inc_0['fam_inc_1000'] \\\n",
    "                            + df_inc_0['fam_inc_1250'] + df_inc_0['fam_inc_1500']\\\n",
    "                            + df_inc_0['fam_inc_2000']  + df_inc_0['fam_inc_max_200']"
   ]
  },
  {
   "cell_type": "code",
   "execution_count": 22,
   "metadata": {
    "collapsed": false
   },
   "outputs": [
    {
     "data": {
      "text/plain": [
       "inc_group1_0    466241\n",
       "inc_group2_0    325881\n",
       "inc_group3_0     97069\n",
       "inc_group4_0    170127\n",
       "inc_group5_0    146590\n",
       "inc_group6_0    646516\n",
       "dtype: int64"
      ]
     },
     "execution_count": 22,
     "metadata": {},
     "output_type": "execute_result"
    }
   ],
   "source": [
    "df_inc_div_0 = df_inc_0[['census_tract', 'inc_group1_0', 'inc_group2_0', \n",
    "          'inc_group3_0', 'inc_group4_0',\n",
    "         'inc_group5_0', 'inc_group6_0']]\n",
    "df_inc_div_0.sum()[1:]"
   ]
  },
  {
   "cell_type": "code",
   "execution_count": 23,
   "metadata": {
    "collapsed": false
   },
   "outputs": [
    {
     "data": {
      "text/plain": [
       "Index(['census_tract', 'fam_inc_101', 'fam_inc_151', 'fam_inc_201',\n",
       "       'fam_inc_251', 'fam_inc_301', 'fam_inc_351', 'fam_inc_401',\n",
       "       'fam_inc_451', 'fam_inc_501', 'fam_inc_601', 'fam_inc_751',\n",
       "       'fam_inc_1001', 'fam_inc_1251', 'fam_inc_1501', 'fam_inc_2001',\n",
       "       'fam_inc_max_201'],\n",
       "      dtype='object')"
      ]
     },
     "execution_count": 23,
     "metadata": {},
     "output_type": "execute_result"
    }
   ],
   "source": [
    "df_inc_1.columns"
   ]
  },
  {
   "cell_type": "code",
   "execution_count": 24,
   "metadata": {
    "collapsed": false
   },
   "outputs": [],
   "source": [
    "# ideal division boundary for 2010: [28363, 45380, 56726, 68071, 85089]\n",
    "df_inc_1['inc_group1_1'] = df_inc_1['fam_inc_101'] + df_inc_1['fam_inc_151']\\\n",
    "                        + df_inc_1['fam_inc_201']  + df_inc_1['fam_inc_251']\\\n",
    "                        + df_inc_1['fam_inc_301']\n",
    "    \n",
    "df_inc_1['inc_group2_1'] =  df_inc_1['fam_inc_351'] + df_inc_1['fam_inc_401']\\\n",
    "                        + df_inc_1['fam_inc_451']\n",
    "    \n",
    "df_inc_1['inc_group3_1'] =  df_inc_1['fam_inc_501'] + df_inc_1['fam_inc_601']\n",
    "\n",
    "df_inc_1['inc_group4_1'] =  df_inc_1['fam_inc_751'] \n",
    "\n",
    "df_inc_1['inc_group5_1'] =  df_inc_1['fam_inc_1001']\n",
    "\n",
    "df_inc_1['inc_group6_1'] =  df_inc_1['fam_inc_1251'] + df_inc_1['fam_inc_1501']\\\n",
    "                            + df_inc_1['fam_inc_2001'] + df_inc_1['fam_inc_max_201']\n",
    "        "
   ]
  },
  {
   "cell_type": "code",
   "execution_count": 25,
   "metadata": {
    "collapsed": false
   },
   "outputs": [
    {
     "data": {
      "text/plain": [
       "inc_group1_1    511033\n",
       "inc_group2_1    258739\n",
       "inc_group3_1    208478\n",
       "inc_group4_1    171592\n",
       "inc_group5_1    216311\n",
       "inc_group6_1    473612\n",
       "dtype: int64"
      ]
     },
     "execution_count": 25,
     "metadata": {},
     "output_type": "execute_result"
    }
   ],
   "source": [
    "df_inc_div_1 = df_inc_1[['census_tract', 'inc_group1_1', 'inc_group2_1', \n",
    "          'inc_group3_1', 'inc_group4_1',\n",
    "         'inc_group5_1', 'inc_group6_1']]\n",
    "df_inc_div_1.sum()[1:]"
   ]
  },
  {
   "cell_type": "code",
   "execution_count": null,
   "metadata": {
    "collapsed": true
   },
   "outputs": [],
   "source": []
  },
  {
   "cell_type": "markdown",
   "metadata": {},
   "source": [
    "## 2) Calculation of census tracts' entropy index\n",
    "entropy index of different income-level groups for each census tract from 1990 to 2010\n",
    "entropy index fomular: https://github.com/picniclin/NYC_yl5240/blob/master/entropy_index_fomular.png"
   ]
  },
  {
   "cell_type": "code",
   "execution_count": 26,
   "metadata": {
    "collapsed": true
   },
   "outputs": [],
   "source": [
    "# define entropy index \n",
    "def entropy_index(x):\n",
    "    Q_sum = 0\n",
    "    for i in x:\n",
    "        if i == 0:\n",
    "            Q = 0\n",
    "        else:\n",
    "            Q = (-1) * (i/sum(x)) * np.log(i/sum(x))\n",
    "        Q_sum += Q\n",
    "    entropy_index = Q_sum/np.log(len(x))\n",
    "    return entropy_index"
   ]
  },
  {
   "cell_type": "code",
   "execution_count": 27,
   "metadata": {
    "collapsed": true
   },
   "outputs": [],
   "source": [
    "df_inc_div_9.is_copy = False\n",
    "df_inc_div_0.is_copy = False\n",
    "df_inc_div_1.is_copy = False"
   ]
  },
  {
   "cell_type": "code",
   "execution_count": 28,
   "metadata": {
    "collapsed": false
   },
   "outputs": [],
   "source": [
    "# calculate the entropy index \n",
    "for i in df_inc_div_9.index:\n",
    "    df_inc_div_9.loc[i,'entropy_index_9'] = \\\n",
    "            entropy_index(list(df_inc_div_9.loc[i,'inc_group1_9':'inc_group6_9']))\n",
    "\n",
    "for i in df_inc_div_0.index:\n",
    "    df_inc_div_0.loc[i,'entropy_index_0'] = \\\n",
    "            entropy_index(list(df_inc_div_0.loc[i,'inc_group1_0':'inc_group6_0']))\n",
    "        \n",
    "for i in df_inc_div_1.index:\n",
    "    df_inc_div_1.loc[i,'entropy_index_1'] = \\\n",
    "            entropy_index(list(df_inc_div_1.loc[i,'inc_group1_1':'inc_group6_1']))"
   ]
  },
  {
   "cell_type": "code",
   "execution_count": 29,
   "metadata": {
    "collapsed": false
   },
   "outputs": [
    {
     "data": {
      "text/html": [
       "<div>\n",
       "<table border=\"1\" class=\"dataframe\">\n",
       "  <thead>\n",
       "    <tr style=\"text-align: right;\">\n",
       "      <th></th>\n",
       "      <th>census_tract</th>\n",
       "      <th>inc_group1_9</th>\n",
       "      <th>inc_group2_9</th>\n",
       "      <th>inc_group3_9</th>\n",
       "      <th>inc_group4_9</th>\n",
       "      <th>inc_group5_9</th>\n",
       "      <th>inc_group6_9</th>\n",
       "      <th>entropy_index_9</th>\n",
       "    </tr>\n",
       "  </thead>\n",
       "  <tbody>\n",
       "    <tr>\n",
       "      <th>1</th>\n",
       "      <td>36005000200</td>\n",
       "      <td>133</td>\n",
       "      <td>177</td>\n",
       "      <td>32</td>\n",
       "      <td>31</td>\n",
       "      <td>84</td>\n",
       "      <td>257</td>\n",
       "      <td>0.867149</td>\n",
       "    </tr>\n",
       "    <tr>\n",
       "      <th>2</th>\n",
       "      <td>36005000400</td>\n",
       "      <td>89</td>\n",
       "      <td>101</td>\n",
       "      <td>50</td>\n",
       "      <td>50</td>\n",
       "      <td>89</td>\n",
       "      <td>221</td>\n",
       "      <td>0.919819</td>\n",
       "    </tr>\n",
       "    <tr>\n",
       "      <th>3</th>\n",
       "      <td>36005001600</td>\n",
       "      <td>353</td>\n",
       "      <td>381</td>\n",
       "      <td>165</td>\n",
       "      <td>39</td>\n",
       "      <td>161</td>\n",
       "      <td>195</td>\n",
       "      <td>0.908063</td>\n",
       "    </tr>\n",
       "    <tr>\n",
       "      <th>4</th>\n",
       "      <td>36005001900</td>\n",
       "      <td>175</td>\n",
       "      <td>42</td>\n",
       "      <td>0</td>\n",
       "      <td>0</td>\n",
       "      <td>67</td>\n",
       "      <td>36</td>\n",
       "      <td>0.652853</td>\n",
       "    </tr>\n",
       "    <tr>\n",
       "      <th>5</th>\n",
       "      <td>36005002000</td>\n",
       "      <td>1074</td>\n",
       "      <td>450</td>\n",
       "      <td>131</td>\n",
       "      <td>95</td>\n",
       "      <td>203</td>\n",
       "      <td>303</td>\n",
       "      <td>0.814774</td>\n",
       "    </tr>\n",
       "  </tbody>\n",
       "</table>\n",
       "</div>"
      ],
      "text/plain": [
       "   census_tract  inc_group1_9  inc_group2_9  inc_group3_9  inc_group4_9  \\\n",
       "1   36005000200           133           177            32            31   \n",
       "2   36005000400            89           101            50            50   \n",
       "3   36005001600           353           381           165            39   \n",
       "4   36005001900           175            42             0             0   \n",
       "5   36005002000          1074           450           131            95   \n",
       "\n",
       "   inc_group5_9  inc_group6_9  entropy_index_9  \n",
       "1            84           257         0.867149  \n",
       "2            89           221         0.919819  \n",
       "3           161           195         0.908063  \n",
       "4            67            36         0.652853  \n",
       "5           203           303         0.814774  "
      ]
     },
     "execution_count": 29,
     "metadata": {},
     "output_type": "execute_result"
    }
   ],
   "source": [
    "df_inc_div_9.head()"
   ]
  },
  {
   "cell_type": "code",
   "execution_count": 30,
   "metadata": {
    "collapsed": false
   },
   "outputs": [
    {
     "data": {
      "text/html": [
       "<div>\n",
       "<table border=\"1\" class=\"dataframe\">\n",
       "  <thead>\n",
       "    <tr style=\"text-align: right;\">\n",
       "      <th></th>\n",
       "      <th>census_tract</th>\n",
       "      <th>inc_group1_0</th>\n",
       "      <th>inc_group2_0</th>\n",
       "      <th>inc_group3_0</th>\n",
       "      <th>inc_group4_0</th>\n",
       "      <th>inc_group5_0</th>\n",
       "      <th>inc_group6_0</th>\n",
       "      <th>entropy_index_0</th>\n",
       "    </tr>\n",
       "  </thead>\n",
       "  <tbody>\n",
       "    <tr>\n",
       "      <th>1</th>\n",
       "      <td>36005000200</td>\n",
       "      <td>203</td>\n",
       "      <td>94</td>\n",
       "      <td>60</td>\n",
       "      <td>69</td>\n",
       "      <td>72</td>\n",
       "      <td>369</td>\n",
       "      <td>0.857971</td>\n",
       "    </tr>\n",
       "    <tr>\n",
       "      <th>2</th>\n",
       "      <td>36005000400</td>\n",
       "      <td>150</td>\n",
       "      <td>191</td>\n",
       "      <td>65</td>\n",
       "      <td>70</td>\n",
       "      <td>84</td>\n",
       "      <td>267</td>\n",
       "      <td>0.923299</td>\n",
       "    </tr>\n",
       "    <tr>\n",
       "      <th>3</th>\n",
       "      <td>36005001600</td>\n",
       "      <td>414</td>\n",
       "      <td>303</td>\n",
       "      <td>97</td>\n",
       "      <td>185</td>\n",
       "      <td>92</td>\n",
       "      <td>242</td>\n",
       "      <td>0.925875</td>\n",
       "    </tr>\n",
       "    <tr>\n",
       "      <th>4</th>\n",
       "      <td>36005001900</td>\n",
       "      <td>87</td>\n",
       "      <td>90</td>\n",
       "      <td>9</td>\n",
       "      <td>16</td>\n",
       "      <td>30</td>\n",
       "      <td>21</td>\n",
       "      <td>0.830158</td>\n",
       "    </tr>\n",
       "    <tr>\n",
       "      <th>5</th>\n",
       "      <td>36005002000</td>\n",
       "      <td>1168</td>\n",
       "      <td>523</td>\n",
       "      <td>133</td>\n",
       "      <td>83</td>\n",
       "      <td>201</td>\n",
       "      <td>217</td>\n",
       "      <td>0.779722</td>\n",
       "    </tr>\n",
       "  </tbody>\n",
       "</table>\n",
       "</div>"
      ],
      "text/plain": [
       "   census_tract  inc_group1_0  inc_group2_0  inc_group3_0  inc_group4_0  \\\n",
       "1   36005000200           203            94            60            69   \n",
       "2   36005000400           150           191            65            70   \n",
       "3   36005001600           414           303            97           185   \n",
       "4   36005001900            87            90             9            16   \n",
       "5   36005002000          1168           523           133            83   \n",
       "\n",
       "   inc_group5_0  inc_group6_0  entropy_index_0  \n",
       "1            72           369         0.857971  \n",
       "2            84           267         0.923299  \n",
       "3            92           242         0.925875  \n",
       "4            30            21         0.830158  \n",
       "5           201           217         0.779722  "
      ]
     },
     "execution_count": 30,
     "metadata": {},
     "output_type": "execute_result"
    }
   ],
   "source": [
    "df_inc_div_0.head()"
   ]
  },
  {
   "cell_type": "code",
   "execution_count": 31,
   "metadata": {
    "collapsed": false
   },
   "outputs": [
    {
     "data": {
      "text/html": [
       "<div>\n",
       "<table border=\"1\" class=\"dataframe\">\n",
       "  <thead>\n",
       "    <tr style=\"text-align: right;\">\n",
       "      <th></th>\n",
       "      <th>census_tract</th>\n",
       "      <th>inc_group1_1</th>\n",
       "      <th>inc_group2_1</th>\n",
       "      <th>inc_group3_1</th>\n",
       "      <th>inc_group4_1</th>\n",
       "      <th>inc_group5_1</th>\n",
       "      <th>inc_group6_1</th>\n",
       "      <th>entropy_index_1</th>\n",
       "    </tr>\n",
       "  </thead>\n",
       "  <tbody>\n",
       "    <tr>\n",
       "      <th>1</th>\n",
       "      <td>36005000200</td>\n",
       "      <td>210</td>\n",
       "      <td>240</td>\n",
       "      <td>101</td>\n",
       "      <td>49</td>\n",
       "      <td>136</td>\n",
       "      <td>319</td>\n",
       "      <td>0.921479</td>\n",
       "    </tr>\n",
       "    <tr>\n",
       "      <th>2</th>\n",
       "      <td>36005000400</td>\n",
       "      <td>169</td>\n",
       "      <td>157</td>\n",
       "      <td>227</td>\n",
       "      <td>79</td>\n",
       "      <td>206</td>\n",
       "      <td>386</td>\n",
       "      <td>0.943208</td>\n",
       "    </tr>\n",
       "    <tr>\n",
       "      <th>3</th>\n",
       "      <td>36005001600</td>\n",
       "      <td>598</td>\n",
       "      <td>301</td>\n",
       "      <td>143</td>\n",
       "      <td>167</td>\n",
       "      <td>129</td>\n",
       "      <td>69</td>\n",
       "      <td>0.862742</td>\n",
       "    </tr>\n",
       "    <tr>\n",
       "      <th>4</th>\n",
       "      <td>36005001900</td>\n",
       "      <td>233</td>\n",
       "      <td>61</td>\n",
       "      <td>22</td>\n",
       "      <td>16</td>\n",
       "      <td>12</td>\n",
       "      <td>30</td>\n",
       "      <td>0.672415</td>\n",
       "    </tr>\n",
       "    <tr>\n",
       "      <th>5</th>\n",
       "      <td>36005002000</td>\n",
       "      <td>966</td>\n",
       "      <td>427</td>\n",
       "      <td>257</td>\n",
       "      <td>63</td>\n",
       "      <td>103</td>\n",
       "      <td>218</td>\n",
       "      <td>0.804094</td>\n",
       "    </tr>\n",
       "  </tbody>\n",
       "</table>\n",
       "</div>"
      ],
      "text/plain": [
       "   census_tract  inc_group1_1  inc_group2_1  inc_group3_1  inc_group4_1  \\\n",
       "1   36005000200           210           240           101            49   \n",
       "2   36005000400           169           157           227            79   \n",
       "3   36005001600           598           301           143           167   \n",
       "4   36005001900           233            61            22            16   \n",
       "5   36005002000           966           427           257            63   \n",
       "\n",
       "   inc_group5_1  inc_group6_1  entropy_index_1  \n",
       "1           136           319         0.921479  \n",
       "2           206           386         0.943208  \n",
       "3           129            69         0.862742  \n",
       "4            12            30         0.672415  \n",
       "5           103           218         0.804094  "
      ]
     },
     "execution_count": 31,
     "metadata": {},
     "output_type": "execute_result"
    }
   ],
   "source": [
    "df_inc_div_1.head()"
   ]
  },
  {
   "cell_type": "code",
   "execution_count": 32,
   "metadata": {
    "collapsed": false
   },
   "outputs": [],
   "source": [
    "df_entropy = df_inc_div_9[['census_tract','entropy_index_9']].merge\\\n",
    "            (df_inc_div_0[['census_tract','entropy_index_0']],on = 'census_tract').merge\\\n",
    "            (df_inc_div_1[['census_tract','entropy_index_1']],on = 'census_tract')"
   ]
  },
  {
   "cell_type": "code",
   "execution_count": 33,
   "metadata": {
    "collapsed": false
   },
   "outputs": [
    {
     "data": {
      "text/html": [
       "<div>\n",
       "<table border=\"1\" class=\"dataframe\">\n",
       "  <thead>\n",
       "    <tr style=\"text-align: right;\">\n",
       "      <th></th>\n",
       "      <th>tract</th>\n",
       "      <th>entropy_index_9</th>\n",
       "      <th>entropy_index_0</th>\n",
       "      <th>entropy_index_1</th>\n",
       "    </tr>\n",
       "  </thead>\n",
       "  <tbody>\n",
       "    <tr>\n",
       "      <th>0</th>\n",
       "      <td>36005000200</td>\n",
       "      <td>0.867149</td>\n",
       "      <td>0.857971</td>\n",
       "      <td>0.921479</td>\n",
       "    </tr>\n",
       "    <tr>\n",
       "      <th>1</th>\n",
       "      <td>36005000400</td>\n",
       "      <td>0.919819</td>\n",
       "      <td>0.923299</td>\n",
       "      <td>0.943208</td>\n",
       "    </tr>\n",
       "    <tr>\n",
       "      <th>2</th>\n",
       "      <td>36005001600</td>\n",
       "      <td>0.908063</td>\n",
       "      <td>0.925875</td>\n",
       "      <td>0.862742</td>\n",
       "    </tr>\n",
       "    <tr>\n",
       "      <th>3</th>\n",
       "      <td>36005001900</td>\n",
       "      <td>0.652853</td>\n",
       "      <td>0.830158</td>\n",
       "      <td>0.672415</td>\n",
       "    </tr>\n",
       "    <tr>\n",
       "      <th>4</th>\n",
       "      <td>36005002000</td>\n",
       "      <td>0.814774</td>\n",
       "      <td>0.779722</td>\n",
       "      <td>0.804094</td>\n",
       "    </tr>\n",
       "  </tbody>\n",
       "</table>\n",
       "</div>"
      ],
      "text/plain": [
       "         tract  entropy_index_9  entropy_index_0  entropy_index_1\n",
       "0  36005000200         0.867149         0.857971         0.921479\n",
       "1  36005000400         0.919819         0.923299         0.943208\n",
       "2  36005001600         0.908063         0.925875         0.862742\n",
       "3  36005001900         0.652853         0.830158         0.672415\n",
       "4  36005002000         0.814774         0.779722         0.804094"
      ]
     },
     "execution_count": 33,
     "metadata": {},
     "output_type": "execute_result"
    }
   ],
   "source": [
    "df_entropy.rename(columns = {'census_tract':'tract'}, inplace = True)\n",
    "df_entropy.head()"
   ]
  },
  {
   "cell_type": "code",
   "execution_count": 34,
   "metadata": {
    "collapsed": false
   },
   "outputs": [
    {
     "data": {
      "text/plain": [
       "(2089, 4)"
      ]
     },
     "execution_count": 34,
     "metadata": {},
     "output_type": "execute_result"
    }
   ],
   "source": [
    "df_entropy.shape"
   ]
  },
  {
   "cell_type": "markdown",
   "metadata": {},
   "source": [
    "### Drop abnormal observations with 0 entropy index "
   ]
  },
  {
   "cell_type": "code",
   "execution_count": 35,
   "metadata": {
    "collapsed": false
   },
   "outputs": [
    {
     "data": {
      "text/html": [
       "<div>\n",
       "<table border=\"1\" class=\"dataframe\">\n",
       "  <thead>\n",
       "    <tr style=\"text-align: right;\">\n",
       "      <th></th>\n",
       "      <th>tract</th>\n",
       "      <th>entropy_index_9</th>\n",
       "      <th>entropy_index_0</th>\n",
       "      <th>entropy_index_1</th>\n",
       "    </tr>\n",
       "  </thead>\n",
       "  <tbody>\n",
       "    <tr>\n",
       "      <th>199</th>\n",
       "      <td>36005028400</td>\n",
       "      <td>0.510195</td>\n",
       "      <td>0.515133</td>\n",
       "      <td>0.000000</td>\n",
       "    </tr>\n",
       "    <tr>\n",
       "      <th>227</th>\n",
       "      <td>36005033400</td>\n",
       "      <td>0.000000</td>\n",
       "      <td>0.786653</td>\n",
       "      <td>0.695727</td>\n",
       "    </tr>\n",
       "    <tr>\n",
       "      <th>616</th>\n",
       "      <td>36047035200</td>\n",
       "      <td>0.191867</td>\n",
       "      <td>0.353255</td>\n",
       "      <td>0.000000</td>\n",
       "    </tr>\n",
       "    <tr>\n",
       "      <th>1075</th>\n",
       "      <td>36061000700</td>\n",
       "      <td>0.000000</td>\n",
       "      <td>0.236457</td>\n",
       "      <td>0.438493</td>\n",
       "    </tr>\n",
       "    <tr>\n",
       "      <th>1077</th>\n",
       "      <td>36061000900</td>\n",
       "      <td>0.595489</td>\n",
       "      <td>0.167534</td>\n",
       "      <td>0.000000</td>\n",
       "    </tr>\n",
       "    <tr>\n",
       "      <th>1101</th>\n",
       "      <td>36061003100</td>\n",
       "      <td>0.000000</td>\n",
       "      <td>0.515210</td>\n",
       "      <td>0.684005</td>\n",
       "    </tr>\n",
       "    <tr>\n",
       "      <th>1167</th>\n",
       "      <td>36061010100</td>\n",
       "      <td>0.557739</td>\n",
       "      <td>0.000000</td>\n",
       "      <td>0.595811</td>\n",
       "    </tr>\n",
       "    <tr>\n",
       "      <th>1174</th>\n",
       "      <td>36061010900</td>\n",
       "      <td>0.362352</td>\n",
       "      <td>0.377228</td>\n",
       "      <td>0.000000</td>\n",
       "    </tr>\n",
       "    <tr>\n",
       "      <th>1185</th>\n",
       "      <td>36061011900</td>\n",
       "      <td>0.610726</td>\n",
       "      <td>0.800328</td>\n",
       "      <td>0.000000</td>\n",
       "    </tr>\n",
       "    <tr>\n",
       "      <th>1267</th>\n",
       "      <td>36061019701</td>\n",
       "      <td>0.000000</td>\n",
       "      <td>0.000000</td>\n",
       "      <td>0.461470</td>\n",
       "    </tr>\n",
       "    <tr>\n",
       "      <th>1347</th>\n",
       "      <td>36081000100</td>\n",
       "      <td>0.000000</td>\n",
       "      <td>0.589324</td>\n",
       "      <td>0.468375</td>\n",
       "    </tr>\n",
       "    <tr>\n",
       "      <th>1592</th>\n",
       "      <td>36081038302</td>\n",
       "      <td>0.000000</td>\n",
       "      <td>0.751012</td>\n",
       "      <td>0.386853</td>\n",
       "    </tr>\n",
       "  </tbody>\n",
       "</table>\n",
       "</div>"
      ],
      "text/plain": [
       "            tract  entropy_index_9  entropy_index_0  entropy_index_1\n",
       "199   36005028400         0.510195         0.515133         0.000000\n",
       "227   36005033400         0.000000         0.786653         0.695727\n",
       "616   36047035200         0.191867         0.353255         0.000000\n",
       "1075  36061000700         0.000000         0.236457         0.438493\n",
       "1077  36061000900         0.595489         0.167534         0.000000\n",
       "1101  36061003100         0.000000         0.515210         0.684005\n",
       "1167  36061010100         0.557739         0.000000         0.595811\n",
       "1174  36061010900         0.362352         0.377228         0.000000\n",
       "1185  36061011900         0.610726         0.800328         0.000000\n",
       "1267  36061019701         0.000000         0.000000         0.461470\n",
       "1347  36081000100         0.000000         0.589324         0.468375\n",
       "1592  36081038302         0.000000         0.751012         0.386853"
      ]
     },
     "execution_count": 35,
     "metadata": {},
     "output_type": "execute_result"
    }
   ],
   "source": [
    "df_entropy[((df_entropy.entropy_index_9 == 0)| (df_entropy.entropy_index_0 == 0)|\\\n",
    "                          (df_entropy.entropy_index_1 == 0))]"
   ]
  },
  {
   "cell_type": "code",
   "execution_count": 36,
   "metadata": {
    "collapsed": false
   },
   "outputs": [
    {
     "data": {
      "text/plain": [
       "(2077, 4)"
      ]
     },
     "execution_count": 36,
     "metadata": {},
     "output_type": "execute_result"
    }
   ],
   "source": [
    "df_entropy = df_entropy[~((df_entropy.entropy_index_9 == 0)| (df_entropy.entropy_index_0 == 0)|\\\n",
    "                          (df_entropy.entropy_index_1 == 0))]\n",
    "\n",
    "df_entropy.shape"
   ]
  },
  {
   "cell_type": "markdown",
   "metadata": {},
   "source": [
    "## 3) Create the dataset for analysis on census tracts"
   ]
  },
  {
   "cell_type": "code",
   "execution_count": 37,
   "metadata": {
    "collapsed": true
   },
   "outputs": [],
   "source": [
    "df_census = df_entropy.merge(df_inc_rent, on = 'tract', how = 'left')"
   ]
  },
  {
   "cell_type": "code",
   "execution_count": 38,
   "metadata": {
    "collapsed": false
   },
   "outputs": [
    {
     "data": {
      "text/html": [
       "<div>\n",
       "<table border=\"1\" class=\"dataframe\">\n",
       "  <thead>\n",
       "    <tr style=\"text-align: right;\">\n",
       "      <th></th>\n",
       "      <th>tract</th>\n",
       "      <th>entropy_index_9</th>\n",
       "      <th>entropy_index_0</th>\n",
       "      <th>entropy_index_1</th>\n",
       "      <th>inc_9</th>\n",
       "      <th>rent_9</th>\n",
       "      <th>inc_0</th>\n",
       "      <th>rent_0</th>\n",
       "      <th>inc_1</th>\n",
       "      <th>rent_1</th>\n",
       "      <th>ratio_rent_inc_9</th>\n",
       "      <th>ratio_rent_inc_0</th>\n",
       "      <th>ratio_rent_inc_1</th>\n",
       "    </tr>\n",
       "  </thead>\n",
       "  <tbody>\n",
       "    <tr>\n",
       "      <th>0</th>\n",
       "      <td>36005000200</td>\n",
       "      <td>0.867149</td>\n",
       "      <td>0.857971</td>\n",
       "      <td>0.921479</td>\n",
       "      <td>38711</td>\n",
       "      <td>742</td>\n",
       "      <td>50817</td>\n",
       "      <td>730</td>\n",
       "      <td>58368</td>\n",
       "      <td>1273</td>\n",
       "      <td>0.230012</td>\n",
       "      <td>0.172383</td>\n",
       "      <td>0.261719</td>\n",
       "    </tr>\n",
       "    <tr>\n",
       "      <th>1</th>\n",
       "      <td>36005000400</td>\n",
       "      <td>0.919819</td>\n",
       "      <td>0.923299</td>\n",
       "      <td>0.943208</td>\n",
       "      <td>40484</td>\n",
       "      <td>535</td>\n",
       "      <td>41019</td>\n",
       "      <td>643</td>\n",
       "      <td>73148</td>\n",
       "      <td>1330</td>\n",
       "      <td>0.158581</td>\n",
       "      <td>0.188108</td>\n",
       "      <td>0.218188</td>\n",
       "    </tr>\n",
       "    <tr>\n",
       "      <th>2</th>\n",
       "      <td>36005001600</td>\n",
       "      <td>0.908063</td>\n",
       "      <td>0.925875</td>\n",
       "      <td>0.862742</td>\n",
       "      <td>24732</td>\n",
       "      <td>466</td>\n",
       "      <td>30104</td>\n",
       "      <td>558</td>\n",
       "      <td>33555</td>\n",
       "      <td>823</td>\n",
       "      <td>0.226104</td>\n",
       "      <td>0.222429</td>\n",
       "      <td>0.294323</td>\n",
       "    </tr>\n",
       "    <tr>\n",
       "      <th>3</th>\n",
       "      <td>36005001900</td>\n",
       "      <td>0.652853</td>\n",
       "      <td>0.830158</td>\n",
       "      <td>0.672415</td>\n",
       "      <td>24823</td>\n",
       "      <td>422</td>\n",
       "      <td>23671</td>\n",
       "      <td>461</td>\n",
       "      <td>25489</td>\n",
       "      <td>870</td>\n",
       "      <td>0.204004</td>\n",
       "      <td>0.233704</td>\n",
       "      <td>0.409588</td>\n",
       "    </tr>\n",
       "    <tr>\n",
       "      <th>4</th>\n",
       "      <td>36005002000</td>\n",
       "      <td>0.814774</td>\n",
       "      <td>0.779722</td>\n",
       "      <td>0.804094</td>\n",
       "      <td>18762</td>\n",
       "      <td>298</td>\n",
       "      <td>19694</td>\n",
       "      <td>266</td>\n",
       "      <td>30817</td>\n",
       "      <td>455</td>\n",
       "      <td>0.190598</td>\n",
       "      <td>0.162080</td>\n",
       "      <td>0.177175</td>\n",
       "    </tr>\n",
       "  </tbody>\n",
       "</table>\n",
       "</div>"
      ],
      "text/plain": [
       "         tract  entropy_index_9  entropy_index_0  entropy_index_1  inc_9  \\\n",
       "0  36005000200         0.867149         0.857971         0.921479  38711   \n",
       "1  36005000400         0.919819         0.923299         0.943208  40484   \n",
       "2  36005001600         0.908063         0.925875         0.862742  24732   \n",
       "3  36005001900         0.652853         0.830158         0.672415  24823   \n",
       "4  36005002000         0.814774         0.779722         0.804094  18762   \n",
       "\n",
       "   rent_9  inc_0  rent_0  inc_1  rent_1  ratio_rent_inc_9  ratio_rent_inc_0  \\\n",
       "0     742  50817     730  58368    1273          0.230012          0.172383   \n",
       "1     535  41019     643  73148    1330          0.158581          0.188108   \n",
       "2     466  30104     558  33555     823          0.226104          0.222429   \n",
       "3     422  23671     461  25489     870          0.204004          0.233704   \n",
       "4     298  19694     266  30817     455          0.190598          0.162080   \n",
       "\n",
       "   ratio_rent_inc_1  \n",
       "0          0.261719  \n",
       "1          0.218188  \n",
       "2          0.294323  \n",
       "3          0.409588  \n",
       "4          0.177175  "
      ]
     },
     "execution_count": 38,
     "metadata": {},
     "output_type": "execute_result"
    }
   ],
   "source": [
    "df_census.head()"
   ]
  },
  {
   "cell_type": "code",
   "execution_count": 39,
   "metadata": {
    "collapsed": false
   },
   "outputs": [
    {
     "data": {
      "text/plain": [
       "(2077, 13)"
      ]
     },
     "execution_count": 39,
     "metadata": {},
     "output_type": "execute_result"
    }
   ],
   "source": [
    "df_census.shape"
   ]
  },
  {
   "cell_type": "code",
   "execution_count": 40,
   "metadata": {
    "collapsed": false
   },
   "outputs": [
    {
     "data": {
      "text/plain": [
       "Index(['tract', 'entropy_index_9', 'entropy_index_0', 'entropy_index_1',\n",
       "       'inc_9', 'rent_9', 'inc_0', 'rent_0', 'inc_1', 'rent_1',\n",
       "       'ratio_rent_inc_9', 'ratio_rent_inc_0', 'ratio_rent_inc_1'],\n",
       "      dtype='object')"
      ]
     },
     "execution_count": 40,
     "metadata": {},
     "output_type": "execute_result"
    }
   ],
   "source": [
    "df_census.columns"
   ]
  },
  {
   "cell_type": "code",
   "execution_count": 41,
   "metadata": {
    "collapsed": true
   },
   "outputs": [],
   "source": [
    "df_census.to_csv('civic_census.csv')"
   ]
  },
  {
   "cell_type": "code",
   "execution_count": null,
   "metadata": {
    "collapsed": true
   },
   "outputs": [],
   "source": []
  }
 ],
 "metadata": {
  "kernelspec": {
   "display_name": "Python 3",
   "language": "python",
   "name": "python3"
  },
  "language_info": {
   "codemirror_mode": {
    "name": "ipython",
    "version": 3
   },
   "file_extension": ".py",
   "mimetype": "text/x-python",
   "name": "python",
   "nbconvert_exporter": "python",
   "pygments_lexer": "ipython3",
   "version": "3.6.0"
  }
 },
 "nbformat": 4,
 "nbformat_minor": 2
}
