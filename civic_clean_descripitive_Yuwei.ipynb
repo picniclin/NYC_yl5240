{
 "cells": [
  {
   "cell_type": "code",
   "execution_count": 1,
   "metadata": {
    "collapsed": true
   },
   "outputs": [],
   "source": [
    "import pandas as pd\n",
    "import numpy as np\n",
    "import matplotlib.pylab as plt\n",
    "%matplotlib inline\n",
    "import statsmodels.formula.api as smf"
   ]
  },
  {
   "cell_type": "markdown",
   "metadata": {},
   "source": [
    "## Data source is from Geolytics: Neighborhood Change Database (NACD) (http://demographics.geolytics.com/ncdb2010/default.aspx)\n",
    "\n",
    "### the original dataset from the database(geolytics_nyc_census_1990_2010.csv) and the deliverables of this notebook has been uploaded on  https://github.com/picniclin/NYC_yl5240/tree/master/data"
   ]
  },
  {
   "cell_type": "code",
   "execution_count": 2,
   "metadata": {
    "collapsed": true
   },
   "outputs": [],
   "source": [
    "df = pd.read_csv('geolytics_nyc_census_1990_2010.csv')"
   ]
  },
  {
   "cell_type": "code",
   "execution_count": 3,
   "metadata": {
    "collapsed": false
   },
   "outputs": [
    {
     "data": {
      "text/plain": [
       "(2168, 111)"
      ]
     },
     "execution_count": 3,
     "metadata": {},
     "output_type": "execute_result"
    }
   ],
   "source": [
    "df.shape"
   ]
  },
  {
   "cell_type": "code",
   "execution_count": 4,
   "metadata": {
    "collapsed": true
   },
   "outputs": [],
   "source": [
    "# list(df.columns)"
   ]
  },
  {
   "cell_type": "code",
   "execution_count": 5,
   "metadata": {
    "collapsed": false
   },
   "outputs": [],
   "source": [
    "cols = df.columns.str.replace('TRCTPOP', 'pop')\\\n",
    "            .str.replace('MDFAMY','median_fam_inc_')\\\n",
    "            .str.replace('FAVINC', 'ave_fam_inc_')\\\n",
    "            .str.replace('MDHHY', 'median_hh_inc_')\\\n",
    "            .str.replace('AVHHIN', 'ave_hh_inc_')\\\n",
    "            .str.replace('FALTY', 'fam_inc_')\\\n",
    "            .str.replace('FALT', 'fam_inc_')\\\n",
    "            .str.replace('MXB', 'max_')\\\n",
    "            .str.replace('FAY0', 'fam_inc_')\\\n",
    "            .str.replace('fam_inc_M', 'fam_inc_max_')\\\n",
    "            .str.replace('THY0', 'hh_inc_' )\\\n",
    "            .str.replace('hh_inc_M', 'hh_inc_max_')\\\n",
    "            .str.replace('MDVALHS','median_house_value_')\\\n",
    "            .str.replace('MDGRENT', 'median_rent_' )\\\n",
    "            .str.replace('1A', '1')\\\n",
    "            .str.replace('9A', '9')\\\n",
    "            .str.replace('RNTOCC', 'rent_units_')\n",
    "\n",
    "df.columns = cols\n",
    "\n",
    "df.rename(columns = {'AREAKEY' : 'census_tract','INTPTLAT':'lat', 'INTPTLON':'lon'}, \n",
    "          inplace = True)"
   ]
  },
  {
   "cell_type": "code",
   "execution_count": 6,
   "metadata": {
    "collapsed": false,
    "scrolled": true
   },
   "outputs": [
    {
     "data": {
      "text/html": [
       "<div>\n",
       "<table border=\"1\" class=\"dataframe\">\n",
       "  <thead>\n",
       "    <tr style=\"text-align: right;\">\n",
       "      <th></th>\n",
       "      <th>census_tract</th>\n",
       "      <th>lat</th>\n",
       "      <th>lon</th>\n",
       "      <th>ZCTA5</th>\n",
       "      <th>pop9</th>\n",
       "      <th>ave_fam_inc_9</th>\n",
       "      <th>median_fam_inc_9</th>\n",
       "      <th>fam_inc_59</th>\n",
       "      <th>fam_inc_109</th>\n",
       "      <th>fam_inc_139</th>\n",
       "      <th>...</th>\n",
       "      <th>hh_inc_1251</th>\n",
       "      <th>hh_inc_1501</th>\n",
       "      <th>hh_inc_2001</th>\n",
       "      <th>hh_inc_max_201</th>\n",
       "      <th>median_hh_inc_1</th>\n",
       "      <th>median_house_value_1</th>\n",
       "      <th>median_rent_1</th>\n",
       "      <th>rent_units_9</th>\n",
       "      <th>rent_units_0</th>\n",
       "      <th>rent_units_1</th>\n",
       "    </tr>\n",
       "  </thead>\n",
       "  <tbody>\n",
       "    <tr>\n",
       "      <th>0</th>\n",
       "      <td>36005000100</td>\n",
       "      <td>40.793492</td>\n",
       "      <td>-73.883532</td>\n",
       "      <td>11370.0</td>\n",
       "      <td>14303</td>\n",
       "      <td>0.00000</td>\n",
       "      <td>0</td>\n",
       "      <td>0</td>\n",
       "      <td>0</td>\n",
       "      <td>0</td>\n",
       "      <td>...</td>\n",
       "      <td>0</td>\n",
       "      <td>0</td>\n",
       "      <td>0</td>\n",
       "      <td>0</td>\n",
       "      <td>0</td>\n",
       "      <td>0</td>\n",
       "      <td>0</td>\n",
       "      <td>0</td>\n",
       "      <td>0</td>\n",
       "      <td>0</td>\n",
       "    </tr>\n",
       "    <tr>\n",
       "      <th>1</th>\n",
       "      <td>36005000200</td>\n",
       "      <td>40.804573</td>\n",
       "      <td>-73.856859</td>\n",
       "      <td>10473.0</td>\n",
       "      <td>2907</td>\n",
       "      <td>45267.28710</td>\n",
       "      <td>38711</td>\n",
       "      <td>31</td>\n",
       "      <td>29</td>\n",
       "      <td>29</td>\n",
       "      <td>...</td>\n",
       "      <td>203</td>\n",
       "      <td>48</td>\n",
       "      <td>68</td>\n",
       "      <td>11</td>\n",
       "      <td>59826</td>\n",
       "      <td>392500</td>\n",
       "      <td>1273</td>\n",
       "      <td>384</td>\n",
       "      <td>421</td>\n",
       "      <td>635</td>\n",
       "    </tr>\n",
       "    <tr>\n",
       "      <th>2</th>\n",
       "      <td>36005000400</td>\n",
       "      <td>40.808915</td>\n",
       "      <td>-73.850488</td>\n",
       "      <td>10473.0</td>\n",
       "      <td>2260</td>\n",
       "      <td>43694.20068</td>\n",
       "      <td>40484</td>\n",
       "      <td>15</td>\n",
       "      <td>19</td>\n",
       "      <td>24</td>\n",
       "      <td>...</td>\n",
       "      <td>97</td>\n",
       "      <td>161</td>\n",
       "      <td>96</td>\n",
       "      <td>73</td>\n",
       "      <td>71968</td>\n",
       "      <td>393700</td>\n",
       "      <td>1330</td>\n",
       "      <td>214</td>\n",
       "      <td>486</td>\n",
       "      <td>615</td>\n",
       "    </tr>\n",
       "    <tr>\n",
       "      <th>3</th>\n",
       "      <td>36005001600</td>\n",
       "      <td>40.818848</td>\n",
       "      <td>-73.858076</td>\n",
       "      <td>10473.0</td>\n",
       "      <td>5254</td>\n",
       "      <td>30042.84776</td>\n",
       "      <td>24732</td>\n",
       "      <td>61</td>\n",
       "      <td>142</td>\n",
       "      <td>53</td>\n",
       "      <td>...</td>\n",
       "      <td>20</td>\n",
       "      <td>38</td>\n",
       "      <td>20</td>\n",
       "      <td>0</td>\n",
       "      <td>30355</td>\n",
       "      <td>378100</td>\n",
       "      <td>823</td>\n",
       "      <td>1462</td>\n",
       "      <td>1517</td>\n",
       "      <td>1617</td>\n",
       "    </tr>\n",
       "    <tr>\n",
       "      <th>4</th>\n",
       "      <td>36005001900</td>\n",
       "      <td>40.800999</td>\n",
       "      <td>-73.909373</td>\n",
       "      <td>10454.0</td>\n",
       "      <td>1575</td>\n",
       "      <td>23377.47813</td>\n",
       "      <td>24823</td>\n",
       "      <td>76</td>\n",
       "      <td>50</td>\n",
       "      <td>0</td>\n",
       "      <td>...</td>\n",
       "      <td>19</td>\n",
       "      <td>21</td>\n",
       "      <td>0</td>\n",
       "      <td>0</td>\n",
       "      <td>25093</td>\n",
       "      <td>0</td>\n",
       "      <td>870</td>\n",
       "      <td>357</td>\n",
       "      <td>336</td>\n",
       "      <td>505</td>\n",
       "    </tr>\n",
       "  </tbody>\n",
       "</table>\n",
       "<p>5 rows × 111 columns</p>\n",
       "</div>"
      ],
      "text/plain": [
       "   census_tract        lat        lon    ZCTA5   pop9  ave_fam_inc_9  \\\n",
       "0   36005000100  40.793492 -73.883532  11370.0  14303        0.00000   \n",
       "1   36005000200  40.804573 -73.856859  10473.0   2907    45267.28710   \n",
       "2   36005000400  40.808915 -73.850488  10473.0   2260    43694.20068   \n",
       "3   36005001600  40.818848 -73.858076  10473.0   5254    30042.84776   \n",
       "4   36005001900  40.800999 -73.909373  10454.0   1575    23377.47813   \n",
       "\n",
       "   median_fam_inc_9  fam_inc_59  fam_inc_109  fam_inc_139      ...       \\\n",
       "0                 0           0            0            0      ...        \n",
       "1             38711          31           29           29      ...        \n",
       "2             40484          15           19           24      ...        \n",
       "3             24732          61          142           53      ...        \n",
       "4             24823          76           50            0      ...        \n",
       "\n",
       "   hh_inc_1251  hh_inc_1501  hh_inc_2001  hh_inc_max_201  median_hh_inc_1  \\\n",
       "0            0            0            0               0                0   \n",
       "1          203           48           68              11            59826   \n",
       "2           97          161           96              73            71968   \n",
       "3           20           38           20               0            30355   \n",
       "4           19           21            0               0            25093   \n",
       "\n",
       "   median_house_value_1  median_rent_1  rent_units_9  rent_units_0  \\\n",
       "0                     0              0             0             0   \n",
       "1                392500           1273           384           421   \n",
       "2                393700           1330           214           486   \n",
       "3                378100            823          1462          1517   \n",
       "4                     0            870           357           336   \n",
       "\n",
       "   rent_units_1  \n",
       "0             0  \n",
       "1           635  \n",
       "2           615  \n",
       "3          1617  \n",
       "4           505  \n",
       "\n",
       "[5 rows x 111 columns]"
      ]
     },
     "execution_count": 6,
     "metadata": {},
     "output_type": "execute_result"
    }
   ],
   "source": [
    "df.head()"
   ]
  },
  {
   "cell_type": "code",
   "execution_count": 7,
   "metadata": {
    "collapsed": false
   },
   "outputs": [
    {
     "data": {
      "text/plain": [
       "(2168, 111)"
      ]
     },
     "execution_count": 7,
     "metadata": {},
     "output_type": "execute_result"
    }
   ],
   "source": [
    "df.shape"
   ]
  },
  {
   "cell_type": "code",
   "execution_count": 8,
   "metadata": {
    "collapsed": false
   },
   "outputs": [
    {
     "data": {
      "text/html": [
       "<div>\n",
       "<table border=\"1\" class=\"dataframe\">\n",
       "  <thead>\n",
       "    <tr style=\"text-align: right;\">\n",
       "      <th></th>\n",
       "      <th>census_tract</th>\n",
       "      <th>lat</th>\n",
       "      <th>lon</th>\n",
       "      <th>ZCTA5</th>\n",
       "      <th>pop9</th>\n",
       "      <th>median_fam_inc_9</th>\n",
       "      <th>median_hh_inc_9</th>\n",
       "      <th>median_house_value_9</th>\n",
       "      <th>median_rent_9</th>\n",
       "      <th>median_fam_inc_0</th>\n",
       "      <th>median_hh_inc_0</th>\n",
       "      <th>median_house_value_0</th>\n",
       "      <th>median_rent_0</th>\n",
       "      <th>median_fam_inc_1</th>\n",
       "      <th>median_hh_inc_1</th>\n",
       "      <th>median_house_value_1</th>\n",
       "      <th>median_rent_1</th>\n",
       "      <th>rent_units_9</th>\n",
       "      <th>rent_units_0</th>\n",
       "      <th>rent_units_1</th>\n",
       "    </tr>\n",
       "  </thead>\n",
       "  <tbody>\n",
       "    <tr>\n",
       "      <th>0</th>\n",
       "      <td>36005000100</td>\n",
       "      <td>40.793492</td>\n",
       "      <td>-73.883532</td>\n",
       "      <td>11370.0</td>\n",
       "      <td>14303</td>\n",
       "      <td>0</td>\n",
       "      <td>0</td>\n",
       "      <td>0</td>\n",
       "      <td>0</td>\n",
       "      <td>0</td>\n",
       "      <td>0</td>\n",
       "      <td>0</td>\n",
       "      <td>0</td>\n",
       "      <td>0</td>\n",
       "      <td>0</td>\n",
       "      <td>0</td>\n",
       "      <td>0</td>\n",
       "      <td>0</td>\n",
       "      <td>0</td>\n",
       "      <td>0</td>\n",
       "    </tr>\n",
       "    <tr>\n",
       "      <th>1</th>\n",
       "      <td>36005000200</td>\n",
       "      <td>40.804573</td>\n",
       "      <td>-73.856859</td>\n",
       "      <td>10473.0</td>\n",
       "      <td>2907</td>\n",
       "      <td>38711</td>\n",
       "      <td>31632</td>\n",
       "      <td>136500</td>\n",
       "      <td>742</td>\n",
       "      <td>50817</td>\n",
       "      <td>42539</td>\n",
       "      <td>147500</td>\n",
       "      <td>730</td>\n",
       "      <td>58368</td>\n",
       "      <td>59826</td>\n",
       "      <td>392500</td>\n",
       "      <td>1273</td>\n",
       "      <td>384</td>\n",
       "      <td>421</td>\n",
       "      <td>635</td>\n",
       "    </tr>\n",
       "    <tr>\n",
       "      <th>2</th>\n",
       "      <td>36005000400</td>\n",
       "      <td>40.808915</td>\n",
       "      <td>-73.850488</td>\n",
       "      <td>10473.0</td>\n",
       "      <td>2260</td>\n",
       "      <td>40484</td>\n",
       "      <td>36506</td>\n",
       "      <td>163234</td>\n",
       "      <td>535</td>\n",
       "      <td>41019</td>\n",
       "      <td>39111</td>\n",
       "      <td>157610</td>\n",
       "      <td>643</td>\n",
       "      <td>73148</td>\n",
       "      <td>71968</td>\n",
       "      <td>393700</td>\n",
       "      <td>1330</td>\n",
       "      <td>214</td>\n",
       "      <td>486</td>\n",
       "      <td>615</td>\n",
       "    </tr>\n",
       "    <tr>\n",
       "      <th>3</th>\n",
       "      <td>36005001600</td>\n",
       "      <td>40.818848</td>\n",
       "      <td>-73.858076</td>\n",
       "      <td>10473.0</td>\n",
       "      <td>5254</td>\n",
       "      <td>24732</td>\n",
       "      <td>22739</td>\n",
       "      <td>156800</td>\n",
       "      <td>466</td>\n",
       "      <td>30104</td>\n",
       "      <td>24552</td>\n",
       "      <td>177000</td>\n",
       "      <td>558</td>\n",
       "      <td>33555</td>\n",
       "      <td>30355</td>\n",
       "      <td>378100</td>\n",
       "      <td>823</td>\n",
       "      <td>1462</td>\n",
       "      <td>1517</td>\n",
       "      <td>1617</td>\n",
       "    </tr>\n",
       "    <tr>\n",
       "      <th>4</th>\n",
       "      <td>36005001900</td>\n",
       "      <td>40.800999</td>\n",
       "      <td>-73.909373</td>\n",
       "      <td>10454.0</td>\n",
       "      <td>1575</td>\n",
       "      <td>24823</td>\n",
       "      <td>11215</td>\n",
       "      <td>48868</td>\n",
       "      <td>422</td>\n",
       "      <td>23671</td>\n",
       "      <td>22772</td>\n",
       "      <td>145960</td>\n",
       "      <td>461</td>\n",
       "      <td>25489</td>\n",
       "      <td>25093</td>\n",
       "      <td>0</td>\n",
       "      <td>870</td>\n",
       "      <td>357</td>\n",
       "      <td>336</td>\n",
       "      <td>505</td>\n",
       "    </tr>\n",
       "  </tbody>\n",
       "</table>\n",
       "</div>"
      ],
      "text/plain": [
       "   census_tract        lat        lon    ZCTA5   pop9  median_fam_inc_9  \\\n",
       "0   36005000100  40.793492 -73.883532  11370.0  14303                 0   \n",
       "1   36005000200  40.804573 -73.856859  10473.0   2907             38711   \n",
       "2   36005000400  40.808915 -73.850488  10473.0   2260             40484   \n",
       "3   36005001600  40.818848 -73.858076  10473.0   5254             24732   \n",
       "4   36005001900  40.800999 -73.909373  10454.0   1575             24823   \n",
       "\n",
       "   median_hh_inc_9  median_house_value_9  median_rent_9  median_fam_inc_0  \\\n",
       "0                0                     0              0                 0   \n",
       "1            31632                136500            742             50817   \n",
       "2            36506                163234            535             41019   \n",
       "3            22739                156800            466             30104   \n",
       "4            11215                 48868            422             23671   \n",
       "\n",
       "   median_hh_inc_0  median_house_value_0  median_rent_0  median_fam_inc_1  \\\n",
       "0                0                     0              0                 0   \n",
       "1            42539                147500            730             58368   \n",
       "2            39111                157610            643             73148   \n",
       "3            24552                177000            558             33555   \n",
       "4            22772                145960            461             25489   \n",
       "\n",
       "   median_hh_inc_1  median_house_value_1  median_rent_1  rent_units_9  \\\n",
       "0                0                     0              0             0   \n",
       "1            59826                392500           1273           384   \n",
       "2            71968                393700           1330           214   \n",
       "3            30355                378100            823          1462   \n",
       "4            25093                     0            870           357   \n",
       "\n",
       "   rent_units_0  rent_units_1  \n",
       "0             0             0  \n",
       "1           421           635  \n",
       "2           486           615  \n",
       "3          1517          1617  \n",
       "4           336           505  "
      ]
     },
     "execution_count": 8,
     "metadata": {},
     "output_type": "execute_result"
    }
   ],
   "source": [
    "df_median = pd.concat([df.iloc[:,:5], \n",
    "                 df.loc[:,df.columns[(df.columns.str.startswith('ava_'))|\\\n",
    "                                     (df.columns.str.startswith('median_'))|\\\n",
    "                                     (df.columns.str.startswith('rent_'))]]], \n",
    "                axis = 1)\n",
    "df_median.head()"
   ]
  },
  {
   "cell_type": "code",
   "execution_count": 9,
   "metadata": {
    "collapsed": true
   },
   "outputs": [],
   "source": [
    "df_median.to_csv('nyc_1990_2010_census_median.csv')"
   ]
  },
  {
   "cell_type": "markdown",
   "metadata": {},
   "source": [
    "## NYC has 2168 census tracts in 2010 census."
   ]
  },
  {
   "cell_type": "markdown",
   "metadata": {},
   "source": [
    "## 1.1 income and rent "
   ]
  },
  {
   "cell_type": "markdown",
   "metadata": {},
   "source": [
    "## Since there is no household income in 1990, we choose family income data as income data"
   ]
  },
  {
   "cell_type": "code",
   "execution_count": 10,
   "metadata": {
    "collapsed": false
   },
   "outputs": [
    {
     "data": {
      "text/plain": [
       "(2089, 111)"
      ]
     },
     "execution_count": 10,
     "metadata": {},
     "output_type": "execute_result"
    }
   ],
   "source": [
    "## delete the observation, i.e. census tract, with 0 median rent or 0 median families income\n",
    "df2 = df.dropna()\n",
    "\n",
    "df2 = df[~((df.median_rent_0 == 0)| (df.median_rent_9 == 0)|(df.median_rent_1 == 0)|\\\n",
    "         (df.median_fam_inc_9 == 0)| (df.median_fam_inc_9 == 0)|(df.median_fam_inc_1 == 0))]\n",
    "df2.shape"
   ]
  },
  {
   "cell_type": "code",
   "execution_count": 11,
   "metadata": {
    "collapsed": false
   },
   "outputs": [
    {
     "data": {
      "text/plain": [
       "((2089, 20), (2089, 17), (2089, 17))"
      ]
     },
     "execution_count": 11,
     "metadata": {},
     "output_type": "execute_result"
    }
   ],
   "source": [
    "# the tables of different groups of families income level\n",
    "df_inc_9 = df2.loc[:,df2.columns[(df2.columns == 'census_tract') |\\\n",
    "                (df2.columns.str.startswith('fam_inc_')&df2.columns.str.endswith('9'))]]\n",
    "\n",
    "df_inc_0 = df2.loc[:,df2.columns[(df2.columns == 'census_tract') |\\\n",
    "                (df2.columns.str.startswith('fam_inc_')&df2.columns.str.endswith('0'))]]\n",
    "\n",
    "df_inc_1 = df2.loc[:,df2.columns[(df2.columns == 'census_tract') |\\\n",
    "               (df2.columns.str.startswith('fam_inc_')&df2.columns.str.endswith('1'))]]\n",
    "\n",
    " \n",
    "df_inc_9.shape, df_inc_0.shape, df_inc_1.shape"
   ]
  },
  {
   "cell_type": "code",
   "execution_count": 12,
   "metadata": {
    "collapsed": false
   },
   "outputs": [],
   "source": [
    "df_inc_rent = df2.loc[:,df2.columns[(df2.columns == 'census_tract') |\\\n",
    "                                (df2.columns.str.startswith('median_fam_inc')) |\\\n",
    "                                (df2.columns.str.startswith('median_rent'))|\\\n",
    "                                 (df2.columns.str.startswith('rent'))]]"
   ]
  },
  {
   "cell_type": "code",
   "execution_count": 13,
   "metadata": {
    "collapsed": false
   },
   "outputs": [
    {
     "data": {
      "text/html": [
       "<div>\n",
       "<table border=\"1\" class=\"dataframe\">\n",
       "  <thead>\n",
       "    <tr style=\"text-align: right;\">\n",
       "      <th></th>\n",
       "      <th>census_tract</th>\n",
       "      <th>median_fam_inc_9</th>\n",
       "      <th>median_rent_9</th>\n",
       "      <th>median_fam_inc_0</th>\n",
       "      <th>median_rent_0</th>\n",
       "      <th>median_fam_inc_1</th>\n",
       "      <th>median_rent_1</th>\n",
       "      <th>rent_units_9</th>\n",
       "      <th>rent_units_0</th>\n",
       "      <th>rent_units_1</th>\n",
       "    </tr>\n",
       "  </thead>\n",
       "  <tbody>\n",
       "    <tr>\n",
       "      <th>1</th>\n",
       "      <td>36005000200</td>\n",
       "      <td>38711</td>\n",
       "      <td>742</td>\n",
       "      <td>50817</td>\n",
       "      <td>730</td>\n",
       "      <td>58368</td>\n",
       "      <td>1273</td>\n",
       "      <td>384</td>\n",
       "      <td>421</td>\n",
       "      <td>635</td>\n",
       "    </tr>\n",
       "    <tr>\n",
       "      <th>2</th>\n",
       "      <td>36005000400</td>\n",
       "      <td>40484</td>\n",
       "      <td>535</td>\n",
       "      <td>41019</td>\n",
       "      <td>643</td>\n",
       "      <td>73148</td>\n",
       "      <td>1330</td>\n",
       "      <td>214</td>\n",
       "      <td>486</td>\n",
       "      <td>615</td>\n",
       "    </tr>\n",
       "    <tr>\n",
       "      <th>3</th>\n",
       "      <td>36005001600</td>\n",
       "      <td>24732</td>\n",
       "      <td>466</td>\n",
       "      <td>30104</td>\n",
       "      <td>558</td>\n",
       "      <td>33555</td>\n",
       "      <td>823</td>\n",
       "      <td>1462</td>\n",
       "      <td>1517</td>\n",
       "      <td>1617</td>\n",
       "    </tr>\n",
       "    <tr>\n",
       "      <th>4</th>\n",
       "      <td>36005001900</td>\n",
       "      <td>24823</td>\n",
       "      <td>422</td>\n",
       "      <td>23671</td>\n",
       "      <td>461</td>\n",
       "      <td>25489</td>\n",
       "      <td>870</td>\n",
       "      <td>357</td>\n",
       "      <td>336</td>\n",
       "      <td>505</td>\n",
       "    </tr>\n",
       "    <tr>\n",
       "      <th>5</th>\n",
       "      <td>36005002000</td>\n",
       "      <td>18762</td>\n",
       "      <td>298</td>\n",
       "      <td>19694</td>\n",
       "      <td>266</td>\n",
       "      <td>30817</td>\n",
       "      <td>455</td>\n",
       "      <td>2570</td>\n",
       "      <td>2601</td>\n",
       "      <td>2618</td>\n",
       "    </tr>\n",
       "  </tbody>\n",
       "</table>\n",
       "</div>"
      ],
      "text/plain": [
       "   census_tract  median_fam_inc_9  median_rent_9  median_fam_inc_0  \\\n",
       "1   36005000200             38711            742             50817   \n",
       "2   36005000400             40484            535             41019   \n",
       "3   36005001600             24732            466             30104   \n",
       "4   36005001900             24823            422             23671   \n",
       "5   36005002000             18762            298             19694   \n",
       "\n",
       "   median_rent_0  median_fam_inc_1  median_rent_1  rent_units_9  rent_units_0  \\\n",
       "1            730             58368           1273           384           421   \n",
       "2            643             73148           1330           214           486   \n",
       "3            558             33555            823          1462          1517   \n",
       "4            461             25489            870           357           336   \n",
       "5            266             30817            455          2570          2601   \n",
       "\n",
       "   rent_units_1  \n",
       "1           635  \n",
       "2           615  \n",
       "3          1617  \n",
       "4           505  \n",
       "5          2618  "
      ]
     },
     "execution_count": 13,
     "metadata": {},
     "output_type": "execute_result"
    }
   ],
   "source": [
    "df_inc_rent.head()"
   ]
  },
  {
   "cell_type": "code",
   "execution_count": 14,
   "metadata": {
    "collapsed": false
   },
   "outputs": [
    {
     "data": {
      "text/html": [
       "<div>\n",
       "<table border=\"1\" class=\"dataframe\">\n",
       "  <thead>\n",
       "    <tr style=\"text-align: right;\">\n",
       "      <th></th>\n",
       "      <th>tract</th>\n",
       "      <th>inc_9</th>\n",
       "      <th>rent_9</th>\n",
       "      <th>inc_0</th>\n",
       "      <th>rent_0</th>\n",
       "      <th>inc_1</th>\n",
       "      <th>rent_1</th>\n",
       "      <th>r_units_9</th>\n",
       "      <th>r_units_0</th>\n",
       "      <th>r_units_1</th>\n",
       "    </tr>\n",
       "  </thead>\n",
       "  <tbody>\n",
       "    <tr>\n",
       "      <th>1</th>\n",
       "      <td>36005000200</td>\n",
       "      <td>38711</td>\n",
       "      <td>742</td>\n",
       "      <td>50817</td>\n",
       "      <td>730</td>\n",
       "      <td>58368</td>\n",
       "      <td>1273</td>\n",
       "      <td>384</td>\n",
       "      <td>421</td>\n",
       "      <td>635</td>\n",
       "    </tr>\n",
       "    <tr>\n",
       "      <th>2</th>\n",
       "      <td>36005000400</td>\n",
       "      <td>40484</td>\n",
       "      <td>535</td>\n",
       "      <td>41019</td>\n",
       "      <td>643</td>\n",
       "      <td>73148</td>\n",
       "      <td>1330</td>\n",
       "      <td>214</td>\n",
       "      <td>486</td>\n",
       "      <td>615</td>\n",
       "    </tr>\n",
       "    <tr>\n",
       "      <th>3</th>\n",
       "      <td>36005001600</td>\n",
       "      <td>24732</td>\n",
       "      <td>466</td>\n",
       "      <td>30104</td>\n",
       "      <td>558</td>\n",
       "      <td>33555</td>\n",
       "      <td>823</td>\n",
       "      <td>1462</td>\n",
       "      <td>1517</td>\n",
       "      <td>1617</td>\n",
       "    </tr>\n",
       "    <tr>\n",
       "      <th>4</th>\n",
       "      <td>36005001900</td>\n",
       "      <td>24823</td>\n",
       "      <td>422</td>\n",
       "      <td>23671</td>\n",
       "      <td>461</td>\n",
       "      <td>25489</td>\n",
       "      <td>870</td>\n",
       "      <td>357</td>\n",
       "      <td>336</td>\n",
       "      <td>505</td>\n",
       "    </tr>\n",
       "    <tr>\n",
       "      <th>5</th>\n",
       "      <td>36005002000</td>\n",
       "      <td>18762</td>\n",
       "      <td>298</td>\n",
       "      <td>19694</td>\n",
       "      <td>266</td>\n",
       "      <td>30817</td>\n",
       "      <td>455</td>\n",
       "      <td>2570</td>\n",
       "      <td>2601</td>\n",
       "      <td>2618</td>\n",
       "    </tr>\n",
       "  </tbody>\n",
       "</table>\n",
       "</div>"
      ],
      "text/plain": [
       "         tract  inc_9  rent_9  inc_0  rent_0  inc_1  rent_1  r_units_9  \\\n",
       "1  36005000200  38711     742  50817     730  58368    1273        384   \n",
       "2  36005000400  40484     535  41019     643  73148    1330        214   \n",
       "3  36005001600  24732     466  30104     558  33555     823       1462   \n",
       "4  36005001900  24823     422  23671     461  25489     870        357   \n",
       "5  36005002000  18762     298  19694     266  30817     455       2570   \n",
       "\n",
       "   r_units_0  r_units_1  \n",
       "1        421        635  \n",
       "2        486        615  \n",
       "3       1517       1617  \n",
       "4        336        505  \n",
       "5       2601       2618  "
      ]
     },
     "execution_count": 14,
     "metadata": {},
     "output_type": "execute_result"
    }
   ],
   "source": [
    "df_inc_rent.columns = ['tract', 'inc_9', 'rent_9','inc_0', 'rent_0', 'inc_1',  'rent_1',\n",
    "                      'r_units_9','r_units_0','r_units_1']\n",
    "\n",
    "df_inc_rent.head()"
   ]
  },
  {
   "cell_type": "code",
   "execution_count": 15,
   "metadata": {
    "collapsed": false
   },
   "outputs": [
    {
     "data": {
      "text/html": [
       "<div>\n",
       "<table border=\"1\" class=\"dataframe\">\n",
       "  <thead>\n",
       "    <tr style=\"text-align: right;\">\n",
       "      <th></th>\n",
       "      <th>tract</th>\n",
       "      <th>inc_9</th>\n",
       "      <th>rent_9</th>\n",
       "      <th>inc_0</th>\n",
       "      <th>rent_0</th>\n",
       "      <th>inc_1</th>\n",
       "      <th>rent_1</th>\n",
       "      <th>r_units_9</th>\n",
       "      <th>r_units_0</th>\n",
       "      <th>r_units_1</th>\n",
       "      <th>ratio_rent_inc_9</th>\n",
       "      <th>ratio_rent_inc_0</th>\n",
       "      <th>ratio_rent_inc_1</th>\n",
       "    </tr>\n",
       "  </thead>\n",
       "  <tbody>\n",
       "    <tr>\n",
       "      <th>1</th>\n",
       "      <td>36005000200</td>\n",
       "      <td>38711</td>\n",
       "      <td>742</td>\n",
       "      <td>50817</td>\n",
       "      <td>730</td>\n",
       "      <td>58368</td>\n",
       "      <td>1273</td>\n",
       "      <td>384</td>\n",
       "      <td>421</td>\n",
       "      <td>635</td>\n",
       "      <td>0.230012</td>\n",
       "      <td>0.172383</td>\n",
       "      <td>0.261719</td>\n",
       "    </tr>\n",
       "    <tr>\n",
       "      <th>2</th>\n",
       "      <td>36005000400</td>\n",
       "      <td>40484</td>\n",
       "      <td>535</td>\n",
       "      <td>41019</td>\n",
       "      <td>643</td>\n",
       "      <td>73148</td>\n",
       "      <td>1330</td>\n",
       "      <td>214</td>\n",
       "      <td>486</td>\n",
       "      <td>615</td>\n",
       "      <td>0.158581</td>\n",
       "      <td>0.188108</td>\n",
       "      <td>0.218188</td>\n",
       "    </tr>\n",
       "    <tr>\n",
       "      <th>3</th>\n",
       "      <td>36005001600</td>\n",
       "      <td>24732</td>\n",
       "      <td>466</td>\n",
       "      <td>30104</td>\n",
       "      <td>558</td>\n",
       "      <td>33555</td>\n",
       "      <td>823</td>\n",
       "      <td>1462</td>\n",
       "      <td>1517</td>\n",
       "      <td>1617</td>\n",
       "      <td>0.226104</td>\n",
       "      <td>0.222429</td>\n",
       "      <td>0.294323</td>\n",
       "    </tr>\n",
       "    <tr>\n",
       "      <th>4</th>\n",
       "      <td>36005001900</td>\n",
       "      <td>24823</td>\n",
       "      <td>422</td>\n",
       "      <td>23671</td>\n",
       "      <td>461</td>\n",
       "      <td>25489</td>\n",
       "      <td>870</td>\n",
       "      <td>357</td>\n",
       "      <td>336</td>\n",
       "      <td>505</td>\n",
       "      <td>0.204004</td>\n",
       "      <td>0.233704</td>\n",
       "      <td>0.409588</td>\n",
       "    </tr>\n",
       "    <tr>\n",
       "      <th>5</th>\n",
       "      <td>36005002000</td>\n",
       "      <td>18762</td>\n",
       "      <td>298</td>\n",
       "      <td>19694</td>\n",
       "      <td>266</td>\n",
       "      <td>30817</td>\n",
       "      <td>455</td>\n",
       "      <td>2570</td>\n",
       "      <td>2601</td>\n",
       "      <td>2618</td>\n",
       "      <td>0.190598</td>\n",
       "      <td>0.162080</td>\n",
       "      <td>0.177175</td>\n",
       "    </tr>\n",
       "  </tbody>\n",
       "</table>\n",
       "</div>"
      ],
      "text/plain": [
       "         tract  inc_9  rent_9  inc_0  rent_0  inc_1  rent_1  r_units_9  \\\n",
       "1  36005000200  38711     742  50817     730  58368    1273        384   \n",
       "2  36005000400  40484     535  41019     643  73148    1330        214   \n",
       "3  36005001600  24732     466  30104     558  33555     823       1462   \n",
       "4  36005001900  24823     422  23671     461  25489     870        357   \n",
       "5  36005002000  18762     298  19694     266  30817     455       2570   \n",
       "\n",
       "   r_units_0  r_units_1  ratio_rent_inc_9  ratio_rent_inc_0  ratio_rent_inc_1  \n",
       "1        421        635          0.230012          0.172383          0.261719  \n",
       "2        486        615          0.158581          0.188108          0.218188  \n",
       "3       1517       1617          0.226104          0.222429          0.294323  \n",
       "4        336        505          0.204004          0.233704          0.409588  \n",
       "5       2601       2618          0.190598          0.162080          0.177175  "
      ]
     },
     "execution_count": 15,
     "metadata": {},
     "output_type": "execute_result"
    }
   ],
   "source": [
    "df_inc_rent['ratio_rent_inc_9'] = df_inc_rent.rent_9*12/df_inc_rent.inc_9\n",
    "df_inc_rent['ratio_rent_inc_0'] = df_inc_rent.rent_0*12/df_inc_rent.inc_0\n",
    "df_inc_rent['ratio_rent_inc_1'] = df_inc_rent.rent_1*12/df_inc_rent.inc_1\n",
    "df_inc_rent.head()"
   ]
  },
  {
   "cell_type": "code",
   "execution_count": 16,
   "metadata": {
    "collapsed": false
   },
   "outputs": [
    {
     "data": {
      "text/plain": [
       "(2089, 13)"
      ]
     },
     "execution_count": 16,
     "metadata": {},
     "output_type": "execute_result"
    }
   ],
   "source": [
    "df_inc_rent.shape"
   ]
  },
  {
   "cell_type": "markdown",
   "metadata": {},
   "source": [
    "## 1.2 Income level groups and entropy index"
   ]
  },
  {
   "cell_type": "markdown",
   "metadata": {},
   "source": [
    "### 1） Define income level groups\n",
    "Use median value of the 2089 census tracts' median family income to divide 6 income-level groups:\n",
    "- < 50%\n",
    "- [50%, 80%)\n",
    "- [80%, 100%)\n",
    "- [100%, 120%)\n",
    "- [120%, 150%)\n",
    "- [150%, +inf)\n"
   ]
  },
  {
   "cell_type": "code",
   "execution_count": 17,
   "metadata": {
    "collapsed": true
   },
   "outputs": [],
   "source": [
    "def inc_div(x):\n",
    "    x1 = x * 0.5\n",
    "    x2 = x * 0.8\n",
    "    x3 = x\n",
    "    x4 = x * 1.2\n",
    "    x5 = x * 1.5\n",
    "    return([int(x1), int(x2), int(x3), int(x4), int(x5)])"
   ]
  },
  {
   "cell_type": "code",
   "execution_count": 18,
   "metadata": {
    "collapsed": false
   },
   "outputs": [
    {
     "data": {
      "text/plain": [
       "(36218.0, 42590.0, 56726.0)"
      ]
     },
     "execution_count": 18,
     "metadata": {},
     "output_type": "execute_result"
    }
   ],
   "source": [
    "median_inc_9, median_inc_0, median_inc_1 = df_inc_rent[['inc_9', 'inc_0', 'inc_1']].median()\n",
    "median_inc_9, median_inc_0, median_inc_1"
   ]
  },
  {
   "cell_type": "code",
   "execution_count": 19,
   "metadata": {
    "collapsed": false
   },
   "outputs": [],
   "source": [
    "## ideal division boundary\n",
    "inc_div_9 = inc_div(median_inc_9)\n",
    "\n",
    "inc_div_0 = inc_div(median_inc_0)\n",
    "\n",
    "inc_div_1 = inc_div(median_inc_1)"
   ]
  },
  {
   "cell_type": "code",
   "execution_count": 20,
   "metadata": {
    "collapsed": false
   },
   "outputs": [
    {
     "data": {
      "text/plain": [
       "([18109, 28974, 36218, 43461, 54327],\n",
       " [21295, 34072, 42590, 51108, 63885],\n",
       " [28363, 45380, 56726, 68071, 85089])"
      ]
     },
     "execution_count": 20,
     "metadata": {},
     "output_type": "execute_result"
    }
   ],
   "source": [
    "inc_div_9, inc_div_0, inc_div_1"
   ]
  },
  {
   "cell_type": "markdown",
   "metadata": {},
   "source": []
  },
  {
   "cell_type": "markdown",
   "metadata": {},
   "source": [
    "## calculate the number of families in four income-level groups for each year\n",
    "the actual division boundary is regarded as the existed income-level boundary in the census data which is nearest to the boudary above"
   ]
  },
  {
   "cell_type": "code",
   "execution_count": 21,
   "metadata": {
    "collapsed": false
   },
   "outputs": [
    {
     "data": {
      "text/plain": [
       "Index(['census_tract', 'fam_inc_59', 'fam_inc_109', 'fam_inc_139',\n",
       "       'fam_inc_159', 'fam_inc_189', 'fam_inc_209', 'fam_inc_239',\n",
       "       'fam_inc_259', 'fam_inc_289', 'fam_inc_309', 'fam_inc_359',\n",
       "       'fam_inc_409', 'fam_inc_499', 'fam_inc_609', 'fam_inc_759',\n",
       "       'fam_inc_1009', 'fam_inc_1259', 'fam_inc_1509', 'fam_inc_max_9'],\n",
       "      dtype='object')"
      ]
     },
     "execution_count": 21,
     "metadata": {},
     "output_type": "execute_result"
    }
   ],
   "source": [
    "df_inc_9.columns"
   ]
  },
  {
   "cell_type": "code",
   "execution_count": 22,
   "metadata": {
    "collapsed": true
   },
   "outputs": [],
   "source": [
    "# ideal division boundary for 1990: [18109, 28974, 36218, 43461, 54327]\n",
    "df_inc_9['inc_group1_9'] = df_inc_9['fam_inc_59'] + df_inc_9['fam_inc_109']\\\n",
    "                        + df_inc_9['fam_inc_139'] + df_inc_9['fam_inc_159'] \\\n",
    "                        + df_inc_9['fam_inc_189'] \n",
    "        \n",
    "df_inc_9['inc_group2_9'] = df_inc_9['fam_inc_209'] + df_inc_9['fam_inc_239'] + \\\n",
    "                           df_inc_9['fam_inc_259'] + df_inc_9['fam_inc_289'] + \\\n",
    "                           df_inc_9['fam_inc_309']\n",
    "        \n",
    "df_inc_9['inc_group3_9'] =  df_inc_9['fam_inc_359']\n",
    "\n",
    "df_inc_9['inc_group4_9'] = df_inc_9['fam_inc_409']\n",
    "\n",
    "df_inc_9['inc_group5_9'] = df_inc_9['fam_inc_499']  \n",
    "\n",
    "df_inc_9['inc_group6_9'] =  df_inc_9['fam_inc_609'] + df_inc_9['fam_inc_759'] \\\n",
    "                            + df_inc_9['fam_inc_1009'] + df_inc_9['fam_inc_1259']\\\n",
    "                            + df_inc_9['fam_inc_1509'] + df_inc_9['fam_inc_max_9']"
   ]
  },
  {
   "cell_type": "code",
   "execution_count": 23,
   "metadata": {
    "collapsed": false
   },
   "outputs": [
    {
     "data": {
      "text/plain": [
       "inc_group1_9    452794\n",
       "inc_group2_9    314860\n",
       "inc_group3_9    117385\n",
       "inc_group4_9    106071\n",
       "inc_group5_9    189509\n",
       "inc_group6_9    559550\n",
       "dtype: int64"
      ]
     },
     "execution_count": 23,
     "metadata": {},
     "output_type": "execute_result"
    }
   ],
   "source": [
    "df_inc_div_9 = df_inc_9[['census_tract', 'inc_group1_9', 'inc_group2_9', \n",
    "          'inc_group3_9', 'inc_group4_9',\n",
    "         'inc_group5_9', 'inc_group6_9']]\n",
    "df_inc_div_9.sum()[1:]"
   ]
  },
  {
   "cell_type": "code",
   "execution_count": 24,
   "metadata": {
    "collapsed": false
   },
   "outputs": [
    {
     "data": {
      "text/plain": [
       "Index(['census_tract', 'fam_inc_100', 'fam_inc_150', 'fam_inc_200',\n",
       "       'fam_inc_250', 'fam_inc_300', 'fam_inc_350', 'fam_inc_400',\n",
       "       'fam_inc_450', 'fam_inc_500', 'fam_inc_600', 'fam_inc_750',\n",
       "       'fam_inc_1000', 'fam_inc_1250', 'fam_inc_1500', 'fam_inc_2000',\n",
       "       'fam_inc_max_200'],\n",
       "      dtype='object')"
      ]
     },
     "execution_count": 24,
     "metadata": {},
     "output_type": "execute_result"
    }
   ],
   "source": [
    "df_inc_0.columns"
   ]
  },
  {
   "cell_type": "code",
   "execution_count": 25,
   "metadata": {
    "collapsed": false
   },
   "outputs": [],
   "source": [
    "# ideal division boundary for 2010: [21295, 34072, 42590, 51108, 63885]\n",
    "df_inc_0['inc_group1_0'] = df_inc_0['fam_inc_100'] + df_inc_0['fam_inc_150']\\\n",
    "                        + df_inc_0['fam_inc_200'] \n",
    "    \n",
    "df_inc_0['inc_group2_0'] = df_inc_0['fam_inc_250'] + df_inc_0['fam_inc_300'] \\\n",
    "                        + df_inc_0['fam_inc_350']\n",
    "    \n",
    "df_inc_0['inc_group3_0'] =  df_inc_0['fam_inc_400']\n",
    "\n",
    "df_inc_0['inc_group4_0'] =  df_inc_0['fam_inc_450'] + df_inc_0['fam_inc_500']\n",
    "\n",
    "df_inc_0['inc_group5_0'] = df_inc_0['fam_inc_600'] \n",
    "\n",
    "df_inc_0['inc_group6_0'] = df_inc_0['fam_inc_750'] + df_inc_0['fam_inc_1000'] \\\n",
    "                            + df_inc_0['fam_inc_1250'] + df_inc_0['fam_inc_1500']\\\n",
    "                            + df_inc_0['fam_inc_2000']  + df_inc_0['fam_inc_max_200']"
   ]
  },
  {
   "cell_type": "code",
   "execution_count": 26,
   "metadata": {
    "collapsed": false
   },
   "outputs": [
    {
     "data": {
      "text/plain": [
       "inc_group1_0    466241\n",
       "inc_group2_0    325881\n",
       "inc_group3_0     97069\n",
       "inc_group4_0    170127\n",
       "inc_group5_0    146590\n",
       "inc_group6_0    646516\n",
       "dtype: int64"
      ]
     },
     "execution_count": 26,
     "metadata": {},
     "output_type": "execute_result"
    }
   ],
   "source": [
    "df_inc_div_0 = df_inc_0[['census_tract', 'inc_group1_0', 'inc_group2_0', \n",
    "          'inc_group3_0', 'inc_group4_0',\n",
    "         'inc_group5_0', 'inc_group6_0']]\n",
    "df_inc_div_0.sum()[1:]"
   ]
  },
  {
   "cell_type": "code",
   "execution_count": 27,
   "metadata": {
    "collapsed": false
   },
   "outputs": [
    {
     "data": {
      "text/plain": [
       "Index(['census_tract', 'fam_inc_101', 'fam_inc_151', 'fam_inc_201',\n",
       "       'fam_inc_251', 'fam_inc_301', 'fam_inc_351', 'fam_inc_401',\n",
       "       'fam_inc_451', 'fam_inc_501', 'fam_inc_601', 'fam_inc_751',\n",
       "       'fam_inc_1001', 'fam_inc_1251', 'fam_inc_1501', 'fam_inc_2001',\n",
       "       'fam_inc_max_201'],\n",
       "      dtype='object')"
      ]
     },
     "execution_count": 27,
     "metadata": {},
     "output_type": "execute_result"
    }
   ],
   "source": [
    "df_inc_1.columns"
   ]
  },
  {
   "cell_type": "code",
   "execution_count": 28,
   "metadata": {
    "collapsed": false
   },
   "outputs": [],
   "source": [
    "# ideal division boundary for 2010: [28363, 45380, 56726, 68071, 85089]\n",
    "df_inc_1['inc_group1_1'] = df_inc_1['fam_inc_101'] + df_inc_1['fam_inc_151']\\\n",
    "                        + df_inc_1['fam_inc_201']  + df_inc_1['fam_inc_251']\\\n",
    "                        + df_inc_1['fam_inc_301']\n",
    "    \n",
    "df_inc_1['inc_group2_1'] =  df_inc_1['fam_inc_351'] + df_inc_1['fam_inc_401']\\\n",
    "                        + df_inc_1['fam_inc_451']\n",
    "    \n",
    "df_inc_1['inc_group3_1'] =  df_inc_1['fam_inc_501'] + df_inc_1['fam_inc_601']\n",
    "\n",
    "df_inc_1['inc_group4_1'] =  df_inc_1['fam_inc_751'] \n",
    "\n",
    "df_inc_1['inc_group5_1'] =  df_inc_1['fam_inc_1001']\n",
    "\n",
    "df_inc_1['inc_group6_1'] =  df_inc_1['fam_inc_1251'] + df_inc_1['fam_inc_1501']\\\n",
    "                            + df_inc_1['fam_inc_2001'] + df_inc_1['fam_inc_max_201']\n",
    "        "
   ]
  },
  {
   "cell_type": "code",
   "execution_count": 29,
   "metadata": {
    "collapsed": false
   },
   "outputs": [
    {
     "data": {
      "text/plain": [
       "inc_group1_1    511033\n",
       "inc_group2_1    258739\n",
       "inc_group3_1    208478\n",
       "inc_group4_1    171592\n",
       "inc_group5_1    216311\n",
       "inc_group6_1    473612\n",
       "dtype: int64"
      ]
     },
     "execution_count": 29,
     "metadata": {},
     "output_type": "execute_result"
    }
   ],
   "source": [
    "df_inc_div_1 = df_inc_1[['census_tract', 'inc_group1_1', 'inc_group2_1', \n",
    "          'inc_group3_1', 'inc_group4_1',\n",
    "         'inc_group5_1', 'inc_group6_1']]\n",
    "df_inc_div_1.sum()[1:]"
   ]
  },
  {
   "cell_type": "code",
   "execution_count": null,
   "metadata": {
    "collapsed": true
   },
   "outputs": [],
   "source": []
  },
  {
   "cell_type": "markdown",
   "metadata": {},
   "source": [
    "## 2) Calculation of census tracts' entropy index\n",
    "entropy index of different income-level groups for each census tract from 1990 to 2010\n",
    "entropy index fomular: https://github.com/picniclin/NYC_yl5240/blob/master/entropy_index_fomular.png"
   ]
  },
  {
   "cell_type": "code",
   "execution_count": 30,
   "metadata": {
    "collapsed": true
   },
   "outputs": [],
   "source": [
    "# define entropy index \n",
    "def entropy_index(x):\n",
    "    Q_sum = 0\n",
    "    for i in x:\n",
    "        if i == 0:\n",
    "            Q = 0\n",
    "        else:\n",
    "            Q = (-1) * (i/sum(x)) * np.log(i/sum(x))\n",
    "        Q_sum += Q\n",
    "    entropy_index = Q_sum/np.log(len(x))\n",
    "    return entropy_index"
   ]
  },
  {
   "cell_type": "code",
   "execution_count": 31,
   "metadata": {
    "collapsed": true
   },
   "outputs": [],
   "source": [
    "df_inc_div_9.is_copy = False\n",
    "df_inc_div_0.is_copy = False\n",
    "df_inc_div_1.is_copy = False"
   ]
  },
  {
   "cell_type": "code",
   "execution_count": 32,
   "metadata": {
    "collapsed": false
   },
   "outputs": [],
   "source": [
    "# calculate the entropy index \n",
    "for i in df_inc_div_9.index:\n",
    "    df_inc_div_9.loc[i,'entropy_index_9'] = \\\n",
    "            entropy_index(list(df_inc_div_9.loc[i,'inc_group1_9':'inc_group6_9']))\n",
    "\n",
    "for i in df_inc_div_0.index:\n",
    "    df_inc_div_0.loc[i,'entropy_index_0'] = \\\n",
    "            entropy_index(list(df_inc_div_0.loc[i,'inc_group1_0':'inc_group6_0']))\n",
    "        \n",
    "for i in df_inc_div_1.index:\n",
    "    df_inc_div_1.loc[i,'entropy_index_1'] = \\\n",
    "            entropy_index(list(df_inc_div_1.loc[i,'inc_group1_1':'inc_group6_1']))"
   ]
  },
  {
   "cell_type": "code",
   "execution_count": 33,
   "metadata": {
    "collapsed": false
   },
   "outputs": [
    {
     "data": {
      "text/html": [
       "<div>\n",
       "<table border=\"1\" class=\"dataframe\">\n",
       "  <thead>\n",
       "    <tr style=\"text-align: right;\">\n",
       "      <th></th>\n",
       "      <th>census_tract</th>\n",
       "      <th>inc_group1_9</th>\n",
       "      <th>inc_group2_9</th>\n",
       "      <th>inc_group3_9</th>\n",
       "      <th>inc_group4_9</th>\n",
       "      <th>inc_group5_9</th>\n",
       "      <th>inc_group6_9</th>\n",
       "      <th>entropy_index_9</th>\n",
       "    </tr>\n",
       "  </thead>\n",
       "  <tbody>\n",
       "    <tr>\n",
       "      <th>1</th>\n",
       "      <td>36005000200</td>\n",
       "      <td>133</td>\n",
       "      <td>177</td>\n",
       "      <td>32</td>\n",
       "      <td>31</td>\n",
       "      <td>84</td>\n",
       "      <td>257</td>\n",
       "      <td>0.867149</td>\n",
       "    </tr>\n",
       "    <tr>\n",
       "      <th>2</th>\n",
       "      <td>36005000400</td>\n",
       "      <td>89</td>\n",
       "      <td>101</td>\n",
       "      <td>50</td>\n",
       "      <td>50</td>\n",
       "      <td>89</td>\n",
       "      <td>221</td>\n",
       "      <td>0.919819</td>\n",
       "    </tr>\n",
       "    <tr>\n",
       "      <th>3</th>\n",
       "      <td>36005001600</td>\n",
       "      <td>353</td>\n",
       "      <td>381</td>\n",
       "      <td>165</td>\n",
       "      <td>39</td>\n",
       "      <td>161</td>\n",
       "      <td>195</td>\n",
       "      <td>0.908063</td>\n",
       "    </tr>\n",
       "    <tr>\n",
       "      <th>4</th>\n",
       "      <td>36005001900</td>\n",
       "      <td>175</td>\n",
       "      <td>42</td>\n",
       "      <td>0</td>\n",
       "      <td>0</td>\n",
       "      <td>67</td>\n",
       "      <td>36</td>\n",
       "      <td>0.652853</td>\n",
       "    </tr>\n",
       "    <tr>\n",
       "      <th>5</th>\n",
       "      <td>36005002000</td>\n",
       "      <td>1074</td>\n",
       "      <td>450</td>\n",
       "      <td>131</td>\n",
       "      <td>95</td>\n",
       "      <td>203</td>\n",
       "      <td>303</td>\n",
       "      <td>0.814774</td>\n",
       "    </tr>\n",
       "  </tbody>\n",
       "</table>\n",
       "</div>"
      ],
      "text/plain": [
       "   census_tract  inc_group1_9  inc_group2_9  inc_group3_9  inc_group4_9  \\\n",
       "1   36005000200           133           177            32            31   \n",
       "2   36005000400            89           101            50            50   \n",
       "3   36005001600           353           381           165            39   \n",
       "4   36005001900           175            42             0             0   \n",
       "5   36005002000          1074           450           131            95   \n",
       "\n",
       "   inc_group5_9  inc_group6_9  entropy_index_9  \n",
       "1            84           257         0.867149  \n",
       "2            89           221         0.919819  \n",
       "3           161           195         0.908063  \n",
       "4            67            36         0.652853  \n",
       "5           203           303         0.814774  "
      ]
     },
     "execution_count": 33,
     "metadata": {},
     "output_type": "execute_result"
    }
   ],
   "source": [
    "df_inc_div_9.head()"
   ]
  },
  {
   "cell_type": "code",
   "execution_count": 34,
   "metadata": {
    "collapsed": false
   },
   "outputs": [
    {
     "data": {
      "text/html": [
       "<div>\n",
       "<table border=\"1\" class=\"dataframe\">\n",
       "  <thead>\n",
       "    <tr style=\"text-align: right;\">\n",
       "      <th></th>\n",
       "      <th>census_tract</th>\n",
       "      <th>inc_group1_0</th>\n",
       "      <th>inc_group2_0</th>\n",
       "      <th>inc_group3_0</th>\n",
       "      <th>inc_group4_0</th>\n",
       "      <th>inc_group5_0</th>\n",
       "      <th>inc_group6_0</th>\n",
       "      <th>entropy_index_0</th>\n",
       "    </tr>\n",
       "  </thead>\n",
       "  <tbody>\n",
       "    <tr>\n",
       "      <th>1</th>\n",
       "      <td>36005000200</td>\n",
       "      <td>203</td>\n",
       "      <td>94</td>\n",
       "      <td>60</td>\n",
       "      <td>69</td>\n",
       "      <td>72</td>\n",
       "      <td>369</td>\n",
       "      <td>0.857971</td>\n",
       "    </tr>\n",
       "    <tr>\n",
       "      <th>2</th>\n",
       "      <td>36005000400</td>\n",
       "      <td>150</td>\n",
       "      <td>191</td>\n",
       "      <td>65</td>\n",
       "      <td>70</td>\n",
       "      <td>84</td>\n",
       "      <td>267</td>\n",
       "      <td>0.923299</td>\n",
       "    </tr>\n",
       "    <tr>\n",
       "      <th>3</th>\n",
       "      <td>36005001600</td>\n",
       "      <td>414</td>\n",
       "      <td>303</td>\n",
       "      <td>97</td>\n",
       "      <td>185</td>\n",
       "      <td>92</td>\n",
       "      <td>242</td>\n",
       "      <td>0.925875</td>\n",
       "    </tr>\n",
       "    <tr>\n",
       "      <th>4</th>\n",
       "      <td>36005001900</td>\n",
       "      <td>87</td>\n",
       "      <td>90</td>\n",
       "      <td>9</td>\n",
       "      <td>16</td>\n",
       "      <td>30</td>\n",
       "      <td>21</td>\n",
       "      <td>0.830158</td>\n",
       "    </tr>\n",
       "    <tr>\n",
       "      <th>5</th>\n",
       "      <td>36005002000</td>\n",
       "      <td>1168</td>\n",
       "      <td>523</td>\n",
       "      <td>133</td>\n",
       "      <td>83</td>\n",
       "      <td>201</td>\n",
       "      <td>217</td>\n",
       "      <td>0.779722</td>\n",
       "    </tr>\n",
       "  </tbody>\n",
       "</table>\n",
       "</div>"
      ],
      "text/plain": [
       "   census_tract  inc_group1_0  inc_group2_0  inc_group3_0  inc_group4_0  \\\n",
       "1   36005000200           203            94            60            69   \n",
       "2   36005000400           150           191            65            70   \n",
       "3   36005001600           414           303            97           185   \n",
       "4   36005001900            87            90             9            16   \n",
       "5   36005002000          1168           523           133            83   \n",
       "\n",
       "   inc_group5_0  inc_group6_0  entropy_index_0  \n",
       "1            72           369         0.857971  \n",
       "2            84           267         0.923299  \n",
       "3            92           242         0.925875  \n",
       "4            30            21         0.830158  \n",
       "5           201           217         0.779722  "
      ]
     },
     "execution_count": 34,
     "metadata": {},
     "output_type": "execute_result"
    }
   ],
   "source": [
    "df_inc_div_0.head()"
   ]
  },
  {
   "cell_type": "code",
   "execution_count": 35,
   "metadata": {
    "collapsed": false
   },
   "outputs": [
    {
     "data": {
      "text/html": [
       "<div>\n",
       "<table border=\"1\" class=\"dataframe\">\n",
       "  <thead>\n",
       "    <tr style=\"text-align: right;\">\n",
       "      <th></th>\n",
       "      <th>census_tract</th>\n",
       "      <th>inc_group1_1</th>\n",
       "      <th>inc_group2_1</th>\n",
       "      <th>inc_group3_1</th>\n",
       "      <th>inc_group4_1</th>\n",
       "      <th>inc_group5_1</th>\n",
       "      <th>inc_group6_1</th>\n",
       "      <th>entropy_index_1</th>\n",
       "    </tr>\n",
       "  </thead>\n",
       "  <tbody>\n",
       "    <tr>\n",
       "      <th>1</th>\n",
       "      <td>36005000200</td>\n",
       "      <td>210</td>\n",
       "      <td>240</td>\n",
       "      <td>101</td>\n",
       "      <td>49</td>\n",
       "      <td>136</td>\n",
       "      <td>319</td>\n",
       "      <td>0.921479</td>\n",
       "    </tr>\n",
       "    <tr>\n",
       "      <th>2</th>\n",
       "      <td>36005000400</td>\n",
       "      <td>169</td>\n",
       "      <td>157</td>\n",
       "      <td>227</td>\n",
       "      <td>79</td>\n",
       "      <td>206</td>\n",
       "      <td>386</td>\n",
       "      <td>0.943208</td>\n",
       "    </tr>\n",
       "    <tr>\n",
       "      <th>3</th>\n",
       "      <td>36005001600</td>\n",
       "      <td>598</td>\n",
       "      <td>301</td>\n",
       "      <td>143</td>\n",
       "      <td>167</td>\n",
       "      <td>129</td>\n",
       "      <td>69</td>\n",
       "      <td>0.862742</td>\n",
       "    </tr>\n",
       "    <tr>\n",
       "      <th>4</th>\n",
       "      <td>36005001900</td>\n",
       "      <td>233</td>\n",
       "      <td>61</td>\n",
       "      <td>22</td>\n",
       "      <td>16</td>\n",
       "      <td>12</td>\n",
       "      <td>30</td>\n",
       "      <td>0.672415</td>\n",
       "    </tr>\n",
       "    <tr>\n",
       "      <th>5</th>\n",
       "      <td>36005002000</td>\n",
       "      <td>966</td>\n",
       "      <td>427</td>\n",
       "      <td>257</td>\n",
       "      <td>63</td>\n",
       "      <td>103</td>\n",
       "      <td>218</td>\n",
       "      <td>0.804094</td>\n",
       "    </tr>\n",
       "  </tbody>\n",
       "</table>\n",
       "</div>"
      ],
      "text/plain": [
       "   census_tract  inc_group1_1  inc_group2_1  inc_group3_1  inc_group4_1  \\\n",
       "1   36005000200           210           240           101            49   \n",
       "2   36005000400           169           157           227            79   \n",
       "3   36005001600           598           301           143           167   \n",
       "4   36005001900           233            61            22            16   \n",
       "5   36005002000           966           427           257            63   \n",
       "\n",
       "   inc_group5_1  inc_group6_1  entropy_index_1  \n",
       "1           136           319         0.921479  \n",
       "2           206           386         0.943208  \n",
       "3           129            69         0.862742  \n",
       "4            12            30         0.672415  \n",
       "5           103           218         0.804094  "
      ]
     },
     "execution_count": 35,
     "metadata": {},
     "output_type": "execute_result"
    }
   ],
   "source": [
    "df_inc_div_1.head()"
   ]
  },
  {
   "cell_type": "code",
   "execution_count": 36,
   "metadata": {
    "collapsed": false
   },
   "outputs": [],
   "source": [
    "df_entropy = df_inc_div_9[['census_tract','entropy_index_9']].merge\\\n",
    "            (df_inc_div_0[['census_tract','entropy_index_0']],on = 'census_tract').merge\\\n",
    "            (df_inc_div_1[['census_tract','entropy_index_1']],on = 'census_tract')"
   ]
  },
  {
   "cell_type": "code",
   "execution_count": 37,
   "metadata": {
    "collapsed": false
   },
   "outputs": [
    {
     "data": {
      "text/html": [
       "<div>\n",
       "<table border=\"1\" class=\"dataframe\">\n",
       "  <thead>\n",
       "    <tr style=\"text-align: right;\">\n",
       "      <th></th>\n",
       "      <th>tract</th>\n",
       "      <th>entropy_index_9</th>\n",
       "      <th>entropy_index_0</th>\n",
       "      <th>entropy_index_1</th>\n",
       "    </tr>\n",
       "  </thead>\n",
       "  <tbody>\n",
       "    <tr>\n",
       "      <th>0</th>\n",
       "      <td>36005000200</td>\n",
       "      <td>0.867149</td>\n",
       "      <td>0.857971</td>\n",
       "      <td>0.921479</td>\n",
       "    </tr>\n",
       "    <tr>\n",
       "      <th>1</th>\n",
       "      <td>36005000400</td>\n",
       "      <td>0.919819</td>\n",
       "      <td>0.923299</td>\n",
       "      <td>0.943208</td>\n",
       "    </tr>\n",
       "    <tr>\n",
       "      <th>2</th>\n",
       "      <td>36005001600</td>\n",
       "      <td>0.908063</td>\n",
       "      <td>0.925875</td>\n",
       "      <td>0.862742</td>\n",
       "    </tr>\n",
       "    <tr>\n",
       "      <th>3</th>\n",
       "      <td>36005001900</td>\n",
       "      <td>0.652853</td>\n",
       "      <td>0.830158</td>\n",
       "      <td>0.672415</td>\n",
       "    </tr>\n",
       "    <tr>\n",
       "      <th>4</th>\n",
       "      <td>36005002000</td>\n",
       "      <td>0.814774</td>\n",
       "      <td>0.779722</td>\n",
       "      <td>0.804094</td>\n",
       "    </tr>\n",
       "  </tbody>\n",
       "</table>\n",
       "</div>"
      ],
      "text/plain": [
       "         tract  entropy_index_9  entropy_index_0  entropy_index_1\n",
       "0  36005000200         0.867149         0.857971         0.921479\n",
       "1  36005000400         0.919819         0.923299         0.943208\n",
       "2  36005001600         0.908063         0.925875         0.862742\n",
       "3  36005001900         0.652853         0.830158         0.672415\n",
       "4  36005002000         0.814774         0.779722         0.804094"
      ]
     },
     "execution_count": 37,
     "metadata": {},
     "output_type": "execute_result"
    }
   ],
   "source": [
    "df_entropy.rename(columns = {'census_tract':'tract'}, inplace = True)\n",
    "df_entropy.head()"
   ]
  },
  {
   "cell_type": "code",
   "execution_count": 38,
   "metadata": {
    "collapsed": false
   },
   "outputs": [
    {
     "data": {
      "text/plain": [
       "(2089, 4)"
      ]
     },
     "execution_count": 38,
     "metadata": {},
     "output_type": "execute_result"
    }
   ],
   "source": [
    "df_entropy.shape"
   ]
  },
  {
   "cell_type": "code",
   "execution_count": 39,
   "metadata": {
    "collapsed": false
   },
   "outputs": [
    {
     "data": {
      "text/plain": [
       "(2077, 4)"
      ]
     },
     "execution_count": 39,
     "metadata": {},
     "output_type": "execute_result"
    }
   ],
   "source": [
    "## Drop abnormal observations with 0 entropy index \n",
    "#df_entropy[((df_entropy.entropy_index_9 == 0)| (df_entropy.entropy_index_0 == 0)|\\\n",
    "                          #(df_entropy.entropy_index_1 == 0))]\n",
    "\n",
    "df_entropy = df_entropy[~((df_entropy.entropy_index_9 == 0)| (df_entropy.entropy_index_0 == 0)|\\\n",
    "                          (df_entropy.entropy_index_1 == 0))]\n",
    "\n",
    "df_entropy.shape"
   ]
  },
  {
   "cell_type": "markdown",
   "metadata": {},
   "source": [
    "## 3) Create the dataset for analysis on census tracts"
   ]
  },
  {
   "cell_type": "code",
   "execution_count": 40,
   "metadata": {
    "collapsed": true
   },
   "outputs": [],
   "source": [
    "df_census = df_entropy.merge(df_inc_rent, on = 'tract', how = 'left')"
   ]
  },
  {
   "cell_type": "code",
   "execution_count": 41,
   "metadata": {
    "collapsed": false
   },
   "outputs": [
    {
     "data": {
      "text/html": [
       "<div>\n",
       "<table border=\"1\" class=\"dataframe\">\n",
       "  <thead>\n",
       "    <tr style=\"text-align: right;\">\n",
       "      <th></th>\n",
       "      <th>tract</th>\n",
       "      <th>entropy_index_9</th>\n",
       "      <th>entropy_index_0</th>\n",
       "      <th>entropy_index_1</th>\n",
       "      <th>inc_9</th>\n",
       "      <th>rent_9</th>\n",
       "      <th>inc_0</th>\n",
       "      <th>rent_0</th>\n",
       "      <th>inc_1</th>\n",
       "      <th>rent_1</th>\n",
       "      <th>r_units_9</th>\n",
       "      <th>r_units_0</th>\n",
       "      <th>r_units_1</th>\n",
       "      <th>ratio_rent_inc_9</th>\n",
       "      <th>ratio_rent_inc_0</th>\n",
       "      <th>ratio_rent_inc_1</th>\n",
       "    </tr>\n",
       "  </thead>\n",
       "  <tbody>\n",
       "    <tr>\n",
       "      <th>0</th>\n",
       "      <td>36005000200</td>\n",
       "      <td>0.867149</td>\n",
       "      <td>0.857971</td>\n",
       "      <td>0.921479</td>\n",
       "      <td>38711</td>\n",
       "      <td>742</td>\n",
       "      <td>50817</td>\n",
       "      <td>730</td>\n",
       "      <td>58368</td>\n",
       "      <td>1273</td>\n",
       "      <td>384</td>\n",
       "      <td>421</td>\n",
       "      <td>635</td>\n",
       "      <td>0.230012</td>\n",
       "      <td>0.172383</td>\n",
       "      <td>0.261719</td>\n",
       "    </tr>\n",
       "    <tr>\n",
       "      <th>1</th>\n",
       "      <td>36005000400</td>\n",
       "      <td>0.919819</td>\n",
       "      <td>0.923299</td>\n",
       "      <td>0.943208</td>\n",
       "      <td>40484</td>\n",
       "      <td>535</td>\n",
       "      <td>41019</td>\n",
       "      <td>643</td>\n",
       "      <td>73148</td>\n",
       "      <td>1330</td>\n",
       "      <td>214</td>\n",
       "      <td>486</td>\n",
       "      <td>615</td>\n",
       "      <td>0.158581</td>\n",
       "      <td>0.188108</td>\n",
       "      <td>0.218188</td>\n",
       "    </tr>\n",
       "    <tr>\n",
       "      <th>2</th>\n",
       "      <td>36005001600</td>\n",
       "      <td>0.908063</td>\n",
       "      <td>0.925875</td>\n",
       "      <td>0.862742</td>\n",
       "      <td>24732</td>\n",
       "      <td>466</td>\n",
       "      <td>30104</td>\n",
       "      <td>558</td>\n",
       "      <td>33555</td>\n",
       "      <td>823</td>\n",
       "      <td>1462</td>\n",
       "      <td>1517</td>\n",
       "      <td>1617</td>\n",
       "      <td>0.226104</td>\n",
       "      <td>0.222429</td>\n",
       "      <td>0.294323</td>\n",
       "    </tr>\n",
       "    <tr>\n",
       "      <th>3</th>\n",
       "      <td>36005001900</td>\n",
       "      <td>0.652853</td>\n",
       "      <td>0.830158</td>\n",
       "      <td>0.672415</td>\n",
       "      <td>24823</td>\n",
       "      <td>422</td>\n",
       "      <td>23671</td>\n",
       "      <td>461</td>\n",
       "      <td>25489</td>\n",
       "      <td>870</td>\n",
       "      <td>357</td>\n",
       "      <td>336</td>\n",
       "      <td>505</td>\n",
       "      <td>0.204004</td>\n",
       "      <td>0.233704</td>\n",
       "      <td>0.409588</td>\n",
       "    </tr>\n",
       "    <tr>\n",
       "      <th>4</th>\n",
       "      <td>36005002000</td>\n",
       "      <td>0.814774</td>\n",
       "      <td>0.779722</td>\n",
       "      <td>0.804094</td>\n",
       "      <td>18762</td>\n",
       "      <td>298</td>\n",
       "      <td>19694</td>\n",
       "      <td>266</td>\n",
       "      <td>30817</td>\n",
       "      <td>455</td>\n",
       "      <td>2570</td>\n",
       "      <td>2601</td>\n",
       "      <td>2618</td>\n",
       "      <td>0.190598</td>\n",
       "      <td>0.162080</td>\n",
       "      <td>0.177175</td>\n",
       "    </tr>\n",
       "  </tbody>\n",
       "</table>\n",
       "</div>"
      ],
      "text/plain": [
       "         tract  entropy_index_9  entropy_index_0  entropy_index_1  inc_9  \\\n",
       "0  36005000200         0.867149         0.857971         0.921479  38711   \n",
       "1  36005000400         0.919819         0.923299         0.943208  40484   \n",
       "2  36005001600         0.908063         0.925875         0.862742  24732   \n",
       "3  36005001900         0.652853         0.830158         0.672415  24823   \n",
       "4  36005002000         0.814774         0.779722         0.804094  18762   \n",
       "\n",
       "   rent_9  inc_0  rent_0  inc_1  rent_1  r_units_9  r_units_0  r_units_1  \\\n",
       "0     742  50817     730  58368    1273        384        421        635   \n",
       "1     535  41019     643  73148    1330        214        486        615   \n",
       "2     466  30104     558  33555     823       1462       1517       1617   \n",
       "3     422  23671     461  25489     870        357        336        505   \n",
       "4     298  19694     266  30817     455       2570       2601       2618   \n",
       "\n",
       "   ratio_rent_inc_9  ratio_rent_inc_0  ratio_rent_inc_1  \n",
       "0          0.230012          0.172383          0.261719  \n",
       "1          0.158581          0.188108          0.218188  \n",
       "2          0.226104          0.222429          0.294323  \n",
       "3          0.204004          0.233704          0.409588  \n",
       "4          0.190598          0.162080          0.177175  "
      ]
     },
     "execution_count": 41,
     "metadata": {},
     "output_type": "execute_result"
    }
   ],
   "source": [
    "df_census.head()"
   ]
  },
  {
   "cell_type": "code",
   "execution_count": 42,
   "metadata": {
    "collapsed": false
   },
   "outputs": [
    {
     "data": {
      "text/plain": [
       "46843.0"
      ]
     },
     "execution_count": 42,
     "metadata": {},
     "output_type": "execute_result"
    }
   ],
   "source": [
    "np.percentile(df_census.loc[:,'inc_9'],75)"
   ]
  },
  {
   "cell_type": "code",
   "execution_count": 43,
   "metadata": {
    "collapsed": false
   },
   "outputs": [],
   "source": [
    "for j in [['inc_9','rich_9'], ['inc_0','rich_0'], ['inc_1','rich_1']]:\n",
    "    for i in df_census.index:\n",
    "        if df_census.loc[i,j[0]] < np.percentile(df_census.loc[:,j[0]],25):\n",
    "            df_census.loc[i, j[1]] = 4\n",
    "        elif df_census.loc[i,j[0]] < np.percentile(df_census.loc[:,j[0]],50):\n",
    "            df_census.loc[i,j[1]] = 3\n",
    "        elif df_census.loc[i,j[0]] < np.percentile(df_census.loc[:,j[0]],75):\n",
    "            df_census.loc[i,j[1]] = 2\n",
    "        else:\n",
    "            df_census.loc[i,j[1]] = 1"
   ]
  },
  {
   "cell_type": "code",
   "execution_count": 44,
   "metadata": {
    "collapsed": true
   },
   "outputs": [],
   "source": [
    "rich_ave = (df_census.rich_9 + df_census.rich_0 + df_census.rich_1)/3\n",
    "for i in df_census.index:\n",
    "    if rich_ave[i] < 1.5:\n",
    "        df_census.loc[i,'rich_all'] = 1\n",
    "    elif rich_ave[i] < 2.5:\n",
    "        df_census.loc[i,'rich_all'] = 2\n",
    "    elif rich_ave[i] < 3.5:\n",
    "        df_census.loc[i,'rich_all'] = 3\n",
    "    else:\n",
    "        df_census.loc[i,'rich_all'] = 4"
   ]
  },
  {
   "cell_type": "code",
   "execution_count": 45,
   "metadata": {
    "collapsed": false
   },
   "outputs": [
    {
     "data": {
      "text/html": [
       "<div>\n",
       "<table border=\"1\" class=\"dataframe\">\n",
       "  <thead>\n",
       "    <tr style=\"text-align: right;\">\n",
       "      <th></th>\n",
       "      <th>tract</th>\n",
       "      <th>entropy_index_9</th>\n",
       "      <th>entropy_index_0</th>\n",
       "      <th>entropy_index_1</th>\n",
       "      <th>inc_9</th>\n",
       "      <th>rent_9</th>\n",
       "      <th>inc_0</th>\n",
       "      <th>rent_0</th>\n",
       "      <th>inc_1</th>\n",
       "      <th>rent_1</th>\n",
       "      <th>r_units_9</th>\n",
       "      <th>r_units_0</th>\n",
       "      <th>r_units_1</th>\n",
       "      <th>ratio_rent_inc_9</th>\n",
       "      <th>ratio_rent_inc_0</th>\n",
       "      <th>ratio_rent_inc_1</th>\n",
       "      <th>rich_9</th>\n",
       "      <th>rich_0</th>\n",
       "      <th>rich_1</th>\n",
       "      <th>rich_all</th>\n",
       "    </tr>\n",
       "  </thead>\n",
       "  <tbody>\n",
       "    <tr>\n",
       "      <th>0</th>\n",
       "      <td>36005000200</td>\n",
       "      <td>0.867149</td>\n",
       "      <td>0.857971</td>\n",
       "      <td>0.921479</td>\n",
       "      <td>38711</td>\n",
       "      <td>742</td>\n",
       "      <td>50817</td>\n",
       "      <td>730</td>\n",
       "      <td>58368</td>\n",
       "      <td>1273</td>\n",
       "      <td>384</td>\n",
       "      <td>421</td>\n",
       "      <td>635</td>\n",
       "      <td>0.230012</td>\n",
       "      <td>0.172383</td>\n",
       "      <td>0.261719</td>\n",
       "      <td>2.0</td>\n",
       "      <td>2.0</td>\n",
       "      <td>2.0</td>\n",
       "      <td>2.0</td>\n",
       "    </tr>\n",
       "    <tr>\n",
       "      <th>1</th>\n",
       "      <td>36005000400</td>\n",
       "      <td>0.919819</td>\n",
       "      <td>0.923299</td>\n",
       "      <td>0.943208</td>\n",
       "      <td>40484</td>\n",
       "      <td>535</td>\n",
       "      <td>41019</td>\n",
       "      <td>643</td>\n",
       "      <td>73148</td>\n",
       "      <td>1330</td>\n",
       "      <td>214</td>\n",
       "      <td>486</td>\n",
       "      <td>615</td>\n",
       "      <td>0.158581</td>\n",
       "      <td>0.188108</td>\n",
       "      <td>0.218188</td>\n",
       "      <td>2.0</td>\n",
       "      <td>3.0</td>\n",
       "      <td>2.0</td>\n",
       "      <td>2.0</td>\n",
       "    </tr>\n",
       "    <tr>\n",
       "      <th>2</th>\n",
       "      <td>36005001600</td>\n",
       "      <td>0.908063</td>\n",
       "      <td>0.925875</td>\n",
       "      <td>0.862742</td>\n",
       "      <td>24732</td>\n",
       "      <td>466</td>\n",
       "      <td>30104</td>\n",
       "      <td>558</td>\n",
       "      <td>33555</td>\n",
       "      <td>823</td>\n",
       "      <td>1462</td>\n",
       "      <td>1517</td>\n",
       "      <td>1617</td>\n",
       "      <td>0.226104</td>\n",
       "      <td>0.222429</td>\n",
       "      <td>0.294323</td>\n",
       "      <td>4.0</td>\n",
       "      <td>4.0</td>\n",
       "      <td>4.0</td>\n",
       "      <td>4.0</td>\n",
       "    </tr>\n",
       "    <tr>\n",
       "      <th>3</th>\n",
       "      <td>36005001900</td>\n",
       "      <td>0.652853</td>\n",
       "      <td>0.830158</td>\n",
       "      <td>0.672415</td>\n",
       "      <td>24823</td>\n",
       "      <td>422</td>\n",
       "      <td>23671</td>\n",
       "      <td>461</td>\n",
       "      <td>25489</td>\n",
       "      <td>870</td>\n",
       "      <td>357</td>\n",
       "      <td>336</td>\n",
       "      <td>505</td>\n",
       "      <td>0.204004</td>\n",
       "      <td>0.233704</td>\n",
       "      <td>0.409588</td>\n",
       "      <td>4.0</td>\n",
       "      <td>4.0</td>\n",
       "      <td>4.0</td>\n",
       "      <td>4.0</td>\n",
       "    </tr>\n",
       "    <tr>\n",
       "      <th>4</th>\n",
       "      <td>36005002000</td>\n",
       "      <td>0.814774</td>\n",
       "      <td>0.779722</td>\n",
       "      <td>0.804094</td>\n",
       "      <td>18762</td>\n",
       "      <td>298</td>\n",
       "      <td>19694</td>\n",
       "      <td>266</td>\n",
       "      <td>30817</td>\n",
       "      <td>455</td>\n",
       "      <td>2570</td>\n",
       "      <td>2601</td>\n",
       "      <td>2618</td>\n",
       "      <td>0.190598</td>\n",
       "      <td>0.162080</td>\n",
       "      <td>0.177175</td>\n",
       "      <td>4.0</td>\n",
       "      <td>4.0</td>\n",
       "      <td>4.0</td>\n",
       "      <td>4.0</td>\n",
       "    </tr>\n",
       "  </tbody>\n",
       "</table>\n",
       "</div>"
      ],
      "text/plain": [
       "         tract  entropy_index_9  entropy_index_0  entropy_index_1  inc_9  \\\n",
       "0  36005000200         0.867149         0.857971         0.921479  38711   \n",
       "1  36005000400         0.919819         0.923299         0.943208  40484   \n",
       "2  36005001600         0.908063         0.925875         0.862742  24732   \n",
       "3  36005001900         0.652853         0.830158         0.672415  24823   \n",
       "4  36005002000         0.814774         0.779722         0.804094  18762   \n",
       "\n",
       "   rent_9  inc_0  rent_0  inc_1  rent_1  r_units_9  r_units_0  r_units_1  \\\n",
       "0     742  50817     730  58368    1273        384        421        635   \n",
       "1     535  41019     643  73148    1330        214        486        615   \n",
       "2     466  30104     558  33555     823       1462       1517       1617   \n",
       "3     422  23671     461  25489     870        357        336        505   \n",
       "4     298  19694     266  30817     455       2570       2601       2618   \n",
       "\n",
       "   ratio_rent_inc_9  ratio_rent_inc_0  ratio_rent_inc_1  rich_9  rich_0  \\\n",
       "0          0.230012          0.172383          0.261719     2.0     2.0   \n",
       "1          0.158581          0.188108          0.218188     2.0     3.0   \n",
       "2          0.226104          0.222429          0.294323     4.0     4.0   \n",
       "3          0.204004          0.233704          0.409588     4.0     4.0   \n",
       "4          0.190598          0.162080          0.177175     4.0     4.0   \n",
       "\n",
       "   rich_1  rich_all  \n",
       "0     2.0       2.0  \n",
       "1     2.0       2.0  \n",
       "2     4.0       4.0  \n",
       "3     4.0       4.0  \n",
       "4     4.0       4.0  "
      ]
     },
     "execution_count": 45,
     "metadata": {},
     "output_type": "execute_result"
    }
   ],
   "source": [
    "df_census.head()"
   ]
  },
  {
   "cell_type": "code",
   "execution_count": 46,
   "metadata": {
    "collapsed": false
   },
   "outputs": [
    {
     "data": {
      "text/html": [
       "<div>\n",
       "<table border=\"1\" class=\"dataframe\">\n",
       "  <thead>\n",
       "    <tr style=\"text-align: right;\">\n",
       "      <th></th>\n",
       "      <th>tract</th>\n",
       "      <th>entropy_index_9</th>\n",
       "      <th>entropy_index_0</th>\n",
       "      <th>entropy_index_1</th>\n",
       "      <th>inc_9</th>\n",
       "      <th>rent_9</th>\n",
       "      <th>inc_0</th>\n",
       "      <th>rent_0</th>\n",
       "      <th>inc_1</th>\n",
       "      <th>rent_1</th>\n",
       "      <th>r_units_9</th>\n",
       "      <th>r_units_0</th>\n",
       "      <th>r_units_1</th>\n",
       "      <th>ratio_rent_inc_9</th>\n",
       "      <th>ratio_rent_inc_0</th>\n",
       "      <th>ratio_rent_inc_1</th>\n",
       "      <th>rich_9</th>\n",
       "      <th>rich_0</th>\n",
       "      <th>rich_1</th>\n",
       "      <th>rich_all</th>\n",
       "    </tr>\n",
       "  </thead>\n",
       "  <tbody>\n",
       "    <tr>\n",
       "      <th>count</th>\n",
       "      <td>2.077000e+03</td>\n",
       "      <td>2077.000000</td>\n",
       "      <td>2077.000000</td>\n",
       "      <td>2077.000000</td>\n",
       "      <td>2077.000000</td>\n",
       "      <td>2077.000000</td>\n",
       "      <td>2077.000000</td>\n",
       "      <td>2077.000000</td>\n",
       "      <td>2077.000000</td>\n",
       "      <td>2077.000000</td>\n",
       "      <td>2077.000000</td>\n",
       "      <td>2077.000000</td>\n",
       "      <td>2077.000000</td>\n",
       "      <td>2077.000000</td>\n",
       "      <td>2077.000000</td>\n",
       "      <td>2077.000000</td>\n",
       "      <td>2077.000000</td>\n",
       "      <td>2077.000000</td>\n",
       "      <td>2077.000000</td>\n",
       "      <td>2077.000000</td>\n",
       "    </tr>\n",
       "    <tr>\n",
       "      <th>mean</th>\n",
       "      <td>3.605455e+10</td>\n",
       "      <td>0.813956</td>\n",
       "      <td>0.807262</td>\n",
       "      <td>0.838069</td>\n",
       "      <td>37733.340876</td>\n",
       "      <td>543.203659</td>\n",
       "      <td>48685.029851</td>\n",
       "      <td>751.435243</td>\n",
       "      <td>65962.064516</td>\n",
       "      <td>1148.824747</td>\n",
       "      <td>962.096774</td>\n",
       "      <td>1008.557535</td>\n",
       "      <td>1028.034184</td>\n",
       "      <td>0.198790</td>\n",
       "      <td>0.214137</td>\n",
       "      <td>0.249021</td>\n",
       "      <td>2.499278</td>\n",
       "      <td>2.498796</td>\n",
       "      <td>2.499278</td>\n",
       "      <td>2.498315</td>\n",
       "    </tr>\n",
       "    <tr>\n",
       "      <th>std</th>\n",
       "      <td>2.595959e+07</td>\n",
       "      <td>0.123108</td>\n",
       "      <td>0.131038</td>\n",
       "      <td>0.136805</td>\n",
       "      <td>18724.271851</td>\n",
       "      <td>148.592375</td>\n",
       "      <td>28336.768464</td>\n",
       "      <td>226.933084</td>\n",
       "      <td>39445.601512</td>\n",
       "      <td>327.845257</td>\n",
       "      <td>899.818493</td>\n",
       "      <td>870.506315</td>\n",
       "      <td>840.615093</td>\n",
       "      <td>0.075942</td>\n",
       "      <td>0.071700</td>\n",
       "      <td>0.100420</td>\n",
       "      <td>1.118518</td>\n",
       "      <td>1.118087</td>\n",
       "      <td>1.118518</td>\n",
       "      <td>1.098967</td>\n",
       "    </tr>\n",
       "    <tr>\n",
       "      <th>min</th>\n",
       "      <td>3.600500e+10</td>\n",
       "      <td>0.194083</td>\n",
       "      <td>0.183020</td>\n",
       "      <td>0.173982</td>\n",
       "      <td>4999.000000</td>\n",
       "      <td>171.000000</td>\n",
       "      <td>9893.000000</td>\n",
       "      <td>195.000000</td>\n",
       "      <td>8542.000000</td>\n",
       "      <td>231.000000</td>\n",
       "      <td>4.000000</td>\n",
       "      <td>9.000000</td>\n",
       "      <td>32.000000</td>\n",
       "      <td>0.067760</td>\n",
       "      <td>0.047473</td>\n",
       "      <td>0.042308</td>\n",
       "      <td>1.000000</td>\n",
       "      <td>1.000000</td>\n",
       "      <td>1.000000</td>\n",
       "      <td>1.000000</td>\n",
       "    </tr>\n",
       "    <tr>\n",
       "      <th>25%</th>\n",
       "      <td>3.604702e+10</td>\n",
       "      <td>0.755000</td>\n",
       "      <td>0.756307</td>\n",
       "      <td>0.786185</td>\n",
       "      <td>25089.000000</td>\n",
       "      <td>453.000000</td>\n",
       "      <td>30720.000000</td>\n",
       "      <td>644.000000</td>\n",
       "      <td>40031.000000</td>\n",
       "      <td>964.000000</td>\n",
       "      <td>357.000000</td>\n",
       "      <td>412.000000</td>\n",
       "      <td>431.000000</td>\n",
       "      <td>0.150818</td>\n",
       "      <td>0.164954</td>\n",
       "      <td>0.181927</td>\n",
       "      <td>1.000000</td>\n",
       "      <td>1.000000</td>\n",
       "      <td>1.000000</td>\n",
       "      <td>2.000000</td>\n",
       "    </tr>\n",
       "    <tr>\n",
       "      <th>50%</th>\n",
       "      <td>3.604712e+10</td>\n",
       "      <td>0.848471</td>\n",
       "      <td>0.846033</td>\n",
       "      <td>0.879284</td>\n",
       "      <td>36221.000000</td>\n",
       "      <td>531.000000</td>\n",
       "      <td>42483.000000</td>\n",
       "      <td>740.000000</td>\n",
       "      <td>56667.000000</td>\n",
       "      <td>1120.000000</td>\n",
       "      <td>718.000000</td>\n",
       "      <td>788.000000</td>\n",
       "      <td>822.000000</td>\n",
       "      <td>0.183669</td>\n",
       "      <td>0.204236</td>\n",
       "      <td>0.235487</td>\n",
       "      <td>2.000000</td>\n",
       "      <td>2.000000</td>\n",
       "      <td>2.000000</td>\n",
       "      <td>2.000000</td>\n",
       "    </tr>\n",
       "    <tr>\n",
       "      <th>75%</th>\n",
       "      <td>3.608103e+10</td>\n",
       "      <td>0.904543</td>\n",
       "      <td>0.896749</td>\n",
       "      <td>0.935426</td>\n",
       "      <td>46843.000000</td>\n",
       "      <td>628.000000</td>\n",
       "      <td>58833.000000</td>\n",
       "      <td>833.000000</td>\n",
       "      <td>80016.000000</td>\n",
       "      <td>1305.000000</td>\n",
       "      <td>1269.000000</td>\n",
       "      <td>1321.000000</td>\n",
       "      <td>1350.000000</td>\n",
       "      <td>0.226971</td>\n",
       "      <td>0.253867</td>\n",
       "      <td>0.300615</td>\n",
       "      <td>3.000000</td>\n",
       "      <td>3.000000</td>\n",
       "      <td>3.000000</td>\n",
       "      <td>3.000000</td>\n",
       "    </tr>\n",
       "    <tr>\n",
       "      <th>max</th>\n",
       "      <td>3.608503e+10</td>\n",
       "      <td>0.982500</td>\n",
       "      <td>0.980721</td>\n",
       "      <td>0.998777</td>\n",
       "      <td>150001.000000</td>\n",
       "      <td>1001.000000</td>\n",
       "      <td>200001.000000</td>\n",
       "      <td>2001.000000</td>\n",
       "      <td>250001.000000</td>\n",
       "      <td>2001.000000</td>\n",
       "      <td>8997.000000</td>\n",
       "      <td>8900.000000</td>\n",
       "      <td>8281.000000</td>\n",
       "      <td>0.885777</td>\n",
       "      <td>0.583245</td>\n",
       "      <td>1.298057</td>\n",
       "      <td>4.000000</td>\n",
       "      <td>4.000000</td>\n",
       "      <td>4.000000</td>\n",
       "      <td>4.000000</td>\n",
       "    </tr>\n",
       "  </tbody>\n",
       "</table>\n",
       "</div>"
      ],
      "text/plain": [
       "              tract  entropy_index_9  entropy_index_0  entropy_index_1  \\\n",
       "count  2.077000e+03      2077.000000      2077.000000      2077.000000   \n",
       "mean   3.605455e+10         0.813956         0.807262         0.838069   \n",
       "std    2.595959e+07         0.123108         0.131038         0.136805   \n",
       "min    3.600500e+10         0.194083         0.183020         0.173982   \n",
       "25%    3.604702e+10         0.755000         0.756307         0.786185   \n",
       "50%    3.604712e+10         0.848471         0.846033         0.879284   \n",
       "75%    3.608103e+10         0.904543         0.896749         0.935426   \n",
       "max    3.608503e+10         0.982500         0.980721         0.998777   \n",
       "\n",
       "               inc_9       rent_9          inc_0       rent_0          inc_1  \\\n",
       "count    2077.000000  2077.000000    2077.000000  2077.000000    2077.000000   \n",
       "mean    37733.340876   543.203659   48685.029851   751.435243   65962.064516   \n",
       "std     18724.271851   148.592375   28336.768464   226.933084   39445.601512   \n",
       "min      4999.000000   171.000000    9893.000000   195.000000    8542.000000   \n",
       "25%     25089.000000   453.000000   30720.000000   644.000000   40031.000000   \n",
       "50%     36221.000000   531.000000   42483.000000   740.000000   56667.000000   \n",
       "75%     46843.000000   628.000000   58833.000000   833.000000   80016.000000   \n",
       "max    150001.000000  1001.000000  200001.000000  2001.000000  250001.000000   \n",
       "\n",
       "            rent_1    r_units_9    r_units_0    r_units_1  ratio_rent_inc_9  \\\n",
       "count  2077.000000  2077.000000  2077.000000  2077.000000       2077.000000   \n",
       "mean   1148.824747   962.096774  1008.557535  1028.034184          0.198790   \n",
       "std     327.845257   899.818493   870.506315   840.615093          0.075942   \n",
       "min     231.000000     4.000000     9.000000    32.000000          0.067760   \n",
       "25%     964.000000   357.000000   412.000000   431.000000          0.150818   \n",
       "50%    1120.000000   718.000000   788.000000   822.000000          0.183669   \n",
       "75%    1305.000000  1269.000000  1321.000000  1350.000000          0.226971   \n",
       "max    2001.000000  8997.000000  8900.000000  8281.000000          0.885777   \n",
       "\n",
       "       ratio_rent_inc_0  ratio_rent_inc_1       rich_9       rich_0  \\\n",
       "count       2077.000000       2077.000000  2077.000000  2077.000000   \n",
       "mean           0.214137          0.249021     2.499278     2.498796   \n",
       "std            0.071700          0.100420     1.118518     1.118087   \n",
       "min            0.047473          0.042308     1.000000     1.000000   \n",
       "25%            0.164954          0.181927     1.000000     1.000000   \n",
       "50%            0.204236          0.235487     2.000000     2.000000   \n",
       "75%            0.253867          0.300615     3.000000     3.000000   \n",
       "max            0.583245          1.298057     4.000000     4.000000   \n",
       "\n",
       "            rich_1     rich_all  \n",
       "count  2077.000000  2077.000000  \n",
       "mean      2.499278     2.498315  \n",
       "std       1.118518     1.098967  \n",
       "min       1.000000     1.000000  \n",
       "25%       1.000000     2.000000  \n",
       "50%       2.000000     2.000000  \n",
       "75%       3.000000     3.000000  \n",
       "max       4.000000     4.000000  "
      ]
     },
     "execution_count": 46,
     "metadata": {},
     "output_type": "execute_result"
    }
   ],
   "source": [
    "df_census.describe()"
   ]
  },
  {
   "cell_type": "code",
   "execution_count": 47,
   "metadata": {
    "collapsed": false
   },
   "outputs": [
    {
     "data": {
      "text/plain": [
       "(2077, 20)"
      ]
     },
     "execution_count": 47,
     "metadata": {},
     "output_type": "execute_result"
    }
   ],
   "source": [
    "df_census.shape"
   ]
  },
  {
   "cell_type": "code",
   "execution_count": 48,
   "metadata": {
    "collapsed": true
   },
   "outputs": [],
   "source": [
    "#df_census.to_csv('civic_census.csv')"
   ]
  },
  {
   "cell_type": "markdown",
   "metadata": {},
   "source": [
    "# 2. Descriptive of change"
   ]
  },
  {
   "cell_type": "code",
   "execution_count": 49,
   "metadata": {
    "collapsed": true
   },
   "outputs": [],
   "source": [
    "df_change = pd.DataFrame()"
   ]
  },
  {
   "cell_type": "code",
   "execution_count": 50,
   "metadata": {
    "collapsed": false
   },
   "outputs": [],
   "source": [
    "df_change['entropy_9_1'] = df_census.entropy_index_1 / df_census.entropy_index_9 -1\n",
    "df_change['rent_9_1'] = df_census.rent_1 / df_census.rent_9 -1\n",
    "df_change['inc_9_1'] = df_census.inc_1 / df_census.inc_9 -1\n",
    "df_change['rent_units_9_1'] = df_census.r_units_1 / df_census.r_units_9 -1\n",
    "df_change['rent_burden_9_1'] = df_census.ratio_rent_inc_1 / df_census.ratio_rent_inc_9 -1"
   ]
  },
  {
   "cell_type": "code",
   "execution_count": 51,
   "metadata": {
    "collapsed": false
   },
   "outputs": [
    {
     "data": {
      "text/plain": [
       "entropy_9_1        0.036438\n",
       "rent_9_1           1.100318\n",
       "inc_9_1            0.665949\n",
       "rent_units_9_1     0.104418\n",
       "rent_burden_9_1    0.245663\n",
       "dtype: float64"
      ]
     },
     "execution_count": 51,
     "metadata": {},
     "output_type": "execute_result"
    }
   ],
   "source": [
    "df_change.median()"
   ]
  },
  {
   "cell_type": "code",
   "execution_count": 52,
   "metadata": {
    "collapsed": false,
    "scrolled": true
   },
   "outputs": [
    {
     "data": {
      "image/png": "[encoded data removed]",
      "text/plain": [
       "<matplotlib.figure.Figure at 0x102c28898>"
      ]
     },
     "metadata": {},
     "output_type": "display_data"
    }
   ],
   "source": [
    "num = range(df_change.shape[1])\n",
    "\n",
    "plt.figure(figsize = (12, 6))\n",
    "plt.boxplot([df_change.iloc[:,i] for i in num])\n",
    "plt.ylim(-1,4)\n",
    "plt.xticks([i+1 for i in num], \n",
    "           ('Income integration', 'Rent', 'Income', 'Rent units', 'Ratio of rent-to-income'),\n",
    "          fontsize = 12)\n",
    "plt.title('Median Income and Rent Change in NYC census tracts between 1990 and 2010', \n",
    "          fontsize = 15)\n",
    "plt.yticks((-0.5,0,0.5,1,2,4), ('-50%', '0', '50%', '100%', '200%', '400%'))\n",
    "#plt.grid()\n",
    "plt.show()"
   ]
  },
  {
   "cell_type": "code",
   "execution_count": 53,
   "metadata": {
    "collapsed": true
   },
   "outputs": [],
   "source": [
    "df_change1 = pd.DataFrame()\n",
    "df_change1['entropy_9_0'] = df_census.entropy_index_0 / df_census.entropy_index_9 -1\n",
    "df_change1['rent_9_0'] = df_census.rent_0 / df_census.rent_9 -1\n",
    "df_change1['inc_9_0'] = df_census.inc_0 / df_census.inc_9 -1\n",
    "df_change1['rent_units_9_0'] = df_census.r_units_0 / df_census.r_units_9 -1\n",
    "df_change1['rent_burden_9_0'] = df_census.ratio_rent_inc_0 / df_census.ratio_rent_inc_9 -1"
   ]
  },
  {
   "cell_type": "code",
   "execution_count": 54,
   "metadata": {
    "collapsed": true
   },
   "outputs": [],
   "source": [
    "df_change2 = pd.DataFrame()\n",
    "df_change2['entropy_0_1'] = df_census.entropy_index_1 / df_census.entropy_index_0 -1\n",
    "df_change2['rent_0_1'] = df_census.rent_1 / df_census.rent_0 -1\n",
    "df_change2['inc_0_1'] = df_census.inc_1 / df_census.inc_0 -1\n",
    "df_change2['rent_units_0_1'] = df_census.r_units_1 / df_census.r_units_0 -1\n",
    "df_change2['rent_burden_0_1'] = df_census.ratio_rent_inc_1 / df_census.ratio_rent_inc_0 -1"
   ]
  },
  {
   "cell_type": "code",
   "execution_count": 55,
   "metadata": {
    "collapsed": false
   },
   "outputs": [
    {
     "data": {
      "image/png": "[encoded data removed]",
      "text/plain": [
       "<matplotlib.figure.Figure at 0x10df75ac8>"
      ]
     },
     "metadata": {},
     "output_type": "display_data"
    }
   ],
   "source": [
    "plt.figure(figsize = (12, 6))\n",
    "plt.bar([i-0.15 for i in num], [df_change1.iloc[:,i].median() for i in num], \n",
    "        width = 0.3, label = '1990-2000')\n",
    "plt.bar([i+0.15 for i in num], [df_change2.iloc[:,i].median() for i in num], \n",
    "        width = 0.3, label = '2000-2010')\n",
    "plt.xticks([i for i in num], \n",
    "           ('Income integration', 'Rent', 'Income', 'Rent units', 'Ratio of rent-to-income'),\n",
    "          fontsize = 12)\n",
    "plt.yticks((-0.05,0, 0.1,0.2,0.3, 0.4,0.5), ('-5%', '0', '10%', '20%', '30%','40%','50%'))\n",
    "plt.title('Median Income and Rent Change in NYC census tracts, 1990-2000 and 2000-2010', \n",
    "          fontsize = 15)\n",
    "plt.legend()\n",
    "plt.show()"
   ]
  },
  {
   "cell_type": "code",
   "execution_count": 56,
   "metadata": {
    "collapsed": false
   },
   "outputs": [
    {
     "data": {
      "image/png": "[encoded data removed]",
      "text/plain": [
       "<matplotlib.figure.Figure at 0x10db16d68>"
      ]
     },
     "metadata": {},
     "output_type": "display_data"
    }
   ],
   "source": [
    "\n",
    "plt.figure(figsize = (12, 6))\n",
    "plt.boxplot([df_census.entropy_index_9, df_census.entropy_index_0, df_census.entropy_index_1])\n",
    "plt.ylim(0.45,1.05)\n",
    "plt.xticks([1,2,3], ('1990','2000','2010'))\n",
    "plt.ylabel('entropy index', fontsize = 15)       \n",
    "plt.title('Income integration level of NYC census tracts, 1990-2010', fontsize = 20)\n",
    "\n",
    "plt.show()"
   ]
  },
  {
   "cell_type": "code",
   "execution_count": 57,
   "metadata": {
    "collapsed": false,
    "scrolled": true
   },
   "outputs": [
    {
     "data": {
      "image/png": "[encoded data removed]",
      "text/plain": [
       "<matplotlib.figure.Figure at 0x10e144c18>"
      ]
     },
     "metadata": {},
     "output_type": "display_data"
    }
   ],
   "source": [
    "plt.figure(figsize = (12, 6))\n",
    "plt.boxplot([df_census.ratio_rent_inc_9 , df_census.ratio_rent_inc_0, df_census.ratio_rent_inc_1])\n",
    "\n",
    "plt.xticks([1,2,3], ('1990','2000','2010'))\n",
    "      \n",
    "plt.title('Rent burden of NYC census tracts, 1990-2010', fontsize = 20)\n",
    "plt.ylim(0,0.6)\n",
    "plt.yticks((0.1,0.2, 0.3, 0.4, 0.5, 0.6), ('10%', '20%', '30%', '40%', '50%', '60%'))\n",
    "plt.ylabel('ratio of rent to income', fontsize = 15)\n",
    "#plt.grid()\n",
    "plt.show()"
   ]
  },
  {
   "cell_type": "code",
   "execution_count": 58,
   "metadata": {
    "collapsed": false
   },
   "outputs": [
    {
     "data": {
      "image/png": "[encoded data removed]",
      "text/plain": [
       "<matplotlib.figure.Figure at 0x10e0c3198>"
      ]
     },
     "metadata": {},
     "output_type": "display_data"
    }
   ],
   "source": [
    "plt.figure(figsize = (12, 6))\n",
    "plt.boxplot([df_census.rent_9, df_census.rent_0, df_census.rent_1])\n",
    "#plt.ylim(-1,5)\n",
    "plt.xticks([1,2,3], ('1990','2000','2010'))\n",
    "      \n",
    "plt.title('Median Rent of NYC census tracts, 1990-2010', fontsize = 20)\n",
    "#plt.ylim(0,0.6)\n",
    "#plt.yticks((0.1,0.2, 0.3, 0.4, 0.5, 0.6), ('10%', '20%', '30%', '40%', '50%', '60%'))\n",
    "plt.ylabel('Monthly Rent($)', fontsize = 15)\n",
    "#plt.grid()\n",
    "plt.show()"
   ]
  },
  {
   "cell_type": "code",
   "execution_count": null,
   "metadata": {
    "collapsed": true
   },
   "outputs": [],
   "source": []
  },
  {
   "cell_type": "markdown",
   "metadata": {},
   "source": [
    "# 3. Combine the data"
   ]
  },
  {
   "cell_type": "code",
   "execution_count": 59,
   "metadata": {
    "collapsed": false
   },
   "outputs": [
    {
     "data": {
      "text/html": [
       "<div>\n",
       "<table border=\"1\" class=\"dataframe\">\n",
       "  <thead>\n",
       "    <tr style=\"text-align: right;\">\n",
       "      <th></th>\n",
       "      <th>tract</th>\n",
       "      <th>entropy_index_9</th>\n",
       "      <th>entropy_index_0</th>\n",
       "      <th>entropy_index_1</th>\n",
       "      <th>inc_9</th>\n",
       "      <th>rent_9</th>\n",
       "      <th>inc_0</th>\n",
       "      <th>rent_0</th>\n",
       "      <th>inc_1</th>\n",
       "      <th>rent_1</th>\n",
       "      <th>...</th>\n",
       "      <th>rent_burden_9_0</th>\n",
       "      <th>entropy_0_1</th>\n",
       "      <th>rent_0_1</th>\n",
       "      <th>inc_0_1</th>\n",
       "      <th>rent_units_0_1</th>\n",
       "      <th>rent_burden_0_1</th>\n",
       "      <th>rich_9</th>\n",
       "      <th>rich_0</th>\n",
       "      <th>rich_1</th>\n",
       "      <th>rich_all</th>\n",
       "    </tr>\n",
       "  </thead>\n",
       "  <tbody>\n",
       "    <tr>\n",
       "      <th>0</th>\n",
       "      <td>36005000200</td>\n",
       "      <td>0.867149</td>\n",
       "      <td>0.857971</td>\n",
       "      <td>0.921479</td>\n",
       "      <td>38711</td>\n",
       "      <td>742</td>\n",
       "      <td>50817</td>\n",
       "      <td>730</td>\n",
       "      <td>58368</td>\n",
       "      <td>1273</td>\n",
       "      <td>...</td>\n",
       "      <td>-0.250547</td>\n",
       "      <td>0.074021</td>\n",
       "      <td>0.743836</td>\n",
       "      <td>0.148592</td>\n",
       "      <td>0.508314</td>\n",
       "      <td>0.518238</td>\n",
       "      <td>2.0</td>\n",
       "      <td>2.0</td>\n",
       "      <td>2.0</td>\n",
       "      <td>2.0</td>\n",
       "    </tr>\n",
       "    <tr>\n",
       "      <th>1</th>\n",
       "      <td>36005000400</td>\n",
       "      <td>0.919819</td>\n",
       "      <td>0.923299</td>\n",
       "      <td>0.943208</td>\n",
       "      <td>40484</td>\n",
       "      <td>535</td>\n",
       "      <td>41019</td>\n",
       "      <td>643</td>\n",
       "      <td>73148</td>\n",
       "      <td>1330</td>\n",
       "      <td>...</td>\n",
       "      <td>0.186193</td>\n",
       "      <td>0.021563</td>\n",
       "      <td>1.068429</td>\n",
       "      <td>0.783271</td>\n",
       "      <td>0.265432</td>\n",
       "      <td>0.159907</td>\n",
       "      <td>2.0</td>\n",
       "      <td>3.0</td>\n",
       "      <td>2.0</td>\n",
       "      <td>2.0</td>\n",
       "    </tr>\n",
       "    <tr>\n",
       "      <th>2</th>\n",
       "      <td>36005001600</td>\n",
       "      <td>0.908063</td>\n",
       "      <td>0.925875</td>\n",
       "      <td>0.862742</td>\n",
       "      <td>24732</td>\n",
       "      <td>466</td>\n",
       "      <td>30104</td>\n",
       "      <td>558</td>\n",
       "      <td>33555</td>\n",
       "      <td>823</td>\n",
       "      <td>...</td>\n",
       "      <td>-0.016253</td>\n",
       "      <td>-0.068188</td>\n",
       "      <td>0.474910</td>\n",
       "      <td>0.114636</td>\n",
       "      <td>0.065920</td>\n",
       "      <td>0.323222</td>\n",
       "      <td>4.0</td>\n",
       "      <td>4.0</td>\n",
       "      <td>4.0</td>\n",
       "      <td>4.0</td>\n",
       "    </tr>\n",
       "    <tr>\n",
       "      <th>3</th>\n",
       "      <td>36005001900</td>\n",
       "      <td>0.652853</td>\n",
       "      <td>0.830158</td>\n",
       "      <td>0.672415</td>\n",
       "      <td>24823</td>\n",
       "      <td>422</td>\n",
       "      <td>23671</td>\n",
       "      <td>461</td>\n",
       "      <td>25489</td>\n",
       "      <td>870</td>\n",
       "      <td>...</td>\n",
       "      <td>0.145582</td>\n",
       "      <td>-0.190016</td>\n",
       "      <td>0.887202</td>\n",
       "      <td>0.076803</td>\n",
       "      <td>0.502976</td>\n",
       "      <td>0.752597</td>\n",
       "      <td>4.0</td>\n",
       "      <td>4.0</td>\n",
       "      <td>4.0</td>\n",
       "      <td>4.0</td>\n",
       "    </tr>\n",
       "    <tr>\n",
       "      <th>4</th>\n",
       "      <td>36005002000</td>\n",
       "      <td>0.814774</td>\n",
       "      <td>0.779722</td>\n",
       "      <td>0.804094</td>\n",
       "      <td>18762</td>\n",
       "      <td>298</td>\n",
       "      <td>19694</td>\n",
       "      <td>266</td>\n",
       "      <td>30817</td>\n",
       "      <td>455</td>\n",
       "      <td>...</td>\n",
       "      <td>-0.149625</td>\n",
       "      <td>0.031258</td>\n",
       "      <td>0.710526</td>\n",
       "      <td>0.564791</td>\n",
       "      <td>0.006536</td>\n",
       "      <td>0.093134</td>\n",
       "      <td>4.0</td>\n",
       "      <td>4.0</td>\n",
       "      <td>4.0</td>\n",
       "      <td>4.0</td>\n",
       "    </tr>\n",
       "  </tbody>\n",
       "</table>\n",
       "<p>5 rows × 30 columns</p>\n",
       "</div>"
      ],
      "text/plain": [
       "         tract  entropy_index_9  entropy_index_0  entropy_index_1  inc_9  \\\n",
       "0  36005000200         0.867149         0.857971         0.921479  38711   \n",
       "1  36005000400         0.919819         0.923299         0.943208  40484   \n",
       "2  36005001600         0.908063         0.925875         0.862742  24732   \n",
       "3  36005001900         0.652853         0.830158         0.672415  24823   \n",
       "4  36005002000         0.814774         0.779722         0.804094  18762   \n",
       "\n",
       "   rent_9  inc_0  rent_0  inc_1  rent_1    ...     rent_burden_9_0  \\\n",
       "0     742  50817     730  58368    1273    ...           -0.250547   \n",
       "1     535  41019     643  73148    1330    ...            0.186193   \n",
       "2     466  30104     558  33555     823    ...           -0.016253   \n",
       "3     422  23671     461  25489     870    ...            0.145582   \n",
       "4     298  19694     266  30817     455    ...           -0.149625   \n",
       "\n",
       "   entropy_0_1  rent_0_1   inc_0_1  rent_units_0_1  rent_burden_0_1  rich_9  \\\n",
       "0     0.074021  0.743836  0.148592        0.508314         0.518238     2.0   \n",
       "1     0.021563  1.068429  0.783271        0.265432         0.159907     2.0   \n",
       "2    -0.068188  0.474910  0.114636        0.065920         0.323222     4.0   \n",
       "3    -0.190016  0.887202  0.076803        0.502976         0.752597     4.0   \n",
       "4     0.031258  0.710526  0.564791        0.006536         0.093134     4.0   \n",
       "\n",
       "   rich_0  rich_1  rich_all  \n",
       "0     2.0     2.0       2.0  \n",
       "1     3.0     2.0       2.0  \n",
       "2     4.0     4.0       4.0  \n",
       "3     4.0     4.0       4.0  \n",
       "4     4.0     4.0       4.0  \n",
       "\n",
       "[5 rows x 30 columns]"
      ]
     },
     "execution_count": 59,
     "metadata": {},
     "output_type": "execute_result"
    }
   ],
   "source": [
    "df1 = pd.concat([df_census.iloc[:,:-4], df_change1, df_change2, df_census.iloc[:,-4:]], axis = 1)\n",
    "df1.head()"
   ]
  },
  {
   "cell_type": "code",
   "execution_count": 60,
   "metadata": {
    "collapsed": false
   },
   "outputs": [
    {
     "data": {
      "text/plain": [
       "(2077, 30)"
      ]
     },
     "execution_count": 60,
     "metadata": {},
     "output_type": "execute_result"
    }
   ],
   "source": [
    "df1.shape"
   ]
  },
  {
   "cell_type": "code",
   "execution_count": 61,
   "metadata": {
    "collapsed": true
   },
   "outputs": [],
   "source": [
    "df1.to_csv('civic_census.csv')"
   ]
  },
  {
   "cell_type": "markdown",
   "metadata": {},
   "source": [
    "# 4. Normalize and drop outliers"
   ]
  },
  {
   "cell_type": "markdown",
   "metadata": {},
   "source": [
    "## 4.1 Normalized"
   ]
  },
  {
   "cell_type": "code",
   "execution_count": 62,
   "metadata": {
    "collapsed": true
   },
   "outputs": [],
   "source": [
    "def normalize(x):\n",
    "    norm = (x - x.min())/(x.max() - x.min())\n",
    "    return norm"
   ]
  },
  {
   "cell_type": "code",
   "execution_count": 63,
   "metadata": {
    "collapsed": false
   },
   "outputs": [
    {
     "data": {
      "text/html": [
       "<div>\n",
       "<table border=\"1\" class=\"dataframe\">\n",
       "  <thead>\n",
       "    <tr style=\"text-align: right;\">\n",
       "      <th></th>\n",
       "      <th>tract</th>\n",
       "      <th>entropy_index_9</th>\n",
       "      <th>entropy_index_0</th>\n",
       "      <th>entropy_index_1</th>\n",
       "      <th>inc_9</th>\n",
       "      <th>rent_9</th>\n",
       "      <th>inc_0</th>\n",
       "      <th>rent_0</th>\n",
       "      <th>inc_1</th>\n",
       "      <th>rent_1</th>\n",
       "      <th>...</th>\n",
       "      <th>rent_burden_9_0</th>\n",
       "      <th>entropy_0_1</th>\n",
       "      <th>rent_0_1</th>\n",
       "      <th>inc_0_1</th>\n",
       "      <th>rent_units_0_1</th>\n",
       "      <th>rent_burden_0_1</th>\n",
       "      <th>rich_9</th>\n",
       "      <th>rich_0</th>\n",
       "      <th>rich_1</th>\n",
       "      <th>rich_all</th>\n",
       "    </tr>\n",
       "  </thead>\n",
       "  <tbody>\n",
       "    <tr>\n",
       "      <th>0</th>\n",
       "      <td>36005000200</td>\n",
       "      <td>0.853692</td>\n",
       "      <td>0.846120</td>\n",
       "      <td>0.906283</td>\n",
       "      <td>0.232493</td>\n",
       "      <td>0.687952</td>\n",
       "      <td>0.215267</td>\n",
       "      <td>0.296235</td>\n",
       "      <td>0.206354</td>\n",
       "      <td>0.588701</td>\n",
       "      <td>...</td>\n",
       "      <td>0.265741</td>\n",
       "      <td>0.364669</td>\n",
       "      <td>0.331641</td>\n",
       "      <td>0.233916</td>\n",
       "      <td>0.013994</td>\n",
       "      <td>0.321608</td>\n",
       "      <td>2.0</td>\n",
       "      <td>2.0</td>\n",
       "      <td>2.0</td>\n",
       "      <td>2.0</td>\n",
       "    </tr>\n",
       "    <tr>\n",
       "      <th>1</th>\n",
       "      <td>36005000400</td>\n",
       "      <td>0.920498</td>\n",
       "      <td>0.928015</td>\n",
       "      <td>0.932628</td>\n",
       "      <td>0.244721</td>\n",
       "      <td>0.438554</td>\n",
       "      <td>0.163728</td>\n",
       "      <td>0.248062</td>\n",
       "      <td>0.267565</td>\n",
       "      <td>0.620904</td>\n",
       "      <td>...</td>\n",
       "      <td>0.484406</td>\n",
       "      <td>0.340919</td>\n",
       "      <td>0.407598</td>\n",
       "      <td>0.392235</td>\n",
       "      <td>0.011502</td>\n",
       "      <td>0.229470</td>\n",
       "      <td>2.0</td>\n",
       "      <td>3.0</td>\n",
       "      <td>2.0</td>\n",
       "      <td>2.0</td>\n",
       "    </tr>\n",
       "    <tr>\n",
       "      <th>2</th>\n",
       "      <td>36005001600</td>\n",
       "      <td>0.905587</td>\n",
       "      <td>0.931245</td>\n",
       "      <td>0.835068</td>\n",
       "      <td>0.136088</td>\n",
       "      <td>0.355422</td>\n",
       "      <td>0.106313</td>\n",
       "      <td>0.200997</td>\n",
       "      <td>0.103591</td>\n",
       "      <td>0.334463</td>\n",
       "      <td>...</td>\n",
       "      <td>0.383046</td>\n",
       "      <td>0.300285</td>\n",
       "      <td>0.268711</td>\n",
       "      <td>0.225446</td>\n",
       "      <td>0.009456</td>\n",
       "      <td>0.271464</td>\n",
       "      <td>4.0</td>\n",
       "      <td>4.0</td>\n",
       "      <td>4.0</td>\n",
       "      <td>4.0</td>\n",
       "    </tr>\n",
       "    <tr>\n",
       "      <th>3</th>\n",
       "      <td>36005001900</td>\n",
       "      <td>0.581888</td>\n",
       "      <td>0.811254</td>\n",
       "      <td>0.604311</td>\n",
       "      <td>0.136715</td>\n",
       "      <td>0.302410</td>\n",
       "      <td>0.072475</td>\n",
       "      <td>0.147287</td>\n",
       "      <td>0.070186</td>\n",
       "      <td>0.361017</td>\n",
       "      <td>...</td>\n",
       "      <td>0.464073</td>\n",
       "      <td>0.245128</td>\n",
       "      <td>0.365190</td>\n",
       "      <td>0.216009</td>\n",
       "      <td>0.013939</td>\n",
       "      <td>0.381870</td>\n",
       "      <td>4.0</td>\n",
       "      <td>4.0</td>\n",
       "      <td>4.0</td>\n",
       "      <td>4.0</td>\n",
       "    </tr>\n",
       "    <tr>\n",
       "      <th>4</th>\n",
       "      <td>36005002000</td>\n",
       "      <td>0.787263</td>\n",
       "      <td>0.748026</td>\n",
       "      <td>0.763963</td>\n",
       "      <td>0.094916</td>\n",
       "      <td>0.153012</td>\n",
       "      <td>0.051555</td>\n",
       "      <td>0.039313</td>\n",
       "      <td>0.092252</td>\n",
       "      <td>0.126554</td>\n",
       "      <td>...</td>\n",
       "      <td>0.316270</td>\n",
       "      <td>0.345308</td>\n",
       "      <td>0.323847</td>\n",
       "      <td>0.337736</td>\n",
       "      <td>0.008846</td>\n",
       "      <td>0.212301</td>\n",
       "      <td>4.0</td>\n",
       "      <td>4.0</td>\n",
       "      <td>4.0</td>\n",
       "      <td>4.0</td>\n",
       "    </tr>\n",
       "  </tbody>\n",
       "</table>\n",
       "<p>5 rows × 30 columns</p>\n",
       "</div>"
      ],
      "text/plain": [
       "         tract  entropy_index_9  entropy_index_0  entropy_index_1     inc_9  \\\n",
       "0  36005000200         0.853692         0.846120         0.906283  0.232493   \n",
       "1  36005000400         0.920498         0.928015         0.932628  0.244721   \n",
       "2  36005001600         0.905587         0.931245         0.835068  0.136088   \n",
       "3  36005001900         0.581888         0.811254         0.604311  0.136715   \n",
       "4  36005002000         0.787263         0.748026         0.763963  0.094916   \n",
       "\n",
       "     rent_9     inc_0    rent_0     inc_1    rent_1    ...     \\\n",
       "0  0.687952  0.215267  0.296235  0.206354  0.588701    ...      \n",
       "1  0.438554  0.163728  0.248062  0.267565  0.620904    ...      \n",
       "2  0.355422  0.106313  0.200997  0.103591  0.334463    ...      \n",
       "3  0.302410  0.072475  0.147287  0.070186  0.361017    ...      \n",
       "4  0.153012  0.051555  0.039313  0.092252  0.126554    ...      \n",
       "\n",
       "   rent_burden_9_0  entropy_0_1  rent_0_1   inc_0_1  rent_units_0_1  \\\n",
       "0         0.265741     0.364669  0.331641  0.233916        0.013994   \n",
       "1         0.484406     0.340919  0.407598  0.392235        0.011502   \n",
       "2         0.383046     0.300285  0.268711  0.225446        0.009456   \n",
       "3         0.464073     0.245128  0.365190  0.216009        0.013939   \n",
       "4         0.316270     0.345308  0.323847  0.337736        0.008846   \n",
       "\n",
       "   rent_burden_0_1  rich_9  rich_0  rich_1  rich_all  \n",
       "0         0.321608     2.0     2.0     2.0       2.0  \n",
       "1         0.229470     2.0     3.0     2.0       2.0  \n",
       "2         0.271464     4.0     4.0     4.0       4.0  \n",
       "3         0.381870     4.0     4.0     4.0       4.0  \n",
       "4         0.212301     4.0     4.0     4.0       4.0  \n",
       "\n",
       "[5 rows x 30 columns]"
      ]
     },
     "execution_count": 63,
     "metadata": {},
     "output_type": "execute_result"
    }
   ],
   "source": [
    "df_normed0 = pd.DataFrame()\n",
    "df_normed0['tract'] = df1['tract']\n",
    "\n",
    "for i in range(1, df1.shape[1]-4):\n",
    "    df_normed0[df1.columns[i]] = normalize(df1.iloc[:,i])\n",
    "\n",
    "df_normed0 = pd.concat([df_normed0, df1.iloc[:,-4:]], axis = 1)\n",
    "\n",
    "df_normed0.head()"
   ]
  },
  {
   "cell_type": "code",
   "execution_count": 64,
   "metadata": {
    "collapsed": false
   },
   "outputs": [
    {
     "data": {
      "text/plain": [
       "(2077, 30)"
      ]
     },
     "execution_count": 64,
     "metadata": {},
     "output_type": "execute_result"
    }
   ],
   "source": [
    "df_normed0.shape"
   ]
  },
  {
   "cell_type": "code",
   "execution_count": 65,
   "metadata": {
    "collapsed": true
   },
   "outputs": [],
   "source": [
    "df_normed0.to_csv('civic_census_normed.csv')"
   ]
  },
  {
   "cell_type": "markdown",
   "metadata": {},
   "source": [
    "## 4.2 drop outliers"
   ]
  },
  {
   "cell_type": "code",
   "execution_count": 66,
   "metadata": {
    "collapsed": true
   },
   "outputs": [],
   "source": [
    "def outlier(x):\n",
    "    outlier = np.mean(x) + 3 * np.std(x)\n",
    "    return outlier"
   ]
  },
  {
   "cell_type": "code",
   "execution_count": 72,
   "metadata": {
    "collapsed": false
   },
   "outputs": [
    {
     "data": {
      "text/plain": [
       "(1770, 30)"
      ]
     },
     "execution_count": 72,
     "metadata": {},
     "output_type": "execute_result"
    }
   ],
   "source": [
    "a = np.ones(df1.shape[0])\n",
    "for i in range(df1.shape[1]):\n",
    "    a0 = df1.iloc[:,i] < outlier(df1.iloc[:,i])\n",
    "    a = a0 * a\n",
    "        \n",
    "df_no_outlier = df1[[bool(i) for i in a]]\n",
    "df_no_outlier.shape"
   ]
  },
  {
   "cell_type": "code",
   "execution_count": 73,
   "metadata": {
    "collapsed": false
   },
   "outputs": [
    {
     "data": {
      "text/html": [
       "<div>\n",
       "<table border=\"1\" class=\"dataframe\">\n",
       "  <thead>\n",
       "    <tr style=\"text-align: right;\">\n",
       "      <th></th>\n",
       "      <th>tract</th>\n",
       "      <th>entropy_index_9</th>\n",
       "      <th>entropy_index_0</th>\n",
       "      <th>entropy_index_1</th>\n",
       "      <th>inc_9</th>\n",
       "      <th>rent_9</th>\n",
       "      <th>inc_0</th>\n",
       "      <th>rent_0</th>\n",
       "      <th>inc_1</th>\n",
       "      <th>rent_1</th>\n",
       "      <th>...</th>\n",
       "      <th>rent_burden_9_0</th>\n",
       "      <th>entropy_0_1</th>\n",
       "      <th>rent_0_1</th>\n",
       "      <th>inc_0_1</th>\n",
       "      <th>rent_units_0_1</th>\n",
       "      <th>rent_burden_0_1</th>\n",
       "      <th>rich_9</th>\n",
       "      <th>rich_0</th>\n",
       "      <th>rich_1</th>\n",
       "      <th>rich_all</th>\n",
       "    </tr>\n",
       "  </thead>\n",
       "  <tbody>\n",
       "    <tr>\n",
       "      <th>0</th>\n",
       "      <td>36005000200</td>\n",
       "      <td>0.867149</td>\n",
       "      <td>0.857971</td>\n",
       "      <td>0.921479</td>\n",
       "      <td>38711</td>\n",
       "      <td>742</td>\n",
       "      <td>50817</td>\n",
       "      <td>730</td>\n",
       "      <td>58368</td>\n",
       "      <td>1273</td>\n",
       "      <td>...</td>\n",
       "      <td>-0.250547</td>\n",
       "      <td>0.074021</td>\n",
       "      <td>0.743836</td>\n",
       "      <td>0.148592</td>\n",
       "      <td>0.508314</td>\n",
       "      <td>0.518238</td>\n",
       "      <td>2.0</td>\n",
       "      <td>2.0</td>\n",
       "      <td>2.0</td>\n",
       "      <td>2.0</td>\n",
       "    </tr>\n",
       "    <tr>\n",
       "      <th>1</th>\n",
       "      <td>36005000400</td>\n",
       "      <td>0.919819</td>\n",
       "      <td>0.923299</td>\n",
       "      <td>0.943208</td>\n",
       "      <td>40484</td>\n",
       "      <td>535</td>\n",
       "      <td>41019</td>\n",
       "      <td>643</td>\n",
       "      <td>73148</td>\n",
       "      <td>1330</td>\n",
       "      <td>...</td>\n",
       "      <td>0.186193</td>\n",
       "      <td>0.021563</td>\n",
       "      <td>1.068429</td>\n",
       "      <td>0.783271</td>\n",
       "      <td>0.265432</td>\n",
       "      <td>0.159907</td>\n",
       "      <td>2.0</td>\n",
       "      <td>3.0</td>\n",
       "      <td>2.0</td>\n",
       "      <td>2.0</td>\n",
       "    </tr>\n",
       "    <tr>\n",
       "      <th>2</th>\n",
       "      <td>36005001600</td>\n",
       "      <td>0.908063</td>\n",
       "      <td>0.925875</td>\n",
       "      <td>0.862742</td>\n",
       "      <td>24732</td>\n",
       "      <td>466</td>\n",
       "      <td>30104</td>\n",
       "      <td>558</td>\n",
       "      <td>33555</td>\n",
       "      <td>823</td>\n",
       "      <td>...</td>\n",
       "      <td>-0.016253</td>\n",
       "      <td>-0.068188</td>\n",
       "      <td>0.474910</td>\n",
       "      <td>0.114636</td>\n",
       "      <td>0.065920</td>\n",
       "      <td>0.323222</td>\n",
       "      <td>4.0</td>\n",
       "      <td>4.0</td>\n",
       "      <td>4.0</td>\n",
       "      <td>4.0</td>\n",
       "    </tr>\n",
       "    <tr>\n",
       "      <th>3</th>\n",
       "      <td>36005001900</td>\n",
       "      <td>0.652853</td>\n",
       "      <td>0.830158</td>\n",
       "      <td>0.672415</td>\n",
       "      <td>24823</td>\n",
       "      <td>422</td>\n",
       "      <td>23671</td>\n",
       "      <td>461</td>\n",
       "      <td>25489</td>\n",
       "      <td>870</td>\n",
       "      <td>...</td>\n",
       "      <td>0.145582</td>\n",
       "      <td>-0.190016</td>\n",
       "      <td>0.887202</td>\n",
       "      <td>0.076803</td>\n",
       "      <td>0.502976</td>\n",
       "      <td>0.752597</td>\n",
       "      <td>4.0</td>\n",
       "      <td>4.0</td>\n",
       "      <td>4.0</td>\n",
       "      <td>4.0</td>\n",
       "    </tr>\n",
       "    <tr>\n",
       "      <th>4</th>\n",
       "      <td>36005002000</td>\n",
       "      <td>0.814774</td>\n",
       "      <td>0.779722</td>\n",
       "      <td>0.804094</td>\n",
       "      <td>18762</td>\n",
       "      <td>298</td>\n",
       "      <td>19694</td>\n",
       "      <td>266</td>\n",
       "      <td>30817</td>\n",
       "      <td>455</td>\n",
       "      <td>...</td>\n",
       "      <td>-0.149625</td>\n",
       "      <td>0.031258</td>\n",
       "      <td>0.710526</td>\n",
       "      <td>0.564791</td>\n",
       "      <td>0.006536</td>\n",
       "      <td>0.093134</td>\n",
       "      <td>4.0</td>\n",
       "      <td>4.0</td>\n",
       "      <td>4.0</td>\n",
       "      <td>4.0</td>\n",
       "    </tr>\n",
       "  </tbody>\n",
       "</table>\n",
       "<p>5 rows × 30 columns</p>\n",
       "</div>"
      ],
      "text/plain": [
       "         tract  entropy_index_9  entropy_index_0  entropy_index_1  inc_9  \\\n",
       "0  36005000200         0.867149         0.857971         0.921479  38711   \n",
       "1  36005000400         0.919819         0.923299         0.943208  40484   \n",
       "2  36005001600         0.908063         0.925875         0.862742  24732   \n",
       "3  36005001900         0.652853         0.830158         0.672415  24823   \n",
       "4  36005002000         0.814774         0.779722         0.804094  18762   \n",
       "\n",
       "   rent_9  inc_0  rent_0  inc_1  rent_1    ...     rent_burden_9_0  \\\n",
       "0     742  50817     730  58368    1273    ...           -0.250547   \n",
       "1     535  41019     643  73148    1330    ...            0.186193   \n",
       "2     466  30104     558  33555     823    ...           -0.016253   \n",
       "3     422  23671     461  25489     870    ...            0.145582   \n",
       "4     298  19694     266  30817     455    ...           -0.149625   \n",
       "\n",
       "   entropy_0_1  rent_0_1   inc_0_1  rent_units_0_1  rent_burden_0_1  rich_9  \\\n",
       "0     0.074021  0.743836  0.148592        0.508314         0.518238     2.0   \n",
       "1     0.021563  1.068429  0.783271        0.265432         0.159907     2.0   \n",
       "2    -0.068188  0.474910  0.114636        0.065920         0.323222     4.0   \n",
       "3    -0.190016  0.887202  0.076803        0.502976         0.752597     4.0   \n",
       "4     0.031258  0.710526  0.564791        0.006536         0.093134     4.0   \n",
       "\n",
       "   rich_0  rich_1  rich_all  \n",
       "0     2.0     2.0       2.0  \n",
       "1     3.0     2.0       2.0  \n",
       "2     4.0     4.0       4.0  \n",
       "3     4.0     4.0       4.0  \n",
       "4     4.0     4.0       4.0  \n",
       "\n",
       "[5 rows x 30 columns]"
      ]
     },
     "execution_count": 73,
     "metadata": {},
     "output_type": "execute_result"
    }
   ],
   "source": [
    "df_no_outlier.head()"
   ]
  },
  {
   "cell_type": "code",
   "execution_count": 74,
   "metadata": {
    "collapsed": true
   },
   "outputs": [],
   "source": [
    "df_no_outlier.to_csv('civic_census_dropoutliers.csv')"
   ]
  },
  {
   "cell_type": "markdown",
   "metadata": {},
   "source": [
    "## 4.3 Normalized and no outliers"
   ]
  },
  {
   "cell_type": "code",
   "execution_count": 81,
   "metadata": {
    "collapsed": false
   },
   "outputs": [
    {
     "data": {
      "text/html": [
       "<div>\n",
       "<table border=\"1\" class=\"dataframe\">\n",
       "  <thead>\n",
       "    <tr style=\"text-align: right;\">\n",
       "      <th></th>\n",
       "      <th>tract</th>\n",
       "      <th>entropy_index_9</th>\n",
       "      <th>entropy_index_0</th>\n",
       "      <th>entropy_index_1</th>\n",
       "      <th>inc_9</th>\n",
       "      <th>rent_9</th>\n",
       "      <th>inc_0</th>\n",
       "      <th>rent_0</th>\n",
       "      <th>inc_1</th>\n",
       "      <th>rent_1</th>\n",
       "      <th>...</th>\n",
       "      <th>rent_burden_9_0</th>\n",
       "      <th>entropy_0_1</th>\n",
       "      <th>rent_0_1</th>\n",
       "      <th>inc_0_1</th>\n",
       "      <th>rent_units_0_1</th>\n",
       "      <th>rent_burden_0_1</th>\n",
       "      <th>rich_9</th>\n",
       "      <th>rich_0</th>\n",
       "      <th>rich_1</th>\n",
       "      <th>rich_all</th>\n",
       "    </tr>\n",
       "  </thead>\n",
       "  <tbody>\n",
       "    <tr>\n",
       "      <th>0</th>\n",
       "      <td>36005000200</td>\n",
       "      <td>0.793073</td>\n",
       "      <td>0.781640</td>\n",
       "      <td>0.905241</td>\n",
       "      <td>0.377683</td>\n",
       "      <td>0.711970</td>\n",
       "      <td>0.324224</td>\n",
       "      <td>0.437449</td>\n",
       "      <td>0.277105</td>\n",
       "      <td>0.572770</td>\n",
       "      <td>...</td>\n",
       "      <td>0.170053</td>\n",
       "      <td>0.633739</td>\n",
       "      <td>0.710826</td>\n",
       "      <td>0.326530</td>\n",
       "      <td>0.192816</td>\n",
       "      <td>0.649818</td>\n",
       "      <td>2.0</td>\n",
       "      <td>2.0</td>\n",
       "      <td>2.0</td>\n",
       "      <td>2.0</td>\n",
       "    </tr>\n",
       "    <tr>\n",
       "      <th>1</th>\n",
       "      <td>36005000400</td>\n",
       "      <td>0.887558</td>\n",
       "      <td>0.897852</td>\n",
       "      <td>0.931879</td>\n",
       "      <td>0.399758</td>\n",
       "      <td>0.453865</td>\n",
       "      <td>0.243885</td>\n",
       "      <td>0.366312</td>\n",
       "      <td>0.362769</td>\n",
       "      <td>0.606221</td>\n",
       "      <td>...</td>\n",
       "      <td>0.489531</td>\n",
       "      <td>0.588810</td>\n",
       "      <td>0.873628</td>\n",
       "      <td>0.656091</td>\n",
       "      <td>0.158484</td>\n",
       "      <td>0.463651</td>\n",
       "      <td>2.0</td>\n",
       "      <td>3.0</td>\n",
       "      <td>2.0</td>\n",
       "      <td>2.0</td>\n",
       "    </tr>\n",
       "    <tr>\n",
       "      <th>2</th>\n",
       "      <td>36005001600</td>\n",
       "      <td>0.866469</td>\n",
       "      <td>0.902434</td>\n",
       "      <td>0.833235</td>\n",
       "      <td>0.203633</td>\n",
       "      <td>0.367830</td>\n",
       "      <td>0.154388</td>\n",
       "      <td>0.296811</td>\n",
       "      <td>0.133290</td>\n",
       "      <td>0.308685</td>\n",
       "      <td>...</td>\n",
       "      <td>0.341440</td>\n",
       "      <td>0.511940</td>\n",
       "      <td>0.575944</td>\n",
       "      <td>0.308898</td>\n",
       "      <td>0.130283</td>\n",
       "      <td>0.548499</td>\n",
       "      <td>4.0</td>\n",
       "      <td>4.0</td>\n",
       "      <td>4.0</td>\n",
       "      <td>4.0</td>\n",
       "    </tr>\n",
       "    <tr>\n",
       "      <th>3</th>\n",
       "      <td>36005001900</td>\n",
       "      <td>0.408653</td>\n",
       "      <td>0.732163</td>\n",
       "      <td>0.599914</td>\n",
       "      <td>0.204766</td>\n",
       "      <td>0.312968</td>\n",
       "      <td>0.101641</td>\n",
       "      <td>0.217498</td>\n",
       "      <td>0.086539</td>\n",
       "      <td>0.336268</td>\n",
       "      <td>...</td>\n",
       "      <td>0.459824</td>\n",
       "      <td>0.407595</td>\n",
       "      <td>0.782732</td>\n",
       "      <td>0.289253</td>\n",
       "      <td>0.192062</td>\n",
       "      <td>0.771578</td>\n",
       "      <td>4.0</td>\n",
       "      <td>4.0</td>\n",
       "      <td>4.0</td>\n",
       "      <td>4.0</td>\n",
       "    </tr>\n",
       "    <tr>\n",
       "      <th>4</th>\n",
       "      <td>36005002000</td>\n",
       "      <td>0.699120</td>\n",
       "      <td>0.642441</td>\n",
       "      <td>0.761340</td>\n",
       "      <td>0.129302</td>\n",
       "      <td>0.158354</td>\n",
       "      <td>0.069031</td>\n",
       "      <td>0.058054</td>\n",
       "      <td>0.117420</td>\n",
       "      <td>0.092723</td>\n",
       "      <td>...</td>\n",
       "      <td>0.243878</td>\n",
       "      <td>0.597114</td>\n",
       "      <td>0.694119</td>\n",
       "      <td>0.542644</td>\n",
       "      <td>0.121889</td>\n",
       "      <td>0.428959</td>\n",
       "      <td>4.0</td>\n",
       "      <td>4.0</td>\n",
       "      <td>4.0</td>\n",
       "      <td>4.0</td>\n",
       "    </tr>\n",
       "  </tbody>\n",
       "</table>\n",
       "<p>5 rows × 30 columns</p>\n",
       "</div>"
      ],
      "text/plain": [
       "         tract  entropy_index_9  entropy_index_0  entropy_index_1     inc_9  \\\n",
       "0  36005000200         0.793073         0.781640         0.905241  0.377683   \n",
       "1  36005000400         0.887558         0.897852         0.931879  0.399758   \n",
       "2  36005001600         0.866469         0.902434         0.833235  0.203633   \n",
       "3  36005001900         0.408653         0.732163         0.599914  0.204766   \n",
       "4  36005002000         0.699120         0.642441         0.761340  0.129302   \n",
       "\n",
       "     rent_9     inc_0    rent_0     inc_1    rent_1    ...     \\\n",
       "0  0.711970  0.324224  0.437449  0.277105  0.572770    ...      \n",
       "1  0.453865  0.243885  0.366312  0.362769  0.606221    ...      \n",
       "2  0.367830  0.154388  0.296811  0.133290  0.308685    ...      \n",
       "3  0.312968  0.101641  0.217498  0.086539  0.336268    ...      \n",
       "4  0.158354  0.069031  0.058054  0.117420  0.092723    ...      \n",
       "\n",
       "   rent_burden_9_0  entropy_0_1  rent_0_1   inc_0_1  rent_units_0_1  \\\n",
       "0         0.170053     0.633739  0.710826  0.326530        0.192816   \n",
       "1         0.489531     0.588810  0.873628  0.656091        0.158484   \n",
       "2         0.341440     0.511940  0.575944  0.308898        0.130283   \n",
       "3         0.459824     0.407595  0.782732  0.289253        0.192062   \n",
       "4         0.243878     0.597114  0.694119  0.542644        0.121889   \n",
       "\n",
       "   rent_burden_0_1  rich_9  rich_0  rich_1  rich_all  \n",
       "0         0.649818     2.0     2.0     2.0       2.0  \n",
       "1         0.463651     2.0     3.0     2.0       2.0  \n",
       "2         0.548499     4.0     4.0     4.0       4.0  \n",
       "3         0.771578     4.0     4.0     4.0       4.0  \n",
       "4         0.428959     4.0     4.0     4.0       4.0  \n",
       "\n",
       "[5 rows x 30 columns]"
      ]
     },
     "execution_count": 81,
     "metadata": {},
     "output_type": "execute_result"
    }
   ],
   "source": [
    "df_normed = pd.DataFrame()\n",
    "df_normed['tract'] = df2['tract']\n",
    "\n",
    "for i in range(1, df2.shape[1]-4):\n",
    "    df_normed[df2.columns[i]] = normalize(df2.iloc[:,i])\n",
    "\n",
    "df_normed = pd.concat([df_normed, df2.iloc[:,-4:]], axis = 1)\n",
    "\n",
    "df_normed.head()"
   ]
  },
  {
   "cell_type": "code",
   "execution_count": 82,
   "metadata": {
    "collapsed": false
   },
   "outputs": [
    {
     "data": {
      "text/html": [
       "<div>\n",
       "<table border=\"1\" class=\"dataframe\">\n",
       "  <thead>\n",
       "    <tr style=\"text-align: right;\">\n",
       "      <th></th>\n",
       "      <th>tract</th>\n",
       "      <th>entropy_index_9</th>\n",
       "      <th>entropy_index_0</th>\n",
       "      <th>entropy_index_1</th>\n",
       "      <th>inc_9</th>\n",
       "      <th>rent_9</th>\n",
       "      <th>inc_0</th>\n",
       "      <th>rent_0</th>\n",
       "      <th>inc_1</th>\n",
       "      <th>rent_1</th>\n",
       "      <th>...</th>\n",
       "      <th>rent_burden_9_0</th>\n",
       "      <th>entropy_0_1</th>\n",
       "      <th>rent_0_1</th>\n",
       "      <th>inc_0_1</th>\n",
       "      <th>rent_units_0_1</th>\n",
       "      <th>rent_burden_0_1</th>\n",
       "      <th>rich_9</th>\n",
       "      <th>rich_0</th>\n",
       "      <th>rich_1</th>\n",
       "      <th>rich_all</th>\n",
       "    </tr>\n",
       "  </thead>\n",
       "  <tbody>\n",
       "    <tr>\n",
       "      <th>count</th>\n",
       "      <td>1.770000e+03</td>\n",
       "      <td>1770.000000</td>\n",
       "      <td>1770.000000</td>\n",
       "      <td>1770.000000</td>\n",
       "      <td>1770.000000</td>\n",
       "      <td>1770.000000</td>\n",
       "      <td>1770.000000</td>\n",
       "      <td>1770.000000</td>\n",
       "      <td>1770.000000</td>\n",
       "      <td>1770.000000</td>\n",
       "      <td>...</td>\n",
       "      <td>1770.000000</td>\n",
       "      <td>1770.000000</td>\n",
       "      <td>1770.000000</td>\n",
       "      <td>1770.000000</td>\n",
       "      <td>1770.000000</td>\n",
       "      <td>1770.000000</td>\n",
       "      <td>1770.000000</td>\n",
       "      <td>1770.000000</td>\n",
       "      <td>1770.000000</td>\n",
       "      <td>1770.000000</td>\n",
       "    </tr>\n",
       "    <tr>\n",
       "      <th>mean</th>\n",
       "      <td>3.605516e+10</td>\n",
       "      <td>0.744915</td>\n",
       "      <td>0.736447</td>\n",
       "      <td>0.835659</td>\n",
       "      <td>0.345435</td>\n",
       "      <td>0.456501</td>\n",
       "      <td>0.275526</td>\n",
       "      <td>0.434808</td>\n",
       "      <td>0.288839</td>\n",
       "      <td>0.479359</td>\n",
       "      <td>...</td>\n",
       "      <td>0.442381</td>\n",
       "      <td>0.607738</td>\n",
       "      <td>0.608756</td>\n",
       "      <td>0.438129</td>\n",
       "      <td>0.129586</td>\n",
       "      <td>0.472123</td>\n",
       "      <td>2.517514</td>\n",
       "      <td>2.535593</td>\n",
       "      <td>2.544633</td>\n",
       "      <td>2.532203</td>\n",
       "    </tr>\n",
       "    <tr>\n",
       "      <th>std</th>\n",
       "      <td>2.625915e+07</td>\n",
       "      <td>0.165320</td>\n",
       "      <td>0.169541</td>\n",
       "      <td>0.129219</td>\n",
       "      <td>0.167771</td>\n",
       "      <td>0.164215</td>\n",
       "      <td>0.151900</td>\n",
       "      <td>0.137582</td>\n",
       "      <td>0.156125</td>\n",
       "      <td>0.166306</td>\n",
       "      <td>...</td>\n",
       "      <td>0.168241</td>\n",
       "      <td>0.098964</td>\n",
       "      <td>0.107977</td>\n",
       "      <td>0.153185</td>\n",
       "      <td>0.046213</td>\n",
       "      <td>0.143574</td>\n",
       "      <td>1.061148</td>\n",
       "      <td>1.067072</td>\n",
       "      <td>1.069378</td>\n",
       "      <td>1.047937</td>\n",
       "    </tr>\n",
       "    <tr>\n",
       "      <th>min</th>\n",
       "      <td>3.600500e+10</td>\n",
       "      <td>0.000000</td>\n",
       "      <td>0.000000</td>\n",
       "      <td>0.000000</td>\n",
       "      <td>0.000000</td>\n",
       "      <td>0.000000</td>\n",
       "      <td>0.000000</td>\n",
       "      <td>0.000000</td>\n",
       "      <td>0.000000</td>\n",
       "      <td>0.000000</td>\n",
       "      <td>...</td>\n",
       "      <td>0.000000</td>\n",
       "      <td>0.000000</td>\n",
       "      <td>0.000000</td>\n",
       "      <td>0.000000</td>\n",
       "      <td>0.000000</td>\n",
       "      <td>0.000000</td>\n",
       "      <td>1.000000</td>\n",
       "      <td>1.000000</td>\n",
       "      <td>1.000000</td>\n",
       "      <td>1.000000</td>\n",
       "    </tr>\n",
       "    <tr>\n",
       "      <th>25%</th>\n",
       "      <td>3.604702e+10</td>\n",
       "      <td>0.645104</td>\n",
       "      <td>0.650487</td>\n",
       "      <td>0.777626</td>\n",
       "      <td>0.221478</td>\n",
       "      <td>0.362843</td>\n",
       "      <td>0.164697</td>\n",
       "      <td>0.375307</td>\n",
       "      <td>0.176171</td>\n",
       "      <td>0.393192</td>\n",
       "      <td>...</td>\n",
       "      <td>0.323281</td>\n",
       "      <td>0.553448</td>\n",
       "      <td>0.546473</td>\n",
       "      <td>0.331548</td>\n",
       "      <td>0.112340</td>\n",
       "      <td>0.373528</td>\n",
       "      <td>2.000000</td>\n",
       "      <td>2.000000</td>\n",
       "      <td>2.000000</td>\n",
       "      <td>2.000000</td>\n",
       "    </tr>\n",
       "    <tr>\n",
       "      <th>50%</th>\n",
       "      <td>3.604710e+10</td>\n",
       "      <td>0.789866</td>\n",
       "      <td>0.781141</td>\n",
       "      <td>0.872607</td>\n",
       "      <td>0.344209</td>\n",
       "      <td>0.448878</td>\n",
       "      <td>0.252663</td>\n",
       "      <td>0.443990</td>\n",
       "      <td>0.262461</td>\n",
       "      <td>0.477993</td>\n",
       "      <td>...</td>\n",
       "      <td>0.426450</td>\n",
       "      <td>0.604000</td>\n",
       "      <td>0.600609</td>\n",
       "      <td>0.422468</td>\n",
       "      <td>0.122917</td>\n",
       "      <td>0.456391</td>\n",
       "      <td>3.000000</td>\n",
       "      <td>3.000000</td>\n",
       "      <td>3.000000</td>\n",
       "      <td>3.000000</td>\n",
       "    </tr>\n",
       "    <tr>\n",
       "      <th>75%</th>\n",
       "      <td>3.608104e+10</td>\n",
       "      <td>0.869258</td>\n",
       "      <td>0.861088</td>\n",
       "      <td>0.928523</td>\n",
       "      <td>0.461013</td>\n",
       "      <td>0.559850</td>\n",
       "      <td>0.366722</td>\n",
       "      <td>0.507768</td>\n",
       "      <td>0.375694</td>\n",
       "      <td>0.568075</td>\n",
       "      <td>...</td>\n",
       "      <td>0.549075</td>\n",
       "      <td>0.657985</td>\n",
       "      <td>0.661503</td>\n",
       "      <td>0.520698</td>\n",
       "      <td>0.137560</td>\n",
       "      <td>0.554012</td>\n",
       "      <td>3.000000</td>\n",
       "      <td>3.000000</td>\n",
       "      <td>3.000000</td>\n",
       "      <td>3.000000</td>\n",
       "    </tr>\n",
       "    <tr>\n",
       "      <th>max</th>\n",
       "      <td>3.608503e+10</td>\n",
       "      <td>1.000000</td>\n",
       "      <td>1.000000</td>\n",
       "      <td>1.000000</td>\n",
       "      <td>1.000000</td>\n",
       "      <td>1.000000</td>\n",
       "      <td>1.000000</td>\n",
       "      <td>1.000000</td>\n",
       "      <td>1.000000</td>\n",
       "      <td>1.000000</td>\n",
       "      <td>...</td>\n",
       "      <td>1.000000</td>\n",
       "      <td>1.000000</td>\n",
       "      <td>1.000000</td>\n",
       "      <td>1.000000</td>\n",
       "      <td>1.000000</td>\n",
       "      <td>1.000000</td>\n",
       "      <td>4.000000</td>\n",
       "      <td>4.000000</td>\n",
       "      <td>4.000000</td>\n",
       "      <td>4.000000</td>\n",
       "    </tr>\n",
       "  </tbody>\n",
       "</table>\n",
       "<p>8 rows × 30 columns</p>\n",
       "</div>"
      ],
      "text/plain": [
       "              tract  entropy_index_9  entropy_index_0  entropy_index_1  \\\n",
       "count  1.770000e+03      1770.000000      1770.000000      1770.000000   \n",
       "mean   3.605516e+10         0.744915         0.736447         0.835659   \n",
       "std    2.625915e+07         0.165320         0.169541         0.129219   \n",
       "min    3.600500e+10         0.000000         0.000000         0.000000   \n",
       "25%    3.604702e+10         0.645104         0.650487         0.777626   \n",
       "50%    3.604710e+10         0.789866         0.781141         0.872607   \n",
       "75%    3.608104e+10         0.869258         0.861088         0.928523   \n",
       "max    3.608503e+10         1.000000         1.000000         1.000000   \n",
       "\n",
       "             inc_9       rent_9        inc_0       rent_0        inc_1  \\\n",
       "count  1770.000000  1770.000000  1770.000000  1770.000000  1770.000000   \n",
       "mean      0.345435     0.456501     0.275526     0.434808     0.288839   \n",
       "std       0.167771     0.164215     0.151900     0.137582     0.156125   \n",
       "min       0.000000     0.000000     0.000000     0.000000     0.000000   \n",
       "25%       0.221478     0.362843     0.164697     0.375307     0.176171   \n",
       "50%       0.344209     0.448878     0.252663     0.443990     0.262461   \n",
       "75%       0.461013     0.559850     0.366722     0.507768     0.375694   \n",
       "max       1.000000     1.000000     1.000000     1.000000     1.000000   \n",
       "\n",
       "            rent_1     ...       rent_burden_9_0  entropy_0_1     rent_0_1  \\\n",
       "count  1770.000000     ...           1770.000000  1770.000000  1770.000000   \n",
       "mean      0.479359     ...              0.442381     0.607738     0.608756   \n",
       "std       0.166306     ...              0.168241     0.098964     0.107977   \n",
       "min       0.000000     ...              0.000000     0.000000     0.000000   \n",
       "25%       0.393192     ...              0.323281     0.553448     0.546473   \n",
       "50%       0.477993     ...              0.426450     0.604000     0.600609   \n",
       "75%       0.568075     ...              0.549075     0.657985     0.661503   \n",
       "max       1.000000     ...              1.000000     1.000000     1.000000   \n",
       "\n",
       "           inc_0_1  rent_units_0_1  rent_burden_0_1       rich_9       rich_0  \\\n",
       "count  1770.000000     1770.000000      1770.000000  1770.000000  1770.000000   \n",
       "mean      0.438129        0.129586         0.472123     2.517514     2.535593   \n",
       "std       0.153185        0.046213         0.143574     1.061148     1.067072   \n",
       "min       0.000000        0.000000         0.000000     1.000000     1.000000   \n",
       "25%       0.331548        0.112340         0.373528     2.000000     2.000000   \n",
       "50%       0.422468        0.122917         0.456391     3.000000     3.000000   \n",
       "75%       0.520698        0.137560         0.554012     3.000000     3.000000   \n",
       "max       1.000000        1.000000         1.000000     4.000000     4.000000   \n",
       "\n",
       "            rich_1     rich_all  \n",
       "count  1770.000000  1770.000000  \n",
       "mean      2.544633     2.532203  \n",
       "std       1.069378     1.047937  \n",
       "min       1.000000     1.000000  \n",
       "25%       2.000000     2.000000  \n",
       "50%       3.000000     3.000000  \n",
       "75%       3.000000     3.000000  \n",
       "max       4.000000     4.000000  \n",
       "\n",
       "[8 rows x 30 columns]"
      ]
     },
     "execution_count": 82,
     "metadata": {},
     "output_type": "execute_result"
    }
   ],
   "source": [
    "df_normed.describe()"
   ]
  },
  {
   "cell_type": "code",
   "execution_count": 83,
   "metadata": {
    "collapsed": false
   },
   "outputs": [
    {
     "data": {
      "text/plain": [
       "(1770, 30)"
      ]
     },
     "execution_count": 83,
     "metadata": {},
     "output_type": "execute_result"
    }
   ],
   "source": [
    "df_normed.shape"
   ]
  },
  {
   "cell_type": "code",
   "execution_count": 84,
   "metadata": {
    "collapsed": true
   },
   "outputs": [],
   "source": [
    "df_normed.to_csv('civic_census_normed_dropoutliers.csv')"
   ]
  },
  {
   "cell_type": "code",
   "execution_count": null,
   "metadata": {
    "collapsed": true
   },
   "outputs": [],
   "source": []
  }
 ],
 "metadata": {
  "kernelspec": {
   "display_name": "Python 3",
   "language": "python",
   "name": "python3"
  },
  "language_info": {
   "codemirror_mode": {
    "name": "ipython",
    "version": 3
   },
   "file_extension": ".py",
   "mimetype": "text/x-python",
   "name": "python",
   "nbconvert_exporter": "python",
   "pygments_lexer": "ipython3",
   "version": "3.6.0"
  }
 },
 "nbformat": 4,
 "nbformat_minor": 2
}
